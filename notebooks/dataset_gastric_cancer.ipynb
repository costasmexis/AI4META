{
 "cells": [
  {
   "cell_type": "code",
   "execution_count": 15,
   "metadata": {},
   "outputs": [
    {
     "name": "stdout",
     "output_type": "stream",
     "text": [
      "Sheets: ['Data', 'Peak']\n",
      "Dataframe shape: (83, 150)\n",
      "\n",
      " ** Target variable distribution ** \n",
      "GC    43\n",
      "HE    40\n",
      "Name: Class, dtype: int64\n"
     ]
    }
   ],
   "source": [
    "import warnings\n",
    "warnings.filterwarnings('ignore')\n",
    "import pandas as pd\n",
    "\n",
    "xlsx = pd.ExcelFile('../data/raw/ST001047.xlsx')\n",
    "print(f'Sheets: {xlsx.sheet_names}')\n",
    "\n",
    "df = pd.read_excel(xlsx, sheet_name=xlsx.sheet_names[0])\n",
    "names = pd.read_excel(xlsx, sheet_name=xlsx.sheet_names[1])\n",
    "\n",
    "df.drop(columns=['Idx', 'SampleID', 'SampleType'], inplace=True)\n",
    "\n",
    "# Keep only rows with Class = 'GC' or 'HE'\n",
    "df = df[df['Class'].isin(['GC', 'HE'])]\n",
    "\n",
    "print(f'Dataframe shape: {df.shape}')\n",
    "print()\n",
    "print(' ** Target variable distribution ** ')\n",
    "print(df['Class'].value_counts())\n",
    "\n",
    "df.to_csv('../data/gastric_cancer.csv', index=False)"
   ]
  }
 ],
 "metadata": {
  "kernelspec": {
   "display_name": "main",
   "language": "python",
   "name": "python3"
  },
  "language_info": {
   "codemirror_mode": {
    "name": "ipython",
    "version": 3
   },
   "file_extension": ".py",
   "mimetype": "text/x-python",
   "name": "python",
   "nbconvert_exporter": "python",
   "pygments_lexer": "ipython3",
   "version": "3.10.12"
  }
 },
 "nbformat": 4,
 "nbformat_minor": 2
}
