{
 "cells": [
  {
   "cell_type": "code",
   "execution_count": 10,
   "metadata": {},
   "outputs": [
    {
     "name": "stdout",
     "output_type": "stream",
     "text": [
      "Sheets: ['Data', 'Peak']\n",
      "Dataframe shape: (80, 182)\n",
      "\n",
      "** Target variable distribution **\n",
      "1.0    49\n",
      "0.0    31\n",
      "Name: Class, dtype: int64\n"
     ]
    }
   ],
   "source": [
    "import pandas as pd\n",
    "\n",
    "xlsx = pd.ExcelFile('../data/raw/ST000369.xlsx')\n",
    "print(f'Sheets: {xlsx.sheet_names}')\n",
    "\n",
    "df = pd.read_excel(xlsx, sheet_name=xlsx.sheet_names[0])\n",
    "names = pd.read_excel(xlsx, sheet_name=xlsx.sheet_names[1])\n",
    "\n",
    "df.drop(columns=['Idx', 'SampleID', 'HealthState', 'SampleType', 'SmokingStatus', 'Sex'], inplace=True)\n",
    "\n",
    "# Drop rows with missing values in 'Class' column\n",
    "df.dropna(subset=['Class'], inplace=True)\n",
    "print(f'Dataframe shape: {df.shape}')\n",
    "print()\n",
    "print('** Target variable distribution **')\n",
    "print(df['Class'].value_counts())\n",
    "\n",
    "df.to_csv('../data/lung_cancer.csv', index=False)"
   ]
  }
 ],
 "metadata": {
  "kernelspec": {
   "display_name": "main",
   "language": "python",
   "name": "python3"
  },
  "language_info": {
   "codemirror_mode": {
    "name": "ipython",
    "version": 3
   },
   "file_extension": ".py",
   "mimetype": "text/x-python",
   "name": "python",
   "nbconvert_exporter": "python",
   "pygments_lexer": "ipython3",
   "version": "3.10.12"
  }
 },
 "nbformat": 4,
 "nbformat_minor": 2
}
