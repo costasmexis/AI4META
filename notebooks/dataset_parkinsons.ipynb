{
 "cells": [
  {
   "cell_type": "code",
   "execution_count": 40,
   "metadata": {},
   "outputs": [],
   "source": [
    "import pandas as pd\n",
    "\n",
    "DIRECTORY = './../data/'"
   ]
  },
  {
   "cell_type": "markdown",
   "metadata": {},
   "source": [
    "Parksinson's Disease"
   ]
  },
  {
   "cell_type": "code",
   "execution_count": 41,
   "metadata": {},
   "outputs": [
    {
     "name": "stdout",
     "output_type": "stream",
     "text": [
      "Shape: (78, 61)\n",
      "\n",
      " ** Target variable distribution **\n",
      "CASE       39\n",
      "CONTROL    39\n",
      "Name: Factor1, dtype: int64\n"
     ]
    }
   ],
   "source": [
    "epic_gc_ms = pd.read_csv(DIRECTORY+'epic_gc_ms.csv')\n",
    "print(f'Shape: {epic_gc_ms.shape}\\n')\n",
    "\n",
    "print(f' ** Target variable distribution **')\n",
    "print(epic_gc_ms['Factor1'].value_counts())"
   ]
  },
  {
   "cell_type": "code",
   "execution_count": 43,
   "metadata": {},
   "outputs": [
    {
     "name": "stdout",
     "output_type": "stream",
     "text": [
      "Shape: (78, 330)\n",
      "\n",
      " ** Target variable distribution **\n",
      "Factor1:CASE       39\n",
      "Factor1:CONTROL    39\n",
      "Name: group, dtype: int64\n"
     ]
    }
   ],
   "source": [
    "epic_ce_ms = pd.read_csv(DIRECTORY+'epic_ce_ms.csv')\n",
    "print(f'Shape: {epic_ce_ms.shape}\\n')\n",
    "\n",
    "print(f' ** Target variable distribution **')\n",
    "print(epic_ce_ms['group'].value_counts())"
   ]
  },
  {
   "cell_type": "code",
   "execution_count": 44,
   "metadata": {},
   "outputs": [
    {
     "name": "stdout",
     "output_type": "stream",
     "text": [
      "Shape: (78, 510)\n",
      "\n",
      " ** Target variable distribution **\n",
      "Factor1:CASE       39\n",
      "Factor1:CONTROL    39\n",
      "Name: group, dtype: int64\n"
     ]
    }
   ],
   "source": [
    "epic_lc_ms_pos = pd.read_csv(DIRECTORY+'epic_lc_ms_pos.csv')\n",
    "print(f'Shape: {epic_lc_ms_pos.shape}\\n')\n",
    "\n",
    "print(' ** Target variable distribution **')\n",
    "print(epic_lc_ms_pos['group'].value_counts())"
   ]
  },
  {
   "cell_type": "code",
   "execution_count": 45,
   "metadata": {},
   "outputs": [
    {
     "name": "stdout",
     "output_type": "stream",
     "text": [
      "Shape: (78, 533)\n",
      "\n",
      " ** Target variable distribution **\n",
      "Factor1:CASE       39\n",
      "Factor1:CONTROL    39\n",
      "Name: group, dtype: int64\n"
     ]
    }
   ],
   "source": [
    "epic_lc_ms_neg = pd.read_csv(DIRECTORY+'epic_lc_ms_neg.csv')\n",
    "print(f'Shape: {epic_lc_ms_neg.shape}\\n')\n",
    "\n",
    "print(' ** Target variable distribution **')\n",
    "print(epic_lc_ms_neg['group'].value_counts())"
   ]
  },
  {
   "cell_type": "code",
   "execution_count": 61,
   "metadata": {},
   "outputs": [
    {
     "name": "stdout",
     "output_type": "stream",
     "text": [
      "Shape: (78, 1431)\n",
      "\n",
      " ** Target variable distribution **\n",
      "CASE       39\n",
      "CONTROL    39\n",
      "Name: Factor1, dtype: int64\n"
     ]
    }
   ],
   "source": [
    "composite = pd.read_csv(DIRECTORY+'epic_composite.csv')\n",
    "print(f'Shape: {composite.shape}\\n')\n",
    "\n",
    "print(' ** Target variable distribution **')\n",
    "print(composite['Factor1'].value_counts())"
   ]
  },
  {
   "cell_type": "code",
   "execution_count": 74,
   "metadata": {},
   "outputs": [
    {
     "name": "stdout",
     "output_type": "stream",
     "text": [
      "Shape: (194, 6503)\n",
      "\n",
      " ** Target variable distribution **\n",
      "3    138\n",
      "1     56\n",
      "Name: label, dtype: int64\n"
     ]
    }
   ],
   "source": [
    "nhs_lc_ms_pos = pd.read_csv(DIRECTORY+'nhs_naive.csv')\n",
    "print(f'Shape: {nhs_lc_ms_pos.shape}\\n')\n",
    "\n",
    "print(' ** Target variable distribution **')\n",
    "print(nhs_lc_ms_pos['label'].value_counts())"
   ]
  },
  {
   "cell_type": "code",
   "execution_count": 78,
   "metadata": {},
   "outputs": [
    {
     "name": "stdout",
     "output_type": "stream",
     "text": [
      "Shape: (136, 6503)\n",
      "\n",
      " ** Target variable distribution **\n",
      "2    80\n",
      "1    56\n",
      "Name: label, dtype: int64\n"
     ]
    }
   ],
   "source": [
    "nhs_lc_ms_pos = pd.read_csv(DIRECTORY+'nhs_healthy.csv')\n",
    "print(f'Shape: {nhs_lc_ms_pos.shape}\\n')\n",
    "\n",
    "print(' ** Target variable distribution **')\n",
    "print(nhs_lc_ms_pos['label'].value_counts())"
   ]
  }
 ],
 "metadata": {
  "kernelspec": {
   "display_name": "main",
   "language": "python",
   "name": "python3"
  },
  "language_info": {
   "codemirror_mode": {
    "name": "ipython",
    "version": 3
   },
   "file_extension": ".py",
   "mimetype": "text/x-python",
   "name": "python",
   "nbconvert_exporter": "python",
   "pygments_lexer": "ipython3",
   "version": "3.10.12"
  }
 },
 "nbformat": 4,
 "nbformat_minor": 2
}
