{
 "cells": [
  {
   "cell_type": "code",
   "execution_count": 24,
   "metadata": {},
   "outputs": [],
   "source": [
    "import pandas as pd\n",
    "import os"
   ]
  },
  {
   "cell_type": "markdown",
   "metadata": {},
   "source": [
    "#### EPIC"
   ]
  },
  {
   "cell_type": "code",
   "execution_count": 25,
   "metadata": {},
   "outputs": [
    {
     "name": "stdout",
     "output_type": "stream",
     "text": [
      "********* GC *********\n",
      "Dataset shape: (78, 60)\n",
      "Number of features: 60\n",
      "Number of missing values: 0\n",
      "CASE       39\n",
      "CONTROL    39\n",
      "Name: Factor1, dtype: int64\n",
      "*****************************\n",
      "\n"
     ]
    }
   ],
   "source": [
    "# GC\n",
    "print('********* GC *********')\n",
    "gc = pd.read_csv('../data/old/matrix.tsv', sep='\\t', index_col=0)\n",
    "gc = gc.T\n",
    "gc = gc[gc.index != 'Sample name']\n",
    "gc.sort_index(inplace=True)\n",
    "print(f'Dataset shape: {gc.shape}')\n",
    "print(f'Number of features: {gc.shape[1]}')\n",
    "print(f'Number of missing values: {gc.isnull().sum().sum()}')\n",
    "gc_labels = pd.read_csv('../data/old/batches.tsv', sep='\\t', index_col=0)\n",
    "gc_labels = gc_labels[gc_labels.index != 'Sample name']\n",
    "print(gc_labels['Factor1'].value_counts())\n",
    "print('*****************************')  \n",
    "\n",
    "# Create GC-MS dataset\n",
    "gc['Factor1'] = gc_labels[\"Factor1\"].values\n",
    "gc.to_csv('../data/old/gc_mc.csv', index=False)\n",
    "print()"
   ]
  },
  {
   "cell_type": "code",
   "execution_count": 27,
   "metadata": {},
   "outputs": [
    {
     "name": "stdout",
     "output_type": "stream",
     "text": [
      "********* LC-MS (+) *********\n",
      "Dataset shape: (78, 510)\n",
      "Number of features: 509\n",
      "Number of missing values: 2\n",
      "Factor1:CASE       39\n",
      "Factor1:CONTROL    39\n",
      "Name: group, dtype: int64\n",
      "*****************************\n",
      "\n"
     ]
    }
   ],
   "source": [
    "# LC-MS (+)\n",
    "print('********* LC-MS (+) *********')\n",
    "df_np = pd.read_csv('../data/old/EPIC_norm_pos.txt', sep='\\t')\n",
    "df_np.set_index('Samples', inplace=True)\n",
    "df_np.sort_index(inplace=True)\n",
    "print(f'Dataset shape: {df_np.shape}')\n",
    "print(f'Number of features: {df_np.shape[1]-1}')\n",
    "print(f'Number of missing values: {df_np.isnull().sum().sum()}')\n",
    "print(df_np['group'].value_counts())\n",
    "print('*****************************')\n",
    "\n",
    "df_np.to_csv('../data/old/lc_ms_pos.csv', index=False)\n",
    "print()"
   ]
  },
  {
   "cell_type": "code",
   "execution_count": 29,
   "metadata": {},
   "outputs": [
    {
     "name": "stdout",
     "output_type": "stream",
     "text": [
      "********* CE-MS *********\n",
      "Dataset shape: (78, 330)\n",
      "Number of features: 329\n",
      "Number of missing values: 0\n",
      "Factor1:CASE       39\n",
      "Factor1:CONTROL    39\n",
      "Name: group, dtype: int64\n",
      "*****************************\n",
      "\n"
     ]
    }
   ],
   "source": [
    "# CE-MS\n",
    "print('********* CE-MS *********')\n",
    "df_rp = pd.read_csv('../data/old/EPIC_rev_pos.txt', sep='\\t')\n",
    "df_rp.set_index('Samples', inplace=True)\n",
    "df_rp.sort_index(inplace=True)\n",
    "print(f'Dataset shape: {df_rp.shape}')\n",
    "print(f'Number of features: {df_rp.shape[1]-1}')\n",
    "print(f'Number of missing values: {df_rp.isnull().sum().sum()}')\n",
    "print(df_rp['group'].value_counts())\n",
    "print('*****************************')\n",
    "\n",
    "df_rp.to_csv('../data/old/ce_ms.csv', index=False)\n",
    "print()"
   ]
  },
  {
   "cell_type": "code",
   "execution_count": 32,
   "metadata": {},
   "outputs": [
    {
     "name": "stdout",
     "output_type": "stream",
     "text": [
      "********* LC-MS (-) *********\n",
      "Dataset shape: (78, 533)\n",
      "Number of features: 532\n",
      "Number of missing values: 2660\n",
      "Factor1:CASE       39\n",
      "Factor1:CONTROL    39\n",
      "Name: group, dtype: int64\n",
      "*****************************\n",
      "\n"
     ]
    }
   ],
   "source": [
    "# LC-MS (-)\n",
    "print('********* LC-MS (-) *********')\n",
    "df_rn = pd.read_csv('../data/old/EPIC_rev_neg.txt', sep='\\t')\n",
    "df_rn.set_index('Samples', inplace=True)\n",
    "df_rn.sort_index(inplace=True)\n",
    "print(f'Dataset shape: {df_rn.shape}')\n",
    "print(f'Number of features: {df_rn.shape[1]-1}')\n",
    "print(f'Number of missing values: {df_rn.isnull().sum().sum()}')\n",
    "print(df_rn['group'].value_counts())\n",
    "print('*****************************')\n",
    "\n",
    "df_rn.to_csv('../data/old/lc_ms_neg.csv', index=False)\n",
    "print()"
   ]
  },
  {
   "cell_type": "code",
   "execution_count": 38,
   "metadata": {},
   "outputs": [],
   "source": [
    "df_np.drop('group', axis=1, inplace=True)\n",
    "df_rp.drop('group', axis=1, inplace=True)\n",
    "df_rn.drop('group', axis=1, inplace=True)\n",
    "df_rn.index = df_np.index"
   ]
  },
  {
   "cell_type": "code",
   "execution_count": 42,
   "metadata": {},
   "outputs": [
    {
     "name": "stdout",
     "output_type": "stream",
     "text": [
      "(78, 1431)\n"
     ]
    },
    {
     "data": {
      "text/plain": [
       "CASE       39\n",
       "CONTROL    39\n",
       "Name: Factor1, dtype: int64"
      ]
     },
     "execution_count": 42,
     "metadata": {},
     "output_type": "execute_result"
    }
   ],
   "source": [
    "df = pd.concat([gc, df_np, df_rn, df_rp], axis=1)\n",
    "print(df.shape)\n",
    "df['Factor1'].value_counts()"
   ]
  },
  {
   "cell_type": "code",
   "execution_count": 43,
   "metadata": {},
   "outputs": [],
   "source": [
    "df.to_csv('../data/old/composite_dataset.csv', index=False)"
   ]
  },
  {
   "cell_type": "markdown",
   "metadata": {},
   "source": [
    "### NHS"
   ]
  },
  {
   "cell_type": "code",
   "execution_count": 47,
   "metadata": {},
   "outputs": [
    {
     "name": "stdout",
     "output_type": "stream",
     "text": [
      "['Figure 1 DN Control', 'Figure 1 Medicated Control', 'Figure 2 & SI Figure S2', 'Figure 3', 'Figure 4', 'SI Figure S1', 'SI Figure S3']\n"
     ]
    }
   ],
   "source": [
    "# Read excel file with multiple sheets\n",
    "xlsx = pd.ExcelFile('../data/old/NHS_data.xlsx')\n",
    "print(xlsx.sheet_names)\n",
    "\n",
    "# Read the sheets into dataframes\n",
    "df_nhs1 = pd.read_excel(xlsx, 'Figure 1 DN Control')\n",
    "df_nhs2 = pd.read_excel(xlsx, 'Figure 1 Medicated Control')"
   ]
  },
  {
   "cell_type": "code",
   "execution_count": 48,
   "metadata": {},
   "outputs": [],
   "source": [
    "df_nhs1.set_index('repidx', inplace=True)   \n",
    "df_nhs2.set_index('repidx', inplace=True)   "
   ]
  },
  {
   "cell_type": "code",
   "execution_count": 49,
   "metadata": {},
   "outputs": [
    {
     "name": "stdout",
     "output_type": "stream",
     "text": [
      "********* Healthy control *********\n",
      "Dataset shape: (136, 6503)\n",
      "Number of features: 6502\n",
      "Number of missing values: 0\n",
      "2    80\n",
      "1    56\n",
      "Name: label, dtype: int64\n",
      "*****************************\n",
      "\n",
      "********* Drug naïve *********\n",
      "Dataset shape: (194, 6503)\n",
      "Number of features: 6502\n",
      "Number of missing values: 0\n",
      "3    138\n",
      "1     56\n",
      "Name: label, dtype: int64\n",
      "*****************************\n",
      "\n"
     ]
    }
   ],
   "source": [
    "# LC-MS (+) - Healthy control\n",
    "print('********* Healthy control *********')\n",
    "print(f'Dataset shape: {df_nhs1.shape}')\n",
    "print(f'Number of features: {df_nhs1.shape[1]-1}')\n",
    "print(f'Number of missing values: {df_nhs1.isnull().sum().sum()}')\n",
    "print(df_nhs1['label'].value_counts())\n",
    "df_nhs1.to_csv('../data/nhs_healthy.csv')\n",
    "print('*****************************')\n",
    "print()\n",
    "\n",
    "# LC-MS (+) - Drug naïve \n",
    "print('********* Drug naïve *********')\n",
    "print(f'Dataset shape: {df_nhs2.shape}')\n",
    "print(f'Number of features: {df_nhs2.shape[1]-1}')\n",
    "print(f'Number of missing values: {df_nhs2.isnull().sum().sum()}')\n",
    "print(df_nhs2['label'].value_counts())\n",
    "df_nhs2.to_csv('../data/nhs_drug_naive.csv')\n",
    "print('*****************************')\n",
    "print()"
   ]
  },
  {
   "cell_type": "code",
   "execution_count": null,
   "metadata": {},
   "outputs": [],
   "source": []
  }
 ],
 "metadata": {
  "kernelspec": {
   "display_name": "Python 3 (ipykernel)",
   "language": "python",
   "name": "python3"
  },
  "language_info": {
   "codemirror_mode": {
    "name": "ipython",
    "version": 3
   },
   "file_extension": ".py",
   "mimetype": "text/x-python",
   "name": "python",
   "nbconvert_exporter": "python",
   "pygments_lexer": "ipython3",
   "version": "3.10.12"
  }
 },
 "nbformat": 4,
 "nbformat_minor": 4
}
