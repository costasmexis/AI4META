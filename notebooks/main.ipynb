{
 "cells": [
  {
   "cell_type": "code",
   "execution_count": 1,
   "metadata": {},
   "outputs": [
    {
     "name": "stdout",
     "output_type": "stream",
     "text": [
      "Label mapping: {'Factor1:CASE': 0, 'Factor1:CONTROL': 1}\n",
      "You have not provided an estimator.\n"
     ]
    }
   ],
   "source": [
    "# Add ../ to path\n",
    "import sys\n",
    "sys.path.append('../')\n",
    "from machinelearning.mlpipeline import MLPipelines\n",
    "from sklearn.linear_model import LogisticRegression\n",
    "from sklearn.discriminant_analysis import LinearDiscriminantAnalysis\n",
    "from sklearn.naive_bayes import GaussianNB\n",
    "from sklearn.ensemble import RandomForestClassifier, GradientBoostingClassifier\n",
    "from sklearn.neighbors import KNeighborsClassifier\n",
    "from sklearn.tree import DecisionTreeClassifier\n",
    "from sklearn.svm import SVC\n",
    "from xgboost import XGBClassifier\n",
    "import optuna\n",
    "\n",
    "%load_ext autoreload\n",
    "%autoreload 2\n",
    "\n",
    "csv_dir = \"../data/composite_dataset.csv\"\n",
    "label = \"group\"\n",
    "\n",
    "mlpipe = MLPipelines(label=label, csv_dir=csv_dir)\n",
    "mlpipe.normalize()"
   ]
  },
  {
   "cell_type": "code",
   "execution_count": 2,
   "metadata": {},
   "outputs": [
    {
     "name": "stdout",
     "output_type": "stream",
     "text": [
      "For the SVC model: \n",
      "Best parameters: {'C': 5.5640592307702965, 'gamma': 1.961156448455936, 'kernel': 'linear', 'probability': True, 'shrinking': False, 'decision_function_shape': 'ovo'}\n",
      "Best matthews_corrcoef: 0.44542008737551475\n"
     ]
    }
   ],
   "source": [
    "model = SVC()\n",
    "mlpipe.estimator = model\n",
    "mlpipe.bayesian_search()"
   ]
  },
  {
   "cell_type": "code",
   "execution_count": 3,
   "metadata": {},
   "outputs": [
    {
     "name": "stdout",
     "output_type": "stream",
     "text": [
      "Evaluating model SVC...\n",
      "Average matthews_corrcoef: b0.3091340859228262\n",
      "Standard deviation matthews_corrcoef: 0.22288153925055912\n"
     ]
    }
   ],
   "source": [
    "scores = mlpipe.model_evaluation()"
   ]
  },
  {
   "cell_type": "code",
   "execution_count": null,
   "metadata": {},
   "outputs": [],
   "source": [
    "xg = [\n",
    "    RandomForestClassifier(),\n",
    "    XGBClassifier(),\n",
    "    LogisticRegression(),\n",
    "    GaussianNB(),\n",
    "    KNeighborsClassifier(),\n",
    "    DecisionTreeClassifier(),\n",
    "    SVC(),\n",
    "]\n",
    "res = mlpipe.model_selection(\n",
    "    optimizer=\"bayesian_search\",\n",
    "    n_trials=2,\n",
    "    n_runs=2,\n",
    "    exclude=xg,\n",
    "    n_iter=2,\n",
    "    train_best=\"bayesian_search\",\n",
    "    verbose=False\n",
    ")"
   ]
  },
  {
   "cell_type": "code",
   "execution_count": null,
   "metadata": {},
   "outputs": [],
   "source": [
    "from machinelearning.mlexplain import FeaturesExplanation\n",
    "\n",
    "explainer = FeaturesExplanation(estimator=mlpipe.best_estimator,\n",
    "                                X=mlpipe.X,\n",
    "                                y=mlpipe.y)\n",
    "\n",
    "explainer.calculate_shap_values()\n",
    "explainer.plot_shap_values()"
   ]
  }
 ],
 "metadata": {
  "kernelspec": {
   "display_name": "Python 3 (ipykernel)",
   "language": "python",
   "name": "python3"
  },
  "language_info": {
   "codemirror_mode": {
    "name": "ipython",
    "version": 3
   },
   "file_extension": ".py",
   "mimetype": "text/x-python",
   "name": "python",
   "nbconvert_exporter": "python",
   "pygments_lexer": "ipython3",
   "version": "3.10.12"
  }
 },
 "nbformat": 4,
 "nbformat_minor": 4
}
