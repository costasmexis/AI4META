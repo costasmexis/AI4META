{
 "cells": [
  {
   "cell_type": "code",
   "execution_count": 5,
   "metadata": {},
   "outputs": [
    {
     "name": "stdout",
     "output_type": "stream",
     "text": [
      "The autoreload extension is already loaded. To reload it, use:\n",
      "  %reload_ext autoreload\n"
     ]
    }
   ],
   "source": [
    "%load_ext autoreload\n",
    "%autoreload 2"
   ]
  },
  {
   "cell_type": "code",
   "execution_count": 6,
   "metadata": {},
   "outputs": [
    {
     "name": "stdout",
     "output_type": "stream",
     "text": [
      "Label mapping: {0: 'CASE', 1: 'CONTROL'}\n",
      "There is no selected classifier.\n"
     ]
    }
   ],
   "source": [
    "# Add ../ to path\n",
    "import sys\n",
    "\n",
    "sys.path.append('../')\n",
    "import optuna\n",
    "from sklearn.discriminant_analysis import LinearDiscriminantAnalysis\n",
    "from sklearn.ensemble import GradientBoostingClassifier, RandomForestClassifier\n",
    "from sklearn.linear_model import LogisticRegression\n",
    "from sklearn.naive_bayes import GaussianNB\n",
    "from sklearn.neighbors import KNeighborsClassifier\n",
    "from sklearn.svm import SVC\n",
    "from sklearn.tree import DecisionTreeClassifier\n",
    "from xgboost import XGBClassifier\n",
    "from catboost import CatBoostClassifier\n",
    "\n",
    "from machinelearning.mlpipeline import MLPipelines\n",
    "\n",
    "csv_dir = \"../data/gc_mc.csv\"\n",
    "label = \"Factor1\"\n",
    "\n",
    "mlpipe = MLPipelines(label=label, csv_dir=csv_dir)"
   ]
  },
  {
   "cell_type": "code",
   "execution_count": 8,
   "metadata": {},
   "outputs": [
    {
     "ename": "NameError",
     "evalue": "name 'CatBoostClassifier' is not defined",
     "output_type": "error",
     "traceback": [
      "\u001b[0;31m---------------------------------------------------------------------------\u001b[0m",
      "\u001b[0;31mNameError\u001b[0m                                 Traceback (most recent call last)",
      "Cell \u001b[0;32mIn[8], line 2\u001b[0m\n\u001b[1;32m      1\u001b[0m exclude \u001b[38;5;241m=\u001b[39m [LinearDiscriminantAnalysis(), GaussianNB(), KNeighborsClassifier(), DecisionTreeClassifier(),\n\u001b[0;32m----> 2\u001b[0m            RandomForestClassifier(), \u001b[43mCatBoostClassifier\u001b[49m(), GradientBoostingClassifier(), XGBClassifier(), SVC(), LogisticRegression()]\n\u001b[1;32m      4\u001b[0m scores, features_list, all_featues \u001b[38;5;241m=\u001b[39m mlpipe\u001b[38;5;241m.\u001b[39mnested_cv(exclude\u001b[38;5;241m=\u001b[39mexclude, N\u001b[38;5;241m=\u001b[39m\u001b[38;5;241m3\u001b[39m, inner_splits\u001b[38;5;241m=\u001b[39m\u001b[38;5;241m3\u001b[39m, outer_splits\u001b[38;5;241m=\u001b[39m\u001b[38;5;241m3\u001b[39m, n_trials_ncv\u001b[38;5;241m=\u001b[39m\u001b[38;5;241m2\u001b[39m, rounds\u001b[38;5;241m=\u001b[39m\u001b[38;5;241m1\u001b[39m, feature_selection_method\u001b[38;5;241m=\u001b[39m\u001b[38;5;28;01mNone\u001b[39;00m)\n",
      "\u001b[0;31mNameError\u001b[0m: name 'CatBoostClassifier' is not defined"
     ]
    }
   ],
   "source": [
    "exclude = [LinearDiscriminantAnalysis(), GaussianNB(), KNeighborsClassifier(), DecisionTreeClassifier(),\n",
    "           RandomForestClassifier(), CatBoostClassifier(), GradientBoostingClassifier(), XGBClassifier(), SVC(), LogisticRegression()]\n",
    "\n",
    "scores, features_list, all_featues = mlpipe.nested_cv(exclude=exclude, N=3, inner_splits=3, outer_splits=3, n_trials_ncv=2, rounds=1, feature_selection_method=None)"
   ]
  }
 ],
 "metadata": {
  "kernelspec": {
   "display_name": "Python 3 (ipykernel)",
   "language": "python",
   "name": "python3"
  },
  "language_info": {
   "codemirror_mode": {
    "name": "ipython",
    "version": 3
   },
   "file_extension": ".py",
   "mimetype": "text/x-python",
   "name": "python",
   "nbconvert_exporter": "python",
   "pygments_lexer": "ipython3",
   "version": "3.10.12"
  }
 },
 "nbformat": 4,
 "nbformat_minor": 4
}
