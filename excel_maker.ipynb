{
 "cells": [
  {
   "cell_type": "code",
   "execution_count": 1,
   "metadata": {},
   "outputs": [],
   "source": [
    "import pandas as pd\n",
    "import numpy as np\n",
    "import os\n",
    "import ast\n",
    "import re "
   ]
  },
  {
   "cell_type": "markdown",
   "metadata": {},
   "source": [
    "# Create EXCEL"
   ]
  },
  {
   "cell_type": "code",
   "execution_count": 2,
   "metadata": {},
   "outputs": [],
   "source": [
    "def get_filenames_before_extension(directory):\n",
    "    # List all files in the directory\n",
    "    files = os.listdir(directory)\n",
    "    \n",
    "    # Filter out only CSV files and extract names before the extension\n",
    "    file_roots = [os.path.splitext(file)[0] for file in files if file.endswith('.csv')]\n",
    "    \n",
    "    return file_roots"
   ]
  },
  {
   "cell_type": "code",
   "execution_count": 3,
   "metadata": {},
   "outputs": [],
   "source": [
    "result_dir = 'Results/'\n",
    "data_dir = 'data/'\n",
    "\n",
    "dataset_names = get_filenames_before_extension(data_dir)\n",
    "\n",
    "# Define parameters\n",
    "methods = ['gso_1', 'gso_2', 'validation_score', 'one_sem','one_sem_grd']\n"
   ]
  },
  {
   "cell_type": "code",
   "execution_count": 4,
   "metadata": {},
   "outputs": [],
   "source": [
    "def parse_list(s):\n",
    "    try:\n",
    "        # Try to parse as a Python list first\n",
    "        return ast.literal_eval(s)\n",
    "    except (ValueError, SyntaxError):\n",
    "        pass\n",
    "    \n",
    "    try:\n",
    "        # Handle space-separated values within brackets\n",
    "        s = re.sub(r'\\s+', ' ', s.strip())\n",
    "        s = s.replace('[ ', '[').replace(' ]', ']')\n",
    "        s = s.replace(' ', ',')\n",
    "        return ast.literal_eval(s)\n",
    "    except (ValueError, SyntaxError):\n",
    "        pass\n",
    "    \n",
    "    return s"
   ]
  },
  {
   "cell_type": "code",
   "execution_count": 5,
   "metadata": {},
   "outputs": [],
   "source": [
    "def concatenate_csv_files(directory, dataset_name, methods, output_excel):\n",
    "    # List all files in the directory\n",
    "    files = os.listdir(directory)\n",
    "    \n",
    "    # Filter for the relevant CSV files\n",
    "    csv_files = [f for f in files if f.endswith('.csv') and dataset_name in f]\n",
    "    \n",
    "    # Initialize an empty list to hold DataFrames\n",
    "    df_list = []\n",
    "    \n",
    "    # Loop over each CSV file\n",
    "    for csv_file in csv_files:\n",
    "        # Read the CSV file into a DataFrame\n",
    "        df = pd.read_csv(os.path.join(directory, csv_file))\n",
    "        \n",
    "        # Convert string representations of lists back to actual lists for specified columns\n",
    "        for col in df.columns:\n",
    "            if df[col].dtype == 'object' and df[col].str.startswith('[').any():\n",
    "                df[col] = df[col].apply(parse_list)\n",
    "        \n",
    "        # Append the DataFrame to the list\n",
    "        df_list.append(df)\n",
    "    \n",
    "    # Concatenate all DataFrames in the list\n",
    "    concatenated_df = pd.concat(df_list, ignore_index=True)\n",
    "    \n",
    "    # Save the concatenated DataFrame to an Excel file\n",
    "    concatenated_df.to_excel(output_excel, index=False)\n",
    "    print(f'Successfully created {output_excel}')"
   ]
  },
  {
   "cell_type": "code",
   "execution_count": 6,
   "metadata": {},
   "outputs": [
    {
     "name": "stdout",
     "output_type": "stream",
     "text": [
      "Successfully created Results/chronic_fatigue_concat_results.xlsx\n",
      "Successfully created Results/epic_ce_ms_concat_results.xlsx\n",
      "Successfully created Results/epic_lc_ms_neg_concat_results.xlsx\n",
      "Successfully created Results/epic_lc_ms_pos_concat_results.xlsx\n",
      "Successfully created Results/gastric_cancer_concat_results.xlsx\n",
      "Successfully created Results/periodontal_inflammation_concat_results.xlsx\n"
     ]
    }
   ],
   "source": [
    "dataset_names =['chronic_fatigue','epic_ce_ms','epic_lc_ms_neg','epic_lc_ms_pos','gastric_cancer','periodontal_inflammation']\n",
    "\n",
    "for dataset_name in dataset_names:\n",
    "    output_excel = f'{result_dir}{dataset_name}_concat_results.xlsx'\n",
    "    concatenate_csv_files(result_dir, dataset_name, methods, output_excel)\n"
   ]
  },
  {
   "cell_type": "markdown",
   "metadata": {},
   "source": [
    "# Add Inner Selection Everywhere "
   ]
  },
  {
   "cell_type": "code",
   "execution_count": 7,
   "metadata": {},
   "outputs": [],
   "source": [
    "def update_csv_files_with_inner_selection(directory, dataset_names, methods):\n",
    "    # Loop through each dataset name\n",
    "    for dataset_name in dataset_names:\n",
    "        # List all files in the directory\n",
    "        files = os.listdir(directory)\n",
    "        \n",
    "        # Filter for the relevant CSV files\n",
    "        csv_files = [f for f in files if f.endswith('.csv') and dataset_name in f]\n",
    "        \n",
    "        # Loop over each CSV file\n",
    "        for csv_file in csv_files:\n",
    "            # Determine the method from the file name\n",
    "            method = None\n",
    "            for m in methods:\n",
    "                if m in csv_file:\n",
    "                    method = m\n",
    "                    break\n",
    "            \n",
    "            if method is None:\n",
    "                continue\n",
    "            \n",
    "            # Read the CSV file into a DataFrame\n",
    "            file_path = os.path.join(directory, csv_file)\n",
    "            df = pd.read_csv(file_path)\n",
    "            \n",
    "            # Check if 'Inner_Selection' column exists, if not, create it\n",
    "            if 'Inner_Selection' not in df.columns:\n",
    "                df['Inner_Selection'] = method\n",
    "            \n",
    "            # Save the DataFrame back to the same CSV file\n",
    "            df.to_csv(file_path, index=False)\n",
    "            print(f'Updated {csv_file} with Inner_Selection = {method}')\n"
   ]
  },
  {
   "cell_type": "code",
   "execution_count": 8,
   "metadata": {},
   "outputs": [
    {
     "name": "stdout",
     "output_type": "stream",
     "text": [
      "Updated chronic_fatigue_one_sem_grd_all_features_outerloops_results.csv with Inner_Selection = one_sem_grd\n",
      "Updated chronic_fatigue_validation_score_all_features_outerloops_results.csv with Inner_Selection = validation_score\n",
      "Updated chronic_fatigue_one_sem_all_features_outerloops_results.csv with Inner_Selection = one_sem\n",
      "Updated chronic_fatigue_gso_1_all_features_outerloops_results.csv with Inner_Selection = gso_1\n",
      "Updated chronic_fatigue_gso_2_all_features_outerloops_results.csv with Inner_Selection = gso_2\n",
      "Updated epic_ce_ms_validation_score_all_features_outerloops_results.csv with Inner_Selection = validation_score\n",
      "Updated epic_ce_ms_one_sem_grd_all_features_outerloops_results.csv with Inner_Selection = one_sem_grd\n",
      "Updated epic_ce_ms_gso_2_all_features_outerloops_results.csv with Inner_Selection = gso_2\n",
      "Updated epic_ce_ms_one_sem_all_features_outerloops_results.csv with Inner_Selection = one_sem\n",
      "Updated epic_ce_ms_gso_1_all_features_outerloops_results.csv with Inner_Selection = gso_1\n",
      "Updated epic_lc_ms_neg_gso_1_all_features_outerloops_results.csv with Inner_Selection = gso_1\n",
      "Updated epic_lc_ms_neg_gso_2_all_features_outerloops_results.csv with Inner_Selection = gso_2\n",
      "Updated epic_lc_ms_neg_one_sem_grd_all_features_outerloops_results.csv with Inner_Selection = one_sem_grd\n",
      "Updated epic_lc_ms_neg_validation_score_all_features_outerloops_results.csv with Inner_Selection = validation_score\n",
      "Updated epic_lc_ms_neg_one_sem_all_features_outerloops_results.csv with Inner_Selection = one_sem\n",
      "Updated epic_lc_ms_pos_validation_score_all_features_outerloops_results.csv with Inner_Selection = validation_score\n",
      "Updated epic_lc_ms_pos_gso_1_all_features_outerloops_results.csv with Inner_Selection = gso_1\n",
      "Updated epic_lc_ms_pos_gso_2_all_features_outerloops_results.csv with Inner_Selection = gso_2\n",
      "Updated epic_lc_ms_pos_one_sem_all_features_outerloops_results.csv with Inner_Selection = one_sem\n",
      "Updated epic_lc_ms_pos_one_sem_grd_all_features_outerloops_results.csv with Inner_Selection = one_sem_grd\n",
      "Updated gastric_cancer_validation_score_all_features_outerloops_results.csv with Inner_Selection = validation_score\n",
      "Updated gastric_cancer_one_sem_all_features_outerloops_results.csv with Inner_Selection = one_sem\n",
      "Updated gastric_cancer_gso_2_all_features_outerloops_results.csv with Inner_Selection = gso_2\n",
      "Updated gastric_cancer_gso_1_all_features_outerloops_results.csv with Inner_Selection = gso_1\n",
      "Updated periodontal_inflammation_validation_score_all_features_outerloops_results.csv with Inner_Selection = validation_score\n",
      "Updated periodontal_inflammation_one_sem_all_features_outerloops_results.csv with Inner_Selection = one_sem\n",
      "Updated periodontal_inflammation_gso_2_all_features_outerloops_results.csv with Inner_Selection = gso_2\n",
      "Updated periodontal_inflammation_gso_1_all_features_outerloops_results.csv with Inner_Selection = gso_1\n"
     ]
    }
   ],
   "source": [
    "# Define parameters\n",
    "directory = 'Results/'  \n",
    "dataset_names = ['chronic_fatigue', 'epic_ce_ms', 'epic_lc_ms_neg', 'epic_lc_ms_pos', 'gastric_cancer', 'periodontal_inflammation']\n",
    "methods = ['gso_1', 'gso_2', 'validation_score','one_sem_grd', 'one_sem']\n",
    "\n",
    "# Call the function\n",
    "update_csv_files_with_inner_selection(directory, dataset_names, methods)"
   ]
  },
  {
   "cell_type": "code",
   "execution_count": null,
   "metadata": {},
   "outputs": [],
   "source": []
  }
 ],
 "metadata": {
  "kernelspec": {
   "display_name": "ai4meta",
   "language": "python",
   "name": "python3"
  },
  "language_info": {
   "codemirror_mode": {
    "name": "ipython",
    "version": 3
   },
   "file_extension": ".py",
   "mimetype": "text/x-python",
   "name": "python",
   "nbconvert_exporter": "python",
   "pygments_lexer": "ipython3",
   "version": "3.11.9"
  }
 },
 "nbformat": 4,
 "nbformat_minor": 2
}
