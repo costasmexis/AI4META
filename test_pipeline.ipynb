{
 "cells": [
  {
   "cell_type": "code",
   "execution_count": 2,
   "metadata": {},
   "outputs": [
    {
     "name": "stdout",
     "output_type": "stream",
     "text": [
      "The autoreload extension is already loaded. To reload it, use:\n",
      "  %reload_ext autoreload\n",
      "There is no selected classifier.\n",
      "Your Dataset contains NaN values. Some estimators does not work with NaN values.\n",
      "The median method will be used for the missing values manipulation.\n",
      "\n",
      "All the extra metrics are valid.\n"
     ]
    },
    {
     "name": "stderr",
     "output_type": "stream",
     "text": [
      "Outer fold of 3 round:  0% |             | Elapsed Time: 0:00:00 ETA:  --:--:--\n",
      "Outer fold of 1 round:  0% |             | Elapsed Time: 0:00:00 ETA:  --:--:--\n",
      "Outer fold of 2 round:  0% |             | Elapsed Time: 0:00:00 ETA:  --:--:--\n",
      "Outer fold of 3 round: 33% |████▎        | Elapsed Time: 0:00:06 ETA:   0:00:13\n",
      "Outer fold of 2 round: 33% |████▎        | Elapsed Time: 0:00:06 ETA:   0:00:13\n",
      "Outer fold of 1 round: 33% |████▎        | Elapsed Time: 0:00:06 ETA:   0:00:13\n",
      "Outer fold of 2 round: 66% |████████▋    | Elapsed Time: 0:00:13 ETA:   0:00:06\n",
      "Outer fold of 3 round: 66% |████████▋    | Elapsed Time: 0:00:13 ETA:   0:00:06\n",
      "Outer fold of 1 round: 66% |████████▋    | Elapsed Time: 0:00:13 ETA:   0:00:06\n",
      "Outer fold of 2 round:100% |█████████████| Elapsed Time: 0:00:14 Time:  0:00:14\n",
      "Outer fold of 3 round:100% |█████████████| Elapsed Time: 0:00:14 Time:  0:00:14\n",
      "Outer fold of 1 round:100% |█████████████| Elapsed Time: 0:00:14 Time:  0:00:14\n"
     ]
    },
    {
     "name": "stdout",
     "output_type": "stream",
     "text": [
      "Finished with 2 round after 0.01 hours.\n",
      "Finished with 3 round after 0.01 hours.\n",
      "Finished with 1 round after 0.01 hours.\n",
      "Finished with 10 models\n",
      "An error occurred while filtering the final csv file: 'MCC_Mean'\n",
      "The final csv file will not be filtered.\n",
      "Statistics results saved to Results/gastric_cancer__n_trials_20_rounds_3_num_features_1_sfm_True_class_balance_smote_inner_splits_3_outer_splits_3_20241121_1536_rncv_outerloops_results.csv\n",
      "Selected 149 features\n",
      "An error occurred while inserting data into the database: list index out of range\n"
     ]
    }
   ],
   "source": [
    "from machinelearning.mlpipeline import MLPipelines\n",
    "from machinelearning.mlexplain import MLExplainer\n",
    "from dataloader.eda import DataExplorer\n",
    "\n",
    "%load_ext autoreload\n",
    "%autoreload 2\n",
    "%matplotlib inline\n",
    "\n",
    "csv_dir = 'data/gastric_cancer.csv'\n",
    "label = 'Class'\n",
    "\n",
    "mlpipe = MLPipelines(label=label, csv_dir=csv_dir)\n",
    "\n",
    "# for class_blnc in ['auto','smote_enn','smote','tomek','borderline_smote']:\n",
    "#     print(class_blnc)\n",
    "filter_csv = {'MCC_Mean':{'h': 0.437}}\n",
    "\n",
    "df = mlpipe.nested_cv(class_balance='smote', parallel = 'freely_parallel', rounds=3,n_trials=20,outer_splits=3,inner_splits=3,num_features=1, sfm=True, search_on=['ElasticNet','LogisticRegression'],info_to_db=True,filter_csv=filter_csv)\n",
    "# mlpipe.nested_cv( rounds=3,n_trials_ncv=20,outer_splits=5,inner_splits=5,parallel='freely_parallel',num_features=[1,5,mlpipe.X.shape[1]], sfm=True, search_on=['ElasticNet','RandomForestClassifier'], info_to_db=True)\n",
    "# mlpipe.rcv_accel(rounds=3,splits=5,num_features=[1,5,mlpipe.X.shape[1]], sfm=True, search_on=['RandomForestClassifier','ElasticNet'], info_to_db=True)\n",
    "\n"
   ]
  },
  {
   "cell_type": "code",
   "execution_count": null,
   "metadata": {},
   "outputs": [
    {
     "ename": "",
     "evalue": "",
     "output_type": "error",
     "traceback": [
      "\u001b[1;31mThe kernel failed to start due to the missing module '_sqlite3'. Consider installing this module.\n",
      "\u001b[1;31mClick <a href='https://aka.ms/kernelFailuresMissingModule'>here</a> for more info."
     ]
    }
   ],
   "source": [
    "print('a')"
   ]
  },
  {
   "cell_type": "code",
   "execution_count": 4,
   "metadata": {},
   "outputs": [
    {
     "name": "stdout",
     "output_type": "stream",
     "text": [
      "There is no selected classifier.\n"
     ]
    }
   ],
   "source": [
    "# dataloader\n",
    "mlpipe = MLPipelines(label=label, csv_dir=csv_dir)\n",
    "# mlpipe.missing_values()\n",
    "# mlpipe.normalize()\n",
    "# mlpipe.X.head()\n",
    "# mrmrfeatX = mlpipe.feature_selection(X=mlpipe.X, y=mlpipe.y, method='mrmr', num_features=20, inner_method='chi2')\n",
    "\n",
    "\n",
    "# mrmrfeatX"
   ]
  },
  {
   "cell_type": "code",
   "execution_count": 5,
   "metadata": {},
   "outputs": [
    {
     "name": "stderr",
     "output_type": "stream",
     "text": [
      "Exception ignored on calling ctypes callback function: <function ThreadpoolController._find_libraries_with_dl_iterate_phdr.<locals>.match_library_callback at 0x73915ff9af20>\n",
      "Traceback (most recent call last):\n",
      "  File \"/home/spyros/Desktop/AI4META/venv/lib/python3.11/site-packages/threadpoolctl.py\", line 1005, in match_library_callback\n",
      "  File \"/home/spyros/Desktop/AI4META/venv/lib/python3.11/site-packages/threadpoolctl.py\", line 1175, in _make_controller_from_path\n",
      "  File \"/home/spyros/Desktop/AI4META/venv/lib/python3.11/site-packages/threadpoolctl.py\", line 114, in __init__\n",
      "  File \"/usr/lib/python3.11/ctypes/__init__.py\", line 376, in __init__\n",
      "    self._handle = _dlopen(self._name, mode)\n",
      "                   ^^^^^^^^^^^^^^^^^^^^^^^^^\n",
      "OSError: /home/spyros/Desktop/AI4META/venv/lib/python3.11/site-packages/numpy.libs/libopenblas64_p-r0-742d56dc.3.20.so: cannot open shared object file: No such file or directory\n",
      "Exception ignored on calling ctypes callback function: <function ThreadpoolController._find_libraries_with_dl_iterate_phdr.<locals>.match_library_callback at 0x73915ff9af20>\n",
      "Traceback (most recent call last):\n",
      "  File \"/home/spyros/Desktop/AI4META/venv/lib/python3.11/site-packages/threadpoolctl.py\", line 1005, in match_library_callback\n",
      "  File \"/home/spyros/Desktop/AI4META/venv/lib/python3.11/site-packages/threadpoolctl.py\", line 1175, in _make_controller_from_path\n",
      "  File \"/home/spyros/Desktop/AI4META/venv/lib/python3.11/site-packages/threadpoolctl.py\", line 114, in __init__\n",
      "  File \"/usr/lib/python3.11/ctypes/__init__.py\", line 376, in __init__\n",
      "    self._handle = _dlopen(self._name, mode)\n",
      "                   ^^^^^^^^^^^^^^^^^^^^^^^^^\n",
      "OSError: /home/spyros/Desktop/AI4META/venv/lib/python3.11/site-packages/scipy.libs/libscipy_openblas-c128ec02.so: cannot open shared object file: No such file or directory\n",
      "Exception ignored on calling ctypes callback function: <function ThreadpoolController._find_libraries_with_dl_iterate_phdr.<locals>.match_library_callback at 0x73915ff9af20>\n",
      "Traceback (most recent call last):\n",
      "  File \"/home/spyros/Desktop/AI4META/venv/lib/python3.11/site-packages/threadpoolctl.py\", line 1005, in match_library_callback\n",
      "  File \"/home/spyros/Desktop/AI4META/venv/lib/python3.11/site-packages/threadpoolctl.py\", line 1175, in _make_controller_from_path\n",
      "  File \"/home/spyros/Desktop/AI4META/venv/lib/python3.11/site-packages/threadpoolctl.py\", line 114, in __init__\n",
      "  File \"/usr/lib/python3.11/ctypes/__init__.py\", line 376, in __init__\n",
      "    self._handle = _dlopen(self._name, mode)\n",
      "                   ^^^^^^^^^^^^^^^^^^^^^^^^^\n",
      "OSError: /home/spyros/Desktop/AI4META/venv/lib/python3.11/site-packages/scikit_learn.libs/libgomp-a34b3233.so.1.0.0: cannot open shared object file: No such file or directory\n",
      "Exception ignored on calling ctypes callback function: <function ThreadpoolController._find_libraries_with_dl_iterate_phdr.<locals>.match_library_callback at 0x73915ff9af20>\n",
      "Traceback (most recent call last):\n",
      "  File \"/home/spyros/Desktop/AI4META/venv/lib/python3.11/site-packages/threadpoolctl.py\", line 1005, in match_library_callback\n",
      "  File \"/home/spyros/Desktop/AI4META/venv/lib/python3.11/site-packages/threadpoolctl.py\", line 1175, in _make_controller_from_path\n",
      "  File \"/home/spyros/Desktop/AI4META/venv/lib/python3.11/site-packages/threadpoolctl.py\", line 114, in __init__\n",
      "  File \"/usr/lib/python3.11/ctypes/__init__.py\", line 376, in __init__\n",
      "    self._handle = _dlopen(self._name, mode)\n",
      "                   ^^^^^^^^^^^^^^^^^^^^^^^^^\n",
      "OSError: /home/spyros/Desktop/AI4META/venv/lib/python3.11/site-packages/xgboost.libs/libgomp-24e2ab19.so.1.0.0: cannot open shared object file: No such file or directory\n"
     ]
    },
    {
     "name": "stdout",
     "output_type": "stream",
     "text": [
      "Your Dataset contains NaN values. Some estimators does not work with NaN values.\n",
      "The median method will be used for the missing values manipulation.\n",
      "\n",
      "All the extra metrics are valid.\n",
      "The num_features parameter is [1, 4, 20, 149].\n",
      "The result will be a Dataframe and a List with the freq_feat number of the most important features.\n",
      "If the freq_feat is None, the result will be a List with all features.\n",
      "Unexpected exception formatting exception. Falling back to standard exception\n"
     ]
    },
    {
     "name": "stderr",
     "output_type": "stream",
     "text": [
      "Traceback (most recent call last):\n",
      "  File \"/home/spyros/Desktop/AI4META/venv/lib/python3.11/site-packages/IPython/core/interactiveshell.py\", line 3577, in run_code\n",
      "  File \"/tmp/ipykernel_73714/1667947957.py\", line 1, in <module>\n",
      "    df = mlpipe.nested_cv(rounds=4,n_trials_ncv=30,outer_splits=4,inner_splits=4,parallel='freely_parallel',num_features=[1,4,20,mlpipe.X.shape[1]], frfs=True, search_on=['LogisticRegression','ElasticNet','LinearDiscriminantAnalysis'], show_bad_samples=True,name_add='manolakos_test', info_to_db=True)\n",
      "         ^^^^^^^^^^^^^^^^^^^^^^^^^^^^^^^^^^^^^^^^^^^^^^^^^^^^^^^^^^^^^^^^^^^^^^^^^^^^^^^^^^^^^^^^^^^^^^^^^^^^^^^^^^^^^^^^^^^^^^^^^^^^^^^^^^^^^^^^^^^^^^^^^^^^^^^^^^^^^^^^^^^^^^^^^^^^^^^^^^^^^^^^^^^^^^^^^^^^^^^^^^^^^^^^^^^^^^^^^^^^^^^^^^^^^^^^^^^^^^^^^^^^^^^^^^^^^^^^^^^^^^^^^^^^^^^^^^^^^^^^^^^^^^^^^^^^\n",
      "  File \"/home/spyros/Desktop/AI4META/machinelearning/mlpipeline.py\", line 1111, in nested_cv\n",
      "    list_dfs = Parallel(n_jobs=use_cores, verbose=0)(\n",
      "               ^^^^^^^^^^^^^^^^^^^^^^^^^^^^^^^^^^^^^^\n",
      "  File \"/home/spyros/Desktop/AI4META/venv/lib/python3.11/site-packages/joblib/parallel.py\", line 1909, in __call__\n",
      "  File \"/home/spyros/Desktop/AI4META/venv/lib/python3.11/site-packages/joblib/parallel.py\", line 1359, in _initialize_backend\n",
      "  File \"/home/spyros/Desktop/AI4META/venv/lib/python3.11/site-packages/joblib/_parallel_backends.py\", line 538, in configure\n",
      "  File \"/home/spyros/Desktop/AI4META/venv/lib/python3.11/site-packages/joblib/executor.py\", line 20, in get_memmapping_executor\n",
      "  File \"/home/spyros/Desktop/AI4META/venv/lib/python3.11/site-packages/joblib/executor.py\", line 42, in get_memmapping_executor\n",
      "  File \"/home/spyros/Desktop/AI4META/venv/lib/python3.11/site-packages/joblib/_memmapping_reducer.py\", line 540, in __init__\n",
      "  File \"/home/spyros/Desktop/AI4META/venv/lib/python3.11/site-packages/joblib/_memmapping_reducer.py\", line 544, in set_current_context\n",
      "  File \"/home/spyros/Desktop/AI4META/venv/lib/python3.11/site-packages/joblib/_memmapping_reducer.py\", line 569, in register_new_context\n",
      "  File \"/home/spyros/Desktop/AI4META/venv/lib/python3.11/site-packages/joblib/_memmapping_reducer.py\", line 585, in register_folder_finalizer\n",
      "  File \"/home/spyros/Desktop/AI4META/venv/lib/python3.11/site-packages/joblib/externals/loky/backend/resource_tracker.py\", line 178, in register\n",
      "  File \"/home/spyros/Desktop/AI4META/venv/lib/python3.11/site-packages/joblib/externals/loky/backend/resource_tracker.py\", line 149, in ensure_running\n",
      "  File \"/home/spyros/Desktop/AI4META/venv/lib/python3.11/site-packages/joblib/externals/loky/backend/resource_tracker.py\", line 362, in spawnv_passfds\n",
      "ModuleNotFoundError: No module named 'joblib.externals.loky.backend.fork_exec'\n",
      "\n",
      "During handling of the above exception, another exception occurred:\n",
      "\n",
      "Traceback (most recent call last):\n",
      "  File \"/home/spyros/Desktop/AI4META/venv/lib/python3.11/site-packages/pygments/styles/__init__.py\", line 45, in get_style_by_name\n",
      "ModuleNotFoundError: No module named 'pygments.styles.default'\n",
      "\n",
      "During handling of the above exception, another exception occurred:\n",
      "\n",
      "Traceback (most recent call last):\n",
      "  File \"/home/spyros/Desktop/AI4META/venv/lib/python3.11/site-packages/IPython/core/interactiveshell.py\", line 2168, in showtraceback\n",
      "  File \"/home/spyros/Desktop/AI4META/venv/lib/python3.11/site-packages/IPython/core/ultratb.py\", line 1457, in structured_traceback\n",
      "  File \"/home/spyros/Desktop/AI4META/venv/lib/python3.11/site-packages/IPython/core/ultratb.py\", line 1348, in structured_traceback\n",
      "  File \"/home/spyros/Desktop/AI4META/venv/lib/python3.11/site-packages/IPython/core/ultratb.py\", line 1195, in structured_traceback\n",
      "  File \"/home/spyros/Desktop/AI4META/venv/lib/python3.11/site-packages/IPython/core/ultratb.py\", line 1085, in format_exception_as_a_whole\n",
      "  File \"/home/spyros/Desktop/AI4META/venv/lib/python3.11/site-packages/IPython/core/ultratb.py\", line 1136, in get_records\n",
      "  File \"/home/spyros/Desktop/AI4META/venv/lib/python3.11/site-packages/pygments/styles/__init__.py\", line 47, in get_style_by_name\n",
      "pygments.util.ClassNotFound: Could not find style module 'pygments.styles.default', though it should be builtin.\n"
     ]
    }
   ],
   "source": [
    "df = mlpipe.nested_cv(rounds=4,n_trials_ncv=30,outer_splits=4,inner_splits=4,parallel='freely_parallel',num_features=[1,4,20,mlpipe.X.shape[1]], frfs=True, search_on=['LogisticRegression','ElasticNet','LinearDiscriminantAnalysis'], show_bad_samples=True,name_add='manolakos_test', info_to_db=True)"
   ]
  },
  {
   "cell_type": "code",
   "execution_count": 31,
   "metadata": {},
   "outputs": [
    {
     "data": {
      "text/html": [
       "<div>\n",
       "<style scoped>\n",
       "    .dataframe tbody tr th:only-of-type {\n",
       "        vertical-align: middle;\n",
       "    }\n",
       "\n",
       "    .dataframe tbody tr th {\n",
       "        vertical-align: top;\n",
       "    }\n",
       "\n",
       "    .dataframe thead th {\n",
       "        text-align: right;\n",
       "    }\n",
       "</style>\n",
       "<table border=\"1\" class=\"dataframe\">\n",
       "  <thead>\n",
       "    <tr style=\"text-align: right;\">\n",
       "      <th></th>\n",
       "      <th>Estimator</th>\n",
       "      <th>Max_matthews_corrcoef</th>\n",
       "      <th>Std_matthews_corrcoef</th>\n",
       "      <th>SEM_matthews_corrcoef</th>\n",
       "      <th>Median_matthews_corrcoef</th>\n",
       "      <th>Inner_Selection</th>\n",
       "      <th>Numbers_of_Features</th>\n",
       "      <th>Way_of_Selection</th>\n",
       "      <th>Max_roc_auc</th>\n",
       "      <th>Std_roc_auc</th>\n",
       "      <th>...</th>\n",
       "      <th>SEM_f1</th>\n",
       "      <th>Median_f1</th>\n",
       "      <th>Max_average_precision</th>\n",
       "      <th>Std_average_precision</th>\n",
       "      <th>SEM_average_precision</th>\n",
       "      <th>Median_average_precision</th>\n",
       "      <th>Max_specificity</th>\n",
       "      <th>Std_specificity</th>\n",
       "      <th>SEM_specificity</th>\n",
       "      <th>Median_specificity</th>\n",
       "    </tr>\n",
       "  </thead>\n",
       "  <tbody>\n",
       "    <tr>\n",
       "      <th>0</th>\n",
       "      <td>CatBoostClassifier</td>\n",
       "      <td>0.757143</td>\n",
       "      <td>0.121865</td>\n",
       "      <td>0.070359</td>\n",
       "      <td>0.566530</td>\n",
       "      <td>validation_score</td>\n",
       "      <td>149</td>\n",
       "      <td>full</td>\n",
       "      <td>0.942857</td>\n",
       "      <td>0.051715</td>\n",
       "      <td>...</td>\n",
       "      <td>0.039690</td>\n",
       "      <td>0.769231</td>\n",
       "      <td>0.932765</td>\n",
       "      <td>0.070756</td>\n",
       "      <td>0.040851</td>\n",
       "      <td>0.885393</td>\n",
       "      <td>0.857143</td>\n",
       "      <td>0.042208</td>\n",
       "      <td>0.024369</td>\n",
       "      <td>0.814935</td>\n",
       "    </tr>\n",
       "    <tr>\n",
       "      <th>1</th>\n",
       "      <td>ElasticNet</td>\n",
       "      <td>0.756565</td>\n",
       "      <td>0.149710</td>\n",
       "      <td>0.086435</td>\n",
       "      <td>0.515942</td>\n",
       "      <td>validation_score</td>\n",
       "      <td>149</td>\n",
       "      <td>full</td>\n",
       "      <td>0.904762</td>\n",
       "      <td>0.040108</td>\n",
       "      <td>...</td>\n",
       "      <td>0.036580</td>\n",
       "      <td>0.750591</td>\n",
       "      <td>0.918750</td>\n",
       "      <td>0.058948</td>\n",
       "      <td>0.034033</td>\n",
       "      <td>0.824656</td>\n",
       "      <td>0.904762</td>\n",
       "      <td>0.169056</td>\n",
       "      <td>0.097604</td>\n",
       "      <td>0.747835</td>\n",
       "    </tr>\n",
       "    <tr>\n",
       "      <th>2</th>\n",
       "      <td>GaussianNB</td>\n",
       "      <td>0.560861</td>\n",
       "      <td>0.143207</td>\n",
       "      <td>0.082681</td>\n",
       "      <td>0.341138</td>\n",
       "      <td>validation_score</td>\n",
       "      <td>149</td>\n",
       "      <td>full</td>\n",
       "      <td>0.826190</td>\n",
       "      <td>0.086578</td>\n",
       "      <td>...</td>\n",
       "      <td>0.036936</td>\n",
       "      <td>0.689723</td>\n",
       "      <td>0.832343</td>\n",
       "      <td>0.110669</td>\n",
       "      <td>0.063895</td>\n",
       "      <td>0.621291</td>\n",
       "      <td>0.809524</td>\n",
       "      <td>0.118182</td>\n",
       "      <td>0.068233</td>\n",
       "      <td>0.582251</td>\n",
       "    </tr>\n",
       "    <tr>\n",
       "      <th>3</th>\n",
       "      <td>GaussianProcessClassifier</td>\n",
       "      <td>0.560861</td>\n",
       "      <td>0.089486</td>\n",
       "      <td>0.051665</td>\n",
       "      <td>0.420677</td>\n",
       "      <td>validation_score</td>\n",
       "      <td>149</td>\n",
       "      <td>full</td>\n",
       "      <td>0.778571</td>\n",
       "      <td>0.059682</td>\n",
       "      <td>...</td>\n",
       "      <td>0.025734</td>\n",
       "      <td>0.707856</td>\n",
       "      <td>0.807433</td>\n",
       "      <td>0.086449</td>\n",
       "      <td>0.049911</td>\n",
       "      <td>0.727351</td>\n",
       "      <td>0.857143</td>\n",
       "      <td>0.200713</td>\n",
       "      <td>0.115882</td>\n",
       "      <td>0.677489</td>\n",
       "    </tr>\n",
       "    <tr>\n",
       "      <th>4</th>\n",
       "      <td>GradientBoostingClassifier</td>\n",
       "      <td>0.572078</td>\n",
       "      <td>0.070183</td>\n",
       "      <td>0.040520</td>\n",
       "      <td>0.490970</td>\n",
       "      <td>validation_score</td>\n",
       "      <td>149</td>\n",
       "      <td>full</td>\n",
       "      <td>0.873810</td>\n",
       "      <td>0.041005</td>\n",
       "      <td>...</td>\n",
       "      <td>0.028527</td>\n",
       "      <td>0.747093</td>\n",
       "      <td>0.897806</td>\n",
       "      <td>0.057488</td>\n",
       "      <td>0.033191</td>\n",
       "      <td>0.822173</td>\n",
       "      <td>0.772727</td>\n",
       "      <td>0.044583</td>\n",
       "      <td>0.025740</td>\n",
       "      <td>0.767316</td>\n",
       "    </tr>\n",
       "  </tbody>\n",
       "</table>\n",
       "<p>5 rows × 40 columns</p>\n",
       "</div>"
      ],
      "text/plain": [
       "                    Estimator  Max_matthews_corrcoef  Std_matthews_corrcoef  \\\n",
       "0          CatBoostClassifier               0.757143               0.121865   \n",
       "1                  ElasticNet               0.756565               0.149710   \n",
       "2                  GaussianNB               0.560861               0.143207   \n",
       "3   GaussianProcessClassifier               0.560861               0.089486   \n",
       "4  GradientBoostingClassifier               0.572078               0.070183   \n",
       "\n",
       "   SEM_matthews_corrcoef  Median_matthews_corrcoef   Inner_Selection  \\\n",
       "0               0.070359                  0.566530  validation_score   \n",
       "1               0.086435                  0.515942  validation_score   \n",
       "2               0.082681                  0.341138  validation_score   \n",
       "3               0.051665                  0.420677  validation_score   \n",
       "4               0.040520                  0.490970  validation_score   \n",
       "\n",
       "   Numbers_of_Features Way_of_Selection  Max_roc_auc  Std_roc_auc  ...  \\\n",
       "0                  149             full     0.942857     0.051715  ...   \n",
       "1                  149             full     0.904762     0.040108  ...   \n",
       "2                  149             full     0.826190     0.086578  ...   \n",
       "3                  149             full     0.778571     0.059682  ...   \n",
       "4                  149             full     0.873810     0.041005  ...   \n",
       "\n",
       "     SEM_f1  Median_f1  Max_average_precision  Std_average_precision  \\\n",
       "0  0.039690   0.769231               0.932765               0.070756   \n",
       "1  0.036580   0.750591               0.918750               0.058948   \n",
       "2  0.036936   0.689723               0.832343               0.110669   \n",
       "3  0.025734   0.707856               0.807433               0.086449   \n",
       "4  0.028527   0.747093               0.897806               0.057488   \n",
       "\n",
       "   SEM_average_precision  Median_average_precision  Max_specificity  \\\n",
       "0               0.040851                  0.885393         0.857143   \n",
       "1               0.034033                  0.824656         0.904762   \n",
       "2               0.063895                  0.621291         0.809524   \n",
       "3               0.049911                  0.727351         0.857143   \n",
       "4               0.033191                  0.822173         0.772727   \n",
       "\n",
       "   Std_specificity  SEM_specificity  Median_specificity  \n",
       "0         0.042208         0.024369            0.814935  \n",
       "1         0.169056         0.097604            0.747835  \n",
       "2         0.118182         0.068233            0.582251  \n",
       "3         0.200713         0.115882            0.677489  \n",
       "4         0.044583         0.025740            0.767316  \n",
       "\n",
       "[5 rows x 40 columns]"
      ]
     },
     "execution_count": 31,
     "metadata": {},
     "output_type": "execute_result"
    }
   ],
   "source": [
    "df.head()"
   ]
  },
  {
   "cell_type": "code",
   "execution_count": 3,
   "metadata": {},
   "outputs": [
    {
     "name": "stdout",
     "output_type": "stream",
     "text": [
      "Normalization completed.\n",
      "Estimator: LogisticRegression\n",
      "Best parameters: {'penalty': 'l2', 'C': 0.3049859549241435, 'solver': 'sag', 'max_iter': 389, 'n_jobs': None}\n",
      "Best trials score wiuth validation method: 0.6559117521646411. Using one_sem th best score is 0.6289911416376261.\n"
     ]
    },
    {
     "name": "stderr",
     "output_type": "stream",
     "text": [
      "Bootstrap validation: 100%|██████████| 100/100 [02:07<00:00,  1.28s/it]\n"
     ]
    },
    {
     "ename": "NameError",
     "evalue": "name 'dataset' is not defined",
     "output_type": "error",
     "traceback": [
      "\u001b[0;31m---------------------------------------------------------------------------\u001b[0m",
      "\u001b[0;31mNameError\u001b[0m                                 Traceback (most recent call last)",
      "Cell \u001b[0;32mIn[3], line 22\u001b[0m\n\u001b[1;32m     20\u001b[0m mod, df \u001b[38;5;241m=\u001b[39m mlpipe\u001b[38;5;241m.\u001b[39mbayesian_search(estimator_name\u001b[38;5;241m=\u001b[39mestimator,scoring\u001b[38;5;241m=\u001b[39m\u001b[38;5;124m'\u001b[39m\u001b[38;5;124mmatthews_corrcoef\u001b[39m\u001b[38;5;124m'\u001b[39m,boxplot\u001b[38;5;241m=\u001b[39m\u001b[38;5;28;01mFalse\u001b[39;00m, evaluation\u001b[38;5;241m=\u001b[39mevaluation_method, n_trials\u001b[38;5;241m=\u001b[39m\u001b[38;5;241m100\u001b[39m, cv\u001b[38;5;241m=\u001b[39m\u001b[38;5;241m5\u001b[39m, warnings_filter\u001b[38;5;241m=\u001b[39m\u001b[38;5;28;01mTrue\u001b[39;00m,training_method\u001b[38;5;241m=\u001b[39minner,processors\u001b[38;5;241m=\u001b[39m\u001b[38;5;241m4\u001b[39m)\n\u001b[1;32m     21\u001b[0m dataset_df_final \u001b[38;5;241m=\u001b[39m pd\u001b[38;5;241m.\u001b[39mconcat([dataset_df_final,df], ignore_index\u001b[38;5;241m=\u001b[39m\u001b[38;5;28;01mTrue\u001b[39;00m)\n\u001b[0;32m---> 22\u001b[0m dataset_df_final\u001b[38;5;241m.\u001b[39mto_csv(\u001b[38;5;124m'\u001b[39m\u001b[38;5;124mFinal_Model_Results/\u001b[39m\u001b[38;5;124m'\u001b[39m \u001b[38;5;241m+\u001b[39m \u001b[43mdataset\u001b[49m \u001b[38;5;241m+\u001b[39m \u001b[38;5;124m'\u001b[39m\u001b[38;5;124m_final.csv\u001b[39m\u001b[38;5;124m'\u001b[39m)\n\u001b[1;32m     23\u001b[0m \u001b[38;5;28mprint\u001b[39m(\u001b[38;5;124mf\u001b[39m\u001b[38;5;124m'\u001b[39m\u001b[38;5;124mFINISHED WITH \u001b[39m\u001b[38;5;132;01m{\u001b[39;00mdataset\u001b[38;5;132;01m}\u001b[39;00m\u001b[38;5;124m AND \u001b[39m\u001b[38;5;132;01m{\u001b[39;00mestimator\u001b[38;5;132;01m}\u001b[39;00m\u001b[38;5;124m AND \u001b[39m\u001b[38;5;132;01m{\u001b[39;00mevaluation_method\u001b[38;5;132;01m}\u001b[39;00m\u001b[38;5;124m AND \u001b[39m\u001b[38;5;132;01m{\u001b[39;00minner\u001b[38;5;132;01m}\u001b[39;00m\u001b[38;5;124m'\u001b[39m)\n",
      "\u001b[0;31mNameError\u001b[0m: name 'dataset' is not defined"
     ]
    }
   ],
   "source": [
    "import pandas as pd\n",
    "\n",
    "# datasets = ['epic_lc_ms_neg']#, 'chronic_fatigue','lung_cancer','periodontal_inflammation','epic_lc_ms_pos','epic_composite']\n",
    "inner_selection = ['one_sem','validation_score']#,'gso_1','gso_2','one_sem_grd']\n",
    "evaluation = ['bootstrap','oob']\n",
    "estimators = ['LogisticRegression', 'LinearDiscriminantAnalysis']#,'XGBClassifier','SVC','RandomForestClassifier','ElasticNet','LGBMClassifier','GradientBoostingClassifier']\n",
    "\n",
    "# for dataset in datasets:\n",
    "dataset_df_final = pd.DataFrame()\n",
    "# csv_dir = 'data/' + dataset + '.csv'\n",
    "# # if (dataset == 'epic_lc_ms_pos') or(dataset == 'epic_composite'):\n",
    "# label = 'group'\n",
    "# # else:\n",
    "#     # label= 'Class' \n",
    "\n",
    "# mlpipe = MLPipelines(label=label, csv_dir=csv_dir)\n",
    "for estimator in estimators:\n",
    "    for evaluation_method in evaluation:\n",
    "        for inner in inner_selection:\n",
    "            mod, df = mlpipe.bayesian_search(estimator_name=estimator,scoring='matthews_corrcoef',boxplot=False, evaluation=evaluation_method, n_trials=100, cv=5, warnings_filter=True,training_method=inner,processors=4)\n",
    "            dataset_df_final = pd.concat([dataset_df_final,df], ignore_index=True)\n",
    "            dataset_df_final.to_csv('Final_Model_Results/' + dataset + '_final.csv')\n",
    "            print(f'FINISHED WITH {dataset} AND {estimator} AND {evaluation_method} AND {inner}')"
   ]
  },
  {
   "cell_type": "code",
   "execution_count": 25,
   "metadata": {},
   "outputs": [
    {
     "data": {
      "text/plain": [
       "(2, 14)"
      ]
     },
     "execution_count": 25,
     "metadata": {},
     "output_type": "execute_result"
    }
   ],
   "source": [
    "df_oob.shape"
   ]
  },
  {
   "cell_type": "code",
   "execution_count": null,
   "metadata": {},
   "outputs": [],
   "source": []
  },
  {
   "cell_type": "code",
   "execution_count": 22,
   "metadata": {},
   "outputs": [
    {
     "data": {
      "text/plain": [
       "(50, 13)"
      ]
     },
     "execution_count": 22,
     "metadata": {},
     "output_type": "execute_result"
    }
   ],
   "source": [
    "df  = df.explode('Scores')\n",
    "df.shape"
   ]
  },
  {
   "cell_type": "code",
   "execution_count": 6,
   "metadata": {},
   "outputs": [],
   "source": [
    "# eda = DataExplorer(label=label, csv_dir=csv_dir)\n",
    "# # feat = eda.statistical_difference(show_box=False)\n",
    "# eda.pairplots_function(data=mlpipe.X, labels=mlpipe.y, num_of_best_features=6)#list_of_feature=feat)"
   ]
  },
  {
   "cell_type": "code",
   "execution_count": 5,
   "metadata": {},
   "outputs": [
    {
     "name": "stdout",
     "output_type": "stream",
     "text": [
      "None\n"
     ]
    }
   ],
   "source": [
    "from dataloader.dataloader import DataLoader\n",
    "\n",
    "datal = DataLoader(label=label, csv_dir=csv_dir)\n",
    "mrmrfeatX = datal.feature_selection(method='mrmr', num_features=6, inner_method='chi2')\n",
    "print(mrmrfeatX)\n"
   ]
  },
  {
   "cell_type": "markdown",
   "metadata": {},
   "source": [
    "# H-NMR urinary metabolomic profiling **Paper Validation**"
   ]
  },
  {
   "cell_type": "code",
   "execution_count": 7,
   "metadata": {},
   "outputs": [
    {
     "data": {
      "application/vnd.jupyter.widget-view+json": {
       "model_id": "69d894229b4b4d94bf938d233e3d5006",
       "version_major": 2,
       "version_minor": 0
      },
      "text/plain": [
       "  0%|          | 0/100 [00:00<?, ?it/s]"
      ]
     },
     "metadata": {},
     "output_type": "display_data"
    }
   ],
   "source": [
    "import numpy as np\n",
    "from sklearn.linear_model import Lasso, LogisticRegression\n",
    "from sklearn.metrics import roc_auc_score, matthews_corrcoef\n",
    "from sklearn.utils import resample\n",
    "from sklearn.metrics import make_scorer\n",
    "import sklearn.metrics as metrics\n",
    "import plotly.express as px\n",
    "\n",
    "import optuna\n",
    "import pandas as pd\n",
    "from sklearn.model_selection import train_test_split\n",
    "import tqdm\n",
    "import logging\n",
    "\n",
    "\n",
    "level=0\n",
    "optuna.logging.set_verbosity(level)\n",
    "logging.getLogger(\"optuna\").setLevel(level)\n",
    "\n",
    "# Assuming mlpipe.X and mlpipe.y are already defined\n",
    "mlpipe.X = datal.missing_values(mlpipe.X)\n",
    "# mlpipe.X = mlpipe.X.fillna(0)\n",
    "\n",
    "\n",
    "selected_features = ['M8','M18','M32']\n",
    "X = mlpipe.X[selected_features]\n",
    "# X = mlpipe.X\n",
    "y = pd.DataFrame(mlpipe.y)\n",
    "\n",
    "# Define the objective function for Optuna\n",
    "def objective(trial):\n",
    "#     penalty = trial.suggest_categorical('penalty', ['elasticnet'])\n",
    "#     C = trial.suggest_float('C', 0.01, 1.0)\n",
    "#     l1_ratio = trial.suggest_float('l1_ratio', 0.0, 1.0)\n",
    "    # solver = trial.suggest_categorical('solver', ['saga'])\n",
    "\n",
    "    alpha = trial.suggest_float('alpha', 0,1)\n",
    "    selection = trial.suggest_categorical('selection', ['cyclic', 'random'])\n",
    "    positive = trial.suggest_categorical('positive', [True, False])\n",
    "    warm_start = trial.suggest_categorical('warm_start', [True, False])\n",
    "    precompute = trial.suggest_categorical('precompute', [True, False])\n",
    "    \n",
    "    mcc_scores = []\n",
    "    \n",
    "    # Bootstrap resampling and Lasso fitting\n",
    "    for i in range(100):  # Assuming 100 bootstrap samples\n",
    "        X_resampled, y_resampled = resample(X, y, replace=True, random_state=i)\n",
    "        \n",
    "        # Split the resampled data into train and test sets\n",
    "        X_train, X_test, y_train, y_test = train_test_split(X_resampled, y_resampled, test_size=0.2, random_state=i)\n",
    "        \n",
    "        # Train the Lasso model with the suggested alpha\n",
    "        lasso_classifier = Lasso(alpha=alpha, selection=selection, positive=positive, warm_start=warm_start, precompute=precompute)\n",
    "        # lasso_classifier = LogisticRegression(penalty=penalty, C=C, l1_ratio=l1_ratio, solver=solver)\n",
    "        lasso_classifier.fit(X_train, y_train)\n",
    "        \n",
    "        # Predict on the test set\n",
    "        y_pred = lasso_classifier.predict(X_test)\n",
    "\n",
    "        # Convert predictions to binary using a threshold\n",
    "        y_pred_binary = np.where(y_pred > 0.5, 1, 0)\n",
    "        \n",
    "        # Calculate the MCC\n",
    "        # mcc = roc_auc_score(y_test, y_pred)\n",
    "        mcc = matthews_corrcoef(y_test, y_pred_binary)\n",
    "        mcc_scores.append(mcc)\n",
    "    \n",
    "    # Return the mean score across all bootstrap samples\n",
    "    return np.mean(mcc_scores)\n",
    "\n",
    "# Create an Optuna study and optimize the objective function\n",
    "study = optuna.create_study(direction='maximize', sampler=optuna.samplers.TPESampler())\n",
    "study.optimize(objective, n_trials=100, n_jobs=-1, show_progress_bar=True)\n",
    "\n"
   ]
  },
  {
   "cell_type": "code",
   "execution_count": 9,
   "metadata": {},
   "outputs": [
    {
     "name": "stderr",
     "output_type": "stream",
     "text": [
      "Bootstrap validation: 100%|██████████| 100/100 [00:03<00:00, 27.86it/s]\n"
     ]
    },
    {
     "data": {
      "application/vnd.plotly.v1+json": {
       "config": {
        "plotlyServerURL": "https://plot.ly"
       },
       "data": [
        {
         "alignmentgroup": "True",
         "hovertemplate": "y=%{y}<extra></extra>",
         "legendgroup": "",
         "marker": {
          "color": "#636efa"
         },
         "name": "",
         "notched": false,
         "offsetgroup": "",
         "orientation": "v",
         "showlegend": false,
         "type": "box",
         "x0": " ",
         "xaxis": "x",
         "y": [
          0.8979591836734694,
          0.8673469387755102,
          0.8518518518518519,
          0.9545454545454545,
          0.951923076923077,
          0.7884615384615384,
          0.8846153846153846,
          0.9090909090909092,
          0.8148148148148148,
          0.9259259259259259,
          0.962962962962963,
          0.9259259259259259,
          0.8888888888888888,
          0.9,
          0.8557692307692308,
          0.9636363636363636,
          0.8518518518518519,
          0.8545454545454545,
          0.7333333333333334,
          1,
          0.9166666666666666,
          0.8272727272727273,
          0.9444444444444444,
          0.9134615384615384,
          0.8163265306122449,
          0.8545454545454545,
          0.8888888888888888,
          0.9903846153846154,
          0.9903846153846154,
          0.8796296296296298,
          0.7818181818181817,
          1,
          0.8240740740740742,
          0.9166666666666667,
          0.9537037037037037,
          0.8942307692307693,
          0.8981481481481481,
          0.9545454545454545,
          0.8999999999999999,
          0.9545454545454545,
          0.9387755102040816,
          0.9537037037037037,
          0.9814814814814814,
          0.9818181818181818,
          0.9090909090909091,
          0.962962962962963,
          0.8981481481481483,
          0.9423076923076923,
          0.8269230769230769,
          0.7592592592592592,
          0.851851851851852,
          0.9166666666666666,
          0.9711538461538463,
          0.9519230769230769,
          0.9090909090909091,
          0.8775510204081634,
          0.9363636363636363,
          0.9711538461538461,
          0.9,
          0.8818181818181818,
          0.7596153846153846,
          1,
          0.9545454545454545,
          0.9134615384615384,
          1,
          0.989795918367347,
          0.9909090909090909,
          0.9519230769230769,
          0.9722222222222223,
          0.8545454545454545,
          1,
          0.9537037037037037,
          0.826923076923077,
          0.8055555555555556,
          0.9111111111111112,
          0.9814814814814814,
          0.824074074074074,
          0.8365384615384615,
          0.8846153846153846,
          0.846938775510204,
          0.9444444444444444,
          0.8333333333333334,
          0.7818181818181817,
          0.9903846153846154,
          0.9326923076923077,
          0.8796296296296298,
          0.9081632653061225,
          0.8775510204081634,
          0.9907407407407407,
          0.9134615384615385,
          0.9907407407407407,
          0.8846153846153846,
          0.8363636363636362,
          0.6333333333333333,
          0.8775510204081632,
          0.9090909090909091,
          0.9259259259259259,
          0.8999999999999999,
          0.9537037037037037,
          0.8090909090909091
         ],
         "y0": " ",
         "yaxis": "y"
        }
       ],
       "layout": {
        "boxmode": "group",
        "legend": {
         "tracegroupgap": 0
        },
        "showlegend": false,
        "template": {
         "data": {
          "bar": [
           {
            "error_x": {
             "color": "#2a3f5f"
            },
            "error_y": {
             "color": "#2a3f5f"
            },
            "marker": {
             "line": {
              "color": "#E5ECF6",
              "width": 0.5
             },
             "pattern": {
              "fillmode": "overlay",
              "size": 10,
              "solidity": 0.2
             }
            },
            "type": "bar"
           }
          ],
          "barpolar": [
           {
            "marker": {
             "line": {
              "color": "#E5ECF6",
              "width": 0.5
             },
             "pattern": {
              "fillmode": "overlay",
              "size": 10,
              "solidity": 0.2
             }
            },
            "type": "barpolar"
           }
          ],
          "carpet": [
           {
            "aaxis": {
             "endlinecolor": "#2a3f5f",
             "gridcolor": "white",
             "linecolor": "white",
             "minorgridcolor": "white",
             "startlinecolor": "#2a3f5f"
            },
            "baxis": {
             "endlinecolor": "#2a3f5f",
             "gridcolor": "white",
             "linecolor": "white",
             "minorgridcolor": "white",
             "startlinecolor": "#2a3f5f"
            },
            "type": "carpet"
           }
          ],
          "choropleth": [
           {
            "colorbar": {
             "outlinewidth": 0,
             "ticks": ""
            },
            "type": "choropleth"
           }
          ],
          "contour": [
           {
            "colorbar": {
             "outlinewidth": 0,
             "ticks": ""
            },
            "colorscale": [
             [
              0,
              "#0d0887"
             ],
             [
              0.1111111111111111,
              "#46039f"
             ],
             [
              0.2222222222222222,
              "#7201a8"
             ],
             [
              0.3333333333333333,
              "#9c179e"
             ],
             [
              0.4444444444444444,
              "#bd3786"
             ],
             [
              0.5555555555555556,
              "#d8576b"
             ],
             [
              0.6666666666666666,
              "#ed7953"
             ],
             [
              0.7777777777777778,
              "#fb9f3a"
             ],
             [
              0.8888888888888888,
              "#fdca26"
             ],
             [
              1,
              "#f0f921"
             ]
            ],
            "type": "contour"
           }
          ],
          "contourcarpet": [
           {
            "colorbar": {
             "outlinewidth": 0,
             "ticks": ""
            },
            "type": "contourcarpet"
           }
          ],
          "heatmap": [
           {
            "colorbar": {
             "outlinewidth": 0,
             "ticks": ""
            },
            "colorscale": [
             [
              0,
              "#0d0887"
             ],
             [
              0.1111111111111111,
              "#46039f"
             ],
             [
              0.2222222222222222,
              "#7201a8"
             ],
             [
              0.3333333333333333,
              "#9c179e"
             ],
             [
              0.4444444444444444,
              "#bd3786"
             ],
             [
              0.5555555555555556,
              "#d8576b"
             ],
             [
              0.6666666666666666,
              "#ed7953"
             ],
             [
              0.7777777777777778,
              "#fb9f3a"
             ],
             [
              0.8888888888888888,
              "#fdca26"
             ],
             [
              1,
              "#f0f921"
             ]
            ],
            "type": "heatmap"
           }
          ],
          "heatmapgl": [
           {
            "colorbar": {
             "outlinewidth": 0,
             "ticks": ""
            },
            "colorscale": [
             [
              0,
              "#0d0887"
             ],
             [
              0.1111111111111111,
              "#46039f"
             ],
             [
              0.2222222222222222,
              "#7201a8"
             ],
             [
              0.3333333333333333,
              "#9c179e"
             ],
             [
              0.4444444444444444,
              "#bd3786"
             ],
             [
              0.5555555555555556,
              "#d8576b"
             ],
             [
              0.6666666666666666,
              "#ed7953"
             ],
             [
              0.7777777777777778,
              "#fb9f3a"
             ],
             [
              0.8888888888888888,
              "#fdca26"
             ],
             [
              1,
              "#f0f921"
             ]
            ],
            "type": "heatmapgl"
           }
          ],
          "histogram": [
           {
            "marker": {
             "pattern": {
              "fillmode": "overlay",
              "size": 10,
              "solidity": 0.2
             }
            },
            "type": "histogram"
           }
          ],
          "histogram2d": [
           {
            "colorbar": {
             "outlinewidth": 0,
             "ticks": ""
            },
            "colorscale": [
             [
              0,
              "#0d0887"
             ],
             [
              0.1111111111111111,
              "#46039f"
             ],
             [
              0.2222222222222222,
              "#7201a8"
             ],
             [
              0.3333333333333333,
              "#9c179e"
             ],
             [
              0.4444444444444444,
              "#bd3786"
             ],
             [
              0.5555555555555556,
              "#d8576b"
             ],
             [
              0.6666666666666666,
              "#ed7953"
             ],
             [
              0.7777777777777778,
              "#fb9f3a"
             ],
             [
              0.8888888888888888,
              "#fdca26"
             ],
             [
              1,
              "#f0f921"
             ]
            ],
            "type": "histogram2d"
           }
          ],
          "histogram2dcontour": [
           {
            "colorbar": {
             "outlinewidth": 0,
             "ticks": ""
            },
            "colorscale": [
             [
              0,
              "#0d0887"
             ],
             [
              0.1111111111111111,
              "#46039f"
             ],
             [
              0.2222222222222222,
              "#7201a8"
             ],
             [
              0.3333333333333333,
              "#9c179e"
             ],
             [
              0.4444444444444444,
              "#bd3786"
             ],
             [
              0.5555555555555556,
              "#d8576b"
             ],
             [
              0.6666666666666666,
              "#ed7953"
             ],
             [
              0.7777777777777778,
              "#fb9f3a"
             ],
             [
              0.8888888888888888,
              "#fdca26"
             ],
             [
              1,
              "#f0f921"
             ]
            ],
            "type": "histogram2dcontour"
           }
          ],
          "mesh3d": [
           {
            "colorbar": {
             "outlinewidth": 0,
             "ticks": ""
            },
            "type": "mesh3d"
           }
          ],
          "parcoords": [
           {
            "line": {
             "colorbar": {
              "outlinewidth": 0,
              "ticks": ""
             }
            },
            "type": "parcoords"
           }
          ],
          "pie": [
           {
            "automargin": true,
            "type": "pie"
           }
          ],
          "scatter": [
           {
            "fillpattern": {
             "fillmode": "overlay",
             "size": 10,
             "solidity": 0.2
            },
            "type": "scatter"
           }
          ],
          "scatter3d": [
           {
            "line": {
             "colorbar": {
              "outlinewidth": 0,
              "ticks": ""
             }
            },
            "marker": {
             "colorbar": {
              "outlinewidth": 0,
              "ticks": ""
             }
            },
            "type": "scatter3d"
           }
          ],
          "scattercarpet": [
           {
            "marker": {
             "colorbar": {
              "outlinewidth": 0,
              "ticks": ""
             }
            },
            "type": "scattercarpet"
           }
          ],
          "scattergeo": [
           {
            "marker": {
             "colorbar": {
              "outlinewidth": 0,
              "ticks": ""
             }
            },
            "type": "scattergeo"
           }
          ],
          "scattergl": [
           {
            "marker": {
             "colorbar": {
              "outlinewidth": 0,
              "ticks": ""
             }
            },
            "type": "scattergl"
           }
          ],
          "scattermapbox": [
           {
            "marker": {
             "colorbar": {
              "outlinewidth": 0,
              "ticks": ""
             }
            },
            "type": "scattermapbox"
           }
          ],
          "scatterpolar": [
           {
            "marker": {
             "colorbar": {
              "outlinewidth": 0,
              "ticks": ""
             }
            },
            "type": "scatterpolar"
           }
          ],
          "scatterpolargl": [
           {
            "marker": {
             "colorbar": {
              "outlinewidth": 0,
              "ticks": ""
             }
            },
            "type": "scatterpolargl"
           }
          ],
          "scatterternary": [
           {
            "marker": {
             "colorbar": {
              "outlinewidth": 0,
              "ticks": ""
             }
            },
            "type": "scatterternary"
           }
          ],
          "surface": [
           {
            "colorbar": {
             "outlinewidth": 0,
             "ticks": ""
            },
            "colorscale": [
             [
              0,
              "#0d0887"
             ],
             [
              0.1111111111111111,
              "#46039f"
             ],
             [
              0.2222222222222222,
              "#7201a8"
             ],
             [
              0.3333333333333333,
              "#9c179e"
             ],
             [
              0.4444444444444444,
              "#bd3786"
             ],
             [
              0.5555555555555556,
              "#d8576b"
             ],
             [
              0.6666666666666666,
              "#ed7953"
             ],
             [
              0.7777777777777778,
              "#fb9f3a"
             ],
             [
              0.8888888888888888,
              "#fdca26"
             ],
             [
              1,
              "#f0f921"
             ]
            ],
            "type": "surface"
           }
          ],
          "table": [
           {
            "cells": {
             "fill": {
              "color": "#EBF0F8"
             },
             "line": {
              "color": "white"
             }
            },
            "header": {
             "fill": {
              "color": "#C8D4E3"
             },
             "line": {
              "color": "white"
             }
            },
            "type": "table"
           }
          ]
         },
         "layout": {
          "annotationdefaults": {
           "arrowcolor": "#2a3f5f",
           "arrowhead": 0,
           "arrowwidth": 1
          },
          "autotypenumbers": "strict",
          "coloraxis": {
           "colorbar": {
            "outlinewidth": 0,
            "ticks": ""
           }
          },
          "colorscale": {
           "diverging": [
            [
             0,
             "#8e0152"
            ],
            [
             0.1,
             "#c51b7d"
            ],
            [
             0.2,
             "#de77ae"
            ],
            [
             0.3,
             "#f1b6da"
            ],
            [
             0.4,
             "#fde0ef"
            ],
            [
             0.5,
             "#f7f7f7"
            ],
            [
             0.6,
             "#e6f5d0"
            ],
            [
             0.7,
             "#b8e186"
            ],
            [
             0.8,
             "#7fbc41"
            ],
            [
             0.9,
             "#4d9221"
            ],
            [
             1,
             "#276419"
            ]
           ],
           "sequential": [
            [
             0,
             "#0d0887"
            ],
            [
             0.1111111111111111,
             "#46039f"
            ],
            [
             0.2222222222222222,
             "#7201a8"
            ],
            [
             0.3333333333333333,
             "#9c179e"
            ],
            [
             0.4444444444444444,
             "#bd3786"
            ],
            [
             0.5555555555555556,
             "#d8576b"
            ],
            [
             0.6666666666666666,
             "#ed7953"
            ],
            [
             0.7777777777777778,
             "#fb9f3a"
            ],
            [
             0.8888888888888888,
             "#fdca26"
            ],
            [
             1,
             "#f0f921"
            ]
           ],
           "sequentialminus": [
            [
             0,
             "#0d0887"
            ],
            [
             0.1111111111111111,
             "#46039f"
            ],
            [
             0.2222222222222222,
             "#7201a8"
            ],
            [
             0.3333333333333333,
             "#9c179e"
            ],
            [
             0.4444444444444444,
             "#bd3786"
            ],
            [
             0.5555555555555556,
             "#d8576b"
            ],
            [
             0.6666666666666666,
             "#ed7953"
            ],
            [
             0.7777777777777778,
             "#fb9f3a"
            ],
            [
             0.8888888888888888,
             "#fdca26"
            ],
            [
             1,
             "#f0f921"
            ]
           ]
          },
          "colorway": [
           "#636efa",
           "#EF553B",
           "#00cc96",
           "#ab63fa",
           "#FFA15A",
           "#19d3f3",
           "#FF6692",
           "#B6E880",
           "#FF97FF",
           "#FECB52"
          ],
          "font": {
           "color": "#2a3f5f"
          },
          "geo": {
           "bgcolor": "white",
           "lakecolor": "white",
           "landcolor": "#E5ECF6",
           "showlakes": true,
           "showland": true,
           "subunitcolor": "white"
          },
          "hoverlabel": {
           "align": "left"
          },
          "hovermode": "closest",
          "mapbox": {
           "style": "light"
          },
          "paper_bgcolor": "white",
          "plot_bgcolor": "#E5ECF6",
          "polar": {
           "angularaxis": {
            "gridcolor": "white",
            "linecolor": "white",
            "ticks": ""
           },
           "bgcolor": "#E5ECF6",
           "radialaxis": {
            "gridcolor": "white",
            "linecolor": "white",
            "ticks": ""
           }
          },
          "scene": {
           "xaxis": {
            "backgroundcolor": "#E5ECF6",
            "gridcolor": "white",
            "gridwidth": 2,
            "linecolor": "white",
            "showbackground": true,
            "ticks": "",
            "zerolinecolor": "white"
           },
           "yaxis": {
            "backgroundcolor": "#E5ECF6",
            "gridcolor": "white",
            "gridwidth": 2,
            "linecolor": "white",
            "showbackground": true,
            "ticks": "",
            "zerolinecolor": "white"
           },
           "zaxis": {
            "backgroundcolor": "#E5ECF6",
            "gridcolor": "white",
            "gridwidth": 2,
            "linecolor": "white",
            "showbackground": true,
            "ticks": "",
            "zerolinecolor": "white"
           }
          },
          "shapedefaults": {
           "line": {
            "color": "#2a3f5f"
           }
          },
          "ternary": {
           "aaxis": {
            "gridcolor": "white",
            "linecolor": "white",
            "ticks": ""
           },
           "baxis": {
            "gridcolor": "white",
            "linecolor": "white",
            "ticks": ""
           },
           "bgcolor": "#E5ECF6",
           "caxis": {
            "gridcolor": "white",
            "linecolor": "white",
            "ticks": ""
           }
          },
          "title": {
           "x": 0.05
          },
          "xaxis": {
           "automargin": true,
           "gridcolor": "white",
           "linecolor": "white",
           "ticks": "",
           "title": {
            "standoff": 15
           },
           "zerolinecolor": "white",
           "zerolinewidth": 2
          },
          "yaxis": {
           "automargin": true,
           "gridcolor": "white",
           "linecolor": "white",
           "ticks": "",
           "title": {
            "standoff": 15
           },
           "zerolinecolor": "white",
           "zerolinewidth": 2
          }
         }
        },
        "title": {
         "text": "Bootstrap Scores Boxplot"
        },
        "xaxis": {
         "anchor": "y",
         "domain": [
          0,
          1
         ],
         "title": {
          "text": "Bootstrap Samples"
         }
        },
        "yaxis": {
         "anchor": "x",
         "domain": [
          0,
          1
         ],
         "title": {
          "text": "ROC AUC Score"
         }
        }
       }
      }
     },
     "metadata": {},
     "output_type": "display_data"
    }
   ],
   "source": [
    "from sklearn.metrics import roc_auc_score, accuracy_score, precision_score, recall_score, f1_score, matthews_corrcoef, balanced_accuracy_score\n",
    "\n",
    "best_params = study.best_trial.params\n",
    "# model_bootstrap = LogisticRegression(**best_params)\n",
    "model_bootstrap = Lasso(**best_params)\n",
    "\n",
    "# List to store metrics for each iteration\n",
    "bootstrap_scores = {\n",
    "    \"roc_auc\": [],\n",
    "    \"accuracy\": [],\n",
    "    \"precision\": [],\n",
    "    \"recall\": [],\n",
    "    \"f1\": [],\n",
    "    \"matthews_corrcoef\": [],\n",
    "    \"balanced_accuracy\": [],\n",
    "}\n",
    "\n",
    "# Perform bootstrap validation\n",
    "for i in tqdm.tqdm(range(100), desc=\"Bootstrap validation\"):\n",
    "    X_train, X_test, y_train, y_test = train_test_split(\n",
    "        X, y, test_size=0.25, shuffle=True, random_state=i\n",
    "    )\n",
    "    model_bootstrap.fit(X_train, y_train)\n",
    "    y_pred = model_bootstrap.predict(X_test)\n",
    "\n",
    "    # Convert predictions to binary if necessary (for classification metrics)\n",
    "    y_pred_binary = [1 if y > 0.5 else 0 for y in y_pred]\n",
    "\n",
    "    # Calculate and store all metrics\n",
    "    bootstrap_scores[\"roc_auc\"].append(roc_auc_score(y_test, y_pred))\n",
    "    bootstrap_scores[\"accuracy\"].append(accuracy_score(y_test, y_pred_binary))\n",
    "    bootstrap_scores[\"precision\"].append(precision_score(y_test, y_pred_binary))\n",
    "    bootstrap_scores[\"recall\"].append(recall_score(y_test, y_pred_binary))\n",
    "    bootstrap_scores[\"f1\"].append(f1_score(y_test, y_pred_binary))\n",
    "    bootstrap_scores[\"matthews_corrcoef\"].append(matthews_corrcoef(y_test, y_pred_binary))\n",
    "    bootstrap_scores[\"balanced_accuracy\"].append(balanced_accuracy_score(y_test, y_pred_binary))\n",
    "\n",
    "# Convert the dictionary to a DataFrame for easy plotting and analysis\n",
    "bootstrap_scores_df = pd.DataFrame(bootstrap_scores)\n",
    "\n",
    "# Create a boxplot using Plotly\n",
    "fig = px.box(bootstrap_scores[\"roc_auc\"], y=bootstrap_scores[\"roc_auc\"], title='Bootstrap Scores Boxplot')\n",
    "\n",
    "# Update the layout for better aesthetics\n",
    "fig.update_layout(\n",
    "    yaxis_title='ROC AUC Score',\n",
    "    xaxis_title='Bootstrap Samples',\n",
    "    showlegend=False\n",
    ")\n",
    "\n",
    "# Show the plot\n",
    "fig.show()"
   ]
  },
  {
   "cell_type": "markdown",
   "metadata": {},
   "source": [
    ",Scores,mean_test_score,std_test_score,sem_test_score,params,round,ranked,roc_auc,accuracy,balanced_accuracy,recall,precision,f1,matthews_corrcoef,Estimator,Training Method,Dataset\n"
   ]
  },
  {
   "cell_type": "code",
   "execution_count": 22,
   "metadata": {},
   "outputs": [
    {
     "data": {
      "text/html": [
       "<div>\n",
       "<style scoped>\n",
       "    .dataframe tbody tr th:only-of-type {\n",
       "        vertical-align: middle;\n",
       "    }\n",
       "\n",
       "    .dataframe tbody tr th {\n",
       "        vertical-align: top;\n",
       "    }\n",
       "\n",
       "    .dataframe thead th {\n",
       "        text-align: right;\n",
       "    }\n",
       "</style>\n",
       "<table border=\"1\" class=\"dataframe\">\n",
       "  <thead>\n",
       "    <tr style=\"text-align: right;\">\n",
       "      <th></th>\n",
       "      <th>roc_auc</th>\n",
       "      <th>accuracy</th>\n",
       "      <th>precision</th>\n",
       "      <th>recall</th>\n",
       "      <th>f1</th>\n",
       "      <th>matthews_corrcoef</th>\n",
       "      <th>balanced_accuracy</th>\n",
       "      <th>Scores</th>\n",
       "      <th>mean_test_score</th>\n",
       "      <th>std_test_score</th>\n",
       "      <th>sem_test_score</th>\n",
       "      <th>params</th>\n",
       "      <th>round</th>\n",
       "      <th>Estimator</th>\n",
       "      <th>Training Method</th>\n",
       "      <th>Dataset</th>\n",
       "      <th>ranked</th>\n",
       "      <th>Features</th>\n",
       "    </tr>\n",
       "  </thead>\n",
       "  <tbody>\n",
       "    <tr>\n",
       "      <th>0</th>\n",
       "      <td>0.897959</td>\n",
       "      <td>0.809524</td>\n",
       "      <td>0.916667</td>\n",
       "      <td>0.785714</td>\n",
       "      <td>0.846154</td>\n",
       "      <td>0.612372</td>\n",
       "      <td>0.821429</td>\n",
       "      <td>0.612372</td>\n",
       "      <td>0.646397</td>\n",
       "      <td>0.16763</td>\n",
       "      <td>0.016763</td>\n",
       "      <td>NaN</td>\n",
       "      <td>bootstrap</td>\n",
       "      <td>Lasso</td>\n",
       "      <td>validation_score</td>\n",
       "      <td>data/gastric_cancer.csv</td>\n",
       "      <td>1</td>\n",
       "      <td>['M8', 'M18', 'M32']</td>\n",
       "    </tr>\n",
       "    <tr>\n",
       "      <th>1</th>\n",
       "      <td>0.867347</td>\n",
       "      <td>0.571429</td>\n",
       "      <td>0.437500</td>\n",
       "      <td>1.000000</td>\n",
       "      <td>0.608696</td>\n",
       "      <td>0.395285</td>\n",
       "      <td>0.678571</td>\n",
       "      <td>0.395285</td>\n",
       "      <td>0.646397</td>\n",
       "      <td>0.16763</td>\n",
       "      <td>0.016763</td>\n",
       "      <td>NaN</td>\n",
       "      <td>bootstrap</td>\n",
       "      <td>Lasso</td>\n",
       "      <td>validation_score</td>\n",
       "      <td>data/gastric_cancer.csv</td>\n",
       "      <td>1</td>\n",
       "      <td>['M8', 'M18', 'M32']</td>\n",
       "    </tr>\n",
       "    <tr>\n",
       "      <th>2</th>\n",
       "      <td>0.851852</td>\n",
       "      <td>0.809524</td>\n",
       "      <td>0.727273</td>\n",
       "      <td>0.888889</td>\n",
       "      <td>0.800000</td>\n",
       "      <td>0.633054</td>\n",
       "      <td>0.819444</td>\n",
       "      <td>0.633054</td>\n",
       "      <td>0.646397</td>\n",
       "      <td>0.16763</td>\n",
       "      <td>0.016763</td>\n",
       "      <td>NaN</td>\n",
       "      <td>bootstrap</td>\n",
       "      <td>Lasso</td>\n",
       "      <td>validation_score</td>\n",
       "      <td>data/gastric_cancer.csv</td>\n",
       "      <td>1</td>\n",
       "      <td>['M8', 'M18', 'M32']</td>\n",
       "    </tr>\n",
       "    <tr>\n",
       "      <th>3</th>\n",
       "      <td>0.954545</td>\n",
       "      <td>0.904762</td>\n",
       "      <td>0.833333</td>\n",
       "      <td>1.000000</td>\n",
       "      <td>0.909091</td>\n",
       "      <td>0.825723</td>\n",
       "      <td>0.909091</td>\n",
       "      <td>0.825723</td>\n",
       "      <td>0.646397</td>\n",
       "      <td>0.16763</td>\n",
       "      <td>0.016763</td>\n",
       "      <td>NaN</td>\n",
       "      <td>bootstrap</td>\n",
       "      <td>Lasso</td>\n",
       "      <td>validation_score</td>\n",
       "      <td>data/gastric_cancer.csv</td>\n",
       "      <td>1</td>\n",
       "      <td>['M8', 'M18', 'M32']</td>\n",
       "    </tr>\n",
       "    <tr>\n",
       "      <th>4</th>\n",
       "      <td>0.951923</td>\n",
       "      <td>0.904762</td>\n",
       "      <td>0.923077</td>\n",
       "      <td>0.923077</td>\n",
       "      <td>0.923077</td>\n",
       "      <td>0.798077</td>\n",
       "      <td>0.899038</td>\n",
       "      <td>0.798077</td>\n",
       "      <td>0.646397</td>\n",
       "      <td>0.16763</td>\n",
       "      <td>0.016763</td>\n",
       "      <td>NaN</td>\n",
       "      <td>bootstrap</td>\n",
       "      <td>Lasso</td>\n",
       "      <td>validation_score</td>\n",
       "      <td>data/gastric_cancer.csv</td>\n",
       "      <td>1</td>\n",
       "      <td>['M8', 'M18', 'M32']</td>\n",
       "    </tr>\n",
       "  </tbody>\n",
       "</table>\n",
       "</div>"
      ],
      "text/plain": [
       "    roc_auc  accuracy  precision    recall        f1  matthews_corrcoef  \\\n",
       "0  0.897959  0.809524   0.916667  0.785714  0.846154           0.612372   \n",
       "1  0.867347  0.571429   0.437500  1.000000  0.608696           0.395285   \n",
       "2  0.851852  0.809524   0.727273  0.888889  0.800000           0.633054   \n",
       "3  0.954545  0.904762   0.833333  1.000000  0.909091           0.825723   \n",
       "4  0.951923  0.904762   0.923077  0.923077  0.923077           0.798077   \n",
       "\n",
       "   balanced_accuracy    Scores  mean_test_score  std_test_score  \\\n",
       "0           0.821429  0.612372         0.646397         0.16763   \n",
       "1           0.678571  0.395285         0.646397         0.16763   \n",
       "2           0.819444  0.633054         0.646397         0.16763   \n",
       "3           0.909091  0.825723         0.646397         0.16763   \n",
       "4           0.899038  0.798077         0.646397         0.16763   \n",
       "\n",
       "   sem_test_score  params      round Estimator   Training Method  \\\n",
       "0        0.016763     NaN  bootstrap     Lasso  validation_score   \n",
       "1        0.016763     NaN  bootstrap     Lasso  validation_score   \n",
       "2        0.016763     NaN  bootstrap     Lasso  validation_score   \n",
       "3        0.016763     NaN  bootstrap     Lasso  validation_score   \n",
       "4        0.016763     NaN  bootstrap     Lasso  validation_score   \n",
       "\n",
       "                   Dataset  ranked              Features  \n",
       "0  data/gastric_cancer.csv       1  ['M8', 'M18', 'M32']  \n",
       "1  data/gastric_cancer.csv       1  ['M8', 'M18', 'M32']  \n",
       "2  data/gastric_cancer.csv       1  ['M8', 'M18', 'M32']  \n",
       "3  data/gastric_cancer.csv       1  ['M8', 'M18', 'M32']  \n",
       "4  data/gastric_cancer.csv       1  ['M8', 'M18', 'M32']  "
      ]
     },
     "execution_count": 22,
     "metadata": {},
     "output_type": "execute_result"
    }
   ],
   "source": [
    "bootstrap_scores_df['Scores'] = bootstrap_scores_df.matthews_corrcoef.values\n",
    "bootstrap_scores_df['mean_test_score'] = bootstrap_scores_df.Scores.mean()\n",
    "bootstrap_scores_df['std_test_score'] = bootstrap_scores_df.Scores.std()\n",
    "bootstrap_scores_df['sem_test_score'] = bootstrap_scores_df.Scores.sem()\n",
    "\n",
    "bootstrap_scores_df['params'] = np.NaN\n",
    "bootstrap_scores_df['round'] = 'bootstrap'\n",
    "bootstrap_scores_df['ranked'] = 1\n",
    "\n",
    "bootstrap_scores_df['Estimator'] = 'Lasso'\n",
    "bootstrap_scores_df['Training Method'] = 'validation_score'\n",
    "bootstrap_scores_df['Dataset'] = csv_dir\n",
    "\n",
    "bootstrap_scores_df['Features'] = str(selected_features)\n",
    "\n",
    "bootstrap_scores_df.head()"
   ]
  },
  {
   "cell_type": "code",
   "execution_count": 23,
   "metadata": {},
   "outputs": [],
   "source": [
    "init_df = pd.read_csv('paper_evaluation.csv', index_col=0)\n",
    "init_df['Features'] = 'all'"
   ]
  },
  {
   "cell_type": "code",
   "execution_count": 24,
   "metadata": {},
   "outputs": [
    {
     "data": {
      "text/html": [
       "<div>\n",
       "<style scoped>\n",
       "    .dataframe tbody tr th:only-of-type {\n",
       "        vertical-align: middle;\n",
       "    }\n",
       "\n",
       "    .dataframe tbody tr th {\n",
       "        vertical-align: top;\n",
       "    }\n",
       "\n",
       "    .dataframe thead th {\n",
       "        text-align: right;\n",
       "    }\n",
       "</style>\n",
       "<table border=\"1\" class=\"dataframe\">\n",
       "  <thead>\n",
       "    <tr style=\"text-align: right;\">\n",
       "      <th></th>\n",
       "      <th>Scores</th>\n",
       "      <th>mean_test_score</th>\n",
       "      <th>std_test_score</th>\n",
       "      <th>sem_test_score</th>\n",
       "      <th>params</th>\n",
       "      <th>round</th>\n",
       "      <th>ranked</th>\n",
       "      <th>roc_auc</th>\n",
       "      <th>accuracy</th>\n",
       "      <th>balanced_accuracy</th>\n",
       "      <th>recall</th>\n",
       "      <th>precision</th>\n",
       "      <th>f1</th>\n",
       "      <th>matthews_corrcoef</th>\n",
       "      <th>Estimator</th>\n",
       "      <th>Training Method</th>\n",
       "      <th>Dataset</th>\n",
       "      <th>Features</th>\n",
       "    </tr>\n",
       "  </thead>\n",
       "  <tbody>\n",
       "    <tr>\n",
       "      <th>0</th>\n",
       "      <td>0.902671</td>\n",
       "      <td>0.899512</td>\n",
       "      <td>0.086241</td>\n",
       "      <td>0.008624</td>\n",
       "      <td>NaN</td>\n",
       "      <td>bootstrap</td>\n",
       "      <td>1</td>\n",
       "      <td>0.944444</td>\n",
       "      <td>0.950000</td>\n",
       "      <td>0.944444</td>\n",
       "      <td>1.000000</td>\n",
       "      <td>0.916667</td>\n",
       "      <td>0.956522</td>\n",
       "      <td>0.902671</td>\n",
       "      <td>ElasticNet</td>\n",
       "      <td>validation_score</td>\n",
       "      <td>data/epic_lc_ms_pos.csv</td>\n",
       "      <td>all</td>\n",
       "    </tr>\n",
       "    <tr>\n",
       "      <th>1</th>\n",
       "      <td>0.892143</td>\n",
       "      <td>0.899512</td>\n",
       "      <td>0.086241</td>\n",
       "      <td>0.008624</td>\n",
       "      <td>NaN</td>\n",
       "      <td>bootstrap</td>\n",
       "      <td>1</td>\n",
       "      <td>0.928571</td>\n",
       "      <td>0.950000</td>\n",
       "      <td>0.928571</td>\n",
       "      <td>1.000000</td>\n",
       "      <td>0.928571</td>\n",
       "      <td>0.962963</td>\n",
       "      <td>0.892143</td>\n",
       "      <td>ElasticNet</td>\n",
       "      <td>validation_score</td>\n",
       "      <td>data/epic_lc_ms_pos.csv</td>\n",
       "      <td>all</td>\n",
       "    </tr>\n",
       "    <tr>\n",
       "      <th>2</th>\n",
       "      <td>0.811246</td>\n",
       "      <td>0.899512</td>\n",
       "      <td>0.086241</td>\n",
       "      <td>0.008624</td>\n",
       "      <td>NaN</td>\n",
       "      <td>bootstrap</td>\n",
       "      <td>1</td>\n",
       "      <td>0.923077</td>\n",
       "      <td>0.900000</td>\n",
       "      <td>0.923077</td>\n",
       "      <td>0.846154</td>\n",
       "      <td>1.000000</td>\n",
       "      <td>0.916667</td>\n",
       "      <td>0.811246</td>\n",
       "      <td>ElasticNet</td>\n",
       "      <td>validation_score</td>\n",
       "      <td>data/epic_lc_ms_pos.csv</td>\n",
       "      <td>all</td>\n",
       "    </tr>\n",
       "    <tr>\n",
       "      <th>3</th>\n",
       "      <td>0.791667</td>\n",
       "      <td>0.899512</td>\n",
       "      <td>0.086241</td>\n",
       "      <td>0.008624</td>\n",
       "      <td>NaN</td>\n",
       "      <td>bootstrap</td>\n",
       "      <td>1</td>\n",
       "      <td>0.895833</td>\n",
       "      <td>0.900000</td>\n",
       "      <td>0.895833</td>\n",
       "      <td>0.875000</td>\n",
       "      <td>0.875000</td>\n",
       "      <td>0.875000</td>\n",
       "      <td>0.791667</td>\n",
       "      <td>ElasticNet</td>\n",
       "      <td>validation_score</td>\n",
       "      <td>data/epic_lc_ms_pos.csv</td>\n",
       "      <td>all</td>\n",
       "    </tr>\n",
       "    <tr>\n",
       "      <th>4</th>\n",
       "      <td>0.902671</td>\n",
       "      <td>0.899512</td>\n",
       "      <td>0.086241</td>\n",
       "      <td>0.008624</td>\n",
       "      <td>NaN</td>\n",
       "      <td>bootstrap</td>\n",
       "      <td>1</td>\n",
       "      <td>0.958333</td>\n",
       "      <td>0.950000</td>\n",
       "      <td>0.958333</td>\n",
       "      <td>1.000000</td>\n",
       "      <td>0.888889</td>\n",
       "      <td>0.941176</td>\n",
       "      <td>0.902671</td>\n",
       "      <td>ElasticNet</td>\n",
       "      <td>validation_score</td>\n",
       "      <td>data/epic_lc_ms_pos.csv</td>\n",
       "      <td>all</td>\n",
       "    </tr>\n",
       "    <tr>\n",
       "      <th>...</th>\n",
       "      <td>...</td>\n",
       "      <td>...</td>\n",
       "      <td>...</td>\n",
       "      <td>...</td>\n",
       "      <td>...</td>\n",
       "      <td>...</td>\n",
       "      <td>...</td>\n",
       "      <td>...</td>\n",
       "      <td>...</td>\n",
       "      <td>...</td>\n",
       "      <td>...</td>\n",
       "      <td>...</td>\n",
       "      <td>...</td>\n",
       "      <td>...</td>\n",
       "      <td>...</td>\n",
       "      <td>...</td>\n",
       "      <td>...</td>\n",
       "      <td>...</td>\n",
       "    </tr>\n",
       "    <tr>\n",
       "      <th>2895</th>\n",
       "      <td>0.551619</td>\n",
       "      <td>0.646397</td>\n",
       "      <td>0.167630</td>\n",
       "      <td>0.016763</td>\n",
       "      <td>NaN</td>\n",
       "      <td>bootstrap</td>\n",
       "      <td>1</td>\n",
       "      <td>0.909091</td>\n",
       "      <td>0.761905</td>\n",
       "      <td>0.768182</td>\n",
       "      <td>0.636364</td>\n",
       "      <td>0.875000</td>\n",
       "      <td>0.736842</td>\n",
       "      <td>0.551619</td>\n",
       "      <td>Lasso</td>\n",
       "      <td>validation_score</td>\n",
       "      <td>data/gastric_cancer.csv</td>\n",
       "      <td>['M8', 'M18', 'M32']</td>\n",
       "    </tr>\n",
       "    <tr>\n",
       "      <th>2896</th>\n",
       "      <td>0.612372</td>\n",
       "      <td>0.646397</td>\n",
       "      <td>0.167630</td>\n",
       "      <td>0.016763</td>\n",
       "      <td>NaN</td>\n",
       "      <td>bootstrap</td>\n",
       "      <td>1</td>\n",
       "      <td>0.925926</td>\n",
       "      <td>0.809524</td>\n",
       "      <td>0.791667</td>\n",
       "      <td>0.666667</td>\n",
       "      <td>0.857143</td>\n",
       "      <td>0.750000</td>\n",
       "      <td>0.612372</td>\n",
       "      <td>Lasso</td>\n",
       "      <td>validation_score</td>\n",
       "      <td>data/gastric_cancer.csv</td>\n",
       "      <td>['M8', 'M18', 'M32']</td>\n",
       "    </tr>\n",
       "    <tr>\n",
       "      <th>2897</th>\n",
       "      <td>0.718182</td>\n",
       "      <td>0.646397</td>\n",
       "      <td>0.167630</td>\n",
       "      <td>0.016763</td>\n",
       "      <td>NaN</td>\n",
       "      <td>bootstrap</td>\n",
       "      <td>1</td>\n",
       "      <td>0.900000</td>\n",
       "      <td>0.857143</td>\n",
       "      <td>0.859091</td>\n",
       "      <td>0.900000</td>\n",
       "      <td>0.818182</td>\n",
       "      <td>0.857143</td>\n",
       "      <td>0.718182</td>\n",
       "      <td>Lasso</td>\n",
       "      <td>validation_score</td>\n",
       "      <td>data/gastric_cancer.csv</td>\n",
       "      <td>['M8', 'M18', 'M32']</td>\n",
       "    </tr>\n",
       "    <tr>\n",
       "      <th>2898</th>\n",
       "      <td>0.633054</td>\n",
       "      <td>0.646397</td>\n",
       "      <td>0.167630</td>\n",
       "      <td>0.016763</td>\n",
       "      <td>NaN</td>\n",
       "      <td>bootstrap</td>\n",
       "      <td>1</td>\n",
       "      <td>0.953704</td>\n",
       "      <td>0.809524</td>\n",
       "      <td>0.819444</td>\n",
       "      <td>0.750000</td>\n",
       "      <td>0.900000</td>\n",
       "      <td>0.818182</td>\n",
       "      <td>0.633054</td>\n",
       "      <td>Lasso</td>\n",
       "      <td>validation_score</td>\n",
       "      <td>data/gastric_cancer.csv</td>\n",
       "      <td>['M8', 'M18', 'M32']</td>\n",
       "    </tr>\n",
       "    <tr>\n",
       "      <th>2899</th>\n",
       "      <td>0.440386</td>\n",
       "      <td>0.646397</td>\n",
       "      <td>0.167630</td>\n",
       "      <td>0.016763</td>\n",
       "      <td>NaN</td>\n",
       "      <td>bootstrap</td>\n",
       "      <td>1</td>\n",
       "      <td>0.809091</td>\n",
       "      <td>0.714286</td>\n",
       "      <td>0.718182</td>\n",
       "      <td>0.800000</td>\n",
       "      <td>0.666667</td>\n",
       "      <td>0.727273</td>\n",
       "      <td>0.440386</td>\n",
       "      <td>Lasso</td>\n",
       "      <td>validation_score</td>\n",
       "      <td>data/gastric_cancer.csv</td>\n",
       "      <td>['M8', 'M18', 'M32']</td>\n",
       "    </tr>\n",
       "  </tbody>\n",
       "</table>\n",
       "<p>2900 rows × 18 columns</p>\n",
       "</div>"
      ],
      "text/plain": [
       "        Scores  mean_test_score  std_test_score  sem_test_score  params  \\\n",
       "0     0.902671         0.899512        0.086241        0.008624     NaN   \n",
       "1     0.892143         0.899512        0.086241        0.008624     NaN   \n",
       "2     0.811246         0.899512        0.086241        0.008624     NaN   \n",
       "3     0.791667         0.899512        0.086241        0.008624     NaN   \n",
       "4     0.902671         0.899512        0.086241        0.008624     NaN   \n",
       "...        ...              ...             ...             ...     ...   \n",
       "2895  0.551619         0.646397        0.167630        0.016763     NaN   \n",
       "2896  0.612372         0.646397        0.167630        0.016763     NaN   \n",
       "2897  0.718182         0.646397        0.167630        0.016763     NaN   \n",
       "2898  0.633054         0.646397        0.167630        0.016763     NaN   \n",
       "2899  0.440386         0.646397        0.167630        0.016763     NaN   \n",
       "\n",
       "          round  ranked   roc_auc  accuracy  balanced_accuracy    recall  \\\n",
       "0     bootstrap       1  0.944444  0.950000           0.944444  1.000000   \n",
       "1     bootstrap       1  0.928571  0.950000           0.928571  1.000000   \n",
       "2     bootstrap       1  0.923077  0.900000           0.923077  0.846154   \n",
       "3     bootstrap       1  0.895833  0.900000           0.895833  0.875000   \n",
       "4     bootstrap       1  0.958333  0.950000           0.958333  1.000000   \n",
       "...         ...     ...       ...       ...                ...       ...   \n",
       "2895  bootstrap       1  0.909091  0.761905           0.768182  0.636364   \n",
       "2896  bootstrap       1  0.925926  0.809524           0.791667  0.666667   \n",
       "2897  bootstrap       1  0.900000  0.857143           0.859091  0.900000   \n",
       "2898  bootstrap       1  0.953704  0.809524           0.819444  0.750000   \n",
       "2899  bootstrap       1  0.809091  0.714286           0.718182  0.800000   \n",
       "\n",
       "      precision        f1  matthews_corrcoef   Estimator   Training Method  \\\n",
       "0      0.916667  0.956522           0.902671  ElasticNet  validation_score   \n",
       "1      0.928571  0.962963           0.892143  ElasticNet  validation_score   \n",
       "2      1.000000  0.916667           0.811246  ElasticNet  validation_score   \n",
       "3      0.875000  0.875000           0.791667  ElasticNet  validation_score   \n",
       "4      0.888889  0.941176           0.902671  ElasticNet  validation_score   \n",
       "...         ...       ...                ...         ...               ...   \n",
       "2895   0.875000  0.736842           0.551619       Lasso  validation_score   \n",
       "2896   0.857143  0.750000           0.612372       Lasso  validation_score   \n",
       "2897   0.818182  0.857143           0.718182       Lasso  validation_score   \n",
       "2898   0.900000  0.818182           0.633054       Lasso  validation_score   \n",
       "2899   0.666667  0.727273           0.440386       Lasso  validation_score   \n",
       "\n",
       "                      Dataset              Features  \n",
       "0     data/epic_lc_ms_pos.csv                   all  \n",
       "1     data/epic_lc_ms_pos.csv                   all  \n",
       "2     data/epic_lc_ms_pos.csv                   all  \n",
       "3     data/epic_lc_ms_pos.csv                   all  \n",
       "4     data/epic_lc_ms_pos.csv                   all  \n",
       "...                       ...                   ...  \n",
       "2895  data/gastric_cancer.csv  ['M8', 'M18', 'M32']  \n",
       "2896  data/gastric_cancer.csv  ['M8', 'M18', 'M32']  \n",
       "2897  data/gastric_cancer.csv  ['M8', 'M18', 'M32']  \n",
       "2898  data/gastric_cancer.csv  ['M8', 'M18', 'M32']  \n",
       "2899  data/gastric_cancer.csv  ['M8', 'M18', 'M32']  \n",
       "\n",
       "[2900 rows x 18 columns]"
      ]
     },
     "execution_count": 24,
     "metadata": {},
     "output_type": "execute_result"
    }
   ],
   "source": [
    "merged_df = pd.concat([init_df, bootstrap_scores_df], ignore_index=True)\n",
    "merged_df"
   ]
  },
  {
   "cell_type": "code",
   "execution_count": 25,
   "metadata": {},
   "outputs": [],
   "source": [
    "merged_df.to_csv('paper_evaluation.csv')"
   ]
  },
  {
   "cell_type": "markdown",
   "metadata": {},
   "source": [
    "# Rest"
   ]
  },
  {
   "cell_type": "code",
   "execution_count": 20,
   "metadata": {},
   "outputs": [
    {
     "name": "stdout",
     "output_type": "stream",
     "text": [
      "Your Dataset contains NaN values. Some estimators does not work with NaN values.\n",
      "The median method will be used for the missing values manipulation.\n",
      "\n",
      "All the extra metrics are valid.\n",
      "The num_features parameter is 20.\n",
      "The result will be a Dataframe and a List with the freq_feat number of the most important features.\n",
      "If the freq_feat is None, the result will be a List with all features.\n",
      "<IPython.core.display.HTML object>\n",
      "<IPython.core.display.HTML object>\n"
     ]
    },
    {
     "name": "stderr",
     "output_type": "stream",
     "text": [
      "Outer fold of 2 round:  0% |             | Elapsed Time: 0:00:00 ETA:  --:--:--\n",
      "Outer fold of 1 round:  0% |             | Elapsed Time: 0:00:00 ETA:  --:--:--\n",
      "Outer fold of 1 round: 33% |████▎        | Elapsed Time: 0:00:14 ETA:   0:00:29\n",
      "Outer fold of 2 round: 33% |████▎        | Elapsed Time: 0:00:15 ETA:   0:00:30\n",
      "Outer fold of 1 round: 66% |████████▋    | Elapsed Time: 0:00:29 ETA:   0:00:14\n",
      "Outer fold of 2 round: 66% |████████▋    | Elapsed Time: 0:00:30 ETA:   0:00:15\n",
      "Outer fold of 1 round:100% |█████████████| Elapsed Time: 0:00:30 Time:  0:00:30\n"
     ]
    },
    {
     "name": "stdout",
     "output_type": "stream",
     "text": [
      "Finished with 1 round after 0.01 hours.\n",
      "Finished with 2 round after 0.01 hours.\n",
      "Finished with 10 estimators\n"
     ]
    },
    {
     "name": "stderr",
     "output_type": "stream",
     "text": [
      "Outer fold of 2 round:100% |█████████████| Elapsed Time: 0:00:31 Time:  0:00:31\n"
     ]
    },
    {
     "data": {
      "application/vnd.plotly.v1+json": {
       "config": {
        "plotlyServerURL": "https://plot.ly"
       },
       "data": [
        {
         "name": "Bad Samples for ElasticNet_mrmr_20 (validation_score)",
         "text": [
          "0.00",
          "0.00",
          "0.00",
          "0.00",
          "0.00",
          "0.00",
          "0.00",
          "0.00",
          "0.00",
          "0.00",
          "0.00"
         ],
         "textposition": "auto",
         "type": "bar",
         "x": [
          13,
          16,
          36,
          38,
          42,
          51,
          65,
          66,
          75,
          76,
          79
         ],
         "y": [
          0,
          0,
          0,
          0,
          0,
          0,
          0,
          0,
          0,
          0,
          0
         ]
        },
        {
         "name": "Bad Samples for LogisticRegression_mrmr_20 (validation_score)",
         "text": [
          "0.00",
          "0.00",
          "0.00",
          "0.00",
          "0.00",
          "0.00",
          "0.00",
          "0.00"
         ],
         "textposition": "auto",
         "type": "bar",
         "x": [
          7,
          13,
          30,
          36,
          58,
          63,
          65,
          66
         ],
         "y": [
          0,
          0,
          0,
          0,
          0,
          0,
          0,
          0
         ]
        },
        {
         "name": "Bad Samples for ElasticNet_mrmr_20 (one_sem)",
         "text": [
          "0.00",
          "0.00",
          "0.00",
          "0.00",
          "0.00",
          "0.00",
          "0.00",
          "0.00",
          "0.00",
          "0.00",
          "0.00"
         ],
         "textposition": "auto",
         "type": "bar",
         "x": [
          13,
          36,
          38,
          42,
          51,
          60,
          65,
          66,
          75,
          76,
          79
         ],
         "y": [
          0,
          0,
          0,
          0,
          0,
          0,
          0,
          0,
          0,
          0,
          0
         ]
        },
        {
         "name": "Bad Samples for LogisticRegression_mrmr_20 (one_sem)",
         "text": [
          "0.00",
          "0.00",
          "0.00",
          "0.00",
          "0.00",
          "0.00",
          "0.00"
         ],
         "textposition": "auto",
         "type": "bar",
         "x": [
          7,
          13,
          30,
          58,
          65,
          66,
          79
         ],
         "y": [
          0,
          0,
          0,
          0,
          0,
          0,
          0
         ]
        },
        {
         "name": "Bad Samples for ElasticNet_mrmr_20 (gso_1)",
         "text": [
          "0.00",
          "0.00",
          "0.00",
          "0.00",
          "0.00",
          "0.00",
          "0.00",
          "0.00",
          "0.00",
          "0.00",
          "0.00",
          "0.00"
         ],
         "textposition": "auto",
         "type": "bar",
         "x": [
          7,
          13,
          16,
          36,
          38,
          42,
          60,
          65,
          66,
          75,
          76,
          79
         ],
         "y": [
          0,
          0,
          0,
          0,
          0,
          0,
          0,
          0,
          0,
          0,
          0,
          0
         ]
        },
        {
         "name": "Bad Samples for LogisticRegression_mrmr_20 (gso_1)",
         "text": [
          "0.00",
          "0.00",
          "0.00",
          "0.00",
          "0.00",
          "0.00",
          "0.00",
          "0.00",
          "0.00"
         ],
         "textposition": "auto",
         "type": "bar",
         "x": [
          1,
          7,
          13,
          30,
          36,
          58,
          63,
          65,
          66
         ],
         "y": [
          0,
          0,
          0,
          0,
          0,
          0,
          0,
          0,
          0
         ]
        },
        {
         "name": "Bad Samples for ElasticNet_mrmr_20 (gso_2)",
         "text": [
          "0.00",
          "0.00",
          "0.00",
          "0.00",
          "0.00",
          "0.00",
          "0.00",
          "0.00",
          "0.00"
         ],
         "textposition": "auto",
         "type": "bar",
         "x": [
          7,
          13,
          16,
          38,
          42,
          65,
          66,
          76,
          79
         ],
         "y": [
          0,
          0,
          0,
          0,
          0,
          0,
          0,
          0,
          0
         ]
        },
        {
         "name": "Bad Samples for LogisticRegression_mrmr_20 (gso_2)",
         "text": [
          "0.00",
          "0.00",
          "0.00",
          "0.00",
          "0.00",
          "0.00",
          "0.00",
          "0.00",
          "0.00"
         ],
         "textposition": "auto",
         "type": "bar",
         "x": [
          7,
          13,
          16,
          30,
          60,
          65,
          66,
          76,
          79
         ],
         "y": [
          0,
          0,
          0,
          0,
          0,
          0,
          0,
          0,
          0
         ]
        },
        {
         "name": "Bad Samples for ElasticNet_mrmr_20 (one_sem_grd)",
         "text": [
          "0.00",
          "0.00",
          "0.00",
          "0.00",
          "0.00",
          "0.00",
          "0.00",
          "0.00",
          "0.00",
          "0.00"
         ],
         "textposition": "auto",
         "type": "bar",
         "x": [
          13,
          38,
          42,
          51,
          60,
          65,
          66,
          75,
          76,
          79
         ],
         "y": [
          0,
          0,
          0,
          0,
          0,
          0,
          0,
          0,
          0,
          0
         ]
        },
        {
         "name": "Bad Samples for LogisticRegression_mrmr_20 (one_sem_grd)",
         "text": [
          "0.00",
          "0.00",
          "0.00",
          "0.00",
          "0.00",
          "0.00",
          "0.00"
         ],
         "textposition": "auto",
         "type": "bar",
         "x": [
          7,
          13,
          30,
          58,
          65,
          66,
          79
         ],
         "y": [
          0,
          0,
          0,
          0,
          0,
          0,
          0
         ]
        }
       ],
       "layout": {
        "barmode": "group",
        "height": 500,
        "legend": {
         "title": {
          "text": "Classifiers (Inner_Selection)"
         }
        },
        "template": {
         "data": {
          "bar": [
           {
            "error_x": {
             "color": "#2a3f5f"
            },
            "error_y": {
             "color": "#2a3f5f"
            },
            "marker": {
             "line": {
              "color": "#E5ECF6",
              "width": 0.5
             },
             "pattern": {
              "fillmode": "overlay",
              "size": 10,
              "solidity": 0.2
             }
            },
            "type": "bar"
           }
          ],
          "barpolar": [
           {
            "marker": {
             "line": {
              "color": "#E5ECF6",
              "width": 0.5
             },
             "pattern": {
              "fillmode": "overlay",
              "size": 10,
              "solidity": 0.2
             }
            },
            "type": "barpolar"
           }
          ],
          "carpet": [
           {
            "aaxis": {
             "endlinecolor": "#2a3f5f",
             "gridcolor": "white",
             "linecolor": "white",
             "minorgridcolor": "white",
             "startlinecolor": "#2a3f5f"
            },
            "baxis": {
             "endlinecolor": "#2a3f5f",
             "gridcolor": "white",
             "linecolor": "white",
             "minorgridcolor": "white",
             "startlinecolor": "#2a3f5f"
            },
            "type": "carpet"
           }
          ],
          "choropleth": [
           {
            "colorbar": {
             "outlinewidth": 0,
             "ticks": ""
            },
            "type": "choropleth"
           }
          ],
          "contour": [
           {
            "colorbar": {
             "outlinewidth": 0,
             "ticks": ""
            },
            "colorscale": [
             [
              0,
              "#0d0887"
             ],
             [
              0.1111111111111111,
              "#46039f"
             ],
             [
              0.2222222222222222,
              "#7201a8"
             ],
             [
              0.3333333333333333,
              "#9c179e"
             ],
             [
              0.4444444444444444,
              "#bd3786"
             ],
             [
              0.5555555555555556,
              "#d8576b"
             ],
             [
              0.6666666666666666,
              "#ed7953"
             ],
             [
              0.7777777777777778,
              "#fb9f3a"
             ],
             [
              0.8888888888888888,
              "#fdca26"
             ],
             [
              1,
              "#f0f921"
             ]
            ],
            "type": "contour"
           }
          ],
          "contourcarpet": [
           {
            "colorbar": {
             "outlinewidth": 0,
             "ticks": ""
            },
            "type": "contourcarpet"
           }
          ],
          "heatmap": [
           {
            "colorbar": {
             "outlinewidth": 0,
             "ticks": ""
            },
            "colorscale": [
             [
              0,
              "#0d0887"
             ],
             [
              0.1111111111111111,
              "#46039f"
             ],
             [
              0.2222222222222222,
              "#7201a8"
             ],
             [
              0.3333333333333333,
              "#9c179e"
             ],
             [
              0.4444444444444444,
              "#bd3786"
             ],
             [
              0.5555555555555556,
              "#d8576b"
             ],
             [
              0.6666666666666666,
              "#ed7953"
             ],
             [
              0.7777777777777778,
              "#fb9f3a"
             ],
             [
              0.8888888888888888,
              "#fdca26"
             ],
             [
              1,
              "#f0f921"
             ]
            ],
            "type": "heatmap"
           }
          ],
          "heatmapgl": [
           {
            "colorbar": {
             "outlinewidth": 0,
             "ticks": ""
            },
            "colorscale": [
             [
              0,
              "#0d0887"
             ],
             [
              0.1111111111111111,
              "#46039f"
             ],
             [
              0.2222222222222222,
              "#7201a8"
             ],
             [
              0.3333333333333333,
              "#9c179e"
             ],
             [
              0.4444444444444444,
              "#bd3786"
             ],
             [
              0.5555555555555556,
              "#d8576b"
             ],
             [
              0.6666666666666666,
              "#ed7953"
             ],
             [
              0.7777777777777778,
              "#fb9f3a"
             ],
             [
              0.8888888888888888,
              "#fdca26"
             ],
             [
              1,
              "#f0f921"
             ]
            ],
            "type": "heatmapgl"
           }
          ],
          "histogram": [
           {
            "marker": {
             "pattern": {
              "fillmode": "overlay",
              "size": 10,
              "solidity": 0.2
             }
            },
            "type": "histogram"
           }
          ],
          "histogram2d": [
           {
            "colorbar": {
             "outlinewidth": 0,
             "ticks": ""
            },
            "colorscale": [
             [
              0,
              "#0d0887"
             ],
             [
              0.1111111111111111,
              "#46039f"
             ],
             [
              0.2222222222222222,
              "#7201a8"
             ],
             [
              0.3333333333333333,
              "#9c179e"
             ],
             [
              0.4444444444444444,
              "#bd3786"
             ],
             [
              0.5555555555555556,
              "#d8576b"
             ],
             [
              0.6666666666666666,
              "#ed7953"
             ],
             [
              0.7777777777777778,
              "#fb9f3a"
             ],
             [
              0.8888888888888888,
              "#fdca26"
             ],
             [
              1,
              "#f0f921"
             ]
            ],
            "type": "histogram2d"
           }
          ],
          "histogram2dcontour": [
           {
            "colorbar": {
             "outlinewidth": 0,
             "ticks": ""
            },
            "colorscale": [
             [
              0,
              "#0d0887"
             ],
             [
              0.1111111111111111,
              "#46039f"
             ],
             [
              0.2222222222222222,
              "#7201a8"
             ],
             [
              0.3333333333333333,
              "#9c179e"
             ],
             [
              0.4444444444444444,
              "#bd3786"
             ],
             [
              0.5555555555555556,
              "#d8576b"
             ],
             [
              0.6666666666666666,
              "#ed7953"
             ],
             [
              0.7777777777777778,
              "#fb9f3a"
             ],
             [
              0.8888888888888888,
              "#fdca26"
             ],
             [
              1,
              "#f0f921"
             ]
            ],
            "type": "histogram2dcontour"
           }
          ],
          "mesh3d": [
           {
            "colorbar": {
             "outlinewidth": 0,
             "ticks": ""
            },
            "type": "mesh3d"
           }
          ],
          "parcoords": [
           {
            "line": {
             "colorbar": {
              "outlinewidth": 0,
              "ticks": ""
             }
            },
            "type": "parcoords"
           }
          ],
          "pie": [
           {
            "automargin": true,
            "type": "pie"
           }
          ],
          "scatter": [
           {
            "fillpattern": {
             "fillmode": "overlay",
             "size": 10,
             "solidity": 0.2
            },
            "type": "scatter"
           }
          ],
          "scatter3d": [
           {
            "line": {
             "colorbar": {
              "outlinewidth": 0,
              "ticks": ""
             }
            },
            "marker": {
             "colorbar": {
              "outlinewidth": 0,
              "ticks": ""
             }
            },
            "type": "scatter3d"
           }
          ],
          "scattercarpet": [
           {
            "marker": {
             "colorbar": {
              "outlinewidth": 0,
              "ticks": ""
             }
            },
            "type": "scattercarpet"
           }
          ],
          "scattergeo": [
           {
            "marker": {
             "colorbar": {
              "outlinewidth": 0,
              "ticks": ""
             }
            },
            "type": "scattergeo"
           }
          ],
          "scattergl": [
           {
            "marker": {
             "colorbar": {
              "outlinewidth": 0,
              "ticks": ""
             }
            },
            "type": "scattergl"
           }
          ],
          "scattermapbox": [
           {
            "marker": {
             "colorbar": {
              "outlinewidth": 0,
              "ticks": ""
             }
            },
            "type": "scattermapbox"
           }
          ],
          "scatterpolar": [
           {
            "marker": {
             "colorbar": {
              "outlinewidth": 0,
              "ticks": ""
             }
            },
            "type": "scatterpolar"
           }
          ],
          "scatterpolargl": [
           {
            "marker": {
             "colorbar": {
              "outlinewidth": 0,
              "ticks": ""
             }
            },
            "type": "scatterpolargl"
           }
          ],
          "scatterternary": [
           {
            "marker": {
             "colorbar": {
              "outlinewidth": 0,
              "ticks": ""
             }
            },
            "type": "scatterternary"
           }
          ],
          "surface": [
           {
            "colorbar": {
             "outlinewidth": 0,
             "ticks": ""
            },
            "colorscale": [
             [
              0,
              "#0d0887"
             ],
             [
              0.1111111111111111,
              "#46039f"
             ],
             [
              0.2222222222222222,
              "#7201a8"
             ],
             [
              0.3333333333333333,
              "#9c179e"
             ],
             [
              0.4444444444444444,
              "#bd3786"
             ],
             [
              0.5555555555555556,
              "#d8576b"
             ],
             [
              0.6666666666666666,
              "#ed7953"
             ],
             [
              0.7777777777777778,
              "#fb9f3a"
             ],
             [
              0.8888888888888888,
              "#fdca26"
             ],
             [
              1,
              "#f0f921"
             ]
            ],
            "type": "surface"
           }
          ],
          "table": [
           {
            "cells": {
             "fill": {
              "color": "#EBF0F8"
             },
             "line": {
              "color": "white"
             }
            },
            "header": {
             "fill": {
              "color": "#C8D4E3"
             },
             "line": {
              "color": "white"
             }
            },
            "type": "table"
           }
          ]
         },
         "layout": {
          "annotationdefaults": {
           "arrowcolor": "#2a3f5f",
           "arrowhead": 0,
           "arrowwidth": 1
          },
          "autotypenumbers": "strict",
          "coloraxis": {
           "colorbar": {
            "outlinewidth": 0,
            "ticks": ""
           }
          },
          "colorscale": {
           "diverging": [
            [
             0,
             "#8e0152"
            ],
            [
             0.1,
             "#c51b7d"
            ],
            [
             0.2,
             "#de77ae"
            ],
            [
             0.3,
             "#f1b6da"
            ],
            [
             0.4,
             "#fde0ef"
            ],
            [
             0.5,
             "#f7f7f7"
            ],
            [
             0.6,
             "#e6f5d0"
            ],
            [
             0.7,
             "#b8e186"
            ],
            [
             0.8,
             "#7fbc41"
            ],
            [
             0.9,
             "#4d9221"
            ],
            [
             1,
             "#276419"
            ]
           ],
           "sequential": [
            [
             0,
             "#0d0887"
            ],
            [
             0.1111111111111111,
             "#46039f"
            ],
            [
             0.2222222222222222,
             "#7201a8"
            ],
            [
             0.3333333333333333,
             "#9c179e"
            ],
            [
             0.4444444444444444,
             "#bd3786"
            ],
            [
             0.5555555555555556,
             "#d8576b"
            ],
            [
             0.6666666666666666,
             "#ed7953"
            ],
            [
             0.7777777777777778,
             "#fb9f3a"
            ],
            [
             0.8888888888888888,
             "#fdca26"
            ],
            [
             1,
             "#f0f921"
            ]
           ],
           "sequentialminus": [
            [
             0,
             "#0d0887"
            ],
            [
             0.1111111111111111,
             "#46039f"
            ],
            [
             0.2222222222222222,
             "#7201a8"
            ],
            [
             0.3333333333333333,
             "#9c179e"
            ],
            [
             0.4444444444444444,
             "#bd3786"
            ],
            [
             0.5555555555555556,
             "#d8576b"
            ],
            [
             0.6666666666666666,
             "#ed7953"
            ],
            [
             0.7777777777777778,
             "#fb9f3a"
            ],
            [
             0.8888888888888888,
             "#fdca26"
            ],
            [
             1,
             "#f0f921"
            ]
           ]
          },
          "colorway": [
           "#636efa",
           "#EF553B",
           "#00cc96",
           "#ab63fa",
           "#FFA15A",
           "#19d3f3",
           "#FF6692",
           "#B6E880",
           "#FF97FF",
           "#FECB52"
          ],
          "font": {
           "color": "#2a3f5f"
          },
          "geo": {
           "bgcolor": "white",
           "lakecolor": "white",
           "landcolor": "#E5ECF6",
           "showlakes": true,
           "showland": true,
           "subunitcolor": "white"
          },
          "hoverlabel": {
           "align": "left"
          },
          "hovermode": "closest",
          "mapbox": {
           "style": "light"
          },
          "paper_bgcolor": "white",
          "plot_bgcolor": "#E5ECF6",
          "polar": {
           "angularaxis": {
            "gridcolor": "white",
            "linecolor": "white",
            "ticks": ""
           },
           "bgcolor": "#E5ECF6",
           "radialaxis": {
            "gridcolor": "white",
            "linecolor": "white",
            "ticks": ""
           }
          },
          "scene": {
           "xaxis": {
            "backgroundcolor": "#E5ECF6",
            "gridcolor": "white",
            "gridwidth": 2,
            "linecolor": "white",
            "showbackground": true,
            "ticks": "",
            "zerolinecolor": "white"
           },
           "yaxis": {
            "backgroundcolor": "#E5ECF6",
            "gridcolor": "white",
            "gridwidth": 2,
            "linecolor": "white",
            "showbackground": true,
            "ticks": "",
            "zerolinecolor": "white"
           },
           "zaxis": {
            "backgroundcolor": "#E5ECF6",
            "gridcolor": "white",
            "gridwidth": 2,
            "linecolor": "white",
            "showbackground": true,
            "ticks": "",
            "zerolinecolor": "white"
           }
          },
          "shapedefaults": {
           "line": {
            "color": "#2a3f5f"
           }
          },
          "ternary": {
           "aaxis": {
            "gridcolor": "white",
            "linecolor": "white",
            "ticks": ""
           },
           "baxis": {
            "gridcolor": "white",
            "linecolor": "white",
            "ticks": ""
           },
           "bgcolor": "#E5ECF6",
           "caxis": {
            "gridcolor": "white",
            "linecolor": "white",
            "ticks": ""
           }
          },
          "title": {
           "x": 0.05
          },
          "xaxis": {
           "automargin": true,
           "gridcolor": "white",
           "linecolor": "white",
           "ticks": "",
           "title": {
            "standoff": 15
           },
           "zerolinecolor": "white",
           "zerolinewidth": 2
          },
          "yaxis": {
           "automargin": true,
           "gridcolor": "white",
           "linecolor": "white",
           "ticks": "",
           "title": {
            "standoff": 15
           },
           "zerolinecolor": "white",
           "zerolinewidth": 2
          }
         }
        },
        "title": {
         "text": "Bad Samples Classification Rates for Each Classifier and Inner Selection Method"
        },
        "width": 1245,
        "xaxis": {
         "title": {
          "text": "Sample Index"
         }
        },
        "yaxis": {
         "title": {
          "text": "Classification Rate"
         }
        }
       }
      }
     },
     "metadata": {},
     "output_type": "display_data"
    },
    {
     "name": "stdout",
     "output_type": "stream",
     "text": [
      "Results saved to Results/gastric_cancer_['validation_score', 'one_sem', 'gso_1', 'gso_2', 'one_sem_grd']_20_manolakos_test_outerloops_results.csv\n",
      "Selected 149 features\n"
     ]
    },
    {
     "data": {
      "image/png": "[encoded data removed]",
      "text/plain": [
       "<Figure size 4900x1000 with 1 Axes>"
      ]
     },
     "metadata": {},
     "output_type": "display_data"
    },
    {
     "data": {
      "text/plain": [
       "<Figure size 640x480 with 0 Axes>"
      ]
     },
     "metadata": {},
     "output_type": "display_data"
    },
    {
     "data": {
      "application/vnd.plotly.v1+json": {
       "config": {
        "plotlyServerURL": "https://plot.ly"
       },
       "data": [
        {
         "boxpoints": "all",
         "jitter": 0.3,
         "name": "ElasticNet_mrmr_20 (validation_score) (Median: 0.67)",
         "pointpos": -1.8,
         "type": "box",
         "y": [
          0.5887840577551898,
          0.7877263614433762,
          0.6298438669252061,
          0.3089682853364634,
          0.7142857142857143,
          0.8516483516483516
         ]
        },
        {
         "line": {
          "color": "black",
          "dash": "dash"
         },
         "mode": "lines",
         "showlegend": false,
         "type": "scatter",
         "x": [
          "ElasticNet_mrmr_20 (validation_score) (Median: 0.67)",
          "ElasticNet_mrmr_20 (validation_score) (Median: 0.67)"
         ],
         "y": [
          0.4488761715458266,
          0.8196873565458639
         ]
        },
        {
         "boxpoints": "all",
         "jitter": 0.3,
         "name": "LogisticRegression_mrmr_20 (validation_score) (Median: 0.61)",
         "pointpos": -1.8,
         "type": "box",
         "y": [
          0.4555973021063105,
          0.5118906968889915,
          0.7095968730749328,
          0.49613893835683387,
          0.7216878364870323,
          0.8516483516483516
         ]
        },
        {
         "line": {
          "color": "black",
          "dash": "dash"
         },
         "mode": "lines",
         "showlegend": false,
         "type": "scatter",
         "x": [
          "LogisticRegression_mrmr_20 (validation_score) (Median: 0.61)",
          "LogisticRegression_mrmr_20 (validation_score) (Median: 0.61)"
         ],
         "y": [
          0.4758681202315722,
          0.786668094067692
         ]
        },
        {
         "boxpoints": "all",
         "jitter": 0.3,
         "name": "ElasticNet_mrmr_20 (one_sem) (Median: 0.85)",
         "pointpos": -1.8,
         "type": "box",
         "y": [
          0.75,
          0.8928571428571429,
          0.8518518518518519,
          0.6428571428571429,
          0.8571428571428571,
          0.8888888888888888
         ]
        },
        {
         "line": {
          "color": "black",
          "dash": "dash"
         },
         "mode": "lines",
         "showlegend": false,
         "type": "scatter",
         "x": [
          "ElasticNet_mrmr_20 (one_sem) (Median: 0.85)",
          "ElasticNet_mrmr_20 (one_sem) (Median: 0.85)"
         ],
         "y": [
          0.6964285714285714,
          0.8908730158730158
         ]
        },
        {
         "boxpoints": "all",
         "jitter": 0.3,
         "name": "LogisticRegression_mrmr_20 (one_sem) (Median: 0.82)",
         "pointpos": -1.8,
         "type": "box",
         "y": [
          0.6428571428571429,
          0.75,
          0.8888888888888888,
          0.7857142857142857,
          0.8571428571428571,
          0.9259259259259259
         ]
        },
        {
         "line": {
          "color": "black",
          "dash": "dash"
         },
         "mode": "lines",
         "showlegend": false,
         "type": "scatter",
         "x": [
          "LogisticRegression_mrmr_20 (one_sem) (Median: 0.82)",
          "LogisticRegression_mrmr_20 (one_sem) (Median: 0.82)"
         ],
         "y": [
          0.7142857142857143,
          0.9074074074074074
         ]
        },
        {
         "boxpoints": "all",
         "jitter": 0.3,
         "name": "ElasticNet_mrmr_20 (gso_1) (Median: 0.82)",
         "pointpos": -1.8,
         "type": "box",
         "y": [
          0.75,
          0.8928571428571429,
          0.8148148148148148,
          0.6428571428571429,
          0.8214285714285714,
          0.9259259259259259
         ]
        },
        {
         "line": {
          "color": "black",
          "dash": "dash"
         },
         "mode": "lines",
         "showlegend": false,
         "type": "scatter",
         "x": [
          "ElasticNet_mrmr_20 (gso_1) (Median: 0.82)",
          "ElasticNet_mrmr_20 (gso_1) (Median: 0.82)"
         ],
         "y": [
          0.6964285714285714,
          0.9093915343915344
         ]
        },
        {
         "boxpoints": "all",
         "jitter": 0.3,
         "name": "LogisticRegression_mrmr_20 (gso_1) (Median: 0.79)",
         "pointpos": -1.8,
         "type": "box",
         "y": [
          0.7142857142857143,
          0.75,
          0.8888888888888888,
          0.75,
          0.8214285714285714,
          0.9259259259259259
         ]
        },
        {
         "line": {
          "color": "black",
          "dash": "dash"
         },
         "mode": "lines",
         "showlegend": false,
         "type": "scatter",
         "x": [
          "LogisticRegression_mrmr_20 (gso_1) (Median: 0.79)",
          "LogisticRegression_mrmr_20 (gso_1) (Median: 0.79)"
         ],
         "y": [
          0.7321428571428572,
          0.9074074074074074
         ]
        },
        {
         "boxpoints": "all",
         "jitter": 0.3,
         "name": "ElasticNet_mrmr_20 (gso_2) (Median: 0.86)",
         "pointpos": -1.8,
         "type": "box",
         "y": [
          0.6785714285714286,
          0.8928571428571429,
          0.9259259259259259,
          0.6428571428571429,
          0.8214285714285714,
          0.9259259259259259
         ]
        },
        {
         "line": {
          "color": "black",
          "dash": "dash"
         },
         "mode": "lines",
         "showlegend": false,
         "type": "scatter",
         "x": [
          "ElasticNet_mrmr_20 (gso_2) (Median: 0.86)",
          "ElasticNet_mrmr_20 (gso_2) (Median: 0.86)"
         ],
         "y": [
          0.6607142857142858,
          0.9259259259259259
         ]
        },
        {
         "boxpoints": "all",
         "jitter": 0.3,
         "name": "LogisticRegression_mrmr_20 (gso_2) (Median: 0.87)",
         "pointpos": -1.8,
         "type": "box",
         "y": [
          0.7142857142857143,
          0.8928571428571429,
          0.8888888888888888,
          0.6428571428571429,
          0.8571428571428571,
          0.9259259259259259
         ]
        },
        {
         "line": {
          "color": "black",
          "dash": "dash"
         },
         "mode": "lines",
         "showlegend": false,
         "type": "scatter",
         "x": [
          "LogisticRegression_mrmr_20 (gso_2) (Median: 0.87)",
          "LogisticRegression_mrmr_20 (gso_2) (Median: 0.87)"
         ],
         "y": [
          0.6785714285714286,
          0.9093915343915344
         ]
        },
        {
         "boxpoints": "all",
         "jitter": 0.3,
         "name": "ElasticNet_mrmr_20 (one_sem_grd) (Median: 0.87)",
         "pointpos": -1.8,
         "type": "box",
         "y": [
          0.6785714285714286,
          0.8928571428571429,
          0.8888888888888888,
          0.6428571428571429,
          0.8571428571428571,
          0.9259259259259259
         ]
        },
        {
         "line": {
          "color": "black",
          "dash": "dash"
         },
         "mode": "lines",
         "showlegend": false,
         "type": "scatter",
         "x": [
          "ElasticNet_mrmr_20 (one_sem_grd) (Median: 0.87)",
          "ElasticNet_mrmr_20 (one_sem_grd) (Median: 0.87)"
         ],
         "y": [
          0.6607142857142858,
          0.9093915343915344
         ]
        },
        {
         "boxpoints": "all",
         "jitter": 0.3,
         "name": "LogisticRegression_mrmr_20 (one_sem_grd) (Median: 0.82)",
         "pointpos": -1.8,
         "type": "box",
         "y": [
          0.6428571428571429,
          0.75,
          0.8888888888888888,
          0.7857142857142857,
          0.8571428571428571,
          0.9259259259259259
         ]
        },
        {
         "line": {
          "color": "black",
          "dash": "dash"
         },
         "mode": "lines",
         "showlegend": false,
         "type": "scatter",
         "x": [
          "LogisticRegression_mrmr_20 (one_sem_grd) (Median: 0.82)",
          "LogisticRegression_mrmr_20 (one_sem_grd) (Median: 0.82)"
         ],
         "y": [
          0.6964285714285714,
          0.9074074074074074
         ]
        }
       ],
       "layout": {
        "template": {
         "data": {
          "bar": [
           {
            "error_x": {
             "color": "#2a3f5f"
            },
            "error_y": {
             "color": "#2a3f5f"
            },
            "marker": {
             "line": {
              "color": "white",
              "width": 0.5
             },
             "pattern": {
              "fillmode": "overlay",
              "size": 10,
              "solidity": 0.2
             }
            },
            "type": "bar"
           }
          ],
          "barpolar": [
           {
            "marker": {
             "line": {
              "color": "white",
              "width": 0.5
             },
             "pattern": {
              "fillmode": "overlay",
              "size": 10,
              "solidity": 0.2
             }
            },
            "type": "barpolar"
           }
          ],
          "carpet": [
           {
            "aaxis": {
             "endlinecolor": "#2a3f5f",
             "gridcolor": "#C8D4E3",
             "linecolor": "#C8D4E3",
             "minorgridcolor": "#C8D4E3",
             "startlinecolor": "#2a3f5f"
            },
            "baxis": {
             "endlinecolor": "#2a3f5f",
             "gridcolor": "#C8D4E3",
             "linecolor": "#C8D4E3",
             "minorgridcolor": "#C8D4E3",
             "startlinecolor": "#2a3f5f"
            },
            "type": "carpet"
           }
          ],
          "choropleth": [
           {
            "colorbar": {
             "outlinewidth": 0,
             "ticks": ""
            },
            "type": "choropleth"
           }
          ],
          "contour": [
           {
            "colorbar": {
             "outlinewidth": 0,
             "ticks": ""
            },
            "colorscale": [
             [
              0,
              "#0d0887"
             ],
             [
              0.1111111111111111,
              "#46039f"
             ],
             [
              0.2222222222222222,
              "#7201a8"
             ],
             [
              0.3333333333333333,
              "#9c179e"
             ],
             [
              0.4444444444444444,
              "#bd3786"
             ],
             [
              0.5555555555555556,
              "#d8576b"
             ],
             [
              0.6666666666666666,
              "#ed7953"
             ],
             [
              0.7777777777777778,
              "#fb9f3a"
             ],
             [
              0.8888888888888888,
              "#fdca26"
             ],
             [
              1,
              "#f0f921"
             ]
            ],
            "type": "contour"
           }
          ],
          "contourcarpet": [
           {
            "colorbar": {
             "outlinewidth": 0,
             "ticks": ""
            },
            "type": "contourcarpet"
           }
          ],
          "heatmap": [
           {
            "colorbar": {
             "outlinewidth": 0,
             "ticks": ""
            },
            "colorscale": [
             [
              0,
              "#0d0887"
             ],
             [
              0.1111111111111111,
              "#46039f"
             ],
             [
              0.2222222222222222,
              "#7201a8"
             ],
             [
              0.3333333333333333,
              "#9c179e"
             ],
             [
              0.4444444444444444,
              "#bd3786"
             ],
             [
              0.5555555555555556,
              "#d8576b"
             ],
             [
              0.6666666666666666,
              "#ed7953"
             ],
             [
              0.7777777777777778,
              "#fb9f3a"
             ],
             [
              0.8888888888888888,
              "#fdca26"
             ],
             [
              1,
              "#f0f921"
             ]
            ],
            "type": "heatmap"
           }
          ],
          "heatmapgl": [
           {
            "colorbar": {
             "outlinewidth": 0,
             "ticks": ""
            },
            "colorscale": [
             [
              0,
              "#0d0887"
             ],
             [
              0.1111111111111111,
              "#46039f"
             ],
             [
              0.2222222222222222,
              "#7201a8"
             ],
             [
              0.3333333333333333,
              "#9c179e"
             ],
             [
              0.4444444444444444,
              "#bd3786"
             ],
             [
              0.5555555555555556,
              "#d8576b"
             ],
             [
              0.6666666666666666,
              "#ed7953"
             ],
             [
              0.7777777777777778,
              "#fb9f3a"
             ],
             [
              0.8888888888888888,
              "#fdca26"
             ],
             [
              1,
              "#f0f921"
             ]
            ],
            "type": "heatmapgl"
           }
          ],
          "histogram": [
           {
            "marker": {
             "pattern": {
              "fillmode": "overlay",
              "size": 10,
              "solidity": 0.2
             }
            },
            "type": "histogram"
           }
          ],
          "histogram2d": [
           {
            "colorbar": {
             "outlinewidth": 0,
             "ticks": ""
            },
            "colorscale": [
             [
              0,
              "#0d0887"
             ],
             [
              0.1111111111111111,
              "#46039f"
             ],
             [
              0.2222222222222222,
              "#7201a8"
             ],
             [
              0.3333333333333333,
              "#9c179e"
             ],
             [
              0.4444444444444444,
              "#bd3786"
             ],
             [
              0.5555555555555556,
              "#d8576b"
             ],
             [
              0.6666666666666666,
              "#ed7953"
             ],
             [
              0.7777777777777778,
              "#fb9f3a"
             ],
             [
              0.8888888888888888,
              "#fdca26"
             ],
             [
              1,
              "#f0f921"
             ]
            ],
            "type": "histogram2d"
           }
          ],
          "histogram2dcontour": [
           {
            "colorbar": {
             "outlinewidth": 0,
             "ticks": ""
            },
            "colorscale": [
             [
              0,
              "#0d0887"
             ],
             [
              0.1111111111111111,
              "#46039f"
             ],
             [
              0.2222222222222222,
              "#7201a8"
             ],
             [
              0.3333333333333333,
              "#9c179e"
             ],
             [
              0.4444444444444444,
              "#bd3786"
             ],
             [
              0.5555555555555556,
              "#d8576b"
             ],
             [
              0.6666666666666666,
              "#ed7953"
             ],
             [
              0.7777777777777778,
              "#fb9f3a"
             ],
             [
              0.8888888888888888,
              "#fdca26"
             ],
             [
              1,
              "#f0f921"
             ]
            ],
            "type": "histogram2dcontour"
           }
          ],
          "mesh3d": [
           {
            "colorbar": {
             "outlinewidth": 0,
             "ticks": ""
            },
            "type": "mesh3d"
           }
          ],
          "parcoords": [
           {
            "line": {
             "colorbar": {
              "outlinewidth": 0,
              "ticks": ""
             }
            },
            "type": "parcoords"
           }
          ],
          "pie": [
           {
            "automargin": true,
            "type": "pie"
           }
          ],
          "scatter": [
           {
            "fillpattern": {
             "fillmode": "overlay",
             "size": 10,
             "solidity": 0.2
            },
            "type": "scatter"
           }
          ],
          "scatter3d": [
           {
            "line": {
             "colorbar": {
              "outlinewidth": 0,
              "ticks": ""
             }
            },
            "marker": {
             "colorbar": {
              "outlinewidth": 0,
              "ticks": ""
             }
            },
            "type": "scatter3d"
           }
          ],
          "scattercarpet": [
           {
            "marker": {
             "colorbar": {
              "outlinewidth": 0,
              "ticks": ""
             }
            },
            "type": "scattercarpet"
           }
          ],
          "scattergeo": [
           {
            "marker": {
             "colorbar": {
              "outlinewidth": 0,
              "ticks": ""
             }
            },
            "type": "scattergeo"
           }
          ],
          "scattergl": [
           {
            "marker": {
             "colorbar": {
              "outlinewidth": 0,
              "ticks": ""
             }
            },
            "type": "scattergl"
           }
          ],
          "scattermapbox": [
           {
            "marker": {
             "colorbar": {
              "outlinewidth": 0,
              "ticks": ""
             }
            },
            "type": "scattermapbox"
           }
          ],
          "scatterpolar": [
           {
            "marker": {
             "colorbar": {
              "outlinewidth": 0,
              "ticks": ""
             }
            },
            "type": "scatterpolar"
           }
          ],
          "scatterpolargl": [
           {
            "marker": {
             "colorbar": {
              "outlinewidth": 0,
              "ticks": ""
             }
            },
            "type": "scatterpolargl"
           }
          ],
          "scatterternary": [
           {
            "marker": {
             "colorbar": {
              "outlinewidth": 0,
              "ticks": ""
             }
            },
            "type": "scatterternary"
           }
          ],
          "surface": [
           {
            "colorbar": {
             "outlinewidth": 0,
             "ticks": ""
            },
            "colorscale": [
             [
              0,
              "#0d0887"
             ],
             [
              0.1111111111111111,
              "#46039f"
             ],
             [
              0.2222222222222222,
              "#7201a8"
             ],
             [
              0.3333333333333333,
              "#9c179e"
             ],
             [
              0.4444444444444444,
              "#bd3786"
             ],
             [
              0.5555555555555556,
              "#d8576b"
             ],
             [
              0.6666666666666666,
              "#ed7953"
             ],
             [
              0.7777777777777778,
              "#fb9f3a"
             ],
             [
              0.8888888888888888,
              "#fdca26"
             ],
             [
              1,
              "#f0f921"
             ]
            ],
            "type": "surface"
           }
          ],
          "table": [
           {
            "cells": {
             "fill": {
              "color": "#EBF0F8"
             },
             "line": {
              "color": "white"
             }
            },
            "header": {
             "fill": {
              "color": "#C8D4E3"
             },
             "line": {
              "color": "white"
             }
            },
            "type": "table"
           }
          ]
         },
         "layout": {
          "annotationdefaults": {
           "arrowcolor": "#2a3f5f",
           "arrowhead": 0,
           "arrowwidth": 1
          },
          "autotypenumbers": "strict",
          "coloraxis": {
           "colorbar": {
            "outlinewidth": 0,
            "ticks": ""
           }
          },
          "colorscale": {
           "diverging": [
            [
             0,
             "#8e0152"
            ],
            [
             0.1,
             "#c51b7d"
            ],
            [
             0.2,
             "#de77ae"
            ],
            [
             0.3,
             "#f1b6da"
            ],
            [
             0.4,
             "#fde0ef"
            ],
            [
             0.5,
             "#f7f7f7"
            ],
            [
             0.6,
             "#e6f5d0"
            ],
            [
             0.7,
             "#b8e186"
            ],
            [
             0.8,
             "#7fbc41"
            ],
            [
             0.9,
             "#4d9221"
            ],
            [
             1,
             "#276419"
            ]
           ],
           "sequential": [
            [
             0,
             "#0d0887"
            ],
            [
             0.1111111111111111,
             "#46039f"
            ],
            [
             0.2222222222222222,
             "#7201a8"
            ],
            [
             0.3333333333333333,
             "#9c179e"
            ],
            [
             0.4444444444444444,
             "#bd3786"
            ],
            [
             0.5555555555555556,
             "#d8576b"
            ],
            [
             0.6666666666666666,
             "#ed7953"
            ],
            [
             0.7777777777777778,
             "#fb9f3a"
            ],
            [
             0.8888888888888888,
             "#fdca26"
            ],
            [
             1,
             "#f0f921"
            ]
           ],
           "sequentialminus": [
            [
             0,
             "#0d0887"
            ],
            [
             0.1111111111111111,
             "#46039f"
            ],
            [
             0.2222222222222222,
             "#7201a8"
            ],
            [
             0.3333333333333333,
             "#9c179e"
            ],
            [
             0.4444444444444444,
             "#bd3786"
            ],
            [
             0.5555555555555556,
             "#d8576b"
            ],
            [
             0.6666666666666666,
             "#ed7953"
            ],
            [
             0.7777777777777778,
             "#fb9f3a"
            ],
            [
             0.8888888888888888,
             "#fdca26"
            ],
            [
             1,
             "#f0f921"
            ]
           ]
          },
          "colorway": [
           "#636efa",
           "#EF553B",
           "#00cc96",
           "#ab63fa",
           "#FFA15A",
           "#19d3f3",
           "#FF6692",
           "#B6E880",
           "#FF97FF",
           "#FECB52"
          ],
          "font": {
           "color": "#2a3f5f"
          },
          "geo": {
           "bgcolor": "white",
           "lakecolor": "white",
           "landcolor": "white",
           "showlakes": true,
           "showland": true,
           "subunitcolor": "#C8D4E3"
          },
          "hoverlabel": {
           "align": "left"
          },
          "hovermode": "closest",
          "mapbox": {
           "style": "light"
          },
          "paper_bgcolor": "white",
          "plot_bgcolor": "white",
          "polar": {
           "angularaxis": {
            "gridcolor": "#EBF0F8",
            "linecolor": "#EBF0F8",
            "ticks": ""
           },
           "bgcolor": "white",
           "radialaxis": {
            "gridcolor": "#EBF0F8",
            "linecolor": "#EBF0F8",
            "ticks": ""
           }
          },
          "scene": {
           "xaxis": {
            "backgroundcolor": "white",
            "gridcolor": "#DFE8F3",
            "gridwidth": 2,
            "linecolor": "#EBF0F8",
            "showbackground": true,
            "ticks": "",
            "zerolinecolor": "#EBF0F8"
           },
           "yaxis": {
            "backgroundcolor": "white",
            "gridcolor": "#DFE8F3",
            "gridwidth": 2,
            "linecolor": "#EBF0F8",
            "showbackground": true,
            "ticks": "",
            "zerolinecolor": "#EBF0F8"
           },
           "zaxis": {
            "backgroundcolor": "white",
            "gridcolor": "#DFE8F3",
            "gridwidth": 2,
            "linecolor": "#EBF0F8",
            "showbackground": true,
            "ticks": "",
            "zerolinecolor": "#EBF0F8"
           }
          },
          "shapedefaults": {
           "line": {
            "color": "#2a3f5f"
           }
          },
          "ternary": {
           "aaxis": {
            "gridcolor": "#DFE8F3",
            "linecolor": "#A2B1C6",
            "ticks": ""
           },
           "baxis": {
            "gridcolor": "#DFE8F3",
            "linecolor": "#A2B1C6",
            "ticks": ""
           },
           "bgcolor": "white",
           "caxis": {
            "gridcolor": "#DFE8F3",
            "linecolor": "#A2B1C6",
            "ticks": ""
           }
          },
          "title": {
           "x": 0.05
          },
          "xaxis": {
           "automargin": true,
           "gridcolor": "#EBF0F8",
           "linecolor": "#EBF0F8",
           "ticks": "",
           "title": {
            "standoff": 15
           },
           "zerolinecolor": "#EBF0F8",
           "zerolinewidth": 2
          },
          "yaxis": {
           "automargin": true,
           "gridcolor": "#EBF0F8",
           "linecolor": "#EBF0F8",
           "ticks": "",
           "title": {
            "standoff": 15
           },
           "zerolinecolor": "#EBF0F8",
           "zerolinewidth": 2
          }
         }
        },
        "title": {
         "text": "Model Selection Results by Classifier and Inner Selection Method"
        },
        "xaxis": {
         "tickangle": -45,
         "title": {
          "text": "Classifier (Inner Selection Method)"
         }
        },
        "yaxis": {
         "title": {
          "text": "Scores matthews_corrcoef"
         }
        }
       }
      }
     },
     "metadata": {},
     "output_type": "display_data"
    }
   ],
   "source": [
    "# eda = DataExplorer(label=label, csv_dir=csv_dir)\n",
    "# features = eda.statistical_difference(show_box=False)\n",
    "df = mlpipe.nested_cv(rounds=2,n_trials_ncv=20,outer_splits=3,inner_splits=3,search_on=['LogisticRegression','ElasticNet'],parallel='freely_parallel',return_csv=True,show_bad_samples=True,name_add='manolakos_test',num_features=20)"
   ]
  },
  {
   "cell_type": "code",
   "execution_count": 19,
   "metadata": {},
   "outputs": [
    {
     "name": "stdout",
     "output_type": "stream",
     "text": [
      "Normalization completed.\n",
      "The bootstrap process might take some time, especially for XGBClassifier, CatBoostClassifier and RandomForestClassifier.\n",
      "Estimator: LinearDiscriminantAnalysis\n",
      "Best parameters: {'solver': 'lsqr', 'shrinkage': 0.18946457117249252, 'tol': 1e-05, 'store_covariance': True}\n",
      "Best trials score: 0.5161888794709817.\n"
     ]
    },
    {
     "name": "stderr",
     "output_type": "stream",
     "text": [
      "Bootstrap validation: 100%|██████████| 100/100 [00:01<00:00, 67.79it/s]\n"
     ]
    },
    {
     "data": {
      "application/vnd.plotly.v1+json": {
       "config": {
        "plotlyServerURL": "https://plot.ly"
       },
       "data": [
        {
         "boxmean": true,
         "boxpoints": "all",
         "jitter": 0.3,
         "name": "LinearDiscriminantAnalysis",
         "pointpos": -1.8,
         "type": "box",
         "y": [
          0.5773502691896257,
          0.35355339059327373,
          0.7637626158259733,
          0.5773502691896257,
          0.5640760748177662,
          0.32732683535398854,
          0.600099198148979,
          0.472455591261534,
          0.3392857142857143,
          0.5773502691896257,
          0.28867513459481287,
          0.6666666666666666,
          0.49099025303098287,
          0.7222222222222222,
          0.49099025303098287,
          0.875,
          0.5773502691896257,
          0.7321428571428571,
          0.32732683535398854,
          0.49099025303098287,
          0.7637626158259733,
          0.6123724356957946,
          0.7321428571428571,
          0.6614378277661477,
          0.7,
          0.600099198148979,
          0.6071428571428571,
          0.472455591261534,
          0.5345224838248488,
          0.6614378277661477,
          0.600099198148979,
          0.6123724356957946,
          0.6614378277661477,
          0.472455591261534,
          0.3424747597107866,
          0.37796447300922725,
          0.6590909090909091,
          0.7385489458759964,
          0.7637626158259733,
          0.8728715609439694,
          0.49099025303098287,
          0.7321428571428571,
          0.4642857142857143,
          0.5345224838248488,
          0.6614378277661477,
          0.600099198148979,
          0.7321428571428571,
          0.600099198148979,
          0.7385489458759964,
          0.12309149097933272,
          0.875,
          0.472455591261534,
          0.37796447300922725,
          0.49099025303098287,
          0.7071067811865475,
          0.3181818181818182,
          0.5345224838248488,
          0.05455447255899809,
          0.7559289460184545,
          0.6614378277661477,
          0.7,
          0.2004459314343183,
          0.3392857142857143,
          0.32732683535398854,
          0.21320071635561041,
          0.7637626158259733,
          0.7637626158259733,
          1,
          0.37796447300922725,
          0.600099198148979,
          0.49099025303098287,
          0.5773502691896257,
          0.8728715609439694,
          0.4,
          0.533001790889026,
          0.600099198148979,
          0.37796447300922725,
          0.6071428571428571,
          0.533001790889026,
          0.472455591261534,
          0.6071428571428571,
          0.43082021842766455,
          0.6071428571428571,
          0.6071428571428571,
          0.3424747597107866,
          0.600099198148979,
          0.533001790889026,
          0.6446583712203042,
          0.600099198148979,
          0.4,
          0.8728715609439694,
          0.6590909090909091,
          0.49099025303098287,
          0.7321428571428571,
          0.7385489458759964,
          0.7071067811865475,
          0.7222222222222222,
          0.5345224838248488,
          0.3392857142857143,
          0.600099198148979
         ]
        }
       ],
       "layout": {
        "template": {
         "data": {
          "bar": [
           {
            "error_x": {
             "color": "#2a3f5f"
            },
            "error_y": {
             "color": "#2a3f5f"
            },
            "marker": {
             "line": {
              "color": "white",
              "width": 0.5
             },
             "pattern": {
              "fillmode": "overlay",
              "size": 10,
              "solidity": 0.2
             }
            },
            "type": "bar"
           }
          ],
          "barpolar": [
           {
            "marker": {
             "line": {
              "color": "white",
              "width": 0.5
             },
             "pattern": {
              "fillmode": "overlay",
              "size": 10,
              "solidity": 0.2
             }
            },
            "type": "barpolar"
           }
          ],
          "carpet": [
           {
            "aaxis": {
             "endlinecolor": "#2a3f5f",
             "gridcolor": "#C8D4E3",
             "linecolor": "#C8D4E3",
             "minorgridcolor": "#C8D4E3",
             "startlinecolor": "#2a3f5f"
            },
            "baxis": {
             "endlinecolor": "#2a3f5f",
             "gridcolor": "#C8D4E3",
             "linecolor": "#C8D4E3",
             "minorgridcolor": "#C8D4E3",
             "startlinecolor": "#2a3f5f"
            },
            "type": "carpet"
           }
          ],
          "choropleth": [
           {
            "colorbar": {
             "outlinewidth": 0,
             "ticks": ""
            },
            "type": "choropleth"
           }
          ],
          "contour": [
           {
            "colorbar": {
             "outlinewidth": 0,
             "ticks": ""
            },
            "colorscale": [
             [
              0,
              "#0d0887"
             ],
             [
              0.1111111111111111,
              "#46039f"
             ],
             [
              0.2222222222222222,
              "#7201a8"
             ],
             [
              0.3333333333333333,
              "#9c179e"
             ],
             [
              0.4444444444444444,
              "#bd3786"
             ],
             [
              0.5555555555555556,
              "#d8576b"
             ],
             [
              0.6666666666666666,
              "#ed7953"
             ],
             [
              0.7777777777777778,
              "#fb9f3a"
             ],
             [
              0.8888888888888888,
              "#fdca26"
             ],
             [
              1,
              "#f0f921"
             ]
            ],
            "type": "contour"
           }
          ],
          "contourcarpet": [
           {
            "colorbar": {
             "outlinewidth": 0,
             "ticks": ""
            },
            "type": "contourcarpet"
           }
          ],
          "heatmap": [
           {
            "colorbar": {
             "outlinewidth": 0,
             "ticks": ""
            },
            "colorscale": [
             [
              0,
              "#0d0887"
             ],
             [
              0.1111111111111111,
              "#46039f"
             ],
             [
              0.2222222222222222,
              "#7201a8"
             ],
             [
              0.3333333333333333,
              "#9c179e"
             ],
             [
              0.4444444444444444,
              "#bd3786"
             ],
             [
              0.5555555555555556,
              "#d8576b"
             ],
             [
              0.6666666666666666,
              "#ed7953"
             ],
             [
              0.7777777777777778,
              "#fb9f3a"
             ],
             [
              0.8888888888888888,
              "#fdca26"
             ],
             [
              1,
              "#f0f921"
             ]
            ],
            "type": "heatmap"
           }
          ],
          "heatmapgl": [
           {
            "colorbar": {
             "outlinewidth": 0,
             "ticks": ""
            },
            "colorscale": [
             [
              0,
              "#0d0887"
             ],
             [
              0.1111111111111111,
              "#46039f"
             ],
             [
              0.2222222222222222,
              "#7201a8"
             ],
             [
              0.3333333333333333,
              "#9c179e"
             ],
             [
              0.4444444444444444,
              "#bd3786"
             ],
             [
              0.5555555555555556,
              "#d8576b"
             ],
             [
              0.6666666666666666,
              "#ed7953"
             ],
             [
              0.7777777777777778,
              "#fb9f3a"
             ],
             [
              0.8888888888888888,
              "#fdca26"
             ],
             [
              1,
              "#f0f921"
             ]
            ],
            "type": "heatmapgl"
           }
          ],
          "histogram": [
           {
            "marker": {
             "pattern": {
              "fillmode": "overlay",
              "size": 10,
              "solidity": 0.2
             }
            },
            "type": "histogram"
           }
          ],
          "histogram2d": [
           {
            "colorbar": {
             "outlinewidth": 0,
             "ticks": ""
            },
            "colorscale": [
             [
              0,
              "#0d0887"
             ],
             [
              0.1111111111111111,
              "#46039f"
             ],
             [
              0.2222222222222222,
              "#7201a8"
             ],
             [
              0.3333333333333333,
              "#9c179e"
             ],
             [
              0.4444444444444444,
              "#bd3786"
             ],
             [
              0.5555555555555556,
              "#d8576b"
             ],
             [
              0.6666666666666666,
              "#ed7953"
             ],
             [
              0.7777777777777778,
              "#fb9f3a"
             ],
             [
              0.8888888888888888,
              "#fdca26"
             ],
             [
              1,
              "#f0f921"
             ]
            ],
            "type": "histogram2d"
           }
          ],
          "histogram2dcontour": [
           {
            "colorbar": {
             "outlinewidth": 0,
             "ticks": ""
            },
            "colorscale": [
             [
              0,
              "#0d0887"
             ],
             [
              0.1111111111111111,
              "#46039f"
             ],
             [
              0.2222222222222222,
              "#7201a8"
             ],
             [
              0.3333333333333333,
              "#9c179e"
             ],
             [
              0.4444444444444444,
              "#bd3786"
             ],
             [
              0.5555555555555556,
              "#d8576b"
             ],
             [
              0.6666666666666666,
              "#ed7953"
             ],
             [
              0.7777777777777778,
              "#fb9f3a"
             ],
             [
              0.8888888888888888,
              "#fdca26"
             ],
             [
              1,
              "#f0f921"
             ]
            ],
            "type": "histogram2dcontour"
           }
          ],
          "mesh3d": [
           {
            "colorbar": {
             "outlinewidth": 0,
             "ticks": ""
            },
            "type": "mesh3d"
           }
          ],
          "parcoords": [
           {
            "line": {
             "colorbar": {
              "outlinewidth": 0,
              "ticks": ""
             }
            },
            "type": "parcoords"
           }
          ],
          "pie": [
           {
            "automargin": true,
            "type": "pie"
           }
          ],
          "scatter": [
           {
            "fillpattern": {
             "fillmode": "overlay",
             "size": 10,
             "solidity": 0.2
            },
            "type": "scatter"
           }
          ],
          "scatter3d": [
           {
            "line": {
             "colorbar": {
              "outlinewidth": 0,
              "ticks": ""
             }
            },
            "marker": {
             "colorbar": {
              "outlinewidth": 0,
              "ticks": ""
             }
            },
            "type": "scatter3d"
           }
          ],
          "scattercarpet": [
           {
            "marker": {
             "colorbar": {
              "outlinewidth": 0,
              "ticks": ""
             }
            },
            "type": "scattercarpet"
           }
          ],
          "scattergeo": [
           {
            "marker": {
             "colorbar": {
              "outlinewidth": 0,
              "ticks": ""
             }
            },
            "type": "scattergeo"
           }
          ],
          "scattergl": [
           {
            "marker": {
             "colorbar": {
              "outlinewidth": 0,
              "ticks": ""
             }
            },
            "type": "scattergl"
           }
          ],
          "scattermapbox": [
           {
            "marker": {
             "colorbar": {
              "outlinewidth": 0,
              "ticks": ""
             }
            },
            "type": "scattermapbox"
           }
          ],
          "scatterpolar": [
           {
            "marker": {
             "colorbar": {
              "outlinewidth": 0,
              "ticks": ""
             }
            },
            "type": "scatterpolar"
           }
          ],
          "scatterpolargl": [
           {
            "marker": {
             "colorbar": {
              "outlinewidth": 0,
              "ticks": ""
             }
            },
            "type": "scatterpolargl"
           }
          ],
          "scatterternary": [
           {
            "marker": {
             "colorbar": {
              "outlinewidth": 0,
              "ticks": ""
             }
            },
            "type": "scatterternary"
           }
          ],
          "surface": [
           {
            "colorbar": {
             "outlinewidth": 0,
             "ticks": ""
            },
            "colorscale": [
             [
              0,
              "#0d0887"
             ],
             [
              0.1111111111111111,
              "#46039f"
             ],
             [
              0.2222222222222222,
              "#7201a8"
             ],
             [
              0.3333333333333333,
              "#9c179e"
             ],
             [
              0.4444444444444444,
              "#bd3786"
             ],
             [
              0.5555555555555556,
              "#d8576b"
             ],
             [
              0.6666666666666666,
              "#ed7953"
             ],
             [
              0.7777777777777778,
              "#fb9f3a"
             ],
             [
              0.8888888888888888,
              "#fdca26"
             ],
             [
              1,
              "#f0f921"
             ]
            ],
            "type": "surface"
           }
          ],
          "table": [
           {
            "cells": {
             "fill": {
              "color": "#EBF0F8"
             },
             "line": {
              "color": "white"
             }
            },
            "header": {
             "fill": {
              "color": "#C8D4E3"
             },
             "line": {
              "color": "white"
             }
            },
            "type": "table"
           }
          ]
         },
         "layout": {
          "annotationdefaults": {
           "arrowcolor": "#2a3f5f",
           "arrowhead": 0,
           "arrowwidth": 1
          },
          "autotypenumbers": "strict",
          "coloraxis": {
           "colorbar": {
            "outlinewidth": 0,
            "ticks": ""
           }
          },
          "colorscale": {
           "diverging": [
            [
             0,
             "#8e0152"
            ],
            [
             0.1,
             "#c51b7d"
            ],
            [
             0.2,
             "#de77ae"
            ],
            [
             0.3,
             "#f1b6da"
            ],
            [
             0.4,
             "#fde0ef"
            ],
            [
             0.5,
             "#f7f7f7"
            ],
            [
             0.6,
             "#e6f5d0"
            ],
            [
             0.7,
             "#b8e186"
            ],
            [
             0.8,
             "#7fbc41"
            ],
            [
             0.9,
             "#4d9221"
            ],
            [
             1,
             "#276419"
            ]
           ],
           "sequential": [
            [
             0,
             "#0d0887"
            ],
            [
             0.1111111111111111,
             "#46039f"
            ],
            [
             0.2222222222222222,
             "#7201a8"
            ],
            [
             0.3333333333333333,
             "#9c179e"
            ],
            [
             0.4444444444444444,
             "#bd3786"
            ],
            [
             0.5555555555555556,
             "#d8576b"
            ],
            [
             0.6666666666666666,
             "#ed7953"
            ],
            [
             0.7777777777777778,
             "#fb9f3a"
            ],
            [
             0.8888888888888888,
             "#fdca26"
            ],
            [
             1,
             "#f0f921"
            ]
           ],
           "sequentialminus": [
            [
             0,
             "#0d0887"
            ],
            [
             0.1111111111111111,
             "#46039f"
            ],
            [
             0.2222222222222222,
             "#7201a8"
            ],
            [
             0.3333333333333333,
             "#9c179e"
            ],
            [
             0.4444444444444444,
             "#bd3786"
            ],
            [
             0.5555555555555556,
             "#d8576b"
            ],
            [
             0.6666666666666666,
             "#ed7953"
            ],
            [
             0.7777777777777778,
             "#fb9f3a"
            ],
            [
             0.8888888888888888,
             "#fdca26"
            ],
            [
             1,
             "#f0f921"
            ]
           ]
          },
          "colorway": [
           "#636efa",
           "#EF553B",
           "#00cc96",
           "#ab63fa",
           "#FFA15A",
           "#19d3f3",
           "#FF6692",
           "#B6E880",
           "#FF97FF",
           "#FECB52"
          ],
          "font": {
           "color": "#2a3f5f"
          },
          "geo": {
           "bgcolor": "white",
           "lakecolor": "white",
           "landcolor": "white",
           "showlakes": true,
           "showland": true,
           "subunitcolor": "#C8D4E3"
          },
          "hoverlabel": {
           "align": "left"
          },
          "hovermode": "closest",
          "mapbox": {
           "style": "light"
          },
          "paper_bgcolor": "white",
          "plot_bgcolor": "white",
          "polar": {
           "angularaxis": {
            "gridcolor": "#EBF0F8",
            "linecolor": "#EBF0F8",
            "ticks": ""
           },
           "bgcolor": "white",
           "radialaxis": {
            "gridcolor": "#EBF0F8",
            "linecolor": "#EBF0F8",
            "ticks": ""
           }
          },
          "scene": {
           "xaxis": {
            "backgroundcolor": "white",
            "gridcolor": "#DFE8F3",
            "gridwidth": 2,
            "linecolor": "#EBF0F8",
            "showbackground": true,
            "ticks": "",
            "zerolinecolor": "#EBF0F8"
           },
           "yaxis": {
            "backgroundcolor": "white",
            "gridcolor": "#DFE8F3",
            "gridwidth": 2,
            "linecolor": "#EBF0F8",
            "showbackground": true,
            "ticks": "",
            "zerolinecolor": "#EBF0F8"
           },
           "zaxis": {
            "backgroundcolor": "white",
            "gridcolor": "#DFE8F3",
            "gridwidth": 2,
            "linecolor": "#EBF0F8",
            "showbackground": true,
            "ticks": "",
            "zerolinecolor": "#EBF0F8"
           }
          },
          "shapedefaults": {
           "line": {
            "color": "#2a3f5f"
           }
          },
          "ternary": {
           "aaxis": {
            "gridcolor": "#DFE8F3",
            "linecolor": "#A2B1C6",
            "ticks": ""
           },
           "baxis": {
            "gridcolor": "#DFE8F3",
            "linecolor": "#A2B1C6",
            "ticks": ""
           },
           "bgcolor": "white",
           "caxis": {
            "gridcolor": "#DFE8F3",
            "linecolor": "#A2B1C6",
            "ticks": ""
           }
          },
          "title": {
           "x": 0.05
          },
          "xaxis": {
           "automargin": true,
           "gridcolor": "#EBF0F8",
           "linecolor": "#EBF0F8",
           "ticks": "",
           "title": {
            "standoff": 15
           },
           "zerolinecolor": "#EBF0F8",
           "zerolinewidth": 2
          },
          "yaxis": {
           "automargin": true,
           "gridcolor": "#EBF0F8",
           "linecolor": "#EBF0F8",
           "ticks": "",
           "title": {
            "standoff": 15
           },
           "zerolinecolor": "#EBF0F8",
           "zerolinewidth": 2
          }
         }
        },
        "title": {
         "text": "Model Evaluation Results With bootstrap Method"
        },
        "yaxis": {
         "title": {
          "text": "Score"
         }
        }
       }
      }
     },
     "metadata": {},
     "output_type": "display_data"
    }
   ],
   "source": [
    "mod, df  = mlpipe.bayesian_search(estimator_name='LinearDiscriminantAnalysis',scoring='matthews_corrcoef', evaluation='bootstrap', n_trials=100, warnings_filter=True,calculate_shap=True, training_method='validation_score',processors=5)"
   ]
  },
  {
   "cell_type": "code",
   "execution_count": 20,
   "metadata": {},
   "outputs": [
    {
     "data": {
      "text/plain": [
       "count    100.000000\n",
       "mean       0.787032\n",
       "std        0.089436\n",
       "min        0.526786\n",
       "25%        0.729911\n",
       "50%        0.800000\n",
       "75%        0.852778\n",
       "max        1.000000\n",
       "Name: roc_auc, dtype: float64"
      ]
     },
     "execution_count": 20,
     "metadata": {},
     "output_type": "execute_result"
    }
   ],
   "source": [
    "df.roc_auc.describe()"
   ]
  },
  {
   "cell_type": "code",
   "execution_count": 21,
   "metadata": {},
   "outputs": [
    {
     "data": {
      "image/png": "[encoded data removed]",
      "text/plain": [
       "<Figure size 800x650 with 1 Axes>"
      ]
     },
     "metadata": {},
     "output_type": "display_data"
    }
   ],
   "source": [
    "# mod.fit(mlpipe.X, mlpipe.y)\n",
    "mlexpl = MLExplainer(mod, mlpipe.X, mlpipe.y, mlpipe.label_mapping, shap_values=shp)\n",
    "# mlexpl.calculate_shap_values(explainer_type='tree')\n",
    "mlexpl.plot_shap_values(plot_type=\"bar\")"
   ]
  },
  {
   "cell_type": "code",
   "execution_count": 44,
   "metadata": {},
   "outputs": [],
   "source": [
    "# shap_features = ['942.9824_0.57', '467.3822_23.01', '393.3454_25.66', '613.4767_25.19', '379.3289_23.95','274.2498_23.94','569.4492_25.31'] # epic_lc_ms_pos\n",
    "# shap_features = ['942.9824_0.57', '393.3454_25.66', '613.4767_25.19', '379.3289_23.95']\n",
    "\n",
    "# shap_features = ['M25','M14','M66','M7','M52','M58','M34','M55','M63','M64','M33'] # periodontal inflammation\n",
    "\n",
    "# shap_features = ['M5','M25','M15','M23','M8','M12','M19','M17'] # chronic_fatigue\n",
    "# shap_features = ['M5','M25','M15','M23','M8','M12']\n",
    "# shap_features = ['M5','M25','M23','M12','M26']\n",
    "\n",
    "# shap_features = ['M8','M18','M32'] # gastric cancer\n",
    "\n",
    "# shap_features = ['M121','M116','M7','M57','M64'] # lung cancer lr\n",
    "\n",
    "# mlpipe.X=mlpipe.X[shap_features]"
   ]
  },
  {
   "cell_type": "code",
   "execution_count": 52,
   "metadata": {},
   "outputs": [
    {
     "name": "stdout",
     "output_type": "stream",
     "text": [
      "Normalization completed.\n",
      "The bootstrap process might take some time, especially for XGBClassifier, CatBoostClassifier and RandomForestClassifier.\n",
      "Estimator: LogisticRegression\n",
      "Best parameters: {'penalty': None, 'C': 0.46953494666571916, 'solver': 'saga', 'max_iter': 692, 'n_jobs': None}\n",
      "Best trials score: 0.38844350753502127.\n"
     ]
    },
    {
     "name": "stderr",
     "output_type": "stream",
     "text": [
      "Bootstrap validation: 100%|██████████| 100/100 [00:01<00:00, 72.79it/s]\n"
     ]
    },
    {
     "data": {
      "application/vnd.plotly.v1+json": {
       "config": {
        "plotlyServerURL": "https://plot.ly"
       },
       "data": [
        {
         "boxmean": true,
         "boxpoints": "all",
         "jitter": 0.3,
         "name": "LogisticRegression",
         "pointpos": -1.8,
         "type": "box",
         "y": [
          0.38981938376529196,
          0.4193139346887673,
          0.375,
          0.5241424183609591,
          0.3572172541558802,
          0.2058790548922549,
          0.38981938376529196,
          0.0657951694959769,
          0.6813851438692469,
          0.3572172541558802,
          0.2182178902359924,
          0.3939393939393939,
          0.25677629550654774,
          0.6005325641789633,
          0.43463356032809364,
          0.464420364012824,
          0.3572172541558802,
          0.5527707983925666,
          0.898717034272917,
          0.38981938376529196,
          0.37796447300922725,
          0.30151134457776363,
          0.2058790548922549,
          0.5790660241435861,
          0.43463356032809364,
          0.17407765595569785,
          0.43463356032809364,
          0.6005325641789633,
          0.29012942659282975,
          0.5044296328024895,
          0.4923659639173309,
          0.420084025208403,
          0.1336306209562122,
          0.6005325641789633,
          0.2857142857142857,
          0.5044296328024895,
          0.24232015747572203,
          0.5044296328024895,
          -0.0890870806374748,
          0.408248290463863,
          0.28511240114923325,
          0.5238095238095238,
          0.2058790548922549,
          -0.0316069770620507,
          0.38981938376529196,
          0.5773502691896257,
          0.23570226039551584,
          0.3685138655950444,
          0.49099025303098287,
          0.2058790548922549,
          0.3572172541558802,
          -0.08206099398622181,
          0.4530333378893934,
          0.3563483225498992,
          0.1829534767323246,
          -0.21821789023599236,
          0.5044296328024895,
          0.4923659639173309,
          0.28511240114923325,
          0.5527707983925666,
          0.4714045207910317,
          0.43463356032809364,
          -0.0890870806374748,
          0.43463356032809364,
          0.28721347895177635,
          0.4583333333333333,
          0.1919191919191919,
          0.5527707983925666,
          0.47075654176200415,
          0.43463356032809364,
          0.2788995520575487,
          0.5333964609104418,
          0.23570226039551584,
          0.5144957554275266,
          0.3144854510165755,
          -0.04279604925109129,
          0.5921565254637922,
          0.3572172541558802,
          0.464420364012824,
          0.375,
          0,
          0.28511240114923325,
          0.0657951694959769,
          0.6123724356957946,
          0.8921425711997711,
          0.4061811972299616,
          0.28511240114923325,
          0.7071067811865475,
          0.3572172541558802,
          0.4364357804719848,
          0.4364357804719848,
          0.3572172541558802,
          0.6633880657639324,
          0.30261376633440124,
          0.38981938376529196,
          0.32824397594488725,
          0.5959595959595959,
          0.2,
          0.2182178902359924,
          0.2058790548922549
         ]
        }
       ],
       "layout": {
        "template": {
         "data": {
          "bar": [
           {
            "error_x": {
             "color": "#2a3f5f"
            },
            "error_y": {
             "color": "#2a3f5f"
            },
            "marker": {
             "line": {
              "color": "white",
              "width": 0.5
             },
             "pattern": {
              "fillmode": "overlay",
              "size": 10,
              "solidity": 0.2
             }
            },
            "type": "bar"
           }
          ],
          "barpolar": [
           {
            "marker": {
             "line": {
              "color": "white",
              "width": 0.5
             },
             "pattern": {
              "fillmode": "overlay",
              "size": 10,
              "solidity": 0.2
             }
            },
            "type": "barpolar"
           }
          ],
          "carpet": [
           {
            "aaxis": {
             "endlinecolor": "#2a3f5f",
             "gridcolor": "#C8D4E3",
             "linecolor": "#C8D4E3",
             "minorgridcolor": "#C8D4E3",
             "startlinecolor": "#2a3f5f"
            },
            "baxis": {
             "endlinecolor": "#2a3f5f",
             "gridcolor": "#C8D4E3",
             "linecolor": "#C8D4E3",
             "minorgridcolor": "#C8D4E3",
             "startlinecolor": "#2a3f5f"
            },
            "type": "carpet"
           }
          ],
          "choropleth": [
           {
            "colorbar": {
             "outlinewidth": 0,
             "ticks": ""
            },
            "type": "choropleth"
           }
          ],
          "contour": [
           {
            "colorbar": {
             "outlinewidth": 0,
             "ticks": ""
            },
            "colorscale": [
             [
              0,
              "#0d0887"
             ],
             [
              0.1111111111111111,
              "#46039f"
             ],
             [
              0.2222222222222222,
              "#7201a8"
             ],
             [
              0.3333333333333333,
              "#9c179e"
             ],
             [
              0.4444444444444444,
              "#bd3786"
             ],
             [
              0.5555555555555556,
              "#d8576b"
             ],
             [
              0.6666666666666666,
              "#ed7953"
             ],
             [
              0.7777777777777778,
              "#fb9f3a"
             ],
             [
              0.8888888888888888,
              "#fdca26"
             ],
             [
              1,
              "#f0f921"
             ]
            ],
            "type": "contour"
           }
          ],
          "contourcarpet": [
           {
            "colorbar": {
             "outlinewidth": 0,
             "ticks": ""
            },
            "type": "contourcarpet"
           }
          ],
          "heatmap": [
           {
            "colorbar": {
             "outlinewidth": 0,
             "ticks": ""
            },
            "colorscale": [
             [
              0,
              "#0d0887"
             ],
             [
              0.1111111111111111,
              "#46039f"
             ],
             [
              0.2222222222222222,
              "#7201a8"
             ],
             [
              0.3333333333333333,
              "#9c179e"
             ],
             [
              0.4444444444444444,
              "#bd3786"
             ],
             [
              0.5555555555555556,
              "#d8576b"
             ],
             [
              0.6666666666666666,
              "#ed7953"
             ],
             [
              0.7777777777777778,
              "#fb9f3a"
             ],
             [
              0.8888888888888888,
              "#fdca26"
             ],
             [
              1,
              "#f0f921"
             ]
            ],
            "type": "heatmap"
           }
          ],
          "heatmapgl": [
           {
            "colorbar": {
             "outlinewidth": 0,
             "ticks": ""
            },
            "colorscale": [
             [
              0,
              "#0d0887"
             ],
             [
              0.1111111111111111,
              "#46039f"
             ],
             [
              0.2222222222222222,
              "#7201a8"
             ],
             [
              0.3333333333333333,
              "#9c179e"
             ],
             [
              0.4444444444444444,
              "#bd3786"
             ],
             [
              0.5555555555555556,
              "#d8576b"
             ],
             [
              0.6666666666666666,
              "#ed7953"
             ],
             [
              0.7777777777777778,
              "#fb9f3a"
             ],
             [
              0.8888888888888888,
              "#fdca26"
             ],
             [
              1,
              "#f0f921"
             ]
            ],
            "type": "heatmapgl"
           }
          ],
          "histogram": [
           {
            "marker": {
             "pattern": {
              "fillmode": "overlay",
              "size": 10,
              "solidity": 0.2
             }
            },
            "type": "histogram"
           }
          ],
          "histogram2d": [
           {
            "colorbar": {
             "outlinewidth": 0,
             "ticks": ""
            },
            "colorscale": [
             [
              0,
              "#0d0887"
             ],
             [
              0.1111111111111111,
              "#46039f"
             ],
             [
              0.2222222222222222,
              "#7201a8"
             ],
             [
              0.3333333333333333,
              "#9c179e"
             ],
             [
              0.4444444444444444,
              "#bd3786"
             ],
             [
              0.5555555555555556,
              "#d8576b"
             ],
             [
              0.6666666666666666,
              "#ed7953"
             ],
             [
              0.7777777777777778,
              "#fb9f3a"
             ],
             [
              0.8888888888888888,
              "#fdca26"
             ],
             [
              1,
              "#f0f921"
             ]
            ],
            "type": "histogram2d"
           }
          ],
          "histogram2dcontour": [
           {
            "colorbar": {
             "outlinewidth": 0,
             "ticks": ""
            },
            "colorscale": [
             [
              0,
              "#0d0887"
             ],
             [
              0.1111111111111111,
              "#46039f"
             ],
             [
              0.2222222222222222,
              "#7201a8"
             ],
             [
              0.3333333333333333,
              "#9c179e"
             ],
             [
              0.4444444444444444,
              "#bd3786"
             ],
             [
              0.5555555555555556,
              "#d8576b"
             ],
             [
              0.6666666666666666,
              "#ed7953"
             ],
             [
              0.7777777777777778,
              "#fb9f3a"
             ],
             [
              0.8888888888888888,
              "#fdca26"
             ],
             [
              1,
              "#f0f921"
             ]
            ],
            "type": "histogram2dcontour"
           }
          ],
          "mesh3d": [
           {
            "colorbar": {
             "outlinewidth": 0,
             "ticks": ""
            },
            "type": "mesh3d"
           }
          ],
          "parcoords": [
           {
            "line": {
             "colorbar": {
              "outlinewidth": 0,
              "ticks": ""
             }
            },
            "type": "parcoords"
           }
          ],
          "pie": [
           {
            "automargin": true,
            "type": "pie"
           }
          ],
          "scatter": [
           {
            "fillpattern": {
             "fillmode": "overlay",
             "size": 10,
             "solidity": 0.2
            },
            "type": "scatter"
           }
          ],
          "scatter3d": [
           {
            "line": {
             "colorbar": {
              "outlinewidth": 0,
              "ticks": ""
             }
            },
            "marker": {
             "colorbar": {
              "outlinewidth": 0,
              "ticks": ""
             }
            },
            "type": "scatter3d"
           }
          ],
          "scattercarpet": [
           {
            "marker": {
             "colorbar": {
              "outlinewidth": 0,
              "ticks": ""
             }
            },
            "type": "scattercarpet"
           }
          ],
          "scattergeo": [
           {
            "marker": {
             "colorbar": {
              "outlinewidth": 0,
              "ticks": ""
             }
            },
            "type": "scattergeo"
           }
          ],
          "scattergl": [
           {
            "marker": {
             "colorbar": {
              "outlinewidth": 0,
              "ticks": ""
             }
            },
            "type": "scattergl"
           }
          ],
          "scattermapbox": [
           {
            "marker": {
             "colorbar": {
              "outlinewidth": 0,
              "ticks": ""
             }
            },
            "type": "scattermapbox"
           }
          ],
          "scatterpolar": [
           {
            "marker": {
             "colorbar": {
              "outlinewidth": 0,
              "ticks": ""
             }
            },
            "type": "scatterpolar"
           }
          ],
          "scatterpolargl": [
           {
            "marker": {
             "colorbar": {
              "outlinewidth": 0,
              "ticks": ""
             }
            },
            "type": "scatterpolargl"
           }
          ],
          "scatterternary": [
           {
            "marker": {
             "colorbar": {
              "outlinewidth": 0,
              "ticks": ""
             }
            },
            "type": "scatterternary"
           }
          ],
          "surface": [
           {
            "colorbar": {
             "outlinewidth": 0,
             "ticks": ""
            },
            "colorscale": [
             [
              0,
              "#0d0887"
             ],
             [
              0.1111111111111111,
              "#46039f"
             ],
             [
              0.2222222222222222,
              "#7201a8"
             ],
             [
              0.3333333333333333,
              "#9c179e"
             ],
             [
              0.4444444444444444,
              "#bd3786"
             ],
             [
              0.5555555555555556,
              "#d8576b"
             ],
             [
              0.6666666666666666,
              "#ed7953"
             ],
             [
              0.7777777777777778,
              "#fb9f3a"
             ],
             [
              0.8888888888888888,
              "#fdca26"
             ],
             [
              1,
              "#f0f921"
             ]
            ],
            "type": "surface"
           }
          ],
          "table": [
           {
            "cells": {
             "fill": {
              "color": "#EBF0F8"
             },
             "line": {
              "color": "white"
             }
            },
            "header": {
             "fill": {
              "color": "#C8D4E3"
             },
             "line": {
              "color": "white"
             }
            },
            "type": "table"
           }
          ]
         },
         "layout": {
          "annotationdefaults": {
           "arrowcolor": "#2a3f5f",
           "arrowhead": 0,
           "arrowwidth": 1
          },
          "autotypenumbers": "strict",
          "coloraxis": {
           "colorbar": {
            "outlinewidth": 0,
            "ticks": ""
           }
          },
          "colorscale": {
           "diverging": [
            [
             0,
             "#8e0152"
            ],
            [
             0.1,
             "#c51b7d"
            ],
            [
             0.2,
             "#de77ae"
            ],
            [
             0.3,
             "#f1b6da"
            ],
            [
             0.4,
             "#fde0ef"
            ],
            [
             0.5,
             "#f7f7f7"
            ],
            [
             0.6,
             "#e6f5d0"
            ],
            [
             0.7,
             "#b8e186"
            ],
            [
             0.8,
             "#7fbc41"
            ],
            [
             0.9,
             "#4d9221"
            ],
            [
             1,
             "#276419"
            ]
           ],
           "sequential": [
            [
             0,
             "#0d0887"
            ],
            [
             0.1111111111111111,
             "#46039f"
            ],
            [
             0.2222222222222222,
             "#7201a8"
            ],
            [
             0.3333333333333333,
             "#9c179e"
            ],
            [
             0.4444444444444444,
             "#bd3786"
            ],
            [
             0.5555555555555556,
             "#d8576b"
            ],
            [
             0.6666666666666666,
             "#ed7953"
            ],
            [
             0.7777777777777778,
             "#fb9f3a"
            ],
            [
             0.8888888888888888,
             "#fdca26"
            ],
            [
             1,
             "#f0f921"
            ]
           ],
           "sequentialminus": [
            [
             0,
             "#0d0887"
            ],
            [
             0.1111111111111111,
             "#46039f"
            ],
            [
             0.2222222222222222,
             "#7201a8"
            ],
            [
             0.3333333333333333,
             "#9c179e"
            ],
            [
             0.4444444444444444,
             "#bd3786"
            ],
            [
             0.5555555555555556,
             "#d8576b"
            ],
            [
             0.6666666666666666,
             "#ed7953"
            ],
            [
             0.7777777777777778,
             "#fb9f3a"
            ],
            [
             0.8888888888888888,
             "#fdca26"
            ],
            [
             1,
             "#f0f921"
            ]
           ]
          },
          "colorway": [
           "#636efa",
           "#EF553B",
           "#00cc96",
           "#ab63fa",
           "#FFA15A",
           "#19d3f3",
           "#FF6692",
           "#B6E880",
           "#FF97FF",
           "#FECB52"
          ],
          "font": {
           "color": "#2a3f5f"
          },
          "geo": {
           "bgcolor": "white",
           "lakecolor": "white",
           "landcolor": "white",
           "showlakes": true,
           "showland": true,
           "subunitcolor": "#C8D4E3"
          },
          "hoverlabel": {
           "align": "left"
          },
          "hovermode": "closest",
          "mapbox": {
           "style": "light"
          },
          "paper_bgcolor": "white",
          "plot_bgcolor": "white",
          "polar": {
           "angularaxis": {
            "gridcolor": "#EBF0F8",
            "linecolor": "#EBF0F8",
            "ticks": ""
           },
           "bgcolor": "white",
           "radialaxis": {
            "gridcolor": "#EBF0F8",
            "linecolor": "#EBF0F8",
            "ticks": ""
           }
          },
          "scene": {
           "xaxis": {
            "backgroundcolor": "white",
            "gridcolor": "#DFE8F3",
            "gridwidth": 2,
            "linecolor": "#EBF0F8",
            "showbackground": true,
            "ticks": "",
            "zerolinecolor": "#EBF0F8"
           },
           "yaxis": {
            "backgroundcolor": "white",
            "gridcolor": "#DFE8F3",
            "gridwidth": 2,
            "linecolor": "#EBF0F8",
            "showbackground": true,
            "ticks": "",
            "zerolinecolor": "#EBF0F8"
           },
           "zaxis": {
            "backgroundcolor": "white",
            "gridcolor": "#DFE8F3",
            "gridwidth": 2,
            "linecolor": "#EBF0F8",
            "showbackground": true,
            "ticks": "",
            "zerolinecolor": "#EBF0F8"
           }
          },
          "shapedefaults": {
           "line": {
            "color": "#2a3f5f"
           }
          },
          "ternary": {
           "aaxis": {
            "gridcolor": "#DFE8F3",
            "linecolor": "#A2B1C6",
            "ticks": ""
           },
           "baxis": {
            "gridcolor": "#DFE8F3",
            "linecolor": "#A2B1C6",
            "ticks": ""
           },
           "bgcolor": "white",
           "caxis": {
            "gridcolor": "#DFE8F3",
            "linecolor": "#A2B1C6",
            "ticks": ""
           }
          },
          "title": {
           "x": 0.05
          },
          "xaxis": {
           "automargin": true,
           "gridcolor": "#EBF0F8",
           "linecolor": "#EBF0F8",
           "ticks": "",
           "title": {
            "standoff": 15
           },
           "zerolinecolor": "#EBF0F8",
           "zerolinewidth": 2
          },
          "yaxis": {
           "automargin": true,
           "gridcolor": "#EBF0F8",
           "linecolor": "#EBF0F8",
           "ticks": "",
           "title": {
            "standoff": 15
           },
           "zerolinecolor": "#EBF0F8",
           "zerolinewidth": 2
          }
         }
        },
        "title": {
         "text": "Model Evaluation Results With bootstrap Method"
        },
        "yaxis": {
         "title": {
          "text": "Score"
         }
        }
       }
      }
     },
     "metadata": {},
     "output_type": "display_data"
    }
   ],
   "source": [
    "mod, df  = mlpipe.bayesian_search(features_names_list=shap_features,estimator_name='LogisticRegression',scoring='matthews_corrcoef', evaluation='bootstrap', n_trials=100, cv=5, warnings_filter=True,training_method='validation_score',processors=5)\n",
    "# mod, df  = mlpipe.random_search(estimator_name='ElasticNet',scoring='mathews_corrcoef', evaluation='bootstrap', n_iter=150, cv=5)#,training_method='one_sem')"
   ]
  },
  {
   "cell_type": "code",
   "execution_count": 53,
   "metadata": {},
   "outputs": [
    {
     "name": "stdout",
     "output_type": "stream",
     "text": [
      "Normalization completed.\n",
      "The bootstrap process might take some time, especially for XGBClassifier, CatBoostClassifier and RandomForestClassifier.\n",
      "Estimator: LogisticRegression\n",
      "Best parameters: {'penalty': None, 'C': 0.5899061095409899, 'solver': 'lbfgs', 'max_iter': 884, 'n_jobs': None}\n",
      "Best trials score: 0.8419287730781062.\n"
     ]
    },
    {
     "name": "stderr",
     "output_type": "stream",
     "text": [
      "Bootstrap validation: 100%|██████████| 100/100 [00:01<00:00, 75.78it/s]\n"
     ]
    },
    {
     "data": {
      "text/plain": [
       "count    100.000000\n",
       "mean       0.679859\n",
       "std        0.097342\n",
       "min        0.428571\n",
       "25%        0.629735\n",
       "50%        0.687500\n",
       "75%        0.732323\n",
       "max        0.964286\n",
       "Name: roc_auc, dtype: float64"
      ]
     },
     "metadata": {},
     "output_type": "display_data"
    },
    {
     "name": "stdout",
     "output_type": "stream",
     "text": [
      "Normalization completed.\n",
      "The bootstrap process might take some time, especially for XGBClassifier, CatBoostClassifier and RandomForestClassifier.\n",
      "Estimator: XGBClassifier\n",
      "Best parameters: {'learning_rate': 0.08751589716599731, 'n_estimators': 479, 'max_depth': 4, 'subsample': 0.5086830572026867, 'n_jobs': 1, 'booster': 'gbtree', 'tree_method': 'exact', 'reg_alpha': 0.29008133561660265, 'reg_lambda': 0.6822567274296311, 'objective': 'binary:logistic', 'eval_metric': 'error'}\n",
      "Best trials score: 0.814832534780682.\n"
     ]
    },
    {
     "name": "stderr",
     "output_type": "stream",
     "text": [
      "Bootstrap validation: 100%|██████████| 100/100 [00:06<00:00, 16.30it/s]\n"
     ]
    },
    {
     "data": {
      "application/vnd.plotly.v1+json": {
       "config": {
        "plotlyServerURL": "https://plot.ly"
       },
       "data": [
        {
         "boxmean": true,
         "boxpoints": "all",
         "jitter": 0.3,
         "name": "XGBClassifier",
         "pointpos": -1.8,
         "type": "box",
         "y": [
          0.7385489458759964,
          0.9045340337332909,
          0.9045340337332909,
          0.9045340337332909,
          0.797979797979798,
          0.9045340337332909,
          0.9045340337332909,
          0.898717034272917,
          0.9045340337332909,
          0.7916666666666666,
          0.797979797979798,
          1,
          0.90267093384844,
          1,
          1,
          0.90267093384844,
          0.7035264706814485,
          1,
          1,
          0.816496580927726,
          0.9045340337332909,
          0.8921425711997711,
          0.9045340337332909,
          0.8181818181818182,
          1,
          1,
          0.90267093384844,
          1,
          1,
          0.90267093384844,
          1,
          0.6633880657639324,
          1,
          0.8921425711997711,
          0.9045340337332909,
          0.9045340337332909,
          1,
          0.9045340337332909,
          0.6975184488828855,
          0.90267093384844,
          1,
          0.90267093384844,
          0.90267093384844,
          0.898717034272917,
          0.90267093384844,
          0.6161616161616161,
          1,
          0.7619047619047619,
          0.90267093384844,
          0.9045340337332909,
          0.816496580927726,
          1,
          0.7337993857053428,
          0.9045340337332909,
          0.7035264706814485,
          0.7619047619047619,
          0.7385489458759964,
          0.7916666666666666,
          0.7916666666666666,
          0.90267093384844,
          0.6975184488828855,
          1,
          0.816496580927726,
          0.9045340337332909,
          0.8921425711997711,
          0.6875,
          0.797979797979798,
          0.8819171036881969,
          0.7385489458759964,
          0.90267093384844,
          0.90267093384844,
          0.9045340337332909,
          0.90267093384844,
          0.898717034272917,
          0.90267093384844,
          1,
          0.8017837257372732,
          0.599144689515278,
          0.8,
          1,
          0.9045340337332909,
          0.90267093384844,
          1,
          0.898717034272917,
          0.7071067811865475,
          0.9045340337332909,
          1,
          0.816496580927726,
          1,
          0.90267093384844,
          0.6847367880174606,
          0.6847367880174606,
          0.898717034272917,
          0.816496580927726,
          0.9045340337332909,
          0.9045340337332909,
          0.90267093384844,
          0.7035264706814485,
          0.9045340337332909,
          0.9045340337332909
         ]
        }
       ],
       "layout": {
        "template": {
         "data": {
          "bar": [
           {
            "error_x": {
             "color": "#2a3f5f"
            },
            "error_y": {
             "color": "#2a3f5f"
            },
            "marker": {
             "line": {
              "color": "white",
              "width": 0.5
             },
             "pattern": {
              "fillmode": "overlay",
              "size": 10,
              "solidity": 0.2
             }
            },
            "type": "bar"
           }
          ],
          "barpolar": [
           {
            "marker": {
             "line": {
              "color": "white",
              "width": 0.5
             },
             "pattern": {
              "fillmode": "overlay",
              "size": 10,
              "solidity": 0.2
             }
            },
            "type": "barpolar"
           }
          ],
          "carpet": [
           {
            "aaxis": {
             "endlinecolor": "#2a3f5f",
             "gridcolor": "#C8D4E3",
             "linecolor": "#C8D4E3",
             "minorgridcolor": "#C8D4E3",
             "startlinecolor": "#2a3f5f"
            },
            "baxis": {
             "endlinecolor": "#2a3f5f",
             "gridcolor": "#C8D4E3",
             "linecolor": "#C8D4E3",
             "minorgridcolor": "#C8D4E3",
             "startlinecolor": "#2a3f5f"
            },
            "type": "carpet"
           }
          ],
          "choropleth": [
           {
            "colorbar": {
             "outlinewidth": 0,
             "ticks": ""
            },
            "type": "choropleth"
           }
          ],
          "contour": [
           {
            "colorbar": {
             "outlinewidth": 0,
             "ticks": ""
            },
            "colorscale": [
             [
              0,
              "#0d0887"
             ],
             [
              0.1111111111111111,
              "#46039f"
             ],
             [
              0.2222222222222222,
              "#7201a8"
             ],
             [
              0.3333333333333333,
              "#9c179e"
             ],
             [
              0.4444444444444444,
              "#bd3786"
             ],
             [
              0.5555555555555556,
              "#d8576b"
             ],
             [
              0.6666666666666666,
              "#ed7953"
             ],
             [
              0.7777777777777778,
              "#fb9f3a"
             ],
             [
              0.8888888888888888,
              "#fdca26"
             ],
             [
              1,
              "#f0f921"
             ]
            ],
            "type": "contour"
           }
          ],
          "contourcarpet": [
           {
            "colorbar": {
             "outlinewidth": 0,
             "ticks": ""
            },
            "type": "contourcarpet"
           }
          ],
          "heatmap": [
           {
            "colorbar": {
             "outlinewidth": 0,
             "ticks": ""
            },
            "colorscale": [
             [
              0,
              "#0d0887"
             ],
             [
              0.1111111111111111,
              "#46039f"
             ],
             [
              0.2222222222222222,
              "#7201a8"
             ],
             [
              0.3333333333333333,
              "#9c179e"
             ],
             [
              0.4444444444444444,
              "#bd3786"
             ],
             [
              0.5555555555555556,
              "#d8576b"
             ],
             [
              0.6666666666666666,
              "#ed7953"
             ],
             [
              0.7777777777777778,
              "#fb9f3a"
             ],
             [
              0.8888888888888888,
              "#fdca26"
             ],
             [
              1,
              "#f0f921"
             ]
            ],
            "type": "heatmap"
           }
          ],
          "heatmapgl": [
           {
            "colorbar": {
             "outlinewidth": 0,
             "ticks": ""
            },
            "colorscale": [
             [
              0,
              "#0d0887"
             ],
             [
              0.1111111111111111,
              "#46039f"
             ],
             [
              0.2222222222222222,
              "#7201a8"
             ],
             [
              0.3333333333333333,
              "#9c179e"
             ],
             [
              0.4444444444444444,
              "#bd3786"
             ],
             [
              0.5555555555555556,
              "#d8576b"
             ],
             [
              0.6666666666666666,
              "#ed7953"
             ],
             [
              0.7777777777777778,
              "#fb9f3a"
             ],
             [
              0.8888888888888888,
              "#fdca26"
             ],
             [
              1,
              "#f0f921"
             ]
            ],
            "type": "heatmapgl"
           }
          ],
          "histogram": [
           {
            "marker": {
             "pattern": {
              "fillmode": "overlay",
              "size": 10,
              "solidity": 0.2
             }
            },
            "type": "histogram"
           }
          ],
          "histogram2d": [
           {
            "colorbar": {
             "outlinewidth": 0,
             "ticks": ""
            },
            "colorscale": [
             [
              0,
              "#0d0887"
             ],
             [
              0.1111111111111111,
              "#46039f"
             ],
             [
              0.2222222222222222,
              "#7201a8"
             ],
             [
              0.3333333333333333,
              "#9c179e"
             ],
             [
              0.4444444444444444,
              "#bd3786"
             ],
             [
              0.5555555555555556,
              "#d8576b"
             ],
             [
              0.6666666666666666,
              "#ed7953"
             ],
             [
              0.7777777777777778,
              "#fb9f3a"
             ],
             [
              0.8888888888888888,
              "#fdca26"
             ],
             [
              1,
              "#f0f921"
             ]
            ],
            "type": "histogram2d"
           }
          ],
          "histogram2dcontour": [
           {
            "colorbar": {
             "outlinewidth": 0,
             "ticks": ""
            },
            "colorscale": [
             [
              0,
              "#0d0887"
             ],
             [
              0.1111111111111111,
              "#46039f"
             ],
             [
              0.2222222222222222,
              "#7201a8"
             ],
             [
              0.3333333333333333,
              "#9c179e"
             ],
             [
              0.4444444444444444,
              "#bd3786"
             ],
             [
              0.5555555555555556,
              "#d8576b"
             ],
             [
              0.6666666666666666,
              "#ed7953"
             ],
             [
              0.7777777777777778,
              "#fb9f3a"
             ],
             [
              0.8888888888888888,
              "#fdca26"
             ],
             [
              1,
              "#f0f921"
             ]
            ],
            "type": "histogram2dcontour"
           }
          ],
          "mesh3d": [
           {
            "colorbar": {
             "outlinewidth": 0,
             "ticks": ""
            },
            "type": "mesh3d"
           }
          ],
          "parcoords": [
           {
            "line": {
             "colorbar": {
              "outlinewidth": 0,
              "ticks": ""
             }
            },
            "type": "parcoords"
           }
          ],
          "pie": [
           {
            "automargin": true,
            "type": "pie"
           }
          ],
          "scatter": [
           {
            "fillpattern": {
             "fillmode": "overlay",
             "size": 10,
             "solidity": 0.2
            },
            "type": "scatter"
           }
          ],
          "scatter3d": [
           {
            "line": {
             "colorbar": {
              "outlinewidth": 0,
              "ticks": ""
             }
            },
            "marker": {
             "colorbar": {
              "outlinewidth": 0,
              "ticks": ""
             }
            },
            "type": "scatter3d"
           }
          ],
          "scattercarpet": [
           {
            "marker": {
             "colorbar": {
              "outlinewidth": 0,
              "ticks": ""
             }
            },
            "type": "scattercarpet"
           }
          ],
          "scattergeo": [
           {
            "marker": {
             "colorbar": {
              "outlinewidth": 0,
              "ticks": ""
             }
            },
            "type": "scattergeo"
           }
          ],
          "scattergl": [
           {
            "marker": {
             "colorbar": {
              "outlinewidth": 0,
              "ticks": ""
             }
            },
            "type": "scattergl"
           }
          ],
          "scattermapbox": [
           {
            "marker": {
             "colorbar": {
              "outlinewidth": 0,
              "ticks": ""
             }
            },
            "type": "scattermapbox"
           }
          ],
          "scatterpolar": [
           {
            "marker": {
             "colorbar": {
              "outlinewidth": 0,
              "ticks": ""
             }
            },
            "type": "scatterpolar"
           }
          ],
          "scatterpolargl": [
           {
            "marker": {
             "colorbar": {
              "outlinewidth": 0,
              "ticks": ""
             }
            },
            "type": "scatterpolargl"
           }
          ],
          "scatterternary": [
           {
            "marker": {
             "colorbar": {
              "outlinewidth": 0,
              "ticks": ""
             }
            },
            "type": "scatterternary"
           }
          ],
          "surface": [
           {
            "colorbar": {
             "outlinewidth": 0,
             "ticks": ""
            },
            "colorscale": [
             [
              0,
              "#0d0887"
             ],
             [
              0.1111111111111111,
              "#46039f"
             ],
             [
              0.2222222222222222,
              "#7201a8"
             ],
             [
              0.3333333333333333,
              "#9c179e"
             ],
             [
              0.4444444444444444,
              "#bd3786"
             ],
             [
              0.5555555555555556,
              "#d8576b"
             ],
             [
              0.6666666666666666,
              "#ed7953"
             ],
             [
              0.7777777777777778,
              "#fb9f3a"
             ],
             [
              0.8888888888888888,
              "#fdca26"
             ],
             [
              1,
              "#f0f921"
             ]
            ],
            "type": "surface"
           }
          ],
          "table": [
           {
            "cells": {
             "fill": {
              "color": "#EBF0F8"
             },
             "line": {
              "color": "white"
             }
            },
            "header": {
             "fill": {
              "color": "#C8D4E3"
             },
             "line": {
              "color": "white"
             }
            },
            "type": "table"
           }
          ]
         },
         "layout": {
          "annotationdefaults": {
           "arrowcolor": "#2a3f5f",
           "arrowhead": 0,
           "arrowwidth": 1
          },
          "autotypenumbers": "strict",
          "coloraxis": {
           "colorbar": {
            "outlinewidth": 0,
            "ticks": ""
           }
          },
          "colorscale": {
           "diverging": [
            [
             0,
             "#8e0152"
            ],
            [
             0.1,
             "#c51b7d"
            ],
            [
             0.2,
             "#de77ae"
            ],
            [
             0.3,
             "#f1b6da"
            ],
            [
             0.4,
             "#fde0ef"
            ],
            [
             0.5,
             "#f7f7f7"
            ],
            [
             0.6,
             "#e6f5d0"
            ],
            [
             0.7,
             "#b8e186"
            ],
            [
             0.8,
             "#7fbc41"
            ],
            [
             0.9,
             "#4d9221"
            ],
            [
             1,
             "#276419"
            ]
           ],
           "sequential": [
            [
             0,
             "#0d0887"
            ],
            [
             0.1111111111111111,
             "#46039f"
            ],
            [
             0.2222222222222222,
             "#7201a8"
            ],
            [
             0.3333333333333333,
             "#9c179e"
            ],
            [
             0.4444444444444444,
             "#bd3786"
            ],
            [
             0.5555555555555556,
             "#d8576b"
            ],
            [
             0.6666666666666666,
             "#ed7953"
            ],
            [
             0.7777777777777778,
             "#fb9f3a"
            ],
            [
             0.8888888888888888,
             "#fdca26"
            ],
            [
             1,
             "#f0f921"
            ]
           ],
           "sequentialminus": [
            [
             0,
             "#0d0887"
            ],
            [
             0.1111111111111111,
             "#46039f"
            ],
            [
             0.2222222222222222,
             "#7201a8"
            ],
            [
             0.3333333333333333,
             "#9c179e"
            ],
            [
             0.4444444444444444,
             "#bd3786"
            ],
            [
             0.5555555555555556,
             "#d8576b"
            ],
            [
             0.6666666666666666,
             "#ed7953"
            ],
            [
             0.7777777777777778,
             "#fb9f3a"
            ],
            [
             0.8888888888888888,
             "#fdca26"
            ],
            [
             1,
             "#f0f921"
            ]
           ]
          },
          "colorway": [
           "#636efa",
           "#EF553B",
           "#00cc96",
           "#ab63fa",
           "#FFA15A",
           "#19d3f3",
           "#FF6692",
           "#B6E880",
           "#FF97FF",
           "#FECB52"
          ],
          "font": {
           "color": "#2a3f5f"
          },
          "geo": {
           "bgcolor": "white",
           "lakecolor": "white",
           "landcolor": "white",
           "showlakes": true,
           "showland": true,
           "subunitcolor": "#C8D4E3"
          },
          "hoverlabel": {
           "align": "left"
          },
          "hovermode": "closest",
          "mapbox": {
           "style": "light"
          },
          "paper_bgcolor": "white",
          "plot_bgcolor": "white",
          "polar": {
           "angularaxis": {
            "gridcolor": "#EBF0F8",
            "linecolor": "#EBF0F8",
            "ticks": ""
           },
           "bgcolor": "white",
           "radialaxis": {
            "gridcolor": "#EBF0F8",
            "linecolor": "#EBF0F8",
            "ticks": ""
           }
          },
          "scene": {
           "xaxis": {
            "backgroundcolor": "white",
            "gridcolor": "#DFE8F3",
            "gridwidth": 2,
            "linecolor": "#EBF0F8",
            "showbackground": true,
            "ticks": "",
            "zerolinecolor": "#EBF0F8"
           },
           "yaxis": {
            "backgroundcolor": "white",
            "gridcolor": "#DFE8F3",
            "gridwidth": 2,
            "linecolor": "#EBF0F8",
            "showbackground": true,
            "ticks": "",
            "zerolinecolor": "#EBF0F8"
           },
           "zaxis": {
            "backgroundcolor": "white",
            "gridcolor": "#DFE8F3",
            "gridwidth": 2,
            "linecolor": "#EBF0F8",
            "showbackground": true,
            "ticks": "",
            "zerolinecolor": "#EBF0F8"
           }
          },
          "shapedefaults": {
           "line": {
            "color": "#2a3f5f"
           }
          },
          "ternary": {
           "aaxis": {
            "gridcolor": "#DFE8F3",
            "linecolor": "#A2B1C6",
            "ticks": ""
           },
           "baxis": {
            "gridcolor": "#DFE8F3",
            "linecolor": "#A2B1C6",
            "ticks": ""
           },
           "bgcolor": "white",
           "caxis": {
            "gridcolor": "#DFE8F3",
            "linecolor": "#A2B1C6",
            "ticks": ""
           }
          },
          "title": {
           "x": 0.05
          },
          "xaxis": {
           "automargin": true,
           "gridcolor": "#EBF0F8",
           "linecolor": "#EBF0F8",
           "ticks": "",
           "title": {
            "standoff": 15
           },
           "zerolinecolor": "#EBF0F8",
           "zerolinewidth": 2
          },
          "yaxis": {
           "automargin": true,
           "gridcolor": "#EBF0F8",
           "linecolor": "#EBF0F8",
           "ticks": "",
           "title": {
            "standoff": 15
           },
           "zerolinecolor": "#EBF0F8",
           "zerolinewidth": 2
          }
         }
        },
        "title": {
         "text": "Model Evaluation Results With bootstrap Method"
        },
        "yaxis": {
         "title": {
          "text": "Score"
         }
        }
       }
      }
     },
     "metadata": {},
     "output_type": "display_data"
    },
    {
     "name": "stdout",
     "output_type": "stream",
     "text": [
      "Normalization completed.\n",
      "The bootstrap process might take some time, especially for XGBClassifier, CatBoostClassifier and RandomForestClassifier.\n",
      "Estimator: SVC\n",
      "Best parameters: {'C': 0.9931245564135998, 'kernel': 'rbf', 'degree': 9, 'probability': True, 'shrinking': True, 'decision_function_shape': 'ovr'}\n",
      "Best trials score: 0.8950226126595385.\n"
     ]
    },
    {
     "name": "stderr",
     "output_type": "stream",
     "text": [
      "Bootstrap validation: 100%|██████████| 100/100 [00:00<00:00, 122.64it/s]\n"
     ]
    },
    {
     "data": {
      "application/vnd.plotly.v1+json": {
       "config": {
        "plotlyServerURL": "https://plot.ly"
       },
       "data": [
        {
         "boxmean": true,
         "boxpoints": "all",
         "jitter": 0.3,
         "name": "SVC",
         "pointpos": -1.8,
         "type": "box",
         "y": [
          0.90267093384844,
          1,
          1,
          0.8,
          0.9045340337332909,
          1,
          0.9045340337332909,
          0.898717034272917,
          0.816496580927726,
          0.7916666666666666,
          0.90267093384844,
          1,
          0.90267093384844,
          1,
          1,
          0.898717034272917,
          0.7385489458759964,
          1,
          1,
          0.9045340337332909,
          1,
          0.8921425711997711,
          0.9045340337332909,
          0.9045340337332909,
          1,
          1,
          0.816496580927726,
          1,
          1,
          0.90267093384844,
          1,
          0.6633880657639324,
          1,
          0.8921425711997711,
          0.9045340337332909,
          0.9045340337332909,
          1,
          1,
          0.90267093384844,
          0.90267093384844,
          1,
          1,
          0.90267093384844,
          0.898717034272917,
          0.90267093384844,
          0.7035264706814485,
          1,
          0.8017837257372732,
          0.90267093384844,
          1,
          0.90267093384844,
          1,
          0.898717034272917,
          0.9045340337332909,
          0.9045340337332909,
          0.8921425711997711,
          1,
          0.6847367880174606,
          0.90267093384844,
          0.90267093384844,
          0.90267093384844,
          1,
          0.816496580927726,
          0.9045340337332909,
          0.8921425711997711,
          0.6875,
          0.9045340337332909,
          0.8819171036881969,
          0.8181818181818182,
          1,
          1,
          0.9045340337332909,
          0.90267093384844,
          1,
          1,
          1,
          0.8921425711997711,
          0.8112457445926347,
          0.9045340337332909,
          1,
          0.9045340337332909,
          0.90267093384844,
          1,
          0.898717034272917,
          0.7916666666666666,
          0.9045340337332909,
          1,
          0.7385489458759964,
          1,
          0.90267093384844,
          0.8017837257372732,
          0.8112457445926347,
          0.898717034272917,
          0.90267093384844,
          0.9045340337332909,
          1,
          1,
          0.816496580927726,
          1,
          0.9045340337332909
         ]
        }
       ],
       "layout": {
        "template": {
         "data": {
          "bar": [
           {
            "error_x": {
             "color": "#2a3f5f"
            },
            "error_y": {
             "color": "#2a3f5f"
            },
            "marker": {
             "line": {
              "color": "white",
              "width": 0.5
             },
             "pattern": {
              "fillmode": "overlay",
              "size": 10,
              "solidity": 0.2
             }
            },
            "type": "bar"
           }
          ],
          "barpolar": [
           {
            "marker": {
             "line": {
              "color": "white",
              "width": 0.5
             },
             "pattern": {
              "fillmode": "overlay",
              "size": 10,
              "solidity": 0.2
             }
            },
            "type": "barpolar"
           }
          ],
          "carpet": [
           {
            "aaxis": {
             "endlinecolor": "#2a3f5f",
             "gridcolor": "#C8D4E3",
             "linecolor": "#C8D4E3",
             "minorgridcolor": "#C8D4E3",
             "startlinecolor": "#2a3f5f"
            },
            "baxis": {
             "endlinecolor": "#2a3f5f",
             "gridcolor": "#C8D4E3",
             "linecolor": "#C8D4E3",
             "minorgridcolor": "#C8D4E3",
             "startlinecolor": "#2a3f5f"
            },
            "type": "carpet"
           }
          ],
          "choropleth": [
           {
            "colorbar": {
             "outlinewidth": 0,
             "ticks": ""
            },
            "type": "choropleth"
           }
          ],
          "contour": [
           {
            "colorbar": {
             "outlinewidth": 0,
             "ticks": ""
            },
            "colorscale": [
             [
              0,
              "#0d0887"
             ],
             [
              0.1111111111111111,
              "#46039f"
             ],
             [
              0.2222222222222222,
              "#7201a8"
             ],
             [
              0.3333333333333333,
              "#9c179e"
             ],
             [
              0.4444444444444444,
              "#bd3786"
             ],
             [
              0.5555555555555556,
              "#d8576b"
             ],
             [
              0.6666666666666666,
              "#ed7953"
             ],
             [
              0.7777777777777778,
              "#fb9f3a"
             ],
             [
              0.8888888888888888,
              "#fdca26"
             ],
             [
              1,
              "#f0f921"
             ]
            ],
            "type": "contour"
           }
          ],
          "contourcarpet": [
           {
            "colorbar": {
             "outlinewidth": 0,
             "ticks": ""
            },
            "type": "contourcarpet"
           }
          ],
          "heatmap": [
           {
            "colorbar": {
             "outlinewidth": 0,
             "ticks": ""
            },
            "colorscale": [
             [
              0,
              "#0d0887"
             ],
             [
              0.1111111111111111,
              "#46039f"
             ],
             [
              0.2222222222222222,
              "#7201a8"
             ],
             [
              0.3333333333333333,
              "#9c179e"
             ],
             [
              0.4444444444444444,
              "#bd3786"
             ],
             [
              0.5555555555555556,
              "#d8576b"
             ],
             [
              0.6666666666666666,
              "#ed7953"
             ],
             [
              0.7777777777777778,
              "#fb9f3a"
             ],
             [
              0.8888888888888888,
              "#fdca26"
             ],
             [
              1,
              "#f0f921"
             ]
            ],
            "type": "heatmap"
           }
          ],
          "heatmapgl": [
           {
            "colorbar": {
             "outlinewidth": 0,
             "ticks": ""
            },
            "colorscale": [
             [
              0,
              "#0d0887"
             ],
             [
              0.1111111111111111,
              "#46039f"
             ],
             [
              0.2222222222222222,
              "#7201a8"
             ],
             [
              0.3333333333333333,
              "#9c179e"
             ],
             [
              0.4444444444444444,
              "#bd3786"
             ],
             [
              0.5555555555555556,
              "#d8576b"
             ],
             [
              0.6666666666666666,
              "#ed7953"
             ],
             [
              0.7777777777777778,
              "#fb9f3a"
             ],
             [
              0.8888888888888888,
              "#fdca26"
             ],
             [
              1,
              "#f0f921"
             ]
            ],
            "type": "heatmapgl"
           }
          ],
          "histogram": [
           {
            "marker": {
             "pattern": {
              "fillmode": "overlay",
              "size": 10,
              "solidity": 0.2
             }
            },
            "type": "histogram"
           }
          ],
          "histogram2d": [
           {
            "colorbar": {
             "outlinewidth": 0,
             "ticks": ""
            },
            "colorscale": [
             [
              0,
              "#0d0887"
             ],
             [
              0.1111111111111111,
              "#46039f"
             ],
             [
              0.2222222222222222,
              "#7201a8"
             ],
             [
              0.3333333333333333,
              "#9c179e"
             ],
             [
              0.4444444444444444,
              "#bd3786"
             ],
             [
              0.5555555555555556,
              "#d8576b"
             ],
             [
              0.6666666666666666,
              "#ed7953"
             ],
             [
              0.7777777777777778,
              "#fb9f3a"
             ],
             [
              0.8888888888888888,
              "#fdca26"
             ],
             [
              1,
              "#f0f921"
             ]
            ],
            "type": "histogram2d"
           }
          ],
          "histogram2dcontour": [
           {
            "colorbar": {
             "outlinewidth": 0,
             "ticks": ""
            },
            "colorscale": [
             [
              0,
              "#0d0887"
             ],
             [
              0.1111111111111111,
              "#46039f"
             ],
             [
              0.2222222222222222,
              "#7201a8"
             ],
             [
              0.3333333333333333,
              "#9c179e"
             ],
             [
              0.4444444444444444,
              "#bd3786"
             ],
             [
              0.5555555555555556,
              "#d8576b"
             ],
             [
              0.6666666666666666,
              "#ed7953"
             ],
             [
              0.7777777777777778,
              "#fb9f3a"
             ],
             [
              0.8888888888888888,
              "#fdca26"
             ],
             [
              1,
              "#f0f921"
             ]
            ],
            "type": "histogram2dcontour"
           }
          ],
          "mesh3d": [
           {
            "colorbar": {
             "outlinewidth": 0,
             "ticks": ""
            },
            "type": "mesh3d"
           }
          ],
          "parcoords": [
           {
            "line": {
             "colorbar": {
              "outlinewidth": 0,
              "ticks": ""
             }
            },
            "type": "parcoords"
           }
          ],
          "pie": [
           {
            "automargin": true,
            "type": "pie"
           }
          ],
          "scatter": [
           {
            "fillpattern": {
             "fillmode": "overlay",
             "size": 10,
             "solidity": 0.2
            },
            "type": "scatter"
           }
          ],
          "scatter3d": [
           {
            "line": {
             "colorbar": {
              "outlinewidth": 0,
              "ticks": ""
             }
            },
            "marker": {
             "colorbar": {
              "outlinewidth": 0,
              "ticks": ""
             }
            },
            "type": "scatter3d"
           }
          ],
          "scattercarpet": [
           {
            "marker": {
             "colorbar": {
              "outlinewidth": 0,
              "ticks": ""
             }
            },
            "type": "scattercarpet"
           }
          ],
          "scattergeo": [
           {
            "marker": {
             "colorbar": {
              "outlinewidth": 0,
              "ticks": ""
             }
            },
            "type": "scattergeo"
           }
          ],
          "scattergl": [
           {
            "marker": {
             "colorbar": {
              "outlinewidth": 0,
              "ticks": ""
             }
            },
            "type": "scattergl"
           }
          ],
          "scattermapbox": [
           {
            "marker": {
             "colorbar": {
              "outlinewidth": 0,
              "ticks": ""
             }
            },
            "type": "scattermapbox"
           }
          ],
          "scatterpolar": [
           {
            "marker": {
             "colorbar": {
              "outlinewidth": 0,
              "ticks": ""
             }
            },
            "type": "scatterpolar"
           }
          ],
          "scatterpolargl": [
           {
            "marker": {
             "colorbar": {
              "outlinewidth": 0,
              "ticks": ""
             }
            },
            "type": "scatterpolargl"
           }
          ],
          "scatterternary": [
           {
            "marker": {
             "colorbar": {
              "outlinewidth": 0,
              "ticks": ""
             }
            },
            "type": "scatterternary"
           }
          ],
          "surface": [
           {
            "colorbar": {
             "outlinewidth": 0,
             "ticks": ""
            },
            "colorscale": [
             [
              0,
              "#0d0887"
             ],
             [
              0.1111111111111111,
              "#46039f"
             ],
             [
              0.2222222222222222,
              "#7201a8"
             ],
             [
              0.3333333333333333,
              "#9c179e"
             ],
             [
              0.4444444444444444,
              "#bd3786"
             ],
             [
              0.5555555555555556,
              "#d8576b"
             ],
             [
              0.6666666666666666,
              "#ed7953"
             ],
             [
              0.7777777777777778,
              "#fb9f3a"
             ],
             [
              0.8888888888888888,
              "#fdca26"
             ],
             [
              1,
              "#f0f921"
             ]
            ],
            "type": "surface"
           }
          ],
          "table": [
           {
            "cells": {
             "fill": {
              "color": "#EBF0F8"
             },
             "line": {
              "color": "white"
             }
            },
            "header": {
             "fill": {
              "color": "#C8D4E3"
             },
             "line": {
              "color": "white"
             }
            },
            "type": "table"
           }
          ]
         },
         "layout": {
          "annotationdefaults": {
           "arrowcolor": "#2a3f5f",
           "arrowhead": 0,
           "arrowwidth": 1
          },
          "autotypenumbers": "strict",
          "coloraxis": {
           "colorbar": {
            "outlinewidth": 0,
            "ticks": ""
           }
          },
          "colorscale": {
           "diverging": [
            [
             0,
             "#8e0152"
            ],
            [
             0.1,
             "#c51b7d"
            ],
            [
             0.2,
             "#de77ae"
            ],
            [
             0.3,
             "#f1b6da"
            ],
            [
             0.4,
             "#fde0ef"
            ],
            [
             0.5,
             "#f7f7f7"
            ],
            [
             0.6,
             "#e6f5d0"
            ],
            [
             0.7,
             "#b8e186"
            ],
            [
             0.8,
             "#7fbc41"
            ],
            [
             0.9,
             "#4d9221"
            ],
            [
             1,
             "#276419"
            ]
           ],
           "sequential": [
            [
             0,
             "#0d0887"
            ],
            [
             0.1111111111111111,
             "#46039f"
            ],
            [
             0.2222222222222222,
             "#7201a8"
            ],
            [
             0.3333333333333333,
             "#9c179e"
            ],
            [
             0.4444444444444444,
             "#bd3786"
            ],
            [
             0.5555555555555556,
             "#d8576b"
            ],
            [
             0.6666666666666666,
             "#ed7953"
            ],
            [
             0.7777777777777778,
             "#fb9f3a"
            ],
            [
             0.8888888888888888,
             "#fdca26"
            ],
            [
             1,
             "#f0f921"
            ]
           ],
           "sequentialminus": [
            [
             0,
             "#0d0887"
            ],
            [
             0.1111111111111111,
             "#46039f"
            ],
            [
             0.2222222222222222,
             "#7201a8"
            ],
            [
             0.3333333333333333,
             "#9c179e"
            ],
            [
             0.4444444444444444,
             "#bd3786"
            ],
            [
             0.5555555555555556,
             "#d8576b"
            ],
            [
             0.6666666666666666,
             "#ed7953"
            ],
            [
             0.7777777777777778,
             "#fb9f3a"
            ],
            [
             0.8888888888888888,
             "#fdca26"
            ],
            [
             1,
             "#f0f921"
            ]
           ]
          },
          "colorway": [
           "#636efa",
           "#EF553B",
           "#00cc96",
           "#ab63fa",
           "#FFA15A",
           "#19d3f3",
           "#FF6692",
           "#B6E880",
           "#FF97FF",
           "#FECB52"
          ],
          "font": {
           "color": "#2a3f5f"
          },
          "geo": {
           "bgcolor": "white",
           "lakecolor": "white",
           "landcolor": "white",
           "showlakes": true,
           "showland": true,
           "subunitcolor": "#C8D4E3"
          },
          "hoverlabel": {
           "align": "left"
          },
          "hovermode": "closest",
          "mapbox": {
           "style": "light"
          },
          "paper_bgcolor": "white",
          "plot_bgcolor": "white",
          "polar": {
           "angularaxis": {
            "gridcolor": "#EBF0F8",
            "linecolor": "#EBF0F8",
            "ticks": ""
           },
           "bgcolor": "white",
           "radialaxis": {
            "gridcolor": "#EBF0F8",
            "linecolor": "#EBF0F8",
            "ticks": ""
           }
          },
          "scene": {
           "xaxis": {
            "backgroundcolor": "white",
            "gridcolor": "#DFE8F3",
            "gridwidth": 2,
            "linecolor": "#EBF0F8",
            "showbackground": true,
            "ticks": "",
            "zerolinecolor": "#EBF0F8"
           },
           "yaxis": {
            "backgroundcolor": "white",
            "gridcolor": "#DFE8F3",
            "gridwidth": 2,
            "linecolor": "#EBF0F8",
            "showbackground": true,
            "ticks": "",
            "zerolinecolor": "#EBF0F8"
           },
           "zaxis": {
            "backgroundcolor": "white",
            "gridcolor": "#DFE8F3",
            "gridwidth": 2,
            "linecolor": "#EBF0F8",
            "showbackground": true,
            "ticks": "",
            "zerolinecolor": "#EBF0F8"
           }
          },
          "shapedefaults": {
           "line": {
            "color": "#2a3f5f"
           }
          },
          "ternary": {
           "aaxis": {
            "gridcolor": "#DFE8F3",
            "linecolor": "#A2B1C6",
            "ticks": ""
           },
           "baxis": {
            "gridcolor": "#DFE8F3",
            "linecolor": "#A2B1C6",
            "ticks": ""
           },
           "bgcolor": "white",
           "caxis": {
            "gridcolor": "#DFE8F3",
            "linecolor": "#A2B1C6",
            "ticks": ""
           }
          },
          "title": {
           "x": 0.05
          },
          "xaxis": {
           "automargin": true,
           "gridcolor": "#EBF0F8",
           "linecolor": "#EBF0F8",
           "ticks": "",
           "title": {
            "standoff": 15
           },
           "zerolinecolor": "#EBF0F8",
           "zerolinewidth": 2
          },
          "yaxis": {
           "automargin": true,
           "gridcolor": "#EBF0F8",
           "linecolor": "#EBF0F8",
           "ticks": "",
           "title": {
            "standoff": 15
           },
           "zerolinecolor": "#EBF0F8",
           "zerolinewidth": 2
          }
         }
        },
        "title": {
         "text": "Model Evaluation Results With bootstrap Method"
        },
        "yaxis": {
         "title": {
          "text": "Score"
         }
        }
       }
      }
     },
     "metadata": {},
     "output_type": "display_data"
    },
    {
     "name": "stdout",
     "output_type": "stream",
     "text": [
      "Normalization completed.\n",
      "The bootstrap process might take some time, especially for XGBClassifier, CatBoostClassifier and RandomForestClassifier.\n",
      "Estimator: RandomForestClassifier\n",
      "Best parameters: {'n_estimators': 264, 'criterion': 'gini', 'max_depth': 76, 'min_samples_leaf': 2, 'bootstrap': True, 'n_jobs': 1}\n",
      "Best trials score: 0.8444525250833582.\n"
     ]
    },
    {
     "name": "stderr",
     "output_type": "stream",
     "text": [
      "Bootstrap validation: 100%|██████████| 100/100 [00:20<00:00,  4.83it/s]\n"
     ]
    },
    {
     "data": {
      "application/vnd.plotly.v1+json": {
       "config": {
        "plotlyServerURL": "https://plot.ly"
       },
       "data": [
        {
         "boxmean": true,
         "boxpoints": "all",
         "jitter": 0.3,
         "name": "RandomForestClassifier",
         "pointpos": -1.8,
         "type": "box",
         "y": [
          0.816496580927726,
          0.9045340337332909,
          0.9045340337332909,
          0.9045340337332909,
          0.9045340337332909,
          1,
          0.9045340337332909,
          0.898717034272917,
          0.9045340337332909,
          0.898717034272917,
          0.9045340337332909,
          1,
          0.90267093384844,
          0.90267093384844,
          1,
          0.90267093384844,
          0.7035264706814485,
          1,
          0.9045340337332909,
          0.816496580927726,
          0.9045340337332909,
          0.8921425711997711,
          0.7337993857053428,
          0.8181818181818182,
          1,
          1,
          0.90267093384844,
          1,
          1,
          0.90267093384844,
          1,
          0.8819171036881969,
          1,
          0.8921425711997711,
          0.9045340337332909,
          0.9045340337332909,
          0.90267093384844,
          0.9045340337332909,
          0.6123724356957946,
          0.90267093384844,
          0.9045340337332909,
          1,
          0.90267093384844,
          0.7916666666666666,
          0.8112457445926347,
          0.797979797979798,
          1,
          0.7619047619047619,
          0.90267093384844,
          1,
          0.90267093384844,
          1,
          0.898717034272917,
          0.9045340337332909,
          0.9045340337332909,
          0.8921425711997711,
          0.7385489458759964,
          0.90267093384844,
          0.7916666666666666,
          0.90267093384844,
          0.6975184488828855,
          1,
          0.816496580927726,
          1,
          0.8921425711997711,
          0.8401680504168059,
          0.9045340337332909,
          0.8819171036881969,
          0.9045340337332909,
          1,
          1,
          0.9045340337332909,
          0.90267093384844,
          0.90267093384844,
          0.90267093384844,
          1,
          0.723746864455746,
          0.6637465183030647,
          0.8,
          1,
          0.9045340337332909,
          0.90267093384844,
          0.9045340337332909,
          0.898717034272917,
          0.8017837257372732,
          0.9045340337332909,
          1,
          0.816496580927726,
          1,
          1,
          0.5790660241435861,
          0.7802197802197802,
          0.898717034272917,
          0.816496580927726,
          0.9045340337332909,
          1,
          0.90267093384844,
          0.7035264706814485,
          0.9045340337332909,
          0.9045340337332909
         ]
        }
       ],
       "layout": {
        "template": {
         "data": {
          "bar": [
           {
            "error_x": {
             "color": "#2a3f5f"
            },
            "error_y": {
             "color": "#2a3f5f"
            },
            "marker": {
             "line": {
              "color": "white",
              "width": 0.5
             },
             "pattern": {
              "fillmode": "overlay",
              "size": 10,
              "solidity": 0.2
             }
            },
            "type": "bar"
           }
          ],
          "barpolar": [
           {
            "marker": {
             "line": {
              "color": "white",
              "width": 0.5
             },
             "pattern": {
              "fillmode": "overlay",
              "size": 10,
              "solidity": 0.2
             }
            },
            "type": "barpolar"
           }
          ],
          "carpet": [
           {
            "aaxis": {
             "endlinecolor": "#2a3f5f",
             "gridcolor": "#C8D4E3",
             "linecolor": "#C8D4E3",
             "minorgridcolor": "#C8D4E3",
             "startlinecolor": "#2a3f5f"
            },
            "baxis": {
             "endlinecolor": "#2a3f5f",
             "gridcolor": "#C8D4E3",
             "linecolor": "#C8D4E3",
             "minorgridcolor": "#C8D4E3",
             "startlinecolor": "#2a3f5f"
            },
            "type": "carpet"
           }
          ],
          "choropleth": [
           {
            "colorbar": {
             "outlinewidth": 0,
             "ticks": ""
            },
            "type": "choropleth"
           }
          ],
          "contour": [
           {
            "colorbar": {
             "outlinewidth": 0,
             "ticks": ""
            },
            "colorscale": [
             [
              0,
              "#0d0887"
             ],
             [
              0.1111111111111111,
              "#46039f"
             ],
             [
              0.2222222222222222,
              "#7201a8"
             ],
             [
              0.3333333333333333,
              "#9c179e"
             ],
             [
              0.4444444444444444,
              "#bd3786"
             ],
             [
              0.5555555555555556,
              "#d8576b"
             ],
             [
              0.6666666666666666,
              "#ed7953"
             ],
             [
              0.7777777777777778,
              "#fb9f3a"
             ],
             [
              0.8888888888888888,
              "#fdca26"
             ],
             [
              1,
              "#f0f921"
             ]
            ],
            "type": "contour"
           }
          ],
          "contourcarpet": [
           {
            "colorbar": {
             "outlinewidth": 0,
             "ticks": ""
            },
            "type": "contourcarpet"
           }
          ],
          "heatmap": [
           {
            "colorbar": {
             "outlinewidth": 0,
             "ticks": ""
            },
            "colorscale": [
             [
              0,
              "#0d0887"
             ],
             [
              0.1111111111111111,
              "#46039f"
             ],
             [
              0.2222222222222222,
              "#7201a8"
             ],
             [
              0.3333333333333333,
              "#9c179e"
             ],
             [
              0.4444444444444444,
              "#bd3786"
             ],
             [
              0.5555555555555556,
              "#d8576b"
             ],
             [
              0.6666666666666666,
              "#ed7953"
             ],
             [
              0.7777777777777778,
              "#fb9f3a"
             ],
             [
              0.8888888888888888,
              "#fdca26"
             ],
             [
              1,
              "#f0f921"
             ]
            ],
            "type": "heatmap"
           }
          ],
          "heatmapgl": [
           {
            "colorbar": {
             "outlinewidth": 0,
             "ticks": ""
            },
            "colorscale": [
             [
              0,
              "#0d0887"
             ],
             [
              0.1111111111111111,
              "#46039f"
             ],
             [
              0.2222222222222222,
              "#7201a8"
             ],
             [
              0.3333333333333333,
              "#9c179e"
             ],
             [
              0.4444444444444444,
              "#bd3786"
             ],
             [
              0.5555555555555556,
              "#d8576b"
             ],
             [
              0.6666666666666666,
              "#ed7953"
             ],
             [
              0.7777777777777778,
              "#fb9f3a"
             ],
             [
              0.8888888888888888,
              "#fdca26"
             ],
             [
              1,
              "#f0f921"
             ]
            ],
            "type": "heatmapgl"
           }
          ],
          "histogram": [
           {
            "marker": {
             "pattern": {
              "fillmode": "overlay",
              "size": 10,
              "solidity": 0.2
             }
            },
            "type": "histogram"
           }
          ],
          "histogram2d": [
           {
            "colorbar": {
             "outlinewidth": 0,
             "ticks": ""
            },
            "colorscale": [
             [
              0,
              "#0d0887"
             ],
             [
              0.1111111111111111,
              "#46039f"
             ],
             [
              0.2222222222222222,
              "#7201a8"
             ],
             [
              0.3333333333333333,
              "#9c179e"
             ],
             [
              0.4444444444444444,
              "#bd3786"
             ],
             [
              0.5555555555555556,
              "#d8576b"
             ],
             [
              0.6666666666666666,
              "#ed7953"
             ],
             [
              0.7777777777777778,
              "#fb9f3a"
             ],
             [
              0.8888888888888888,
              "#fdca26"
             ],
             [
              1,
              "#f0f921"
             ]
            ],
            "type": "histogram2d"
           }
          ],
          "histogram2dcontour": [
           {
            "colorbar": {
             "outlinewidth": 0,
             "ticks": ""
            },
            "colorscale": [
             [
              0,
              "#0d0887"
             ],
             [
              0.1111111111111111,
              "#46039f"
             ],
             [
              0.2222222222222222,
              "#7201a8"
             ],
             [
              0.3333333333333333,
              "#9c179e"
             ],
             [
              0.4444444444444444,
              "#bd3786"
             ],
             [
              0.5555555555555556,
              "#d8576b"
             ],
             [
              0.6666666666666666,
              "#ed7953"
             ],
             [
              0.7777777777777778,
              "#fb9f3a"
             ],
             [
              0.8888888888888888,
              "#fdca26"
             ],
             [
              1,
              "#f0f921"
             ]
            ],
            "type": "histogram2dcontour"
           }
          ],
          "mesh3d": [
           {
            "colorbar": {
             "outlinewidth": 0,
             "ticks": ""
            },
            "type": "mesh3d"
           }
          ],
          "parcoords": [
           {
            "line": {
             "colorbar": {
              "outlinewidth": 0,
              "ticks": ""
             }
            },
            "type": "parcoords"
           }
          ],
          "pie": [
           {
            "automargin": true,
            "type": "pie"
           }
          ],
          "scatter": [
           {
            "fillpattern": {
             "fillmode": "overlay",
             "size": 10,
             "solidity": 0.2
            },
            "type": "scatter"
           }
          ],
          "scatter3d": [
           {
            "line": {
             "colorbar": {
              "outlinewidth": 0,
              "ticks": ""
             }
            },
            "marker": {
             "colorbar": {
              "outlinewidth": 0,
              "ticks": ""
             }
            },
            "type": "scatter3d"
           }
          ],
          "scattercarpet": [
           {
            "marker": {
             "colorbar": {
              "outlinewidth": 0,
              "ticks": ""
             }
            },
            "type": "scattercarpet"
           }
          ],
          "scattergeo": [
           {
            "marker": {
             "colorbar": {
              "outlinewidth": 0,
              "ticks": ""
             }
            },
            "type": "scattergeo"
           }
          ],
          "scattergl": [
           {
            "marker": {
             "colorbar": {
              "outlinewidth": 0,
              "ticks": ""
             }
            },
            "type": "scattergl"
           }
          ],
          "scattermapbox": [
           {
            "marker": {
             "colorbar": {
              "outlinewidth": 0,
              "ticks": ""
             }
            },
            "type": "scattermapbox"
           }
          ],
          "scatterpolar": [
           {
            "marker": {
             "colorbar": {
              "outlinewidth": 0,
              "ticks": ""
             }
            },
            "type": "scatterpolar"
           }
          ],
          "scatterpolargl": [
           {
            "marker": {
             "colorbar": {
              "outlinewidth": 0,
              "ticks": ""
             }
            },
            "type": "scatterpolargl"
           }
          ],
          "scatterternary": [
           {
            "marker": {
             "colorbar": {
              "outlinewidth": 0,
              "ticks": ""
             }
            },
            "type": "scatterternary"
           }
          ],
          "surface": [
           {
            "colorbar": {
             "outlinewidth": 0,
             "ticks": ""
            },
            "colorscale": [
             [
              0,
              "#0d0887"
             ],
             [
              0.1111111111111111,
              "#46039f"
             ],
             [
              0.2222222222222222,
              "#7201a8"
             ],
             [
              0.3333333333333333,
              "#9c179e"
             ],
             [
              0.4444444444444444,
              "#bd3786"
             ],
             [
              0.5555555555555556,
              "#d8576b"
             ],
             [
              0.6666666666666666,
              "#ed7953"
             ],
             [
              0.7777777777777778,
              "#fb9f3a"
             ],
             [
              0.8888888888888888,
              "#fdca26"
             ],
             [
              1,
              "#f0f921"
             ]
            ],
            "type": "surface"
           }
          ],
          "table": [
           {
            "cells": {
             "fill": {
              "color": "#EBF0F8"
             },
             "line": {
              "color": "white"
             }
            },
            "header": {
             "fill": {
              "color": "#C8D4E3"
             },
             "line": {
              "color": "white"
             }
            },
            "type": "table"
           }
          ]
         },
         "layout": {
          "annotationdefaults": {
           "arrowcolor": "#2a3f5f",
           "arrowhead": 0,
           "arrowwidth": 1
          },
          "autotypenumbers": "strict",
          "coloraxis": {
           "colorbar": {
            "outlinewidth": 0,
            "ticks": ""
           }
          },
          "colorscale": {
           "diverging": [
            [
             0,
             "#8e0152"
            ],
            [
             0.1,
             "#c51b7d"
            ],
            [
             0.2,
             "#de77ae"
            ],
            [
             0.3,
             "#f1b6da"
            ],
            [
             0.4,
             "#fde0ef"
            ],
            [
             0.5,
             "#f7f7f7"
            ],
            [
             0.6,
             "#e6f5d0"
            ],
            [
             0.7,
             "#b8e186"
            ],
            [
             0.8,
             "#7fbc41"
            ],
            [
             0.9,
             "#4d9221"
            ],
            [
             1,
             "#276419"
            ]
           ],
           "sequential": [
            [
             0,
             "#0d0887"
            ],
            [
             0.1111111111111111,
             "#46039f"
            ],
            [
             0.2222222222222222,
             "#7201a8"
            ],
            [
             0.3333333333333333,
             "#9c179e"
            ],
            [
             0.4444444444444444,
             "#bd3786"
            ],
            [
             0.5555555555555556,
             "#d8576b"
            ],
            [
             0.6666666666666666,
             "#ed7953"
            ],
            [
             0.7777777777777778,
             "#fb9f3a"
            ],
            [
             0.8888888888888888,
             "#fdca26"
            ],
            [
             1,
             "#f0f921"
            ]
           ],
           "sequentialminus": [
            [
             0,
             "#0d0887"
            ],
            [
             0.1111111111111111,
             "#46039f"
            ],
            [
             0.2222222222222222,
             "#7201a8"
            ],
            [
             0.3333333333333333,
             "#9c179e"
            ],
            [
             0.4444444444444444,
             "#bd3786"
            ],
            [
             0.5555555555555556,
             "#d8576b"
            ],
            [
             0.6666666666666666,
             "#ed7953"
            ],
            [
             0.7777777777777778,
             "#fb9f3a"
            ],
            [
             0.8888888888888888,
             "#fdca26"
            ],
            [
             1,
             "#f0f921"
            ]
           ]
          },
          "colorway": [
           "#636efa",
           "#EF553B",
           "#00cc96",
           "#ab63fa",
           "#FFA15A",
           "#19d3f3",
           "#FF6692",
           "#B6E880",
           "#FF97FF",
           "#FECB52"
          ],
          "font": {
           "color": "#2a3f5f"
          },
          "geo": {
           "bgcolor": "white",
           "lakecolor": "white",
           "landcolor": "white",
           "showlakes": true,
           "showland": true,
           "subunitcolor": "#C8D4E3"
          },
          "hoverlabel": {
           "align": "left"
          },
          "hovermode": "closest",
          "mapbox": {
           "style": "light"
          },
          "paper_bgcolor": "white",
          "plot_bgcolor": "white",
          "polar": {
           "angularaxis": {
            "gridcolor": "#EBF0F8",
            "linecolor": "#EBF0F8",
            "ticks": ""
           },
           "bgcolor": "white",
           "radialaxis": {
            "gridcolor": "#EBF0F8",
            "linecolor": "#EBF0F8",
            "ticks": ""
           }
          },
          "scene": {
           "xaxis": {
            "backgroundcolor": "white",
            "gridcolor": "#DFE8F3",
            "gridwidth": 2,
            "linecolor": "#EBF0F8",
            "showbackground": true,
            "ticks": "",
            "zerolinecolor": "#EBF0F8"
           },
           "yaxis": {
            "backgroundcolor": "white",
            "gridcolor": "#DFE8F3",
            "gridwidth": 2,
            "linecolor": "#EBF0F8",
            "showbackground": true,
            "ticks": "",
            "zerolinecolor": "#EBF0F8"
           },
           "zaxis": {
            "backgroundcolor": "white",
            "gridcolor": "#DFE8F3",
            "gridwidth": 2,
            "linecolor": "#EBF0F8",
            "showbackground": true,
            "ticks": "",
            "zerolinecolor": "#EBF0F8"
           }
          },
          "shapedefaults": {
           "line": {
            "color": "#2a3f5f"
           }
          },
          "ternary": {
           "aaxis": {
            "gridcolor": "#DFE8F3",
            "linecolor": "#A2B1C6",
            "ticks": ""
           },
           "baxis": {
            "gridcolor": "#DFE8F3",
            "linecolor": "#A2B1C6",
            "ticks": ""
           },
           "bgcolor": "white",
           "caxis": {
            "gridcolor": "#DFE8F3",
            "linecolor": "#A2B1C6",
            "ticks": ""
           }
          },
          "title": {
           "x": 0.05
          },
          "xaxis": {
           "automargin": true,
           "gridcolor": "#EBF0F8",
           "linecolor": "#EBF0F8",
           "ticks": "",
           "title": {
            "standoff": 15
           },
           "zerolinecolor": "#EBF0F8",
           "zerolinewidth": 2
          },
          "yaxis": {
           "automargin": true,
           "gridcolor": "#EBF0F8",
           "linecolor": "#EBF0F8",
           "ticks": "",
           "title": {
            "standoff": 15
           },
           "zerolinecolor": "#EBF0F8",
           "zerolinewidth": 2
          }
         }
        },
        "title": {
         "text": "Model Evaluation Results With bootstrap Method"
        },
        "yaxis": {
         "title": {
          "text": "Score"
         }
        }
       }
      }
     },
     "metadata": {},
     "output_type": "display_data"
    }
   ],
   "source": [
    "# df.roc_auc.describe()\n",
    "import pandas as pd\n",
    "\n",
    "estimators = ['LogisticRegression','XGBClassifier','SVC','RandomForestClassifier']\n",
    "con_df = pd.DataFrame()\n",
    "\n",
    "for estimator in estimators:\n",
    "    mod, df  = mlpipe.bayesian_search(estimator_name=estimator,scoring='matthews_corrcoef', evaluation='bootstrap', n_trials=100, cv=5, warnings_filter=True)#,training_method='one_sem')\n",
    "    df['Training Method'] = 'validation_score'\n",
    "    df['Dataset'] = csv_dir\n",
    "    df['Estimator'] = estimator\n",
    "    df['Features'] = str(shap_features)\n",
    "    con_df = pd.concat([con_df,df], ignore_index=True)"
   ]
  },
  {
   "cell_type": "code",
   "execution_count": 6,
   "metadata": {},
   "outputs": [
    {
     "data": {
      "text/html": [
       "<div>\n",
       "<style scoped>\n",
       "    .dataframe tbody tr th:only-of-type {\n",
       "        vertical-align: middle;\n",
       "    }\n",
       "\n",
       "    .dataframe tbody tr th {\n",
       "        vertical-align: top;\n",
       "    }\n",
       "\n",
       "    .dataframe thead th {\n",
       "        text-align: right;\n",
       "    }\n",
       "</style>\n",
       "<table border=\"1\" class=\"dataframe\">\n",
       "  <thead>\n",
       "    <tr style=\"text-align: right;\">\n",
       "      <th></th>\n",
       "      <th>Scores</th>\n",
       "      <th>mean_test_score</th>\n",
       "      <th>std_test_score</th>\n",
       "      <th>sem_test_score</th>\n",
       "      <th>params</th>\n",
       "      <th>round</th>\n",
       "      <th>ranked</th>\n",
       "      <th>roc_auc</th>\n",
       "      <th>accuracy</th>\n",
       "      <th>balanced_accuracy</th>\n",
       "      <th>recall</th>\n",
       "      <th>precision</th>\n",
       "      <th>f1</th>\n",
       "      <th>matthews_corrcoef</th>\n",
       "      <th>Estimator</th>\n",
       "      <th>Training Method</th>\n",
       "      <th>Dataset</th>\n",
       "      <th>Features</th>\n",
       "    </tr>\n",
       "  </thead>\n",
       "  <tbody>\n",
       "    <tr>\n",
       "      <th>0</th>\n",
       "      <td>0.902671</td>\n",
       "      <td>0.899512</td>\n",
       "      <td>0.086241</td>\n",
       "      <td>0.008624</td>\n",
       "      <td>NaN</td>\n",
       "      <td>bootstrap</td>\n",
       "      <td>1</td>\n",
       "      <td>0.944444</td>\n",
       "      <td>0.95</td>\n",
       "      <td>0.944444</td>\n",
       "      <td>1.000000</td>\n",
       "      <td>0.916667</td>\n",
       "      <td>0.956522</td>\n",
       "      <td>0.902671</td>\n",
       "      <td>ElasticNet</td>\n",
       "      <td>validation_score</td>\n",
       "      <td>data/epic_lc_ms_pos.csv</td>\n",
       "      <td>all</td>\n",
       "    </tr>\n",
       "    <tr>\n",
       "      <th>1</th>\n",
       "      <td>0.892143</td>\n",
       "      <td>0.899512</td>\n",
       "      <td>0.086241</td>\n",
       "      <td>0.008624</td>\n",
       "      <td>NaN</td>\n",
       "      <td>bootstrap</td>\n",
       "      <td>1</td>\n",
       "      <td>0.928571</td>\n",
       "      <td>0.95</td>\n",
       "      <td>0.928571</td>\n",
       "      <td>1.000000</td>\n",
       "      <td>0.928571</td>\n",
       "      <td>0.962963</td>\n",
       "      <td>0.892143</td>\n",
       "      <td>ElasticNet</td>\n",
       "      <td>validation_score</td>\n",
       "      <td>data/epic_lc_ms_pos.csv</td>\n",
       "      <td>all</td>\n",
       "    </tr>\n",
       "    <tr>\n",
       "      <th>2</th>\n",
       "      <td>0.811246</td>\n",
       "      <td>0.899512</td>\n",
       "      <td>0.086241</td>\n",
       "      <td>0.008624</td>\n",
       "      <td>NaN</td>\n",
       "      <td>bootstrap</td>\n",
       "      <td>1</td>\n",
       "      <td>0.923077</td>\n",
       "      <td>0.90</td>\n",
       "      <td>0.923077</td>\n",
       "      <td>0.846154</td>\n",
       "      <td>1.000000</td>\n",
       "      <td>0.916667</td>\n",
       "      <td>0.811246</td>\n",
       "      <td>ElasticNet</td>\n",
       "      <td>validation_score</td>\n",
       "      <td>data/epic_lc_ms_pos.csv</td>\n",
       "      <td>all</td>\n",
       "    </tr>\n",
       "    <tr>\n",
       "      <th>3</th>\n",
       "      <td>0.791667</td>\n",
       "      <td>0.899512</td>\n",
       "      <td>0.086241</td>\n",
       "      <td>0.008624</td>\n",
       "      <td>NaN</td>\n",
       "      <td>bootstrap</td>\n",
       "      <td>1</td>\n",
       "      <td>0.895833</td>\n",
       "      <td>0.90</td>\n",
       "      <td>0.895833</td>\n",
       "      <td>0.875000</td>\n",
       "      <td>0.875000</td>\n",
       "      <td>0.875000</td>\n",
       "      <td>0.791667</td>\n",
       "      <td>ElasticNet</td>\n",
       "      <td>validation_score</td>\n",
       "      <td>data/epic_lc_ms_pos.csv</td>\n",
       "      <td>all</td>\n",
       "    </tr>\n",
       "    <tr>\n",
       "      <th>4</th>\n",
       "      <td>0.902671</td>\n",
       "      <td>0.899512</td>\n",
       "      <td>0.086241</td>\n",
       "      <td>0.008624</td>\n",
       "      <td>NaN</td>\n",
       "      <td>bootstrap</td>\n",
       "      <td>1</td>\n",
       "      <td>0.958333</td>\n",
       "      <td>0.95</td>\n",
       "      <td>0.958333</td>\n",
       "      <td>1.000000</td>\n",
       "      <td>0.888889</td>\n",
       "      <td>0.941176</td>\n",
       "      <td>0.902671</td>\n",
       "      <td>ElasticNet</td>\n",
       "      <td>validation_score</td>\n",
       "      <td>data/epic_lc_ms_pos.csv</td>\n",
       "      <td>all</td>\n",
       "    </tr>\n",
       "    <tr>\n",
       "      <th>...</th>\n",
       "      <td>...</td>\n",
       "      <td>...</td>\n",
       "      <td>...</td>\n",
       "      <td>...</td>\n",
       "      <td>...</td>\n",
       "      <td>...</td>\n",
       "      <td>...</td>\n",
       "      <td>...</td>\n",
       "      <td>...</td>\n",
       "      <td>...</td>\n",
       "      <td>...</td>\n",
       "      <td>...</td>\n",
       "      <td>...</td>\n",
       "      <td>...</td>\n",
       "      <td>...</td>\n",
       "      <td>...</td>\n",
       "      <td>...</td>\n",
       "      <td>...</td>\n",
       "    </tr>\n",
       "    <tr>\n",
       "      <th>3395</th>\n",
       "      <td>1.000000</td>\n",
       "      <td>0.891134</td>\n",
       "      <td>0.090450</td>\n",
       "      <td>0.009045</td>\n",
       "      <td>NaN</td>\n",
       "      <td>bootstrap</td>\n",
       "      <td>1</td>\n",
       "      <td>1.000000</td>\n",
       "      <td>1.00</td>\n",
       "      <td>1.000000</td>\n",
       "      <td>1.000000</td>\n",
       "      <td>1.000000</td>\n",
       "      <td>1.000000</td>\n",
       "      <td>1.000000</td>\n",
       "      <td>RandomForestClassifier</td>\n",
       "      <td>validation_score</td>\n",
       "      <td>data/epic_lc_ms_pos.csv</td>\n",
       "      <td>['942.9824_0.57', '467.3822_23.01', '393.3454_...</td>\n",
       "    </tr>\n",
       "    <tr>\n",
       "      <th>3396</th>\n",
       "      <td>0.902671</td>\n",
       "      <td>0.891134</td>\n",
       "      <td>0.090450</td>\n",
       "      <td>0.009045</td>\n",
       "      <td>NaN</td>\n",
       "      <td>bootstrap</td>\n",
       "      <td>1</td>\n",
       "      <td>0.958333</td>\n",
       "      <td>0.95</td>\n",
       "      <td>0.958333</td>\n",
       "      <td>0.916667</td>\n",
       "      <td>1.000000</td>\n",
       "      <td>0.956522</td>\n",
       "      <td>0.902671</td>\n",
       "      <td>RandomForestClassifier</td>\n",
       "      <td>validation_score</td>\n",
       "      <td>data/epic_lc_ms_pos.csv</td>\n",
       "      <td>['942.9824_0.57', '467.3822_23.01', '393.3454_...</td>\n",
       "    </tr>\n",
       "    <tr>\n",
       "      <th>3397</th>\n",
       "      <td>0.703526</td>\n",
       "      <td>0.891134</td>\n",
       "      <td>0.090450</td>\n",
       "      <td>0.009045</td>\n",
       "      <td>NaN</td>\n",
       "      <td>bootstrap</td>\n",
       "      <td>1</td>\n",
       "      <td>0.850000</td>\n",
       "      <td>0.85</td>\n",
       "      <td>0.850000</td>\n",
       "      <td>0.800000</td>\n",
       "      <td>0.888889</td>\n",
       "      <td>0.842105</td>\n",
       "      <td>0.703526</td>\n",
       "      <td>RandomForestClassifier</td>\n",
       "      <td>validation_score</td>\n",
       "      <td>data/epic_lc_ms_pos.csv</td>\n",
       "      <td>['942.9824_0.57', '467.3822_23.01', '393.3454_...</td>\n",
       "    </tr>\n",
       "    <tr>\n",
       "      <th>3398</th>\n",
       "      <td>0.904534</td>\n",
       "      <td>0.891134</td>\n",
       "      <td>0.090450</td>\n",
       "      <td>0.009045</td>\n",
       "      <td>NaN</td>\n",
       "      <td>bootstrap</td>\n",
       "      <td>1</td>\n",
       "      <td>0.950000</td>\n",
       "      <td>0.95</td>\n",
       "      <td>0.950000</td>\n",
       "      <td>1.000000</td>\n",
       "      <td>0.909091</td>\n",
       "      <td>0.952381</td>\n",
       "      <td>0.904534</td>\n",
       "      <td>RandomForestClassifier</td>\n",
       "      <td>validation_score</td>\n",
       "      <td>data/epic_lc_ms_pos.csv</td>\n",
       "      <td>['942.9824_0.57', '467.3822_23.01', '393.3454_...</td>\n",
       "    </tr>\n",
       "    <tr>\n",
       "      <th>3399</th>\n",
       "      <td>0.904534</td>\n",
       "      <td>0.891134</td>\n",
       "      <td>0.090450</td>\n",
       "      <td>0.009045</td>\n",
       "      <td>NaN</td>\n",
       "      <td>bootstrap</td>\n",
       "      <td>1</td>\n",
       "      <td>0.950000</td>\n",
       "      <td>0.95</td>\n",
       "      <td>0.950000</td>\n",
       "      <td>0.900000</td>\n",
       "      <td>1.000000</td>\n",
       "      <td>0.947368</td>\n",
       "      <td>0.904534</td>\n",
       "      <td>RandomForestClassifier</td>\n",
       "      <td>validation_score</td>\n",
       "      <td>data/epic_lc_ms_pos.csv</td>\n",
       "      <td>['942.9824_0.57', '467.3822_23.01', '393.3454_...</td>\n",
       "    </tr>\n",
       "  </tbody>\n",
       "</table>\n",
       "<p>3400 rows × 18 columns</p>\n",
       "</div>"
      ],
      "text/plain": [
       "        Scores  mean_test_score  std_test_score  sem_test_score params  \\\n",
       "0     0.902671         0.899512        0.086241        0.008624    NaN   \n",
       "1     0.892143         0.899512        0.086241        0.008624    NaN   \n",
       "2     0.811246         0.899512        0.086241        0.008624    NaN   \n",
       "3     0.791667         0.899512        0.086241        0.008624    NaN   \n",
       "4     0.902671         0.899512        0.086241        0.008624    NaN   \n",
       "...        ...              ...             ...             ...    ...   \n",
       "3395  1.000000         0.891134        0.090450        0.009045    NaN   \n",
       "3396  0.902671         0.891134        0.090450        0.009045    NaN   \n",
       "3397  0.703526         0.891134        0.090450        0.009045    NaN   \n",
       "3398  0.904534         0.891134        0.090450        0.009045    NaN   \n",
       "3399  0.904534         0.891134        0.090450        0.009045    NaN   \n",
       "\n",
       "          round  ranked   roc_auc  accuracy  balanced_accuracy    recall  \\\n",
       "0     bootstrap       1  0.944444      0.95           0.944444  1.000000   \n",
       "1     bootstrap       1  0.928571      0.95           0.928571  1.000000   \n",
       "2     bootstrap       1  0.923077      0.90           0.923077  0.846154   \n",
       "3     bootstrap       1  0.895833      0.90           0.895833  0.875000   \n",
       "4     bootstrap       1  0.958333      0.95           0.958333  1.000000   \n",
       "...         ...     ...       ...       ...                ...       ...   \n",
       "3395  bootstrap       1  1.000000      1.00           1.000000  1.000000   \n",
       "3396  bootstrap       1  0.958333      0.95           0.958333  0.916667   \n",
       "3397  bootstrap       1  0.850000      0.85           0.850000  0.800000   \n",
       "3398  bootstrap       1  0.950000      0.95           0.950000  1.000000   \n",
       "3399  bootstrap       1  0.950000      0.95           0.950000  0.900000   \n",
       "\n",
       "      precision        f1  matthews_corrcoef               Estimator  \\\n",
       "0      0.916667  0.956522           0.902671              ElasticNet   \n",
       "1      0.928571  0.962963           0.892143              ElasticNet   \n",
       "2      1.000000  0.916667           0.811246              ElasticNet   \n",
       "3      0.875000  0.875000           0.791667              ElasticNet   \n",
       "4      0.888889  0.941176           0.902671              ElasticNet   \n",
       "...         ...       ...                ...                     ...   \n",
       "3395   1.000000  1.000000           1.000000  RandomForestClassifier   \n",
       "3396   1.000000  0.956522           0.902671  RandomForestClassifier   \n",
       "3397   0.888889  0.842105           0.703526  RandomForestClassifier   \n",
       "3398   0.909091  0.952381           0.904534  RandomForestClassifier   \n",
       "3399   1.000000  0.947368           0.904534  RandomForestClassifier   \n",
       "\n",
       "       Training Method                  Dataset  \\\n",
       "0     validation_score  data/epic_lc_ms_pos.csv   \n",
       "1     validation_score  data/epic_lc_ms_pos.csv   \n",
       "2     validation_score  data/epic_lc_ms_pos.csv   \n",
       "3     validation_score  data/epic_lc_ms_pos.csv   \n",
       "4     validation_score  data/epic_lc_ms_pos.csv   \n",
       "...                ...                      ...   \n",
       "3395  validation_score  data/epic_lc_ms_pos.csv   \n",
       "3396  validation_score  data/epic_lc_ms_pos.csv   \n",
       "3397  validation_score  data/epic_lc_ms_pos.csv   \n",
       "3398  validation_score  data/epic_lc_ms_pos.csv   \n",
       "3399  validation_score  data/epic_lc_ms_pos.csv   \n",
       "\n",
       "                                               Features  \n",
       "0                                                   all  \n",
       "1                                                   all  \n",
       "2                                                   all  \n",
       "3                                                   all  \n",
       "4                                                   all  \n",
       "...                                                 ...  \n",
       "3395  ['942.9824_0.57', '467.3822_23.01', '393.3454_...  \n",
       "3396  ['942.9824_0.57', '467.3822_23.01', '393.3454_...  \n",
       "3397  ['942.9824_0.57', '467.3822_23.01', '393.3454_...  \n",
       "3398  ['942.9824_0.57', '467.3822_23.01', '393.3454_...  \n",
       "3399  ['942.9824_0.57', '467.3822_23.01', '393.3454_...  \n",
       "\n",
       "[3400 rows x 18 columns]"
      ]
     },
     "execution_count": 6,
     "metadata": {},
     "output_type": "execute_result"
    }
   ],
   "source": [
    "init_df = pd.read_csv('paper_evaluation.csv', index_col=0)\n",
    "merged_df = pd.concat([init_df, con_df], ignore_index=True)\n",
    "merged_df"
   ]
  },
  {
   "cell_type": "code",
   "execution_count": 7,
   "metadata": {},
   "outputs": [
    {
     "data": {
      "text/plain": [
       "0"
      ]
     },
     "execution_count": 7,
     "metadata": {},
     "output_type": "execute_result"
    }
   ],
   "source": [
    "# merged_df = merged_df.dropna(subset=['Estimator'])\n",
    "\n",
    "merged_df.Estimator.isnull().sum()"
   ]
  },
  {
   "cell_type": "code",
   "execution_count": 8,
   "metadata": {},
   "outputs": [],
   "source": [
    "merged_df.to_csv('paper_evaluation.csv')"
   ]
  },
  {
   "cell_type": "code",
   "execution_count": 4,
   "metadata": {},
   "outputs": [
    {
     "name": "stdout",
     "output_type": "stream",
     "text": [
      "Your Dataset contains NaN values. Some estimators does not work with NaN values.\n",
      "The median method will be used for the missing values manipulation.\n",
      "\n",
      "All the extra metrics are valid.\n"
     ]
    },
    {
     "name": "stdout",
     "output_type": "stream",
     "text": [
      "<IPython.core.display.HTML object>\n",
      "<IPython.core.display.HTML object>\n"
     ]
    },
    {
     "name": "stderr",
     "output_type": "stream",
     "text": [
      "Outer fold of 1 round:  0% |             | Elapsed Time: 0:00:00 ETA:  --:--:--\n",
      "Outer fold of 2 round:  0% |             | Elapsed Time: 0:00:00 ETA:  --:--:--\n",
      "Outer fold of 2 round: 33% |████▎        | Elapsed Time: 0:11:14 ETA:   0:22:28\n",
      "Outer fold of 1 round: 33% |████▎        | Elapsed Time: 0:29:56 ETA:   0:59:53\n",
      "Outer fold of 2 round: 66% |████████▋    | Elapsed Time: 0:37:29 ETA:   0:18:44\n",
      "Outer fold of 2 round:100% |█████████████| Elapsed Time: 0:37:30 Time:  0:37:30\n"
     ]
    },
    {
     "name": "stdout",
     "output_type": "stream",
     "text": [
      "Finished with 2 round after 0.89 hours.\n"
     ]
    },
    {
     "name": "stderr",
     "output_type": "stream",
     "text": [
      "Outer fold of 1 round: 66% |████████▋    | Elapsed Time: 0:41:44 ETA:   0:20:52\n",
      "Outer fold of 1 round:100% |█████████████| Elapsed Time: 0:41:45 Time:  0:41:45\n"
     ]
    },
    {
     "name": "stdout",
     "output_type": "stream",
     "text": [
      "Finished with 1 round after 0.90 hours.\n",
      "Finished with 2 estimators\n"
     ]
    },
    {
     "data": {
      "application/vnd.plotly.v1+json": {
       "config": {
        "plotlyServerURL": "https://plot.ly"
       },
       "data": [
        {
         "boxpoints": "all",
         "jitter": 0.3,
         "name": "CatBoostClassifier (Median: 0.77)",
         "pointpos": -1.8,
         "type": "box",
         "y": [
          0.75,
          0.75,
          0.8518518518518519,
          0.6428571428571429,
          0.7857142857142857,
          0.8148148148148148
         ]
        },
        {
         "line": {
          "color": "black",
          "dash": "dash"
         },
         "mode": "lines",
         "showlegend": false,
         "type": "scatter",
         "x": [
          "CatBoostClassifier (Median: 0.77)",
          "CatBoostClassifier (Median: 0.77)"
         ],
         "y": [
          0.6964285714285714,
          0.8333333333333333
         ]
        },
        {
         "boxpoints": "all",
         "jitter": 0.3,
         "name": "XGBClassifier (Median: 0.82)",
         "pointpos": -1.8,
         "type": "box",
         "y": [
          0.7142857142857143,
          0.8928571428571429,
          0.8888888888888888,
          0.7142857142857143,
          0.8214285714285714,
          0.8148148148148148
         ]
        },
        {
         "line": {
          "color": "black",
          "dash": "dash"
         },
         "mode": "lines",
         "showlegend": false,
         "type": "scatter",
         "x": [
          "XGBClassifier (Median: 0.82)",
          "XGBClassifier (Median: 0.82)"
         ],
         "y": [
          0.7142857142857143,
          0.8908730158730158
         ]
        }
       ],
       "layout": {
        "template": {
         "data": {
          "bar": [
           {
            "error_x": {
             "color": "#2a3f5f"
            },
            "error_y": {
             "color": "#2a3f5f"
            },
            "marker": {
             "line": {
              "color": "white",
              "width": 0.5
             },
             "pattern": {
              "fillmode": "overlay",
              "size": 10,
              "solidity": 0.2
             }
            },
            "type": "bar"
           }
          ],
          "barpolar": [
           {
            "marker": {
             "line": {
              "color": "white",
              "width": 0.5
             },
             "pattern": {
              "fillmode": "overlay",
              "size": 10,
              "solidity": 0.2
             }
            },
            "type": "barpolar"
           }
          ],
          "carpet": [
           {
            "aaxis": {
             "endlinecolor": "#2a3f5f",
             "gridcolor": "#C8D4E3",
             "linecolor": "#C8D4E3",
             "minorgridcolor": "#C8D4E3",
             "startlinecolor": "#2a3f5f"
            },
            "baxis": {
             "endlinecolor": "#2a3f5f",
             "gridcolor": "#C8D4E3",
             "linecolor": "#C8D4E3",
             "minorgridcolor": "#C8D4E3",
             "startlinecolor": "#2a3f5f"
            },
            "type": "carpet"
           }
          ],
          "choropleth": [
           {
            "colorbar": {
             "outlinewidth": 0,
             "ticks": ""
            },
            "type": "choropleth"
           }
          ],
          "contour": [
           {
            "colorbar": {
             "outlinewidth": 0,
             "ticks": ""
            },
            "colorscale": [
             [
              0,
              "#0d0887"
             ],
             [
              0.1111111111111111,
              "#46039f"
             ],
             [
              0.2222222222222222,
              "#7201a8"
             ],
             [
              0.3333333333333333,
              "#9c179e"
             ],
             [
              0.4444444444444444,
              "#bd3786"
             ],
             [
              0.5555555555555556,
              "#d8576b"
             ],
             [
              0.6666666666666666,
              "#ed7953"
             ],
             [
              0.7777777777777778,
              "#fb9f3a"
             ],
             [
              0.8888888888888888,
              "#fdca26"
             ],
             [
              1,
              "#f0f921"
             ]
            ],
            "type": "contour"
           }
          ],
          "contourcarpet": [
           {
            "colorbar": {
             "outlinewidth": 0,
             "ticks": ""
            },
            "type": "contourcarpet"
           }
          ],
          "heatmap": [
           {
            "colorbar": {
             "outlinewidth": 0,
             "ticks": ""
            },
            "colorscale": [
             [
              0,
              "#0d0887"
             ],
             [
              0.1111111111111111,
              "#46039f"
             ],
             [
              0.2222222222222222,
              "#7201a8"
             ],
             [
              0.3333333333333333,
              "#9c179e"
             ],
             [
              0.4444444444444444,
              "#bd3786"
             ],
             [
              0.5555555555555556,
              "#d8576b"
             ],
             [
              0.6666666666666666,
              "#ed7953"
             ],
             [
              0.7777777777777778,
              "#fb9f3a"
             ],
             [
              0.8888888888888888,
              "#fdca26"
             ],
             [
              1,
              "#f0f921"
             ]
            ],
            "type": "heatmap"
           }
          ],
          "heatmapgl": [
           {
            "colorbar": {
             "outlinewidth": 0,
             "ticks": ""
            },
            "colorscale": [
             [
              0,
              "#0d0887"
             ],
             [
              0.1111111111111111,
              "#46039f"
             ],
             [
              0.2222222222222222,
              "#7201a8"
             ],
             [
              0.3333333333333333,
              "#9c179e"
             ],
             [
              0.4444444444444444,
              "#bd3786"
             ],
             [
              0.5555555555555556,
              "#d8576b"
             ],
             [
              0.6666666666666666,
              "#ed7953"
             ],
             [
              0.7777777777777778,
              "#fb9f3a"
             ],
             [
              0.8888888888888888,
              "#fdca26"
             ],
             [
              1,
              "#f0f921"
             ]
            ],
            "type": "heatmapgl"
           }
          ],
          "histogram": [
           {
            "marker": {
             "pattern": {
              "fillmode": "overlay",
              "size": 10,
              "solidity": 0.2
             }
            },
            "type": "histogram"
           }
          ],
          "histogram2d": [
           {
            "colorbar": {
             "outlinewidth": 0,
             "ticks": ""
            },
            "colorscale": [
             [
              0,
              "#0d0887"
             ],
             [
              0.1111111111111111,
              "#46039f"
             ],
             [
              0.2222222222222222,
              "#7201a8"
             ],
             [
              0.3333333333333333,
              "#9c179e"
             ],
             [
              0.4444444444444444,
              "#bd3786"
             ],
             [
              0.5555555555555556,
              "#d8576b"
             ],
             [
              0.6666666666666666,
              "#ed7953"
             ],
             [
              0.7777777777777778,
              "#fb9f3a"
             ],
             [
              0.8888888888888888,
              "#fdca26"
             ],
             [
              1,
              "#f0f921"
             ]
            ],
            "type": "histogram2d"
           }
          ],
          "histogram2dcontour": [
           {
            "colorbar": {
             "outlinewidth": 0,
             "ticks": ""
            },
            "colorscale": [
             [
              0,
              "#0d0887"
             ],
             [
              0.1111111111111111,
              "#46039f"
             ],
             [
              0.2222222222222222,
              "#7201a8"
             ],
             [
              0.3333333333333333,
              "#9c179e"
             ],
             [
              0.4444444444444444,
              "#bd3786"
             ],
             [
              0.5555555555555556,
              "#d8576b"
             ],
             [
              0.6666666666666666,
              "#ed7953"
             ],
             [
              0.7777777777777778,
              "#fb9f3a"
             ],
             [
              0.8888888888888888,
              "#fdca26"
             ],
             [
              1,
              "#f0f921"
             ]
            ],
            "type": "histogram2dcontour"
           }
          ],
          "mesh3d": [
           {
            "colorbar": {
             "outlinewidth": 0,
             "ticks": ""
            },
            "type": "mesh3d"
           }
          ],
          "parcoords": [
           {
            "line": {
             "colorbar": {
              "outlinewidth": 0,
              "ticks": ""
             }
            },
            "type": "parcoords"
           }
          ],
          "pie": [
           {
            "automargin": true,
            "type": "pie"
           }
          ],
          "scatter": [
           {
            "fillpattern": {
             "fillmode": "overlay",
             "size": 10,
             "solidity": 0.2
            },
            "type": "scatter"
           }
          ],
          "scatter3d": [
           {
            "line": {
             "colorbar": {
              "outlinewidth": 0,
              "ticks": ""
             }
            },
            "marker": {
             "colorbar": {
              "outlinewidth": 0,
              "ticks": ""
             }
            },
            "type": "scatter3d"
           }
          ],
          "scattercarpet": [
           {
            "marker": {
             "colorbar": {
              "outlinewidth": 0,
              "ticks": ""
             }
            },
            "type": "scattercarpet"
           }
          ],
          "scattergeo": [
           {
            "marker": {
             "colorbar": {
              "outlinewidth": 0,
              "ticks": ""
             }
            },
            "type": "scattergeo"
           }
          ],
          "scattergl": [
           {
            "marker": {
             "colorbar": {
              "outlinewidth": 0,
              "ticks": ""
             }
            },
            "type": "scattergl"
           }
          ],
          "scattermapbox": [
           {
            "marker": {
             "colorbar": {
              "outlinewidth": 0,
              "ticks": ""
             }
            },
            "type": "scattermapbox"
           }
          ],
          "scatterpolar": [
           {
            "marker": {
             "colorbar": {
              "outlinewidth": 0,
              "ticks": ""
             }
            },
            "type": "scatterpolar"
           }
          ],
          "scatterpolargl": [
           {
            "marker": {
             "colorbar": {
              "outlinewidth": 0,
              "ticks": ""
             }
            },
            "type": "scatterpolargl"
           }
          ],
          "scatterternary": [
           {
            "marker": {
             "colorbar": {
              "outlinewidth": 0,
              "ticks": ""
             }
            },
            "type": "scatterternary"
           }
          ],
          "surface": [
           {
            "colorbar": {
             "outlinewidth": 0,
             "ticks": ""
            },
            "colorscale": [
             [
              0,
              "#0d0887"
             ],
             [
              0.1111111111111111,
              "#46039f"
             ],
             [
              0.2222222222222222,
              "#7201a8"
             ],
             [
              0.3333333333333333,
              "#9c179e"
             ],
             [
              0.4444444444444444,
              "#bd3786"
             ],
             [
              0.5555555555555556,
              "#d8576b"
             ],
             [
              0.6666666666666666,
              "#ed7953"
             ],
             [
              0.7777777777777778,
              "#fb9f3a"
             ],
             [
              0.8888888888888888,
              "#fdca26"
             ],
             [
              1,
              "#f0f921"
             ]
            ],
            "type": "surface"
           }
          ],
          "table": [
           {
            "cells": {
             "fill": {
              "color": "#EBF0F8"
             },
             "line": {
              "color": "white"
             }
            },
            "header": {
             "fill": {
              "color": "#C8D4E3"
             },
             "line": {
              "color": "white"
             }
            },
            "type": "table"
           }
          ]
         },
         "layout": {
          "annotationdefaults": {
           "arrowcolor": "#2a3f5f",
           "arrowhead": 0,
           "arrowwidth": 1
          },
          "autotypenumbers": "strict",
          "coloraxis": {
           "colorbar": {
            "outlinewidth": 0,
            "ticks": ""
           }
          },
          "colorscale": {
           "diverging": [
            [
             0,
             "#8e0152"
            ],
            [
             0.1,
             "#c51b7d"
            ],
            [
             0.2,
             "#de77ae"
            ],
            [
             0.3,
             "#f1b6da"
            ],
            [
             0.4,
             "#fde0ef"
            ],
            [
             0.5,
             "#f7f7f7"
            ],
            [
             0.6,
             "#e6f5d0"
            ],
            [
             0.7,
             "#b8e186"
            ],
            [
             0.8,
             "#7fbc41"
            ],
            [
             0.9,
             "#4d9221"
            ],
            [
             1,
             "#276419"
            ]
           ],
           "sequential": [
            [
             0,
             "#0d0887"
            ],
            [
             0.1111111111111111,
             "#46039f"
            ],
            [
             0.2222222222222222,
             "#7201a8"
            ],
            [
             0.3333333333333333,
             "#9c179e"
            ],
            [
             0.4444444444444444,
             "#bd3786"
            ],
            [
             0.5555555555555556,
             "#d8576b"
            ],
            [
             0.6666666666666666,
             "#ed7953"
            ],
            [
             0.7777777777777778,
             "#fb9f3a"
            ],
            [
             0.8888888888888888,
             "#fdca26"
            ],
            [
             1,
             "#f0f921"
            ]
           ],
           "sequentialminus": [
            [
             0,
             "#0d0887"
            ],
            [
             0.1111111111111111,
             "#46039f"
            ],
            [
             0.2222222222222222,
             "#7201a8"
            ],
            [
             0.3333333333333333,
             "#9c179e"
            ],
            [
             0.4444444444444444,
             "#bd3786"
            ],
            [
             0.5555555555555556,
             "#d8576b"
            ],
            [
             0.6666666666666666,
             "#ed7953"
            ],
            [
             0.7777777777777778,
             "#fb9f3a"
            ],
            [
             0.8888888888888888,
             "#fdca26"
            ],
            [
             1,
             "#f0f921"
            ]
           ]
          },
          "colorway": [
           "#636efa",
           "#EF553B",
           "#00cc96",
           "#ab63fa",
           "#FFA15A",
           "#19d3f3",
           "#FF6692",
           "#B6E880",
           "#FF97FF",
           "#FECB52"
          ],
          "font": {
           "color": "#2a3f5f"
          },
          "geo": {
           "bgcolor": "white",
           "lakecolor": "white",
           "landcolor": "white",
           "showlakes": true,
           "showland": true,
           "subunitcolor": "#C8D4E3"
          },
          "hoverlabel": {
           "align": "left"
          },
          "hovermode": "closest",
          "mapbox": {
           "style": "light"
          },
          "paper_bgcolor": "white",
          "plot_bgcolor": "white",
          "polar": {
           "angularaxis": {
            "gridcolor": "#EBF0F8",
            "linecolor": "#EBF0F8",
            "ticks": ""
           },
           "bgcolor": "white",
           "radialaxis": {
            "gridcolor": "#EBF0F8",
            "linecolor": "#EBF0F8",
            "ticks": ""
           }
          },
          "scene": {
           "xaxis": {
            "backgroundcolor": "white",
            "gridcolor": "#DFE8F3",
            "gridwidth": 2,
            "linecolor": "#EBF0F8",
            "showbackground": true,
            "ticks": "",
            "zerolinecolor": "#EBF0F8"
           },
           "yaxis": {
            "backgroundcolor": "white",
            "gridcolor": "#DFE8F3",
            "gridwidth": 2,
            "linecolor": "#EBF0F8",
            "showbackground": true,
            "ticks": "",
            "zerolinecolor": "#EBF0F8"
           },
           "zaxis": {
            "backgroundcolor": "white",
            "gridcolor": "#DFE8F3",
            "gridwidth": 2,
            "linecolor": "#EBF0F8",
            "showbackground": true,
            "ticks": "",
            "zerolinecolor": "#EBF0F8"
           }
          },
          "shapedefaults": {
           "line": {
            "color": "#2a3f5f"
           }
          },
          "ternary": {
           "aaxis": {
            "gridcolor": "#DFE8F3",
            "linecolor": "#A2B1C6",
            "ticks": ""
           },
           "baxis": {
            "gridcolor": "#DFE8F3",
            "linecolor": "#A2B1C6",
            "ticks": ""
           },
           "bgcolor": "white",
           "caxis": {
            "gridcolor": "#DFE8F3",
            "linecolor": "#A2B1C6",
            "ticks": ""
           }
          },
          "title": {
           "x": 0.05
          },
          "xaxis": {
           "automargin": true,
           "gridcolor": "#EBF0F8",
           "linecolor": "#EBF0F8",
           "ticks": "",
           "title": {
            "standoff": 15
           },
           "zerolinecolor": "#EBF0F8",
           "zerolinewidth": 2
          },
          "yaxis": {
           "automargin": true,
           "gridcolor": "#EBF0F8",
           "linecolor": "#EBF0F8",
           "ticks": "",
           "title": {
            "standoff": 15
           },
           "zerolinecolor": "#EBF0F8",
           "zerolinewidth": 2
          }
         }
        },
        "title": {
         "text": "Model Selection Results"
        },
        "xaxis": {
         "tickangle": -45,
         "title": {
          "text": "Classifier"
         }
        },
        "yaxis": {
         "title": {
          "text": "Scores matthews_corrcoef"
         }
        }
       }
      }
     },
     "metadata": {},
     "output_type": "display_data"
    },
    {
     "name": "stdout",
     "output_type": "stream",
     "text": [
      "Results saved to Results/gastric_cancer_one_sem_all_features_outerloops_results.csv\n"
     ]
    }
   ],
   "source": [
    "df = mlpipe.nested_cv(plot='box',n_trials_ncv=100,rounds=2,outer_splits=3,inner_splits=3,inner_selection='one_sem',search_on=['XGBClassifier','CatBoostClassifier'],parallel='freely_parallel',return_csv=True)\n",
    "# df = mlpipe.nested_cv(plot='box',n_trials_ncv=10,rounds=2,outer_splits=3,inner_splits=3,inner_selection='validation_score',search_on=['ElasticNet','LogisticRegression','XGBClassifier'],return_csv=True)"
   ]
  },
  {
   "cell_type": "code",
   "execution_count": 5,
   "metadata": {},
   "outputs": [
    {
     "name": "stdout",
     "output_type": "stream",
     "text": [
      "Your Dataset contains NaN values. Some estimators does not work with NaN values.\n",
      "The median method will be used for the missing values manipulation.\n",
      "\n",
      "All the extra metrics are valid.\n"
     ]
    },
    {
     "name": "stderr",
     "output_type": "stream",
     "text": [
      "Outer fold of 2 round:  0% |             | Elapsed Time: 0:00:00 ETA:  --:--:--\n",
      "Outer fold of 1 round:  0% |             | Elapsed Time: 0:00:00 ETA:  --:--:--\n",
      "Outer fold of 1 round: 33% |████▎        | Elapsed Time: 0:11:03 ETA:   0:22:07\n",
      "Outer fold of 2 round: 33% |████▎        | Elapsed Time: 0:21:51 ETA:   0:43:42\n",
      "Outer fold of 1 round: 66% |████████▋    | Elapsed Time: 0:21:49 ETA:   0:10:54\n",
      "Outer fold of 1 round:100% |█████████████| Elapsed Time: 0:21:50 Time:  0:21:50\n"
     ]
    },
    {
     "name": "stdout",
     "output_type": "stream",
     "text": [
      "Finished with 1 round after 0.60 hours.\n"
     ]
    },
    {
     "name": "stderr",
     "output_type": "stream",
     "text": [
      "Outer fold of 2 round: 66% |████████▋    | Elapsed Time: 0:35:36 ETA:   0:17:48\n",
      "Outer fold of 2 round:100% |█████████████| Elapsed Time: 0:35:37 Time:  0:35:37\n"
     ]
    },
    {
     "name": "stdout",
     "output_type": "stream",
     "text": [
      "Finished with 2 round after 0.77 hours.\n",
      "Finished with 2 estimators\n"
     ]
    },
    {
     "data": {
      "application/vnd.plotly.v1+json": {
       "config": {
        "plotlyServerURL": "https://plot.ly"
       },
       "data": [
        {
         "boxpoints": "all",
         "jitter": 0.3,
         "name": "CatBoostClassifier (Median: 0.67)",
         "pointpos": -1.8,
         "type": "box",
         "y": [
          0.4358974358974359,
          0.7216878364870323,
          0.6424188694912957,
          0.4241767985127718,
          0.8043996665398437,
          0.7032967032967034
         ]
        },
        {
         "line": {
          "color": "black",
          "dash": "dash"
         },
         "mode": "lines",
         "showlegend": false,
         "type": "scatter",
         "x": [
          "CatBoostClassifier (Median: 0.67)",
          "CatBoostClassifier (Median: 0.67)"
         ],
         "y": [
          0.43003711720510385,
          0.7630437515134381
         ]
        },
        {
         "boxpoints": "all",
         "jitter": 0.3,
         "name": "XGBClassifier (Median: 0.72)",
         "pointpos": -1.8,
         "type": "box",
         "y": [
          0.5692307692307692,
          0.7216878364870323,
          0.7790174143548602,
          0.35143174800275734,
          0.7142857142857143,
          0.7790174143548602
         ]
        },
        {
         "line": {
          "color": "black",
          "dash": "dash"
         },
         "mode": "lines",
         "showlegend": false,
         "type": "scatter",
         "x": [
          "XGBClassifier (Median: 0.72)",
          "XGBClassifier (Median: 0.72)"
         ],
         "y": [
          0.4603312586167633,
          0.7790174143548602
         ]
        }
       ],
       "layout": {
        "template": {
         "data": {
          "bar": [
           {
            "error_x": {
             "color": "#2a3f5f"
            },
            "error_y": {
             "color": "#2a3f5f"
            },
            "marker": {
             "line": {
              "color": "white",
              "width": 0.5
             },
             "pattern": {
              "fillmode": "overlay",
              "size": 10,
              "solidity": 0.2
             }
            },
            "type": "bar"
           }
          ],
          "barpolar": [
           {
            "marker": {
             "line": {
              "color": "white",
              "width": 0.5
             },
             "pattern": {
              "fillmode": "overlay",
              "size": 10,
              "solidity": 0.2
             }
            },
            "type": "barpolar"
           }
          ],
          "carpet": [
           {
            "aaxis": {
             "endlinecolor": "#2a3f5f",
             "gridcolor": "#C8D4E3",
             "linecolor": "#C8D4E3",
             "minorgridcolor": "#C8D4E3",
             "startlinecolor": "#2a3f5f"
            },
            "baxis": {
             "endlinecolor": "#2a3f5f",
             "gridcolor": "#C8D4E3",
             "linecolor": "#C8D4E3",
             "minorgridcolor": "#C8D4E3",
             "startlinecolor": "#2a3f5f"
            },
            "type": "carpet"
           }
          ],
          "choropleth": [
           {
            "colorbar": {
             "outlinewidth": 0,
             "ticks": ""
            },
            "type": "choropleth"
           }
          ],
          "contour": [
           {
            "colorbar": {
             "outlinewidth": 0,
             "ticks": ""
            },
            "colorscale": [
             [
              0,
              "#0d0887"
             ],
             [
              0.1111111111111111,
              "#46039f"
             ],
             [
              0.2222222222222222,
              "#7201a8"
             ],
             [
              0.3333333333333333,
              "#9c179e"
             ],
             [
              0.4444444444444444,
              "#bd3786"
             ],
             [
              0.5555555555555556,
              "#d8576b"
             ],
             [
              0.6666666666666666,
              "#ed7953"
             ],
             [
              0.7777777777777778,
              "#fb9f3a"
             ],
             [
              0.8888888888888888,
              "#fdca26"
             ],
             [
              1,
              "#f0f921"
             ]
            ],
            "type": "contour"
           }
          ],
          "contourcarpet": [
           {
            "colorbar": {
             "outlinewidth": 0,
             "ticks": ""
            },
            "type": "contourcarpet"
           }
          ],
          "heatmap": [
           {
            "colorbar": {
             "outlinewidth": 0,
             "ticks": ""
            },
            "colorscale": [
             [
              0,
              "#0d0887"
             ],
             [
              0.1111111111111111,
              "#46039f"
             ],
             [
              0.2222222222222222,
              "#7201a8"
             ],
             [
              0.3333333333333333,
              "#9c179e"
             ],
             [
              0.4444444444444444,
              "#bd3786"
             ],
             [
              0.5555555555555556,
              "#d8576b"
             ],
             [
              0.6666666666666666,
              "#ed7953"
             ],
             [
              0.7777777777777778,
              "#fb9f3a"
             ],
             [
              0.8888888888888888,
              "#fdca26"
             ],
             [
              1,
              "#f0f921"
             ]
            ],
            "type": "heatmap"
           }
          ],
          "heatmapgl": [
           {
            "colorbar": {
             "outlinewidth": 0,
             "ticks": ""
            },
            "colorscale": [
             [
              0,
              "#0d0887"
             ],
             [
              0.1111111111111111,
              "#46039f"
             ],
             [
              0.2222222222222222,
              "#7201a8"
             ],
             [
              0.3333333333333333,
              "#9c179e"
             ],
             [
              0.4444444444444444,
              "#bd3786"
             ],
             [
              0.5555555555555556,
              "#d8576b"
             ],
             [
              0.6666666666666666,
              "#ed7953"
             ],
             [
              0.7777777777777778,
              "#fb9f3a"
             ],
             [
              0.8888888888888888,
              "#fdca26"
             ],
             [
              1,
              "#f0f921"
             ]
            ],
            "type": "heatmapgl"
           }
          ],
          "histogram": [
           {
            "marker": {
             "pattern": {
              "fillmode": "overlay",
              "size": 10,
              "solidity": 0.2
             }
            },
            "type": "histogram"
           }
          ],
          "histogram2d": [
           {
            "colorbar": {
             "outlinewidth": 0,
             "ticks": ""
            },
            "colorscale": [
             [
              0,
              "#0d0887"
             ],
             [
              0.1111111111111111,
              "#46039f"
             ],
             [
              0.2222222222222222,
              "#7201a8"
             ],
             [
              0.3333333333333333,
              "#9c179e"
             ],
             [
              0.4444444444444444,
              "#bd3786"
             ],
             [
              0.5555555555555556,
              "#d8576b"
             ],
             [
              0.6666666666666666,
              "#ed7953"
             ],
             [
              0.7777777777777778,
              "#fb9f3a"
             ],
             [
              0.8888888888888888,
              "#fdca26"
             ],
             [
              1,
              "#f0f921"
             ]
            ],
            "type": "histogram2d"
           }
          ],
          "histogram2dcontour": [
           {
            "colorbar": {
             "outlinewidth": 0,
             "ticks": ""
            },
            "colorscale": [
             [
              0,
              "#0d0887"
             ],
             [
              0.1111111111111111,
              "#46039f"
             ],
             [
              0.2222222222222222,
              "#7201a8"
             ],
             [
              0.3333333333333333,
              "#9c179e"
             ],
             [
              0.4444444444444444,
              "#bd3786"
             ],
             [
              0.5555555555555556,
              "#d8576b"
             ],
             [
              0.6666666666666666,
              "#ed7953"
             ],
             [
              0.7777777777777778,
              "#fb9f3a"
             ],
             [
              0.8888888888888888,
              "#fdca26"
             ],
             [
              1,
              "#f0f921"
             ]
            ],
            "type": "histogram2dcontour"
           }
          ],
          "mesh3d": [
           {
            "colorbar": {
             "outlinewidth": 0,
             "ticks": ""
            },
            "type": "mesh3d"
           }
          ],
          "parcoords": [
           {
            "line": {
             "colorbar": {
              "outlinewidth": 0,
              "ticks": ""
             }
            },
            "type": "parcoords"
           }
          ],
          "pie": [
           {
            "automargin": true,
            "type": "pie"
           }
          ],
          "scatter": [
           {
            "fillpattern": {
             "fillmode": "overlay",
             "size": 10,
             "solidity": 0.2
            },
            "type": "scatter"
           }
          ],
          "scatter3d": [
           {
            "line": {
             "colorbar": {
              "outlinewidth": 0,
              "ticks": ""
             }
            },
            "marker": {
             "colorbar": {
              "outlinewidth": 0,
              "ticks": ""
             }
            },
            "type": "scatter3d"
           }
          ],
          "scattercarpet": [
           {
            "marker": {
             "colorbar": {
              "outlinewidth": 0,
              "ticks": ""
             }
            },
            "type": "scattercarpet"
           }
          ],
          "scattergeo": [
           {
            "marker": {
             "colorbar": {
              "outlinewidth": 0,
              "ticks": ""
             }
            },
            "type": "scattergeo"
           }
          ],
          "scattergl": [
           {
            "marker": {
             "colorbar": {
              "outlinewidth": 0,
              "ticks": ""
             }
            },
            "type": "scattergl"
           }
          ],
          "scattermapbox": [
           {
            "marker": {
             "colorbar": {
              "outlinewidth": 0,
              "ticks": ""
             }
            },
            "type": "scattermapbox"
           }
          ],
          "scatterpolar": [
           {
            "marker": {
             "colorbar": {
              "outlinewidth": 0,
              "ticks": ""
             }
            },
            "type": "scatterpolar"
           }
          ],
          "scatterpolargl": [
           {
            "marker": {
             "colorbar": {
              "outlinewidth": 0,
              "ticks": ""
             }
            },
            "type": "scatterpolargl"
           }
          ],
          "scatterternary": [
           {
            "marker": {
             "colorbar": {
              "outlinewidth": 0,
              "ticks": ""
             }
            },
            "type": "scatterternary"
           }
          ],
          "surface": [
           {
            "colorbar": {
             "outlinewidth": 0,
             "ticks": ""
            },
            "colorscale": [
             [
              0,
              "#0d0887"
             ],
             [
              0.1111111111111111,
              "#46039f"
             ],
             [
              0.2222222222222222,
              "#7201a8"
             ],
             [
              0.3333333333333333,
              "#9c179e"
             ],
             [
              0.4444444444444444,
              "#bd3786"
             ],
             [
              0.5555555555555556,
              "#d8576b"
             ],
             [
              0.6666666666666666,
              "#ed7953"
             ],
             [
              0.7777777777777778,
              "#fb9f3a"
             ],
             [
              0.8888888888888888,
              "#fdca26"
             ],
             [
              1,
              "#f0f921"
             ]
            ],
            "type": "surface"
           }
          ],
          "table": [
           {
            "cells": {
             "fill": {
              "color": "#EBF0F8"
             },
             "line": {
              "color": "white"
             }
            },
            "header": {
             "fill": {
              "color": "#C8D4E3"
             },
             "line": {
              "color": "white"
             }
            },
            "type": "table"
           }
          ]
         },
         "layout": {
          "annotationdefaults": {
           "arrowcolor": "#2a3f5f",
           "arrowhead": 0,
           "arrowwidth": 1
          },
          "autotypenumbers": "strict",
          "coloraxis": {
           "colorbar": {
            "outlinewidth": 0,
            "ticks": ""
           }
          },
          "colorscale": {
           "diverging": [
            [
             0,
             "#8e0152"
            ],
            [
             0.1,
             "#c51b7d"
            ],
            [
             0.2,
             "#de77ae"
            ],
            [
             0.3,
             "#f1b6da"
            ],
            [
             0.4,
             "#fde0ef"
            ],
            [
             0.5,
             "#f7f7f7"
            ],
            [
             0.6,
             "#e6f5d0"
            ],
            [
             0.7,
             "#b8e186"
            ],
            [
             0.8,
             "#7fbc41"
            ],
            [
             0.9,
             "#4d9221"
            ],
            [
             1,
             "#276419"
            ]
           ],
           "sequential": [
            [
             0,
             "#0d0887"
            ],
            [
             0.1111111111111111,
             "#46039f"
            ],
            [
             0.2222222222222222,
             "#7201a8"
            ],
            [
             0.3333333333333333,
             "#9c179e"
            ],
            [
             0.4444444444444444,
             "#bd3786"
            ],
            [
             0.5555555555555556,
             "#d8576b"
            ],
            [
             0.6666666666666666,
             "#ed7953"
            ],
            [
             0.7777777777777778,
             "#fb9f3a"
            ],
            [
             0.8888888888888888,
             "#fdca26"
            ],
            [
             1,
             "#f0f921"
            ]
           ],
           "sequentialminus": [
            [
             0,
             "#0d0887"
            ],
            [
             0.1111111111111111,
             "#46039f"
            ],
            [
             0.2222222222222222,
             "#7201a8"
            ],
            [
             0.3333333333333333,
             "#9c179e"
            ],
            [
             0.4444444444444444,
             "#bd3786"
            ],
            [
             0.5555555555555556,
             "#d8576b"
            ],
            [
             0.6666666666666666,
             "#ed7953"
            ],
            [
             0.7777777777777778,
             "#fb9f3a"
            ],
            [
             0.8888888888888888,
             "#fdca26"
            ],
            [
             1,
             "#f0f921"
            ]
           ]
          },
          "colorway": [
           "#636efa",
           "#EF553B",
           "#00cc96",
           "#ab63fa",
           "#FFA15A",
           "#19d3f3",
           "#FF6692",
           "#B6E880",
           "#FF97FF",
           "#FECB52"
          ],
          "font": {
           "color": "#2a3f5f"
          },
          "geo": {
           "bgcolor": "white",
           "lakecolor": "white",
           "landcolor": "white",
           "showlakes": true,
           "showland": true,
           "subunitcolor": "#C8D4E3"
          },
          "hoverlabel": {
           "align": "left"
          },
          "hovermode": "closest",
          "mapbox": {
           "style": "light"
          },
          "paper_bgcolor": "white",
          "plot_bgcolor": "white",
          "polar": {
           "angularaxis": {
            "gridcolor": "#EBF0F8",
            "linecolor": "#EBF0F8",
            "ticks": ""
           },
           "bgcolor": "white",
           "radialaxis": {
            "gridcolor": "#EBF0F8",
            "linecolor": "#EBF0F8",
            "ticks": ""
           }
          },
          "scene": {
           "xaxis": {
            "backgroundcolor": "white",
            "gridcolor": "#DFE8F3",
            "gridwidth": 2,
            "linecolor": "#EBF0F8",
            "showbackground": true,
            "ticks": "",
            "zerolinecolor": "#EBF0F8"
           },
           "yaxis": {
            "backgroundcolor": "white",
            "gridcolor": "#DFE8F3",
            "gridwidth": 2,
            "linecolor": "#EBF0F8",
            "showbackground": true,
            "ticks": "",
            "zerolinecolor": "#EBF0F8"
           },
           "zaxis": {
            "backgroundcolor": "white",
            "gridcolor": "#DFE8F3",
            "gridwidth": 2,
            "linecolor": "#EBF0F8",
            "showbackground": true,
            "ticks": "",
            "zerolinecolor": "#EBF0F8"
           }
          },
          "shapedefaults": {
           "line": {
            "color": "#2a3f5f"
           }
          },
          "ternary": {
           "aaxis": {
            "gridcolor": "#DFE8F3",
            "linecolor": "#A2B1C6",
            "ticks": ""
           },
           "baxis": {
            "gridcolor": "#DFE8F3",
            "linecolor": "#A2B1C6",
            "ticks": ""
           },
           "bgcolor": "white",
           "caxis": {
            "gridcolor": "#DFE8F3",
            "linecolor": "#A2B1C6",
            "ticks": ""
           }
          },
          "title": {
           "x": 0.05
          },
          "xaxis": {
           "automargin": true,
           "gridcolor": "#EBF0F8",
           "linecolor": "#EBF0F8",
           "ticks": "",
           "title": {
            "standoff": 15
           },
           "zerolinecolor": "#EBF0F8",
           "zerolinewidth": 2
          },
          "yaxis": {
           "automargin": true,
           "gridcolor": "#EBF0F8",
           "linecolor": "#EBF0F8",
           "ticks": "",
           "title": {
            "standoff": 15
           },
           "zerolinecolor": "#EBF0F8",
           "zerolinewidth": 2
          }
         }
        },
        "title": {
         "text": "Model Selection Results"
        },
        "xaxis": {
         "tickangle": -45,
         "title": {
          "text": "Classifier"
         }
        },
        "yaxis": {
         "title": {
          "text": "Scores matthews_corrcoef"
         }
        }
       }
      }
     },
     "metadata": {},
     "output_type": "display_data"
    },
    {
     "name": "stdout",
     "output_type": "stream",
     "text": [
      "Results saved to Results/gastric_cancer_validation_score_all_features_outerloops_results.csv\n"
     ]
    }
   ],
   "source": [
    "df = mlpipe.nested_cv(plot='box',n_trials_ncv=100,rounds=2,outer_splits=3,inner_splits=3,inner_selection='validation_score',search_on=['XGBClassifier','CatBoostClassifier'],parallel='freely_parallel',return_csv=True)\n"
   ]
  },
  {
   "cell_type": "code",
   "execution_count": 7,
   "metadata": {},
   "outputs": [
    {
     "name": "stdout",
     "output_type": "stream",
     "text": [
      "Your Dataset contains NaN values. Some estimators does not work with NaN values.\n",
      "The median method will be used for the missing values manipulation.\n",
      "\n",
      "All the extra metrics are valid.\n"
     ]
    },
    {
     "name": "stderr",
     "output_type": "stream",
     "text": [
      "Outer fold of 3 round:  0% |             | Elapsed Time: 0:00:00 ETA:  --:--:--\n",
      "Outer fold of 3 round: 33% |████▎        | Elapsed Time: 0:01:22 ETA:   0:02:44\n",
      "Outer fold of 1 round:  0% |             | Elapsed Time: 0:00:00 ETA:  --:--:--\n",
      "Outer fold of 2 round:  0% |             | Elapsed Time: 0:00:00 ETA:  --:--:--\n",
      "Outer fold of 3 round: 66% |████████▋    | Elapsed Time: 0:04:02 ETA:   0:02:01\n",
      "Outer fold of 3 round:100% |█████████████| Elapsed Time: 0:04:03 Time:  0:04:03\n"
     ]
    },
    {
     "name": "stdout",
     "output_type": "stream",
     "text": [
      "Finished with 3 round after 0.09 hours.\n"
     ]
    },
    {
     "name": "stderr",
     "output_type": "stream",
     "text": [
      "Outer fold of 1 round: 33% |████▎        | Elapsed Time: 0:02:11 ETA:   0:04:23\n",
      "Outer fold of 2 round: 33% |████▎        | Elapsed Time: 0:02:03 ETA:   0:04:06\n",
      "Outer fold of 1 round: 66% |████████▋    | Elapsed Time: 0:03:48 ETA:   0:01:54\n",
      "Outer fold of 1 round:100% |█████████████| Elapsed Time: 0:03:49 Time:  0:03:49\n"
     ]
    },
    {
     "name": "stdout",
     "output_type": "stream",
     "text": [
      "Finished with 1 round after 0.12 hours.\n"
     ]
    },
    {
     "name": "stderr",
     "output_type": "stream",
     "text": [
      "Outer fold of 2 round: 66% |████████▋    | Elapsed Time: 0:03:09 ETA:   0:01:34\n"
     ]
    },
    {
     "name": "stdout",
     "output_type": "stream",
     "text": [
      "Finished with 2 round after 0.13 hours.\n",
      "Finished with 1 estimators\n"
     ]
    },
    {
     "name": "stderr",
     "output_type": "stream",
     "text": [
      "Outer fold of 2 round:100% |█████████████| Elapsed Time: 0:03:10 Time:  0:03:10\n"
     ]
    },
    {
     "data": {
      "application/vnd.plotly.v1+json": {
       "config": {
        "plotlyServerURL": "https://plot.ly"
       },
       "data": [
        {
         "name": "Bad Samples for XGBClassifier",
         "text": [
          "0.00",
          "0.33",
          "0.33",
          "0.33",
          "0.33",
          "0.00",
          "0.33",
          "0.00",
          "0.00",
          "0.00",
          "0.00",
          "0.00",
          "0.00",
          "0.33",
          "0.00",
          "0.33"
         ],
         "textposition": "auto",
         "type": "bar",
         "x": [
          12,
          21,
          25,
          36,
          37,
          38,
          41,
          45,
          51,
          58,
          65,
          66,
          68,
          76,
          79,
          82
         ],
         "y": [
          0,
          0.3333333333333333,
          0.3333333333333333,
          0.3333333333333333,
          0.3333333333333333,
          0,
          0.3333333333333333,
          0,
          0,
          0,
          0,
          0,
          0,
          0.3333333333333333,
          0,
          0.3333333333333333
         ]
        }
       ],
       "layout": {
        "barmode": "group",
        "height": 500,
        "legend": {
         "title": {
          "text": "Classifiers"
         }
        },
        "template": {
         "data": {
          "bar": [
           {
            "error_x": {
             "color": "#2a3f5f"
            },
            "error_y": {
             "color": "#2a3f5f"
            },
            "marker": {
             "line": {
              "color": "#E5ECF6",
              "width": 0.5
             },
             "pattern": {
              "fillmode": "overlay",
              "size": 10,
              "solidity": 0.2
             }
            },
            "type": "bar"
           }
          ],
          "barpolar": [
           {
            "marker": {
             "line": {
              "color": "#E5ECF6",
              "width": 0.5
             },
             "pattern": {
              "fillmode": "overlay",
              "size": 10,
              "solidity": 0.2
             }
            },
            "type": "barpolar"
           }
          ],
          "carpet": [
           {
            "aaxis": {
             "endlinecolor": "#2a3f5f",
             "gridcolor": "white",
             "linecolor": "white",
             "minorgridcolor": "white",
             "startlinecolor": "#2a3f5f"
            },
            "baxis": {
             "endlinecolor": "#2a3f5f",
             "gridcolor": "white",
             "linecolor": "white",
             "minorgridcolor": "white",
             "startlinecolor": "#2a3f5f"
            },
            "type": "carpet"
           }
          ],
          "choropleth": [
           {
            "colorbar": {
             "outlinewidth": 0,
             "ticks": ""
            },
            "type": "choropleth"
           }
          ],
          "contour": [
           {
            "colorbar": {
             "outlinewidth": 0,
             "ticks": ""
            },
            "colorscale": [
             [
              0,
              "#0d0887"
             ],
             [
              0.1111111111111111,
              "#46039f"
             ],
             [
              0.2222222222222222,
              "#7201a8"
             ],
             [
              0.3333333333333333,
              "#9c179e"
             ],
             [
              0.4444444444444444,
              "#bd3786"
             ],
             [
              0.5555555555555556,
              "#d8576b"
             ],
             [
              0.6666666666666666,
              "#ed7953"
             ],
             [
              0.7777777777777778,
              "#fb9f3a"
             ],
             [
              0.8888888888888888,
              "#fdca26"
             ],
             [
              1,
              "#f0f921"
             ]
            ],
            "type": "contour"
           }
          ],
          "contourcarpet": [
           {
            "colorbar": {
             "outlinewidth": 0,
             "ticks": ""
            },
            "type": "contourcarpet"
           }
          ],
          "heatmap": [
           {
            "colorbar": {
             "outlinewidth": 0,
             "ticks": ""
            },
            "colorscale": [
             [
              0,
              "#0d0887"
             ],
             [
              0.1111111111111111,
              "#46039f"
             ],
             [
              0.2222222222222222,
              "#7201a8"
             ],
             [
              0.3333333333333333,
              "#9c179e"
             ],
             [
              0.4444444444444444,
              "#bd3786"
             ],
             [
              0.5555555555555556,
              "#d8576b"
             ],
             [
              0.6666666666666666,
              "#ed7953"
             ],
             [
              0.7777777777777778,
              "#fb9f3a"
             ],
             [
              0.8888888888888888,
              "#fdca26"
             ],
             [
              1,
              "#f0f921"
             ]
            ],
            "type": "heatmap"
           }
          ],
          "heatmapgl": [
           {
            "colorbar": {
             "outlinewidth": 0,
             "ticks": ""
            },
            "colorscale": [
             [
              0,
              "#0d0887"
             ],
             [
              0.1111111111111111,
              "#46039f"
             ],
             [
              0.2222222222222222,
              "#7201a8"
             ],
             [
              0.3333333333333333,
              "#9c179e"
             ],
             [
              0.4444444444444444,
              "#bd3786"
             ],
             [
              0.5555555555555556,
              "#d8576b"
             ],
             [
              0.6666666666666666,
              "#ed7953"
             ],
             [
              0.7777777777777778,
              "#fb9f3a"
             ],
             [
              0.8888888888888888,
              "#fdca26"
             ],
             [
              1,
              "#f0f921"
             ]
            ],
            "type": "heatmapgl"
           }
          ],
          "histogram": [
           {
            "marker": {
             "pattern": {
              "fillmode": "overlay",
              "size": 10,
              "solidity": 0.2
             }
            },
            "type": "histogram"
           }
          ],
          "histogram2d": [
           {
            "colorbar": {
             "outlinewidth": 0,
             "ticks": ""
            },
            "colorscale": [
             [
              0,
              "#0d0887"
             ],
             [
              0.1111111111111111,
              "#46039f"
             ],
             [
              0.2222222222222222,
              "#7201a8"
             ],
             [
              0.3333333333333333,
              "#9c179e"
             ],
             [
              0.4444444444444444,
              "#bd3786"
             ],
             [
              0.5555555555555556,
              "#d8576b"
             ],
             [
              0.6666666666666666,
              "#ed7953"
             ],
             [
              0.7777777777777778,
              "#fb9f3a"
             ],
             [
              0.8888888888888888,
              "#fdca26"
             ],
             [
              1,
              "#f0f921"
             ]
            ],
            "type": "histogram2d"
           }
          ],
          "histogram2dcontour": [
           {
            "colorbar": {
             "outlinewidth": 0,
             "ticks": ""
            },
            "colorscale": [
             [
              0,
              "#0d0887"
             ],
             [
              0.1111111111111111,
              "#46039f"
             ],
             [
              0.2222222222222222,
              "#7201a8"
             ],
             [
              0.3333333333333333,
              "#9c179e"
             ],
             [
              0.4444444444444444,
              "#bd3786"
             ],
             [
              0.5555555555555556,
              "#d8576b"
             ],
             [
              0.6666666666666666,
              "#ed7953"
             ],
             [
              0.7777777777777778,
              "#fb9f3a"
             ],
             [
              0.8888888888888888,
              "#fdca26"
             ],
             [
              1,
              "#f0f921"
             ]
            ],
            "type": "histogram2dcontour"
           }
          ],
          "mesh3d": [
           {
            "colorbar": {
             "outlinewidth": 0,
             "ticks": ""
            },
            "type": "mesh3d"
           }
          ],
          "parcoords": [
           {
            "line": {
             "colorbar": {
              "outlinewidth": 0,
              "ticks": ""
             }
            },
            "type": "parcoords"
           }
          ],
          "pie": [
           {
            "automargin": true,
            "type": "pie"
           }
          ],
          "scatter": [
           {
            "fillpattern": {
             "fillmode": "overlay",
             "size": 10,
             "solidity": 0.2
            },
            "type": "scatter"
           }
          ],
          "scatter3d": [
           {
            "line": {
             "colorbar": {
              "outlinewidth": 0,
              "ticks": ""
             }
            },
            "marker": {
             "colorbar": {
              "outlinewidth": 0,
              "ticks": ""
             }
            },
            "type": "scatter3d"
           }
          ],
          "scattercarpet": [
           {
            "marker": {
             "colorbar": {
              "outlinewidth": 0,
              "ticks": ""
             }
            },
            "type": "scattercarpet"
           }
          ],
          "scattergeo": [
           {
            "marker": {
             "colorbar": {
              "outlinewidth": 0,
              "ticks": ""
             }
            },
            "type": "scattergeo"
           }
          ],
          "scattergl": [
           {
            "marker": {
             "colorbar": {
              "outlinewidth": 0,
              "ticks": ""
             }
            },
            "type": "scattergl"
           }
          ],
          "scattermapbox": [
           {
            "marker": {
             "colorbar": {
              "outlinewidth": 0,
              "ticks": ""
             }
            },
            "type": "scattermapbox"
           }
          ],
          "scatterpolar": [
           {
            "marker": {
             "colorbar": {
              "outlinewidth": 0,
              "ticks": ""
             }
            },
            "type": "scatterpolar"
           }
          ],
          "scatterpolargl": [
           {
            "marker": {
             "colorbar": {
              "outlinewidth": 0,
              "ticks": ""
             }
            },
            "type": "scatterpolargl"
           }
          ],
          "scatterternary": [
           {
            "marker": {
             "colorbar": {
              "outlinewidth": 0,
              "ticks": ""
             }
            },
            "type": "scatterternary"
           }
          ],
          "surface": [
           {
            "colorbar": {
             "outlinewidth": 0,
             "ticks": ""
            },
            "colorscale": [
             [
              0,
              "#0d0887"
             ],
             [
              0.1111111111111111,
              "#46039f"
             ],
             [
              0.2222222222222222,
              "#7201a8"
             ],
             [
              0.3333333333333333,
              "#9c179e"
             ],
             [
              0.4444444444444444,
              "#bd3786"
             ],
             [
              0.5555555555555556,
              "#d8576b"
             ],
             [
              0.6666666666666666,
              "#ed7953"
             ],
             [
              0.7777777777777778,
              "#fb9f3a"
             ],
             [
              0.8888888888888888,
              "#fdca26"
             ],
             [
              1,
              "#f0f921"
             ]
            ],
            "type": "surface"
           }
          ],
          "table": [
           {
            "cells": {
             "fill": {
              "color": "#EBF0F8"
             },
             "line": {
              "color": "white"
             }
            },
            "header": {
             "fill": {
              "color": "#C8D4E3"
             },
             "line": {
              "color": "white"
             }
            },
            "type": "table"
           }
          ]
         },
         "layout": {
          "annotationdefaults": {
           "arrowcolor": "#2a3f5f",
           "arrowhead": 0,
           "arrowwidth": 1
          },
          "autotypenumbers": "strict",
          "coloraxis": {
           "colorbar": {
            "outlinewidth": 0,
            "ticks": ""
           }
          },
          "colorscale": {
           "diverging": [
            [
             0,
             "#8e0152"
            ],
            [
             0.1,
             "#c51b7d"
            ],
            [
             0.2,
             "#de77ae"
            ],
            [
             0.3,
             "#f1b6da"
            ],
            [
             0.4,
             "#fde0ef"
            ],
            [
             0.5,
             "#f7f7f7"
            ],
            [
             0.6,
             "#e6f5d0"
            ],
            [
             0.7,
             "#b8e186"
            ],
            [
             0.8,
             "#7fbc41"
            ],
            [
             0.9,
             "#4d9221"
            ],
            [
             1,
             "#276419"
            ]
           ],
           "sequential": [
            [
             0,
             "#0d0887"
            ],
            [
             0.1111111111111111,
             "#46039f"
            ],
            [
             0.2222222222222222,
             "#7201a8"
            ],
            [
             0.3333333333333333,
             "#9c179e"
            ],
            [
             0.4444444444444444,
             "#bd3786"
            ],
            [
             0.5555555555555556,
             "#d8576b"
            ],
            [
             0.6666666666666666,
             "#ed7953"
            ],
            [
             0.7777777777777778,
             "#fb9f3a"
            ],
            [
             0.8888888888888888,
             "#fdca26"
            ],
            [
             1,
             "#f0f921"
            ]
           ],
           "sequentialminus": [
            [
             0,
             "#0d0887"
            ],
            [
             0.1111111111111111,
             "#46039f"
            ],
            [
             0.2222222222222222,
             "#7201a8"
            ],
            [
             0.3333333333333333,
             "#9c179e"
            ],
            [
             0.4444444444444444,
             "#bd3786"
            ],
            [
             0.5555555555555556,
             "#d8576b"
            ],
            [
             0.6666666666666666,
             "#ed7953"
            ],
            [
             0.7777777777777778,
             "#fb9f3a"
            ],
            [
             0.8888888888888888,
             "#fdca26"
            ],
            [
             1,
             "#f0f921"
            ]
           ]
          },
          "colorway": [
           "#636efa",
           "#EF553B",
           "#00cc96",
           "#ab63fa",
           "#FFA15A",
           "#19d3f3",
           "#FF6692",
           "#B6E880",
           "#FF97FF",
           "#FECB52"
          ],
          "font": {
           "color": "#2a3f5f"
          },
          "geo": {
           "bgcolor": "white",
           "lakecolor": "white",
           "landcolor": "#E5ECF6",
           "showlakes": true,
           "showland": true,
           "subunitcolor": "white"
          },
          "hoverlabel": {
           "align": "left"
          },
          "hovermode": "closest",
          "mapbox": {
           "style": "light"
          },
          "paper_bgcolor": "white",
          "plot_bgcolor": "#E5ECF6",
          "polar": {
           "angularaxis": {
            "gridcolor": "white",
            "linecolor": "white",
            "ticks": ""
           },
           "bgcolor": "#E5ECF6",
           "radialaxis": {
            "gridcolor": "white",
            "linecolor": "white",
            "ticks": ""
           }
          },
          "scene": {
           "xaxis": {
            "backgroundcolor": "#E5ECF6",
            "gridcolor": "white",
            "gridwidth": 2,
            "linecolor": "white",
            "showbackground": true,
            "ticks": "",
            "zerolinecolor": "white"
           },
           "yaxis": {
            "backgroundcolor": "#E5ECF6",
            "gridcolor": "white",
            "gridwidth": 2,
            "linecolor": "white",
            "showbackground": true,
            "ticks": "",
            "zerolinecolor": "white"
           },
           "zaxis": {
            "backgroundcolor": "#E5ECF6",
            "gridcolor": "white",
            "gridwidth": 2,
            "linecolor": "white",
            "showbackground": true,
            "ticks": "",
            "zerolinecolor": "white"
           }
          },
          "shapedefaults": {
           "line": {
            "color": "#2a3f5f"
           }
          },
          "ternary": {
           "aaxis": {
            "gridcolor": "white",
            "linecolor": "white",
            "ticks": ""
           },
           "baxis": {
            "gridcolor": "white",
            "linecolor": "white",
            "ticks": ""
           },
           "bgcolor": "#E5ECF6",
           "caxis": {
            "gridcolor": "white",
            "linecolor": "white",
            "ticks": ""
           }
          },
          "title": {
           "x": 0.05
          },
          "xaxis": {
           "automargin": true,
           "gridcolor": "white",
           "linecolor": "white",
           "ticks": "",
           "title": {
            "standoff": 15
           },
           "zerolinecolor": "white",
           "zerolinewidth": 2
          },
          "yaxis": {
           "automargin": true,
           "gridcolor": "white",
           "linecolor": "white",
           "ticks": "",
           "title": {
            "standoff": 15
           },
           "zerolinecolor": "white",
           "zerolinewidth": 2
          }
         }
        },
        "title": {
         "text": "Bad Samples Classification Rates for Each Classifier"
        },
        "width": 1245,
        "xaxis": {
         "title": {
          "text": "Sample Index"
         }
        },
        "yaxis": {
         "title": {
          "text": "Classification Rate"
         }
        }
       }
      }
     },
     "metadata": {},
     "output_type": "display_data"
    },
    {
     "data": {
      "application/vnd.plotly.v1+json": {
       "config": {
        "plotlyServerURL": "https://plot.ly"
       },
       "data": [
        {
         "boxpoints": "all",
         "jitter": 0.3,
         "name": "XGBClassifier (Median: 0.81)",
         "pointpos": -1.8,
         "type": "box",
         "y": [
          0.7142857142857143,
          0.8214285714285714,
          0.8148148148148148,
          0.6785714285714286,
          0.8214285714285714,
          0.8888888888888888,
          0.8214285714285714,
          0.7142857142857143,
          0.8148148148148148
         ]
        },
        {
         "line": {
          "color": "black",
          "dash": "dash"
         },
         "mode": "lines",
         "showlegend": false,
         "type": "scatter",
         "x": [
          "XGBClassifier (Median: 0.81)",
          "XGBClassifier (Median: 0.81)"
         ],
         "y": [
          0.7142857142857143,
          0.8214285714285714
         ]
        }
       ],
       "layout": {
        "template": {
         "data": {
          "bar": [
           {
            "error_x": {
             "color": "#2a3f5f"
            },
            "error_y": {
             "color": "#2a3f5f"
            },
            "marker": {
             "line": {
              "color": "white",
              "width": 0.5
             },
             "pattern": {
              "fillmode": "overlay",
              "size": 10,
              "solidity": 0.2
             }
            },
            "type": "bar"
           }
          ],
          "barpolar": [
           {
            "marker": {
             "line": {
              "color": "white",
              "width": 0.5
             },
             "pattern": {
              "fillmode": "overlay",
              "size": 10,
              "solidity": 0.2
             }
            },
            "type": "barpolar"
           }
          ],
          "carpet": [
           {
            "aaxis": {
             "endlinecolor": "#2a3f5f",
             "gridcolor": "#C8D4E3",
             "linecolor": "#C8D4E3",
             "minorgridcolor": "#C8D4E3",
             "startlinecolor": "#2a3f5f"
            },
            "baxis": {
             "endlinecolor": "#2a3f5f",
             "gridcolor": "#C8D4E3",
             "linecolor": "#C8D4E3",
             "minorgridcolor": "#C8D4E3",
             "startlinecolor": "#2a3f5f"
            },
            "type": "carpet"
           }
          ],
          "choropleth": [
           {
            "colorbar": {
             "outlinewidth": 0,
             "ticks": ""
            },
            "type": "choropleth"
           }
          ],
          "contour": [
           {
            "colorbar": {
             "outlinewidth": 0,
             "ticks": ""
            },
            "colorscale": [
             [
              0,
              "#0d0887"
             ],
             [
              0.1111111111111111,
              "#46039f"
             ],
             [
              0.2222222222222222,
              "#7201a8"
             ],
             [
              0.3333333333333333,
              "#9c179e"
             ],
             [
              0.4444444444444444,
              "#bd3786"
             ],
             [
              0.5555555555555556,
              "#d8576b"
             ],
             [
              0.6666666666666666,
              "#ed7953"
             ],
             [
              0.7777777777777778,
              "#fb9f3a"
             ],
             [
              0.8888888888888888,
              "#fdca26"
             ],
             [
              1,
              "#f0f921"
             ]
            ],
            "type": "contour"
           }
          ],
          "contourcarpet": [
           {
            "colorbar": {
             "outlinewidth": 0,
             "ticks": ""
            },
            "type": "contourcarpet"
           }
          ],
          "heatmap": [
           {
            "colorbar": {
             "outlinewidth": 0,
             "ticks": ""
            },
            "colorscale": [
             [
              0,
              "#0d0887"
             ],
             [
              0.1111111111111111,
              "#46039f"
             ],
             [
              0.2222222222222222,
              "#7201a8"
             ],
             [
              0.3333333333333333,
              "#9c179e"
             ],
             [
              0.4444444444444444,
              "#bd3786"
             ],
             [
              0.5555555555555556,
              "#d8576b"
             ],
             [
              0.6666666666666666,
              "#ed7953"
             ],
             [
              0.7777777777777778,
              "#fb9f3a"
             ],
             [
              0.8888888888888888,
              "#fdca26"
             ],
             [
              1,
              "#f0f921"
             ]
            ],
            "type": "heatmap"
           }
          ],
          "heatmapgl": [
           {
            "colorbar": {
             "outlinewidth": 0,
             "ticks": ""
            },
            "colorscale": [
             [
              0,
              "#0d0887"
             ],
             [
              0.1111111111111111,
              "#46039f"
             ],
             [
              0.2222222222222222,
              "#7201a8"
             ],
             [
              0.3333333333333333,
              "#9c179e"
             ],
             [
              0.4444444444444444,
              "#bd3786"
             ],
             [
              0.5555555555555556,
              "#d8576b"
             ],
             [
              0.6666666666666666,
              "#ed7953"
             ],
             [
              0.7777777777777778,
              "#fb9f3a"
             ],
             [
              0.8888888888888888,
              "#fdca26"
             ],
             [
              1,
              "#f0f921"
             ]
            ],
            "type": "heatmapgl"
           }
          ],
          "histogram": [
           {
            "marker": {
             "pattern": {
              "fillmode": "overlay",
              "size": 10,
              "solidity": 0.2
             }
            },
            "type": "histogram"
           }
          ],
          "histogram2d": [
           {
            "colorbar": {
             "outlinewidth": 0,
             "ticks": ""
            },
            "colorscale": [
             [
              0,
              "#0d0887"
             ],
             [
              0.1111111111111111,
              "#46039f"
             ],
             [
              0.2222222222222222,
              "#7201a8"
             ],
             [
              0.3333333333333333,
              "#9c179e"
             ],
             [
              0.4444444444444444,
              "#bd3786"
             ],
             [
              0.5555555555555556,
              "#d8576b"
             ],
             [
              0.6666666666666666,
              "#ed7953"
             ],
             [
              0.7777777777777778,
              "#fb9f3a"
             ],
             [
              0.8888888888888888,
              "#fdca26"
             ],
             [
              1,
              "#f0f921"
             ]
            ],
            "type": "histogram2d"
           }
          ],
          "histogram2dcontour": [
           {
            "colorbar": {
             "outlinewidth": 0,
             "ticks": ""
            },
            "colorscale": [
             [
              0,
              "#0d0887"
             ],
             [
              0.1111111111111111,
              "#46039f"
             ],
             [
              0.2222222222222222,
              "#7201a8"
             ],
             [
              0.3333333333333333,
              "#9c179e"
             ],
             [
              0.4444444444444444,
              "#bd3786"
             ],
             [
              0.5555555555555556,
              "#d8576b"
             ],
             [
              0.6666666666666666,
              "#ed7953"
             ],
             [
              0.7777777777777778,
              "#fb9f3a"
             ],
             [
              0.8888888888888888,
              "#fdca26"
             ],
             [
              1,
              "#f0f921"
             ]
            ],
            "type": "histogram2dcontour"
           }
          ],
          "mesh3d": [
           {
            "colorbar": {
             "outlinewidth": 0,
             "ticks": ""
            },
            "type": "mesh3d"
           }
          ],
          "parcoords": [
           {
            "line": {
             "colorbar": {
              "outlinewidth": 0,
              "ticks": ""
             }
            },
            "type": "parcoords"
           }
          ],
          "pie": [
           {
            "automargin": true,
            "type": "pie"
           }
          ],
          "scatter": [
           {
            "fillpattern": {
             "fillmode": "overlay",
             "size": 10,
             "solidity": 0.2
            },
            "type": "scatter"
           }
          ],
          "scatter3d": [
           {
            "line": {
             "colorbar": {
              "outlinewidth": 0,
              "ticks": ""
             }
            },
            "marker": {
             "colorbar": {
              "outlinewidth": 0,
              "ticks": ""
             }
            },
            "type": "scatter3d"
           }
          ],
          "scattercarpet": [
           {
            "marker": {
             "colorbar": {
              "outlinewidth": 0,
              "ticks": ""
             }
            },
            "type": "scattercarpet"
           }
          ],
          "scattergeo": [
           {
            "marker": {
             "colorbar": {
              "outlinewidth": 0,
              "ticks": ""
             }
            },
            "type": "scattergeo"
           }
          ],
          "scattergl": [
           {
            "marker": {
             "colorbar": {
              "outlinewidth": 0,
              "ticks": ""
             }
            },
            "type": "scattergl"
           }
          ],
          "scattermapbox": [
           {
            "marker": {
             "colorbar": {
              "outlinewidth": 0,
              "ticks": ""
             }
            },
            "type": "scattermapbox"
           }
          ],
          "scatterpolar": [
           {
            "marker": {
             "colorbar": {
              "outlinewidth": 0,
              "ticks": ""
             }
            },
            "type": "scatterpolar"
           }
          ],
          "scatterpolargl": [
           {
            "marker": {
             "colorbar": {
              "outlinewidth": 0,
              "ticks": ""
             }
            },
            "type": "scatterpolargl"
           }
          ],
          "scatterternary": [
           {
            "marker": {
             "colorbar": {
              "outlinewidth": 0,
              "ticks": ""
             }
            },
            "type": "scatterternary"
           }
          ],
          "surface": [
           {
            "colorbar": {
             "outlinewidth": 0,
             "ticks": ""
            },
            "colorscale": [
             [
              0,
              "#0d0887"
             ],
             [
              0.1111111111111111,
              "#46039f"
             ],
             [
              0.2222222222222222,
              "#7201a8"
             ],
             [
              0.3333333333333333,
              "#9c179e"
             ],
             [
              0.4444444444444444,
              "#bd3786"
             ],
             [
              0.5555555555555556,
              "#d8576b"
             ],
             [
              0.6666666666666666,
              "#ed7953"
             ],
             [
              0.7777777777777778,
              "#fb9f3a"
             ],
             [
              0.8888888888888888,
              "#fdca26"
             ],
             [
              1,
              "#f0f921"
             ]
            ],
            "type": "surface"
           }
          ],
          "table": [
           {
            "cells": {
             "fill": {
              "color": "#EBF0F8"
             },
             "line": {
              "color": "white"
             }
            },
            "header": {
             "fill": {
              "color": "#C8D4E3"
             },
             "line": {
              "color": "white"
             }
            },
            "type": "table"
           }
          ]
         },
         "layout": {
          "annotationdefaults": {
           "arrowcolor": "#2a3f5f",
           "arrowhead": 0,
           "arrowwidth": 1
          },
          "autotypenumbers": "strict",
          "coloraxis": {
           "colorbar": {
            "outlinewidth": 0,
            "ticks": ""
           }
          },
          "colorscale": {
           "diverging": [
            [
             0,
             "#8e0152"
            ],
            [
             0.1,
             "#c51b7d"
            ],
            [
             0.2,
             "#de77ae"
            ],
            [
             0.3,
             "#f1b6da"
            ],
            [
             0.4,
             "#fde0ef"
            ],
            [
             0.5,
             "#f7f7f7"
            ],
            [
             0.6,
             "#e6f5d0"
            ],
            [
             0.7,
             "#b8e186"
            ],
            [
             0.8,
             "#7fbc41"
            ],
            [
             0.9,
             "#4d9221"
            ],
            [
             1,
             "#276419"
            ]
           ],
           "sequential": [
            [
             0,
             "#0d0887"
            ],
            [
             0.1111111111111111,
             "#46039f"
            ],
            [
             0.2222222222222222,
             "#7201a8"
            ],
            [
             0.3333333333333333,
             "#9c179e"
            ],
            [
             0.4444444444444444,
             "#bd3786"
            ],
            [
             0.5555555555555556,
             "#d8576b"
            ],
            [
             0.6666666666666666,
             "#ed7953"
            ],
            [
             0.7777777777777778,
             "#fb9f3a"
            ],
            [
             0.8888888888888888,
             "#fdca26"
            ],
            [
             1,
             "#f0f921"
            ]
           ],
           "sequentialminus": [
            [
             0,
             "#0d0887"
            ],
            [
             0.1111111111111111,
             "#46039f"
            ],
            [
             0.2222222222222222,
             "#7201a8"
            ],
            [
             0.3333333333333333,
             "#9c179e"
            ],
            [
             0.4444444444444444,
             "#bd3786"
            ],
            [
             0.5555555555555556,
             "#d8576b"
            ],
            [
             0.6666666666666666,
             "#ed7953"
            ],
            [
             0.7777777777777778,
             "#fb9f3a"
            ],
            [
             0.8888888888888888,
             "#fdca26"
            ],
            [
             1,
             "#f0f921"
            ]
           ]
          },
          "colorway": [
           "#636efa",
           "#EF553B",
           "#00cc96",
           "#ab63fa",
           "#FFA15A",
           "#19d3f3",
           "#FF6692",
           "#B6E880",
           "#FF97FF",
           "#FECB52"
          ],
          "font": {
           "color": "#2a3f5f"
          },
          "geo": {
           "bgcolor": "white",
           "lakecolor": "white",
           "landcolor": "white",
           "showlakes": true,
           "showland": true,
           "subunitcolor": "#C8D4E3"
          },
          "hoverlabel": {
           "align": "left"
          },
          "hovermode": "closest",
          "mapbox": {
           "style": "light"
          },
          "paper_bgcolor": "white",
          "plot_bgcolor": "white",
          "polar": {
           "angularaxis": {
            "gridcolor": "#EBF0F8",
            "linecolor": "#EBF0F8",
            "ticks": ""
           },
           "bgcolor": "white",
           "radialaxis": {
            "gridcolor": "#EBF0F8",
            "linecolor": "#EBF0F8",
            "ticks": ""
           }
          },
          "scene": {
           "xaxis": {
            "backgroundcolor": "white",
            "gridcolor": "#DFE8F3",
            "gridwidth": 2,
            "linecolor": "#EBF0F8",
            "showbackground": true,
            "ticks": "",
            "zerolinecolor": "#EBF0F8"
           },
           "yaxis": {
            "backgroundcolor": "white",
            "gridcolor": "#DFE8F3",
            "gridwidth": 2,
            "linecolor": "#EBF0F8",
            "showbackground": true,
            "ticks": "",
            "zerolinecolor": "#EBF0F8"
           },
           "zaxis": {
            "backgroundcolor": "white",
            "gridcolor": "#DFE8F3",
            "gridwidth": 2,
            "linecolor": "#EBF0F8",
            "showbackground": true,
            "ticks": "",
            "zerolinecolor": "#EBF0F8"
           }
          },
          "shapedefaults": {
           "line": {
            "color": "#2a3f5f"
           }
          },
          "ternary": {
           "aaxis": {
            "gridcolor": "#DFE8F3",
            "linecolor": "#A2B1C6",
            "ticks": ""
           },
           "baxis": {
            "gridcolor": "#DFE8F3",
            "linecolor": "#A2B1C6",
            "ticks": ""
           },
           "bgcolor": "white",
           "caxis": {
            "gridcolor": "#DFE8F3",
            "linecolor": "#A2B1C6",
            "ticks": ""
           }
          },
          "title": {
           "x": 0.05
          },
          "xaxis": {
           "automargin": true,
           "gridcolor": "#EBF0F8",
           "linecolor": "#EBF0F8",
           "ticks": "",
           "title": {
            "standoff": 15
           },
           "zerolinecolor": "#EBF0F8",
           "zerolinewidth": 2
          },
          "yaxis": {
           "automargin": true,
           "gridcolor": "#EBF0F8",
           "linecolor": "#EBF0F8",
           "ticks": "",
           "title": {
            "standoff": 15
           },
           "zerolinecolor": "#EBF0F8",
           "zerolinewidth": 2
          }
         }
        },
        "title": {
         "text": "Model Selection Results"
        },
        "xaxis": {
         "tickangle": -45,
         "title": {
          "text": "Classifier"
         }
        },
        "yaxis": {
         "title": {
          "text": "Scores matthews_corrcoef"
         }
        }
       }
      }
     },
     "metadata": {},
     "output_type": "display_data"
    },
    {
     "name": "stdout",
     "output_type": "stream",
     "text": [
      "Results saved to Results/gastric_cancer_gso_1_all_features_outerloops_results.csv\n"
     ]
    }
   ],
   "source": [
    "df = mlpipe.nested_cv(plot='box',n_trials_ncv=100,rounds=3,outer_splits=3,inner_splits=3,inner_selection='gso_1',search_on=['XGBClassifier'],parallel='freely_parallel',return_csv=True,show_bad_samples=True)\n"
   ]
  },
  {
   "cell_type": "code",
   "execution_count": 8,
   "metadata": {},
   "outputs": [
    {
     "name": "stdout",
     "output_type": "stream",
     "text": [
      "Your Dataset contains NaN values. Some estimators does not work with NaN values.\n",
      "The median method will be used for the missing values manipulation.\n",
      "\n",
      "All the extra metrics are valid.\n"
     ]
    },
    {
     "name": "stderr",
     "output_type": "stream",
     "text": [
      "Outer fold of 3 round:  0% |             | Elapsed Time: 0:00:00 ETA:  --:--:--\n",
      "Outer fold of 1 round:  0% |             | Elapsed Time: 0:00:00 ETA:  --:--:--\n",
      "Outer fold of 2 round:  0% |             | Elapsed Time: 0:00:00 ETA:  --:--:--\n",
      "Outer fold of 3 round: 33% |████▎        | Elapsed Time: 0:01:01 ETA:   0:02:03\n",
      "Outer fold of 2 round: 33% |████▎        | Elapsed Time: 0:01:15 ETA:   0:02:30\n",
      "Outer fold of 1 round: 33% |████▎        | Elapsed Time: 0:01:43 ETA:   0:03:26\n",
      "Outer fold of 3 round: 66% |████████▋    | Elapsed Time: 0:02:43 ETA:   0:01:21\n",
      "Outer fold of 3 round:100% |█████████████| Elapsed Time: 0:02:44 Time:  0:02:44\n"
     ]
    },
    {
     "name": "stdout",
     "output_type": "stream",
     "text": [
      "Finished with 3 round after 0.06 hours.\n"
     ]
    },
    {
     "name": "stderr",
     "output_type": "stream",
     "text": [
      "Outer fold of 2 round: 66% |████████▋    | Elapsed Time: 0:03:27 ETA:   0:01:43\n",
      "Outer fold of 2 round:100% |█████████████| Elapsed Time: 0:03:28 Time:  0:03:28\n"
     ]
    },
    {
     "name": "stdout",
     "output_type": "stream",
     "text": [
      "Finished with 2 round after 0.09 hours.\n"
     ]
    },
    {
     "name": "stderr",
     "output_type": "stream",
     "text": [
      "Outer fold of 1 round: 66% |████████▋    | Elapsed Time: 0:03:40 ETA:   0:01:50\n"
     ]
    },
    {
     "name": "stdout",
     "output_type": "stream",
     "text": [
      "Finished with 1 round after 0.09 hours.\n",
      "Finished with 1 estimators\n"
     ]
    },
    {
     "name": "stderr",
     "output_type": "stream",
     "text": [
      "Outer fold of 1 round:100% |█████████████| Elapsed Time: 0:03:41 Time:  0:03:41\n"
     ]
    },
    {
     "data": {
      "application/vnd.plotly.v1+json": {
       "config": {
        "plotlyServerURL": "https://plot.ly"
       },
       "data": [
        {
         "name": "Bad Samples for XGBClassifier",
         "text": [
          "0.00",
          "0.00",
          "0.00",
          "0.33",
          "0.00",
          "0.33",
          "0.33",
          "0.00",
          "0.00",
          "0.00",
          "0.00",
          "0.33",
          "0.00",
          "0.33"
         ],
         "textposition": "auto",
         "type": "bar",
         "x": [
          12,
          36,
          38,
          41,
          45,
          51,
          52,
          58,
          65,
          66,
          68,
          69,
          76,
          79
         ],
         "y": [
          0,
          0,
          0,
          0.3333333333333333,
          0,
          0.3333333333333333,
          0.3333333333333333,
          0,
          0,
          0,
          0,
          0.3333333333333333,
          0,
          0.3333333333333333
         ]
        }
       ],
       "layout": {
        "barmode": "group",
        "height": 500,
        "legend": {
         "title": {
          "text": "Classifiers"
         }
        },
        "template": {
         "data": {
          "bar": [
           {
            "error_x": {
             "color": "#2a3f5f"
            },
            "error_y": {
             "color": "#2a3f5f"
            },
            "marker": {
             "line": {
              "color": "#E5ECF6",
              "width": 0.5
             },
             "pattern": {
              "fillmode": "overlay",
              "size": 10,
              "solidity": 0.2
             }
            },
            "type": "bar"
           }
          ],
          "barpolar": [
           {
            "marker": {
             "line": {
              "color": "#E5ECF6",
              "width": 0.5
             },
             "pattern": {
              "fillmode": "overlay",
              "size": 10,
              "solidity": 0.2
             }
            },
            "type": "barpolar"
           }
          ],
          "carpet": [
           {
            "aaxis": {
             "endlinecolor": "#2a3f5f",
             "gridcolor": "white",
             "linecolor": "white",
             "minorgridcolor": "white",
             "startlinecolor": "#2a3f5f"
            },
            "baxis": {
             "endlinecolor": "#2a3f5f",
             "gridcolor": "white",
             "linecolor": "white",
             "minorgridcolor": "white",
             "startlinecolor": "#2a3f5f"
            },
            "type": "carpet"
           }
          ],
          "choropleth": [
           {
            "colorbar": {
             "outlinewidth": 0,
             "ticks": ""
            },
            "type": "choropleth"
           }
          ],
          "contour": [
           {
            "colorbar": {
             "outlinewidth": 0,
             "ticks": ""
            },
            "colorscale": [
             [
              0,
              "#0d0887"
             ],
             [
              0.1111111111111111,
              "#46039f"
             ],
             [
              0.2222222222222222,
              "#7201a8"
             ],
             [
              0.3333333333333333,
              "#9c179e"
             ],
             [
              0.4444444444444444,
              "#bd3786"
             ],
             [
              0.5555555555555556,
              "#d8576b"
             ],
             [
              0.6666666666666666,
              "#ed7953"
             ],
             [
              0.7777777777777778,
              "#fb9f3a"
             ],
             [
              0.8888888888888888,
              "#fdca26"
             ],
             [
              1,
              "#f0f921"
             ]
            ],
            "type": "contour"
           }
          ],
          "contourcarpet": [
           {
            "colorbar": {
             "outlinewidth": 0,
             "ticks": ""
            },
            "type": "contourcarpet"
           }
          ],
          "heatmap": [
           {
            "colorbar": {
             "outlinewidth": 0,
             "ticks": ""
            },
            "colorscale": [
             [
              0,
              "#0d0887"
             ],
             [
              0.1111111111111111,
              "#46039f"
             ],
             [
              0.2222222222222222,
              "#7201a8"
             ],
             [
              0.3333333333333333,
              "#9c179e"
             ],
             [
              0.4444444444444444,
              "#bd3786"
             ],
             [
              0.5555555555555556,
              "#d8576b"
             ],
             [
              0.6666666666666666,
              "#ed7953"
             ],
             [
              0.7777777777777778,
              "#fb9f3a"
             ],
             [
              0.8888888888888888,
              "#fdca26"
             ],
             [
              1,
              "#f0f921"
             ]
            ],
            "type": "heatmap"
           }
          ],
          "heatmapgl": [
           {
            "colorbar": {
             "outlinewidth": 0,
             "ticks": ""
            },
            "colorscale": [
             [
              0,
              "#0d0887"
             ],
             [
              0.1111111111111111,
              "#46039f"
             ],
             [
              0.2222222222222222,
              "#7201a8"
             ],
             [
              0.3333333333333333,
              "#9c179e"
             ],
             [
              0.4444444444444444,
              "#bd3786"
             ],
             [
              0.5555555555555556,
              "#d8576b"
             ],
             [
              0.6666666666666666,
              "#ed7953"
             ],
             [
              0.7777777777777778,
              "#fb9f3a"
             ],
             [
              0.8888888888888888,
              "#fdca26"
             ],
             [
              1,
              "#f0f921"
             ]
            ],
            "type": "heatmapgl"
           }
          ],
          "histogram": [
           {
            "marker": {
             "pattern": {
              "fillmode": "overlay",
              "size": 10,
              "solidity": 0.2
             }
            },
            "type": "histogram"
           }
          ],
          "histogram2d": [
           {
            "colorbar": {
             "outlinewidth": 0,
             "ticks": ""
            },
            "colorscale": [
             [
              0,
              "#0d0887"
             ],
             [
              0.1111111111111111,
              "#46039f"
             ],
             [
              0.2222222222222222,
              "#7201a8"
             ],
             [
              0.3333333333333333,
              "#9c179e"
             ],
             [
              0.4444444444444444,
              "#bd3786"
             ],
             [
              0.5555555555555556,
              "#d8576b"
             ],
             [
              0.6666666666666666,
              "#ed7953"
             ],
             [
              0.7777777777777778,
              "#fb9f3a"
             ],
             [
              0.8888888888888888,
              "#fdca26"
             ],
             [
              1,
              "#f0f921"
             ]
            ],
            "type": "histogram2d"
           }
          ],
          "histogram2dcontour": [
           {
            "colorbar": {
             "outlinewidth": 0,
             "ticks": ""
            },
            "colorscale": [
             [
              0,
              "#0d0887"
             ],
             [
              0.1111111111111111,
              "#46039f"
             ],
             [
              0.2222222222222222,
              "#7201a8"
             ],
             [
              0.3333333333333333,
              "#9c179e"
             ],
             [
              0.4444444444444444,
              "#bd3786"
             ],
             [
              0.5555555555555556,
              "#d8576b"
             ],
             [
              0.6666666666666666,
              "#ed7953"
             ],
             [
              0.7777777777777778,
              "#fb9f3a"
             ],
             [
              0.8888888888888888,
              "#fdca26"
             ],
             [
              1,
              "#f0f921"
             ]
            ],
            "type": "histogram2dcontour"
           }
          ],
          "mesh3d": [
           {
            "colorbar": {
             "outlinewidth": 0,
             "ticks": ""
            },
            "type": "mesh3d"
           }
          ],
          "parcoords": [
           {
            "line": {
             "colorbar": {
              "outlinewidth": 0,
              "ticks": ""
             }
            },
            "type": "parcoords"
           }
          ],
          "pie": [
           {
            "automargin": true,
            "type": "pie"
           }
          ],
          "scatter": [
           {
            "fillpattern": {
             "fillmode": "overlay",
             "size": 10,
             "solidity": 0.2
            },
            "type": "scatter"
           }
          ],
          "scatter3d": [
           {
            "line": {
             "colorbar": {
              "outlinewidth": 0,
              "ticks": ""
             }
            },
            "marker": {
             "colorbar": {
              "outlinewidth": 0,
              "ticks": ""
             }
            },
            "type": "scatter3d"
           }
          ],
          "scattercarpet": [
           {
            "marker": {
             "colorbar": {
              "outlinewidth": 0,
              "ticks": ""
             }
            },
            "type": "scattercarpet"
           }
          ],
          "scattergeo": [
           {
            "marker": {
             "colorbar": {
              "outlinewidth": 0,
              "ticks": ""
             }
            },
            "type": "scattergeo"
           }
          ],
          "scattergl": [
           {
            "marker": {
             "colorbar": {
              "outlinewidth": 0,
              "ticks": ""
             }
            },
            "type": "scattergl"
           }
          ],
          "scattermapbox": [
           {
            "marker": {
             "colorbar": {
              "outlinewidth": 0,
              "ticks": ""
             }
            },
            "type": "scattermapbox"
           }
          ],
          "scatterpolar": [
           {
            "marker": {
             "colorbar": {
              "outlinewidth": 0,
              "ticks": ""
             }
            },
            "type": "scatterpolar"
           }
          ],
          "scatterpolargl": [
           {
            "marker": {
             "colorbar": {
              "outlinewidth": 0,
              "ticks": ""
             }
            },
            "type": "scatterpolargl"
           }
          ],
          "scatterternary": [
           {
            "marker": {
             "colorbar": {
              "outlinewidth": 0,
              "ticks": ""
             }
            },
            "type": "scatterternary"
           }
          ],
          "surface": [
           {
            "colorbar": {
             "outlinewidth": 0,
             "ticks": ""
            },
            "colorscale": [
             [
              0,
              "#0d0887"
             ],
             [
              0.1111111111111111,
              "#46039f"
             ],
             [
              0.2222222222222222,
              "#7201a8"
             ],
             [
              0.3333333333333333,
              "#9c179e"
             ],
             [
              0.4444444444444444,
              "#bd3786"
             ],
             [
              0.5555555555555556,
              "#d8576b"
             ],
             [
              0.6666666666666666,
              "#ed7953"
             ],
             [
              0.7777777777777778,
              "#fb9f3a"
             ],
             [
              0.8888888888888888,
              "#fdca26"
             ],
             [
              1,
              "#f0f921"
             ]
            ],
            "type": "surface"
           }
          ],
          "table": [
           {
            "cells": {
             "fill": {
              "color": "#EBF0F8"
             },
             "line": {
              "color": "white"
             }
            },
            "header": {
             "fill": {
              "color": "#C8D4E3"
             },
             "line": {
              "color": "white"
             }
            },
            "type": "table"
           }
          ]
         },
         "layout": {
          "annotationdefaults": {
           "arrowcolor": "#2a3f5f",
           "arrowhead": 0,
           "arrowwidth": 1
          },
          "autotypenumbers": "strict",
          "coloraxis": {
           "colorbar": {
            "outlinewidth": 0,
            "ticks": ""
           }
          },
          "colorscale": {
           "diverging": [
            [
             0,
             "#8e0152"
            ],
            [
             0.1,
             "#c51b7d"
            ],
            [
             0.2,
             "#de77ae"
            ],
            [
             0.3,
             "#f1b6da"
            ],
            [
             0.4,
             "#fde0ef"
            ],
            [
             0.5,
             "#f7f7f7"
            ],
            [
             0.6,
             "#e6f5d0"
            ],
            [
             0.7,
             "#b8e186"
            ],
            [
             0.8,
             "#7fbc41"
            ],
            [
             0.9,
             "#4d9221"
            ],
            [
             1,
             "#276419"
            ]
           ],
           "sequential": [
            [
             0,
             "#0d0887"
            ],
            [
             0.1111111111111111,
             "#46039f"
            ],
            [
             0.2222222222222222,
             "#7201a8"
            ],
            [
             0.3333333333333333,
             "#9c179e"
            ],
            [
             0.4444444444444444,
             "#bd3786"
            ],
            [
             0.5555555555555556,
             "#d8576b"
            ],
            [
             0.6666666666666666,
             "#ed7953"
            ],
            [
             0.7777777777777778,
             "#fb9f3a"
            ],
            [
             0.8888888888888888,
             "#fdca26"
            ],
            [
             1,
             "#f0f921"
            ]
           ],
           "sequentialminus": [
            [
             0,
             "#0d0887"
            ],
            [
             0.1111111111111111,
             "#46039f"
            ],
            [
             0.2222222222222222,
             "#7201a8"
            ],
            [
             0.3333333333333333,
             "#9c179e"
            ],
            [
             0.4444444444444444,
             "#bd3786"
            ],
            [
             0.5555555555555556,
             "#d8576b"
            ],
            [
             0.6666666666666666,
             "#ed7953"
            ],
            [
             0.7777777777777778,
             "#fb9f3a"
            ],
            [
             0.8888888888888888,
             "#fdca26"
            ],
            [
             1,
             "#f0f921"
            ]
           ]
          },
          "colorway": [
           "#636efa",
           "#EF553B",
           "#00cc96",
           "#ab63fa",
           "#FFA15A",
           "#19d3f3",
           "#FF6692",
           "#B6E880",
           "#FF97FF",
           "#FECB52"
          ],
          "font": {
           "color": "#2a3f5f"
          },
          "geo": {
           "bgcolor": "white",
           "lakecolor": "white",
           "landcolor": "#E5ECF6",
           "showlakes": true,
           "showland": true,
           "subunitcolor": "white"
          },
          "hoverlabel": {
           "align": "left"
          },
          "hovermode": "closest",
          "mapbox": {
           "style": "light"
          },
          "paper_bgcolor": "white",
          "plot_bgcolor": "#E5ECF6",
          "polar": {
           "angularaxis": {
            "gridcolor": "white",
            "linecolor": "white",
            "ticks": ""
           },
           "bgcolor": "#E5ECF6",
           "radialaxis": {
            "gridcolor": "white",
            "linecolor": "white",
            "ticks": ""
           }
          },
          "scene": {
           "xaxis": {
            "backgroundcolor": "#E5ECF6",
            "gridcolor": "white",
            "gridwidth": 2,
            "linecolor": "white",
            "showbackground": true,
            "ticks": "",
            "zerolinecolor": "white"
           },
           "yaxis": {
            "backgroundcolor": "#E5ECF6",
            "gridcolor": "white",
            "gridwidth": 2,
            "linecolor": "white",
            "showbackground": true,
            "ticks": "",
            "zerolinecolor": "white"
           },
           "zaxis": {
            "backgroundcolor": "#E5ECF6",
            "gridcolor": "white",
            "gridwidth": 2,
            "linecolor": "white",
            "showbackground": true,
            "ticks": "",
            "zerolinecolor": "white"
           }
          },
          "shapedefaults": {
           "line": {
            "color": "#2a3f5f"
           }
          },
          "ternary": {
           "aaxis": {
            "gridcolor": "white",
            "linecolor": "white",
            "ticks": ""
           },
           "baxis": {
            "gridcolor": "white",
            "linecolor": "white",
            "ticks": ""
           },
           "bgcolor": "#E5ECF6",
           "caxis": {
            "gridcolor": "white",
            "linecolor": "white",
            "ticks": ""
           }
          },
          "title": {
           "x": 0.05
          },
          "xaxis": {
           "automargin": true,
           "gridcolor": "white",
           "linecolor": "white",
           "ticks": "",
           "title": {
            "standoff": 15
           },
           "zerolinecolor": "white",
           "zerolinewidth": 2
          },
          "yaxis": {
           "automargin": true,
           "gridcolor": "white",
           "linecolor": "white",
           "ticks": "",
           "title": {
            "standoff": 15
           },
           "zerolinecolor": "white",
           "zerolinewidth": 2
          }
         }
        },
        "title": {
         "text": "Bad Samples Classification Rates for Each Classifier"
        },
        "width": 1245,
        "xaxis": {
         "title": {
          "text": "Sample Index"
         }
        },
        "yaxis": {
         "title": {
          "text": "Classification Rate"
         }
        }
       }
      }
     },
     "metadata": {},
     "output_type": "display_data"
    },
    {
     "data": {
      "application/vnd.plotly.v1+json": {
       "config": {
        "plotlyServerURL": "https://plot.ly"
       },
       "data": [
        {
         "boxpoints": "all",
         "jitter": 0.3,
         "name": "XGBClassifier (Median: 0.78)",
         "pointpos": -1.8,
         "type": "box",
         "y": [
          0.7142857142857143,
          0.8214285714285714,
          0.9259259259259259,
          0.7142857142857143,
          0.7857142857142857,
          0.7777777777777778,
          0.8928571428571429,
          0.6785714285714286,
          0.7037037037037037
         ]
        },
        {
         "line": {
          "color": "black",
          "dash": "dash"
         },
         "mode": "lines",
         "showlegend": false,
         "type": "scatter",
         "x": [
          "XGBClassifier (Median: 0.78)",
          "XGBClassifier (Median: 0.78)"
         ],
         "y": [
          0.7037037037037037,
          0.8928571428571429
         ]
        }
       ],
       "layout": {
        "template": {
         "data": {
          "bar": [
           {
            "error_x": {
             "color": "#2a3f5f"
            },
            "error_y": {
             "color": "#2a3f5f"
            },
            "marker": {
             "line": {
              "color": "white",
              "width": 0.5
             },
             "pattern": {
              "fillmode": "overlay",
              "size": 10,
              "solidity": 0.2
             }
            },
            "type": "bar"
           }
          ],
          "barpolar": [
           {
            "marker": {
             "line": {
              "color": "white",
              "width": 0.5
             },
             "pattern": {
              "fillmode": "overlay",
              "size": 10,
              "solidity": 0.2
             }
            },
            "type": "barpolar"
           }
          ],
          "carpet": [
           {
            "aaxis": {
             "endlinecolor": "#2a3f5f",
             "gridcolor": "#C8D4E3",
             "linecolor": "#C8D4E3",
             "minorgridcolor": "#C8D4E3",
             "startlinecolor": "#2a3f5f"
            },
            "baxis": {
             "endlinecolor": "#2a3f5f",
             "gridcolor": "#C8D4E3",
             "linecolor": "#C8D4E3",
             "minorgridcolor": "#C8D4E3",
             "startlinecolor": "#2a3f5f"
            },
            "type": "carpet"
           }
          ],
          "choropleth": [
           {
            "colorbar": {
             "outlinewidth": 0,
             "ticks": ""
            },
            "type": "choropleth"
           }
          ],
          "contour": [
           {
            "colorbar": {
             "outlinewidth": 0,
             "ticks": ""
            },
            "colorscale": [
             [
              0,
              "#0d0887"
             ],
             [
              0.1111111111111111,
              "#46039f"
             ],
             [
              0.2222222222222222,
              "#7201a8"
             ],
             [
              0.3333333333333333,
              "#9c179e"
             ],
             [
              0.4444444444444444,
              "#bd3786"
             ],
             [
              0.5555555555555556,
              "#d8576b"
             ],
             [
              0.6666666666666666,
              "#ed7953"
             ],
             [
              0.7777777777777778,
              "#fb9f3a"
             ],
             [
              0.8888888888888888,
              "#fdca26"
             ],
             [
              1,
              "#f0f921"
             ]
            ],
            "type": "contour"
           }
          ],
          "contourcarpet": [
           {
            "colorbar": {
             "outlinewidth": 0,
             "ticks": ""
            },
            "type": "contourcarpet"
           }
          ],
          "heatmap": [
           {
            "colorbar": {
             "outlinewidth": 0,
             "ticks": ""
            },
            "colorscale": [
             [
              0,
              "#0d0887"
             ],
             [
              0.1111111111111111,
              "#46039f"
             ],
             [
              0.2222222222222222,
              "#7201a8"
             ],
             [
              0.3333333333333333,
              "#9c179e"
             ],
             [
              0.4444444444444444,
              "#bd3786"
             ],
             [
              0.5555555555555556,
              "#d8576b"
             ],
             [
              0.6666666666666666,
              "#ed7953"
             ],
             [
              0.7777777777777778,
              "#fb9f3a"
             ],
             [
              0.8888888888888888,
              "#fdca26"
             ],
             [
              1,
              "#f0f921"
             ]
            ],
            "type": "heatmap"
           }
          ],
          "heatmapgl": [
           {
            "colorbar": {
             "outlinewidth": 0,
             "ticks": ""
            },
            "colorscale": [
             [
              0,
              "#0d0887"
             ],
             [
              0.1111111111111111,
              "#46039f"
             ],
             [
              0.2222222222222222,
              "#7201a8"
             ],
             [
              0.3333333333333333,
              "#9c179e"
             ],
             [
              0.4444444444444444,
              "#bd3786"
             ],
             [
              0.5555555555555556,
              "#d8576b"
             ],
             [
              0.6666666666666666,
              "#ed7953"
             ],
             [
              0.7777777777777778,
              "#fb9f3a"
             ],
             [
              0.8888888888888888,
              "#fdca26"
             ],
             [
              1,
              "#f0f921"
             ]
            ],
            "type": "heatmapgl"
           }
          ],
          "histogram": [
           {
            "marker": {
             "pattern": {
              "fillmode": "overlay",
              "size": 10,
              "solidity": 0.2
             }
            },
            "type": "histogram"
           }
          ],
          "histogram2d": [
           {
            "colorbar": {
             "outlinewidth": 0,
             "ticks": ""
            },
            "colorscale": [
             [
              0,
              "#0d0887"
             ],
             [
              0.1111111111111111,
              "#46039f"
             ],
             [
              0.2222222222222222,
              "#7201a8"
             ],
             [
              0.3333333333333333,
              "#9c179e"
             ],
             [
              0.4444444444444444,
              "#bd3786"
             ],
             [
              0.5555555555555556,
              "#d8576b"
             ],
             [
              0.6666666666666666,
              "#ed7953"
             ],
             [
              0.7777777777777778,
              "#fb9f3a"
             ],
             [
              0.8888888888888888,
              "#fdca26"
             ],
             [
              1,
              "#f0f921"
             ]
            ],
            "type": "histogram2d"
           }
          ],
          "histogram2dcontour": [
           {
            "colorbar": {
             "outlinewidth": 0,
             "ticks": ""
            },
            "colorscale": [
             [
              0,
              "#0d0887"
             ],
             [
              0.1111111111111111,
              "#46039f"
             ],
             [
              0.2222222222222222,
              "#7201a8"
             ],
             [
              0.3333333333333333,
              "#9c179e"
             ],
             [
              0.4444444444444444,
              "#bd3786"
             ],
             [
              0.5555555555555556,
              "#d8576b"
             ],
             [
              0.6666666666666666,
              "#ed7953"
             ],
             [
              0.7777777777777778,
              "#fb9f3a"
             ],
             [
              0.8888888888888888,
              "#fdca26"
             ],
             [
              1,
              "#f0f921"
             ]
            ],
            "type": "histogram2dcontour"
           }
          ],
          "mesh3d": [
           {
            "colorbar": {
             "outlinewidth": 0,
             "ticks": ""
            },
            "type": "mesh3d"
           }
          ],
          "parcoords": [
           {
            "line": {
             "colorbar": {
              "outlinewidth": 0,
              "ticks": ""
             }
            },
            "type": "parcoords"
           }
          ],
          "pie": [
           {
            "automargin": true,
            "type": "pie"
           }
          ],
          "scatter": [
           {
            "fillpattern": {
             "fillmode": "overlay",
             "size": 10,
             "solidity": 0.2
            },
            "type": "scatter"
           }
          ],
          "scatter3d": [
           {
            "line": {
             "colorbar": {
              "outlinewidth": 0,
              "ticks": ""
             }
            },
            "marker": {
             "colorbar": {
              "outlinewidth": 0,
              "ticks": ""
             }
            },
            "type": "scatter3d"
           }
          ],
          "scattercarpet": [
           {
            "marker": {
             "colorbar": {
              "outlinewidth": 0,
              "ticks": ""
             }
            },
            "type": "scattercarpet"
           }
          ],
          "scattergeo": [
           {
            "marker": {
             "colorbar": {
              "outlinewidth": 0,
              "ticks": ""
             }
            },
            "type": "scattergeo"
           }
          ],
          "scattergl": [
           {
            "marker": {
             "colorbar": {
              "outlinewidth": 0,
              "ticks": ""
             }
            },
            "type": "scattergl"
           }
          ],
          "scattermapbox": [
           {
            "marker": {
             "colorbar": {
              "outlinewidth": 0,
              "ticks": ""
             }
            },
            "type": "scattermapbox"
           }
          ],
          "scatterpolar": [
           {
            "marker": {
             "colorbar": {
              "outlinewidth": 0,
              "ticks": ""
             }
            },
            "type": "scatterpolar"
           }
          ],
          "scatterpolargl": [
           {
            "marker": {
             "colorbar": {
              "outlinewidth": 0,
              "ticks": ""
             }
            },
            "type": "scatterpolargl"
           }
          ],
          "scatterternary": [
           {
            "marker": {
             "colorbar": {
              "outlinewidth": 0,
              "ticks": ""
             }
            },
            "type": "scatterternary"
           }
          ],
          "surface": [
           {
            "colorbar": {
             "outlinewidth": 0,
             "ticks": ""
            },
            "colorscale": [
             [
              0,
              "#0d0887"
             ],
             [
              0.1111111111111111,
              "#46039f"
             ],
             [
              0.2222222222222222,
              "#7201a8"
             ],
             [
              0.3333333333333333,
              "#9c179e"
             ],
             [
              0.4444444444444444,
              "#bd3786"
             ],
             [
              0.5555555555555556,
              "#d8576b"
             ],
             [
              0.6666666666666666,
              "#ed7953"
             ],
             [
              0.7777777777777778,
              "#fb9f3a"
             ],
             [
              0.8888888888888888,
              "#fdca26"
             ],
             [
              1,
              "#f0f921"
             ]
            ],
            "type": "surface"
           }
          ],
          "table": [
           {
            "cells": {
             "fill": {
              "color": "#EBF0F8"
             },
             "line": {
              "color": "white"
             }
            },
            "header": {
             "fill": {
              "color": "#C8D4E3"
             },
             "line": {
              "color": "white"
             }
            },
            "type": "table"
           }
          ]
         },
         "layout": {
          "annotationdefaults": {
           "arrowcolor": "#2a3f5f",
           "arrowhead": 0,
           "arrowwidth": 1
          },
          "autotypenumbers": "strict",
          "coloraxis": {
           "colorbar": {
            "outlinewidth": 0,
            "ticks": ""
           }
          },
          "colorscale": {
           "diverging": [
            [
             0,
             "#8e0152"
            ],
            [
             0.1,
             "#c51b7d"
            ],
            [
             0.2,
             "#de77ae"
            ],
            [
             0.3,
             "#f1b6da"
            ],
            [
             0.4,
             "#fde0ef"
            ],
            [
             0.5,
             "#f7f7f7"
            ],
            [
             0.6,
             "#e6f5d0"
            ],
            [
             0.7,
             "#b8e186"
            ],
            [
             0.8,
             "#7fbc41"
            ],
            [
             0.9,
             "#4d9221"
            ],
            [
             1,
             "#276419"
            ]
           ],
           "sequential": [
            [
             0,
             "#0d0887"
            ],
            [
             0.1111111111111111,
             "#46039f"
            ],
            [
             0.2222222222222222,
             "#7201a8"
            ],
            [
             0.3333333333333333,
             "#9c179e"
            ],
            [
             0.4444444444444444,
             "#bd3786"
            ],
            [
             0.5555555555555556,
             "#d8576b"
            ],
            [
             0.6666666666666666,
             "#ed7953"
            ],
            [
             0.7777777777777778,
             "#fb9f3a"
            ],
            [
             0.8888888888888888,
             "#fdca26"
            ],
            [
             1,
             "#f0f921"
            ]
           ],
           "sequentialminus": [
            [
             0,
             "#0d0887"
            ],
            [
             0.1111111111111111,
             "#46039f"
            ],
            [
             0.2222222222222222,
             "#7201a8"
            ],
            [
             0.3333333333333333,
             "#9c179e"
            ],
            [
             0.4444444444444444,
             "#bd3786"
            ],
            [
             0.5555555555555556,
             "#d8576b"
            ],
            [
             0.6666666666666666,
             "#ed7953"
            ],
            [
             0.7777777777777778,
             "#fb9f3a"
            ],
            [
             0.8888888888888888,
             "#fdca26"
            ],
            [
             1,
             "#f0f921"
            ]
           ]
          },
          "colorway": [
           "#636efa",
           "#EF553B",
           "#00cc96",
           "#ab63fa",
           "#FFA15A",
           "#19d3f3",
           "#FF6692",
           "#B6E880",
           "#FF97FF",
           "#FECB52"
          ],
          "font": {
           "color": "#2a3f5f"
          },
          "geo": {
           "bgcolor": "white",
           "lakecolor": "white",
           "landcolor": "white",
           "showlakes": true,
           "showland": true,
           "subunitcolor": "#C8D4E3"
          },
          "hoverlabel": {
           "align": "left"
          },
          "hovermode": "closest",
          "mapbox": {
           "style": "light"
          },
          "paper_bgcolor": "white",
          "plot_bgcolor": "white",
          "polar": {
           "angularaxis": {
            "gridcolor": "#EBF0F8",
            "linecolor": "#EBF0F8",
            "ticks": ""
           },
           "bgcolor": "white",
           "radialaxis": {
            "gridcolor": "#EBF0F8",
            "linecolor": "#EBF0F8",
            "ticks": ""
           }
          },
          "scene": {
           "xaxis": {
            "backgroundcolor": "white",
            "gridcolor": "#DFE8F3",
            "gridwidth": 2,
            "linecolor": "#EBF0F8",
            "showbackground": true,
            "ticks": "",
            "zerolinecolor": "#EBF0F8"
           },
           "yaxis": {
            "backgroundcolor": "white",
            "gridcolor": "#DFE8F3",
            "gridwidth": 2,
            "linecolor": "#EBF0F8",
            "showbackground": true,
            "ticks": "",
            "zerolinecolor": "#EBF0F8"
           },
           "zaxis": {
            "backgroundcolor": "white",
            "gridcolor": "#DFE8F3",
            "gridwidth": 2,
            "linecolor": "#EBF0F8",
            "showbackground": true,
            "ticks": "",
            "zerolinecolor": "#EBF0F8"
           }
          },
          "shapedefaults": {
           "line": {
            "color": "#2a3f5f"
           }
          },
          "ternary": {
           "aaxis": {
            "gridcolor": "#DFE8F3",
            "linecolor": "#A2B1C6",
            "ticks": ""
           },
           "baxis": {
            "gridcolor": "#DFE8F3",
            "linecolor": "#A2B1C6",
            "ticks": ""
           },
           "bgcolor": "white",
           "caxis": {
            "gridcolor": "#DFE8F3",
            "linecolor": "#A2B1C6",
            "ticks": ""
           }
          },
          "title": {
           "x": 0.05
          },
          "xaxis": {
           "automargin": true,
           "gridcolor": "#EBF0F8",
           "linecolor": "#EBF0F8",
           "ticks": "",
           "title": {
            "standoff": 15
           },
           "zerolinecolor": "#EBF0F8",
           "zerolinewidth": 2
          },
          "yaxis": {
           "automargin": true,
           "gridcolor": "#EBF0F8",
           "linecolor": "#EBF0F8",
           "ticks": "",
           "title": {
            "standoff": 15
           },
           "zerolinecolor": "#EBF0F8",
           "zerolinewidth": 2
          }
         }
        },
        "title": {
         "text": "Model Selection Results"
        },
        "xaxis": {
         "tickangle": -45,
         "title": {
          "text": "Classifier"
         }
        },
        "yaxis": {
         "title": {
          "text": "Scores matthews_corrcoef"
         }
        }
       }
      }
     },
     "metadata": {},
     "output_type": "display_data"
    },
    {
     "name": "stdout",
     "output_type": "stream",
     "text": [
      "Results saved to Results/gastric_cancer_gso_2_all_features_outerloops_results.csv\n"
     ]
    }
   ],
   "source": [
    "df = mlpipe.nested_cv(plot='box',n_trials_ncv=100,rounds=3,outer_splits=3,inner_splits=3,inner_selection='gso_2',search_on=['XGBClassifier'],parallel='freely_parallel',return_csv=True,show_bad_samples=True)\n"
   ]
  },
  {
   "cell_type": "code",
   "execution_count": 26,
   "metadata": {},
   "outputs": [
    {
     "data": {
      "image/png": "[encoded data removed]",
      "text/plain": [
       "<Figure size 640x480 with 1 Axes>"
      ]
     },
     "metadata": {},
     "output_type": "display_data"
    }
   ],
   "source": [
    "import matplotlib.pyplot as plt\n",
    "plt.boxplot(df['roc_auc']) #df['roc_auc']\n",
    "plt.show()"
   ]
  },
  {
   "cell_type": "code",
   "execution_count": 4,
   "metadata": {},
   "outputs": [
    {
     "name": "stdout",
     "output_type": "stream",
     "text": [
      "Normalization completed.\n"
     ]
    },
    {
     "data": {
      "application/vnd.jupyter.widget-view+json": {
       "model_id": "f18764e3788b4586a62e806b937cb391",
       "version_major": 2,
       "version_minor": 0
      },
      "text/plain": [
       "  0%|          | 0/15 [00:00<?, ?it/s]"
      ]
     },
     "metadata": {},
     "output_type": "display_data"
    },
    {
     "name": "stdout",
     "output_type": "stream",
     "text": [
      "Estimator: CatBoostClassifier\n",
      "Best parameters: {'iterations': 90, 'learning_rate': 0.036321151563099195, 'depth': 8, 'l2_leaf_reg': 0.0004417808685331767, 'border_count': 184, 'bagging_temperature': 9.13670134930253, 'random_strength': 9.861153714073298, 'leaf_estimation_method': 'Newton', 'logging_level': 'Silent', 'model_size_reg': 0.31263563587520377, 'rsm': 0.9399807945401994, 'loss_function': None}\n",
      "Best matthews_corrcoef: 0.7871711623290895\n"
     ]
    },
    {
     "data": {
      "application/vnd.plotly.v1+json": {
       "config": {
        "plotlyServerURL": "https://plot.ly"
       },
       "data": [
        {
         "boxmean": true,
         "boxpoints": "all",
         "jitter": 0.3,
         "name": "All trials scores",
         "pointpos": -1.8,
         "type": "box",
         "y": [
          0.6963106238227914,
          0.6963106238227914,
          0.6963106238227914,
          0.6963106238227914,
          0.6963106238227914,
          0.6963106238227914,
          0.6963106238227914,
          0.6963106238227914,
          0.6963106238227914,
          0.6963106238227914,
          0.6963106238227914,
          0.6963106238227914,
          0.6963106238227914,
          0.6963106238227914,
          0.6963106238227914,
          0.6527777777777778,
          0.6527777777777778,
          0.6527777777777778,
          0.6527777777777778,
          0.6527777777777778,
          0.6527777777777778,
          0.6527777777777778,
          0.6527777777777778,
          0.6527777777777778,
          0.6527777777777778,
          0.6527777777777778,
          0.6527777777777778,
          0.6527777777777778,
          0.6527777777777778,
          0.6527777777777778,
          0.6479515952918626,
          0.6479515952918626,
          0.6479515952918626,
          0.6479515952918626,
          0.6479515952918626,
          0.6479515952918626,
          0.6479515952918626,
          0.6479515952918626,
          0.6479515952918626,
          0.6479515952918626,
          0.6479515952918626,
          0.6479515952918626,
          0.6479515952918626,
          0.6479515952918626,
          0.6479515952918626,
          1,
          1,
          1,
          1,
          1,
          1,
          1,
          1,
          1,
          1,
          1,
          1,
          1,
          1,
          1,
          0.75,
          0.75,
          0.75,
          0.75,
          0.75,
          0.75,
          0.75,
          0.75,
          0.75,
          0.75,
          0.75,
          0.75,
          0.75,
          0.75,
          0.75
         ]
        },
        {
         "boxmean": true,
         "boxpoints": "all",
         "jitter": 0.3,
         "name": "Best trial Scores",
         "pointpos": -1.8,
         "type": "box",
         "y": [
          0.6963106238227914,
          0.6527777777777778,
          0.6479515952918626,
          1,
          0.75
         ]
        }
       ],
       "layout": {
        "template": {
         "data": {
          "bar": [
           {
            "error_x": {
             "color": "#2a3f5f"
            },
            "error_y": {
             "color": "#2a3f5f"
            },
            "marker": {
             "line": {
              "color": "white",
              "width": 0.5
             },
             "pattern": {
              "fillmode": "overlay",
              "size": 10,
              "solidity": 0.2
             }
            },
            "type": "bar"
           }
          ],
          "barpolar": [
           {
            "marker": {
             "line": {
              "color": "white",
              "width": 0.5
             },
             "pattern": {
              "fillmode": "overlay",
              "size": 10,
              "solidity": 0.2
             }
            },
            "type": "barpolar"
           }
          ],
          "carpet": [
           {
            "aaxis": {
             "endlinecolor": "#2a3f5f",
             "gridcolor": "#C8D4E3",
             "linecolor": "#C8D4E3",
             "minorgridcolor": "#C8D4E3",
             "startlinecolor": "#2a3f5f"
            },
            "baxis": {
             "endlinecolor": "#2a3f5f",
             "gridcolor": "#C8D4E3",
             "linecolor": "#C8D4E3",
             "minorgridcolor": "#C8D4E3",
             "startlinecolor": "#2a3f5f"
            },
            "type": "carpet"
           }
          ],
          "choropleth": [
           {
            "colorbar": {
             "outlinewidth": 0,
             "ticks": ""
            },
            "type": "choropleth"
           }
          ],
          "contour": [
           {
            "colorbar": {
             "outlinewidth": 0,
             "ticks": ""
            },
            "colorscale": [
             [
              0,
              "#0d0887"
             ],
             [
              0.1111111111111111,
              "#46039f"
             ],
             [
              0.2222222222222222,
              "#7201a8"
             ],
             [
              0.3333333333333333,
              "#9c179e"
             ],
             [
              0.4444444444444444,
              "#bd3786"
             ],
             [
              0.5555555555555556,
              "#d8576b"
             ],
             [
              0.6666666666666666,
              "#ed7953"
             ],
             [
              0.7777777777777778,
              "#fb9f3a"
             ],
             [
              0.8888888888888888,
              "#fdca26"
             ],
             [
              1,
              "#f0f921"
             ]
            ],
            "type": "contour"
           }
          ],
          "contourcarpet": [
           {
            "colorbar": {
             "outlinewidth": 0,
             "ticks": ""
            },
            "type": "contourcarpet"
           }
          ],
          "heatmap": [
           {
            "colorbar": {
             "outlinewidth": 0,
             "ticks": ""
            },
            "colorscale": [
             [
              0,
              "#0d0887"
             ],
             [
              0.1111111111111111,
              "#46039f"
             ],
             [
              0.2222222222222222,
              "#7201a8"
             ],
             [
              0.3333333333333333,
              "#9c179e"
             ],
             [
              0.4444444444444444,
              "#bd3786"
             ],
             [
              0.5555555555555556,
              "#d8576b"
             ],
             [
              0.6666666666666666,
              "#ed7953"
             ],
             [
              0.7777777777777778,
              "#fb9f3a"
             ],
             [
              0.8888888888888888,
              "#fdca26"
             ],
             [
              1,
              "#f0f921"
             ]
            ],
            "type": "heatmap"
           }
          ],
          "heatmapgl": [
           {
            "colorbar": {
             "outlinewidth": 0,
             "ticks": ""
            },
            "colorscale": [
             [
              0,
              "#0d0887"
             ],
             [
              0.1111111111111111,
              "#46039f"
             ],
             [
              0.2222222222222222,
              "#7201a8"
             ],
             [
              0.3333333333333333,
              "#9c179e"
             ],
             [
              0.4444444444444444,
              "#bd3786"
             ],
             [
              0.5555555555555556,
              "#d8576b"
             ],
             [
              0.6666666666666666,
              "#ed7953"
             ],
             [
              0.7777777777777778,
              "#fb9f3a"
             ],
             [
              0.8888888888888888,
              "#fdca26"
             ],
             [
              1,
              "#f0f921"
             ]
            ],
            "type": "heatmapgl"
           }
          ],
          "histogram": [
           {
            "marker": {
             "pattern": {
              "fillmode": "overlay",
              "size": 10,
              "solidity": 0.2
             }
            },
            "type": "histogram"
           }
          ],
          "histogram2d": [
           {
            "colorbar": {
             "outlinewidth": 0,
             "ticks": ""
            },
            "colorscale": [
             [
              0,
              "#0d0887"
             ],
             [
              0.1111111111111111,
              "#46039f"
             ],
             [
              0.2222222222222222,
              "#7201a8"
             ],
             [
              0.3333333333333333,
              "#9c179e"
             ],
             [
              0.4444444444444444,
              "#bd3786"
             ],
             [
              0.5555555555555556,
              "#d8576b"
             ],
             [
              0.6666666666666666,
              "#ed7953"
             ],
             [
              0.7777777777777778,
              "#fb9f3a"
             ],
             [
              0.8888888888888888,
              "#fdca26"
             ],
             [
              1,
              "#f0f921"
             ]
            ],
            "type": "histogram2d"
           }
          ],
          "histogram2dcontour": [
           {
            "colorbar": {
             "outlinewidth": 0,
             "ticks": ""
            },
            "colorscale": [
             [
              0,
              "#0d0887"
             ],
             [
              0.1111111111111111,
              "#46039f"
             ],
             [
              0.2222222222222222,
              "#7201a8"
             ],
             [
              0.3333333333333333,
              "#9c179e"
             ],
             [
              0.4444444444444444,
              "#bd3786"
             ],
             [
              0.5555555555555556,
              "#d8576b"
             ],
             [
              0.6666666666666666,
              "#ed7953"
             ],
             [
              0.7777777777777778,
              "#fb9f3a"
             ],
             [
              0.8888888888888888,
              "#fdca26"
             ],
             [
              1,
              "#f0f921"
             ]
            ],
            "type": "histogram2dcontour"
           }
          ],
          "mesh3d": [
           {
            "colorbar": {
             "outlinewidth": 0,
             "ticks": ""
            },
            "type": "mesh3d"
           }
          ],
          "parcoords": [
           {
            "line": {
             "colorbar": {
              "outlinewidth": 0,
              "ticks": ""
             }
            },
            "type": "parcoords"
           }
          ],
          "pie": [
           {
            "automargin": true,
            "type": "pie"
           }
          ],
          "scatter": [
           {
            "fillpattern": {
             "fillmode": "overlay",
             "size": 10,
             "solidity": 0.2
            },
            "type": "scatter"
           }
          ],
          "scatter3d": [
           {
            "line": {
             "colorbar": {
              "outlinewidth": 0,
              "ticks": ""
             }
            },
            "marker": {
             "colorbar": {
              "outlinewidth": 0,
              "ticks": ""
             }
            },
            "type": "scatter3d"
           }
          ],
          "scattercarpet": [
           {
            "marker": {
             "colorbar": {
              "outlinewidth": 0,
              "ticks": ""
             }
            },
            "type": "scattercarpet"
           }
          ],
          "scattergeo": [
           {
            "marker": {
             "colorbar": {
              "outlinewidth": 0,
              "ticks": ""
             }
            },
            "type": "scattergeo"
           }
          ],
          "scattergl": [
           {
            "marker": {
             "colorbar": {
              "outlinewidth": 0,
              "ticks": ""
             }
            },
            "type": "scattergl"
           }
          ],
          "scattermapbox": [
           {
            "marker": {
             "colorbar": {
              "outlinewidth": 0,
              "ticks": ""
             }
            },
            "type": "scattermapbox"
           }
          ],
          "scatterpolar": [
           {
            "marker": {
             "colorbar": {
              "outlinewidth": 0,
              "ticks": ""
             }
            },
            "type": "scatterpolar"
           }
          ],
          "scatterpolargl": [
           {
            "marker": {
             "colorbar": {
              "outlinewidth": 0,
              "ticks": ""
             }
            },
            "type": "scatterpolargl"
           }
          ],
          "scatterternary": [
           {
            "marker": {
             "colorbar": {
              "outlinewidth": 0,
              "ticks": ""
             }
            },
            "type": "scatterternary"
           }
          ],
          "surface": [
           {
            "colorbar": {
             "outlinewidth": 0,
             "ticks": ""
            },
            "colorscale": [
             [
              0,
              "#0d0887"
             ],
             [
              0.1111111111111111,
              "#46039f"
             ],
             [
              0.2222222222222222,
              "#7201a8"
             ],
             [
              0.3333333333333333,
              "#9c179e"
             ],
             [
              0.4444444444444444,
              "#bd3786"
             ],
             [
              0.5555555555555556,
              "#d8576b"
             ],
             [
              0.6666666666666666,
              "#ed7953"
             ],
             [
              0.7777777777777778,
              "#fb9f3a"
             ],
             [
              0.8888888888888888,
              "#fdca26"
             ],
             [
              1,
              "#f0f921"
             ]
            ],
            "type": "surface"
           }
          ],
          "table": [
           {
            "cells": {
             "fill": {
              "color": "#EBF0F8"
             },
             "line": {
              "color": "white"
             }
            },
            "header": {
             "fill": {
              "color": "#C8D4E3"
             },
             "line": {
              "color": "white"
             }
            },
            "type": "table"
           }
          ]
         },
         "layout": {
          "annotationdefaults": {
           "arrowcolor": "#2a3f5f",
           "arrowhead": 0,
           "arrowwidth": 1
          },
          "autotypenumbers": "strict",
          "coloraxis": {
           "colorbar": {
            "outlinewidth": 0,
            "ticks": ""
           }
          },
          "colorscale": {
           "diverging": [
            [
             0,
             "#8e0152"
            ],
            [
             0.1,
             "#c51b7d"
            ],
            [
             0.2,
             "#de77ae"
            ],
            [
             0.3,
             "#f1b6da"
            ],
            [
             0.4,
             "#fde0ef"
            ],
            [
             0.5,
             "#f7f7f7"
            ],
            [
             0.6,
             "#e6f5d0"
            ],
            [
             0.7,
             "#b8e186"
            ],
            [
             0.8,
             "#7fbc41"
            ],
            [
             0.9,
             "#4d9221"
            ],
            [
             1,
             "#276419"
            ]
           ],
           "sequential": [
            [
             0,
             "#0d0887"
            ],
            [
             0.1111111111111111,
             "#46039f"
            ],
            [
             0.2222222222222222,
             "#7201a8"
            ],
            [
             0.3333333333333333,
             "#9c179e"
            ],
            [
             0.4444444444444444,
             "#bd3786"
            ],
            [
             0.5555555555555556,
             "#d8576b"
            ],
            [
             0.6666666666666666,
             "#ed7953"
            ],
            [
             0.7777777777777778,
             "#fb9f3a"
            ],
            [
             0.8888888888888888,
             "#fdca26"
            ],
            [
             1,
             "#f0f921"
            ]
           ],
           "sequentialminus": [
            [
             0,
             "#0d0887"
            ],
            [
             0.1111111111111111,
             "#46039f"
            ],
            [
             0.2222222222222222,
             "#7201a8"
            ],
            [
             0.3333333333333333,
             "#9c179e"
            ],
            [
             0.4444444444444444,
             "#bd3786"
            ],
            [
             0.5555555555555556,
             "#d8576b"
            ],
            [
             0.6666666666666666,
             "#ed7953"
            ],
            [
             0.7777777777777778,
             "#fb9f3a"
            ],
            [
             0.8888888888888888,
             "#fdca26"
            ],
            [
             1,
             "#f0f921"
            ]
           ]
          },
          "colorway": [
           "#636efa",
           "#EF553B",
           "#00cc96",
           "#ab63fa",
           "#FFA15A",
           "#19d3f3",
           "#FF6692",
           "#B6E880",
           "#FF97FF",
           "#FECB52"
          ],
          "font": {
           "color": "#2a3f5f"
          },
          "geo": {
           "bgcolor": "white",
           "lakecolor": "white",
           "landcolor": "white",
           "showlakes": true,
           "showland": true,
           "subunitcolor": "#C8D4E3"
          },
          "hoverlabel": {
           "align": "left"
          },
          "hovermode": "closest",
          "mapbox": {
           "style": "light"
          },
          "paper_bgcolor": "white",
          "plot_bgcolor": "white",
          "polar": {
           "angularaxis": {
            "gridcolor": "#EBF0F8",
            "linecolor": "#EBF0F8",
            "ticks": ""
           },
           "bgcolor": "white",
           "radialaxis": {
            "gridcolor": "#EBF0F8",
            "linecolor": "#EBF0F8",
            "ticks": ""
           }
          },
          "scene": {
           "xaxis": {
            "backgroundcolor": "white",
            "gridcolor": "#DFE8F3",
            "gridwidth": 2,
            "linecolor": "#EBF0F8",
            "showbackground": true,
            "ticks": "",
            "zerolinecolor": "#EBF0F8"
           },
           "yaxis": {
            "backgroundcolor": "white",
            "gridcolor": "#DFE8F3",
            "gridwidth": 2,
            "linecolor": "#EBF0F8",
            "showbackground": true,
            "ticks": "",
            "zerolinecolor": "#EBF0F8"
           },
           "zaxis": {
            "backgroundcolor": "white",
            "gridcolor": "#DFE8F3",
            "gridwidth": 2,
            "linecolor": "#EBF0F8",
            "showbackground": true,
            "ticks": "",
            "zerolinecolor": "#EBF0F8"
           }
          },
          "shapedefaults": {
           "line": {
            "color": "#2a3f5f"
           }
          },
          "ternary": {
           "aaxis": {
            "gridcolor": "#DFE8F3",
            "linecolor": "#A2B1C6",
            "ticks": ""
           },
           "baxis": {
            "gridcolor": "#DFE8F3",
            "linecolor": "#A2B1C6",
            "ticks": ""
           },
           "bgcolor": "white",
           "caxis": {
            "gridcolor": "#DFE8F3",
            "linecolor": "#A2B1C6",
            "ticks": ""
           }
          },
          "title": {
           "x": 0.05
          },
          "xaxis": {
           "automargin": true,
           "gridcolor": "#EBF0F8",
           "linecolor": "#EBF0F8",
           "ticks": "",
           "title": {
            "standoff": 15
           },
           "zerolinecolor": "#EBF0F8",
           "zerolinewidth": 2
          },
          "yaxis": {
           "automargin": true,
           "gridcolor": "#EBF0F8",
           "linecolor": "#EBF0F8",
           "ticks": "",
           "title": {
            "standoff": 15
           },
           "zerolinecolor": "#EBF0F8",
           "zerolinewidth": 2
          }
         }
        },
        "title": {
         "text": "Model Evaluation Results With cv_simple Method"
        },
        "yaxis": {
         "title": {
          "text": "Score"
         }
        }
       }
      }
     },
     "metadata": {},
     "output_type": "display_data"
    }
   ],
   "source": [
    "model ,df = mlpipe.bayesian_search(estimator_name='CatBoostClassifier',n_trials=15, missing_values='median')"
   ]
  },
  {
   "cell_type": "code",
   "execution_count": 46,
   "metadata": {},
   "outputs": [
    {
     "name": "stdout",
     "output_type": "stream",
     "text": [
      "Parameter 1: 0.76, Parameter 2: 0.845, Parameter Difference: -0.08499999999999996\n"
     ]
    }
   ],
   "source": [
    "import numpy as np\n",
    "from scipy.stats import f_oneway, ttest_ind\n",
    "\n",
    "# Example data: Mean complexity scores for different hyperparameters\n",
    "important_hyperparams_1 = {\n",
    "    'max_depth': [0.75],\n",
    "    'n_estimators': [0.77],\n",
    "    # 'learning_rate': [0.9]\n",
    "}\n",
    "\n",
    "important_hyperparams_2 = {\n",
    "    'max_depth': [0.85],\n",
    "    'n_estimators': [0.84],\n",
    "    # 'learning_rate': [0.8]\n",
    "}\n",
    "\n",
    "less_important_hyperparams = {\n",
    "    'min_samples_leaf': [0.75, 0.78],\n",
    "    'min_child_weight': [0.74, 0.77],\n",
    "    'gamma': [0.76, 0.79]\n",
    "}\n",
    "\n",
    "# Calculate means\n",
    "important_means_1 = np.mean([np.mean(scores) for scores in important_hyperparams_1.values()])\n",
    "important_means_2 = np.mean([np.mean(scores) for scores in important_hyperparams_2.values()])\n",
    "\n",
    "# less_important_means = [np.mean(scores) for scores in less_important_hyperparams.values()]\n",
    "\n",
    "print(f\"Parameter 1: {important_means_1}, Parameter 2: {important_means_2}, Parameter Difference: {important_means_1 - important_means_2}\")"
   ]
  },
  {
   "cell_type": "code",
   "execution_count": 13,
   "metadata": {},
   "outputs": [
    {
     "data": {
      "text/plain": [
       "array([0., 0., 0., 1., 0., 0., 0., 0., 0., 0.])"
      ]
     },
     "execution_count": 13,
     "metadata": {},
     "output_type": "execute_result"
    }
   ],
   "source": [
    "samples_counts = np.zeros(10)\n",
    "samples_counts[3] +=1\n",
    "samples_counts"
   ]
  },
  {
   "cell_type": "code",
   "execution_count": 9,
   "metadata": {},
   "outputs": [],
   "source": [
    "import numpy as np"
   ]
  },
  {
   "cell_type": "code",
   "execution_count": 14,
   "metadata": {},
   "outputs": [
    {
     "name": "stdout",
     "output_type": "stream",
     "text": [
      "0.0\n",
      "0.0\n",
      "0.0\n",
      "1.0\n",
      "0.0\n",
      "0.0\n",
      "0.0\n",
      "0.0\n",
      "0.0\n",
      "0.0\n"
     ]
    }
   ],
   "source": [
    "for i in samples_counts:\n",
    "    print(i)"
   ]
  },
  {
   "cell_type": "code",
   "execution_count": 5,
   "metadata": {},
   "outputs": [
    {
     "name": "stderr",
     "output_type": "stream",
     "text": [
      "[I 2024-07-05 21:51:04,057] A new study created in memory with name: no-name-f478a1a8-74bc-4773-a5dc-40e5b3723cf3\n",
      "[I 2024-07-05 21:51:04,149] Trial 1 finished with value: 0.9500000000000001 and parameters: {'C': 0.5295357139760623, 'kernel': 'rbf', 'gamma': 0.36190732697212463}. Best is trial 1 with value: 0.9500000000000001.\n",
      "[I 2024-07-05 21:51:04,172] Trial 4 finished with value: 0.9416666666666668 and parameters: {'C': 0.20592782276453386, 'kernel': 'poly', 'gamma': 0.9612114538483573}. Best is trial 1 with value: 0.9500000000000001.\n",
      "[I 2024-07-05 21:51:04,178] Trial 0 finished with value: 0.7333333333333334 and parameters: {'C': 0.2902145176469904, 'kernel': 'rbf', 'gamma': 0.013237285050805424}. Best is trial 1 with value: 0.9500000000000001.\n",
      "[I 2024-07-05 21:51:04,184] Trial 5 finished with value: 0.325 and parameters: {'C': 0.9336066846146562, 'kernel': 'sigmoid', 'gamma': 0.7082614051302398}. Best is trial 1 with value: 0.9500000000000001.\n",
      "[I 2024-07-05 21:51:04,193] Trial 6 finished with value: 0.9500000000000001 and parameters: {'C': 0.8381018049919132, 'kernel': 'rbf', 'gamma': 0.34133148908477967}. Best is trial 1 with value: 0.9500000000000001.\n",
      "[I 2024-07-05 21:51:04,212] Trial 3 finished with value: 0.2416666666666667 and parameters: {'C': 0.08216413423666045, 'kernel': 'sigmoid', 'gamma': 0.19967276180634083}. Best is trial 1 with value: 0.9500000000000001.\n",
      "[I 2024-07-05 21:51:04,232] Trial 2 finished with value: 0.9666666666666667 and parameters: {'C': 0.4747264902065602, 'kernel': 'linear', 'gamma': 0.6983833886917294}. Best is trial 2 with value: 0.9666666666666667.\n",
      "[I 2024-07-05 21:51:04,245] Trial 7 finished with value: 0.975 and parameters: {'C': 0.9349413205484218, 'kernel': 'linear', 'gamma': 0.11900378926516163}. Best is trial 7 with value: 0.975.\n",
      "[I 2024-07-05 21:51:04,257] Trial 9 finished with value: 0.3416666666666666 and parameters: {'C': 0.8248100888409801, 'kernel': 'sigmoid', 'gamma': 0.7359477661555631}. Best is trial 7 with value: 0.975.\n",
      "[I 2024-07-05 21:51:04,272] Trial 8 finished with value: 0.9500000000000001 and parameters: {'C': 0.14398498275157495, 'kernel': 'linear', 'gamma': 0.7501423525772609}. Best is trial 7 with value: 0.975.\n",
      "[I 2024-07-05 21:51:04,286] Trial 12 finished with value: 0.9416666666666668 and parameters: {'C': 0.7966043805768662, 'kernel': 'rbf', 'gamma': 0.02295671325242095}. Best is trial 7 with value: 0.975.\n",
      "[I 2024-07-05 21:51:04,300] Trial 10 finished with value: 0.9416666666666668 and parameters: {'C': 0.50193195380426, 'kernel': 'poly', 'gamma': 0.6666788450010056}. Best is trial 7 with value: 0.975.\n",
      "[I 2024-07-05 21:51:04,308] Trial 11 finished with value: 0.9500000000000001 and parameters: {'C': 0.8214812249804648, 'kernel': 'rbf', 'gamma': 0.4303908996252167}. Best is trial 7 with value: 0.975.\n",
      "[I 2024-07-05 21:51:04,328] Trial 13 finished with value: 0.9333333333333332 and parameters: {'C': 0.981371095362523, 'kernel': 'poly', 'gamma': 0.7898537670260812}. Best is trial 7 with value: 0.975.\n",
      "[I 2024-07-05 21:51:04,410] Trial 14 finished with value: 0.9499999999999998 and parameters: {'C': 0.1445232219227384, 'kernel': 'rbf', 'gamma': 0.31087873376120323}. Best is trial 7 with value: 0.975.\n",
      "[I 2024-07-05 21:51:04,465] Trial 15 finished with value: 0.9500000000000001 and parameters: {'C': 0.5580365780755701, 'kernel': 'linear', 'gamma': 0.5432799779076498}. Best is trial 7 with value: 0.975.\n",
      "[I 2024-07-05 21:51:04,472] Trial 16 finished with value: 0.9500000000000001 and parameters: {'C': 0.5585854898841616, 'kernel': 'linear', 'gamma': 0.5735741124755869}. Best is trial 7 with value: 0.975.\n",
      "[I 2024-07-05 21:51:04,489] Trial 17 finished with value: 0.9500000000000001 and parameters: {'C': 0.5835034791513082, 'kernel': 'linear', 'gamma': 0.5486024947116968}. Best is trial 7 with value: 0.975.\n",
      "[I 2024-07-05 21:51:04,516] Trial 18 finished with value: 0.9500000000000001 and parameters: {'C': 0.5786898840484651, 'kernel': 'linear', 'gamma': 0.5524176221809133}. Best is trial 7 with value: 0.975.\n",
      "[I 2024-07-05 21:51:04,554] Trial 19 finished with value: 0.9500000000000001 and parameters: {'C': 0.5779367984645982, 'kernel': 'linear', 'gamma': 0.5838042380058345}. Best is trial 7 with value: 0.975.\n",
      "[I 2024-07-05 21:51:04,588] Trial 21 finished with value: 0.9500000000000001 and parameters: {'C': 0.5257469325332131, 'kernel': 'linear', 'gamma': 0.5887265058725617}. Best is trial 7 with value: 0.975.\n",
      "[I 2024-07-05 21:51:04,643] Trial 20 finished with value: 0.9500000000000001 and parameters: {'C': 0.5857658740332206, 'kernel': 'linear', 'gamma': 0.5505912040974259}. Best is trial 7 with value: 0.975.\n",
      "[I 2024-07-05 21:51:04,670] Trial 23 finished with value: 0.9583333333333334 and parameters: {'C': 0.3673383817188218, 'kernel': 'linear', 'gamma': 0.9032202065701035}. Best is trial 7 with value: 0.975.\n",
      "[I 2024-07-05 21:51:04,712] Trial 24 finished with value: 0.9666666666666667 and parameters: {'C': 0.39936500944198494, 'kernel': 'linear', 'gamma': 0.18957773240166947}. Best is trial 7 with value: 0.975.\n",
      "[I 2024-07-05 21:51:04,715] Trial 22 finished with value: 0.9666666666666667 and parameters: {'C': 0.3984137595655707, 'kernel': 'linear', 'gamma': 0.5526978971760546}. Best is trial 7 with value: 0.975.\n",
      "[I 2024-07-05 21:51:04,719] Trial 25 finished with value: 0.9583333333333334 and parameters: {'C': 0.3913134535809085, 'kernel': 'linear', 'gamma': 0.17451632261838101}. Best is trial 7 with value: 0.975.\n",
      "[I 2024-07-05 21:51:04,761] Trial 26 finished with value: 0.9666666666666667 and parameters: {'C': 0.39688382424898383, 'kernel': 'linear', 'gamma': 0.12819552615400823}. Best is trial 7 with value: 0.975.\n",
      "[I 2024-07-05 21:51:04,793] Trial 28 finished with value: 0.9666666666666667 and parameters: {'C': 0.36651993425263996, 'kernel': 'rbf', 'gamma': 0.1328191536151617}. Best is trial 7 with value: 0.975.\n",
      "[I 2024-07-05 21:51:04,798] Trial 27 finished with value: 0.9666666666666667 and parameters: {'C': 0.4152401190406156, 'kernel': 'linear', 'gamma': 0.16020736302994984}. Best is trial 7 with value: 0.975.\n",
      "[I 2024-07-05 21:51:04,932] Trial 29 finished with value: 0.9583333333333334 and parameters: {'C': 0.3881914646368863, 'kernel': 'linear', 'gamma': 0.8995422184624302}. Best is trial 7 with value: 0.975.\n",
      "[I 2024-07-05 21:51:04,965] Trial 30 finished with value: 0.9500000000000001 and parameters: {'C': 0.7011650487575358, 'kernel': 'linear', 'gamma': 0.8389128032104278}. Best is trial 7 with value: 0.975.\n",
      "[I 2024-07-05 21:51:04,973] Trial 32 finished with value: 0.9500000000000001 and parameters: {'C': 0.7085961693981286, 'kernel': 'linear', 'gamma': 0.45421443881090046}. Best is trial 7 with value: 0.975.\n",
      "[I 2024-07-05 21:51:05,011] Trial 31 finished with value: 0.9500000000000001 and parameters: {'C': 0.6756000924023178, 'kernel': 'linear', 'gamma': 0.45248553494141913}. Best is trial 7 with value: 0.975.\n",
      "[I 2024-07-05 21:51:05,018] Trial 33 finished with value: 0.9500000000000001 and parameters: {'C': 0.7075627897653483, 'kernel': 'linear', 'gamma': 0.4444404340167504}. Best is trial 7 with value: 0.975.\n",
      "[I 2024-07-05 21:51:05,074] Trial 35 finished with value: 0.9500000000000001 and parameters: {'C': 0.6730846980279876, 'kernel': 'linear', 'gamma': 0.4674000102628059}. Best is trial 7 with value: 0.975.\n",
      "[I 2024-07-05 21:51:05,085] Trial 36 finished with value: 0.9500000000000001 and parameters: {'C': 0.2603820184826683, 'kernel': 'linear', 'gamma': 0.4380091355144638}. Best is trial 7 with value: 0.975.\n",
      "[I 2024-07-05 21:51:05,131] Trial 34 finished with value: 0.9500000000000001 and parameters: {'C': 0.6994857068787179, 'kernel': 'linear', 'gamma': 0.44967932576869907}. Best is trial 7 with value: 0.975.\n",
      "[I 2024-07-05 21:51:05,192] Trial 37 finished with value: 0.9583333333333334 and parameters: {'C': 0.6877627116916725, 'kernel': 'poly', 'gamma': 0.39254108559618056}. Best is trial 7 with value: 0.975.\n",
      "[I 2024-07-05 21:51:05,207] Trial 39 finished with value: 0.9583333333333334 and parameters: {'C': 0.2889415708828543, 'kernel': 'linear', 'gamma': 0.03964109705666018}. Best is trial 7 with value: 0.975.\n",
      "[I 2024-07-05 21:51:05,273] Trial 38 finished with value: 0.9583333333333334 and parameters: {'C': 0.28780216463985003, 'kernel': 'linear', 'gamma': 0.031051206864970204}. Best is trial 7 with value: 0.975.\n",
      "[I 2024-07-05 21:51:05,327] Trial 44 finished with value: 0.2333333333333333 and parameters: {'C': 0.45240503518734765, 'kernel': 'sigmoid', 'gamma': 0.23917792776998442}. Best is trial 7 with value: 0.975.\n",
      "[I 2024-07-05 21:51:05,329] Trial 40 finished with value: 0.2416666666666667 and parameters: {'C': 0.28951933686250075, 'kernel': 'sigmoid', 'gamma': 0.23319859010420185}. Best is trial 7 with value: 0.975.\n",
      "[I 2024-07-05 21:51:05,367] Trial 41 finished with value: 0.2416666666666667 and parameters: {'C': 0.25914647597507434, 'kernel': 'sigmoid', 'gamma': 0.23482800416708732}. Best is trial 7 with value: 0.975.\n",
      "[I 2024-07-05 21:51:05,404] Trial 42 finished with value: 0.225 and parameters: {'C': 0.46225814235320667, 'kernel': 'sigmoid', 'gamma': 0.2575339585501855}. Best is trial 7 with value: 0.975.\n",
      "[I 2024-07-05 21:51:05,449] Trial 43 finished with value: 0.2333333333333333 and parameters: {'C': 0.45743724999916796, 'kernel': 'sigmoid', 'gamma': 0.24808439696814705}. Best is trial 7 with value: 0.975.\n",
      "[I 2024-07-05 21:51:05,494] Trial 46 finished with value: 0.18333333333333335 and parameters: {'C': 0.4689798793467752, 'kernel': 'sigmoid', 'gamma': 0.2740720038214399}. Best is trial 7 with value: 0.975.\n",
      "[I 2024-07-05 21:51:05,498] Trial 48 finished with value: 0.19166666666666668 and parameters: {'C': 0.47469950488343554, 'kernel': 'sigmoid', 'gamma': 0.27815317692866887}. Best is trial 7 with value: 0.975.\n",
      "[I 2024-07-05 21:51:05,533] Trial 45 finished with value: 0.2333333333333333 and parameters: {'C': 0.4794170884614776, 'kernel': 'sigmoid', 'gamma': 0.23973481269710772}. Best is trial 7 with value: 0.975.\n",
      "[I 2024-07-05 21:51:05,537] Trial 47 finished with value: 0.2333333333333333 and parameters: {'C': 0.47148223942466105, 'kernel': 'sigmoid', 'gamma': 0.2516667674890988}. Best is trial 7 with value: 0.975.\n",
      "[I 2024-07-05 21:51:05,549] Trial 50 finished with value: 0.9500000000000001 and parameters: {'C': 0.46655990494106103, 'kernel': 'poly', 'gamma': 0.11453643613914077}. Best is trial 7 with value: 0.975.\n",
      "[I 2024-07-05 21:51:05,557] Trial 49 finished with value: 0.3416666666666666 and parameters: {'C': 0.47715157317990453, 'kernel': 'sigmoid', 'gamma': 0.29014264628306985}. Best is trial 7 with value: 0.975.\n",
      "[I 2024-07-05 21:51:05,623] Trial 51 finished with value: 0.9500000000000001 and parameters: {'C': 0.465357910895591, 'kernel': 'poly', 'gamma': 0.08368167886186155}. Best is trial 7 with value: 0.975.\n",
      "[I 2024-07-05 21:51:05,663] Trial 52 finished with value: 0.9583333333333334 and parameters: {'C': 0.33359925751873937, 'kernel': 'linear', 'gamma': 0.1032916834962454}. Best is trial 7 with value: 0.975.\n",
      "[I 2024-07-05 21:51:05,764] Trial 54 finished with value: 0.9500000000000001 and parameters: {'C': 0.3434056924802205, 'kernel': 'poly', 'gamma': 0.09622369410909681}. Best is trial 7 with value: 0.975.\n",
      "[I 2024-07-05 21:51:05,775] Trial 53 finished with value: 0.9500000000000001 and parameters: {'C': 0.3398217463020026, 'kernel': 'poly', 'gamma': 0.08137287527766127}. Best is trial 7 with value: 0.975.\n",
      "[I 2024-07-05 21:51:05,836] Trial 56 finished with value: 0.9666666666666667 and parameters: {'C': 0.41915795367154157, 'kernel': 'linear', 'gamma': 0.6572027508147602}. Best is trial 7 with value: 0.975.\n",
      "[I 2024-07-05 21:51:05,849] Trial 57 finished with value: 0.9666666666666667 and parameters: {'C': 0.415333289456051, 'kernel': 'linear', 'gamma': 0.6501438313720518}. Best is trial 7 with value: 0.975.\n",
      "[I 2024-07-05 21:51:05,882] Trial 58 finished with value: 0.9583333333333334 and parameters: {'C': 0.3396119844493323, 'kernel': 'linear', 'gamma': 0.6387638851665999}. Best is trial 7 with value: 0.975.\n",
      "[I 2024-07-05 21:51:05,886] Trial 55 finished with value: 0.9583333333333334 and parameters: {'C': 0.1715621224303641, 'kernel': 'linear', 'gamma': 0.65718877731529}. Best is trial 7 with value: 0.975.\n",
      "[I 2024-07-05 21:51:05,908] Trial 60 finished with value: 0.9666666666666667 and parameters: {'C': 0.4161645883211548, 'kernel': 'linear', 'gamma': 0.6484826970530544}. Best is trial 7 with value: 0.975.\n",
      "[I 2024-07-05 21:51:05,910] Trial 59 finished with value: 0.9666666666666667 and parameters: {'C': 0.4026823497326015, 'kernel': 'linear', 'gamma': 0.6509799663112563}. Best is trial 7 with value: 0.975.\n",
      "[I 2024-07-05 21:51:05,936] Trial 62 finished with value: 0.9666666666666667 and parameters: {'C': 0.4149607370567588, 'kernel': 'linear', 'gamma': 0.17912969528136347}. Best is trial 7 with value: 0.975.\n",
      "[I 2024-07-05 21:51:06,012] Trial 61 finished with value: 0.9666666666666667 and parameters: {'C': 0.41556094184445425, 'kernel': 'linear', 'gamma': 0.6728491566777431}. Best is trial 7 with value: 0.975.\n",
      "[I 2024-07-05 21:51:06,053] Trial 63 finished with value: 0.9666666666666667 and parameters: {'C': 0.4210397829868563, 'kernel': 'linear', 'gamma': 0.6329752749857822}. Best is trial 7 with value: 0.975.\n",
      "[I 2024-07-05 21:51:06,098] Trial 65 finished with value: 0.9416666666666668 and parameters: {'C': 0.17799593029185512, 'kernel': 'rbf', 'gamma': 0.1649245569838062}. Best is trial 7 with value: 0.975.\n",
      "[I 2024-07-05 21:51:06,164] Trial 67 finished with value: 0.9416666666666668 and parameters: {'C': 0.9057094045299389, 'kernel': 'rbf', 'gamma': 0.16285863814626683}. Best is trial 7 with value: 0.975.\n",
      "[I 2024-07-05 21:51:06,169] Trial 64 finished with value: 0.9666666666666667 and parameters: {'C': 0.42336267683590467, 'kernel': 'linear', 'gamma': 0.6538787273387011}. Best is trial 7 with value: 0.975.\n",
      "[I 2024-07-05 21:51:06,171] Trial 69 finished with value: 0.9416666666666668 and parameters: {'C': 0.9045318114209135, 'kernel': 'rbf', 'gamma': 0.1567577718148425}. Best is trial 7 with value: 0.975.\n",
      "[I 2024-07-05 21:51:06,177] Trial 66 finished with value: 0.6750000000000002 and parameters: {'C': 0.033028022377508126, 'kernel': 'rbf', 'gamma': 0.19462564074269395}. Best is trial 7 with value: 0.975.\n",
      "[I 2024-07-05 21:51:06,232] Trial 68 finished with value: 0.9500000000000001 and parameters: {'C': 0.6300605800057894, 'kernel': 'rbf', 'gamma': 0.14425292945133078}. Best is trial 7 with value: 0.975.\n",
      "[I 2024-07-05 21:51:06,235] Trial 70 finished with value: 0.6750000000000002 and parameters: {'C': 0.042439936562044256, 'kernel': 'rbf', 'gamma': 0.14469851894435534}. Best is trial 7 with value: 0.975.\n",
      "[I 2024-07-05 21:51:06,271] Trial 71 finished with value: 0.9583333333333334 and parameters: {'C': 0.3740777153713093, 'kernel': 'rbf', 'gamma': 0.15060061041523934}. Best is trial 7 with value: 0.975.\n",
      "[I 2024-07-05 21:51:06,335] Trial 72 finished with value: 0.9500000000000001 and parameters: {'C': 0.5193894656010546, 'kernel': 'rbf', 'gamma': 0.13407702996212056}. Best is trial 7 with value: 0.975.\n",
      "[I 2024-07-05 21:51:06,347] Trial 73 finished with value: 0.9500000000000001 and parameters: {'C': 0.5257270757669839, 'kernel': 'rbf', 'gamma': 0.33629722244663285}. Best is trial 7 with value: 0.975.\n",
      "[I 2024-07-05 21:51:06,418] Trial 75 finished with value: 0.9500000000000001 and parameters: {'C': 0.6222477076375472, 'kernel': 'rbf', 'gamma': 0.1322401962318375}. Best is trial 7 with value: 0.975.\n",
      "[I 2024-07-05 21:51:06,431] Trial 76 finished with value: 0.9500000000000001 and parameters: {'C': 0.5226873299013627, 'kernel': 'rbf', 'gamma': 0.3372992263329013}. Best is trial 7 with value: 0.975.\n",
      "[I 2024-07-05 21:51:06,485] Trial 77 finished with value: 0.9500000000000001 and parameters: {'C': 0.5172728840610464, 'kernel': 'linear', 'gamma': 0.7641297399250856}. Best is trial 7 with value: 0.975.\n",
      "[I 2024-07-05 21:51:06,506] Trial 78 finished with value: 0.9500000000000001 and parameters: {'C': 0.517618182744414, 'kernel': 'linear', 'gamma': 0.7350727203407676}. Best is trial 7 with value: 0.975.\n",
      "[I 2024-07-05 21:51:06,526] Trial 74 finished with value: 0.9500000000000001 and parameters: {'C': 0.5321532946519916, 'kernel': 'rbf', 'gamma': 0.511441464518497}. Best is trial 7 with value: 0.975.\n",
      "[I 2024-07-05 21:51:06,593] Trial 79 finished with value: 0.9500000000000001 and parameters: {'C': 0.5129972286190787, 'kernel': 'linear', 'gamma': 0.762099913437606}. Best is trial 7 with value: 0.975.\n",
      "[I 2024-07-05 21:51:06,673] Trial 81 finished with value: 0.9583333333333334 and parameters: {'C': 0.3169054638449668, 'kernel': 'linear', 'gamma': 0.7313665137110347}. Best is trial 7 with value: 0.975.\n",
      "[I 2024-07-05 21:51:06,693] Trial 80 finished with value: 0.9583333333333334 and parameters: {'C': 0.3147729340922557, 'kernel': 'linear', 'gamma': 0.7578044337069392}. Best is trial 7 with value: 0.975.\n",
      "[I 2024-07-05 21:51:06,713] Trial 82 finished with value: 0.9583333333333334 and parameters: {'C': 0.2350769585239589, 'kernel': 'linear', 'gamma': 0.7226384345228581}. Best is trial 7 with value: 0.975.\n",
      "[I 2024-07-05 21:51:06,742] Trial 83 finished with value: 0.9583333333333334 and parameters: {'C': 0.37071036029140714, 'kernel': 'linear', 'gamma': 0.7559976899186254}. Best is trial 7 with value: 0.975.\n",
      "[I 2024-07-05 21:51:06,873] Trial 86 finished with value: 0.9583333333333334 and parameters: {'C': 0.3673141572811234, 'kernel': 'linear', 'gamma': 0.5134908478829342}. Best is trial 7 with value: 0.975.\n",
      "[I 2024-07-05 21:51:06,910] Trial 84 finished with value: 0.9583333333333334 and parameters: {'C': 0.3122398409822909, 'kernel': 'linear', 'gamma': 0.5054151522065717}. Best is trial 7 with value: 0.975.\n",
      "[I 2024-07-05 21:51:06,956] Trial 88 finished with value: 0.9583333333333334 and parameters: {'C': 0.23633331763199963, 'kernel': 'linear', 'gamma': 0.04936857051999513}. Best is trial 7 with value: 0.975.\n",
      "[I 2024-07-05 21:51:06,968] Trial 89 finished with value: 0.9583333333333334 and parameters: {'C': 0.2423268874768905, 'kernel': 'linear', 'gamma': 0.06701305344808381}. Best is trial 7 with value: 0.975.\n",
      "[I 2024-07-05 21:51:06,993] Trial 91 finished with value: 0.9583333333333334 and parameters: {'C': 0.36859258179789023, 'kernel': 'linear', 'gamma': 0.05564276960431912}. Best is trial 7 with value: 0.975.\n",
      "[I 2024-07-05 21:51:07,002] Trial 87 finished with value: 0.9583333333333334 and parameters: {'C': 0.36644511047082595, 'kernel': 'linear', 'gamma': 0.5033162530716812}. Best is trial 7 with value: 0.975.\n",
      "[I 2024-07-05 21:51:07,022] Trial 85 finished with value: 0.975 and parameters: {'C': 0.7852958362945321, 'kernel': 'linear', 'gamma': 0.06351868259890743}. Best is trial 7 with value: 0.975.\n",
      "[I 2024-07-05 21:51:07,059] Trial 90 finished with value: 0.9583333333333334 and parameters: {'C': 0.23617516443985315, 'kernel': 'linear', 'gamma': 0.7009508811690532}. Best is trial 7 with value: 0.975.\n",
      "[I 2024-07-05 21:51:07,086] Trial 93 finished with value: 0.9583333333333334 and parameters: {'C': 0.3814980132600984, 'kernel': 'linear', 'gamma': 0.6115335272029975}. Best is trial 7 with value: 0.975.\n",
      "[I 2024-07-05 21:51:07,102] Trial 92 finished with value: 0.9583333333333334 and parameters: {'C': 0.37179791246868504, 'kernel': 'linear', 'gamma': 0.6934406873068507}. Best is trial 7 with value: 0.975.\n",
      "[I 2024-07-05 21:51:07,123] Trial 95 finished with value: 0.9583333333333334 and parameters: {'C': 0.36223404665689674, 'kernel': 'linear', 'gamma': 0.5992739103685527}. Best is trial 7 with value: 0.975.\n",
      "[I 2024-07-05 21:51:07,145] Trial 94 finished with value: 0.9666666666666667 and parameters: {'C': 0.4452728778651728, 'kernel': 'linear', 'gamma': 0.6032270212601432}. Best is trial 7 with value: 0.975.\n",
      "[I 2024-07-05 21:51:07,163] Trial 96 finished with value: 0.9583333333333334 and parameters: {'C': 0.36081354164643303, 'kernel': 'linear', 'gamma': 0.6904005362985546}. Best is trial 7 with value: 0.975.\n",
      "[I 2024-07-05 21:51:07,165] Trial 99 finished with value: 0.975 and parameters: {'C': 0.7850611250772358, 'kernel': 'linear', 'gamma': 0.6129172008748487}. Best is trial 7 with value: 0.975.\n",
      "[I 2024-07-05 21:51:07,169] Trial 98 finished with value: 0.975 and parameters: {'C': 0.7791378067494497, 'kernel': 'linear', 'gamma': 0.6958198786304804}. Best is trial 7 with value: 0.975.\n",
      "[I 2024-07-05 21:51:07,179] Trial 97 finished with value: 0.9666666666666667 and parameters: {'C': 0.4406755982579123, 'kernel': 'linear', 'gamma': 0.6104690890281559}. Best is trial 7 with value: 0.975.\n"
     ]
    },
    {
     "name": "stdout",
     "output_type": "stream",
     "text": [
      "Best parameters: {'C': 0.9349413205484218, 'kernel': 'linear', 'gamma': 0.11900378926516163}\n",
      "Accuracy: 1.0\n"
     ]
    }
   ],
   "source": [
    "import optuna\n",
    "from sklearn import datasets\n",
    "from sklearn.model_selection import train_test_split\n",
    "from sklearn.svm import SVC\n",
    "from optuna.integration import OptunaSearchCV\n",
    "from sklearn.metrics import accuracy_score\n",
    "\n",
    "# Load data\n",
    "iris = datasets.load_iris()\n",
    "X, y = iris.data, iris.target\n",
    "\n",
    "# Split data into training and test sets\n",
    "X_train, X_test, y_train, y_test = train_test_split(X, y, test_size=0.2, random_state=42)\n",
    "\n",
    "# Define a simple model\n",
    "model = SVC()\n",
    "\n",
    "# Create a parameter distribution dictionary\n",
    "param_distributions = {\n",
    "    'C': optuna.distributions.FloatDistribution(0.01, 1),\n",
    "    'kernel': optuna.distributions.CategoricalDistribution(['linear', 'poly', 'rbf', 'sigmoid']),\n",
    "    'gamma': optuna.distributions.FloatDistribution(0.01, 1)\n",
    "}\n",
    "\n",
    "# Setup OptunaSearchCV\n",
    "optuna_search = OptunaSearchCV(\n",
    "    model,\n",
    "    param_distributions,\n",
    "    cv=3,\n",
    "    return_train_score=True,\n",
    "    n_trials=100,  # Number of trials to conduct\n",
    "    timeout=600,   # Stop study after 600 seconds\n",
    "    n_jobs=-1      # Use all available CPUs\n",
    ")\n",
    "\n",
    "# Fit the OptunaSearchCV to find the best hyperparameters\n",
    "optuna_search.fit(X_train, y_train)\n",
    "\n",
    "# Best parameters found\n",
    "print(\"Best parameters:\", optuna_search.best_params_)\n",
    "\n",
    "# Predict using the best model\n",
    "predictions = optuna_search.predict(X_test)\n",
    "accuracy = accuracy_score(y_test, predictions)\n",
    "print(\"Accuracy:\", accuracy)\n"
   ]
  },
  {
   "cell_type": "code",
   "execution_count": 9,
   "metadata": {},
   "outputs": [
    {
     "data": {
      "text/plain": [
       "[FrozenTrial(number=0, state=1, values=[0.7333333333333334], datetime_start=datetime.datetime(2024, 7, 5, 21, 51, 4, 60412), datetime_complete=datetime.datetime(2024, 7, 5, 21, 51, 4, 178575), params={'C': 0.2902145176469904, 'kernel': 'rbf', 'gamma': 0.013237285050805424}, user_attrs={'mean_fit_time': 0.017210642496744793, 'std_fit_time': 0.008458070571432984, 'mean_score_time': 0.006486733754475911, 'std_score_time': 0.004938715149793585, 'split0_test_score': 0.775, 'split1_test_score': 0.7, 'split2_test_score': 0.725, 'mean_test_score': 0.7333333333333334, 'std_test_score': 0.031180478223116204, 'split0_train_score': 0.7, 'split1_train_score': 0.75, 'split2_train_score': 0.7375, 'mean_train_score': 0.7291666666666666, 'std_train_score': 0.021245914639969964}, system_attrs={'terminator:cv_scores': [0.775, 0.7, 0.725]}, intermediate_values={}, distributions={'C': FloatDistribution(high=1.0, log=False, low=0.01, step=None), 'kernel': CategoricalDistribution(choices=('linear', 'poly', 'rbf', 'sigmoid')), 'gamma': FloatDistribution(high=1.0, log=False, low=0.01, step=None)}, trial_id=0, value=None),\n",
       " FrozenTrial(number=1, state=1, values=[0.9500000000000001], datetime_start=datetime.datetime(2024, 7, 5, 21, 51, 4, 67747), datetime_complete=datetime.datetime(2024, 7, 5, 21, 51, 4, 148616), params={'C': 0.5295357139760623, 'kernel': 'rbf', 'gamma': 0.36190732697212463}, user_attrs={'mean_fit_time': 0.014078776041666666, 'std_fit_time': 0.008649751519216573, 'mean_score_time': 0.005309263865152995, 'std_score_time': 0.00300655629109779, 'split0_test_score': 0.975, 'split1_test_score': 0.9, 'split2_test_score': 0.975, 'mean_test_score': 0.9500000000000001, 'std_test_score': 0.035355339059327355, 'split0_train_score': 0.95, 'split1_train_score': 1.0, 'split2_train_score': 0.95, 'mean_train_score': 0.9666666666666667, 'std_train_score': 0.023570226039551608}, system_attrs={'terminator:cv_scores': [0.975, 0.9, 0.975]}, intermediate_values={}, distributions={'C': FloatDistribution(high=1.0, log=False, low=0.01, step=None), 'kernel': CategoricalDistribution(choices=('linear', 'poly', 'rbf', 'sigmoid')), 'gamma': FloatDistribution(high=1.0, log=False, low=0.01, step=None)}, trial_id=1, value=None),\n",
       " FrozenTrial(number=2, state=1, values=[0.9666666666666667], datetime_start=datetime.datetime(2024, 7, 5, 21, 51, 4, 74082), datetime_complete=datetime.datetime(2024, 7, 5, 21, 51, 4, 231918), params={'C': 0.4747264902065602, 'kernel': 'linear', 'gamma': 0.6983833886917294}, user_attrs={'mean_fit_time': 0.02094610532124837, 'std_fit_time': 0.012559302547139627, 'mean_score_time': 0.00865467389424642, 'std_score_time': 0.0046491259073534515, 'split0_test_score': 1.0, 'split1_test_score': 0.9, 'split2_test_score': 1.0, 'mean_test_score': 0.9666666666666667, 'std_test_score': 0.04714045207910316, 'split0_train_score': 0.9875, 'split1_train_score': 1.0, 'split2_train_score': 0.95, 'mean_train_score': 0.9791666666666666, 'std_train_score': 0.021245914639969964}, system_attrs={'terminator:cv_scores': [1.0, 0.9, 1.0]}, intermediate_values={}, distributions={'C': FloatDistribution(high=1.0, log=False, low=0.01, step=None), 'kernel': CategoricalDistribution(choices=('linear', 'poly', 'rbf', 'sigmoid')), 'gamma': FloatDistribution(high=1.0, log=False, low=0.01, step=None)}, trial_id=2, value=None),\n",
       " FrozenTrial(number=3, state=1, values=[0.2416666666666667], datetime_start=datetime.datetime(2024, 7, 5, 21, 51, 4, 80877), datetime_complete=datetime.datetime(2024, 7, 5, 21, 51, 4, 212119), params={'C': 0.08216413423666045, 'kernel': 'sigmoid', 'gamma': 0.19967276180634083}, user_attrs={'mean_fit_time': 0.018395344416300457, 'std_fit_time': 0.003632831054905349, 'mean_score_time': 0.008200248082478842, 'std_score_time': 0.003417524471018165, 'split0_test_score': 0.325, 'split1_test_score': 0.2, 'split2_test_score': 0.2, 'mean_test_score': 0.2416666666666667, 'std_test_score': 0.05892556509887896, 'split0_train_score': 0.35, 'split1_train_score': 0.2375, 'split2_train_score': 0.2375, 'mean_train_score': 0.27499999999999997, 'std_train_score': 0.05303300858899106}, system_attrs={'terminator:cv_scores': [0.325, 0.2, 0.2]}, intermediate_values={}, distributions={'C': FloatDistribution(high=1.0, log=False, low=0.01, step=None), 'kernel': CategoricalDistribution(choices=('linear', 'poly', 'rbf', 'sigmoid')), 'gamma': FloatDistribution(high=1.0, log=False, low=0.01, step=None)}, trial_id=3, value=None),\n",
       " FrozenTrial(number=4, state=1, values=[0.9416666666666668], datetime_start=datetime.datetime(2024, 7, 5, 21, 51, 4, 84172), datetime_complete=datetime.datetime(2024, 7, 5, 21, 51, 4, 172238), params={'C': 0.20592782276453386, 'kernel': 'poly', 'gamma': 0.9612114538483573}, user_attrs={'mean_fit_time': 0.009521881739298502, 'std_fit_time': 0.0032147481377670924, 'mean_score_time': 0.0050353209177653, 'std_score_time': 0.003012949843219676, 'split0_test_score': 0.95, 'split1_test_score': 0.9, 'split2_test_score': 0.975, 'mean_test_score': 0.9416666666666668, 'std_test_score': 0.03118047822311616, 'split0_train_score': 0.9875, 'split1_train_score': 1.0, 'split2_train_score': 0.975, 'mean_train_score': 0.9874999999999999, 'std_train_score': 0.010206207261596585}, system_attrs={'terminator:cv_scores': [0.95, 0.9, 0.975]}, intermediate_values={}, distributions={'C': FloatDistribution(high=1.0, log=False, low=0.01, step=None), 'kernel': CategoricalDistribution(choices=('linear', 'poly', 'rbf', 'sigmoid')), 'gamma': FloatDistribution(high=1.0, log=False, low=0.01, step=None)}, trial_id=4, value=None),\n",
       " FrozenTrial(number=5, state=1, values=[0.325], datetime_start=datetime.datetime(2024, 7, 5, 21, 51, 4, 88127), datetime_complete=datetime.datetime(2024, 7, 5, 21, 51, 4, 183766), params={'C': 0.9336066846146562, 'kernel': 'sigmoid', 'gamma': 0.7082614051302398}, user_attrs={'mean_fit_time': 0.0075072447458903, 'std_fit_time': 0.0036889896495498676, 'mean_score_time': 0.008132219314575195, 'std_score_time': 0.0009578715191403441, 'split0_test_score': 0.325, 'split1_test_score': 0.325, 'split2_test_score': 0.325, 'mean_test_score': 0.325, 'std_test_score': 0.0, 'split0_train_score': 0.35, 'split1_train_score': 0.3375, 'split2_train_score': 0.3375, 'mean_train_score': 0.3416666666666666, 'std_train_score': 0.005892556509887875}, system_attrs={'terminator:cv_scores': [0.325, 0.325, 0.325]}, intermediate_values={}, distributions={'C': FloatDistribution(high=1.0, log=False, low=0.01, step=None), 'kernel': CategoricalDistribution(choices=('linear', 'poly', 'rbf', 'sigmoid')), 'gamma': FloatDistribution(high=1.0, log=False, low=0.01, step=None)}, trial_id=5, value=None),\n",
       " FrozenTrial(number=6, state=1, values=[0.9500000000000001], datetime_start=datetime.datetime(2024, 7, 5, 21, 51, 4, 97810), datetime_complete=datetime.datetime(2024, 7, 5, 21, 51, 4, 193124), params={'C': 0.8381018049919132, 'kernel': 'rbf', 'gamma': 0.34133148908477967}, user_attrs={'mean_fit_time': 0.007735649744669597, 'std_fit_time': 0.006887200908241352, 'mean_score_time': 0.009674866994222006, 'std_score_time': 0.005386144655175152, 'split0_test_score': 0.975, 'split1_test_score': 0.9, 'split2_test_score': 0.975, 'mean_test_score': 0.9500000000000001, 'std_test_score': 0.035355339059327355, 'split0_train_score': 0.9625, 'split1_train_score': 1.0, 'split2_train_score': 0.9625, 'mean_train_score': 0.975, 'std_train_score': 0.017677669529663678}, system_attrs={'terminator:cv_scores': [0.975, 0.9, 0.975]}, intermediate_values={}, distributions={'C': FloatDistribution(high=1.0, log=False, low=0.01, step=None), 'kernel': CategoricalDistribution(choices=('linear', 'poly', 'rbf', 'sigmoid')), 'gamma': FloatDistribution(high=1.0, log=False, low=0.01, step=None)}, trial_id=6, value=None),\n",
       " FrozenTrial(number=7, state=1, values=[0.975], datetime_start=datetime.datetime(2024, 7, 5, 21, 51, 4, 105301), datetime_complete=datetime.datetime(2024, 7, 5, 21, 51, 4, 245639), params={'C': 0.9349413205484218, 'kernel': 'linear', 'gamma': 0.11900378926516163}, user_attrs={'mean_fit_time': 0.005092938741048177, 'std_fit_time': 0.0031788918911614694, 'mean_score_time': 0.002791245778401693, 'std_score_time': 0.0013386305678631174, 'split0_test_score': 1.0, 'split1_test_score': 0.925, 'split2_test_score': 1.0, 'mean_test_score': 0.975, 'std_test_score': 0.035355339059327355, 'split0_train_score': 0.9875, 'split1_train_score': 1.0, 'split2_train_score': 0.9625, 'mean_train_score': 0.9833333333333334, 'std_train_score': 0.015590239111558084}, system_attrs={'terminator:cv_scores': [1.0, 0.925, 1.0]}, intermediate_values={}, distributions={'C': FloatDistribution(high=1.0, log=False, low=0.01, step=None), 'kernel': CategoricalDistribution(choices=('linear', 'poly', 'rbf', 'sigmoid')), 'gamma': FloatDistribution(high=1.0, log=False, low=0.01, step=None)}, trial_id=7, value=None),\n",
       " FrozenTrial(number=8, state=1, values=[0.9500000000000001], datetime_start=datetime.datetime(2024, 7, 5, 21, 51, 4, 151794), datetime_complete=datetime.datetime(2024, 7, 5, 21, 51, 4, 271803), params={'C': 0.14398498275157495, 'kernel': 'linear', 'gamma': 0.7501423525772609}, user_attrs={'mean_fit_time': 0.014133850733439127, 'std_fit_time': 0.008238810220850438, 'mean_score_time': 0.005184650421142578, 'std_score_time': 0.0020776978651562274, 'split0_test_score': 0.975, 'split1_test_score': 0.9, 'split2_test_score': 0.975, 'mean_test_score': 0.9500000000000001, 'std_test_score': 0.035355339059327355, 'split0_train_score': 0.9625, 'split1_train_score': 1.0, 'split2_train_score': 0.9625, 'mean_train_score': 0.975, 'std_train_score': 0.017677669529663678}, system_attrs={'terminator:cv_scores': [0.975, 0.9, 0.975]}, intermediate_values={}, distributions={'C': FloatDistribution(high=1.0, log=False, low=0.01, step=None), 'kernel': CategoricalDistribution(choices=('linear', 'poly', 'rbf', 'sigmoid')), 'gamma': FloatDistribution(high=1.0, log=False, low=0.01, step=None)}, trial_id=8, value=None),\n",
       " FrozenTrial(number=9, state=1, values=[0.3416666666666666], datetime_start=datetime.datetime(2024, 7, 5, 21, 51, 4, 160247), datetime_complete=datetime.datetime(2024, 7, 5, 21, 51, 4, 257339), params={'C': 0.8248100888409801, 'kernel': 'sigmoid', 'gamma': 0.7359477661555631}, user_attrs={'mean_fit_time': 0.016209840774536133, 'std_fit_time': 0.0032215739563309534, 'mean_score_time': 0.00566562016805013, 'std_score_time': 0.00500908634852512, 'split0_test_score': 0.325, 'split1_test_score': 0.35, 'split2_test_score': 0.35, 'mean_test_score': 0.3416666666666666, 'std_test_score': 0.011785113019775776, 'split0_train_score': 0.35, 'split1_train_score': 0.3375, 'split2_train_score': 0.3375, 'mean_train_score': 0.3416666666666666, 'std_train_score': 0.005892556509887875}, system_attrs={'terminator:cv_scores': [0.325, 0.35, 0.35]}, intermediate_values={}, distributions={'C': FloatDistribution(high=1.0, log=False, low=0.01, step=None), 'kernel': CategoricalDistribution(choices=('linear', 'poly', 'rbf', 'sigmoid')), 'gamma': FloatDistribution(high=1.0, log=False, low=0.01, step=None)}, trial_id=9, value=None),\n",
       " FrozenTrial(number=10, state=1, values=[0.9416666666666668], datetime_start=datetime.datetime(2024, 7, 5, 21, 51, 4, 195694), datetime_complete=datetime.datetime(2024, 7, 5, 21, 51, 4, 299726), params={'C': 0.50193195380426, 'kernel': 'poly', 'gamma': 0.6666788450010056}, user_attrs={'mean_fit_time': 0.015269597371419271, 'std_fit_time': 0.0026462034475906934, 'mean_score_time': 0.005235354105631511, 'std_score_time': 0.005087463371376225, 'split0_test_score': 0.95, 'split1_test_score': 0.9, 'split2_test_score': 0.975, 'mean_test_score': 0.9416666666666668, 'std_test_score': 0.03118047822311616, 'split0_train_score': 0.9875, 'split1_train_score': 1.0, 'split2_train_score': 0.975, 'mean_train_score': 0.9874999999999999, 'std_train_score': 0.010206207261596585}, system_attrs={'terminator:cv_scores': [0.95, 0.9, 0.975]}, intermediate_values={}, distributions={'C': FloatDistribution(high=1.0, log=False, low=0.01, step=None), 'kernel': CategoricalDistribution(choices=('linear', 'poly', 'rbf', 'sigmoid')), 'gamma': FloatDistribution(high=1.0, log=False, low=0.01, step=None)}, trial_id=10, value=None),\n",
       " FrozenTrial(number=11, state=1, values=[0.9500000000000001], datetime_start=datetime.datetime(2024, 7, 5, 21, 51, 4, 198998), datetime_complete=datetime.datetime(2024, 7, 5, 21, 51, 4, 308079), params={'C': 0.8214812249804648, 'kernel': 'rbf', 'gamma': 0.4303908996252167}, user_attrs={'mean_fit_time': 0.01102598508199056, 'std_fit_time': 0.00486532813464453, 'mean_score_time': 0.013799746831258139, 'std_score_time': 0.005090231498390056, 'split0_test_score': 0.975, 'split1_test_score': 0.9, 'split2_test_score': 0.975, 'mean_test_score': 0.9500000000000001, 'std_test_score': 0.035355339059327355, 'split0_train_score': 0.9625, 'split1_train_score': 1.0, 'split2_train_score': 0.95, 'mean_train_score': 0.9708333333333332, 'std_train_score': 0.021245914639969946}, system_attrs={'terminator:cv_scores': [0.975, 0.9, 0.975]}, intermediate_values={}, distributions={'C': FloatDistribution(high=1.0, log=False, low=0.01, step=None), 'kernel': CategoricalDistribution(choices=('linear', 'poly', 'rbf', 'sigmoid')), 'gamma': FloatDistribution(high=1.0, log=False, low=0.01, step=None)}, trial_id=11, value=None),\n",
       " FrozenTrial(number=12, state=1, values=[0.9416666666666668], datetime_start=datetime.datetime(2024, 7, 5, 21, 51, 4, 213668), datetime_complete=datetime.datetime(2024, 7, 5, 21, 51, 4, 286262), params={'C': 0.7966043805768662, 'kernel': 'rbf', 'gamma': 0.02295671325242095}, user_attrs={'mean_fit_time': 0.012831608454386393, 'std_fit_time': 0.003654028584977205, 'mean_score_time': 0.0040289560953776045, 'std_score_time': 0.0021472523224140105, 'split0_test_score': 0.975, 'split1_test_score': 0.925, 'split2_test_score': 0.925, 'mean_test_score': 0.9416666666666668, 'std_test_score': 0.023570226039551553, 'split0_train_score': 0.9125, 'split1_train_score': 0.9375, 'split2_train_score': 0.9, 'mean_train_score': 0.9166666666666666, 'std_train_score': 0.015590239111558084}, system_attrs={'terminator:cv_scores': [0.975, 0.925, 0.925]}, intermediate_values={}, distributions={'C': FloatDistribution(high=1.0, log=False, low=0.01, step=None), 'kernel': CategoricalDistribution(choices=('linear', 'poly', 'rbf', 'sigmoid')), 'gamma': FloatDistribution(high=1.0, log=False, low=0.01, step=None)}, trial_id=12, value=None),\n",
       " FrozenTrial(number=13, state=1, values=[0.9333333333333332], datetime_start=datetime.datetime(2024, 7, 5, 21, 51, 4, 235192), datetime_complete=datetime.datetime(2024, 7, 5, 21, 51, 4, 327914), params={'C': 0.981371095362523, 'kernel': 'poly', 'gamma': 0.7898537670260812}, user_attrs={'mean_fit_time': 0.015190362930297852, 'std_fit_time': 0.0035712538439496887, 'mean_score_time': 0.001680453618367513, 'std_score_time': 0.0008599509576175039, 'split0_test_score': 0.95, 'split1_test_score': 0.9, 'split2_test_score': 0.95, 'mean_test_score': 0.9333333333333332, 'std_test_score': 0.023570226039551553, 'split0_train_score': 1.0, 'split1_train_score': 1.0, 'split2_train_score': 0.975, 'mean_train_score': 0.9916666666666667, 'std_train_score': 0.011785113019775802}, system_attrs={'terminator:cv_scores': [0.95, 0.9, 0.95]}, intermediate_values={}, distributions={'C': FloatDistribution(high=1.0, log=False, low=0.01, step=None), 'kernel': CategoricalDistribution(choices=('linear', 'poly', 'rbf', 'sigmoid')), 'gamma': FloatDistribution(high=1.0, log=False, low=0.01, step=None)}, trial_id=13, value=None),\n",
       " FrozenTrial(number=14, state=1, values=[0.9499999999999998], datetime_start=datetime.datetime(2024, 7, 5, 21, 51, 4, 262329), datetime_complete=datetime.datetime(2024, 7, 5, 21, 51, 4, 410055), params={'C': 0.1445232219227384, 'kernel': 'rbf', 'gamma': 0.31087873376120323}, user_attrs={'mean_fit_time': 0.020373106002807617, 'std_fit_time': 0.005083205509853291, 'mean_score_time': 0.015783945719401043, 'std_score_time': 0.01560271501921483, 'split0_test_score': 0.975, 'split1_test_score': 0.925, 'split2_test_score': 0.95, 'mean_test_score': 0.9499999999999998, 'std_test_score': 0.020412414523193124, 'split0_train_score': 0.9125, 'split1_train_score': 0.975, 'split2_train_score': 0.9375, 'mean_train_score': 0.9416666666666668, 'std_train_score': 0.02568505834570407}, system_attrs={'terminator:cv_scores': [0.975, 0.925, 0.95]}, intermediate_values={}, distributions={'C': FloatDistribution(high=1.0, log=False, low=0.01, step=None), 'kernel': CategoricalDistribution(choices=('linear', 'poly', 'rbf', 'sigmoid')), 'gamma': FloatDistribution(high=1.0, log=False, low=0.01, step=None)}, trial_id=14, value=None),\n",
       " FrozenTrial(number=15, state=1, values=[0.9500000000000001], datetime_start=datetime.datetime(2024, 7, 5, 21, 51, 4, 288904), datetime_complete=datetime.datetime(2024, 7, 5, 21, 51, 4, 465505), params={'C': 0.5580365780755701, 'kernel': 'linear', 'gamma': 0.5432799779076498}, user_attrs={'mean_fit_time': 0.005637248357137044, 'std_fit_time': 0.0029720237943591976, 'mean_score_time': 0.01084295908610026, 'std_score_time': 0.011861510651262648, 'split0_test_score': 0.975, 'split1_test_score': 0.9, 'split2_test_score': 0.975, 'mean_test_score': 0.9500000000000001, 'std_test_score': 0.035355339059327355, 'split0_train_score': 0.9875, 'split1_train_score': 1.0, 'split2_train_score': 0.95, 'mean_train_score': 0.9791666666666666, 'std_train_score': 0.021245914639969964}, system_attrs={'terminator:cv_scores': [0.975, 0.9, 0.975]}, intermediate_values={}, distributions={'C': FloatDistribution(high=1.0, log=False, low=0.01, step=None), 'kernel': CategoricalDistribution(choices=('linear', 'poly', 'rbf', 'sigmoid')), 'gamma': FloatDistribution(high=1.0, log=False, low=0.01, step=None)}, trial_id=15, value=None),\n",
       " FrozenTrial(number=16, state=1, values=[0.9500000000000001], datetime_start=datetime.datetime(2024, 7, 5, 21, 51, 4, 317974), datetime_complete=datetime.datetime(2024, 7, 5, 21, 51, 4, 472525), params={'C': 0.5585854898841616, 'kernel': 'linear', 'gamma': 0.5735741124755869}, user_attrs={'mean_fit_time': 0.023773908615112305, 'std_fit_time': 0.021506823307635668, 'mean_score_time': 0.004014174143473308, 'std_score_time': 0.0022618377615630553, 'split0_test_score': 0.975, 'split1_test_score': 0.9, 'split2_test_score': 0.975, 'mean_test_score': 0.9500000000000001, 'std_test_score': 0.035355339059327355, 'split0_train_score': 0.9875, 'split1_train_score': 1.0, 'split2_train_score': 0.95, 'mean_train_score': 0.9791666666666666, 'std_train_score': 0.021245914639969964}, system_attrs={'terminator:cv_scores': [0.975, 0.9, 0.975]}, intermediate_values={}, distributions={'C': FloatDistribution(high=1.0, log=False, low=0.01, step=None), 'kernel': CategoricalDistribution(choices=('linear', 'poly', 'rbf', 'sigmoid')), 'gamma': FloatDistribution(high=1.0, log=False, low=0.01, step=None)}, trial_id=16, value=None),\n",
       " FrozenTrial(number=17, state=1, values=[0.9500000000000001], datetime_start=datetime.datetime(2024, 7, 5, 21, 51, 4, 328698), datetime_complete=datetime.datetime(2024, 7, 5, 21, 51, 4, 489430), params={'C': 0.5835034791513082, 'kernel': 'linear', 'gamma': 0.5486024947116968}, user_attrs={'mean_fit_time': 0.016248067220052082, 'std_fit_time': 0.019217423234752923, 'mean_score_time': 0.003157933553059896, 'std_score_time': 0.0011625627677172214, 'split0_test_score': 0.975, 'split1_test_score': 0.9, 'split2_test_score': 0.975, 'mean_test_score': 0.9500000000000001, 'std_test_score': 0.035355339059327355, 'split0_train_score': 0.9625, 'split1_train_score': 1.0, 'split2_train_score': 0.95, 'mean_train_score': 0.9708333333333332, 'std_train_score': 0.021245914639969946}, system_attrs={'terminator:cv_scores': [0.975, 0.9, 0.975]}, intermediate_values={}, distributions={'C': FloatDistribution(high=1.0, log=False, low=0.01, step=None), 'kernel': CategoricalDistribution(choices=('linear', 'poly', 'rbf', 'sigmoid')), 'gamma': FloatDistribution(high=1.0, log=False, low=0.01, step=None)}, trial_id=17, value=None),\n",
       " FrozenTrial(number=18, state=1, values=[0.9500000000000001], datetime_start=datetime.datetime(2024, 7, 5, 21, 51, 4, 345048), datetime_complete=datetime.datetime(2024, 7, 5, 21, 51, 4, 516228), params={'C': 0.5786898840484651, 'kernel': 'linear', 'gamma': 0.5524176221809133}, user_attrs={'mean_fit_time': 0.014959335327148438, 'std_fit_time': 0.007059439532010264, 'mean_score_time': 0.009142398834228516, 'std_score_time': 0.007922070875101316, 'split0_test_score': 0.975, 'split1_test_score': 0.9, 'split2_test_score': 0.975, 'mean_test_score': 0.9500000000000001, 'std_test_score': 0.035355339059327355, 'split0_train_score': 0.9875, 'split1_train_score': 1.0, 'split2_train_score': 0.95, 'mean_train_score': 0.9791666666666666, 'std_train_score': 0.021245914639969964}, system_attrs={'terminator:cv_scores': [0.975, 0.9, 0.975]}, intermediate_values={}, distributions={'C': FloatDistribution(high=1.0, log=False, low=0.01, step=None), 'kernel': CategoricalDistribution(choices=('linear', 'poly', 'rbf', 'sigmoid')), 'gamma': FloatDistribution(high=1.0, log=False, low=0.01, step=None)}, trial_id=18, value=None),\n",
       " FrozenTrial(number=19, state=1, values=[0.9500000000000001], datetime_start=datetime.datetime(2024, 7, 5, 21, 51, 4, 382315), datetime_complete=datetime.datetime(2024, 7, 5, 21, 51, 4, 554155), params={'C': 0.5779367984645982, 'kernel': 'linear', 'gamma': 0.5838042380058345}, user_attrs={'mean_fit_time': 0.012748161951700846, 'std_fit_time': 0.008459417469928907, 'mean_score_time': 0.015189250310262045, 'std_score_time': 0.006286852733619127, 'split0_test_score': 0.975, 'split1_test_score': 0.9, 'split2_test_score': 0.975, 'mean_test_score': 0.9500000000000001, 'std_test_score': 0.035355339059327355, 'split0_train_score': 0.9875, 'split1_train_score': 1.0, 'split2_train_score': 0.95, 'mean_train_score': 0.9791666666666666, 'std_train_score': 0.021245914639969964}, system_attrs={'terminator:cv_scores': [0.975, 0.9, 0.975]}, intermediate_values={}, distributions={'C': FloatDistribution(high=1.0, log=False, low=0.01, step=None), 'kernel': CategoricalDistribution(choices=('linear', 'poly', 'rbf', 'sigmoid')), 'gamma': FloatDistribution(high=1.0, log=False, low=0.01, step=None)}, trial_id=19, value=None),\n",
       " FrozenTrial(number=20, state=1, values=[0.9500000000000001], datetime_start=datetime.datetime(2024, 7, 5, 21, 51, 4, 423156), datetime_complete=datetime.datetime(2024, 7, 5, 21, 51, 4, 642995), params={'C': 0.5857658740332206, 'kernel': 'linear', 'gamma': 0.5505912040974259}, user_attrs={'mean_fit_time': 0.011327505111694336, 'std_fit_time': 0.0056850792585477795, 'mean_score_time': 0.0135649045308431, 'std_score_time': 0.008748611711417633, 'split0_test_score': 0.975, 'split1_test_score': 0.9, 'split2_test_score': 0.975, 'mean_test_score': 0.9500000000000001, 'std_test_score': 0.035355339059327355, 'split0_train_score': 0.9625, 'split1_train_score': 1.0, 'split2_train_score': 0.95, 'mean_train_score': 0.9708333333333332, 'std_train_score': 0.021245914639969946}, system_attrs={'terminator:cv_scores': [0.975, 0.9, 0.975]}, intermediate_values={}, distributions={'C': FloatDistribution(high=1.0, log=False, low=0.01, step=None), 'kernel': CategoricalDistribution(choices=('linear', 'poly', 'rbf', 'sigmoid')), 'gamma': FloatDistribution(high=1.0, log=False, low=0.01, step=None)}, trial_id=20, value=None),\n",
       " FrozenTrial(number=21, state=1, values=[0.9500000000000001], datetime_start=datetime.datetime(2024, 7, 5, 21, 51, 4, 444015), datetime_complete=datetime.datetime(2024, 7, 5, 21, 51, 4, 587882), params={'C': 0.5257469325332131, 'kernel': 'linear', 'gamma': 0.5887265058725617}, user_attrs={'mean_fit_time': 0.005876700083414714, 'std_fit_time': 0.0022425409762009386, 'mean_score_time': 0.013344208399454752, 'std_score_time': 0.00418135525182673, 'split0_test_score': 0.975, 'split1_test_score': 0.9, 'split2_test_score': 0.975, 'mean_test_score': 0.9500000000000001, 'std_test_score': 0.035355339059327355, 'split0_train_score': 0.9875, 'split1_train_score': 1.0, 'split2_train_score': 0.95, 'mean_train_score': 0.9791666666666666, 'std_train_score': 0.021245914639969964}, system_attrs={'terminator:cv_scores': [0.975, 0.9, 0.975]}, intermediate_values={}, distributions={'C': FloatDistribution(high=1.0, log=False, low=0.01, step=None), 'kernel': CategoricalDistribution(choices=('linear', 'poly', 'rbf', 'sigmoid')), 'gamma': FloatDistribution(high=1.0, log=False, low=0.01, step=None)}, trial_id=21, value=None),\n",
       " FrozenTrial(number=22, state=1, values=[0.9666666666666667], datetime_start=datetime.datetime(2024, 7, 5, 21, 51, 4, 467430), datetime_complete=datetime.datetime(2024, 7, 5, 21, 51, 4, 715107), params={'C': 0.3984137595655707, 'kernel': 'linear', 'gamma': 0.5526978971760546}, user_attrs={'mean_fit_time': 0.015166997909545898, 'std_fit_time': 0.005869161598243598, 'mean_score_time': 0.004411141077677409, 'std_score_time': 0.003835329414525448, 'split0_test_score': 1.0, 'split1_test_score': 0.9, 'split2_test_score': 1.0, 'mean_test_score': 0.9666666666666667, 'std_test_score': 0.04714045207910316, 'split0_train_score': 0.975, 'split1_train_score': 1.0, 'split2_train_score': 0.9625, 'mean_train_score': 0.9791666666666666, 'std_train_score': 0.015590239111558084}, system_attrs={'terminator:cv_scores': [1.0, 0.9, 1.0]}, intermediate_values={}, distributions={'C': FloatDistribution(high=1.0, log=False, low=0.01, step=None), 'kernel': CategoricalDistribution(choices=('linear', 'poly', 'rbf', 'sigmoid')), 'gamma': FloatDistribution(high=1.0, log=False, low=0.01, step=None)}, trial_id=22, value=None),\n",
       " FrozenTrial(number=23, state=1, values=[0.9583333333333334], datetime_start=datetime.datetime(2024, 7, 5, 21, 51, 4, 476074), datetime_complete=datetime.datetime(2024, 7, 5, 21, 51, 4, 670505), params={'C': 0.3673383817188218, 'kernel': 'linear', 'gamma': 0.9032202065701035}, user_attrs={'mean_fit_time': 0.007789770762125651, 'std_fit_time': 0.0041467036175853985, 'mean_score_time': 0.005301952362060547, 'std_score_time': 0.003133740216210825, 'split0_test_score': 0.975, 'split1_test_score': 0.9, 'split2_test_score': 1.0, 'mean_test_score': 0.9583333333333334, 'std_test_score': 0.04249182927993986, 'split0_train_score': 0.9625, 'split1_train_score': 1.0, 'split2_train_score': 0.9625, 'mean_train_score': 0.975, 'std_train_score': 0.017677669529663678}, system_attrs={'terminator:cv_scores': [0.975, 0.9, 1.0]}, intermediate_values={}, distributions={'C': FloatDistribution(high=1.0, log=False, low=0.01, step=None), 'kernel': CategoricalDistribution(choices=('linear', 'poly', 'rbf', 'sigmoid')), 'gamma': FloatDistribution(high=1.0, log=False, low=0.01, step=None)}, trial_id=23, value=None),\n",
       " FrozenTrial(number=24, state=1, values=[0.9666666666666667], datetime_start=datetime.datetime(2024, 7, 5, 21, 51, 4, 526463), datetime_complete=datetime.datetime(2024, 7, 5, 21, 51, 4, 711714), params={'C': 0.39936500944198494, 'kernel': 'linear', 'gamma': 0.18957773240166947}, user_attrs={'mean_fit_time': 0.0063288211822509766, 'std_fit_time': 0.0025772711024986033, 'mean_score_time': 0.014207601547241211, 'std_score_time': 0.008070462915708499, 'split0_test_score': 1.0, 'split1_test_score': 0.9, 'split2_test_score': 1.0, 'mean_test_score': 0.9666666666666667, 'std_test_score': 0.04714045207910316, 'split0_train_score': 0.975, 'split1_train_score': 1.0, 'split2_train_score': 0.9625, 'mean_train_score': 0.9791666666666666, 'std_train_score': 0.015590239111558084}, system_attrs={'terminator:cv_scores': [1.0, 0.9, 1.0]}, intermediate_values={}, distributions={'C': FloatDistribution(high=1.0, log=False, low=0.01, step=None), 'kernel': CategoricalDistribution(choices=('linear', 'poly', 'rbf', 'sigmoid')), 'gamma': FloatDistribution(high=1.0, log=False, low=0.01, step=None)}, trial_id=24, value=None),\n",
       " FrozenTrial(number=25, state=1, values=[0.9583333333333334], datetime_start=datetime.datetime(2024, 7, 5, 21, 51, 4, 535159), datetime_complete=datetime.datetime(2024, 7, 5, 21, 51, 4, 719266), params={'C': 0.3913134535809085, 'kernel': 'linear', 'gamma': 0.17451632261838101}, user_attrs={'mean_fit_time': 0.013497432072957357, 'std_fit_time': 0.008644553417061286, 'mean_score_time': 0.01751232147216797, 'std_score_time': 0.012241320804629578, 'split0_test_score': 0.975, 'split1_test_score': 0.9, 'split2_test_score': 1.0, 'mean_test_score': 0.9583333333333334, 'std_test_score': 0.04249182927993986, 'split0_train_score': 0.975, 'split1_train_score': 1.0, 'split2_train_score': 0.9625, 'mean_train_score': 0.9791666666666666, 'std_train_score': 0.015590239111558084}, system_attrs={'terminator:cv_scores': [0.975, 0.9, 1.0]}, intermediate_values={}, distributions={'C': FloatDistribution(high=1.0, log=False, low=0.01, step=None), 'kernel': CategoricalDistribution(choices=('linear', 'poly', 'rbf', 'sigmoid')), 'gamma': FloatDistribution(high=1.0, log=False, low=0.01, step=None)}, trial_id=25, value=None),\n",
       " FrozenTrial(number=26, state=1, values=[0.9666666666666667], datetime_start=datetime.datetime(2024, 7, 5, 21, 51, 4, 623543), datetime_complete=datetime.datetime(2024, 7, 5, 21, 51, 4, 761370), params={'C': 0.39688382424898383, 'kernel': 'linear', 'gamma': 0.12819552615400823}, user_attrs={'mean_fit_time': 0.009764432907104492, 'std_fit_time': 0.006182334068702899, 'mean_score_time': 0.004949331283569336, 'std_score_time': 0.005566027939224758, 'split0_test_score': 1.0, 'split1_test_score': 0.9, 'split2_test_score': 1.0, 'mean_test_score': 0.9666666666666667, 'std_test_score': 0.04714045207910316, 'split0_train_score': 0.975, 'split1_train_score': 1.0, 'split2_train_score': 0.9625, 'mean_train_score': 0.9791666666666666, 'std_train_score': 0.015590239111558084}, system_attrs={'terminator:cv_scores': [1.0, 0.9, 1.0]}, intermediate_values={}, distributions={'C': FloatDistribution(high=1.0, log=False, low=0.01, step=None), 'kernel': CategoricalDistribution(choices=('linear', 'poly', 'rbf', 'sigmoid')), 'gamma': FloatDistribution(high=1.0, log=False, low=0.01, step=None)}, trial_id=26, value=None),\n",
       " FrozenTrial(number=27, state=1, values=[0.9666666666666667], datetime_start=datetime.datetime(2024, 7, 5, 21, 51, 4, 626462), datetime_complete=datetime.datetime(2024, 7, 5, 21, 51, 4, 797604), params={'C': 0.4152401190406156, 'kernel': 'linear', 'gamma': 0.16020736302994984}, user_attrs={'mean_fit_time': 0.007006247838338216, 'std_fit_time': 0.0042349086151565185, 'mean_score_time': 0.009352366129557291, 'std_score_time': 0.0029032580705267864, 'split0_test_score': 1.0, 'split1_test_score': 0.9, 'split2_test_score': 1.0, 'mean_test_score': 0.9666666666666667, 'std_test_score': 0.04714045207910316, 'split0_train_score': 0.9625, 'split1_train_score': 1.0, 'split2_train_score': 0.9625, 'mean_train_score': 0.975, 'std_train_score': 0.017677669529663678}, system_attrs={'terminator:cv_scores': [1.0, 0.9, 1.0]}, intermediate_values={}, distributions={'C': FloatDistribution(high=1.0, log=False, low=0.01, step=None), 'kernel': CategoricalDistribution(choices=('linear', 'poly', 'rbf', 'sigmoid')), 'gamma': FloatDistribution(high=1.0, log=False, low=0.01, step=None)}, trial_id=27, value=None),\n",
       " FrozenTrial(number=28, state=1, values=[0.9666666666666667], datetime_start=datetime.datetime(2024, 7, 5, 21, 51, 4, 656873), datetime_complete=datetime.datetime(2024, 7, 5, 21, 51, 4, 792709), params={'C': 0.36651993425263996, 'kernel': 'rbf', 'gamma': 0.1328191536151617}, user_attrs={'mean_fit_time': 0.002911647160847982, 'std_fit_time': 0.0005829056287004747, 'mean_score_time': 0.010100841522216797, 'std_score_time': 0.009472417389231562, 'split0_test_score': 0.975, 'split1_test_score': 0.95, 'split2_test_score': 0.975, 'mean_test_score': 0.9666666666666667, 'std_test_score': 0.011785113019775804, 'split0_train_score': 0.9375, 'split1_train_score': 0.975, 'split2_train_score': 0.9625, 'mean_train_score': 0.9583333333333334, 'std_train_score': 0.015590239111558084}, system_attrs={'terminator:cv_scores': [0.975, 0.95, 0.975]}, intermediate_values={}, distributions={'C': FloatDistribution(high=1.0, log=False, low=0.01, step=None), 'kernel': CategoricalDistribution(choices=('linear', 'poly', 'rbf', 'sigmoid')), 'gamma': FloatDistribution(high=1.0, log=False, low=0.01, step=None)}, trial_id=28, value=None),\n",
       " FrozenTrial(number=29, state=1, values=[0.9583333333333334], datetime_start=datetime.datetime(2024, 7, 5, 21, 51, 4, 687738), datetime_complete=datetime.datetime(2024, 7, 5, 21, 51, 4, 932131), params={'C': 0.3881914646368863, 'kernel': 'linear', 'gamma': 0.8995422184624302}, user_attrs={'mean_fit_time': 0.021002689997355144, 'std_fit_time': 0.009539205474340794, 'mean_score_time': 0.011656045913696289, 'std_score_time': 0.008922385278869984, 'split0_test_score': 0.975, 'split1_test_score': 0.9, 'split2_test_score': 1.0, 'mean_test_score': 0.9583333333333334, 'std_test_score': 0.04249182927993986, 'split0_train_score': 0.975, 'split1_train_score': 1.0, 'split2_train_score': 0.9625, 'mean_train_score': 0.9791666666666666, 'std_train_score': 0.015590239111558084}, system_attrs={'terminator:cv_scores': [0.975, 0.9, 1.0]}, intermediate_values={}, distributions={'C': FloatDistribution(high=1.0, log=False, low=0.01, step=None), 'kernel': CategoricalDistribution(choices=('linear', 'poly', 'rbf', 'sigmoid')), 'gamma': FloatDistribution(high=1.0, log=False, low=0.01, step=None)}, trial_id=29, value=None),\n",
       " FrozenTrial(number=30, state=1, values=[0.9500000000000001], datetime_start=datetime.datetime(2024, 7, 5, 21, 51, 4, 740805), datetime_complete=datetime.datetime(2024, 7, 5, 21, 51, 4, 964894), params={'C': 0.7011650487575358, 'kernel': 'linear', 'gamma': 0.8389128032104278}, user_attrs={'mean_fit_time': 0.009715954462687174, 'std_fit_time': 0.009278049839924226, 'mean_score_time': 0.009628057479858398, 'std_score_time': 0.006471891422785777, 'split0_test_score': 0.975, 'split1_test_score': 0.9, 'split2_test_score': 0.975, 'mean_test_score': 0.9500000000000001, 'std_test_score': 0.035355339059327355, 'split0_train_score': 0.975, 'split1_train_score': 1.0, 'split2_train_score': 0.95, 'mean_train_score': 0.975, 'std_train_score': 0.02041241452319317}, system_attrs={'terminator:cv_scores': [0.975, 0.9, 0.975]}, intermediate_values={}, distributions={'C': FloatDistribution(high=1.0, log=False, low=0.01, step=None), 'kernel': CategoricalDistribution(choices=('linear', 'poly', 'rbf', 'sigmoid')), 'gamma': FloatDistribution(high=1.0, log=False, low=0.01, step=None)}, trial_id=30, value=None),\n",
       " FrozenTrial(number=31, state=1, values=[0.9500000000000001], datetime_start=datetime.datetime(2024, 7, 5, 21, 51, 4, 780699), datetime_complete=datetime.datetime(2024, 7, 5, 21, 51, 5, 10709), params={'C': 0.6756000924023178, 'kernel': 'linear', 'gamma': 0.45248553494141913}, user_attrs={'mean_fit_time': 0.01098926862080892, 'std_fit_time': 0.0017768922518995552, 'mean_score_time': 0.010412375132242838, 'std_score_time': 0.005693749216463657, 'split0_test_score': 0.975, 'split1_test_score': 0.9, 'split2_test_score': 0.975, 'mean_test_score': 0.9500000000000001, 'std_test_score': 0.035355339059327355, 'split0_train_score': 0.975, 'split1_train_score': 1.0, 'split2_train_score': 0.95, 'mean_train_score': 0.975, 'std_train_score': 0.02041241452319317}, system_attrs={'terminator:cv_scores': [0.975, 0.9, 0.975]}, intermediate_values={}, distributions={'C': FloatDistribution(high=1.0, log=False, low=0.01, step=None), 'kernel': CategoricalDistribution(choices=('linear', 'poly', 'rbf', 'sigmoid')), 'gamma': FloatDistribution(high=1.0, log=False, low=0.01, step=None)}, trial_id=31, value=None),\n",
       " FrozenTrial(number=32, state=1, values=[0.9500000000000001], datetime_start=datetime.datetime(2024, 7, 5, 21, 51, 4, 823195), datetime_complete=datetime.datetime(2024, 7, 5, 21, 51, 4, 973581), params={'C': 0.7085961693981286, 'kernel': 'linear', 'gamma': 0.45421443881090046}, user_attrs={'mean_fit_time': 0.004695018132527669, 'std_fit_time': 0.002058605882949833, 'mean_score_time': 0.008027156194051107, 'std_score_time': 0.0031934094230127233, 'split0_test_score': 0.975, 'split1_test_score': 0.9, 'split2_test_score': 0.975, 'mean_test_score': 0.9500000000000001, 'std_test_score': 0.035355339059327355, 'split0_train_score': 0.975, 'split1_train_score': 1.0, 'split2_train_score': 0.95, 'mean_train_score': 0.975, 'std_train_score': 0.02041241452319317}, system_attrs={'terminator:cv_scores': [0.975, 0.9, 0.975]}, intermediate_values={}, distributions={'C': FloatDistribution(high=1.0, log=False, low=0.01, step=None), 'kernel': CategoricalDistribution(choices=('linear', 'poly', 'rbf', 'sigmoid')), 'gamma': FloatDistribution(high=1.0, log=False, low=0.01, step=None)}, trial_id=32, value=None),\n",
       " FrozenTrial(number=33, state=1, values=[0.9500000000000001], datetime_start=datetime.datetime(2024, 7, 5, 21, 51, 4, 844398), datetime_complete=datetime.datetime(2024, 7, 5, 21, 51, 5, 17895), params={'C': 0.7075627897653483, 'kernel': 'linear', 'gamma': 0.4444404340167504}, user_attrs={'mean_fit_time': 0.006231228510538737, 'std_fit_time': 0.002116522047031791, 'mean_score_time': 0.004244089126586914, 'std_score_time': 0.0022126461634763414, 'split0_test_score': 0.975, 'split1_test_score': 0.9, 'split2_test_score': 0.975, 'mean_test_score': 0.9500000000000001, 'std_test_score': 0.035355339059327355, 'split0_train_score': 0.975, 'split1_train_score': 1.0, 'split2_train_score': 0.95, 'mean_train_score': 0.975, 'std_train_score': 0.02041241452319317}, system_attrs={'terminator:cv_scores': [0.975, 0.9, 0.975]}, intermediate_values={}, distributions={'C': FloatDistribution(high=1.0, log=False, low=0.01, step=None), 'kernel': CategoricalDistribution(choices=('linear', 'poly', 'rbf', 'sigmoid')), 'gamma': FloatDistribution(high=1.0, log=False, low=0.01, step=None)}, trial_id=33, value=None),\n",
       " FrozenTrial(number=34, state=1, values=[0.9500000000000001], datetime_start=datetime.datetime(2024, 7, 5, 21, 51, 4, 853151), datetime_complete=datetime.datetime(2024, 7, 5, 21, 51, 5, 130685), params={'C': 0.6994857068787179, 'kernel': 'linear', 'gamma': 0.44967932576869907}, user_attrs={'mean_fit_time': 0.011684020360310873, 'std_fit_time': 0.009841466943311396, 'mean_score_time': 0.004095713297526042, 'std_score_time': 0.0011533284527587536, 'split0_test_score': 0.975, 'split1_test_score': 0.9, 'split2_test_score': 0.975, 'mean_test_score': 0.9500000000000001, 'std_test_score': 0.035355339059327355, 'split0_train_score': 0.975, 'split1_train_score': 1.0, 'split2_train_score': 0.95, 'mean_train_score': 0.975, 'std_train_score': 0.02041241452319317}, system_attrs={'terminator:cv_scores': [0.975, 0.9, 0.975]}, intermediate_values={}, distributions={'C': FloatDistribution(high=1.0, log=False, low=0.01, step=None), 'kernel': CategoricalDistribution(choices=('linear', 'poly', 'rbf', 'sigmoid')), 'gamma': FloatDistribution(high=1.0, log=False, low=0.01, step=None)}, trial_id=34, value=None),\n",
       " FrozenTrial(number=35, state=1, values=[0.9500000000000001], datetime_start=datetime.datetime(2024, 7, 5, 21, 51, 4, 872421), datetime_complete=datetime.datetime(2024, 7, 5, 21, 51, 5, 74398), params={'C': 0.6730846980279876, 'kernel': 'linear', 'gamma': 0.4674000102628059}, user_attrs={'mean_fit_time': 0.008585532506306967, 'std_fit_time': 0.0029464005196840324, 'mean_score_time': 0.00955351193745931, 'std_score_time': 0.0069391487508505805, 'split0_test_score': 0.975, 'split1_test_score': 0.9, 'split2_test_score': 0.975, 'mean_test_score': 0.9500000000000001, 'std_test_score': 0.035355339059327355, 'split0_train_score': 0.975, 'split1_train_score': 1.0, 'split2_train_score': 0.95, 'mean_train_score': 0.975, 'std_train_score': 0.02041241452319317}, system_attrs={'terminator:cv_scores': [0.975, 0.9, 0.975]}, intermediate_values={}, distributions={'C': FloatDistribution(high=1.0, log=False, low=0.01, step=None), 'kernel': CategoricalDistribution(choices=('linear', 'poly', 'rbf', 'sigmoid')), 'gamma': FloatDistribution(high=1.0, log=False, low=0.01, step=None)}, trial_id=35, value=None),\n",
       " FrozenTrial(number=36, state=1, values=[0.9500000000000001], datetime_start=datetime.datetime(2024, 7, 5, 21, 51, 4, 875939), datetime_complete=datetime.datetime(2024, 7, 5, 21, 51, 5, 84803), params={'C': 0.2603820184826683, 'kernel': 'linear', 'gamma': 0.4380091355144638}, user_attrs={'mean_fit_time': 0.014150063196818033, 'std_fit_time': 0.005221272843431932, 'mean_score_time': 0.011890888214111328, 'std_score_time': 0.00730832522116271, 'split0_test_score': 0.975, 'split1_test_score': 0.9, 'split2_test_score': 0.975, 'mean_test_score': 0.9500000000000001, 'std_test_score': 0.035355339059327355, 'split0_train_score': 0.9625, 'split1_train_score': 1.0, 'split2_train_score': 0.9625, 'mean_train_score': 0.975, 'std_train_score': 0.017677669529663678}, system_attrs={'terminator:cv_scores': [0.975, 0.9, 0.975]}, intermediate_values={}, distributions={'C': FloatDistribution(high=1.0, log=False, low=0.01, step=None), 'kernel': CategoricalDistribution(choices=('linear', 'poly', 'rbf', 'sigmoid')), 'gamma': FloatDistribution(high=1.0, log=False, low=0.01, step=None)}, trial_id=36, value=None),\n",
       " FrozenTrial(number=37, state=1, values=[0.9583333333333334], datetime_start=datetime.datetime(2024, 7, 5, 21, 51, 4, 954286), datetime_complete=datetime.datetime(2024, 7, 5, 21, 51, 5, 191829), params={'C': 0.6877627116916725, 'kernel': 'poly', 'gamma': 0.39254108559618056}, user_attrs={'mean_fit_time': 0.01906593640645345, 'std_fit_time': 0.006951996394155648, 'mean_score_time': 0.0011279582977294922, 'std_score_time': 0.0001380792852520471, 'split0_test_score': 0.975, 'split1_test_score': 0.9, 'split2_test_score': 1.0, 'mean_test_score': 0.9583333333333334, 'std_test_score': 0.04249182927993986, 'split0_train_score': 0.9875, 'split1_train_score': 1.0, 'split2_train_score': 0.975, 'mean_train_score': 0.9874999999999999, 'std_train_score': 0.010206207261596585}, system_attrs={'terminator:cv_scores': [0.975, 0.9, 1.0]}, intermediate_values={}, distributions={'C': FloatDistribution(high=1.0, log=False, low=0.01, step=None), 'kernel': CategoricalDistribution(choices=('linear', 'poly', 'rbf', 'sigmoid')), 'gamma': FloatDistribution(high=1.0, log=False, low=0.01, step=None)}, trial_id=37, value=None),\n",
       " FrozenTrial(number=38, state=1, values=[0.9583333333333334], datetime_start=datetime.datetime(2024, 7, 5, 21, 51, 4, 983007), datetime_complete=datetime.datetime(2024, 7, 5, 21, 51, 5, 272929), params={'C': 0.28780216463985003, 'kernel': 'linear', 'gamma': 0.031051206864970204}, user_attrs={'mean_fit_time': 0.013433138529459635, 'std_fit_time': 0.011629501747468986, 'mean_score_time': 0.017061551411946613, 'std_score_time': 0.00974891806407795, 'split0_test_score': 0.975, 'split1_test_score': 0.9, 'split2_test_score': 1.0, 'mean_test_score': 0.9583333333333334, 'std_test_score': 0.04249182927993986, 'split0_train_score': 0.9625, 'split1_train_score': 1.0, 'split2_train_score': 0.95, 'mean_train_score': 0.9708333333333332, 'std_train_score': 0.021245914639969946}, system_attrs={'terminator:cv_scores': [0.975, 0.9, 1.0]}, intermediate_values={}, distributions={'C': FloatDistribution(high=1.0, log=False, low=0.01, step=None), 'kernel': CategoricalDistribution(choices=('linear', 'poly', 'rbf', 'sigmoid')), 'gamma': FloatDistribution(high=1.0, log=False, low=0.01, step=None)}, trial_id=38, value=None),\n",
       " FrozenTrial(number=39, state=1, values=[0.9583333333333334], datetime_start=datetime.datetime(2024, 7, 5, 21, 51, 4, 991791), datetime_complete=datetime.datetime(2024, 7, 5, 21, 51, 5, 207345), params={'C': 0.2889415708828543, 'kernel': 'linear', 'gamma': 0.03964109705666018}, user_attrs={'mean_fit_time': 0.009828011194864908, 'std_fit_time': 0.008248302463324553, 'mean_score_time': 0.011965513229370117, 'std_score_time': 0.009382022374030173, 'split0_test_score': 0.975, 'split1_test_score': 0.9, 'split2_test_score': 1.0, 'mean_test_score': 0.9583333333333334, 'std_test_score': 0.04249182927993986, 'split0_train_score': 0.9625, 'split1_train_score': 1.0, 'split2_train_score': 0.95, 'mean_train_score': 0.9708333333333332, 'std_train_score': 0.021245914639969946}, system_attrs={'terminator:cv_scores': [0.975, 0.9, 1.0]}, intermediate_values={}, distributions={'C': FloatDistribution(high=1.0, log=False, low=0.01, step=None), 'kernel': CategoricalDistribution(choices=('linear', 'poly', 'rbf', 'sigmoid')), 'gamma': FloatDistribution(high=1.0, log=False, low=0.01, step=None)}, trial_id=39, value=None),\n",
       " FrozenTrial(number=40, state=1, values=[0.2416666666666667], datetime_start=datetime.datetime(2024, 7, 5, 21, 51, 5, 46288), datetime_complete=datetime.datetime(2024, 7, 5, 21, 51, 5, 329176), params={'C': 0.28951933686250075, 'kernel': 'sigmoid', 'gamma': 0.23319859010420185}, user_attrs={'mean_fit_time': 0.016849358876546223, 'std_fit_time': 0.010859556592264081, 'mean_score_time': 0.010294437408447266, 'std_score_time': 0.005717121830178492, 'split0_test_score': 0.325, 'split1_test_score': 0.2, 'split2_test_score': 0.2, 'mean_test_score': 0.2416666666666667, 'std_test_score': 0.05892556509887896, 'split0_train_score': 0.35, 'split1_train_score': 0.2375, 'split2_train_score': 0.25, 'mean_train_score': 0.2791666666666666, 'std_train_score': 0.05034602488997738}, system_attrs={'terminator:cv_scores': [0.325, 0.2, 0.2]}, intermediate_values={}, distributions={'C': FloatDistribution(high=1.0, log=False, low=0.01, step=None), 'kernel': CategoricalDistribution(choices=('linear', 'poly', 'rbf', 'sigmoid')), 'gamma': FloatDistribution(high=1.0, log=False, low=0.01, step=None)}, trial_id=40, value=None),\n",
       " FrozenTrial(number=41, state=1, values=[0.2416666666666667], datetime_start=datetime.datetime(2024, 7, 5, 21, 51, 5, 60994), datetime_complete=datetime.datetime(2024, 7, 5, 21, 51, 5, 366837), params={'C': 0.25914647597507434, 'kernel': 'sigmoid', 'gamma': 0.23482800416708732}, user_attrs={'mean_fit_time': 0.015848716100056965, 'std_fit_time': 0.009380990933326483, 'mean_score_time': 0.012025912602742514, 'std_score_time': 0.006129957185457594, 'split0_test_score': 0.325, 'split1_test_score': 0.2, 'split2_test_score': 0.2, 'mean_test_score': 0.2416666666666667, 'std_test_score': 0.05892556509887896, 'split0_train_score': 0.35, 'split1_train_score': 0.2375, 'split2_train_score': 0.25, 'mean_train_score': 0.2791666666666666, 'std_train_score': 0.05034602488997738}, system_attrs={'terminator:cv_scores': [0.325, 0.2, 0.2]}, intermediate_values={}, distributions={'C': FloatDistribution(high=1.0, log=False, low=0.01, step=None), 'kernel': CategoricalDistribution(choices=('linear', 'poly', 'rbf', 'sigmoid')), 'gamma': FloatDistribution(high=1.0, log=False, low=0.01, step=None)}, trial_id=41, value=None),\n",
       " FrozenTrial(number=42, state=1, values=[0.225], datetime_start=datetime.datetime(2024, 7, 5, 21, 51, 5, 87004), datetime_complete=datetime.datetime(2024, 7, 5, 21, 51, 5, 403934), params={'C': 0.46225814235320667, 'kernel': 'sigmoid', 'gamma': 0.2575339585501855}, user_attrs={'mean_fit_time': 0.02222291628519694, 'std_fit_time': 0.012668268247878254, 'mean_score_time': 0.011911471684773764, 'std_score_time': 0.00572405092004109, 'split0_test_score': 0.325, 'split1_test_score': 0.175, 'split2_test_score': 0.175, 'mean_test_score': 0.225, 'std_test_score': 0.07071067811865477, 'split0_train_score': 0.35, 'split1_train_score': 0.2125, 'split2_train_score': 0.2125, 'mean_train_score': 0.25833333333333336, 'std_train_score': 0.06481812160876685}, system_attrs={'terminator:cv_scores': [0.325, 0.175, 0.175]}, intermediate_values={}, distributions={'C': FloatDistribution(high=1.0, log=False, low=0.01, step=None), 'kernel': CategoricalDistribution(choices=('linear', 'poly', 'rbf', 'sigmoid')), 'gamma': FloatDistribution(high=1.0, log=False, low=0.01, step=None)}, trial_id=42, value=None),\n",
       " FrozenTrial(number=43, state=1, values=[0.2333333333333333], datetime_start=datetime.datetime(2024, 7, 5, 21, 51, 5, 144990), datetime_complete=datetime.datetime(2024, 7, 5, 21, 51, 5, 449377), params={'C': 0.45743724999916796, 'kernel': 'sigmoid', 'gamma': 0.24808439696814705}, user_attrs={'mean_fit_time': 0.01835799217224121, 'std_fit_time': 0.007250125615185307, 'mean_score_time': 0.011655410130818685, 'std_score_time': 0.0017411204850703375, 'split0_test_score': 0.325, 'split1_test_score': 0.175, 'split2_test_score': 0.2, 'mean_test_score': 0.2333333333333333, 'std_test_score': 0.06561673228343176, 'split0_train_score': 0.35, 'split1_train_score': 0.2125, 'split2_train_score': 0.2375, 'mean_train_score': 0.26666666666666666, 'std_train_score': 0.059802917060030505}, system_attrs={'terminator:cv_scores': [0.325, 0.175, 0.2]}, intermediate_values={}, distributions={'C': FloatDistribution(high=1.0, log=False, low=0.01, step=None), 'kernel': CategoricalDistribution(choices=('linear', 'poly', 'rbf', 'sigmoid')), 'gamma': FloatDistribution(high=1.0, log=False, low=0.01, step=None)}, trial_id=43, value=None),\n",
       " FrozenTrial(number=44, state=1, values=[0.2333333333333333], datetime_start=datetime.datetime(2024, 7, 5, 21, 51, 5, 155650), datetime_complete=datetime.datetime(2024, 7, 5, 21, 51, 5, 326930), params={'C': 0.45240503518734765, 'kernel': 'sigmoid', 'gamma': 0.23917792776998442}, user_attrs={'mean_fit_time': 0.006311734517415364, 'std_fit_time': 0.0023128884351453606, 'mean_score_time': 0.005565643310546875, 'std_score_time': 0.0036135911135342703, 'split0_test_score': 0.325, 'split1_test_score': 0.175, 'split2_test_score': 0.2, 'mean_test_score': 0.2333333333333333, 'std_test_score': 0.06561673228343176, 'split0_train_score': 0.35, 'split1_train_score': 0.225, 'split2_train_score': 0.2375, 'mean_train_score': 0.2708333333333333, 'std_train_score': 0.05621140651346683}, system_attrs={'terminator:cv_scores': [0.325, 0.175, 0.2]}, intermediate_values={}, distributions={'C': FloatDistribution(high=1.0, log=False, low=0.01, step=None), 'kernel': CategoricalDistribution(choices=('linear', 'poly', 'rbf', 'sigmoid')), 'gamma': FloatDistribution(high=1.0, log=False, low=0.01, step=None)}, trial_id=44, value=None),\n",
       " FrozenTrial(number=45, state=1, values=[0.2333333333333333], datetime_start=datetime.datetime(2024, 7, 5, 21, 51, 5, 189278), datetime_complete=datetime.datetime(2024, 7, 5, 21, 51, 5, 533274), params={'C': 0.4794170884614776, 'kernel': 'sigmoid', 'gamma': 0.23973481269710772}, user_attrs={'mean_fit_time': 0.013716697692871094, 'std_fit_time': 0.007610057980728075, 'mean_score_time': 0.011772235234578451, 'std_score_time': 0.0014092216447316606, 'split0_test_score': 0.325, 'split1_test_score': 0.175, 'split2_test_score': 0.2, 'mean_test_score': 0.2333333333333333, 'std_test_score': 0.06561673228343176, 'split0_train_score': 0.35, 'split1_train_score': 0.2125, 'split2_train_score': 0.2375, 'mean_train_score': 0.26666666666666666, 'std_train_score': 0.059802917060030505}, system_attrs={'terminator:cv_scores': [0.325, 0.175, 0.2]}, intermediate_values={}, distributions={'C': FloatDistribution(high=1.0, log=False, low=0.01, step=None), 'kernel': CategoricalDistribution(choices=('linear', 'poly', 'rbf', 'sigmoid')), 'gamma': FloatDistribution(high=1.0, log=False, low=0.01, step=None)}, trial_id=45, value=None),\n",
       " FrozenTrial(number=46, state=1, values=[0.18333333333333335], datetime_start=datetime.datetime(2024, 7, 5, 21, 51, 5, 208480), datetime_complete=datetime.datetime(2024, 7, 5, 21, 51, 5, 494268), params={'C': 0.4689798793467752, 'kernel': 'sigmoid', 'gamma': 0.2740720038214399}, user_attrs={'mean_fit_time': 0.026364723841349285, 'std_fit_time': 0.01836958207716555, 'mean_score_time': 0.010525782903035482, 'std_score_time': 0.00994456092914918, 'split0_test_score': 0.325, 'split1_test_score': 0.1, 'split2_test_score': 0.125, 'mean_test_score': 0.18333333333333335, 'std_test_score': 0.10069204977995476, 'split0_train_score': 0.35, 'split1_train_score': 0.175, 'split2_train_score': 0.125, 'mean_train_score': 0.21666666666666665, 'std_train_score': 0.09646530752325187}, system_attrs={'terminator:cv_scores': [0.325, 0.1, 0.125]}, intermediate_values={}, distributions={'C': FloatDistribution(high=1.0, log=False, low=0.01, step=None), 'kernel': CategoricalDistribution(choices=('linear', 'poly', 'rbf', 'sigmoid')), 'gamma': FloatDistribution(high=1.0, log=False, low=0.01, step=None)}, trial_id=46, value=None),\n",
       " FrozenTrial(number=47, state=1, values=[0.2333333333333333], datetime_start=datetime.datetime(2024, 7, 5, 21, 51, 5, 259671), datetime_complete=datetime.datetime(2024, 7, 5, 21, 51, 5, 537278), params={'C': 0.47148223942466105, 'kernel': 'sigmoid', 'gamma': 0.2516667674890988}, user_attrs={'mean_fit_time': 0.020870049794514973, 'std_fit_time': 0.013376471649240431, 'mean_score_time': 0.008666594823201498, 'std_score_time': 0.005446901766158426, 'split0_test_score': 0.325, 'split1_test_score': 0.175, 'split2_test_score': 0.2, 'mean_test_score': 0.2333333333333333, 'std_test_score': 0.06561673228343176, 'split0_train_score': 0.35, 'split1_train_score': 0.2125, 'split2_train_score': 0.225, 'mean_train_score': 0.2625, 'std_train_score': 0.06208193510729724}, system_attrs={'terminator:cv_scores': [0.325, 0.175, 0.2]}, intermediate_values={}, distributions={'C': FloatDistribution(high=1.0, log=False, low=0.01, step=None), 'kernel': CategoricalDistribution(choices=('linear', 'poly', 'rbf', 'sigmoid')), 'gamma': FloatDistribution(high=1.0, log=False, low=0.01, step=None)}, trial_id=47, value=None),\n",
       " FrozenTrial(number=48, state=1, values=[0.19166666666666668], datetime_start=datetime.datetime(2024, 7, 5, 21, 51, 5, 267149), datetime_complete=datetime.datetime(2024, 7, 5, 21, 51, 5, 498152), params={'C': 0.47469950488343554, 'kernel': 'sigmoid', 'gamma': 0.27815317692866887}, user_attrs={'mean_fit_time': 0.009164571762084961, 'std_fit_time': 0.00372569817153948, 'mean_score_time': 0.004850546518961589, 'std_score_time': 0.0018288374837980275, 'split0_test_score': 0.325, 'split1_test_score': 0.1, 'split2_test_score': 0.15, 'mean_test_score': 0.19166666666666668, 'std_test_score': 0.09646530752325189, 'split0_train_score': 0.35, 'split1_train_score': 0.1375, 'split2_train_score': 0.1375, 'mean_train_score': 0.20833333333333334, 'std_train_score': 0.10017346066809421}, system_attrs={'terminator:cv_scores': [0.325, 0.1, 0.15]}, intermediate_values={}, distributions={'C': FloatDistribution(high=1.0, log=False, low=0.01, step=None), 'kernel': CategoricalDistribution(choices=('linear', 'poly', 'rbf', 'sigmoid')), 'gamma': FloatDistribution(high=1.0, log=False, low=0.01, step=None)}, trial_id=48, value=None),\n",
       " FrozenTrial(number=49, state=1, values=[0.3416666666666666], datetime_start=datetime.datetime(2024, 7, 5, 21, 51, 5, 323585), datetime_complete=datetime.datetime(2024, 7, 5, 21, 51, 5, 557501), params={'C': 0.47715157317990453, 'kernel': 'sigmoid', 'gamma': 0.29014264628306985}, user_attrs={'mean_fit_time': 0.016942660013834637, 'std_fit_time': 0.007734326963292056, 'mean_score_time': 0.00948802630106608, 'std_score_time': 0.0032871597008361157, 'split0_test_score': 0.325, 'split1_test_score': 0.35, 'split2_test_score': 0.35, 'mean_test_score': 0.3416666666666666, 'std_test_score': 0.011785113019775776, 'split0_train_score': 0.35, 'split1_train_score': 0.3375, 'split2_train_score': 0.3375, 'mean_train_score': 0.3416666666666666, 'std_train_score': 0.005892556509887875}, system_attrs={'terminator:cv_scores': [0.325, 0.35, 0.35]}, intermediate_values={}, distributions={'C': FloatDistribution(high=1.0, log=False, low=0.01, step=None), 'kernel': CategoricalDistribution(choices=('linear', 'poly', 'rbf', 'sigmoid')), 'gamma': FloatDistribution(high=1.0, log=False, low=0.01, step=None)}, trial_id=49, value=None),\n",
       " FrozenTrial(number=50, state=1, values=[0.9500000000000001], datetime_start=datetime.datetime(2024, 7, 5, 21, 51, 5, 347871), datetime_complete=datetime.datetime(2024, 7, 5, 21, 51, 5, 549326), params={'C': 0.46655990494106103, 'kernel': 'poly', 'gamma': 0.11453643613914077}, user_attrs={'mean_fit_time': 0.009754498799641928, 'std_fit_time': 0.005319282787437494, 'mean_score_time': 0.004624287287394206, 'std_score_time': 0.005300505679783728, 'split0_test_score': 0.95, 'split1_test_score': 0.9, 'split2_test_score': 1.0, 'mean_test_score': 0.9500000000000001, 'std_test_score': 0.04082482904638629, 'split0_train_score': 0.975, 'split1_train_score': 1.0, 'split2_train_score': 0.9625, 'mean_train_score': 0.9791666666666666, 'std_train_score': 0.015590239111558084}, system_attrs={'terminator:cv_scores': [0.95, 0.9, 1.0]}, intermediate_values={}, distributions={'C': FloatDistribution(high=1.0, log=False, low=0.01, step=None), 'kernel': CategoricalDistribution(choices=('linear', 'poly', 'rbf', 'sigmoid')), 'gamma': FloatDistribution(high=1.0, log=False, low=0.01, step=None)}, trial_id=50, value=None),\n",
       " FrozenTrial(number=51, state=1, values=[0.9500000000000001], datetime_start=datetime.datetime(2024, 7, 5, 21, 51, 5, 378601), datetime_complete=datetime.datetime(2024, 7, 5, 21, 51, 5, 623038), params={'C': 0.465357910895591, 'kernel': 'poly', 'gamma': 0.08368167886186155}, user_attrs={'mean_fit_time': 0.016845305760701496, 'std_fit_time': 0.010409865070383663, 'mean_score_time': 0.00736085573832194, 'std_score_time': 0.008717500985469126, 'split0_test_score': 0.95, 'split1_test_score': 0.9, 'split2_test_score': 1.0, 'mean_test_score': 0.9500000000000001, 'std_test_score': 0.04082482904638629, 'split0_train_score': 0.975, 'split1_train_score': 1.0, 'split2_train_score': 0.9625, 'mean_train_score': 0.9791666666666666, 'std_train_score': 0.015590239111558084}, system_attrs={'terminator:cv_scores': [0.95, 0.9, 1.0]}, intermediate_values={}, distributions={'C': FloatDistribution(high=1.0, log=False, low=0.01, step=None), 'kernel': CategoricalDistribution(choices=('linear', 'poly', 'rbf', 'sigmoid')), 'gamma': FloatDistribution(high=1.0, log=False, low=0.01, step=None)}, trial_id=51, value=None),\n",
       " FrozenTrial(number=52, state=1, values=[0.9583333333333334], datetime_start=datetime.datetime(2024, 7, 5, 21, 51, 5, 407569), datetime_complete=datetime.datetime(2024, 7, 5, 21, 51, 5, 662897), params={'C': 0.33359925751873937, 'kernel': 'linear', 'gamma': 0.1032916834962454}, user_attrs={'mean_fit_time': 0.013994455337524414, 'std_fit_time': 0.006175981677666443, 'mean_score_time': 0.0019652843475341797, 'std_score_time': 0.0007663310433101495, 'split0_test_score': 0.975, 'split1_test_score': 0.9, 'split2_test_score': 1.0, 'mean_test_score': 0.9583333333333334, 'std_test_score': 0.04249182927993986, 'split0_train_score': 0.9625, 'split1_train_score': 1.0, 'split2_train_score': 0.95, 'mean_train_score': 0.9708333333333332, 'std_train_score': 0.021245914639969946}, system_attrs={'terminator:cv_scores': [0.975, 0.9, 1.0]}, intermediate_values={}, distributions={'C': FloatDistribution(high=1.0, log=False, low=0.01, step=None), 'kernel': CategoricalDistribution(choices=('linear', 'poly', 'rbf', 'sigmoid')), 'gamma': FloatDistribution(high=1.0, log=False, low=0.01, step=None)}, trial_id=52, value=None),\n",
       " FrozenTrial(number=53, state=1, values=[0.9500000000000001], datetime_start=datetime.datetime(2024, 7, 5, 21, 51, 5, 462949), datetime_complete=datetime.datetime(2024, 7, 5, 21, 51, 5, 774754), params={'C': 0.3398217463020026, 'kernel': 'poly', 'gamma': 0.08137287527766127}, user_attrs={'mean_fit_time': 0.024652481079101562, 'std_fit_time': 0.011859356723383582, 'mean_score_time': 0.0008369286855061849, 'std_score_time': 5.974128743237899e-05, 'split0_test_score': 0.975, 'split1_test_score': 0.9, 'split2_test_score': 0.975, 'mean_test_score': 0.9500000000000001, 'std_test_score': 0.035355339059327355, 'split0_train_score': 0.975, 'split1_train_score': 1.0, 'split2_train_score': 0.9625, 'mean_train_score': 0.9791666666666666, 'std_train_score': 0.015590239111558084}, system_attrs={'terminator:cv_scores': [0.975, 0.9, 0.975]}, intermediate_values={}, distributions={'C': FloatDistribution(high=1.0, log=False, low=0.01, step=None), 'kernel': CategoricalDistribution(choices=('linear', 'poly', 'rbf', 'sigmoid')), 'gamma': FloatDistribution(high=1.0, log=False, low=0.01, step=None)}, trial_id=53, value=None),\n",
       " FrozenTrial(number=54, state=1, values=[0.9500000000000001], datetime_start=datetime.datetime(2024, 7, 5, 21, 51, 5, 508263), datetime_complete=datetime.datetime(2024, 7, 5, 21, 51, 5, 764124), params={'C': 0.3434056924802205, 'kernel': 'poly', 'gamma': 0.09622369410909681}, user_attrs={'mean_fit_time': 0.016935030619303387, 'std_fit_time': 0.0035466919191463556, 'mean_score_time': 0.008056720097859701, 'std_score_time': 0.00789302661384369, 'split0_test_score': 0.95, 'split1_test_score': 0.9, 'split2_test_score': 1.0, 'mean_test_score': 0.9500000000000001, 'std_test_score': 0.04082482904638629, 'split0_train_score': 0.975, 'split1_train_score': 1.0, 'split2_train_score': 0.9625, 'mean_train_score': 0.9791666666666666, 'std_train_score': 0.015590239111558084}, system_attrs={'terminator:cv_scores': [0.95, 0.9, 1.0]}, intermediate_values={}, distributions={'C': FloatDistribution(high=1.0, log=False, low=0.01, step=None), 'kernel': CategoricalDistribution(choices=('linear', 'poly', 'rbf', 'sigmoid')), 'gamma': FloatDistribution(high=1.0, log=False, low=0.01, step=None)}, trial_id=54, value=None),\n",
       " FrozenTrial(number=55, state=1, values=[0.9583333333333334], datetime_start=datetime.datetime(2024, 7, 5, 21, 51, 5, 553042), datetime_complete=datetime.datetime(2024, 7, 5, 21, 51, 5, 885571), params={'C': 0.1715621224303641, 'kernel': 'linear', 'gamma': 0.65718877731529}, user_attrs={'mean_fit_time': 0.020689964294433594, 'std_fit_time': 0.016244786974419303, 'mean_score_time': 0.024848143259684246, 'std_score_time': 0.003633110846301947, 'split0_test_score': 1.0, 'split1_test_score': 0.9, 'split2_test_score': 0.975, 'mean_test_score': 0.9583333333333334, 'std_test_score': 0.04249182927993986, 'split0_train_score': 0.9625, 'split1_train_score': 1.0, 'split2_train_score': 0.9625, 'mean_train_score': 0.975, 'std_train_score': 0.017677669529663678}, system_attrs={'terminator:cv_scores': [1.0, 0.9, 0.975]}, intermediate_values={}, distributions={'C': FloatDistribution(high=1.0, log=False, low=0.01, step=None), 'kernel': CategoricalDistribution(choices=('linear', 'poly', 'rbf', 'sigmoid')), 'gamma': FloatDistribution(high=1.0, log=False, low=0.01, step=None)}, trial_id=55, value=None),\n",
       " FrozenTrial(number=56, state=1, values=[0.9666666666666667], datetime_start=datetime.datetime(2024, 7, 5, 21, 51, 5, 569041), datetime_complete=datetime.datetime(2024, 7, 5, 21, 51, 5, 836439), params={'C': 0.41915795367154157, 'kernel': 'linear', 'gamma': 0.6572027508147602}, user_attrs={'mean_fit_time': 0.033162434895833336, 'std_fit_time': 0.015170087746497718, 'mean_score_time': 0.009899059931437174, 'std_score_time': 0.002560734082589257, 'split0_test_score': 1.0, 'split1_test_score': 0.9, 'split2_test_score': 1.0, 'mean_test_score': 0.9666666666666667, 'std_test_score': 0.04714045207910316, 'split0_train_score': 0.9625, 'split1_train_score': 1.0, 'split2_train_score': 0.9625, 'mean_train_score': 0.975, 'std_train_score': 0.017677669529663678}, system_attrs={'terminator:cv_scores': [1.0, 0.9, 1.0]}, intermediate_values={}, distributions={'C': FloatDistribution(high=1.0, log=False, low=0.01, step=None), 'kernel': CategoricalDistribution(choices=('linear', 'poly', 'rbf', 'sigmoid')), 'gamma': FloatDistribution(high=1.0, log=False, low=0.01, step=None)}, trial_id=56, value=None),\n",
       " FrozenTrial(number=57, state=1, values=[0.9666666666666667], datetime_start=datetime.datetime(2024, 7, 5, 21, 51, 5, 587362), datetime_complete=datetime.datetime(2024, 7, 5, 21, 51, 5, 849615), params={'C': 0.415333289456051, 'kernel': 'linear', 'gamma': 0.6501438313720518}, user_attrs={'mean_fit_time': 0.014791568120320639, 'std_fit_time': 0.006981695413452206, 'mean_score_time': 0.0013301372528076172, 'std_score_time': 0.00045095213007314216, 'split0_test_score': 1.0, 'split1_test_score': 0.9, 'split2_test_score': 1.0, 'mean_test_score': 0.9666666666666667, 'std_test_score': 0.04714045207910316, 'split0_train_score': 0.9625, 'split1_train_score': 1.0, 'split2_train_score': 0.9625, 'mean_train_score': 0.975, 'std_train_score': 0.017677669529663678}, system_attrs={'terminator:cv_scores': [1.0, 0.9, 1.0]}, intermediate_values={}, distributions={'C': FloatDistribution(high=1.0, log=False, low=0.01, step=None), 'kernel': CategoricalDistribution(choices=('linear', 'poly', 'rbf', 'sigmoid')), 'gamma': FloatDistribution(high=1.0, log=False, low=0.01, step=None)}, trial_id=57, value=None),\n",
       " FrozenTrial(number=58, state=1, values=[0.9583333333333334], datetime_start=datetime.datetime(2024, 7, 5, 21, 51, 5, 629008), datetime_complete=datetime.datetime(2024, 7, 5, 21, 51, 5, 881777), params={'C': 0.3396119844493323, 'kernel': 'linear', 'gamma': 0.6387638851665999}, user_attrs={'mean_fit_time': 0.014317194620768229, 'std_fit_time': 0.010286669944567645, 'mean_score_time': 0.010979811350504557, 'std_score_time': 0.007611577708671523, 'split0_test_score': 0.975, 'split1_test_score': 0.9, 'split2_test_score': 1.0, 'mean_test_score': 0.9583333333333334, 'std_test_score': 0.04249182927993986, 'split0_train_score': 0.9625, 'split1_train_score': 1.0, 'split2_train_score': 0.95, 'mean_train_score': 0.9708333333333332, 'std_train_score': 0.021245914639969946}, system_attrs={'terminator:cv_scores': [0.975, 0.9, 1.0]}, intermediate_values={}, distributions={'C': FloatDistribution(high=1.0, log=False, low=0.01, step=None), 'kernel': CategoricalDistribution(choices=('linear', 'poly', 'rbf', 'sigmoid')), 'gamma': FloatDistribution(high=1.0, log=False, low=0.01, step=None)}, trial_id=58, value=None),\n",
       " FrozenTrial(number=59, state=1, values=[0.9666666666666667], datetime_start=datetime.datetime(2024, 7, 5, 21, 51, 5, 637604), datetime_complete=datetime.datetime(2024, 7, 5, 21, 51, 5, 910356), params={'C': 0.4026823497326015, 'kernel': 'linear', 'gamma': 0.6509799663112563}, user_attrs={'mean_fit_time': 0.019538402557373047, 'std_fit_time': 0.00682588886325711, 'mean_score_time': 0.018837610880533855, 'std_score_time': 0.002824227002877532, 'split0_test_score': 1.0, 'split1_test_score': 0.9, 'split2_test_score': 1.0, 'mean_test_score': 0.9666666666666667, 'std_test_score': 0.04714045207910316, 'split0_train_score': 0.975, 'split1_train_score': 1.0, 'split2_train_score': 0.9625, 'mean_train_score': 0.9791666666666666, 'std_train_score': 0.015590239111558084}, system_attrs={'terminator:cv_scores': [1.0, 0.9, 1.0]}, intermediate_values={}, distributions={'C': FloatDistribution(high=1.0, log=False, low=0.01, step=None), 'kernel': CategoricalDistribution(choices=('linear', 'poly', 'rbf', 'sigmoid')), 'gamma': FloatDistribution(high=1.0, log=False, low=0.01, step=None)}, trial_id=59, value=None),\n",
       " FrozenTrial(number=60, state=1, values=[0.9666666666666667], datetime_start=datetime.datetime(2024, 7, 5, 21, 51, 5, 644164), datetime_complete=datetime.datetime(2024, 7, 5, 21, 51, 5, 907956), params={'C': 0.4161645883211548, 'kernel': 'linear', 'gamma': 0.6484826970530544}, user_attrs={'mean_fit_time': 0.010421117146809896, 'std_fit_time': 0.006759405508463679, 'mean_score_time': 0.012213865915934244, 'std_score_time': 0.007025092062056692, 'split0_test_score': 1.0, 'split1_test_score': 0.9, 'split2_test_score': 1.0, 'mean_test_score': 0.9666666666666667, 'std_test_score': 0.04714045207910316, 'split0_train_score': 0.9625, 'split1_train_score': 1.0, 'split2_train_score': 0.9625, 'mean_train_score': 0.975, 'std_train_score': 0.017677669529663678}, system_attrs={'terminator:cv_scores': [1.0, 0.9, 1.0]}, intermediate_values={}, distributions={'C': FloatDistribution(high=1.0, log=False, low=0.01, step=None), 'kernel': CategoricalDistribution(choices=('linear', 'poly', 'rbf', 'sigmoid')), 'gamma': FloatDistribution(high=1.0, log=False, low=0.01, step=None)}, trial_id=60, value=None),\n",
       " FrozenTrial(number=61, state=1, values=[0.9666666666666667], datetime_start=datetime.datetime(2024, 7, 5, 21, 51, 5, 680339), datetime_complete=datetime.datetime(2024, 7, 5, 21, 51, 6, 12497), params={'C': 0.41556094184445425, 'kernel': 'linear', 'gamma': 0.6728491566777431}, user_attrs={'mean_fit_time': 0.007407585779825847, 'std_fit_time': 0.004289771575964192, 'mean_score_time': 0.016326745351155598, 'std_score_time': 0.00700338830928705, 'split0_test_score': 1.0, 'split1_test_score': 0.9, 'split2_test_score': 1.0, 'mean_test_score': 0.9666666666666667, 'std_test_score': 0.04714045207910316, 'split0_train_score': 0.9625, 'split1_train_score': 1.0, 'split2_train_score': 0.9625, 'mean_train_score': 0.975, 'std_train_score': 0.017677669529663678}, system_attrs={'terminator:cv_scores': [1.0, 0.9, 1.0]}, intermediate_values={}, distributions={'C': FloatDistribution(high=1.0, log=False, low=0.01, step=None), 'kernel': CategoricalDistribution(choices=('linear', 'poly', 'rbf', 'sigmoid')), 'gamma': FloatDistribution(high=1.0, log=False, low=0.01, step=None)}, trial_id=61, value=None),\n",
       " FrozenTrial(number=62, state=1, values=[0.9666666666666667], datetime_start=datetime.datetime(2024, 7, 5, 21, 51, 5, 706932), datetime_complete=datetime.datetime(2024, 7, 5, 21, 51, 5, 936229), params={'C': 0.4149607370567588, 'kernel': 'linear', 'gamma': 0.17912969528136347}, user_attrs={'mean_fit_time': 0.0068968931833903, 'std_fit_time': 0.002059515755682514, 'mean_score_time': 0.006019751230875651, 'std_score_time': 0.005597071421927786, 'split0_test_score': 1.0, 'split1_test_score': 0.9, 'split2_test_score': 1.0, 'mean_test_score': 0.9666666666666667, 'std_test_score': 0.04714045207910316, 'split0_train_score': 0.9625, 'split1_train_score': 1.0, 'split2_train_score': 0.9625, 'mean_train_score': 0.975, 'std_train_score': 0.017677669529663678}, system_attrs={'terminator:cv_scores': [1.0, 0.9, 1.0]}, intermediate_values={}, distributions={'C': FloatDistribution(high=1.0, log=False, low=0.01, step=None), 'kernel': CategoricalDistribution(choices=('linear', 'poly', 'rbf', 'sigmoid')), 'gamma': FloatDistribution(high=1.0, log=False, low=0.01, step=None)}, trial_id=62, value=None),\n",
       " FrozenTrial(number=63, state=1, values=[0.9666666666666667], datetime_start=datetime.datetime(2024, 7, 5, 21, 51, 5, 790293), datetime_complete=datetime.datetime(2024, 7, 5, 21, 51, 6, 52879), params={'C': 0.4210397829868563, 'kernel': 'linear', 'gamma': 0.6329752749857822}, user_attrs={'mean_fit_time': 0.02364373207092285, 'std_fit_time': 0.02799009526974377, 'mean_score_time': 0.006500244140625, 'std_score_time': 0.003760931778315249, 'split0_test_score': 1.0, 'split1_test_score': 0.9, 'split2_test_score': 1.0, 'mean_test_score': 0.9666666666666667, 'std_test_score': 0.04714045207910316, 'split0_train_score': 0.975, 'split1_train_score': 1.0, 'split2_train_score': 0.9625, 'mean_train_score': 0.9791666666666666, 'std_train_score': 0.015590239111558084}, system_attrs={'terminator:cv_scores': [1.0, 0.9, 1.0]}, intermediate_values={}, distributions={'C': FloatDistribution(high=1.0, log=False, low=0.01, step=None), 'kernel': CategoricalDistribution(choices=('linear', 'poly', 'rbf', 'sigmoid')), 'gamma': FloatDistribution(high=1.0, log=False, low=0.01, step=None)}, trial_id=63, value=None),\n",
       " FrozenTrial(number=64, state=1, values=[0.9666666666666667], datetime_start=datetime.datetime(2024, 7, 5, 21, 51, 5, 807037), datetime_complete=datetime.datetime(2024, 7, 5, 21, 51, 6, 169057), params={'C': 0.42336267683590467, 'kernel': 'linear', 'gamma': 0.6538787273387011}, user_attrs={'mean_fit_time': 0.008522510528564453, 'std_fit_time': 0.006114812695816506, 'mean_score_time': 0.0184938907623291, 'std_score_time': 0.014025993267494742, 'split0_test_score': 1.0, 'split1_test_score': 0.9, 'split2_test_score': 1.0, 'mean_test_score': 0.9666666666666667, 'std_test_score': 0.04714045207910316, 'split0_train_score': 0.975, 'split1_train_score': 1.0, 'split2_train_score': 0.9625, 'mean_train_score': 0.9791666666666666, 'std_train_score': 0.015590239111558084}, system_attrs={'terminator:cv_scores': [1.0, 0.9, 1.0]}, intermediate_values={}, distributions={'C': FloatDistribution(high=1.0, log=False, low=0.01, step=None), 'kernel': CategoricalDistribution(choices=('linear', 'poly', 'rbf', 'sigmoid')), 'gamma': FloatDistribution(high=1.0, log=False, low=0.01, step=None)}, trial_id=64, value=None),\n",
       " FrozenTrial(number=65, state=1, values=[0.9416666666666668], datetime_start=datetime.datetime(2024, 7, 5, 21, 51, 5, 873098), datetime_complete=datetime.datetime(2024, 7, 5, 21, 51, 6, 97867), params={'C': 0.17799593029185512, 'kernel': 'rbf', 'gamma': 0.1649245569838062}, user_attrs={'mean_fit_time': 0.022157589594523113, 'std_fit_time': 0.015795062377718824, 'mean_score_time': 0.007625659306844075, 'std_score_time': 0.0030932550943939974, 'split0_test_score': 0.975, 'split1_test_score': 0.9, 'split2_test_score': 0.95, 'mean_test_score': 0.9416666666666668, 'std_test_score': 0.03118047822311616, 'split0_train_score': 0.925, 'split1_train_score': 0.975, 'split2_train_score': 0.9375, 'mean_train_score': 0.9458333333333333, 'std_train_score': 0.021245914639969915}, system_attrs={'terminator:cv_scores': [0.975, 0.9, 0.95]}, intermediate_values={}, distributions={'C': FloatDistribution(high=1.0, log=False, low=0.01, step=None), 'kernel': CategoricalDistribution(choices=('linear', 'poly', 'rbf', 'sigmoid')), 'gamma': FloatDistribution(high=1.0, log=False, low=0.01, step=None)}, trial_id=65, value=None),\n",
       " FrozenTrial(number=66, state=1, values=[0.6750000000000002], datetime_start=datetime.datetime(2024, 7, 5, 21, 51, 5, 900876), datetime_complete=datetime.datetime(2024, 7, 5, 21, 51, 6, 177529), params={'C': 0.033028022377508126, 'kernel': 'rbf', 'gamma': 0.19462564074269395}, user_attrs={'mean_fit_time': 0.021506547927856445, 'std_fit_time': 0.009753834797292336, 'mean_score_time': 0.014573017756144205, 'std_score_time': 0.01018541671907747, 'split0_test_score': 0.675, 'split1_test_score': 0.675, 'split2_test_score': 0.675, 'mean_test_score': 0.6750000000000002, 'std_test_score': 1.1102230246251565e-16, 'split0_train_score': 0.675, 'split1_train_score': 0.675, 'split2_train_score': 0.675, 'mean_train_score': 0.6750000000000002, 'std_train_score': 1.1102230246251565e-16}, system_attrs={'terminator:cv_scores': [0.675, 0.675, 0.675]}, intermediate_values={}, distributions={'C': FloatDistribution(high=1.0, log=False, low=0.01, step=None), 'kernel': CategoricalDistribution(choices=('linear', 'poly', 'rbf', 'sigmoid')), 'gamma': FloatDistribution(high=1.0, log=False, low=0.01, step=None)}, trial_id=66, value=None),\n",
       " FrozenTrial(number=67, state=1, values=[0.9416666666666668], datetime_start=datetime.datetime(2024, 7, 5, 21, 51, 5, 928701), datetime_complete=datetime.datetime(2024, 7, 5, 21, 51, 6, 164304), params={'C': 0.9057094045299389, 'kernel': 'rbf', 'gamma': 0.16285863814626683}, user_attrs={'mean_fit_time': 0.01738262176513672, 'std_fit_time': 0.011052120209186913, 'mean_score_time': 0.007376511891682942, 'std_score_time': 0.004268476763719216, 'split0_test_score': 0.95, 'split1_test_score': 0.9, 'split2_test_score': 0.975, 'mean_test_score': 0.9416666666666668, 'std_test_score': 0.03118047822311616, 'split0_train_score': 0.9625, 'split1_train_score': 1.0, 'split2_train_score': 0.95, 'mean_train_score': 0.9708333333333332, 'std_train_score': 0.021245914639969946}, system_attrs={'terminator:cv_scores': [0.95, 0.9, 0.975]}, intermediate_values={}, distributions={'C': FloatDistribution(high=1.0, log=False, low=0.01, step=None), 'kernel': CategoricalDistribution(choices=('linear', 'poly', 'rbf', 'sigmoid')), 'gamma': FloatDistribution(high=1.0, log=False, low=0.01, step=None)}, trial_id=67, value=None),\n",
       " FrozenTrial(number=68, state=1, values=[0.9500000000000001], datetime_start=datetime.datetime(2024, 7, 5, 21, 51, 5, 958436), datetime_complete=datetime.datetime(2024, 7, 5, 21, 51, 6, 232192), params={'C': 0.6300605800057894, 'kernel': 'rbf', 'gamma': 0.14425292945133078}, user_attrs={'mean_fit_time': 0.014206965764363607, 'std_fit_time': 0.004830338643156676, 'mean_score_time': 0.01396028200785319, 'std_score_time': 0.008632341550213472, 'split0_test_score': 0.975, 'split1_test_score': 0.9, 'split2_test_score': 0.975, 'mean_test_score': 0.9500000000000001, 'std_test_score': 0.035355339059327355, 'split0_train_score': 0.95, 'split1_train_score': 1.0, 'split2_train_score': 0.9625, 'mean_train_score': 0.9708333333333333, 'std_train_score': 0.02124591463996995}, system_attrs={'terminator:cv_scores': [0.975, 0.9, 0.975]}, intermediate_values={}, distributions={'C': FloatDistribution(high=1.0, log=False, low=0.01, step=None), 'kernel': CategoricalDistribution(choices=('linear', 'poly', 'rbf', 'sigmoid')), 'gamma': FloatDistribution(high=1.0, log=False, low=0.01, step=None)}, trial_id=68, value=None),\n",
       " FrozenTrial(number=69, state=1, values=[0.9416666666666668], datetime_start=datetime.datetime(2024, 7, 5, 21, 51, 5, 974473), datetime_complete=datetime.datetime(2024, 7, 5, 21, 51, 6, 171417), params={'C': 0.9045318114209135, 'kernel': 'rbf', 'gamma': 0.1567577718148425}, user_attrs={'mean_fit_time': 0.00547035535176595, 'std_fit_time': 0.004005405454950475, 'mean_score_time': 0.010721604029337565, 'std_score_time': 0.005756813369813198, 'split0_test_score': 0.95, 'split1_test_score': 0.9, 'split2_test_score': 0.975, 'mean_test_score': 0.9416666666666668, 'std_test_score': 0.03118047822311616, 'split0_train_score': 0.9625, 'split1_train_score': 1.0, 'split2_train_score': 0.95, 'mean_train_score': 0.9708333333333332, 'std_train_score': 0.021245914639969946}, system_attrs={'terminator:cv_scores': [0.95, 0.9, 0.975]}, intermediate_values={}, distributions={'C': FloatDistribution(high=1.0, log=False, low=0.01, step=None), 'kernel': CategoricalDistribution(choices=('linear', 'poly', 'rbf', 'sigmoid')), 'gamma': FloatDistribution(high=1.0, log=False, low=0.01, step=None)}, trial_id=69, value=None),\n",
       " FrozenTrial(number=70, state=1, values=[0.6750000000000002], datetime_start=datetime.datetime(2024, 7, 5, 21, 51, 5, 996908), datetime_complete=datetime.datetime(2024, 7, 5, 21, 51, 6, 235062), params={'C': 0.042439936562044256, 'kernel': 'rbf', 'gamma': 0.14469851894435534}, user_attrs={'mean_fit_time': 0.006054878234863281, 'std_fit_time': 0.003682585840699799, 'mean_score_time': 0.006772597630818685, 'std_score_time': 0.001117598363324982, 'split0_test_score': 0.675, 'split1_test_score': 0.675, 'split2_test_score': 0.675, 'mean_test_score': 0.6750000000000002, 'std_test_score': 1.1102230246251565e-16, 'split0_train_score': 0.675, 'split1_train_score': 0.675, 'split2_train_score': 0.675, 'mean_train_score': 0.6750000000000002, 'std_train_score': 1.1102230246251565e-16}, system_attrs={'terminator:cv_scores': [0.675, 0.675, 0.675]}, intermediate_values={}, distributions={'C': FloatDistribution(high=1.0, log=False, low=0.01, step=None), 'kernel': CategoricalDistribution(choices=('linear', 'poly', 'rbf', 'sigmoid')), 'gamma': FloatDistribution(high=1.0, log=False, low=0.01, step=None)}, trial_id=70, value=None),\n",
       " FrozenTrial(number=71, state=1, values=[0.9583333333333334], datetime_start=datetime.datetime(2024, 7, 5, 21, 51, 6, 60908), datetime_complete=datetime.datetime(2024, 7, 5, 21, 51, 6, 271023), params={'C': 0.3740777153713093, 'kernel': 'rbf', 'gamma': 0.15060061041523934}, user_attrs={'mean_fit_time': 0.008209784825642904, 'std_fit_time': 0.0019218405522867092, 'mean_score_time': 0.01580969492594401, 'std_score_time': 0.007518245021248623, 'split0_test_score': 0.975, 'split1_test_score': 0.925, 'split2_test_score': 0.975, 'mean_test_score': 0.9583333333333334, 'std_test_score': 0.023570226039551553, 'split0_train_score': 0.9375, 'split1_train_score': 0.975, 'split2_train_score': 0.9625, 'mean_train_score': 0.9583333333333334, 'std_train_score': 0.015590239111558084}, system_attrs={'terminator:cv_scores': [0.975, 0.925, 0.975]}, intermediate_values={}, distributions={'C': FloatDistribution(high=1.0, log=False, low=0.01, step=None), 'kernel': CategoricalDistribution(choices=('linear', 'poly', 'rbf', 'sigmoid')), 'gamma': FloatDistribution(high=1.0, log=False, low=0.01, step=None)}, trial_id=71, value=None),\n",
       " FrozenTrial(number=72, state=1, values=[0.9500000000000001], datetime_start=datetime.datetime(2024, 7, 5, 21, 51, 6, 86373), datetime_complete=datetime.datetime(2024, 7, 5, 21, 51, 6, 335043), params={'C': 0.5193894656010546, 'kernel': 'rbf', 'gamma': 0.13407702996212056}, user_attrs={'mean_fit_time': 0.01013946533203125, 'std_fit_time': 0.004636484258377243, 'mean_score_time': 0.010808547337849935, 'std_score_time': 0.01102030913749856, 'split0_test_score': 0.95, 'split1_test_score': 0.925, 'split2_test_score': 0.975, 'mean_test_score': 0.9500000000000001, 'std_test_score': 0.020412414523193124, 'split0_train_score': 0.9375, 'split1_train_score': 0.9875, 'split2_train_score': 0.9625, 'mean_train_score': 0.9625, 'std_train_score': 0.02041241452319317}, system_attrs={'terminator:cv_scores': [0.95, 0.925, 0.975]}, intermediate_values={}, distributions={'C': FloatDistribution(high=1.0, log=False, low=0.01, step=None), 'kernel': CategoricalDistribution(choices=('linear', 'poly', 'rbf', 'sigmoid')), 'gamma': FloatDistribution(high=1.0, log=False, low=0.01, step=None)}, trial_id=72, value=None),\n",
       " FrozenTrial(number=73, state=1, values=[0.9500000000000001], datetime_start=datetime.datetime(2024, 7, 5, 21, 51, 6, 172607), datetime_complete=datetime.datetime(2024, 7, 5, 21, 51, 6, 347286), params={'C': 0.5257270757669839, 'kernel': 'rbf', 'gamma': 0.33629722244663285}, user_attrs={'mean_fit_time': 0.004884401957194011, 'std_fit_time': 0.002370480063559184, 'mean_score_time': 0.006931861241658528, 'std_score_time': 0.0004159923621046798, 'split0_test_score': 0.975, 'split1_test_score': 0.9, 'split2_test_score': 0.975, 'mean_test_score': 0.9500000000000001, 'std_test_score': 0.035355339059327355, 'split0_train_score': 0.95, 'split1_train_score': 1.0, 'split2_train_score': 0.95, 'mean_train_score': 0.9666666666666667, 'std_train_score': 0.023570226039551608}, system_attrs={'terminator:cv_scores': [0.975, 0.9, 0.975]}, intermediate_values={}, distributions={'C': FloatDistribution(high=1.0, log=False, low=0.01, step=None), 'kernel': CategoricalDistribution(choices=('linear', 'poly', 'rbf', 'sigmoid')), 'gamma': FloatDistribution(high=1.0, log=False, low=0.01, step=None)}, trial_id=73, value=None),\n",
       " FrozenTrial(number=74, state=1, values=[0.9500000000000001], datetime_start=datetime.datetime(2024, 7, 5, 21, 51, 6, 182439), datetime_complete=datetime.datetime(2024, 7, 5, 21, 51, 6, 526402), params={'C': 0.5321532946519916, 'kernel': 'rbf', 'gamma': 0.511441464518497}, user_attrs={'mean_fit_time': 0.03110051155090332, 'std_fit_time': 0.016356890589702543, 'mean_score_time': 0.010197003682454428, 'std_score_time': 0.006527794850135846, 'split0_test_score': 0.975, 'split1_test_score': 0.9, 'split2_test_score': 0.975, 'mean_test_score': 0.9500000000000001, 'std_test_score': 0.035355339059327355, 'split0_train_score': 0.9625, 'split1_train_score': 1.0, 'split2_train_score': 0.9625, 'mean_train_score': 0.975, 'std_train_score': 0.017677669529663678}, system_attrs={'terminator:cv_scores': [0.975, 0.9, 0.975]}, intermediate_values={}, distributions={'C': FloatDistribution(high=1.0, log=False, low=0.01, step=None), 'kernel': CategoricalDistribution(choices=('linear', 'poly', 'rbf', 'sigmoid')), 'gamma': FloatDistribution(high=1.0, log=False, low=0.01, step=None)}, trial_id=74, value=None),\n",
       " FrozenTrial(number=75, state=1, values=[0.9500000000000001], datetime_start=datetime.datetime(2024, 7, 5, 21, 51, 6, 186975), datetime_complete=datetime.datetime(2024, 7, 5, 21, 51, 6, 418400), params={'C': 0.6222477076375472, 'kernel': 'rbf', 'gamma': 0.1322401962318375}, user_attrs={'mean_fit_time': 0.014870166778564453, 'std_fit_time': 0.007637091943349508, 'mean_score_time': 0.006494204203287761, 'std_score_time': 0.0028574658794479763, 'split0_test_score': 0.975, 'split1_test_score': 0.9, 'split2_test_score': 0.975, 'mean_test_score': 0.9500000000000001, 'std_test_score': 0.035355339059327355, 'split0_train_score': 0.95, 'split1_train_score': 0.9875, 'split2_train_score': 0.9625, 'mean_train_score': 0.9666666666666667, 'std_train_score': 0.015590239111558123}, system_attrs={'terminator:cv_scores': [0.975, 0.9, 0.975]}, intermediate_values={}, distributions={'C': FloatDistribution(high=1.0, log=False, low=0.01, step=None), 'kernel': CategoricalDistribution(choices=('linear', 'poly', 'rbf', 'sigmoid')), 'gamma': FloatDistribution(high=1.0, log=False, low=0.01, step=None)}, trial_id=75, value=None),\n",
       " FrozenTrial(number=76, state=1, values=[0.9500000000000001], datetime_start=datetime.datetime(2024, 7, 5, 21, 51, 6, 193105), datetime_complete=datetime.datetime(2024, 7, 5, 21, 51, 6, 430856), params={'C': 0.5226873299013627, 'kernel': 'rbf', 'gamma': 0.3372992263329013}, user_attrs={'mean_fit_time': 0.007703304290771484, 'std_fit_time': 0.0043991912559968845, 'mean_score_time': 0.0030317306518554688, 'std_score_time': 0.001160007426992786, 'split0_test_score': 0.975, 'split1_test_score': 0.9, 'split2_test_score': 0.975, 'mean_test_score': 0.9500000000000001, 'std_test_score': 0.035355339059327355, 'split0_train_score': 0.95, 'split1_train_score': 1.0, 'split2_train_score': 0.95, 'mean_train_score': 0.9666666666666667, 'std_train_score': 0.023570226039551608}, system_attrs={'terminator:cv_scores': [0.975, 0.9, 0.975]}, intermediate_values={}, distributions={'C': FloatDistribution(high=1.0, log=False, low=0.01, step=None), 'kernel': CategoricalDistribution(choices=('linear', 'poly', 'rbf', 'sigmoid')), 'gamma': FloatDistribution(high=1.0, log=False, low=0.01, step=None)}, trial_id=76, value=None),\n",
       " FrozenTrial(number=77, state=1, values=[0.9500000000000001], datetime_start=datetime.datetime(2024, 7, 5, 21, 51, 6, 271899), datetime_complete=datetime.datetime(2024, 7, 5, 21, 51, 6, 484547), params={'C': 0.5172728840610464, 'kernel': 'linear', 'gamma': 0.7641297399250856}, user_attrs={'mean_fit_time': 0.007263739903767903, 'std_fit_time': 0.0006679504699343384, 'mean_score_time': 0.0035001436869303384, 'std_score_time': 0.002584821820324078, 'split0_test_score': 0.975, 'split1_test_score': 0.9, 'split2_test_score': 0.975, 'mean_test_score': 0.9500000000000001, 'std_test_score': 0.035355339059327355, 'split0_train_score': 0.9875, 'split1_train_score': 1.0, 'split2_train_score': 0.95, 'mean_train_score': 0.9791666666666666, 'std_train_score': 0.021245914639969964}, system_attrs={'terminator:cv_scores': [0.975, 0.9, 0.975]}, intermediate_values={}, distributions={'C': FloatDistribution(high=1.0, log=False, low=0.01, step=None), 'kernel': CategoricalDistribution(choices=('linear', 'poly', 'rbf', 'sigmoid')), 'gamma': FloatDistribution(high=1.0, log=False, low=0.01, step=None)}, trial_id=77, value=None),\n",
       " FrozenTrial(number=78, state=1, values=[0.9500000000000001], datetime_start=datetime.datetime(2024, 7, 5, 21, 51, 6, 277618), datetime_complete=datetime.datetime(2024, 7, 5, 21, 51, 6, 505969), params={'C': 0.517618182744414, 'kernel': 'linear', 'gamma': 0.7350727203407676}, user_attrs={'mean_fit_time': 0.006082375844319661, 'std_fit_time': 0.0021465949946107344, 'mean_score_time': 0.014044682184855143, 'std_score_time': 0.009590438848628119, 'split0_test_score': 0.975, 'split1_test_score': 0.9, 'split2_test_score': 0.975, 'mean_test_score': 0.9500000000000001, 'std_test_score': 0.035355339059327355, 'split0_train_score': 0.9875, 'split1_train_score': 1.0, 'split2_train_score': 0.95, 'mean_train_score': 0.9791666666666666, 'std_train_score': 0.021245914639969964}, system_attrs={'terminator:cv_scores': [0.975, 0.9, 0.975]}, intermediate_values={}, distributions={'C': FloatDistribution(high=1.0, log=False, low=0.01, step=None), 'kernel': CategoricalDistribution(choices=('linear', 'poly', 'rbf', 'sigmoid')), 'gamma': FloatDistribution(high=1.0, log=False, low=0.01, step=None)}, trial_id=78, value=None),\n",
       " FrozenTrial(number=79, state=1, values=[0.9500000000000001], datetime_start=datetime.datetime(2024, 7, 5, 21, 51, 6, 295705), datetime_complete=datetime.datetime(2024, 7, 5, 21, 51, 6, 593526), params={'C': 0.5129972286190787, 'kernel': 'linear', 'gamma': 0.762099913437606}, user_attrs={'mean_fit_time': 0.013792912165323893, 'std_fit_time': 0.010654654140410403, 'mean_score_time': 0.0019156932830810547, 'std_score_time': 0.0006175742913416512, 'split0_test_score': 0.975, 'split1_test_score': 0.9, 'split2_test_score': 0.975, 'mean_test_score': 0.9500000000000001, 'std_test_score': 0.035355339059327355, 'split0_train_score': 0.9875, 'split1_train_score': 1.0, 'split2_train_score': 0.95, 'mean_train_score': 0.9791666666666666, 'std_train_score': 0.021245914639969964}, system_attrs={'terminator:cv_scores': [0.975, 0.9, 0.975]}, intermediate_values={}, distributions={'C': FloatDistribution(high=1.0, log=False, low=0.01, step=None), 'kernel': CategoricalDistribution(choices=('linear', 'poly', 'rbf', 'sigmoid')), 'gamma': FloatDistribution(high=1.0, log=False, low=0.01, step=None)}, trial_id=79, value=None),\n",
       " FrozenTrial(number=80, state=1, values=[0.9583333333333334], datetime_start=datetime.datetime(2024, 7, 5, 21, 51, 6, 369044), datetime_complete=datetime.datetime(2024, 7, 5, 21, 51, 6, 692717), params={'C': 0.3147729340922557, 'kernel': 'linear', 'gamma': 0.7578044337069392}, user_attrs={'mean_fit_time': 0.012714227040608725, 'std_fit_time': 0.005697131143479408, 'mean_score_time': 0.00731356938680013, 'std_score_time': 0.0042919416425733275, 'split0_test_score': 0.975, 'split1_test_score': 0.9, 'split2_test_score': 1.0, 'mean_test_score': 0.9583333333333334, 'std_test_score': 0.04249182927993986, 'split0_train_score': 0.9625, 'split1_train_score': 1.0, 'split2_train_score': 0.95, 'mean_train_score': 0.9708333333333332, 'std_train_score': 0.021245914639969946}, system_attrs={'terminator:cv_scores': [0.975, 0.9, 1.0]}, intermediate_values={}, distributions={'C': FloatDistribution(high=1.0, log=False, low=0.01, step=None), 'kernel': CategoricalDistribution(choices=('linear', 'poly', 'rbf', 'sigmoid')), 'gamma': FloatDistribution(high=1.0, log=False, low=0.01, step=None)}, trial_id=80, value=None),\n",
       " FrozenTrial(number=81, state=1, values=[0.9583333333333334], datetime_start=datetime.datetime(2024, 7, 5, 21, 51, 6, 391361), datetime_complete=datetime.datetime(2024, 7, 5, 21, 51, 6, 673498), params={'C': 0.3169054638449668, 'kernel': 'linear', 'gamma': 0.7313665137110347}, user_attrs={'mean_fit_time': 0.01346882184346517, 'std_fit_time': 0.009668897909506098, 'mean_score_time': 0.007938067118326822, 'std_score_time': 0.001211384511021648, 'split0_test_score': 0.975, 'split1_test_score': 0.9, 'split2_test_score': 1.0, 'mean_test_score': 0.9583333333333334, 'std_test_score': 0.04249182927993986, 'split0_train_score': 0.9625, 'split1_train_score': 1.0, 'split2_train_score': 0.95, 'mean_train_score': 0.9708333333333332, 'std_train_score': 0.021245914639969946}, system_attrs={'terminator:cv_scores': [0.975, 0.9, 1.0]}, intermediate_values={}, distributions={'C': FloatDistribution(high=1.0, log=False, low=0.01, step=None), 'kernel': CategoricalDistribution(choices=('linear', 'poly', 'rbf', 'sigmoid')), 'gamma': FloatDistribution(high=1.0, log=False, low=0.01, step=None)}, trial_id=81, value=None),\n",
       " FrozenTrial(number=82, state=1, values=[0.9583333333333334], datetime_start=datetime.datetime(2024, 7, 5, 21, 51, 6, 394119), datetime_complete=datetime.datetime(2024, 7, 5, 21, 51, 6, 713076), params={'C': 0.2350769585239589, 'kernel': 'linear', 'gamma': 0.7226384345228581}, user_attrs={'mean_fit_time': 0.0037663777669270835, 'std_fit_time': 0.0021303219374706897, 'mean_score_time': 0.006604989369710286, 'std_score_time': 0.000960268870119134, 'split0_test_score': 0.975, 'split1_test_score': 0.9, 'split2_test_score': 1.0, 'mean_test_score': 0.9583333333333334, 'std_test_score': 0.04249182927993986, 'split0_train_score': 0.9625, 'split1_train_score': 1.0, 'split2_train_score': 0.9625, 'mean_train_score': 0.975, 'std_train_score': 0.017677669529663678}, system_attrs={'terminator:cv_scores': [0.975, 0.9, 1.0]}, intermediate_values={}, distributions={'C': FloatDistribution(high=1.0, log=False, low=0.01, step=None), 'kernel': CategoricalDistribution(choices=('linear', 'poly', 'rbf', 'sigmoid')), 'gamma': FloatDistribution(high=1.0, log=False, low=0.01, step=None)}, trial_id=82, value=None),\n",
       " FrozenTrial(number=83, state=1, values=[0.9583333333333334], datetime_start=datetime.datetime(2024, 7, 5, 21, 51, 6, 445152), datetime_complete=datetime.datetime(2024, 7, 5, 21, 51, 6, 742326), params={'C': 0.37071036029140714, 'kernel': 'linear', 'gamma': 0.7559976899186254}, user_attrs={'mean_fit_time': 0.012970924377441406, 'std_fit_time': 0.012593098510429357, 'mean_score_time': 0.003926753997802734, 'std_score_time': 0.0017381794625140586, 'split0_test_score': 0.975, 'split1_test_score': 0.9, 'split2_test_score': 1.0, 'mean_test_score': 0.9583333333333334, 'std_test_score': 0.04249182927993986, 'split0_train_score': 0.975, 'split1_train_score': 1.0, 'split2_train_score': 0.9625, 'mean_train_score': 0.9791666666666666, 'std_train_score': 0.015590239111558084}, system_attrs={'terminator:cv_scores': [0.975, 0.9, 1.0]}, intermediate_values={}, distributions={'C': FloatDistribution(high=1.0, log=False, low=0.01, step=None), 'kernel': CategoricalDistribution(choices=('linear', 'poly', 'rbf', 'sigmoid')), 'gamma': FloatDistribution(high=1.0, log=False, low=0.01, step=None)}, trial_id=83, value=None),\n",
       " FrozenTrial(number=84, state=1, values=[0.9583333333333334], datetime_start=datetime.datetime(2024, 7, 5, 21, 51, 6, 469191), datetime_complete=datetime.datetime(2024, 7, 5, 21, 51, 6, 910356), params={'C': 0.3122398409822909, 'kernel': 'linear', 'gamma': 0.5054151522065717}, user_attrs={'mean_fit_time': 0.01841560999552409, 'std_fit_time': 0.010612023403158805, 'mean_score_time': 0.00948476791381836, 'std_score_time': 0.005950405148720744, 'split0_test_score': 0.975, 'split1_test_score': 0.9, 'split2_test_score': 1.0, 'mean_test_score': 0.9583333333333334, 'std_test_score': 0.04249182927993986, 'split0_train_score': 0.9625, 'split1_train_score': 1.0, 'split2_train_score': 0.95, 'mean_train_score': 0.9708333333333332, 'std_train_score': 0.021245914639969946}, system_attrs={'terminator:cv_scores': [0.975, 0.9, 1.0]}, intermediate_values={}, distributions={'C': FloatDistribution(high=1.0, log=False, low=0.01, step=None), 'kernel': CategoricalDistribution(choices=('linear', 'poly', 'rbf', 'sigmoid')), 'gamma': FloatDistribution(high=1.0, log=False, low=0.01, step=None)}, trial_id=84, value=None),\n",
       " FrozenTrial(number=85, state=1, values=[0.975], datetime_start=datetime.datetime(2024, 7, 5, 21, 51, 6, 497930), datetime_complete=datetime.datetime(2024, 7, 5, 21, 51, 7, 22589), params={'C': 0.7852958362945321, 'kernel': 'linear', 'gamma': 0.06351868259890743}, user_attrs={'mean_fit_time': 0.026409467061360676, 'std_fit_time': 0.010941466338680771, 'mean_score_time': 0.015909671783447266, 'std_score_time': 0.015048065791553709, 'split0_test_score': 1.0, 'split1_test_score': 0.925, 'split2_test_score': 1.0, 'mean_test_score': 0.975, 'std_test_score': 0.035355339059327355, 'split0_train_score': 0.9875, 'split1_train_score': 1.0, 'split2_train_score': 0.95, 'mean_train_score': 0.9791666666666666, 'std_train_score': 0.021245914639969964}, system_attrs={'terminator:cv_scores': [1.0, 0.925, 1.0]}, intermediate_values={}, distributions={'C': FloatDistribution(high=1.0, log=False, low=0.01, step=None), 'kernel': CategoricalDistribution(choices=('linear', 'poly', 'rbf', 'sigmoid')), 'gamma': FloatDistribution(high=1.0, log=False, low=0.01, step=None)}, trial_id=85, value=None),\n",
       " FrozenTrial(number=86, state=1, values=[0.9583333333333334], datetime_start=datetime.datetime(2024, 7, 5, 21, 51, 6, 510020), datetime_complete=datetime.datetime(2024, 7, 5, 21, 51, 6, 872827), params={'C': 0.3673141572811234, 'kernel': 'linear', 'gamma': 0.5134908478829342}, user_attrs={'mean_fit_time': 0.022382020950317383, 'std_fit_time': 0.015708978523737902, 'mean_score_time': 0.009214162826538086, 'std_score_time': 0.003944734127042117, 'split0_test_score': 0.975, 'split1_test_score': 0.9, 'split2_test_score': 1.0, 'mean_test_score': 0.9583333333333334, 'std_test_score': 0.04249182927993986, 'split0_train_score': 0.9625, 'split1_train_score': 1.0, 'split2_train_score': 0.9625, 'mean_train_score': 0.975, 'std_train_score': 0.017677669529663678}, system_attrs={'terminator:cv_scores': [0.975, 0.9, 1.0]}, intermediate_values={}, distributions={'C': FloatDistribution(high=1.0, log=False, low=0.01, step=None), 'kernel': CategoricalDistribution(choices=('linear', 'poly', 'rbf', 'sigmoid')), 'gamma': FloatDistribution(high=1.0, log=False, low=0.01, step=None)}, trial_id=86, value=None),\n",
       " FrozenTrial(number=87, state=1, values=[0.9583333333333334], datetime_start=datetime.datetime(2024, 7, 5, 21, 51, 6, 523144), datetime_complete=datetime.datetime(2024, 7, 5, 21, 51, 7, 2135), params={'C': 0.36644511047082595, 'kernel': 'linear', 'gamma': 0.5033162530716812}, user_attrs={'mean_fit_time': 0.023186763127644856, 'std_fit_time': 0.021037939968104085, 'mean_score_time': 0.0054543813069661455, 'std_score_time': 0.0026911243643704657, 'split0_test_score': 0.975, 'split1_test_score': 0.9, 'split2_test_score': 1.0, 'mean_test_score': 0.9583333333333334, 'std_test_score': 0.04249182927993986, 'split0_train_score': 0.9625, 'split1_train_score': 1.0, 'split2_train_score': 0.95, 'mean_train_score': 0.9708333333333332, 'std_train_score': 0.021245914639969946}, system_attrs={'terminator:cv_scores': [0.975, 0.9, 1.0]}, intermediate_values={}, distributions={'C': FloatDistribution(high=1.0, log=False, low=0.01, step=None), 'kernel': CategoricalDistribution(choices=('linear', 'poly', 'rbf', 'sigmoid')), 'gamma': FloatDistribution(high=1.0, log=False, low=0.01, step=None)}, trial_id=87, value=None),\n",
       " FrozenTrial(number=88, state=1, values=[0.9583333333333334], datetime_start=datetime.datetime(2024, 7, 5, 21, 51, 6, 537414), datetime_complete=datetime.datetime(2024, 7, 5, 21, 51, 6, 955843), params={'C': 0.23633331763199963, 'kernel': 'linear', 'gamma': 0.04936857051999513}, user_attrs={'mean_fit_time': 0.025048176447550457, 'std_fit_time': 0.00942916112574541, 'mean_score_time': 0.006112893422444661, 'std_score_time': 0.0010052899400996857, 'split0_test_score': 0.975, 'split1_test_score': 0.9, 'split2_test_score': 1.0, 'mean_test_score': 0.9583333333333334, 'std_test_score': 0.04249182927993986, 'split0_train_score': 0.9625, 'split1_train_score': 1.0, 'split2_train_score': 0.9625, 'mean_train_score': 0.975, 'std_train_score': 0.017677669529663678}, system_attrs={'terminator:cv_scores': [0.975, 0.9, 1.0]}, intermediate_values={}, distributions={'C': FloatDistribution(high=1.0, log=False, low=0.01, step=None), 'kernel': CategoricalDistribution(choices=('linear', 'poly', 'rbf', 'sigmoid')), 'gamma': FloatDistribution(high=1.0, log=False, low=0.01, step=None)}, trial_id=88, value=None),\n",
       " FrozenTrial(number=89, state=1, values=[0.9583333333333334], datetime_start=datetime.datetime(2024, 7, 5, 21, 51, 6, 552550), datetime_complete=datetime.datetime(2024, 7, 5, 21, 51, 6, 967886), params={'C': 0.2423268874768905, 'kernel': 'linear', 'gamma': 0.06701305344808381}, user_attrs={'mean_fit_time': 0.024292469024658203, 'std_fit_time': 0.017186967831264124, 'mean_score_time': 0.009367863337198893, 'std_score_time': 0.008254324860403946, 'split0_test_score': 0.975, 'split1_test_score': 0.9, 'split2_test_score': 1.0, 'mean_test_score': 0.9583333333333334, 'std_test_score': 0.04249182927993986, 'split0_train_score': 0.9625, 'split1_train_score': 1.0, 'split2_train_score': 0.9625, 'mean_train_score': 0.975, 'std_train_score': 0.017677669529663678}, system_attrs={'terminator:cv_scores': [0.975, 0.9, 1.0]}, intermediate_values={}, distributions={'C': FloatDistribution(high=1.0, log=False, low=0.01, step=None), 'kernel': CategoricalDistribution(choices=('linear', 'poly', 'rbf', 'sigmoid')), 'gamma': FloatDistribution(high=1.0, log=False, low=0.01, step=None)}, trial_id=89, value=None),\n",
       " FrozenTrial(number=90, state=1, values=[0.9583333333333334], datetime_start=datetime.datetime(2024, 7, 5, 21, 51, 6, 627519), datetime_complete=datetime.datetime(2024, 7, 5, 21, 51, 7, 59063), params={'C': 0.23617516443985315, 'kernel': 'linear', 'gamma': 0.7009508811690532}, user_attrs={'mean_fit_time': 0.028515418370564777, 'std_fit_time': 0.0204038992790403, 'mean_score_time': 0.005615075429280599, 'std_score_time': 0.0021747671139729368, 'split0_test_score': 0.975, 'split1_test_score': 0.9, 'split2_test_score': 1.0, 'mean_test_score': 0.9583333333333334, 'std_test_score': 0.04249182927993986, 'split0_train_score': 0.9625, 'split1_train_score': 1.0, 'split2_train_score': 0.9625, 'mean_train_score': 0.975, 'std_train_score': 0.017677669529663678}, system_attrs={'terminator:cv_scores': [0.975, 0.9, 1.0]}, intermediate_values={}, distributions={'C': FloatDistribution(high=1.0, log=False, low=0.01, step=None), 'kernel': CategoricalDistribution(choices=('linear', 'poly', 'rbf', 'sigmoid')), 'gamma': FloatDistribution(high=1.0, log=False, low=0.01, step=None)}, trial_id=90, value=None),\n",
       " FrozenTrial(number=91, state=1, values=[0.9583333333333334], datetime_start=datetime.datetime(2024, 7, 5, 21, 51, 6, 644335), datetime_complete=datetime.datetime(2024, 7, 5, 21, 51, 6, 993465), params={'C': 0.36859258179789023, 'kernel': 'linear', 'gamma': 0.05564276960431912}, user_attrs={'mean_fit_time': 0.021176258722941082, 'std_fit_time': 0.010329055156878486, 'mean_score_time': 0.010479211807250977, 'std_score_time': 0.004319614222750951, 'split0_test_score': 0.975, 'split1_test_score': 0.9, 'split2_test_score': 1.0, 'mean_test_score': 0.9583333333333334, 'std_test_score': 0.04249182927993986, 'split0_train_score': 0.9625, 'split1_train_score': 1.0, 'split2_train_score': 0.9625, 'mean_train_score': 0.975, 'std_train_score': 0.017677669529663678}, system_attrs={'terminator:cv_scores': [0.975, 0.9, 1.0]}, intermediate_values={}, distributions={'C': FloatDistribution(high=1.0, log=False, low=0.01, step=None), 'kernel': CategoricalDistribution(choices=('linear', 'poly', 'rbf', 'sigmoid')), 'gamma': FloatDistribution(high=1.0, log=False, low=0.01, step=None)}, trial_id=91, value=None),\n",
       " FrozenTrial(number=92, state=1, values=[0.9583333333333334], datetime_start=datetime.datetime(2024, 7, 5, 21, 51, 6, 714290), datetime_complete=datetime.datetime(2024, 7, 5, 21, 51, 7, 102298), params={'C': 0.37179791246868504, 'kernel': 'linear', 'gamma': 0.6934406873068507}, user_attrs={'mean_fit_time': 0.018013954162597656, 'std_fit_time': 0.019389198414940866, 'mean_score_time': 0.009193102518717447, 'std_score_time': 0.0049855024703658385, 'split0_test_score': 0.975, 'split1_test_score': 0.9, 'split2_test_score': 1.0, 'mean_test_score': 0.9583333333333334, 'std_test_score': 0.04249182927993986, 'split0_train_score': 0.975, 'split1_train_score': 1.0, 'split2_train_score': 0.9625, 'mean_train_score': 0.9791666666666666, 'std_train_score': 0.015590239111558084}, system_attrs={'terminator:cv_scores': [0.975, 0.9, 1.0]}, intermediate_values={}, distributions={'C': FloatDistribution(high=1.0, log=False, low=0.01, step=None), 'kernel': CategoricalDistribution(choices=('linear', 'poly', 'rbf', 'sigmoid')), 'gamma': FloatDistribution(high=1.0, log=False, low=0.01, step=None)}, trial_id=92, value=None),\n",
       " FrozenTrial(number=93, state=1, values=[0.9583333333333334], datetime_start=datetime.datetime(2024, 7, 5, 21, 51, 6, 745880), datetime_complete=datetime.datetime(2024, 7, 5, 21, 51, 7, 86468), params={'C': 0.3814980132600984, 'kernel': 'linear', 'gamma': 0.6115335272029975}, user_attrs={'mean_fit_time': 0.027242263158162434, 'std_fit_time': 0.02700216441713569, 'mean_score_time': 0.004711310068766276, 'std_score_time': 0.003991680391432732, 'split0_test_score': 0.975, 'split1_test_score': 0.9, 'split2_test_score': 1.0, 'mean_test_score': 0.9583333333333334, 'std_test_score': 0.04249182927993986, 'split0_train_score': 0.975, 'split1_train_score': 1.0, 'split2_train_score': 0.9625, 'mean_train_score': 0.9791666666666666, 'std_train_score': 0.015590239111558084}, system_attrs={'terminator:cv_scores': [0.975, 0.9, 1.0]}, intermediate_values={}, distributions={'C': FloatDistribution(high=1.0, log=False, low=0.01, step=None), 'kernel': CategoricalDistribution(choices=('linear', 'poly', 'rbf', 'sigmoid')), 'gamma': FloatDistribution(high=1.0, log=False, low=0.01, step=None)}, trial_id=93, value=None),\n",
       " FrozenTrial(number=94, state=1, values=[0.9666666666666667], datetime_start=datetime.datetime(2024, 7, 5, 21, 51, 6, 749156), datetime_complete=datetime.datetime(2024, 7, 5, 21, 51, 7, 145336), params={'C': 0.4452728778651728, 'kernel': 'linear', 'gamma': 0.6032270212601432}, user_attrs={'mean_fit_time': 0.014157931009928385, 'std_fit_time': 0.00494582521486064, 'mean_score_time': 0.018091917037963867, 'std_score_time': 0.011909563088552167, 'split0_test_score': 1.0, 'split1_test_score': 0.9, 'split2_test_score': 1.0, 'mean_test_score': 0.9666666666666667, 'std_test_score': 0.04714045207910316, 'split0_train_score': 0.9875, 'split1_train_score': 1.0, 'split2_train_score': 0.9625, 'mean_train_score': 0.9833333333333334, 'std_train_score': 0.015590239111558084}, system_attrs={'terminator:cv_scores': [1.0, 0.9, 1.0]}, intermediate_values={}, distributions={'C': FloatDistribution(high=1.0, log=False, low=0.01, step=None), 'kernel': CategoricalDistribution(choices=('linear', 'poly', 'rbf', 'sigmoid')), 'gamma': FloatDistribution(high=1.0, log=False, low=0.01, step=None)}, trial_id=94, value=None),\n",
       " FrozenTrial(number=95, state=1, values=[0.9583333333333334], datetime_start=datetime.datetime(2024, 7, 5, 21, 51, 6, 781038), datetime_complete=datetime.datetime(2024, 7, 5, 21, 51, 7, 122885), params={'C': 0.36223404665689674, 'kernel': 'linear', 'gamma': 0.5992739103685527}, user_attrs={'mean_fit_time': 0.010689020156860352, 'std_fit_time': 0.008709183272234109, 'mean_score_time': 0.007625261942545573, 'std_score_time': 0.0027382108841335876, 'split0_test_score': 0.975, 'split1_test_score': 0.9, 'split2_test_score': 1.0, 'mean_test_score': 0.9583333333333334, 'std_test_score': 0.04249182927993986, 'split0_train_score': 0.9625, 'split1_train_score': 1.0, 'split2_train_score': 0.95, 'mean_train_score': 0.9708333333333332, 'std_train_score': 0.021245914639969946}, system_attrs={'terminator:cv_scores': [0.975, 0.9, 1.0]}, intermediate_values={}, distributions={'C': FloatDistribution(high=1.0, log=False, low=0.01, step=None), 'kernel': CategoricalDistribution(choices=('linear', 'poly', 'rbf', 'sigmoid')), 'gamma': FloatDistribution(high=1.0, log=False, low=0.01, step=None)}, trial_id=95, value=None),\n",
       " FrozenTrial(number=96, state=1, values=[0.9583333333333334], datetime_start=datetime.datetime(2024, 7, 5, 21, 51, 6, 920105), datetime_complete=datetime.datetime(2024, 7, 5, 21, 51, 7, 162800), params={'C': 0.36081354164643303, 'kernel': 'linear', 'gamma': 0.6904005362985546}, user_attrs={'mean_fit_time': 0.017414967219034832, 'std_fit_time': 0.010155315978739705, 'mean_score_time': 0.004964431126912435, 'std_score_time': 0.002041440260197841, 'split0_test_score': 0.975, 'split1_test_score': 0.9, 'split2_test_score': 1.0, 'mean_test_score': 0.9583333333333334, 'std_test_score': 0.04249182927993986, 'split0_train_score': 0.9625, 'split1_train_score': 1.0, 'split2_train_score': 0.95, 'mean_train_score': 0.9708333333333332, 'std_train_score': 0.021245914639969946}, system_attrs={'terminator:cv_scores': [0.975, 0.9, 1.0]}, intermediate_values={}, distributions={'C': FloatDistribution(high=1.0, log=False, low=0.01, step=None), 'kernel': CategoricalDistribution(choices=('linear', 'poly', 'rbf', 'sigmoid')), 'gamma': FloatDistribution(high=1.0, log=False, low=0.01, step=None)}, trial_id=96, value=None),\n",
       " FrozenTrial(number=97, state=1, values=[0.9666666666666667], datetime_start=datetime.datetime(2024, 7, 5, 21, 51, 6, 969318), datetime_complete=datetime.datetime(2024, 7, 5, 21, 51, 7, 178608), params={'C': 0.4406755982579123, 'kernel': 'linear', 'gamma': 0.6104690890281559}, user_attrs={'mean_fit_time': 0.005968888600667317, 'std_fit_time': 0.0026783929829391068, 'mean_score_time': 0.004338184992472331, 'std_score_time': 0.0027206668635266365, 'split0_test_score': 1.0, 'split1_test_score': 0.9, 'split2_test_score': 1.0, 'mean_test_score': 0.9666666666666667, 'std_test_score': 0.04714045207910316, 'split0_train_score': 0.9875, 'split1_train_score': 1.0, 'split2_train_score': 0.9625, 'mean_train_score': 0.9833333333333334, 'std_train_score': 0.015590239111558084}, system_attrs={'terminator:cv_scores': [1.0, 0.9, 1.0]}, intermediate_values={}, distributions={'C': FloatDistribution(high=1.0, log=False, low=0.01, step=None), 'kernel': CategoricalDistribution(choices=('linear', 'poly', 'rbf', 'sigmoid')), 'gamma': FloatDistribution(high=1.0, log=False, low=0.01, step=None)}, trial_id=97, value=None),\n",
       " FrozenTrial(number=98, state=1, values=[0.975], datetime_start=datetime.datetime(2024, 7, 5, 21, 51, 6, 977995), datetime_complete=datetime.datetime(2024, 7, 5, 21, 51, 7, 169222), params={'C': 0.7791378067494497, 'kernel': 'linear', 'gamma': 0.6958198786304804}, user_attrs={'mean_fit_time': 0.004279692967732747, 'std_fit_time': 0.0031640903479969924, 'mean_score_time': 0.002215226491292318, 'std_score_time': 0.0007894532353629821, 'split0_test_score': 1.0, 'split1_test_score': 0.925, 'split2_test_score': 1.0, 'mean_test_score': 0.975, 'std_test_score': 0.035355339059327355, 'split0_train_score': 0.9875, 'split1_train_score': 1.0, 'split2_train_score': 0.95, 'mean_train_score': 0.9791666666666666, 'std_train_score': 0.021245914639969964}, system_attrs={'terminator:cv_scores': [1.0, 0.925, 1.0]}, intermediate_values={}, distributions={'C': FloatDistribution(high=1.0, log=False, low=0.01, step=None), 'kernel': CategoricalDistribution(choices=('linear', 'poly', 'rbf', 'sigmoid')), 'gamma': FloatDistribution(high=1.0, log=False, low=0.01, step=None)}, trial_id=98, value=None),\n",
       " FrozenTrial(number=99, state=1, values=[0.975], datetime_start=datetime.datetime(2024, 7, 5, 21, 51, 6, 996491), datetime_complete=datetime.datetime(2024, 7, 5, 21, 51, 7, 165390), params={'C': 0.7850611250772358, 'kernel': 'linear', 'gamma': 0.6129172008748487}, user_attrs={'mean_fit_time': 0.008046150207519531, 'std_fit_time': 0.002119718218125207, 'mean_score_time': 0.005566517512003581, 'std_score_time': 0.005823537159288452, 'split0_test_score': 1.0, 'split1_test_score': 0.925, 'split2_test_score': 1.0, 'mean_test_score': 0.975, 'std_test_score': 0.035355339059327355, 'split0_train_score': 0.9875, 'split1_train_score': 1.0, 'split2_train_score': 0.95, 'mean_train_score': 0.9791666666666666, 'std_train_score': 0.021245914639969964}, system_attrs={'terminator:cv_scores': [1.0, 0.925, 1.0]}, intermediate_values={}, distributions={'C': FloatDistribution(high=1.0, log=False, low=0.01, step=None), 'kernel': CategoricalDistribution(choices=('linear', 'poly', 'rbf', 'sigmoid')), 'gamma': FloatDistribution(high=1.0, log=False, low=0.01, step=None)}, trial_id=99, value=None)]"
      ]
     },
     "execution_count": 9,
     "metadata": {},
     "output_type": "execute_result"
    }
   ],
   "source": [
    "optuna_search.trials_\n"
   ]
  },
  {
   "cell_type": "code",
   "execution_count": null,
   "metadata": {},
   "outputs": [],
   "source": []
  }
 ],
 "metadata": {
  "kernelspec": {
   "display_name": ".ai4meta",
   "language": "python",
   "name": "python3"
  },
  "language_info": {
   "codemirror_mode": {
    "name": "ipython",
    "version": 3
   },
   "file_extension": ".py",
   "mimetype": "text/x-python",
   "name": "python",
   "nbconvert_exporter": "python",
   "pygments_lexer": "ipython3",
   "version": "3.11.10"
  }
 },
 "nbformat": 4,
 "nbformat_minor": 2
}
