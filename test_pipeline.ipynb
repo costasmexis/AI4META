{
 "cells": [
  {
   "cell_type": "code",
   "execution_count": 20,
   "metadata": {},
   "outputs": [
    {
     "name": "stdout",
     "output_type": "stream",
     "text": [
      "The autoreload extension is already loaded. To reload it, use:\n",
      "  %reload_ext autoreload\n"
     ]
    }
   ],
   "source": [
    "from machinelearning.mlpipeline import MLPipelines\n",
    "from machinelearning.mlexplain import MLExplainer\n",
    "\n",
    "csv_dir = 'data/gastric_cancer.csv'\n",
    "label = 'Class'\n",
    "\n",
    "%load_ext autoreload\n",
    "%autoreload 2\n",
    "%matplotlib inline"
   ]
  },
  {
   "cell_type": "code",
   "execution_count": 21,
   "metadata": {},
   "outputs": [
    {
     "name": "stdout",
     "output_type": "stream",
     "text": [
      "There is no selected classifier.\n"
     ]
    },
    {
     "data": {
      "text/plain": [
       "(83, 149)"
      ]
     },
     "execution_count": 21,
     "metadata": {},
     "output_type": "execute_result"
    }
   ],
   "source": [
    "# dataloader\n",
    "mlpipe = MLPipelines(label=label, csv_dir=csv_dir)\n",
    "# mlpipe.feature_selection(method='mrmr', num_features=20, inner_method='chi2')\n",
    "mlpipe.X.shape"
   ]
  },
  {
   "cell_type": "code",
   "execution_count": 23,
   "metadata": {},
   "outputs": [
    {
     "name": "stdout",
     "output_type": "stream",
     "text": [
      "Normalization completed.\n",
      "The specific process does not support a progress bar.\n",
      "Estimator: LogisticRegression\n",
      "Best parameters: {'penalty': None, 'C': 0.25478855401626344, 'solver': 'sag', 'max_iter': 321, 'n_jobs': None}\n",
      "Best trials score: 0.6392093203785044.\n"
     ]
    },
    {
     "name": "stderr",
     "output_type": "stream",
     "text": [
      "Bootstrap validation: 100%|██████████| 100/100 [00:02<00:00, 47.08it/s]\n"
     ]
    },
    {
     "data": {
      "application/vnd.plotly.v1+json": {
       "config": {
        "plotlyServerURL": "https://plot.ly"
       },
       "data": [
        {
         "boxmean": true,
         "boxpoints": "all",
         "jitter": 0.3,
         "name": "LogisticRegression",
         "pointpos": -1.8,
         "type": "box",
         "y": [
          0.5493502655735357,
          0.7715167498104596,
          0.6963106238227914,
          0.8888888888888888,
          0.7571428571428571,
          0.5493502655735357,
          0.7571428571428571,
          0.5277777777777778,
          0.5367394391967351,
          0.8874119674649423,
          0.38122128787578263,
          0.5367394391967351,
          0.5367394391967351,
          0.6963106238227914,
          0.6629935441317959,
          0.5277777777777778,
          0.6085806194501846,
          0.42600643361512924,
          0.5493502655735357,
          0.7,
          0.6326266278117372,
          0.5367394391967351,
          0.5493502655735357,
          0.6527777777777778,
          0.7888106377466154,
          0.588348405414552,
          0.7571428571428571,
          0.5142857142857142,
          0.7571428571428571,
          0.7166666666666667,
          0.49099025303098287,
          0.22727272727272727,
          0.7638888888888888,
          0.6527777777777778,
          0.3038948705590345,
          0.6963106238227914,
          0.6326266278117372,
          0.6085806194501846,
          0.5277777777777778,
          0.45714285714285713,
          0.5277777777777778,
          0.5367394391967351,
          0.6963106238227914,
          0.6527777777777778,
          0.5367394391967351,
          0.6479515952918626,
          0.7571428571428571,
          0.5277777777777778,
          0.408491223118783,
          0.34993385618385614,
          0.7833494518006403,
          0.7638888888888888,
          0.34993385618385614,
          0.7638888888888888,
          0.1649915822768611,
          0.3098898934004561,
          0.5367394391967351,
          0.5493502655735357,
          0.7638888888888888,
          1,
          0.7638888888888888,
          0.1690308509457033,
          0.5277777777777778,
          0.6479515952918626,
          0.6479515952918626,
          0.6326266278117372,
          0.6326266278117372,
          0.8874119674649423,
          0.7638888888888888,
          0.15,
          0.6479515952918626,
          0.8888888888888888,
          0.4166666666666667,
          0.6479515952918626,
          0.5142857142857142,
          0.4166666666666667,
          0.8874119674649423,
          0.588348405414552,
          0.6479515952918626,
          0.8888888888888888,
          0.408491223118783,
          1,
          0.5493502655735357,
          0.8827348295047495,
          0.6479515952918626,
          0.6326266278117372,
          0.588348405414552,
          0.6479515952918626,
          0.6527777777777778,
          0.3337119062359573,
          0.408491223118783,
          0.21428571428571427,
          0.2916666666666667,
          0.5367394391967351,
          0.48484848484848486,
          0.8874119674649423,
          0.5142857142857142,
          0.43333333333333335,
          0.6479515952918626,
          0.45714285714285713
         ]
        }
       ],
       "layout": {
        "template": {
         "data": {
          "bar": [
           {
            "error_x": {
             "color": "#2a3f5f"
            },
            "error_y": {
             "color": "#2a3f5f"
            },
            "marker": {
             "line": {
              "color": "white",
              "width": 0.5
             },
             "pattern": {
              "fillmode": "overlay",
              "size": 10,
              "solidity": 0.2
             }
            },
            "type": "bar"
           }
          ],
          "barpolar": [
           {
            "marker": {
             "line": {
              "color": "white",
              "width": 0.5
             },
             "pattern": {
              "fillmode": "overlay",
              "size": 10,
              "solidity": 0.2
             }
            },
            "type": "barpolar"
           }
          ],
          "carpet": [
           {
            "aaxis": {
             "endlinecolor": "#2a3f5f",
             "gridcolor": "#C8D4E3",
             "linecolor": "#C8D4E3",
             "minorgridcolor": "#C8D4E3",
             "startlinecolor": "#2a3f5f"
            },
            "baxis": {
             "endlinecolor": "#2a3f5f",
             "gridcolor": "#C8D4E3",
             "linecolor": "#C8D4E3",
             "minorgridcolor": "#C8D4E3",
             "startlinecolor": "#2a3f5f"
            },
            "type": "carpet"
           }
          ],
          "choropleth": [
           {
            "colorbar": {
             "outlinewidth": 0,
             "ticks": ""
            },
            "type": "choropleth"
           }
          ],
          "contour": [
           {
            "colorbar": {
             "outlinewidth": 0,
             "ticks": ""
            },
            "colorscale": [
             [
              0,
              "#0d0887"
             ],
             [
              0.1111111111111111,
              "#46039f"
             ],
             [
              0.2222222222222222,
              "#7201a8"
             ],
             [
              0.3333333333333333,
              "#9c179e"
             ],
             [
              0.4444444444444444,
              "#bd3786"
             ],
             [
              0.5555555555555556,
              "#d8576b"
             ],
             [
              0.6666666666666666,
              "#ed7953"
             ],
             [
              0.7777777777777778,
              "#fb9f3a"
             ],
             [
              0.8888888888888888,
              "#fdca26"
             ],
             [
              1,
              "#f0f921"
             ]
            ],
            "type": "contour"
           }
          ],
          "contourcarpet": [
           {
            "colorbar": {
             "outlinewidth": 0,
             "ticks": ""
            },
            "type": "contourcarpet"
           }
          ],
          "heatmap": [
           {
            "colorbar": {
             "outlinewidth": 0,
             "ticks": ""
            },
            "colorscale": [
             [
              0,
              "#0d0887"
             ],
             [
              0.1111111111111111,
              "#46039f"
             ],
             [
              0.2222222222222222,
              "#7201a8"
             ],
             [
              0.3333333333333333,
              "#9c179e"
             ],
             [
              0.4444444444444444,
              "#bd3786"
             ],
             [
              0.5555555555555556,
              "#d8576b"
             ],
             [
              0.6666666666666666,
              "#ed7953"
             ],
             [
              0.7777777777777778,
              "#fb9f3a"
             ],
             [
              0.8888888888888888,
              "#fdca26"
             ],
             [
              1,
              "#f0f921"
             ]
            ],
            "type": "heatmap"
           }
          ],
          "heatmapgl": [
           {
            "colorbar": {
             "outlinewidth": 0,
             "ticks": ""
            },
            "colorscale": [
             [
              0,
              "#0d0887"
             ],
             [
              0.1111111111111111,
              "#46039f"
             ],
             [
              0.2222222222222222,
              "#7201a8"
             ],
             [
              0.3333333333333333,
              "#9c179e"
             ],
             [
              0.4444444444444444,
              "#bd3786"
             ],
             [
              0.5555555555555556,
              "#d8576b"
             ],
             [
              0.6666666666666666,
              "#ed7953"
             ],
             [
              0.7777777777777778,
              "#fb9f3a"
             ],
             [
              0.8888888888888888,
              "#fdca26"
             ],
             [
              1,
              "#f0f921"
             ]
            ],
            "type": "heatmapgl"
           }
          ],
          "histogram": [
           {
            "marker": {
             "pattern": {
              "fillmode": "overlay",
              "size": 10,
              "solidity": 0.2
             }
            },
            "type": "histogram"
           }
          ],
          "histogram2d": [
           {
            "colorbar": {
             "outlinewidth": 0,
             "ticks": ""
            },
            "colorscale": [
             [
              0,
              "#0d0887"
             ],
             [
              0.1111111111111111,
              "#46039f"
             ],
             [
              0.2222222222222222,
              "#7201a8"
             ],
             [
              0.3333333333333333,
              "#9c179e"
             ],
             [
              0.4444444444444444,
              "#bd3786"
             ],
             [
              0.5555555555555556,
              "#d8576b"
             ],
             [
              0.6666666666666666,
              "#ed7953"
             ],
             [
              0.7777777777777778,
              "#fb9f3a"
             ],
             [
              0.8888888888888888,
              "#fdca26"
             ],
             [
              1,
              "#f0f921"
             ]
            ],
            "type": "histogram2d"
           }
          ],
          "histogram2dcontour": [
           {
            "colorbar": {
             "outlinewidth": 0,
             "ticks": ""
            },
            "colorscale": [
             [
              0,
              "#0d0887"
             ],
             [
              0.1111111111111111,
              "#46039f"
             ],
             [
              0.2222222222222222,
              "#7201a8"
             ],
             [
              0.3333333333333333,
              "#9c179e"
             ],
             [
              0.4444444444444444,
              "#bd3786"
             ],
             [
              0.5555555555555556,
              "#d8576b"
             ],
             [
              0.6666666666666666,
              "#ed7953"
             ],
             [
              0.7777777777777778,
              "#fb9f3a"
             ],
             [
              0.8888888888888888,
              "#fdca26"
             ],
             [
              1,
              "#f0f921"
             ]
            ],
            "type": "histogram2dcontour"
           }
          ],
          "mesh3d": [
           {
            "colorbar": {
             "outlinewidth": 0,
             "ticks": ""
            },
            "type": "mesh3d"
           }
          ],
          "parcoords": [
           {
            "line": {
             "colorbar": {
              "outlinewidth": 0,
              "ticks": ""
             }
            },
            "type": "parcoords"
           }
          ],
          "pie": [
           {
            "automargin": true,
            "type": "pie"
           }
          ],
          "scatter": [
           {
            "fillpattern": {
             "fillmode": "overlay",
             "size": 10,
             "solidity": 0.2
            },
            "type": "scatter"
           }
          ],
          "scatter3d": [
           {
            "line": {
             "colorbar": {
              "outlinewidth": 0,
              "ticks": ""
             }
            },
            "marker": {
             "colorbar": {
              "outlinewidth": 0,
              "ticks": ""
             }
            },
            "type": "scatter3d"
           }
          ],
          "scattercarpet": [
           {
            "marker": {
             "colorbar": {
              "outlinewidth": 0,
              "ticks": ""
             }
            },
            "type": "scattercarpet"
           }
          ],
          "scattergeo": [
           {
            "marker": {
             "colorbar": {
              "outlinewidth": 0,
              "ticks": ""
             }
            },
            "type": "scattergeo"
           }
          ],
          "scattergl": [
           {
            "marker": {
             "colorbar": {
              "outlinewidth": 0,
              "ticks": ""
             }
            },
            "type": "scattergl"
           }
          ],
          "scattermapbox": [
           {
            "marker": {
             "colorbar": {
              "outlinewidth": 0,
              "ticks": ""
             }
            },
            "type": "scattermapbox"
           }
          ],
          "scatterpolar": [
           {
            "marker": {
             "colorbar": {
              "outlinewidth": 0,
              "ticks": ""
             }
            },
            "type": "scatterpolar"
           }
          ],
          "scatterpolargl": [
           {
            "marker": {
             "colorbar": {
              "outlinewidth": 0,
              "ticks": ""
             }
            },
            "type": "scatterpolargl"
           }
          ],
          "scatterternary": [
           {
            "marker": {
             "colorbar": {
              "outlinewidth": 0,
              "ticks": ""
             }
            },
            "type": "scatterternary"
           }
          ],
          "surface": [
           {
            "colorbar": {
             "outlinewidth": 0,
             "ticks": ""
            },
            "colorscale": [
             [
              0,
              "#0d0887"
             ],
             [
              0.1111111111111111,
              "#46039f"
             ],
             [
              0.2222222222222222,
              "#7201a8"
             ],
             [
              0.3333333333333333,
              "#9c179e"
             ],
             [
              0.4444444444444444,
              "#bd3786"
             ],
             [
              0.5555555555555556,
              "#d8576b"
             ],
             [
              0.6666666666666666,
              "#ed7953"
             ],
             [
              0.7777777777777778,
              "#fb9f3a"
             ],
             [
              0.8888888888888888,
              "#fdca26"
             ],
             [
              1,
              "#f0f921"
             ]
            ],
            "type": "surface"
           }
          ],
          "table": [
           {
            "cells": {
             "fill": {
              "color": "#EBF0F8"
             },
             "line": {
              "color": "white"
             }
            },
            "header": {
             "fill": {
              "color": "#C8D4E3"
             },
             "line": {
              "color": "white"
             }
            },
            "type": "table"
           }
          ]
         },
         "layout": {
          "annotationdefaults": {
           "arrowcolor": "#2a3f5f",
           "arrowhead": 0,
           "arrowwidth": 1
          },
          "autotypenumbers": "strict",
          "coloraxis": {
           "colorbar": {
            "outlinewidth": 0,
            "ticks": ""
           }
          },
          "colorscale": {
           "diverging": [
            [
             0,
             "#8e0152"
            ],
            [
             0.1,
             "#c51b7d"
            ],
            [
             0.2,
             "#de77ae"
            ],
            [
             0.3,
             "#f1b6da"
            ],
            [
             0.4,
             "#fde0ef"
            ],
            [
             0.5,
             "#f7f7f7"
            ],
            [
             0.6,
             "#e6f5d0"
            ],
            [
             0.7,
             "#b8e186"
            ],
            [
             0.8,
             "#7fbc41"
            ],
            [
             0.9,
             "#4d9221"
            ],
            [
             1,
             "#276419"
            ]
           ],
           "sequential": [
            [
             0,
             "#0d0887"
            ],
            [
             0.1111111111111111,
             "#46039f"
            ],
            [
             0.2222222222222222,
             "#7201a8"
            ],
            [
             0.3333333333333333,
             "#9c179e"
            ],
            [
             0.4444444444444444,
             "#bd3786"
            ],
            [
             0.5555555555555556,
             "#d8576b"
            ],
            [
             0.6666666666666666,
             "#ed7953"
            ],
            [
             0.7777777777777778,
             "#fb9f3a"
            ],
            [
             0.8888888888888888,
             "#fdca26"
            ],
            [
             1,
             "#f0f921"
            ]
           ],
           "sequentialminus": [
            [
             0,
             "#0d0887"
            ],
            [
             0.1111111111111111,
             "#46039f"
            ],
            [
             0.2222222222222222,
             "#7201a8"
            ],
            [
             0.3333333333333333,
             "#9c179e"
            ],
            [
             0.4444444444444444,
             "#bd3786"
            ],
            [
             0.5555555555555556,
             "#d8576b"
            ],
            [
             0.6666666666666666,
             "#ed7953"
            ],
            [
             0.7777777777777778,
             "#fb9f3a"
            ],
            [
             0.8888888888888888,
             "#fdca26"
            ],
            [
             1,
             "#f0f921"
            ]
           ]
          },
          "colorway": [
           "#636efa",
           "#EF553B",
           "#00cc96",
           "#ab63fa",
           "#FFA15A",
           "#19d3f3",
           "#FF6692",
           "#B6E880",
           "#FF97FF",
           "#FECB52"
          ],
          "font": {
           "color": "#2a3f5f"
          },
          "geo": {
           "bgcolor": "white",
           "lakecolor": "white",
           "landcolor": "white",
           "showlakes": true,
           "showland": true,
           "subunitcolor": "#C8D4E3"
          },
          "hoverlabel": {
           "align": "left"
          },
          "hovermode": "closest",
          "mapbox": {
           "style": "light"
          },
          "paper_bgcolor": "white",
          "plot_bgcolor": "white",
          "polar": {
           "angularaxis": {
            "gridcolor": "#EBF0F8",
            "linecolor": "#EBF0F8",
            "ticks": ""
           },
           "bgcolor": "white",
           "radialaxis": {
            "gridcolor": "#EBF0F8",
            "linecolor": "#EBF0F8",
            "ticks": ""
           }
          },
          "scene": {
           "xaxis": {
            "backgroundcolor": "white",
            "gridcolor": "#DFE8F3",
            "gridwidth": 2,
            "linecolor": "#EBF0F8",
            "showbackground": true,
            "ticks": "",
            "zerolinecolor": "#EBF0F8"
           },
           "yaxis": {
            "backgroundcolor": "white",
            "gridcolor": "#DFE8F3",
            "gridwidth": 2,
            "linecolor": "#EBF0F8",
            "showbackground": true,
            "ticks": "",
            "zerolinecolor": "#EBF0F8"
           },
           "zaxis": {
            "backgroundcolor": "white",
            "gridcolor": "#DFE8F3",
            "gridwidth": 2,
            "linecolor": "#EBF0F8",
            "showbackground": true,
            "ticks": "",
            "zerolinecolor": "#EBF0F8"
           }
          },
          "shapedefaults": {
           "line": {
            "color": "#2a3f5f"
           }
          },
          "ternary": {
           "aaxis": {
            "gridcolor": "#DFE8F3",
            "linecolor": "#A2B1C6",
            "ticks": ""
           },
           "baxis": {
            "gridcolor": "#DFE8F3",
            "linecolor": "#A2B1C6",
            "ticks": ""
           },
           "bgcolor": "white",
           "caxis": {
            "gridcolor": "#DFE8F3",
            "linecolor": "#A2B1C6",
            "ticks": ""
           }
          },
          "title": {
           "x": 0.05
          },
          "xaxis": {
           "automargin": true,
           "gridcolor": "#EBF0F8",
           "linecolor": "#EBF0F8",
           "ticks": "",
           "title": {
            "standoff": 15
           },
           "zerolinecolor": "#EBF0F8",
           "zerolinewidth": 2
          },
          "yaxis": {
           "automargin": true,
           "gridcolor": "#EBF0F8",
           "linecolor": "#EBF0F8",
           "ticks": "",
           "title": {
            "standoff": 15
           },
           "zerolinecolor": "#EBF0F8",
           "zerolinewidth": 2
          }
         }
        },
        "title": {
         "text": "Model Evaluation Results With bootstrap Method"
        },
        "yaxis": {
         "title": {
          "text": "Score"
         }
        }
       }
      }
     },
     "metadata": {},
     "output_type": "display_data"
    }
   ],
   "source": [
    "mod, df ,shp = mlpipe.bayesian_search(estimator_name='LogisticRegression',scoring='matthews_corrcoef', evaluation='bootstrap', n_trials=100, cv=5, warnings_filter=True,calculate_shap=True)"
   ]
  },
  {
   "cell_type": "code",
   "execution_count": 7,
   "metadata": {},
   "outputs": [],
   "source": [
    "# mod, df = mlpipe.random_search(estimator_name='ElasticNet',scoring='roc_auc',evaluation='bootstrap',)\n",
    "# mod, df ,shp = mlpipe.bayesian_search(estimator_name='RandomForestClassifier',scoring='matthews_corrcoef', evaluation='cv_rounds', n_trials=100, cv=5, warnings_filter=True,calculate_shap=True,training_method='one_sem_grd')"
   ]
  },
  {
   "cell_type": "code",
   "execution_count": 24,
   "metadata": {},
   "outputs": [
    {
     "data": {
      "text/plain": [
       "count    100.000000\n",
       "mean       0.797207\n",
       "std        0.092018\n",
       "min        0.558333\n",
       "25%        0.756944\n",
       "50%        0.807143\n",
       "75%        0.857440\n",
       "max        1.000000\n",
       "Name: roc_auc, dtype: float64"
      ]
     },
     "execution_count": 24,
     "metadata": {},
     "output_type": "execute_result"
    }
   ],
   "source": [
    "df.roc_auc.describe()"
   ]
  },
  {
   "cell_type": "code",
   "execution_count": 12,
   "metadata": {},
   "outputs": [
    {
     "data": {
      "image/png": "[encoded data removed]",
      "text/plain": [
       "<Figure size 800x1150 with 1 Axes>"
      ]
     },
     "metadata": {},
     "output_type": "display_data"
    }
   ],
   "source": [
    "# mod.fit(mlpipe.X, mlpipe.y)\n",
    "mlexpl = MLExplainer(mod, mlpipe.X, mlpipe.y, mlpipe.label_mapping, shap_values=shp)\n",
    "# mlexpl.calculate_shap_values(explainer_type='tree')\n",
    "mlexpl.plot_shap_values(plot_type=\"bar\", max_display=20)"
   ]
  },
  {
   "cell_type": "code",
   "execution_count": 3,
   "metadata": {},
   "outputs": [],
   "source": [
    "# shap_features = ['393.3454_25.66','942.9824_0.57','379.3289_23.95',\n",
    "#                  '613.4767_25.19','274.2498_23.94','569.4492_25.31','467.3822_23.01'] # epic_lc_ms_pos\n",
    "\n",
    "# shap_features = ['M25','M14','M66','M7','M52','M58','M34','M55','M63','M64','M33'] # periodontal inflammation\n",
    "\n",
    "shap_features = ['M138','M45']\n",
    "\n",
    "mlpipe.X=mlpipe.X[shap_features]"
   ]
  },
  {
   "cell_type": "code",
   "execution_count": 25,
   "metadata": {},
   "outputs": [
    {
     "name": "stdout",
     "output_type": "stream",
     "text": [
      "Normalization completed.\n",
      "Using default parameter grid\n"
     ]
    },
    {
     "name": "stderr",
     "output_type": "stream",
     "text": [
      "/home/spyros/miniconda3/envs/ai4meta/lib/python3.11/site-packages/sklearn/linear_model/_logistic.py:1181: UserWarning: Setting penalty=None will ignore the C and l1_ratio parameters\n",
      "  warnings.warn(\n",
      "/home/spyros/miniconda3/envs/ai4meta/lib/python3.11/site-packages/sklearn/linear_model/_logistic.py:1181: UserWarning: Setting penalty=None will ignore the C and l1_ratio parameters\n",
      "  warnings.warn(\n",
      "/home/spyros/miniconda3/envs/ai4meta/lib/python3.11/site-packages/sklearn/linear_model/_logistic.py:1181: UserWarning: Setting penalty=None will ignore the C and l1_ratio parameters\n",
      "  warnings.warn(\n",
      "/home/spyros/miniconda3/envs/ai4meta/lib/python3.11/site-packages/sklearn/linear_model/_logistic.py:1181: UserWarning: Setting penalty=None will ignore the C and l1_ratio parameters\n",
      "  warnings.warn(\n",
      "/home/spyros/miniconda3/envs/ai4meta/lib/python3.11/site-packages/sklearn/linear_model/_logistic.py:1181: UserWarning: Setting penalty=None will ignore the C and l1_ratio parameters\n",
      "  warnings.warn(\n",
      "/home/spyros/miniconda3/envs/ai4meta/lib/python3.11/site-packages/sklearn/linear_model/_logistic.py:1181: UserWarning: Setting penalty=None will ignore the C and l1_ratio parameters\n",
      "  warnings.warn(\n",
      "/home/spyros/miniconda3/envs/ai4meta/lib/python3.11/site-packages/sklearn/linear_model/_logistic.py:1181: UserWarning: Setting penalty=None will ignore the C and l1_ratio parameters\n",
      "  warnings.warn(\n",
      "/home/spyros/miniconda3/envs/ai4meta/lib/python3.11/site-packages/sklearn/linear_model/_logistic.py:1181: UserWarning: Setting penalty=None will ignore the C and l1_ratio parameters\n",
      "  warnings.warn(\n",
      "/home/spyros/miniconda3/envs/ai4meta/lib/python3.11/site-packages/sklearn/linear_model/_logistic.py:1181: UserWarning: Setting penalty=None will ignore the C and l1_ratio parameters\n",
      "  warnings.warn(\n",
      "/home/spyros/miniconda3/envs/ai4meta/lib/python3.11/site-packages/sklearn/linear_model/_logistic.py:1181: UserWarning: Setting penalty=None will ignore the C and l1_ratio parameters\n",
      "  warnings.warn(\n",
      "/home/spyros/miniconda3/envs/ai4meta/lib/python3.11/site-packages/sklearn/linear_model/_logistic.py:1181: UserWarning: Setting penalty=None will ignore the C and l1_ratio parameters\n",
      "  warnings.warn(\n",
      "/home/spyros/miniconda3/envs/ai4meta/lib/python3.11/site-packages/sklearn/linear_model/_logistic.py:1181: UserWarning: Setting penalty=None will ignore the C and l1_ratio parameters\n",
      "  warnings.warn(\n",
      "/home/spyros/miniconda3/envs/ai4meta/lib/python3.11/site-packages/sklearn/linear_model/_logistic.py:1181: UserWarning: Setting penalty=None will ignore the C and l1_ratio parameters\n",
      "  warnings.warn(\n",
      "/home/spyros/miniconda3/envs/ai4meta/lib/python3.11/site-packages/sklearn/linear_model/_logistic.py:1181: UserWarning: Setting penalty=None will ignore the C and l1_ratio parameters\n",
      "  warnings.warn(\n",
      "/home/spyros/miniconda3/envs/ai4meta/lib/python3.11/site-packages/sklearn/linear_model/_logistic.py:1181: UserWarning: Setting penalty=None will ignore the C and l1_ratio parameters\n",
      "  warnings.warn(\n",
      "/home/spyros/miniconda3/envs/ai4meta/lib/python3.11/site-packages/sklearn/linear_model/_logistic.py:1181: UserWarning: Setting penalty=None will ignore the C and l1_ratio parameters\n",
      "  warnings.warn(\n",
      "/home/spyros/miniconda3/envs/ai4meta/lib/python3.11/site-packages/sklearn/linear_model/_logistic.py:1181: UserWarning: Setting penalty=None will ignore the C and l1_ratio parameters\n",
      "  warnings.warn(\n",
      "/home/spyros/miniconda3/envs/ai4meta/lib/python3.11/site-packages/sklearn/linear_model/_logistic.py:1181: UserWarning: Setting penalty=None will ignore the C and l1_ratio parameters\n",
      "  warnings.warn(\n",
      "/home/spyros/miniconda3/envs/ai4meta/lib/python3.11/site-packages/sklearn/linear_model/_logistic.py:1181: UserWarning: Setting penalty=None will ignore the C and l1_ratio parameters\n",
      "  warnings.warn(\n",
      "/home/spyros/miniconda3/envs/ai4meta/lib/python3.11/site-packages/sklearn/linear_model/_logistic.py:1181: UserWarning: Setting penalty=None will ignore the C and l1_ratio parameters\n",
      "  warnings.warn(\n",
      "/home/spyros/miniconda3/envs/ai4meta/lib/python3.11/site-packages/sklearn/linear_model/_sag.py:350: ConvergenceWarning: The max_iter was reached which means the coef_ did not converge\n",
      "  warnings.warn(\n",
      "/home/spyros/miniconda3/envs/ai4meta/lib/python3.11/site-packages/sklearn/linear_model/_sag.py:350: ConvergenceWarning: The max_iter was reached which means the coef_ did not converge\n",
      "  warnings.warn(\n",
      "/home/spyros/miniconda3/envs/ai4meta/lib/python3.11/site-packages/sklearn/linear_model/_sag.py:350: ConvergenceWarning: The max_iter was reached which means the coef_ did not converge\n",
      "  warnings.warn(\n",
      "/home/spyros/miniconda3/envs/ai4meta/lib/python3.11/site-packages/sklearn/linear_model/_sag.py:350: ConvergenceWarning: The max_iter was reached which means the coef_ did not converge\n",
      "  warnings.warn(\n",
      "/home/spyros/miniconda3/envs/ai4meta/lib/python3.11/site-packages/sklearn/linear_model/_logistic.py:1181: UserWarning: Setting penalty=None will ignore the C and l1_ratio parameters\n",
      "  warnings.warn(\n",
      "/home/spyros/miniconda3/envs/ai4meta/lib/python3.11/site-packages/sklearn/linear_model/_logistic.py:1181: UserWarning: Setting penalty=None will ignore the C and l1_ratio parameters\n",
      "  warnings.warn(\n",
      "/home/spyros/miniconda3/envs/ai4meta/lib/python3.11/site-packages/sklearn/linear_model/_logistic.py:1181: UserWarning: Setting penalty=None will ignore the C and l1_ratio parameters\n",
      "  warnings.warn(\n",
      "/home/spyros/miniconda3/envs/ai4meta/lib/python3.11/site-packages/sklearn/linear_model/_logistic.py:1181: UserWarning: Setting penalty=None will ignore the C and l1_ratio parameters\n",
      "  warnings.warn(\n",
      "/home/spyros/miniconda3/envs/ai4meta/lib/python3.11/site-packages/sklearn/linear_model/_sag.py:350: ConvergenceWarning: The max_iter was reached which means the coef_ did not converge\n",
      "  warnings.warn(\n",
      "/home/spyros/miniconda3/envs/ai4meta/lib/python3.11/site-packages/sklearn/linear_model/_sag.py:350: ConvergenceWarning: The max_iter was reached which means the coef_ did not converge\n",
      "  warnings.warn(\n",
      "/home/spyros/miniconda3/envs/ai4meta/lib/python3.11/site-packages/sklearn/linear_model/_logistic.py:1181: UserWarning: Setting penalty=None will ignore the C and l1_ratio parameters\n",
      "  warnings.warn(\n",
      "/home/spyros/miniconda3/envs/ai4meta/lib/python3.11/site-packages/sklearn/linear_model/_sag.py:350: ConvergenceWarning: The max_iter was reached which means the coef_ did not converge\n",
      "  warnings.warn(\n",
      "/home/spyros/miniconda3/envs/ai4meta/lib/python3.11/site-packages/sklearn/linear_model/_sag.py:350: ConvergenceWarning: The max_iter was reached which means the coef_ did not converge\n",
      "  warnings.warn(\n",
      "/home/spyros/miniconda3/envs/ai4meta/lib/python3.11/site-packages/sklearn/linear_model/_sag.py:350: ConvergenceWarning: The max_iter was reached which means the coef_ did not converge\n",
      "  warnings.warn(\n",
      "/home/spyros/miniconda3/envs/ai4meta/lib/python3.11/site-packages/sklearn/linear_model/_sag.py:350: ConvergenceWarning: The max_iter was reached which means the coef_ did not converge\n",
      "  warnings.warn(\n",
      "/home/spyros/miniconda3/envs/ai4meta/lib/python3.11/site-packages/sklearn/linear_model/_logistic.py:1181: UserWarning: Setting penalty=None will ignore the C and l1_ratio parameters\n",
      "  warnings.warn(\n",
      "/home/spyros/miniconda3/envs/ai4meta/lib/python3.11/site-packages/sklearn/linear_model/_logistic.py:1181: UserWarning: Setting penalty=None will ignore the C and l1_ratio parameters\n",
      "  warnings.warn(\n",
      "/home/spyros/miniconda3/envs/ai4meta/lib/python3.11/site-packages/sklearn/linear_model/_logistic.py:1181: UserWarning: Setting penalty=None will ignore the C and l1_ratio parameters\n",
      "  warnings.warn(\n",
      "/home/spyros/miniconda3/envs/ai4meta/lib/python3.11/site-packages/sklearn/linear_model/_logistic.py:1181: UserWarning: Setting penalty=None will ignore the C and l1_ratio parameters\n",
      "  warnings.warn(\n",
      "/home/spyros/miniconda3/envs/ai4meta/lib/python3.11/site-packages/sklearn/linear_model/_logistic.py:1181: UserWarning: Setting penalty=None will ignore the C and l1_ratio parameters\n",
      "  warnings.warn(\n",
      "/home/spyros/miniconda3/envs/ai4meta/lib/python3.11/site-packages/sklearn/linear_model/_logistic.py:1181: UserWarning: Setting penalty=None will ignore the C and l1_ratio parameters\n",
      "  warnings.warn(\n",
      "/home/spyros/miniconda3/envs/ai4meta/lib/python3.11/site-packages/sklearn/linear_model/_logistic.py:1181: UserWarning: Setting penalty=None will ignore the C and l1_ratio parameters\n",
      "  warnings.warn(\n",
      "/home/spyros/miniconda3/envs/ai4meta/lib/python3.11/site-packages/sklearn/linear_model/_logistic.py:1181: UserWarning: Setting penalty=None will ignore the C and l1_ratio parameters\n",
      "  warnings.warn(\n",
      "/home/spyros/miniconda3/envs/ai4meta/lib/python3.11/site-packages/sklearn/linear_model/_logistic.py:1181: UserWarning: Setting penalty=None will ignore the C and l1_ratio parameters\n",
      "  warnings.warn(\n",
      "/home/spyros/miniconda3/envs/ai4meta/lib/python3.11/site-packages/sklearn/linear_model/_sag.py:350: ConvergenceWarning: The max_iter was reached which means the coef_ did not converge\n",
      "  warnings.warn(\n",
      "/home/spyros/miniconda3/envs/ai4meta/lib/python3.11/site-packages/sklearn/linear_model/_sag.py:350: ConvergenceWarning: The max_iter was reached which means the coef_ did not converge\n",
      "  warnings.warn(\n",
      "/home/spyros/miniconda3/envs/ai4meta/lib/python3.11/site-packages/sklearn/linear_model/_logistic.py:1181: UserWarning: Setting penalty=None will ignore the C and l1_ratio parameters\n",
      "  warnings.warn(\n",
      "/home/spyros/miniconda3/envs/ai4meta/lib/python3.11/site-packages/sklearn/linear_model/_logistic.py:1181: UserWarning: Setting penalty=None will ignore the C and l1_ratio parameters\n",
      "  warnings.warn(\n",
      "/home/spyros/miniconda3/envs/ai4meta/lib/python3.11/site-packages/sklearn/linear_model/_sag.py:350: ConvergenceWarning: The max_iter was reached which means the coef_ did not converge\n",
      "  warnings.warn(\n",
      "/home/spyros/miniconda3/envs/ai4meta/lib/python3.11/site-packages/sklearn/linear_model/_logistic.py:1181: UserWarning: Setting penalty=None will ignore the C and l1_ratio parameters\n",
      "  warnings.warn(\n",
      "/home/spyros/miniconda3/envs/ai4meta/lib/python3.11/site-packages/sklearn/linear_model/_logistic.py:1181: UserWarning: Setting penalty=None will ignore the C and l1_ratio parameters\n",
      "  warnings.warn(\n",
      "/home/spyros/miniconda3/envs/ai4meta/lib/python3.11/site-packages/sklearn/linear_model/_logistic.py:1181: UserWarning: Setting penalty=None will ignore the C and l1_ratio parameters\n",
      "  warnings.warn(\n",
      "/home/spyros/miniconda3/envs/ai4meta/lib/python3.11/site-packages/sklearn/linear_model/_logistic.py:1181: UserWarning: Setting penalty=None will ignore the C and l1_ratio parameters\n",
      "  warnings.warn(\n",
      "/home/spyros/miniconda3/envs/ai4meta/lib/python3.11/site-packages/sklearn/linear_model/_logistic.py:1181: UserWarning: Setting penalty=None will ignore the C and l1_ratio parameters\n",
      "  warnings.warn(\n",
      "/home/spyros/miniconda3/envs/ai4meta/lib/python3.11/site-packages/sklearn/linear_model/_sag.py:350: ConvergenceWarning: The max_iter was reached which means the coef_ did not converge\n",
      "  warnings.warn(\n",
      "/home/spyros/miniconda3/envs/ai4meta/lib/python3.11/site-packages/sklearn/linear_model/_logistic.py:1181: UserWarning: Setting penalty=None will ignore the C and l1_ratio parameters\n",
      "  warnings.warn(\n",
      "/home/spyros/miniconda3/envs/ai4meta/lib/python3.11/site-packages/sklearn/linear_model/_logistic.py:1181: UserWarning: Setting penalty=None will ignore the C and l1_ratio parameters\n",
      "  warnings.warn(\n",
      "/home/spyros/miniconda3/envs/ai4meta/lib/python3.11/site-packages/sklearn/linear_model/_logistic.py:1181: UserWarning: Setting penalty=None will ignore the C and l1_ratio parameters\n",
      "  warnings.warn(\n",
      "/home/spyros/miniconda3/envs/ai4meta/lib/python3.11/site-packages/sklearn/linear_model/_sag.py:350: ConvergenceWarning: The max_iter was reached which means the coef_ did not converge\n",
      "  warnings.warn(\n",
      "/home/spyros/miniconda3/envs/ai4meta/lib/python3.11/site-packages/sklearn/linear_model/_logistic.py:1181: UserWarning: Setting penalty=None will ignore the C and l1_ratio parameters\n",
      "  warnings.warn(\n",
      "/home/spyros/miniconda3/envs/ai4meta/lib/python3.11/site-packages/sklearn/linear_model/_sag.py:350: ConvergenceWarning: The max_iter was reached which means the coef_ did not converge\n",
      "  warnings.warn(\n",
      "/home/spyros/miniconda3/envs/ai4meta/lib/python3.11/site-packages/sklearn/linear_model/_logistic.py:1181: UserWarning: Setting penalty=None will ignore the C and l1_ratio parameters\n",
      "  warnings.warn(\n",
      "/home/spyros/miniconda3/envs/ai4meta/lib/python3.11/site-packages/sklearn/linear_model/_logistic.py:1181: UserWarning: Setting penalty=None will ignore the C and l1_ratio parameters\n",
      "  warnings.warn(\n",
      "/home/spyros/miniconda3/envs/ai4meta/lib/python3.11/site-packages/sklearn/linear_model/_logistic.py:1181: UserWarning: Setting penalty=None will ignore the C and l1_ratio parameters\n",
      "  warnings.warn(\n",
      "/home/spyros/miniconda3/envs/ai4meta/lib/python3.11/site-packages/sklearn/linear_model/_logistic.py:1181: UserWarning: Setting penalty=None will ignore the C and l1_ratio parameters\n",
      "  warnings.warn(\n",
      "/home/spyros/miniconda3/envs/ai4meta/lib/python3.11/site-packages/sklearn/linear_model/_logistic.py:1181: UserWarning: Setting penalty=None will ignore the C and l1_ratio parameters\n",
      "  warnings.warn(\n",
      "/home/spyros/miniconda3/envs/ai4meta/lib/python3.11/site-packages/sklearn/linear_model/_logistic.py:1181: UserWarning: Setting penalty=None will ignore the C and l1_ratio parameters\n",
      "  warnings.warn(\n",
      "/home/spyros/miniconda3/envs/ai4meta/lib/python3.11/site-packages/sklearn/linear_model/_logistic.py:1181: UserWarning: Setting penalty=None will ignore the C and l1_ratio parameters\n",
      "  warnings.warn(\n",
      "/home/spyros/miniconda3/envs/ai4meta/lib/python3.11/site-packages/sklearn/linear_model/_logistic.py:1181: UserWarning: Setting penalty=None will ignore the C and l1_ratio parameters\n",
      "  warnings.warn(\n",
      "/home/spyros/miniconda3/envs/ai4meta/lib/python3.11/site-packages/sklearn/linear_model/_logistic.py:1181: UserWarning: Setting penalty=None will ignore the C and l1_ratio parameters\n",
      "  warnings.warn(\n",
      "/home/spyros/miniconda3/envs/ai4meta/lib/python3.11/site-packages/sklearn/linear_model/_logistic.py:1181: UserWarning: Setting penalty=None will ignore the C and l1_ratio parameters\n",
      "  warnings.warn(\n",
      "/home/spyros/miniconda3/envs/ai4meta/lib/python3.11/site-packages/sklearn/linear_model/_logistic.py:1181: UserWarning: Setting penalty=None will ignore the C and l1_ratio parameters\n",
      "  warnings.warn(\n",
      "/home/spyros/miniconda3/envs/ai4meta/lib/python3.11/site-packages/sklearn/linear_model/_logistic.py:1181: UserWarning: Setting penalty=None will ignore the C and l1_ratio parameters\n",
      "  warnings.warn(\n",
      "/home/spyros/miniconda3/envs/ai4meta/lib/python3.11/site-packages/sklearn/linear_model/_sag.py:350: ConvergenceWarning: The max_iter was reached which means the coef_ did not converge\n",
      "  warnings.warn(\n",
      "/home/spyros/miniconda3/envs/ai4meta/lib/python3.11/site-packages/sklearn/linear_model/_logistic.py:1181: UserWarning: Setting penalty=None will ignore the C and l1_ratio parameters\n",
      "  warnings.warn(\n",
      "/home/spyros/miniconda3/envs/ai4meta/lib/python3.11/site-packages/sklearn/linear_model/_logistic.py:1181: UserWarning: Setting penalty=None will ignore the C and l1_ratio parameters\n",
      "  warnings.warn(\n",
      "/home/spyros/miniconda3/envs/ai4meta/lib/python3.11/site-packages/sklearn/linear_model/_logistic.py:1181: UserWarning: Setting penalty=None will ignore the C and l1_ratio parameters\n",
      "  warnings.warn(\n",
      "/home/spyros/miniconda3/envs/ai4meta/lib/python3.11/site-packages/sklearn/linear_model/_sag.py:350: ConvergenceWarning: The max_iter was reached which means the coef_ did not converge\n",
      "  warnings.warn(\n",
      "/home/spyros/miniconda3/envs/ai4meta/lib/python3.11/site-packages/sklearn/linear_model/_sag.py:350: ConvergenceWarning: The max_iter was reached which means the coef_ did not converge\n",
      "  warnings.warn(\n",
      "/home/spyros/miniconda3/envs/ai4meta/lib/python3.11/site-packages/sklearn/linear_model/_sag.py:350: ConvergenceWarning: The max_iter was reached which means the coef_ did not converge\n",
      "  warnings.warn(\n",
      "/home/spyros/miniconda3/envs/ai4meta/lib/python3.11/site-packages/sklearn/linear_model/_logistic.py:1181: UserWarning: Setting penalty=None will ignore the C and l1_ratio parameters\n",
      "  warnings.warn(\n",
      "/home/spyros/miniconda3/envs/ai4meta/lib/python3.11/site-packages/sklearn/linear_model/_logistic.py:1181: UserWarning: Setting penalty=None will ignore the C and l1_ratio parameters\n",
      "  warnings.warn(\n",
      "/home/spyros/miniconda3/envs/ai4meta/lib/python3.11/site-packages/sklearn/linear_model/_sag.py:350: ConvergenceWarning: The max_iter was reached which means the coef_ did not converge\n",
      "  warnings.warn(\n",
      "/home/spyros/miniconda3/envs/ai4meta/lib/python3.11/site-packages/sklearn/linear_model/_logistic.py:1181: UserWarning: Setting penalty=None will ignore the C and l1_ratio parameters\n",
      "  warnings.warn(\n",
      "/home/spyros/miniconda3/envs/ai4meta/lib/python3.11/site-packages/sklearn/linear_model/_logistic.py:1181: UserWarning: Setting penalty=None will ignore the C and l1_ratio parameters\n",
      "  warnings.warn(\n",
      "/home/spyros/miniconda3/envs/ai4meta/lib/python3.11/site-packages/sklearn/linear_model/_logistic.py:1181: UserWarning: Setting penalty=None will ignore the C and l1_ratio parameters\n",
      "  warnings.warn(\n",
      "/home/spyros/miniconda3/envs/ai4meta/lib/python3.11/site-packages/sklearn/linear_model/_logistic.py:1181: UserWarning: Setting penalty=None will ignore the C and l1_ratio parameters\n",
      "  warnings.warn(\n",
      "/home/spyros/miniconda3/envs/ai4meta/lib/python3.11/site-packages/sklearn/linear_model/_logistic.py:1181: UserWarning: Setting penalty=None will ignore the C and l1_ratio parameters\n",
      "  warnings.warn(\n",
      "/home/spyros/miniconda3/envs/ai4meta/lib/python3.11/site-packages/sklearn/linear_model/_logistic.py:1181: UserWarning: Setting penalty=None will ignore the C and l1_ratio parameters\n",
      "  warnings.warn(\n",
      "/home/spyros/miniconda3/envs/ai4meta/lib/python3.11/site-packages/sklearn/linear_model/_logistic.py:1181: UserWarning: Setting penalty=None will ignore the C and l1_ratio parameters\n",
      "  warnings.warn(\n",
      "/home/spyros/miniconda3/envs/ai4meta/lib/python3.11/site-packages/sklearn/linear_model/_logistic.py:1181: UserWarning: Setting penalty=None will ignore the C and l1_ratio parameters\n",
      "  warnings.warn(\n",
      "/home/spyros/miniconda3/envs/ai4meta/lib/python3.11/site-packages/sklearn/linear_model/_sag.py:350: ConvergenceWarning: The max_iter was reached which means the coef_ did not converge\n",
      "  warnings.warn(\n",
      "/home/spyros/miniconda3/envs/ai4meta/lib/python3.11/site-packages/sklearn/linear_model/_sag.py:350: ConvergenceWarning: The max_iter was reached which means the coef_ did not converge\n",
      "  warnings.warn(\n",
      "/home/spyros/miniconda3/envs/ai4meta/lib/python3.11/site-packages/sklearn/linear_model/_sag.py:350: ConvergenceWarning: The max_iter was reached which means the coef_ did not converge\n",
      "  warnings.warn(\n",
      "/home/spyros/miniconda3/envs/ai4meta/lib/python3.11/site-packages/sklearn/linear_model/_sag.py:350: ConvergenceWarning: The max_iter was reached which means the coef_ did not converge\n",
      "  warnings.warn(\n",
      "/home/spyros/miniconda3/envs/ai4meta/lib/python3.11/site-packages/sklearn/linear_model/_logistic.py:1181: UserWarning: Setting penalty=None will ignore the C and l1_ratio parameters\n",
      "  warnings.warn(\n",
      "/home/spyros/miniconda3/envs/ai4meta/lib/python3.11/site-packages/sklearn/linear_model/_logistic.py:1181: UserWarning: Setting penalty=None will ignore the C and l1_ratio parameters\n",
      "  warnings.warn(\n",
      "/home/spyros/miniconda3/envs/ai4meta/lib/python3.11/site-packages/sklearn/linear_model/_logistic.py:1181: UserWarning: Setting penalty=None will ignore the C and l1_ratio parameters\n",
      "  warnings.warn(\n",
      "/home/spyros/miniconda3/envs/ai4meta/lib/python3.11/site-packages/sklearn/linear_model/_logistic.py:1181: UserWarning: Setting penalty=None will ignore the C and l1_ratio parameters\n",
      "  warnings.warn(\n",
      "/home/spyros/miniconda3/envs/ai4meta/lib/python3.11/site-packages/sklearn/linear_model/_sag.py:350: ConvergenceWarning: The max_iter was reached which means the coef_ did not converge\n",
      "  warnings.warn(\n",
      "/home/spyros/miniconda3/envs/ai4meta/lib/python3.11/site-packages/sklearn/linear_model/_logistic.py:1181: UserWarning: Setting penalty=None will ignore the C and l1_ratio parameters\n",
      "  warnings.warn(\n",
      "/home/spyros/miniconda3/envs/ai4meta/lib/python3.11/site-packages/sklearn/linear_model/_sag.py:350: ConvergenceWarning: The max_iter was reached which means the coef_ did not converge\n",
      "  warnings.warn(\n",
      "/home/spyros/miniconda3/envs/ai4meta/lib/python3.11/site-packages/sklearn/linear_model/_sag.py:350: ConvergenceWarning: The max_iter was reached which means the coef_ did not converge\n",
      "  warnings.warn(\n",
      "/home/spyros/miniconda3/envs/ai4meta/lib/python3.11/site-packages/sklearn/linear_model/_logistic.py:1181: UserWarning: Setting penalty=None will ignore the C and l1_ratio parameters\n",
      "  warnings.warn(\n",
      "/home/spyros/miniconda3/envs/ai4meta/lib/python3.11/site-packages/sklearn/linear_model/_logistic.py:1181: UserWarning: Setting penalty=None will ignore the C and l1_ratio parameters\n",
      "  warnings.warn(\n",
      "/home/spyros/miniconda3/envs/ai4meta/lib/python3.11/site-packages/sklearn/linear_model/_logistic.py:1181: UserWarning: Setting penalty=None will ignore the C and l1_ratio parameters\n",
      "  warnings.warn(\n",
      "/home/spyros/miniconda3/envs/ai4meta/lib/python3.11/site-packages/sklearn/linear_model/_logistic.py:1181: UserWarning: Setting penalty=None will ignore the C and l1_ratio parameters\n",
      "  warnings.warn(\n",
      "/home/spyros/miniconda3/envs/ai4meta/lib/python3.11/site-packages/sklearn/linear_model/_logistic.py:1181: UserWarning: Setting penalty=None will ignore the C and l1_ratio parameters\n",
      "  warnings.warn(\n",
      "/home/spyros/miniconda3/envs/ai4meta/lib/python3.11/site-packages/sklearn/linear_model/_logistic.py:1181: UserWarning: Setting penalty=None will ignore the C and l1_ratio parameters\n",
      "  warnings.warn(\n",
      "/home/spyros/miniconda3/envs/ai4meta/lib/python3.11/site-packages/sklearn/linear_model/_logistic.py:1181: UserWarning: Setting penalty=None will ignore the C and l1_ratio parameters\n",
      "  warnings.warn(\n",
      "/home/spyros/miniconda3/envs/ai4meta/lib/python3.11/site-packages/sklearn/linear_model/_logistic.py:1181: UserWarning: Setting penalty=None will ignore the C and l1_ratio parameters\n",
      "  warnings.warn(\n",
      "/home/spyros/miniconda3/envs/ai4meta/lib/python3.11/site-packages/sklearn/linear_model/_sag.py:350: ConvergenceWarning: The max_iter was reached which means the coef_ did not converge\n",
      "  warnings.warn(\n",
      "/home/spyros/miniconda3/envs/ai4meta/lib/python3.11/site-packages/sklearn/linear_model/_sag.py:350: ConvergenceWarning: The max_iter was reached which means the coef_ did not converge\n",
      "  warnings.warn(\n",
      "/home/spyros/miniconda3/envs/ai4meta/lib/python3.11/site-packages/sklearn/linear_model/_logistic.py:1181: UserWarning: Setting penalty=None will ignore the C and l1_ratio parameters\n",
      "  warnings.warn(\n",
      "/home/spyros/miniconda3/envs/ai4meta/lib/python3.11/site-packages/sklearn/linear_model/_logistic.py:1181: UserWarning: Setting penalty=None will ignore the C and l1_ratio parameters\n",
      "  warnings.warn(\n",
      "/home/spyros/miniconda3/envs/ai4meta/lib/python3.11/site-packages/sklearn/linear_model/_logistic.py:1181: UserWarning: Setting penalty=None will ignore the C and l1_ratio parameters\n",
      "  warnings.warn(\n",
      "/home/spyros/miniconda3/envs/ai4meta/lib/python3.11/site-packages/sklearn/linear_model/_sag.py:350: ConvergenceWarning: The max_iter was reached which means the coef_ did not converge\n",
      "  warnings.warn(\n",
      "/home/spyros/miniconda3/envs/ai4meta/lib/python3.11/site-packages/sklearn/linear_model/_logistic.py:1181: UserWarning: Setting penalty=None will ignore the C and l1_ratio parameters\n",
      "  warnings.warn(\n",
      "/home/spyros/miniconda3/envs/ai4meta/lib/python3.11/site-packages/sklearn/linear_model/_logistic.py:1181: UserWarning: Setting penalty=None will ignore the C and l1_ratio parameters\n",
      "  warnings.warn(\n",
      "/home/spyros/miniconda3/envs/ai4meta/lib/python3.11/site-packages/sklearn/linear_model/_logistic.py:1181: UserWarning: Setting penalty=None will ignore the C and l1_ratio parameters\n",
      "  warnings.warn(\n",
      "/home/spyros/miniconda3/envs/ai4meta/lib/python3.11/site-packages/sklearn/linear_model/_logistic.py:1181: UserWarning: Setting penalty=None will ignore the C and l1_ratio parameters\n",
      "  warnings.warn(\n",
      "/home/spyros/miniconda3/envs/ai4meta/lib/python3.11/site-packages/sklearn/linear_model/_logistic.py:1181: UserWarning: Setting penalty=None will ignore the C and l1_ratio parameters\n",
      "  warnings.warn(\n",
      "/home/spyros/miniconda3/envs/ai4meta/lib/python3.11/site-packages/sklearn/linear_model/_logistic.py:1181: UserWarning: Setting penalty=None will ignore the C and l1_ratio parameters\n",
      "  warnings.warn(\n",
      "/home/spyros/miniconda3/envs/ai4meta/lib/python3.11/site-packages/sklearn/linear_model/_logistic.py:1181: UserWarning: Setting penalty=None will ignore the C and l1_ratio parameters\n",
      "  warnings.warn(\n",
      "/home/spyros/miniconda3/envs/ai4meta/lib/python3.11/site-packages/sklearn/linear_model/_sag.py:350: ConvergenceWarning: The max_iter was reached which means the coef_ did not converge\n",
      "  warnings.warn(\n",
      "/home/spyros/miniconda3/envs/ai4meta/lib/python3.11/site-packages/sklearn/linear_model/_logistic.py:1181: UserWarning: Setting penalty=None will ignore the C and l1_ratio parameters\n",
      "  warnings.warn(\n",
      "/home/spyros/miniconda3/envs/ai4meta/lib/python3.11/site-packages/sklearn/linear_model/_logistic.py:1181: UserWarning: Setting penalty=None will ignore the C and l1_ratio parameters\n",
      "  warnings.warn(\n",
      "/home/spyros/miniconda3/envs/ai4meta/lib/python3.11/site-packages/sklearn/linear_model/_logistic.py:1181: UserWarning: Setting penalty=None will ignore the C and l1_ratio parameters\n",
      "  warnings.warn(\n",
      "/home/spyros/miniconda3/envs/ai4meta/lib/python3.11/site-packages/sklearn/linear_model/_sag.py:350: ConvergenceWarning: The max_iter was reached which means the coef_ did not converge\n",
      "  warnings.warn(\n",
      "/home/spyros/miniconda3/envs/ai4meta/lib/python3.11/site-packages/sklearn/linear_model/_sag.py:350: ConvergenceWarning: The max_iter was reached which means the coef_ did not converge\n",
      "  warnings.warn(\n",
      "/home/spyros/miniconda3/envs/ai4meta/lib/python3.11/site-packages/sklearn/linear_model/_logistic.py:1181: UserWarning: Setting penalty=None will ignore the C and l1_ratio parameters\n",
      "  warnings.warn(\n",
      "/home/spyros/miniconda3/envs/ai4meta/lib/python3.11/site-packages/sklearn/linear_model/_sag.py:350: ConvergenceWarning: The max_iter was reached which means the coef_ did not converge\n",
      "  warnings.warn(\n",
      "/home/spyros/miniconda3/envs/ai4meta/lib/python3.11/site-packages/sklearn/linear_model/_sag.py:350: ConvergenceWarning: The max_iter was reached which means the coef_ did not converge\n",
      "  warnings.warn(\n",
      "/home/spyros/miniconda3/envs/ai4meta/lib/python3.11/site-packages/sklearn/linear_model/_logistic.py:1181: UserWarning: Setting penalty=None will ignore the C and l1_ratio parameters\n",
      "  warnings.warn(\n",
      "/home/spyros/miniconda3/envs/ai4meta/lib/python3.11/site-packages/sklearn/linear_model/_sag.py:350: ConvergenceWarning: The max_iter was reached which means the coef_ did not converge\n",
      "  warnings.warn(\n",
      "/home/spyros/miniconda3/envs/ai4meta/lib/python3.11/site-packages/sklearn/linear_model/_logistic.py:1181: UserWarning: Setting penalty=None will ignore the C and l1_ratio parameters\n",
      "  warnings.warn(\n",
      "/home/spyros/miniconda3/envs/ai4meta/lib/python3.11/site-packages/sklearn/linear_model/_sag.py:350: ConvergenceWarning: The max_iter was reached which means the coef_ did not converge\n",
      "  warnings.warn(\n",
      "/home/spyros/miniconda3/envs/ai4meta/lib/python3.11/site-packages/sklearn/linear_model/_sag.py:350: ConvergenceWarning: The max_iter was reached which means the coef_ did not converge\n",
      "  warnings.warn(\n",
      "/home/spyros/miniconda3/envs/ai4meta/lib/python3.11/site-packages/sklearn/linear_model/_logistic.py:1181: UserWarning: Setting penalty=None will ignore the C and l1_ratio parameters\n",
      "  warnings.warn(\n",
      "/home/spyros/miniconda3/envs/ai4meta/lib/python3.11/site-packages/sklearn/linear_model/_logistic.py:1181: UserWarning: Setting penalty=None will ignore the C and l1_ratio parameters\n",
      "  warnings.warn(\n",
      "/home/spyros/miniconda3/envs/ai4meta/lib/python3.11/site-packages/sklearn/linear_model/_logistic.py:1181: UserWarning: Setting penalty=None will ignore the C and l1_ratio parameters\n",
      "  warnings.warn(\n",
      "/home/spyros/miniconda3/envs/ai4meta/lib/python3.11/site-packages/sklearn/linear_model/_logistic.py:1181: UserWarning: Setting penalty=None will ignore the C and l1_ratio parameters\n",
      "  warnings.warn(\n",
      "/home/spyros/miniconda3/envs/ai4meta/lib/python3.11/site-packages/sklearn/linear_model/_logistic.py:1181: UserWarning: Setting penalty=None will ignore the C and l1_ratio parameters\n",
      "  warnings.warn(\n",
      "/home/spyros/miniconda3/envs/ai4meta/lib/python3.11/site-packages/sklearn/linear_model/_logistic.py:1181: UserWarning: Setting penalty=None will ignore the C and l1_ratio parameters\n",
      "  warnings.warn(\n",
      "/home/spyros/miniconda3/envs/ai4meta/lib/python3.11/site-packages/sklearn/linear_model/_sag.py:350: ConvergenceWarning: The max_iter was reached which means the coef_ did not converge\n",
      "  warnings.warn(\n",
      "/home/spyros/miniconda3/envs/ai4meta/lib/python3.11/site-packages/sklearn/linear_model/_sag.py:350: ConvergenceWarning: The max_iter was reached which means the coef_ did not converge\n",
      "  warnings.warn(\n",
      "/home/spyros/miniconda3/envs/ai4meta/lib/python3.11/site-packages/sklearn/linear_model/_logistic.py:1181: UserWarning: Setting penalty=None will ignore the C and l1_ratio parameters\n",
      "  warnings.warn(\n",
      "/home/spyros/miniconda3/envs/ai4meta/lib/python3.11/site-packages/sklearn/linear_model/_logistic.py:1181: UserWarning: Setting penalty=None will ignore the C and l1_ratio parameters\n",
      "  warnings.warn(\n",
      "/home/spyros/miniconda3/envs/ai4meta/lib/python3.11/site-packages/sklearn/linear_model/_logistic.py:1181: UserWarning: Setting penalty=None will ignore the C and l1_ratio parameters\n",
      "  warnings.warn(\n",
      "/home/spyros/miniconda3/envs/ai4meta/lib/python3.11/site-packages/sklearn/linear_model/_sag.py:350: ConvergenceWarning: The max_iter was reached which means the coef_ did not converge\n",
      "  warnings.warn(\n",
      "/home/spyros/miniconda3/envs/ai4meta/lib/python3.11/site-packages/sklearn/linear_model/_sag.py:350: ConvergenceWarning: The max_iter was reached which means the coef_ did not converge\n",
      "  warnings.warn(\n",
      "/home/spyros/miniconda3/envs/ai4meta/lib/python3.11/site-packages/sklearn/linear_model/_sag.py:350: ConvergenceWarning: The max_iter was reached which means the coef_ did not converge\n",
      "  warnings.warn(\n",
      "/home/spyros/miniconda3/envs/ai4meta/lib/python3.11/site-packages/sklearn/linear_model/_logistic.py:1181: UserWarning: Setting penalty=None will ignore the C and l1_ratio parameters\n",
      "  warnings.warn(\n",
      "/home/spyros/miniconda3/envs/ai4meta/lib/python3.11/site-packages/sklearn/linear_model/_sag.py:350: ConvergenceWarning: The max_iter was reached which means the coef_ did not converge\n",
      "  warnings.warn(\n",
      "/home/spyros/miniconda3/envs/ai4meta/lib/python3.11/site-packages/sklearn/linear_model/_logistic.py:1181: UserWarning: Setting penalty=None will ignore the C and l1_ratio parameters\n",
      "  warnings.warn(\n",
      "/home/spyros/miniconda3/envs/ai4meta/lib/python3.11/site-packages/sklearn/linear_model/_sag.py:350: ConvergenceWarning: The max_iter was reached which means the coef_ did not converge\n",
      "  warnings.warn(\n",
      "/home/spyros/miniconda3/envs/ai4meta/lib/python3.11/site-packages/sklearn/linear_model/_logistic.py:1181: UserWarning: Setting penalty=None will ignore the C and l1_ratio parameters\n",
      "  warnings.warn(\n",
      "/home/spyros/miniconda3/envs/ai4meta/lib/python3.11/site-packages/sklearn/linear_model/_sag.py:350: ConvergenceWarning: The max_iter was reached which means the coef_ did not converge\n",
      "  warnings.warn(\n",
      "/home/spyros/miniconda3/envs/ai4meta/lib/python3.11/site-packages/sklearn/linear_model/_logistic.py:1181: UserWarning: Setting penalty=None will ignore the C and l1_ratio parameters\n",
      "  warnings.warn(\n",
      "/home/spyros/miniconda3/envs/ai4meta/lib/python3.11/site-packages/sklearn/linear_model/_logistic.py:1181: UserWarning: Setting penalty=None will ignore the C and l1_ratio parameters\n",
      "  warnings.warn(\n",
      "/home/spyros/miniconda3/envs/ai4meta/lib/python3.11/site-packages/sklearn/linear_model/_logistic.py:1181: UserWarning: Setting penalty=None will ignore the C and l1_ratio parameters\n",
      "  warnings.warn(\n",
      "/home/spyros/miniconda3/envs/ai4meta/lib/python3.11/site-packages/sklearn/linear_model/_logistic.py:1181: UserWarning: Setting penalty=None will ignore the C and l1_ratio parameters\n",
      "  warnings.warn(\n",
      "/home/spyros/miniconda3/envs/ai4meta/lib/python3.11/site-packages/sklearn/linear_model/_logistic.py:1181: UserWarning: Setting penalty=None will ignore the C and l1_ratio parameters\n",
      "  warnings.warn(\n",
      "/home/spyros/miniconda3/envs/ai4meta/lib/python3.11/site-packages/sklearn/linear_model/_logistic.py:1181: UserWarning: Setting penalty=None will ignore the C and l1_ratio parameters\n",
      "  warnings.warn(\n",
      "/home/spyros/miniconda3/envs/ai4meta/lib/python3.11/site-packages/sklearn/linear_model/_logistic.py:1181: UserWarning: Setting penalty=None will ignore the C and l1_ratio parameters\n",
      "  warnings.warn(\n",
      "/home/spyros/miniconda3/envs/ai4meta/lib/python3.11/site-packages/sklearn/linear_model/_sag.py:350: ConvergenceWarning: The max_iter was reached which means the coef_ did not converge\n",
      "  warnings.warn(\n",
      "/home/spyros/miniconda3/envs/ai4meta/lib/python3.11/site-packages/sklearn/linear_model/_logistic.py:1181: UserWarning: Setting penalty=None will ignore the C and l1_ratio parameters\n",
      "  warnings.warn(\n",
      "/home/spyros/miniconda3/envs/ai4meta/lib/python3.11/site-packages/sklearn/linear_model/_logistic.py:1181: UserWarning: Setting penalty=None will ignore the C and l1_ratio parameters\n",
      "  warnings.warn(\n",
      "/home/spyros/miniconda3/envs/ai4meta/lib/python3.11/site-packages/sklearn/linear_model/_logistic.py:1181: UserWarning: Setting penalty=None will ignore the C and l1_ratio parameters\n",
      "  warnings.warn(\n",
      "/home/spyros/miniconda3/envs/ai4meta/lib/python3.11/site-packages/sklearn/linear_model/_sag.py:350: ConvergenceWarning: The max_iter was reached which means the coef_ did not converge\n",
      "  warnings.warn(\n",
      "/home/spyros/miniconda3/envs/ai4meta/lib/python3.11/site-packages/sklearn/linear_model/_logistic.py:1181: UserWarning: Setting penalty=None will ignore the C and l1_ratio parameters\n",
      "  warnings.warn(\n",
      "/home/spyros/miniconda3/envs/ai4meta/lib/python3.11/site-packages/sklearn/linear_model/_sag.py:350: ConvergenceWarning: The max_iter was reached which means the coef_ did not converge\n",
      "  warnings.warn(\n",
      "/home/spyros/miniconda3/envs/ai4meta/lib/python3.11/site-packages/sklearn/linear_model/_sag.py:350: ConvergenceWarning: The max_iter was reached which means the coef_ did not converge\n",
      "  warnings.warn(\n",
      "/home/spyros/miniconda3/envs/ai4meta/lib/python3.11/site-packages/sklearn/linear_model/_sag.py:350: ConvergenceWarning: The max_iter was reached which means the coef_ did not converge\n",
      "  warnings.warn(\n",
      "/home/spyros/miniconda3/envs/ai4meta/lib/python3.11/site-packages/sklearn/linear_model/_logistic.py:1181: UserWarning: Setting penalty=None will ignore the C and l1_ratio parameters\n",
      "  warnings.warn(\n",
      "/home/spyros/miniconda3/envs/ai4meta/lib/python3.11/site-packages/sklearn/linear_model/_logistic.py:1181: UserWarning: Setting penalty=None will ignore the C and l1_ratio parameters\n",
      "  warnings.warn(\n",
      "/home/spyros/miniconda3/envs/ai4meta/lib/python3.11/site-packages/sklearn/linear_model/_sag.py:350: ConvergenceWarning: The max_iter was reached which means the coef_ did not converge\n",
      "  warnings.warn(\n",
      "/home/spyros/miniconda3/envs/ai4meta/lib/python3.11/site-packages/sklearn/linear_model/_logistic.py:1181: UserWarning: Setting penalty=None will ignore the C and l1_ratio parameters\n",
      "  warnings.warn(\n",
      "/home/spyros/miniconda3/envs/ai4meta/lib/python3.11/site-packages/sklearn/linear_model/_logistic.py:1181: UserWarning: Setting penalty=None will ignore the C and l1_ratio parameters\n",
      "  warnings.warn(\n",
      "/home/spyros/miniconda3/envs/ai4meta/lib/python3.11/site-packages/sklearn/linear_model/_logistic.py:1181: UserWarning: Setting penalty=None will ignore the C and l1_ratio parameters\n",
      "  warnings.warn(\n",
      "/home/spyros/miniconda3/envs/ai4meta/lib/python3.11/site-packages/sklearn/linear_model/_logistic.py:1181: UserWarning: Setting penalty=None will ignore the C and l1_ratio parameters\n",
      "  warnings.warn(\n",
      "/home/spyros/miniconda3/envs/ai4meta/lib/python3.11/site-packages/sklearn/linear_model/_sag.py:350: ConvergenceWarning: The max_iter was reached which means the coef_ did not converge\n",
      "  warnings.warn(\n",
      "/home/spyros/miniconda3/envs/ai4meta/lib/python3.11/site-packages/sklearn/linear_model/_sag.py:350: ConvergenceWarning: The max_iter was reached which means the coef_ did not converge\n",
      "  warnings.warn(\n",
      "/home/spyros/miniconda3/envs/ai4meta/lib/python3.11/site-packages/sklearn/linear_model/_logistic.py:1181: UserWarning: Setting penalty=None will ignore the C and l1_ratio parameters\n",
      "  warnings.warn(\n",
      "/home/spyros/miniconda3/envs/ai4meta/lib/python3.11/site-packages/sklearn/linear_model/_sag.py:350: ConvergenceWarning: The max_iter was reached which means the coef_ did not converge\n",
      "  warnings.warn(\n",
      "/home/spyros/miniconda3/envs/ai4meta/lib/python3.11/site-packages/sklearn/linear_model/_sag.py:350: ConvergenceWarning: The max_iter was reached which means the coef_ did not converge\n",
      "  warnings.warn(\n",
      "/home/spyros/miniconda3/envs/ai4meta/lib/python3.11/site-packages/sklearn/linear_model/_sag.py:350: ConvergenceWarning: The max_iter was reached which means the coef_ did not converge\n",
      "  warnings.warn(\n",
      "/home/spyros/miniconda3/envs/ai4meta/lib/python3.11/site-packages/sklearn/linear_model/_logistic.py:1181: UserWarning: Setting penalty=None will ignore the C and l1_ratio parameters\n",
      "  warnings.warn(\n",
      "/home/spyros/miniconda3/envs/ai4meta/lib/python3.11/site-packages/sklearn/linear_model/_logistic.py:1181: UserWarning: Setting penalty=None will ignore the C and l1_ratio parameters\n",
      "  warnings.warn(\n",
      "/home/spyros/miniconda3/envs/ai4meta/lib/python3.11/site-packages/sklearn/linear_model/_logistic.py:1181: UserWarning: Setting penalty=None will ignore the C and l1_ratio parameters\n",
      "  warnings.warn(\n",
      "/home/spyros/miniconda3/envs/ai4meta/lib/python3.11/site-packages/sklearn/linear_model/_logistic.py:1181: UserWarning: Setting penalty=None will ignore the C and l1_ratio parameters\n",
      "  warnings.warn(\n",
      "/home/spyros/miniconda3/envs/ai4meta/lib/python3.11/site-packages/sklearn/linear_model/_sag.py:350: ConvergenceWarning: The max_iter was reached which means the coef_ did not converge\n",
      "  warnings.warn(\n",
      "/home/spyros/miniconda3/envs/ai4meta/lib/python3.11/site-packages/sklearn/linear_model/_sag.py:350: ConvergenceWarning: The max_iter was reached which means the coef_ did not converge\n",
      "  warnings.warn(\n",
      "/home/spyros/miniconda3/envs/ai4meta/lib/python3.11/site-packages/sklearn/linear_model/_sag.py:350: ConvergenceWarning: The max_iter was reached which means the coef_ did not converge\n",
      "  warnings.warn(\n",
      "/home/spyros/miniconda3/envs/ai4meta/lib/python3.11/site-packages/sklearn/linear_model/_logistic.py:1181: UserWarning: Setting penalty=None will ignore the C and l1_ratio parameters\n",
      "  warnings.warn(\n",
      "/home/spyros/miniconda3/envs/ai4meta/lib/python3.11/site-packages/sklearn/linear_model/_logistic.py:1181: UserWarning: Setting penalty=None will ignore the C and l1_ratio parameters\n",
      "  warnings.warn(\n",
      "/home/spyros/miniconda3/envs/ai4meta/lib/python3.11/site-packages/sklearn/linear_model/_logistic.py:1181: UserWarning: Setting penalty=None will ignore the C and l1_ratio parameters\n",
      "  warnings.warn(\n",
      "/home/spyros/miniconda3/envs/ai4meta/lib/python3.11/site-packages/sklearn/linear_model/_sag.py:350: ConvergenceWarning: The max_iter was reached which means the coef_ did not converge\n",
      "  warnings.warn(\n",
      "/home/spyros/miniconda3/envs/ai4meta/lib/python3.11/site-packages/sklearn/linear_model/_sag.py:350: ConvergenceWarning: The max_iter was reached which means the coef_ did not converge\n",
      "  warnings.warn(\n",
      "/home/spyros/miniconda3/envs/ai4meta/lib/python3.11/site-packages/sklearn/linear_model/_sag.py:350: ConvergenceWarning: The max_iter was reached which means the coef_ did not converge\n",
      "  warnings.warn(\n",
      "/home/spyros/miniconda3/envs/ai4meta/lib/python3.11/site-packages/sklearn/linear_model/_logistic.py:1181: UserWarning: Setting penalty=None will ignore the C and l1_ratio parameters\n",
      "  warnings.warn(\n",
      "/home/spyros/miniconda3/envs/ai4meta/lib/python3.11/site-packages/sklearn/linear_model/_logistic.py:1181: UserWarning: Setting penalty=None will ignore the C and l1_ratio parameters\n",
      "  warnings.warn(\n",
      "/home/spyros/miniconda3/envs/ai4meta/lib/python3.11/site-packages/sklearn/linear_model/_logistic.py:1181: UserWarning: Setting penalty=None will ignore the C and l1_ratio parameters\n",
      "  warnings.warn(\n",
      "/home/spyros/miniconda3/envs/ai4meta/lib/python3.11/site-packages/sklearn/linear_model/_sag.py:350: ConvergenceWarning: The max_iter was reached which means the coef_ did not converge\n",
      "  warnings.warn(\n",
      "/home/spyros/miniconda3/envs/ai4meta/lib/python3.11/site-packages/sklearn/linear_model/_sag.py:350: ConvergenceWarning: The max_iter was reached which means the coef_ did not converge\n",
      "  warnings.warn(\n",
      "/home/spyros/miniconda3/envs/ai4meta/lib/python3.11/site-packages/sklearn/linear_model/_sag.py:350: ConvergenceWarning: The max_iter was reached which means the coef_ did not converge\n",
      "  warnings.warn(\n",
      "/home/spyros/miniconda3/envs/ai4meta/lib/python3.11/site-packages/sklearn/linear_model/_sag.py:350: ConvergenceWarning: The max_iter was reached which means the coef_ did not converge\n",
      "  warnings.warn(\n",
      "/home/spyros/miniconda3/envs/ai4meta/lib/python3.11/site-packages/sklearn/linear_model/_logistic.py:1181: UserWarning: Setting penalty=None will ignore the C and l1_ratio parameters\n",
      "  warnings.warn(\n",
      "/home/spyros/miniconda3/envs/ai4meta/lib/python3.11/site-packages/sklearn/linear_model/_sag.py:350: ConvergenceWarning: The max_iter was reached which means the coef_ did not converge\n",
      "  warnings.warn(\n",
      "/home/spyros/miniconda3/envs/ai4meta/lib/python3.11/site-packages/sklearn/linear_model/_sag.py:350: ConvergenceWarning: The max_iter was reached which means the coef_ did not converge\n",
      "  warnings.warn(\n",
      "/home/spyros/miniconda3/envs/ai4meta/lib/python3.11/site-packages/sklearn/linear_model/_sag.py:350: ConvergenceWarning: The max_iter was reached which means the coef_ did not converge\n",
      "  warnings.warn(\n",
      "/home/spyros/miniconda3/envs/ai4meta/lib/python3.11/site-packages/sklearn/linear_model/_logistic.py:1181: UserWarning: Setting penalty=None will ignore the C and l1_ratio parameters\n",
      "  warnings.warn(\n",
      "/home/spyros/miniconda3/envs/ai4meta/lib/python3.11/site-packages/sklearn/linear_model/_sag.py:350: ConvergenceWarning: The max_iter was reached which means the coef_ did not converge\n",
      "  warnings.warn(\n",
      "/home/spyros/miniconda3/envs/ai4meta/lib/python3.11/site-packages/sklearn/linear_model/_sag.py:350: ConvergenceWarning: The max_iter was reached which means the coef_ did not converge\n",
      "  warnings.warn(\n",
      "/home/spyros/miniconda3/envs/ai4meta/lib/python3.11/site-packages/sklearn/linear_model/_sag.py:350: ConvergenceWarning: The max_iter was reached which means the coef_ did not converge\n",
      "  warnings.warn(\n",
      "/home/spyros/miniconda3/envs/ai4meta/lib/python3.11/site-packages/sklearn/linear_model/_sag.py:350: ConvergenceWarning: The max_iter was reached which means the coef_ did not converge\n",
      "  warnings.warn(\n",
      "/home/spyros/miniconda3/envs/ai4meta/lib/python3.11/site-packages/sklearn/linear_model/_logistic.py:1181: UserWarning: Setting penalty=None will ignore the C and l1_ratio parameters\n",
      "  warnings.warn(\n",
      "/home/spyros/miniconda3/envs/ai4meta/lib/python3.11/site-packages/sklearn/linear_model/_sag.py:350: ConvergenceWarning: The max_iter was reached which means the coef_ did not converge\n",
      "  warnings.warn(\n",
      "/home/spyros/miniconda3/envs/ai4meta/lib/python3.11/site-packages/sklearn/linear_model/_logistic.py:1181: UserWarning: Setting penalty=None will ignore the C and l1_ratio parameters\n",
      "  warnings.warn(\n",
      "/home/spyros/miniconda3/envs/ai4meta/lib/python3.11/site-packages/sklearn/linear_model/_logistic.py:1181: UserWarning: Setting penalty=None will ignore the C and l1_ratio parameters\n",
      "  warnings.warn(\n",
      "/home/spyros/miniconda3/envs/ai4meta/lib/python3.11/site-packages/sklearn/linear_model/_sag.py:350: ConvergenceWarning: The max_iter was reached which means the coef_ did not converge\n",
      "  warnings.warn(\n",
      "/home/spyros/miniconda3/envs/ai4meta/lib/python3.11/site-packages/sklearn/linear_model/_logistic.py:1181: UserWarning: Setting penalty=None will ignore the C and l1_ratio parameters\n",
      "  warnings.warn(\n",
      "/home/spyros/miniconda3/envs/ai4meta/lib/python3.11/site-packages/sklearn/linear_model/_logistic.py:1181: UserWarning: Setting penalty=None will ignore the C and l1_ratio parameters\n",
      "  warnings.warn(\n",
      "/home/spyros/miniconda3/envs/ai4meta/lib/python3.11/site-packages/sklearn/linear_model/_logistic.py:1181: UserWarning: Setting penalty=None will ignore the C and l1_ratio parameters\n",
      "  warnings.warn(\n",
      "/home/spyros/miniconda3/envs/ai4meta/lib/python3.11/site-packages/sklearn/linear_model/_sag.py:350: ConvergenceWarning: The max_iter was reached which means the coef_ did not converge\n",
      "  warnings.warn(\n",
      "/home/spyros/miniconda3/envs/ai4meta/lib/python3.11/site-packages/sklearn/linear_model/_sag.py:350: ConvergenceWarning: The max_iter was reached which means the coef_ did not converge\n",
      "  warnings.warn(\n",
      "/home/spyros/miniconda3/envs/ai4meta/lib/python3.11/site-packages/sklearn/linear_model/_sag.py:350: ConvergenceWarning: The max_iter was reached which means the coef_ did not converge\n",
      "  warnings.warn(\n",
      "/home/spyros/miniconda3/envs/ai4meta/lib/python3.11/site-packages/sklearn/linear_model/_sag.py:350: ConvergenceWarning: The max_iter was reached which means the coef_ did not converge\n",
      "  warnings.warn(\n",
      "/home/spyros/miniconda3/envs/ai4meta/lib/python3.11/site-packages/sklearn/linear_model/_sag.py:350: ConvergenceWarning: The max_iter was reached which means the coef_ did not converge\n",
      "  warnings.warn(\n",
      "/home/spyros/miniconda3/envs/ai4meta/lib/python3.11/site-packages/sklearn/linear_model/_sag.py:350: ConvergenceWarning: The max_iter was reached which means the coef_ did not converge\n",
      "  warnings.warn(\n",
      "/home/spyros/miniconda3/envs/ai4meta/lib/python3.11/site-packages/sklearn/linear_model/_sag.py:350: ConvergenceWarning: The max_iter was reached which means the coef_ did not converge\n",
      "  warnings.warn(\n",
      "/home/spyros/miniconda3/envs/ai4meta/lib/python3.11/site-packages/sklearn/linear_model/_sag.py:350: ConvergenceWarning: The max_iter was reached which means the coef_ did not converge\n",
      "  warnings.warn(\n",
      "/home/spyros/miniconda3/envs/ai4meta/lib/python3.11/site-packages/sklearn/linear_model/_logistic.py:1181: UserWarning: Setting penalty=None will ignore the C and l1_ratio parameters\n",
      "  warnings.warn(\n",
      "/home/spyros/miniconda3/envs/ai4meta/lib/python3.11/site-packages/sklearn/linear_model/_logistic.py:1181: UserWarning: Setting penalty=None will ignore the C and l1_ratio parameters\n",
      "  warnings.warn(\n",
      "/home/spyros/miniconda3/envs/ai4meta/lib/python3.11/site-packages/sklearn/linear_model/_sag.py:350: ConvergenceWarning: The max_iter was reached which means the coef_ did not converge\n",
      "  warnings.warn(\n",
      "/home/spyros/miniconda3/envs/ai4meta/lib/python3.11/site-packages/sklearn/linear_model/_sag.py:350: ConvergenceWarning: The max_iter was reached which means the coef_ did not converge\n",
      "  warnings.warn(\n",
      "/home/spyros/miniconda3/envs/ai4meta/lib/python3.11/site-packages/sklearn/linear_model/_sag.py:350: ConvergenceWarning: The max_iter was reached which means the coef_ did not converge\n",
      "  warnings.warn(\n",
      "/home/spyros/miniconda3/envs/ai4meta/lib/python3.11/site-packages/sklearn/linear_model/_sag.py:350: ConvergenceWarning: The max_iter was reached which means the coef_ did not converge\n",
      "  warnings.warn(\n",
      "/home/spyros/miniconda3/envs/ai4meta/lib/python3.11/site-packages/sklearn/linear_model/_sag.py:350: ConvergenceWarning: The max_iter was reached which means the coef_ did not converge\n",
      "  warnings.warn(\n",
      "/home/spyros/miniconda3/envs/ai4meta/lib/python3.11/site-packages/sklearn/linear_model/_sag.py:350: ConvergenceWarning: The max_iter was reached which means the coef_ did not converge\n",
      "  warnings.warn(\n",
      "/home/spyros/miniconda3/envs/ai4meta/lib/python3.11/site-packages/sklearn/linear_model/_sag.py:350: ConvergenceWarning: The max_iter was reached which means the coef_ did not converge\n",
      "  warnings.warn(\n",
      "/home/spyros/miniconda3/envs/ai4meta/lib/python3.11/site-packages/sklearn/linear_model/_logistic.py:1181: UserWarning: Setting penalty=None will ignore the C and l1_ratio parameters\n",
      "  warnings.warn(\n",
      "/home/spyros/miniconda3/envs/ai4meta/lib/python3.11/site-packages/sklearn/linear_model/_sag.py:350: ConvergenceWarning: The max_iter was reached which means the coef_ did not converge\n",
      "  warnings.warn(\n",
      "/home/spyros/miniconda3/envs/ai4meta/lib/python3.11/site-packages/sklearn/linear_model/_sag.py:350: ConvergenceWarning: The max_iter was reached which means the coef_ did not converge\n",
      "  warnings.warn(\n",
      "/home/spyros/miniconda3/envs/ai4meta/lib/python3.11/site-packages/sklearn/linear_model/_sag.py:350: ConvergenceWarning: The max_iter was reached which means the coef_ did not converge\n",
      "  warnings.warn(\n",
      "/home/spyros/miniconda3/envs/ai4meta/lib/python3.11/site-packages/sklearn/linear_model/_sag.py:350: ConvergenceWarning: The max_iter was reached which means the coef_ did not converge\n",
      "  warnings.warn(\n",
      "/home/spyros/miniconda3/envs/ai4meta/lib/python3.11/site-packages/sklearn/linear_model/_sag.py:350: ConvergenceWarning: The max_iter was reached which means the coef_ did not converge\n",
      "  warnings.warn(\n",
      "/home/spyros/miniconda3/envs/ai4meta/lib/python3.11/site-packages/sklearn/linear_model/_sag.py:350: ConvergenceWarning: The max_iter was reached which means the coef_ did not converge\n",
      "  warnings.warn(\n",
      "/home/spyros/miniconda3/envs/ai4meta/lib/python3.11/site-packages/sklearn/linear_model/_sag.py:350: ConvergenceWarning: The max_iter was reached which means the coef_ did not converge\n",
      "  warnings.warn(\n",
      "/home/spyros/miniconda3/envs/ai4meta/lib/python3.11/site-packages/sklearn/linear_model/_sag.py:350: ConvergenceWarning: The max_iter was reached which means the coef_ did not converge\n",
      "  warnings.warn(\n",
      "/home/spyros/miniconda3/envs/ai4meta/lib/python3.11/site-packages/sklearn/linear_model/_sag.py:350: ConvergenceWarning: The max_iter was reached which means the coef_ did not converge\n",
      "  warnings.warn(\n",
      "/home/spyros/miniconda3/envs/ai4meta/lib/python3.11/site-packages/sklearn/linear_model/_sag.py:350: ConvergenceWarning: The max_iter was reached which means the coef_ did not converge\n",
      "  warnings.warn(\n",
      "/home/spyros/miniconda3/envs/ai4meta/lib/python3.11/site-packages/sklearn/linear_model/_sag.py:350: ConvergenceWarning: The max_iter was reached which means the coef_ did not converge\n",
      "  warnings.warn(\n",
      "/home/spyros/miniconda3/envs/ai4meta/lib/python3.11/site-packages/sklearn/linear_model/_sag.py:350: ConvergenceWarning: The max_iter was reached which means the coef_ did not converge\n",
      "  warnings.warn(\n",
      "/home/spyros/miniconda3/envs/ai4meta/lib/python3.11/site-packages/sklearn/linear_model/_sag.py:350: ConvergenceWarning: The max_iter was reached which means the coef_ did not converge\n",
      "  warnings.warn(\n",
      "/home/spyros/miniconda3/envs/ai4meta/lib/python3.11/site-packages/sklearn/linear_model/_sag.py:350: ConvergenceWarning: The max_iter was reached which means the coef_ did not converge\n",
      "  warnings.warn(\n",
      "/home/spyros/miniconda3/envs/ai4meta/lib/python3.11/site-packages/sklearn/linear_model/_sag.py:350: ConvergenceWarning: The max_iter was reached which means the coef_ did not converge\n",
      "  warnings.warn(\n",
      "/home/spyros/miniconda3/envs/ai4meta/lib/python3.11/site-packages/sklearn/linear_model/_sag.py:350: ConvergenceWarning: The max_iter was reached which means the coef_ did not converge\n",
      "  warnings.warn(\n"
     ]
    },
    {
     "name": "stdout",
     "output_type": "stream",
     "text": [
      "Estimator: LogisticRegression\n",
      "Best parameters: {'solver': 'liblinear', 'penalty': 'l1', 'fit_intercept': True, 'C': 1.0}\n",
      "Best roc_auc: 0.9475694444444445\n"
     ]
    },
    {
     "name": "stderr",
     "output_type": "stream",
     "text": [
      "Bootstrap validation: 100%|██████████| 100/100 [00:00<00:00, 145.72it/s]\n"
     ]
    },
    {
     "data": {
      "application/vnd.plotly.v1+json": {
       "config": {
        "plotlyServerURL": "https://plot.ly"
       },
       "data": [
        {
         "boxmean": true,
         "boxpoints": "all",
         "jitter": 0.3,
         "name": "LogisticRegression",
         "pointpos": -1.8,
         "type": "box",
         "y": [
          0.7785714285714286,
          0.9375,
          0.85,
          0.7424242424242422,
          0.7785714285714287,
          0.9090909090909092,
          0.8819444444444444,
          0.95,
          0.8194444444444443,
          0.7152777777777778,
          0.7857142857142857,
          0.5763888888888888,
          0.9,
          0.7785714285714286,
          0.9090909090909092,
          0.7638888888888888,
          0.8333333333333333,
          0.9375,
          0.8888888888888888,
          0.7348484848484849,
          0.7083333333333334,
          0.7916666666666666,
          0.8712121212121213,
          0.8888888888888888,
          0.6785714285714286,
          0.8263888888888888,
          0.9375,
          0.9090909090909092,
          0.8819444444444444,
          0.9444444444444444,
          0.7083333333333334,
          0.7083333333333334,
          0.85,
          0.4772727272727273,
          0.9166666666666667,
          0.7708333333333335,
          0.9444444444444444,
          0.5833333333333334,
          0.9,
          0.9545454545454545,
          0.9166666666666667,
          0.8285714285714286,
          0.8285714285714286,
          0.8125,
          0.8785714285714286,
          0.7071428571428571,
          0.7083333333333334,
          0.8785714285714286,
          0.7083333333333334,
          0.7333333333333334,
          0.7333333333333334,
          0.7878787878787877,
          0.7357142857142858,
          0.6458333333333333,
          0.775,
          0.9,
          0.7708333333333335,
          0.7569444444444444,
          0.7583333333333334,
          0.85,
          0.7803030303030303,
          0.8125,
          0.7727272727272727,
          0.8263888888888888,
          0.775,
          0.9375,
          0.763888888888889,
          0.7083333333333334,
          0.8263888888888888,
          0.9090909090909091,
          0.7571428571428572,
          0.8819444444444444,
          0.75,
          0.85,
          0.7348484848484848,
          0.8785714285714286,
          0.8819444444444444,
          0.6944444444444444,
          0.9500000000000001,
          0.8194444444444443,
          0.6916666666666667,
          0.8263888888888888,
          0.7348484848484848,
          0.9285714285714286,
          0.8181818181818181,
          0.6785714285714286,
          0.8257575757575758,
          0.9545454545454545,
          0.7571428571428572,
          0.8571428571428572,
          1,
          0.9090909090909092,
          0.8263888888888888,
          0.8181818181818181,
          0.8819444444444444,
          0.7083333333333334,
          0.8263888888888888,
          0.8194444444444443,
          0.7803030303030304,
          0.8819444444444444
         ]
        }
       ],
       "layout": {
        "template": {
         "data": {
          "bar": [
           {
            "error_x": {
             "color": "#2a3f5f"
            },
            "error_y": {
             "color": "#2a3f5f"
            },
            "marker": {
             "line": {
              "color": "white",
              "width": 0.5
             },
             "pattern": {
              "fillmode": "overlay",
              "size": 10,
              "solidity": 0.2
             }
            },
            "type": "bar"
           }
          ],
          "barpolar": [
           {
            "marker": {
             "line": {
              "color": "white",
              "width": 0.5
             },
             "pattern": {
              "fillmode": "overlay",
              "size": 10,
              "solidity": 0.2
             }
            },
            "type": "barpolar"
           }
          ],
          "carpet": [
           {
            "aaxis": {
             "endlinecolor": "#2a3f5f",
             "gridcolor": "#C8D4E3",
             "linecolor": "#C8D4E3",
             "minorgridcolor": "#C8D4E3",
             "startlinecolor": "#2a3f5f"
            },
            "baxis": {
             "endlinecolor": "#2a3f5f",
             "gridcolor": "#C8D4E3",
             "linecolor": "#C8D4E3",
             "minorgridcolor": "#C8D4E3",
             "startlinecolor": "#2a3f5f"
            },
            "type": "carpet"
           }
          ],
          "choropleth": [
           {
            "colorbar": {
             "outlinewidth": 0,
             "ticks": ""
            },
            "type": "choropleth"
           }
          ],
          "contour": [
           {
            "colorbar": {
             "outlinewidth": 0,
             "ticks": ""
            },
            "colorscale": [
             [
              0,
              "#0d0887"
             ],
             [
              0.1111111111111111,
              "#46039f"
             ],
             [
              0.2222222222222222,
              "#7201a8"
             ],
             [
              0.3333333333333333,
              "#9c179e"
             ],
             [
              0.4444444444444444,
              "#bd3786"
             ],
             [
              0.5555555555555556,
              "#d8576b"
             ],
             [
              0.6666666666666666,
              "#ed7953"
             ],
             [
              0.7777777777777778,
              "#fb9f3a"
             ],
             [
              0.8888888888888888,
              "#fdca26"
             ],
             [
              1,
              "#f0f921"
             ]
            ],
            "type": "contour"
           }
          ],
          "contourcarpet": [
           {
            "colorbar": {
             "outlinewidth": 0,
             "ticks": ""
            },
            "type": "contourcarpet"
           }
          ],
          "heatmap": [
           {
            "colorbar": {
             "outlinewidth": 0,
             "ticks": ""
            },
            "colorscale": [
             [
              0,
              "#0d0887"
             ],
             [
              0.1111111111111111,
              "#46039f"
             ],
             [
              0.2222222222222222,
              "#7201a8"
             ],
             [
              0.3333333333333333,
              "#9c179e"
             ],
             [
              0.4444444444444444,
              "#bd3786"
             ],
             [
              0.5555555555555556,
              "#d8576b"
             ],
             [
              0.6666666666666666,
              "#ed7953"
             ],
             [
              0.7777777777777778,
              "#fb9f3a"
             ],
             [
              0.8888888888888888,
              "#fdca26"
             ],
             [
              1,
              "#f0f921"
             ]
            ],
            "type": "heatmap"
           }
          ],
          "heatmapgl": [
           {
            "colorbar": {
             "outlinewidth": 0,
             "ticks": ""
            },
            "colorscale": [
             [
              0,
              "#0d0887"
             ],
             [
              0.1111111111111111,
              "#46039f"
             ],
             [
              0.2222222222222222,
              "#7201a8"
             ],
             [
              0.3333333333333333,
              "#9c179e"
             ],
             [
              0.4444444444444444,
              "#bd3786"
             ],
             [
              0.5555555555555556,
              "#d8576b"
             ],
             [
              0.6666666666666666,
              "#ed7953"
             ],
             [
              0.7777777777777778,
              "#fb9f3a"
             ],
             [
              0.8888888888888888,
              "#fdca26"
             ],
             [
              1,
              "#f0f921"
             ]
            ],
            "type": "heatmapgl"
           }
          ],
          "histogram": [
           {
            "marker": {
             "pattern": {
              "fillmode": "overlay",
              "size": 10,
              "solidity": 0.2
             }
            },
            "type": "histogram"
           }
          ],
          "histogram2d": [
           {
            "colorbar": {
             "outlinewidth": 0,
             "ticks": ""
            },
            "colorscale": [
             [
              0,
              "#0d0887"
             ],
             [
              0.1111111111111111,
              "#46039f"
             ],
             [
              0.2222222222222222,
              "#7201a8"
             ],
             [
              0.3333333333333333,
              "#9c179e"
             ],
             [
              0.4444444444444444,
              "#bd3786"
             ],
             [
              0.5555555555555556,
              "#d8576b"
             ],
             [
              0.6666666666666666,
              "#ed7953"
             ],
             [
              0.7777777777777778,
              "#fb9f3a"
             ],
             [
              0.8888888888888888,
              "#fdca26"
             ],
             [
              1,
              "#f0f921"
             ]
            ],
            "type": "histogram2d"
           }
          ],
          "histogram2dcontour": [
           {
            "colorbar": {
             "outlinewidth": 0,
             "ticks": ""
            },
            "colorscale": [
             [
              0,
              "#0d0887"
             ],
             [
              0.1111111111111111,
              "#46039f"
             ],
             [
              0.2222222222222222,
              "#7201a8"
             ],
             [
              0.3333333333333333,
              "#9c179e"
             ],
             [
              0.4444444444444444,
              "#bd3786"
             ],
             [
              0.5555555555555556,
              "#d8576b"
             ],
             [
              0.6666666666666666,
              "#ed7953"
             ],
             [
              0.7777777777777778,
              "#fb9f3a"
             ],
             [
              0.8888888888888888,
              "#fdca26"
             ],
             [
              1,
              "#f0f921"
             ]
            ],
            "type": "histogram2dcontour"
           }
          ],
          "mesh3d": [
           {
            "colorbar": {
             "outlinewidth": 0,
             "ticks": ""
            },
            "type": "mesh3d"
           }
          ],
          "parcoords": [
           {
            "line": {
             "colorbar": {
              "outlinewidth": 0,
              "ticks": ""
             }
            },
            "type": "parcoords"
           }
          ],
          "pie": [
           {
            "automargin": true,
            "type": "pie"
           }
          ],
          "scatter": [
           {
            "fillpattern": {
             "fillmode": "overlay",
             "size": 10,
             "solidity": 0.2
            },
            "type": "scatter"
           }
          ],
          "scatter3d": [
           {
            "line": {
             "colorbar": {
              "outlinewidth": 0,
              "ticks": ""
             }
            },
            "marker": {
             "colorbar": {
              "outlinewidth": 0,
              "ticks": ""
             }
            },
            "type": "scatter3d"
           }
          ],
          "scattercarpet": [
           {
            "marker": {
             "colorbar": {
              "outlinewidth": 0,
              "ticks": ""
             }
            },
            "type": "scattercarpet"
           }
          ],
          "scattergeo": [
           {
            "marker": {
             "colorbar": {
              "outlinewidth": 0,
              "ticks": ""
             }
            },
            "type": "scattergeo"
           }
          ],
          "scattergl": [
           {
            "marker": {
             "colorbar": {
              "outlinewidth": 0,
              "ticks": ""
             }
            },
            "type": "scattergl"
           }
          ],
          "scattermapbox": [
           {
            "marker": {
             "colorbar": {
              "outlinewidth": 0,
              "ticks": ""
             }
            },
            "type": "scattermapbox"
           }
          ],
          "scatterpolar": [
           {
            "marker": {
             "colorbar": {
              "outlinewidth": 0,
              "ticks": ""
             }
            },
            "type": "scatterpolar"
           }
          ],
          "scatterpolargl": [
           {
            "marker": {
             "colorbar": {
              "outlinewidth": 0,
              "ticks": ""
             }
            },
            "type": "scatterpolargl"
           }
          ],
          "scatterternary": [
           {
            "marker": {
             "colorbar": {
              "outlinewidth": 0,
              "ticks": ""
             }
            },
            "type": "scatterternary"
           }
          ],
          "surface": [
           {
            "colorbar": {
             "outlinewidth": 0,
             "ticks": ""
            },
            "colorscale": [
             [
              0,
              "#0d0887"
             ],
             [
              0.1111111111111111,
              "#46039f"
             ],
             [
              0.2222222222222222,
              "#7201a8"
             ],
             [
              0.3333333333333333,
              "#9c179e"
             ],
             [
              0.4444444444444444,
              "#bd3786"
             ],
             [
              0.5555555555555556,
              "#d8576b"
             ],
             [
              0.6666666666666666,
              "#ed7953"
             ],
             [
              0.7777777777777778,
              "#fb9f3a"
             ],
             [
              0.8888888888888888,
              "#fdca26"
             ],
             [
              1,
              "#f0f921"
             ]
            ],
            "type": "surface"
           }
          ],
          "table": [
           {
            "cells": {
             "fill": {
              "color": "#EBF0F8"
             },
             "line": {
              "color": "white"
             }
            },
            "header": {
             "fill": {
              "color": "#C8D4E3"
             },
             "line": {
              "color": "white"
             }
            },
            "type": "table"
           }
          ]
         },
         "layout": {
          "annotationdefaults": {
           "arrowcolor": "#2a3f5f",
           "arrowhead": 0,
           "arrowwidth": 1
          },
          "autotypenumbers": "strict",
          "coloraxis": {
           "colorbar": {
            "outlinewidth": 0,
            "ticks": ""
           }
          },
          "colorscale": {
           "diverging": [
            [
             0,
             "#8e0152"
            ],
            [
             0.1,
             "#c51b7d"
            ],
            [
             0.2,
             "#de77ae"
            ],
            [
             0.3,
             "#f1b6da"
            ],
            [
             0.4,
             "#fde0ef"
            ],
            [
             0.5,
             "#f7f7f7"
            ],
            [
             0.6,
             "#e6f5d0"
            ],
            [
             0.7,
             "#b8e186"
            ],
            [
             0.8,
             "#7fbc41"
            ],
            [
             0.9,
             "#4d9221"
            ],
            [
             1,
             "#276419"
            ]
           ],
           "sequential": [
            [
             0,
             "#0d0887"
            ],
            [
             0.1111111111111111,
             "#46039f"
            ],
            [
             0.2222222222222222,
             "#7201a8"
            ],
            [
             0.3333333333333333,
             "#9c179e"
            ],
            [
             0.4444444444444444,
             "#bd3786"
            ],
            [
             0.5555555555555556,
             "#d8576b"
            ],
            [
             0.6666666666666666,
             "#ed7953"
            ],
            [
             0.7777777777777778,
             "#fb9f3a"
            ],
            [
             0.8888888888888888,
             "#fdca26"
            ],
            [
             1,
             "#f0f921"
            ]
           ],
           "sequentialminus": [
            [
             0,
             "#0d0887"
            ],
            [
             0.1111111111111111,
             "#46039f"
            ],
            [
             0.2222222222222222,
             "#7201a8"
            ],
            [
             0.3333333333333333,
             "#9c179e"
            ],
            [
             0.4444444444444444,
             "#bd3786"
            ],
            [
             0.5555555555555556,
             "#d8576b"
            ],
            [
             0.6666666666666666,
             "#ed7953"
            ],
            [
             0.7777777777777778,
             "#fb9f3a"
            ],
            [
             0.8888888888888888,
             "#fdca26"
            ],
            [
             1,
             "#f0f921"
            ]
           ]
          },
          "colorway": [
           "#636efa",
           "#EF553B",
           "#00cc96",
           "#ab63fa",
           "#FFA15A",
           "#19d3f3",
           "#FF6692",
           "#B6E880",
           "#FF97FF",
           "#FECB52"
          ],
          "font": {
           "color": "#2a3f5f"
          },
          "geo": {
           "bgcolor": "white",
           "lakecolor": "white",
           "landcolor": "white",
           "showlakes": true,
           "showland": true,
           "subunitcolor": "#C8D4E3"
          },
          "hoverlabel": {
           "align": "left"
          },
          "hovermode": "closest",
          "mapbox": {
           "style": "light"
          },
          "paper_bgcolor": "white",
          "plot_bgcolor": "white",
          "polar": {
           "angularaxis": {
            "gridcolor": "#EBF0F8",
            "linecolor": "#EBF0F8",
            "ticks": ""
           },
           "bgcolor": "white",
           "radialaxis": {
            "gridcolor": "#EBF0F8",
            "linecolor": "#EBF0F8",
            "ticks": ""
           }
          },
          "scene": {
           "xaxis": {
            "backgroundcolor": "white",
            "gridcolor": "#DFE8F3",
            "gridwidth": 2,
            "linecolor": "#EBF0F8",
            "showbackground": true,
            "ticks": "",
            "zerolinecolor": "#EBF0F8"
           },
           "yaxis": {
            "backgroundcolor": "white",
            "gridcolor": "#DFE8F3",
            "gridwidth": 2,
            "linecolor": "#EBF0F8",
            "showbackground": true,
            "ticks": "",
            "zerolinecolor": "#EBF0F8"
           },
           "zaxis": {
            "backgroundcolor": "white",
            "gridcolor": "#DFE8F3",
            "gridwidth": 2,
            "linecolor": "#EBF0F8",
            "showbackground": true,
            "ticks": "",
            "zerolinecolor": "#EBF0F8"
           }
          },
          "shapedefaults": {
           "line": {
            "color": "#2a3f5f"
           }
          },
          "ternary": {
           "aaxis": {
            "gridcolor": "#DFE8F3",
            "linecolor": "#A2B1C6",
            "ticks": ""
           },
           "baxis": {
            "gridcolor": "#DFE8F3",
            "linecolor": "#A2B1C6",
            "ticks": ""
           },
           "bgcolor": "white",
           "caxis": {
            "gridcolor": "#DFE8F3",
            "linecolor": "#A2B1C6",
            "ticks": ""
           }
          },
          "title": {
           "x": 0.05
          },
          "xaxis": {
           "automargin": true,
           "gridcolor": "#EBF0F8",
           "linecolor": "#EBF0F8",
           "ticks": "",
           "title": {
            "standoff": 15
           },
           "zerolinecolor": "#EBF0F8",
           "zerolinewidth": 2
          },
          "yaxis": {
           "automargin": true,
           "gridcolor": "#EBF0F8",
           "linecolor": "#EBF0F8",
           "ticks": "",
           "title": {
            "standoff": 15
           },
           "zerolinecolor": "#EBF0F8",
           "zerolinewidth": 2
          }
         }
        },
        "title": {
         "text": "Model Evaluation Results With bootstrap Method"
        },
        "yaxis": {
         "title": {
          "text": "Score"
         }
        }
       }
      }
     },
     "metadata": {},
     "output_type": "display_data"
    }
   ],
   "source": [
    "# mod, df  = mlpipe.bayesian_search(estimator_name='RandomForestClassifier',scoring='matthews_corrcoef', evaluation='bootstrap', n_trials=150, cv=5, warnings_filter=True)#,training_method='one_sem')\n",
    "mod, df  = mlpipe.random_search(estimator_name='LogisticRegression',scoring='roc_auc', evaluation='bootstrap', n_iter=150, cv=5)#,training_method='one_sem')"
   ]
  },
  {
   "cell_type": "code",
   "execution_count": 28,
   "metadata": {},
   "outputs": [
    {
     "data": {
      "text/plain": [
       "count    100.000000\n",
       "mean       0.620172\n",
       "std        0.185052\n",
       "min       -0.043519\n",
       "25%        0.509201\n",
       "50%        0.647952\n",
       "75%        0.763889\n",
       "max        1.000000\n",
       "Name: matthews_corrcoef, dtype: float64"
      ]
     },
     "execution_count": 28,
     "metadata": {},
     "output_type": "execute_result"
    }
   ],
   "source": [
    "df.matthews_corrcoef.describe()"
   ]
  },
  {
   "cell_type": "code",
   "execution_count": 27,
   "metadata": {},
   "outputs": [
    {
     "data": {
      "text/plain": [
       "Index(['Scores', 'mean_test_score', 'std_test_score', 'sem_test_score',\n",
       "       'params', 'round', 'ranked', 'roc_auc', 'accuracy', 'balanced_accuracy',\n",
       "       'recall', 'precision', 'f1', 'matthews_corrcoef'],\n",
       "      dtype='object')"
      ]
     },
     "execution_count": 27,
     "metadata": {},
     "output_type": "execute_result"
    }
   ],
   "source": [
    "df.columns"
   ]
  },
  {
   "cell_type": "code",
   "execution_count": 4,
   "metadata": {},
   "outputs": [
    {
     "name": "stdout",
     "output_type": "stream",
     "text": [
      "Your Dataset contains NaN values. Some estimators does not work with NaN values.\n",
      "The median method will be used for the missing values manipulation.\n",
      "\n",
      "All the extra metrics are valid.\n"
     ]
    },
    {
     "name": "stdout",
     "output_type": "stream",
     "text": [
      "<IPython.core.display.HTML object>\n",
      "<IPython.core.display.HTML object>\n"
     ]
    },
    {
     "name": "stderr",
     "output_type": "stream",
     "text": [
      "Outer fold of 1 round:  0% |             | Elapsed Time: 0:00:00 ETA:  --:--:--\n",
      "Outer fold of 2 round:  0% |             | Elapsed Time: 0:00:00 ETA:  --:--:--\n",
      "Outer fold of 2 round: 33% |████▎        | Elapsed Time: 0:11:14 ETA:   0:22:28\n",
      "Outer fold of 1 round: 33% |████▎        | Elapsed Time: 0:29:56 ETA:   0:59:53\n",
      "Outer fold of 2 round: 66% |████████▋    | Elapsed Time: 0:37:29 ETA:   0:18:44\n",
      "Outer fold of 2 round:100% |█████████████| Elapsed Time: 0:37:30 Time:  0:37:30\n"
     ]
    },
    {
     "name": "stdout",
     "output_type": "stream",
     "text": [
      "Finished with 2 round after 0.89 hours.\n"
     ]
    },
    {
     "name": "stderr",
     "output_type": "stream",
     "text": [
      "Outer fold of 1 round: 66% |████████▋    | Elapsed Time: 0:41:44 ETA:   0:20:52\n",
      "Outer fold of 1 round:100% |█████████████| Elapsed Time: 0:41:45 Time:  0:41:45\n"
     ]
    },
    {
     "name": "stdout",
     "output_type": "stream",
     "text": [
      "Finished with 1 round after 0.90 hours.\n",
      "Finished with 2 estimators\n"
     ]
    },
    {
     "data": {
      "application/vnd.plotly.v1+json": {
       "config": {
        "plotlyServerURL": "https://plot.ly"
       },
       "data": [
        {
         "boxpoints": "all",
         "jitter": 0.3,
         "name": "CatBoostClassifier (Median: 0.77)",
         "pointpos": -1.8,
         "type": "box",
         "y": [
          0.75,
          0.75,
          0.8518518518518519,
          0.6428571428571429,
          0.7857142857142857,
          0.8148148148148148
         ]
        },
        {
         "line": {
          "color": "black",
          "dash": "dash"
         },
         "mode": "lines",
         "showlegend": false,
         "type": "scatter",
         "x": [
          "CatBoostClassifier (Median: 0.77)",
          "CatBoostClassifier (Median: 0.77)"
         ],
         "y": [
          0.6964285714285714,
          0.8333333333333333
         ]
        },
        {
         "boxpoints": "all",
         "jitter": 0.3,
         "name": "XGBClassifier (Median: 0.82)",
         "pointpos": -1.8,
         "type": "box",
         "y": [
          0.7142857142857143,
          0.8928571428571429,
          0.8888888888888888,
          0.7142857142857143,
          0.8214285714285714,
          0.8148148148148148
         ]
        },
        {
         "line": {
          "color": "black",
          "dash": "dash"
         },
         "mode": "lines",
         "showlegend": false,
         "type": "scatter",
         "x": [
          "XGBClassifier (Median: 0.82)",
          "XGBClassifier (Median: 0.82)"
         ],
         "y": [
          0.7142857142857143,
          0.8908730158730158
         ]
        }
       ],
       "layout": {
        "template": {
         "data": {
          "bar": [
           {
            "error_x": {
             "color": "#2a3f5f"
            },
            "error_y": {
             "color": "#2a3f5f"
            },
            "marker": {
             "line": {
              "color": "white",
              "width": 0.5
             },
             "pattern": {
              "fillmode": "overlay",
              "size": 10,
              "solidity": 0.2
             }
            },
            "type": "bar"
           }
          ],
          "barpolar": [
           {
            "marker": {
             "line": {
              "color": "white",
              "width": 0.5
             },
             "pattern": {
              "fillmode": "overlay",
              "size": 10,
              "solidity": 0.2
             }
            },
            "type": "barpolar"
           }
          ],
          "carpet": [
           {
            "aaxis": {
             "endlinecolor": "#2a3f5f",
             "gridcolor": "#C8D4E3",
             "linecolor": "#C8D4E3",
             "minorgridcolor": "#C8D4E3",
             "startlinecolor": "#2a3f5f"
            },
            "baxis": {
             "endlinecolor": "#2a3f5f",
             "gridcolor": "#C8D4E3",
             "linecolor": "#C8D4E3",
             "minorgridcolor": "#C8D4E3",
             "startlinecolor": "#2a3f5f"
            },
            "type": "carpet"
           }
          ],
          "choropleth": [
           {
            "colorbar": {
             "outlinewidth": 0,
             "ticks": ""
            },
            "type": "choropleth"
           }
          ],
          "contour": [
           {
            "colorbar": {
             "outlinewidth": 0,
             "ticks": ""
            },
            "colorscale": [
             [
              0,
              "#0d0887"
             ],
             [
              0.1111111111111111,
              "#46039f"
             ],
             [
              0.2222222222222222,
              "#7201a8"
             ],
             [
              0.3333333333333333,
              "#9c179e"
             ],
             [
              0.4444444444444444,
              "#bd3786"
             ],
             [
              0.5555555555555556,
              "#d8576b"
             ],
             [
              0.6666666666666666,
              "#ed7953"
             ],
             [
              0.7777777777777778,
              "#fb9f3a"
             ],
             [
              0.8888888888888888,
              "#fdca26"
             ],
             [
              1,
              "#f0f921"
             ]
            ],
            "type": "contour"
           }
          ],
          "contourcarpet": [
           {
            "colorbar": {
             "outlinewidth": 0,
             "ticks": ""
            },
            "type": "contourcarpet"
           }
          ],
          "heatmap": [
           {
            "colorbar": {
             "outlinewidth": 0,
             "ticks": ""
            },
            "colorscale": [
             [
              0,
              "#0d0887"
             ],
             [
              0.1111111111111111,
              "#46039f"
             ],
             [
              0.2222222222222222,
              "#7201a8"
             ],
             [
              0.3333333333333333,
              "#9c179e"
             ],
             [
              0.4444444444444444,
              "#bd3786"
             ],
             [
              0.5555555555555556,
              "#d8576b"
             ],
             [
              0.6666666666666666,
              "#ed7953"
             ],
             [
              0.7777777777777778,
              "#fb9f3a"
             ],
             [
              0.8888888888888888,
              "#fdca26"
             ],
             [
              1,
              "#f0f921"
             ]
            ],
            "type": "heatmap"
           }
          ],
          "heatmapgl": [
           {
            "colorbar": {
             "outlinewidth": 0,
             "ticks": ""
            },
            "colorscale": [
             [
              0,
              "#0d0887"
             ],
             [
              0.1111111111111111,
              "#46039f"
             ],
             [
              0.2222222222222222,
              "#7201a8"
             ],
             [
              0.3333333333333333,
              "#9c179e"
             ],
             [
              0.4444444444444444,
              "#bd3786"
             ],
             [
              0.5555555555555556,
              "#d8576b"
             ],
             [
              0.6666666666666666,
              "#ed7953"
             ],
             [
              0.7777777777777778,
              "#fb9f3a"
             ],
             [
              0.8888888888888888,
              "#fdca26"
             ],
             [
              1,
              "#f0f921"
             ]
            ],
            "type": "heatmapgl"
           }
          ],
          "histogram": [
           {
            "marker": {
             "pattern": {
              "fillmode": "overlay",
              "size": 10,
              "solidity": 0.2
             }
            },
            "type": "histogram"
           }
          ],
          "histogram2d": [
           {
            "colorbar": {
             "outlinewidth": 0,
             "ticks": ""
            },
            "colorscale": [
             [
              0,
              "#0d0887"
             ],
             [
              0.1111111111111111,
              "#46039f"
             ],
             [
              0.2222222222222222,
              "#7201a8"
             ],
             [
              0.3333333333333333,
              "#9c179e"
             ],
             [
              0.4444444444444444,
              "#bd3786"
             ],
             [
              0.5555555555555556,
              "#d8576b"
             ],
             [
              0.6666666666666666,
              "#ed7953"
             ],
             [
              0.7777777777777778,
              "#fb9f3a"
             ],
             [
              0.8888888888888888,
              "#fdca26"
             ],
             [
              1,
              "#f0f921"
             ]
            ],
            "type": "histogram2d"
           }
          ],
          "histogram2dcontour": [
           {
            "colorbar": {
             "outlinewidth": 0,
             "ticks": ""
            },
            "colorscale": [
             [
              0,
              "#0d0887"
             ],
             [
              0.1111111111111111,
              "#46039f"
             ],
             [
              0.2222222222222222,
              "#7201a8"
             ],
             [
              0.3333333333333333,
              "#9c179e"
             ],
             [
              0.4444444444444444,
              "#bd3786"
             ],
             [
              0.5555555555555556,
              "#d8576b"
             ],
             [
              0.6666666666666666,
              "#ed7953"
             ],
             [
              0.7777777777777778,
              "#fb9f3a"
             ],
             [
              0.8888888888888888,
              "#fdca26"
             ],
             [
              1,
              "#f0f921"
             ]
            ],
            "type": "histogram2dcontour"
           }
          ],
          "mesh3d": [
           {
            "colorbar": {
             "outlinewidth": 0,
             "ticks": ""
            },
            "type": "mesh3d"
           }
          ],
          "parcoords": [
           {
            "line": {
             "colorbar": {
              "outlinewidth": 0,
              "ticks": ""
             }
            },
            "type": "parcoords"
           }
          ],
          "pie": [
           {
            "automargin": true,
            "type": "pie"
           }
          ],
          "scatter": [
           {
            "fillpattern": {
             "fillmode": "overlay",
             "size": 10,
             "solidity": 0.2
            },
            "type": "scatter"
           }
          ],
          "scatter3d": [
           {
            "line": {
             "colorbar": {
              "outlinewidth": 0,
              "ticks": ""
             }
            },
            "marker": {
             "colorbar": {
              "outlinewidth": 0,
              "ticks": ""
             }
            },
            "type": "scatter3d"
           }
          ],
          "scattercarpet": [
           {
            "marker": {
             "colorbar": {
              "outlinewidth": 0,
              "ticks": ""
             }
            },
            "type": "scattercarpet"
           }
          ],
          "scattergeo": [
           {
            "marker": {
             "colorbar": {
              "outlinewidth": 0,
              "ticks": ""
             }
            },
            "type": "scattergeo"
           }
          ],
          "scattergl": [
           {
            "marker": {
             "colorbar": {
              "outlinewidth": 0,
              "ticks": ""
             }
            },
            "type": "scattergl"
           }
          ],
          "scattermapbox": [
           {
            "marker": {
             "colorbar": {
              "outlinewidth": 0,
              "ticks": ""
             }
            },
            "type": "scattermapbox"
           }
          ],
          "scatterpolar": [
           {
            "marker": {
             "colorbar": {
              "outlinewidth": 0,
              "ticks": ""
             }
            },
            "type": "scatterpolar"
           }
          ],
          "scatterpolargl": [
           {
            "marker": {
             "colorbar": {
              "outlinewidth": 0,
              "ticks": ""
             }
            },
            "type": "scatterpolargl"
           }
          ],
          "scatterternary": [
           {
            "marker": {
             "colorbar": {
              "outlinewidth": 0,
              "ticks": ""
             }
            },
            "type": "scatterternary"
           }
          ],
          "surface": [
           {
            "colorbar": {
             "outlinewidth": 0,
             "ticks": ""
            },
            "colorscale": [
             [
              0,
              "#0d0887"
             ],
             [
              0.1111111111111111,
              "#46039f"
             ],
             [
              0.2222222222222222,
              "#7201a8"
             ],
             [
              0.3333333333333333,
              "#9c179e"
             ],
             [
              0.4444444444444444,
              "#bd3786"
             ],
             [
              0.5555555555555556,
              "#d8576b"
             ],
             [
              0.6666666666666666,
              "#ed7953"
             ],
             [
              0.7777777777777778,
              "#fb9f3a"
             ],
             [
              0.8888888888888888,
              "#fdca26"
             ],
             [
              1,
              "#f0f921"
             ]
            ],
            "type": "surface"
           }
          ],
          "table": [
           {
            "cells": {
             "fill": {
              "color": "#EBF0F8"
             },
             "line": {
              "color": "white"
             }
            },
            "header": {
             "fill": {
              "color": "#C8D4E3"
             },
             "line": {
              "color": "white"
             }
            },
            "type": "table"
           }
          ]
         },
         "layout": {
          "annotationdefaults": {
           "arrowcolor": "#2a3f5f",
           "arrowhead": 0,
           "arrowwidth": 1
          },
          "autotypenumbers": "strict",
          "coloraxis": {
           "colorbar": {
            "outlinewidth": 0,
            "ticks": ""
           }
          },
          "colorscale": {
           "diverging": [
            [
             0,
             "#8e0152"
            ],
            [
             0.1,
             "#c51b7d"
            ],
            [
             0.2,
             "#de77ae"
            ],
            [
             0.3,
             "#f1b6da"
            ],
            [
             0.4,
             "#fde0ef"
            ],
            [
             0.5,
             "#f7f7f7"
            ],
            [
             0.6,
             "#e6f5d0"
            ],
            [
             0.7,
             "#b8e186"
            ],
            [
             0.8,
             "#7fbc41"
            ],
            [
             0.9,
             "#4d9221"
            ],
            [
             1,
             "#276419"
            ]
           ],
           "sequential": [
            [
             0,
             "#0d0887"
            ],
            [
             0.1111111111111111,
             "#46039f"
            ],
            [
             0.2222222222222222,
             "#7201a8"
            ],
            [
             0.3333333333333333,
             "#9c179e"
            ],
            [
             0.4444444444444444,
             "#bd3786"
            ],
            [
             0.5555555555555556,
             "#d8576b"
            ],
            [
             0.6666666666666666,
             "#ed7953"
            ],
            [
             0.7777777777777778,
             "#fb9f3a"
            ],
            [
             0.8888888888888888,
             "#fdca26"
            ],
            [
             1,
             "#f0f921"
            ]
           ],
           "sequentialminus": [
            [
             0,
             "#0d0887"
            ],
            [
             0.1111111111111111,
             "#46039f"
            ],
            [
             0.2222222222222222,
             "#7201a8"
            ],
            [
             0.3333333333333333,
             "#9c179e"
            ],
            [
             0.4444444444444444,
             "#bd3786"
            ],
            [
             0.5555555555555556,
             "#d8576b"
            ],
            [
             0.6666666666666666,
             "#ed7953"
            ],
            [
             0.7777777777777778,
             "#fb9f3a"
            ],
            [
             0.8888888888888888,
             "#fdca26"
            ],
            [
             1,
             "#f0f921"
            ]
           ]
          },
          "colorway": [
           "#636efa",
           "#EF553B",
           "#00cc96",
           "#ab63fa",
           "#FFA15A",
           "#19d3f3",
           "#FF6692",
           "#B6E880",
           "#FF97FF",
           "#FECB52"
          ],
          "font": {
           "color": "#2a3f5f"
          },
          "geo": {
           "bgcolor": "white",
           "lakecolor": "white",
           "landcolor": "white",
           "showlakes": true,
           "showland": true,
           "subunitcolor": "#C8D4E3"
          },
          "hoverlabel": {
           "align": "left"
          },
          "hovermode": "closest",
          "mapbox": {
           "style": "light"
          },
          "paper_bgcolor": "white",
          "plot_bgcolor": "white",
          "polar": {
           "angularaxis": {
            "gridcolor": "#EBF0F8",
            "linecolor": "#EBF0F8",
            "ticks": ""
           },
           "bgcolor": "white",
           "radialaxis": {
            "gridcolor": "#EBF0F8",
            "linecolor": "#EBF0F8",
            "ticks": ""
           }
          },
          "scene": {
           "xaxis": {
            "backgroundcolor": "white",
            "gridcolor": "#DFE8F3",
            "gridwidth": 2,
            "linecolor": "#EBF0F8",
            "showbackground": true,
            "ticks": "",
            "zerolinecolor": "#EBF0F8"
           },
           "yaxis": {
            "backgroundcolor": "white",
            "gridcolor": "#DFE8F3",
            "gridwidth": 2,
            "linecolor": "#EBF0F8",
            "showbackground": true,
            "ticks": "",
            "zerolinecolor": "#EBF0F8"
           },
           "zaxis": {
            "backgroundcolor": "white",
            "gridcolor": "#DFE8F3",
            "gridwidth": 2,
            "linecolor": "#EBF0F8",
            "showbackground": true,
            "ticks": "",
            "zerolinecolor": "#EBF0F8"
           }
          },
          "shapedefaults": {
           "line": {
            "color": "#2a3f5f"
           }
          },
          "ternary": {
           "aaxis": {
            "gridcolor": "#DFE8F3",
            "linecolor": "#A2B1C6",
            "ticks": ""
           },
           "baxis": {
            "gridcolor": "#DFE8F3",
            "linecolor": "#A2B1C6",
            "ticks": ""
           },
           "bgcolor": "white",
           "caxis": {
            "gridcolor": "#DFE8F3",
            "linecolor": "#A2B1C6",
            "ticks": ""
           }
          },
          "title": {
           "x": 0.05
          },
          "xaxis": {
           "automargin": true,
           "gridcolor": "#EBF0F8",
           "linecolor": "#EBF0F8",
           "ticks": "",
           "title": {
            "standoff": 15
           },
           "zerolinecolor": "#EBF0F8",
           "zerolinewidth": 2
          },
          "yaxis": {
           "automargin": true,
           "gridcolor": "#EBF0F8",
           "linecolor": "#EBF0F8",
           "ticks": "",
           "title": {
            "standoff": 15
           },
           "zerolinecolor": "#EBF0F8",
           "zerolinewidth": 2
          }
         }
        },
        "title": {
         "text": "Model Selection Results"
        },
        "xaxis": {
         "tickangle": -45,
         "title": {
          "text": "Classifier"
         }
        },
        "yaxis": {
         "title": {
          "text": "Scores matthews_corrcoef"
         }
        }
       }
      }
     },
     "metadata": {},
     "output_type": "display_data"
    },
    {
     "name": "stdout",
     "output_type": "stream",
     "text": [
      "Results saved to Results/gastric_cancer_one_sem_all_features_outerloops_results.csv\n"
     ]
    }
   ],
   "source": [
    "df = mlpipe.nested_cv(plot='box',n_trials_ncv=100,rounds=2,outer_splits=3,inner_splits=3,inner_selection='one_sem',search_on=['XGBClassifier','CatBoostClassifier'],parallel='freely_parallel',return_csv=True)\n",
    "# df = mlpipe.nested_cv(plot='box',n_trials_ncv=10,rounds=2,outer_splits=3,inner_splits=3,inner_selection='validation_score',search_on=['ElasticNet','LogisticRegression','XGBClassifier'],return_csv=True)"
   ]
  },
  {
   "cell_type": "code",
   "execution_count": 5,
   "metadata": {},
   "outputs": [
    {
     "name": "stdout",
     "output_type": "stream",
     "text": [
      "Your Dataset contains NaN values. Some estimators does not work with NaN values.\n",
      "The median method will be used for the missing values manipulation.\n",
      "\n",
      "All the extra metrics are valid.\n"
     ]
    },
    {
     "name": "stderr",
     "output_type": "stream",
     "text": [
      "Outer fold of 2 round:  0% |             | Elapsed Time: 0:00:00 ETA:  --:--:--\n",
      "Outer fold of 1 round:  0% |             | Elapsed Time: 0:00:00 ETA:  --:--:--\n",
      "Outer fold of 1 round: 33% |████▎        | Elapsed Time: 0:11:03 ETA:   0:22:07\n",
      "Outer fold of 2 round: 33% |████▎        | Elapsed Time: 0:21:51 ETA:   0:43:42\n",
      "Outer fold of 1 round: 66% |████████▋    | Elapsed Time: 0:21:49 ETA:   0:10:54\n",
      "Outer fold of 1 round:100% |█████████████| Elapsed Time: 0:21:50 Time:  0:21:50\n"
     ]
    },
    {
     "name": "stdout",
     "output_type": "stream",
     "text": [
      "Finished with 1 round after 0.60 hours.\n"
     ]
    },
    {
     "name": "stderr",
     "output_type": "stream",
     "text": [
      "Outer fold of 2 round: 66% |████████▋    | Elapsed Time: 0:35:36 ETA:   0:17:48\n",
      "Outer fold of 2 round:100% |█████████████| Elapsed Time: 0:35:37 Time:  0:35:37\n"
     ]
    },
    {
     "name": "stdout",
     "output_type": "stream",
     "text": [
      "Finished with 2 round after 0.77 hours.\n",
      "Finished with 2 estimators\n"
     ]
    },
    {
     "data": {
      "application/vnd.plotly.v1+json": {
       "config": {
        "plotlyServerURL": "https://plot.ly"
       },
       "data": [
        {
         "boxpoints": "all",
         "jitter": 0.3,
         "name": "CatBoostClassifier (Median: 0.67)",
         "pointpos": -1.8,
         "type": "box",
         "y": [
          0.4358974358974359,
          0.7216878364870323,
          0.6424188694912957,
          0.4241767985127718,
          0.8043996665398437,
          0.7032967032967034
         ]
        },
        {
         "line": {
          "color": "black",
          "dash": "dash"
         },
         "mode": "lines",
         "showlegend": false,
         "type": "scatter",
         "x": [
          "CatBoostClassifier (Median: 0.67)",
          "CatBoostClassifier (Median: 0.67)"
         ],
         "y": [
          0.43003711720510385,
          0.7630437515134381
         ]
        },
        {
         "boxpoints": "all",
         "jitter": 0.3,
         "name": "XGBClassifier (Median: 0.72)",
         "pointpos": -1.8,
         "type": "box",
         "y": [
          0.5692307692307692,
          0.7216878364870323,
          0.7790174143548602,
          0.35143174800275734,
          0.7142857142857143,
          0.7790174143548602
         ]
        },
        {
         "line": {
          "color": "black",
          "dash": "dash"
         },
         "mode": "lines",
         "showlegend": false,
         "type": "scatter",
         "x": [
          "XGBClassifier (Median: 0.72)",
          "XGBClassifier (Median: 0.72)"
         ],
         "y": [
          0.4603312586167633,
          0.7790174143548602
         ]
        }
       ],
       "layout": {
        "template": {
         "data": {
          "bar": [
           {
            "error_x": {
             "color": "#2a3f5f"
            },
            "error_y": {
             "color": "#2a3f5f"
            },
            "marker": {
             "line": {
              "color": "white",
              "width": 0.5
             },
             "pattern": {
              "fillmode": "overlay",
              "size": 10,
              "solidity": 0.2
             }
            },
            "type": "bar"
           }
          ],
          "barpolar": [
           {
            "marker": {
             "line": {
              "color": "white",
              "width": 0.5
             },
             "pattern": {
              "fillmode": "overlay",
              "size": 10,
              "solidity": 0.2
             }
            },
            "type": "barpolar"
           }
          ],
          "carpet": [
           {
            "aaxis": {
             "endlinecolor": "#2a3f5f",
             "gridcolor": "#C8D4E3",
             "linecolor": "#C8D4E3",
             "minorgridcolor": "#C8D4E3",
             "startlinecolor": "#2a3f5f"
            },
            "baxis": {
             "endlinecolor": "#2a3f5f",
             "gridcolor": "#C8D4E3",
             "linecolor": "#C8D4E3",
             "minorgridcolor": "#C8D4E3",
             "startlinecolor": "#2a3f5f"
            },
            "type": "carpet"
           }
          ],
          "choropleth": [
           {
            "colorbar": {
             "outlinewidth": 0,
             "ticks": ""
            },
            "type": "choropleth"
           }
          ],
          "contour": [
           {
            "colorbar": {
             "outlinewidth": 0,
             "ticks": ""
            },
            "colorscale": [
             [
              0,
              "#0d0887"
             ],
             [
              0.1111111111111111,
              "#46039f"
             ],
             [
              0.2222222222222222,
              "#7201a8"
             ],
             [
              0.3333333333333333,
              "#9c179e"
             ],
             [
              0.4444444444444444,
              "#bd3786"
             ],
             [
              0.5555555555555556,
              "#d8576b"
             ],
             [
              0.6666666666666666,
              "#ed7953"
             ],
             [
              0.7777777777777778,
              "#fb9f3a"
             ],
             [
              0.8888888888888888,
              "#fdca26"
             ],
             [
              1,
              "#f0f921"
             ]
            ],
            "type": "contour"
           }
          ],
          "contourcarpet": [
           {
            "colorbar": {
             "outlinewidth": 0,
             "ticks": ""
            },
            "type": "contourcarpet"
           }
          ],
          "heatmap": [
           {
            "colorbar": {
             "outlinewidth": 0,
             "ticks": ""
            },
            "colorscale": [
             [
              0,
              "#0d0887"
             ],
             [
              0.1111111111111111,
              "#46039f"
             ],
             [
              0.2222222222222222,
              "#7201a8"
             ],
             [
              0.3333333333333333,
              "#9c179e"
             ],
             [
              0.4444444444444444,
              "#bd3786"
             ],
             [
              0.5555555555555556,
              "#d8576b"
             ],
             [
              0.6666666666666666,
              "#ed7953"
             ],
             [
              0.7777777777777778,
              "#fb9f3a"
             ],
             [
              0.8888888888888888,
              "#fdca26"
             ],
             [
              1,
              "#f0f921"
             ]
            ],
            "type": "heatmap"
           }
          ],
          "heatmapgl": [
           {
            "colorbar": {
             "outlinewidth": 0,
             "ticks": ""
            },
            "colorscale": [
             [
              0,
              "#0d0887"
             ],
             [
              0.1111111111111111,
              "#46039f"
             ],
             [
              0.2222222222222222,
              "#7201a8"
             ],
             [
              0.3333333333333333,
              "#9c179e"
             ],
             [
              0.4444444444444444,
              "#bd3786"
             ],
             [
              0.5555555555555556,
              "#d8576b"
             ],
             [
              0.6666666666666666,
              "#ed7953"
             ],
             [
              0.7777777777777778,
              "#fb9f3a"
             ],
             [
              0.8888888888888888,
              "#fdca26"
             ],
             [
              1,
              "#f0f921"
             ]
            ],
            "type": "heatmapgl"
           }
          ],
          "histogram": [
           {
            "marker": {
             "pattern": {
              "fillmode": "overlay",
              "size": 10,
              "solidity": 0.2
             }
            },
            "type": "histogram"
           }
          ],
          "histogram2d": [
           {
            "colorbar": {
             "outlinewidth": 0,
             "ticks": ""
            },
            "colorscale": [
             [
              0,
              "#0d0887"
             ],
             [
              0.1111111111111111,
              "#46039f"
             ],
             [
              0.2222222222222222,
              "#7201a8"
             ],
             [
              0.3333333333333333,
              "#9c179e"
             ],
             [
              0.4444444444444444,
              "#bd3786"
             ],
             [
              0.5555555555555556,
              "#d8576b"
             ],
             [
              0.6666666666666666,
              "#ed7953"
             ],
             [
              0.7777777777777778,
              "#fb9f3a"
             ],
             [
              0.8888888888888888,
              "#fdca26"
             ],
             [
              1,
              "#f0f921"
             ]
            ],
            "type": "histogram2d"
           }
          ],
          "histogram2dcontour": [
           {
            "colorbar": {
             "outlinewidth": 0,
             "ticks": ""
            },
            "colorscale": [
             [
              0,
              "#0d0887"
             ],
             [
              0.1111111111111111,
              "#46039f"
             ],
             [
              0.2222222222222222,
              "#7201a8"
             ],
             [
              0.3333333333333333,
              "#9c179e"
             ],
             [
              0.4444444444444444,
              "#bd3786"
             ],
             [
              0.5555555555555556,
              "#d8576b"
             ],
             [
              0.6666666666666666,
              "#ed7953"
             ],
             [
              0.7777777777777778,
              "#fb9f3a"
             ],
             [
              0.8888888888888888,
              "#fdca26"
             ],
             [
              1,
              "#f0f921"
             ]
            ],
            "type": "histogram2dcontour"
           }
          ],
          "mesh3d": [
           {
            "colorbar": {
             "outlinewidth": 0,
             "ticks": ""
            },
            "type": "mesh3d"
           }
          ],
          "parcoords": [
           {
            "line": {
             "colorbar": {
              "outlinewidth": 0,
              "ticks": ""
             }
            },
            "type": "parcoords"
           }
          ],
          "pie": [
           {
            "automargin": true,
            "type": "pie"
           }
          ],
          "scatter": [
           {
            "fillpattern": {
             "fillmode": "overlay",
             "size": 10,
             "solidity": 0.2
            },
            "type": "scatter"
           }
          ],
          "scatter3d": [
           {
            "line": {
             "colorbar": {
              "outlinewidth": 0,
              "ticks": ""
             }
            },
            "marker": {
             "colorbar": {
              "outlinewidth": 0,
              "ticks": ""
             }
            },
            "type": "scatter3d"
           }
          ],
          "scattercarpet": [
           {
            "marker": {
             "colorbar": {
              "outlinewidth": 0,
              "ticks": ""
             }
            },
            "type": "scattercarpet"
           }
          ],
          "scattergeo": [
           {
            "marker": {
             "colorbar": {
              "outlinewidth": 0,
              "ticks": ""
             }
            },
            "type": "scattergeo"
           }
          ],
          "scattergl": [
           {
            "marker": {
             "colorbar": {
              "outlinewidth": 0,
              "ticks": ""
             }
            },
            "type": "scattergl"
           }
          ],
          "scattermapbox": [
           {
            "marker": {
             "colorbar": {
              "outlinewidth": 0,
              "ticks": ""
             }
            },
            "type": "scattermapbox"
           }
          ],
          "scatterpolar": [
           {
            "marker": {
             "colorbar": {
              "outlinewidth": 0,
              "ticks": ""
             }
            },
            "type": "scatterpolar"
           }
          ],
          "scatterpolargl": [
           {
            "marker": {
             "colorbar": {
              "outlinewidth": 0,
              "ticks": ""
             }
            },
            "type": "scatterpolargl"
           }
          ],
          "scatterternary": [
           {
            "marker": {
             "colorbar": {
              "outlinewidth": 0,
              "ticks": ""
             }
            },
            "type": "scatterternary"
           }
          ],
          "surface": [
           {
            "colorbar": {
             "outlinewidth": 0,
             "ticks": ""
            },
            "colorscale": [
             [
              0,
              "#0d0887"
             ],
             [
              0.1111111111111111,
              "#46039f"
             ],
             [
              0.2222222222222222,
              "#7201a8"
             ],
             [
              0.3333333333333333,
              "#9c179e"
             ],
             [
              0.4444444444444444,
              "#bd3786"
             ],
             [
              0.5555555555555556,
              "#d8576b"
             ],
             [
              0.6666666666666666,
              "#ed7953"
             ],
             [
              0.7777777777777778,
              "#fb9f3a"
             ],
             [
              0.8888888888888888,
              "#fdca26"
             ],
             [
              1,
              "#f0f921"
             ]
            ],
            "type": "surface"
           }
          ],
          "table": [
           {
            "cells": {
             "fill": {
              "color": "#EBF0F8"
             },
             "line": {
              "color": "white"
             }
            },
            "header": {
             "fill": {
              "color": "#C8D4E3"
             },
             "line": {
              "color": "white"
             }
            },
            "type": "table"
           }
          ]
         },
         "layout": {
          "annotationdefaults": {
           "arrowcolor": "#2a3f5f",
           "arrowhead": 0,
           "arrowwidth": 1
          },
          "autotypenumbers": "strict",
          "coloraxis": {
           "colorbar": {
            "outlinewidth": 0,
            "ticks": ""
           }
          },
          "colorscale": {
           "diverging": [
            [
             0,
             "#8e0152"
            ],
            [
             0.1,
             "#c51b7d"
            ],
            [
             0.2,
             "#de77ae"
            ],
            [
             0.3,
             "#f1b6da"
            ],
            [
             0.4,
             "#fde0ef"
            ],
            [
             0.5,
             "#f7f7f7"
            ],
            [
             0.6,
             "#e6f5d0"
            ],
            [
             0.7,
             "#b8e186"
            ],
            [
             0.8,
             "#7fbc41"
            ],
            [
             0.9,
             "#4d9221"
            ],
            [
             1,
             "#276419"
            ]
           ],
           "sequential": [
            [
             0,
             "#0d0887"
            ],
            [
             0.1111111111111111,
             "#46039f"
            ],
            [
             0.2222222222222222,
             "#7201a8"
            ],
            [
             0.3333333333333333,
             "#9c179e"
            ],
            [
             0.4444444444444444,
             "#bd3786"
            ],
            [
             0.5555555555555556,
             "#d8576b"
            ],
            [
             0.6666666666666666,
             "#ed7953"
            ],
            [
             0.7777777777777778,
             "#fb9f3a"
            ],
            [
             0.8888888888888888,
             "#fdca26"
            ],
            [
             1,
             "#f0f921"
            ]
           ],
           "sequentialminus": [
            [
             0,
             "#0d0887"
            ],
            [
             0.1111111111111111,
             "#46039f"
            ],
            [
             0.2222222222222222,
             "#7201a8"
            ],
            [
             0.3333333333333333,
             "#9c179e"
            ],
            [
             0.4444444444444444,
             "#bd3786"
            ],
            [
             0.5555555555555556,
             "#d8576b"
            ],
            [
             0.6666666666666666,
             "#ed7953"
            ],
            [
             0.7777777777777778,
             "#fb9f3a"
            ],
            [
             0.8888888888888888,
             "#fdca26"
            ],
            [
             1,
             "#f0f921"
            ]
           ]
          },
          "colorway": [
           "#636efa",
           "#EF553B",
           "#00cc96",
           "#ab63fa",
           "#FFA15A",
           "#19d3f3",
           "#FF6692",
           "#B6E880",
           "#FF97FF",
           "#FECB52"
          ],
          "font": {
           "color": "#2a3f5f"
          },
          "geo": {
           "bgcolor": "white",
           "lakecolor": "white",
           "landcolor": "white",
           "showlakes": true,
           "showland": true,
           "subunitcolor": "#C8D4E3"
          },
          "hoverlabel": {
           "align": "left"
          },
          "hovermode": "closest",
          "mapbox": {
           "style": "light"
          },
          "paper_bgcolor": "white",
          "plot_bgcolor": "white",
          "polar": {
           "angularaxis": {
            "gridcolor": "#EBF0F8",
            "linecolor": "#EBF0F8",
            "ticks": ""
           },
           "bgcolor": "white",
           "radialaxis": {
            "gridcolor": "#EBF0F8",
            "linecolor": "#EBF0F8",
            "ticks": ""
           }
          },
          "scene": {
           "xaxis": {
            "backgroundcolor": "white",
            "gridcolor": "#DFE8F3",
            "gridwidth": 2,
            "linecolor": "#EBF0F8",
            "showbackground": true,
            "ticks": "",
            "zerolinecolor": "#EBF0F8"
           },
           "yaxis": {
            "backgroundcolor": "white",
            "gridcolor": "#DFE8F3",
            "gridwidth": 2,
            "linecolor": "#EBF0F8",
            "showbackground": true,
            "ticks": "",
            "zerolinecolor": "#EBF0F8"
           },
           "zaxis": {
            "backgroundcolor": "white",
            "gridcolor": "#DFE8F3",
            "gridwidth": 2,
            "linecolor": "#EBF0F8",
            "showbackground": true,
            "ticks": "",
            "zerolinecolor": "#EBF0F8"
           }
          },
          "shapedefaults": {
           "line": {
            "color": "#2a3f5f"
           }
          },
          "ternary": {
           "aaxis": {
            "gridcolor": "#DFE8F3",
            "linecolor": "#A2B1C6",
            "ticks": ""
           },
           "baxis": {
            "gridcolor": "#DFE8F3",
            "linecolor": "#A2B1C6",
            "ticks": ""
           },
           "bgcolor": "white",
           "caxis": {
            "gridcolor": "#DFE8F3",
            "linecolor": "#A2B1C6",
            "ticks": ""
           }
          },
          "title": {
           "x": 0.05
          },
          "xaxis": {
           "automargin": true,
           "gridcolor": "#EBF0F8",
           "linecolor": "#EBF0F8",
           "ticks": "",
           "title": {
            "standoff": 15
           },
           "zerolinecolor": "#EBF0F8",
           "zerolinewidth": 2
          },
          "yaxis": {
           "automargin": true,
           "gridcolor": "#EBF0F8",
           "linecolor": "#EBF0F8",
           "ticks": "",
           "title": {
            "standoff": 15
           },
           "zerolinecolor": "#EBF0F8",
           "zerolinewidth": 2
          }
         }
        },
        "title": {
         "text": "Model Selection Results"
        },
        "xaxis": {
         "tickangle": -45,
         "title": {
          "text": "Classifier"
         }
        },
        "yaxis": {
         "title": {
          "text": "Scores matthews_corrcoef"
         }
        }
       }
      }
     },
     "metadata": {},
     "output_type": "display_data"
    },
    {
     "name": "stdout",
     "output_type": "stream",
     "text": [
      "Results saved to Results/gastric_cancer_validation_score_all_features_outerloops_results.csv\n"
     ]
    }
   ],
   "source": [
    "df = mlpipe.nested_cv(plot='box',n_trials_ncv=100,rounds=2,outer_splits=3,inner_splits=3,inner_selection='validation_score',search_on=['XGBClassifier','CatBoostClassifier'],parallel='freely_parallel',return_csv=True)\n"
   ]
  },
  {
   "cell_type": "code",
   "execution_count": 7,
   "metadata": {},
   "outputs": [
    {
     "name": "stdout",
     "output_type": "stream",
     "text": [
      "Your Dataset contains NaN values. Some estimators does not work with NaN values.\n",
      "The median method will be used for the missing values manipulation.\n",
      "\n",
      "All the extra metrics are valid.\n"
     ]
    },
    {
     "name": "stderr",
     "output_type": "stream",
     "text": [
      "Outer fold of 3 round:  0% |             | Elapsed Time: 0:00:00 ETA:  --:--:--\n",
      "Outer fold of 3 round: 33% |████▎        | Elapsed Time: 0:01:22 ETA:   0:02:44\n",
      "Outer fold of 1 round:  0% |             | Elapsed Time: 0:00:00 ETA:  --:--:--\n",
      "Outer fold of 2 round:  0% |             | Elapsed Time: 0:00:00 ETA:  --:--:--\n",
      "Outer fold of 3 round: 66% |████████▋    | Elapsed Time: 0:04:02 ETA:   0:02:01\n",
      "Outer fold of 3 round:100% |█████████████| Elapsed Time: 0:04:03 Time:  0:04:03\n"
     ]
    },
    {
     "name": "stdout",
     "output_type": "stream",
     "text": [
      "Finished with 3 round after 0.09 hours.\n"
     ]
    },
    {
     "name": "stderr",
     "output_type": "stream",
     "text": [
      "Outer fold of 1 round: 33% |████▎        | Elapsed Time: 0:02:11 ETA:   0:04:23\n",
      "Outer fold of 2 round: 33% |████▎        | Elapsed Time: 0:02:03 ETA:   0:04:06\n",
      "Outer fold of 1 round: 66% |████████▋    | Elapsed Time: 0:03:48 ETA:   0:01:54\n",
      "Outer fold of 1 round:100% |█████████████| Elapsed Time: 0:03:49 Time:  0:03:49\n"
     ]
    },
    {
     "name": "stdout",
     "output_type": "stream",
     "text": [
      "Finished with 1 round after 0.12 hours.\n"
     ]
    },
    {
     "name": "stderr",
     "output_type": "stream",
     "text": [
      "Outer fold of 2 round: 66% |████████▋    | Elapsed Time: 0:03:09 ETA:   0:01:34\n"
     ]
    },
    {
     "name": "stdout",
     "output_type": "stream",
     "text": [
      "Finished with 2 round after 0.13 hours.\n",
      "Finished with 1 estimators\n"
     ]
    },
    {
     "name": "stderr",
     "output_type": "stream",
     "text": [
      "Outer fold of 2 round:100% |█████████████| Elapsed Time: 0:03:10 Time:  0:03:10\n"
     ]
    },
    {
     "data": {
      "application/vnd.plotly.v1+json": {
       "config": {
        "plotlyServerURL": "https://plot.ly"
       },
       "data": [
        {
         "name": "Bad Samples for XGBClassifier",
         "text": [
          "0.00",
          "0.33",
          "0.33",
          "0.33",
          "0.33",
          "0.00",
          "0.33",
          "0.00",
          "0.00",
          "0.00",
          "0.00",
          "0.00",
          "0.00",
          "0.33",
          "0.00",
          "0.33"
         ],
         "textposition": "auto",
         "type": "bar",
         "x": [
          12,
          21,
          25,
          36,
          37,
          38,
          41,
          45,
          51,
          58,
          65,
          66,
          68,
          76,
          79,
          82
         ],
         "y": [
          0,
          0.3333333333333333,
          0.3333333333333333,
          0.3333333333333333,
          0.3333333333333333,
          0,
          0.3333333333333333,
          0,
          0,
          0,
          0,
          0,
          0,
          0.3333333333333333,
          0,
          0.3333333333333333
         ]
        }
       ],
       "layout": {
        "barmode": "group",
        "height": 500,
        "legend": {
         "title": {
          "text": "Classifiers"
         }
        },
        "template": {
         "data": {
          "bar": [
           {
            "error_x": {
             "color": "#2a3f5f"
            },
            "error_y": {
             "color": "#2a3f5f"
            },
            "marker": {
             "line": {
              "color": "#E5ECF6",
              "width": 0.5
             },
             "pattern": {
              "fillmode": "overlay",
              "size": 10,
              "solidity": 0.2
             }
            },
            "type": "bar"
           }
          ],
          "barpolar": [
           {
            "marker": {
             "line": {
              "color": "#E5ECF6",
              "width": 0.5
             },
             "pattern": {
              "fillmode": "overlay",
              "size": 10,
              "solidity": 0.2
             }
            },
            "type": "barpolar"
           }
          ],
          "carpet": [
           {
            "aaxis": {
             "endlinecolor": "#2a3f5f",
             "gridcolor": "white",
             "linecolor": "white",
             "minorgridcolor": "white",
             "startlinecolor": "#2a3f5f"
            },
            "baxis": {
             "endlinecolor": "#2a3f5f",
             "gridcolor": "white",
             "linecolor": "white",
             "minorgridcolor": "white",
             "startlinecolor": "#2a3f5f"
            },
            "type": "carpet"
           }
          ],
          "choropleth": [
           {
            "colorbar": {
             "outlinewidth": 0,
             "ticks": ""
            },
            "type": "choropleth"
           }
          ],
          "contour": [
           {
            "colorbar": {
             "outlinewidth": 0,
             "ticks": ""
            },
            "colorscale": [
             [
              0,
              "#0d0887"
             ],
             [
              0.1111111111111111,
              "#46039f"
             ],
             [
              0.2222222222222222,
              "#7201a8"
             ],
             [
              0.3333333333333333,
              "#9c179e"
             ],
             [
              0.4444444444444444,
              "#bd3786"
             ],
             [
              0.5555555555555556,
              "#d8576b"
             ],
             [
              0.6666666666666666,
              "#ed7953"
             ],
             [
              0.7777777777777778,
              "#fb9f3a"
             ],
             [
              0.8888888888888888,
              "#fdca26"
             ],
             [
              1,
              "#f0f921"
             ]
            ],
            "type": "contour"
           }
          ],
          "contourcarpet": [
           {
            "colorbar": {
             "outlinewidth": 0,
             "ticks": ""
            },
            "type": "contourcarpet"
           }
          ],
          "heatmap": [
           {
            "colorbar": {
             "outlinewidth": 0,
             "ticks": ""
            },
            "colorscale": [
             [
              0,
              "#0d0887"
             ],
             [
              0.1111111111111111,
              "#46039f"
             ],
             [
              0.2222222222222222,
              "#7201a8"
             ],
             [
              0.3333333333333333,
              "#9c179e"
             ],
             [
              0.4444444444444444,
              "#bd3786"
             ],
             [
              0.5555555555555556,
              "#d8576b"
             ],
             [
              0.6666666666666666,
              "#ed7953"
             ],
             [
              0.7777777777777778,
              "#fb9f3a"
             ],
             [
              0.8888888888888888,
              "#fdca26"
             ],
             [
              1,
              "#f0f921"
             ]
            ],
            "type": "heatmap"
           }
          ],
          "heatmapgl": [
           {
            "colorbar": {
             "outlinewidth": 0,
             "ticks": ""
            },
            "colorscale": [
             [
              0,
              "#0d0887"
             ],
             [
              0.1111111111111111,
              "#46039f"
             ],
             [
              0.2222222222222222,
              "#7201a8"
             ],
             [
              0.3333333333333333,
              "#9c179e"
             ],
             [
              0.4444444444444444,
              "#bd3786"
             ],
             [
              0.5555555555555556,
              "#d8576b"
             ],
             [
              0.6666666666666666,
              "#ed7953"
             ],
             [
              0.7777777777777778,
              "#fb9f3a"
             ],
             [
              0.8888888888888888,
              "#fdca26"
             ],
             [
              1,
              "#f0f921"
             ]
            ],
            "type": "heatmapgl"
           }
          ],
          "histogram": [
           {
            "marker": {
             "pattern": {
              "fillmode": "overlay",
              "size": 10,
              "solidity": 0.2
             }
            },
            "type": "histogram"
           }
          ],
          "histogram2d": [
           {
            "colorbar": {
             "outlinewidth": 0,
             "ticks": ""
            },
            "colorscale": [
             [
              0,
              "#0d0887"
             ],
             [
              0.1111111111111111,
              "#46039f"
             ],
             [
              0.2222222222222222,
              "#7201a8"
             ],
             [
              0.3333333333333333,
              "#9c179e"
             ],
             [
              0.4444444444444444,
              "#bd3786"
             ],
             [
              0.5555555555555556,
              "#d8576b"
             ],
             [
              0.6666666666666666,
              "#ed7953"
             ],
             [
              0.7777777777777778,
              "#fb9f3a"
             ],
             [
              0.8888888888888888,
              "#fdca26"
             ],
             [
              1,
              "#f0f921"
             ]
            ],
            "type": "histogram2d"
           }
          ],
          "histogram2dcontour": [
           {
            "colorbar": {
             "outlinewidth": 0,
             "ticks": ""
            },
            "colorscale": [
             [
              0,
              "#0d0887"
             ],
             [
              0.1111111111111111,
              "#46039f"
             ],
             [
              0.2222222222222222,
              "#7201a8"
             ],
             [
              0.3333333333333333,
              "#9c179e"
             ],
             [
              0.4444444444444444,
              "#bd3786"
             ],
             [
              0.5555555555555556,
              "#d8576b"
             ],
             [
              0.6666666666666666,
              "#ed7953"
             ],
             [
              0.7777777777777778,
              "#fb9f3a"
             ],
             [
              0.8888888888888888,
              "#fdca26"
             ],
             [
              1,
              "#f0f921"
             ]
            ],
            "type": "histogram2dcontour"
           }
          ],
          "mesh3d": [
           {
            "colorbar": {
             "outlinewidth": 0,
             "ticks": ""
            },
            "type": "mesh3d"
           }
          ],
          "parcoords": [
           {
            "line": {
             "colorbar": {
              "outlinewidth": 0,
              "ticks": ""
             }
            },
            "type": "parcoords"
           }
          ],
          "pie": [
           {
            "automargin": true,
            "type": "pie"
           }
          ],
          "scatter": [
           {
            "fillpattern": {
             "fillmode": "overlay",
             "size": 10,
             "solidity": 0.2
            },
            "type": "scatter"
           }
          ],
          "scatter3d": [
           {
            "line": {
             "colorbar": {
              "outlinewidth": 0,
              "ticks": ""
             }
            },
            "marker": {
             "colorbar": {
              "outlinewidth": 0,
              "ticks": ""
             }
            },
            "type": "scatter3d"
           }
          ],
          "scattercarpet": [
           {
            "marker": {
             "colorbar": {
              "outlinewidth": 0,
              "ticks": ""
             }
            },
            "type": "scattercarpet"
           }
          ],
          "scattergeo": [
           {
            "marker": {
             "colorbar": {
              "outlinewidth": 0,
              "ticks": ""
             }
            },
            "type": "scattergeo"
           }
          ],
          "scattergl": [
           {
            "marker": {
             "colorbar": {
              "outlinewidth": 0,
              "ticks": ""
             }
            },
            "type": "scattergl"
           }
          ],
          "scattermapbox": [
           {
            "marker": {
             "colorbar": {
              "outlinewidth": 0,
              "ticks": ""
             }
            },
            "type": "scattermapbox"
           }
          ],
          "scatterpolar": [
           {
            "marker": {
             "colorbar": {
              "outlinewidth": 0,
              "ticks": ""
             }
            },
            "type": "scatterpolar"
           }
          ],
          "scatterpolargl": [
           {
            "marker": {
             "colorbar": {
              "outlinewidth": 0,
              "ticks": ""
             }
            },
            "type": "scatterpolargl"
           }
          ],
          "scatterternary": [
           {
            "marker": {
             "colorbar": {
              "outlinewidth": 0,
              "ticks": ""
             }
            },
            "type": "scatterternary"
           }
          ],
          "surface": [
           {
            "colorbar": {
             "outlinewidth": 0,
             "ticks": ""
            },
            "colorscale": [
             [
              0,
              "#0d0887"
             ],
             [
              0.1111111111111111,
              "#46039f"
             ],
             [
              0.2222222222222222,
              "#7201a8"
             ],
             [
              0.3333333333333333,
              "#9c179e"
             ],
             [
              0.4444444444444444,
              "#bd3786"
             ],
             [
              0.5555555555555556,
              "#d8576b"
             ],
             [
              0.6666666666666666,
              "#ed7953"
             ],
             [
              0.7777777777777778,
              "#fb9f3a"
             ],
             [
              0.8888888888888888,
              "#fdca26"
             ],
             [
              1,
              "#f0f921"
             ]
            ],
            "type": "surface"
           }
          ],
          "table": [
           {
            "cells": {
             "fill": {
              "color": "#EBF0F8"
             },
             "line": {
              "color": "white"
             }
            },
            "header": {
             "fill": {
              "color": "#C8D4E3"
             },
             "line": {
              "color": "white"
             }
            },
            "type": "table"
           }
          ]
         },
         "layout": {
          "annotationdefaults": {
           "arrowcolor": "#2a3f5f",
           "arrowhead": 0,
           "arrowwidth": 1
          },
          "autotypenumbers": "strict",
          "coloraxis": {
           "colorbar": {
            "outlinewidth": 0,
            "ticks": ""
           }
          },
          "colorscale": {
           "diverging": [
            [
             0,
             "#8e0152"
            ],
            [
             0.1,
             "#c51b7d"
            ],
            [
             0.2,
             "#de77ae"
            ],
            [
             0.3,
             "#f1b6da"
            ],
            [
             0.4,
             "#fde0ef"
            ],
            [
             0.5,
             "#f7f7f7"
            ],
            [
             0.6,
             "#e6f5d0"
            ],
            [
             0.7,
             "#b8e186"
            ],
            [
             0.8,
             "#7fbc41"
            ],
            [
             0.9,
             "#4d9221"
            ],
            [
             1,
             "#276419"
            ]
           ],
           "sequential": [
            [
             0,
             "#0d0887"
            ],
            [
             0.1111111111111111,
             "#46039f"
            ],
            [
             0.2222222222222222,
             "#7201a8"
            ],
            [
             0.3333333333333333,
             "#9c179e"
            ],
            [
             0.4444444444444444,
             "#bd3786"
            ],
            [
             0.5555555555555556,
             "#d8576b"
            ],
            [
             0.6666666666666666,
             "#ed7953"
            ],
            [
             0.7777777777777778,
             "#fb9f3a"
            ],
            [
             0.8888888888888888,
             "#fdca26"
            ],
            [
             1,
             "#f0f921"
            ]
           ],
           "sequentialminus": [
            [
             0,
             "#0d0887"
            ],
            [
             0.1111111111111111,
             "#46039f"
            ],
            [
             0.2222222222222222,
             "#7201a8"
            ],
            [
             0.3333333333333333,
             "#9c179e"
            ],
            [
             0.4444444444444444,
             "#bd3786"
            ],
            [
             0.5555555555555556,
             "#d8576b"
            ],
            [
             0.6666666666666666,
             "#ed7953"
            ],
            [
             0.7777777777777778,
             "#fb9f3a"
            ],
            [
             0.8888888888888888,
             "#fdca26"
            ],
            [
             1,
             "#f0f921"
            ]
           ]
          },
          "colorway": [
           "#636efa",
           "#EF553B",
           "#00cc96",
           "#ab63fa",
           "#FFA15A",
           "#19d3f3",
           "#FF6692",
           "#B6E880",
           "#FF97FF",
           "#FECB52"
          ],
          "font": {
           "color": "#2a3f5f"
          },
          "geo": {
           "bgcolor": "white",
           "lakecolor": "white",
           "landcolor": "#E5ECF6",
           "showlakes": true,
           "showland": true,
           "subunitcolor": "white"
          },
          "hoverlabel": {
           "align": "left"
          },
          "hovermode": "closest",
          "mapbox": {
           "style": "light"
          },
          "paper_bgcolor": "white",
          "plot_bgcolor": "#E5ECF6",
          "polar": {
           "angularaxis": {
            "gridcolor": "white",
            "linecolor": "white",
            "ticks": ""
           },
           "bgcolor": "#E5ECF6",
           "radialaxis": {
            "gridcolor": "white",
            "linecolor": "white",
            "ticks": ""
           }
          },
          "scene": {
           "xaxis": {
            "backgroundcolor": "#E5ECF6",
            "gridcolor": "white",
            "gridwidth": 2,
            "linecolor": "white",
            "showbackground": true,
            "ticks": "",
            "zerolinecolor": "white"
           },
           "yaxis": {
            "backgroundcolor": "#E5ECF6",
            "gridcolor": "white",
            "gridwidth": 2,
            "linecolor": "white",
            "showbackground": true,
            "ticks": "",
            "zerolinecolor": "white"
           },
           "zaxis": {
            "backgroundcolor": "#E5ECF6",
            "gridcolor": "white",
            "gridwidth": 2,
            "linecolor": "white",
            "showbackground": true,
            "ticks": "",
            "zerolinecolor": "white"
           }
          },
          "shapedefaults": {
           "line": {
            "color": "#2a3f5f"
           }
          },
          "ternary": {
           "aaxis": {
            "gridcolor": "white",
            "linecolor": "white",
            "ticks": ""
           },
           "baxis": {
            "gridcolor": "white",
            "linecolor": "white",
            "ticks": ""
           },
           "bgcolor": "#E5ECF6",
           "caxis": {
            "gridcolor": "white",
            "linecolor": "white",
            "ticks": ""
           }
          },
          "title": {
           "x": 0.05
          },
          "xaxis": {
           "automargin": true,
           "gridcolor": "white",
           "linecolor": "white",
           "ticks": "",
           "title": {
            "standoff": 15
           },
           "zerolinecolor": "white",
           "zerolinewidth": 2
          },
          "yaxis": {
           "automargin": true,
           "gridcolor": "white",
           "linecolor": "white",
           "ticks": "",
           "title": {
            "standoff": 15
           },
           "zerolinecolor": "white",
           "zerolinewidth": 2
          }
         }
        },
        "title": {
         "text": "Bad Samples Classification Rates for Each Classifier"
        },
        "width": 1245,
        "xaxis": {
         "title": {
          "text": "Sample Index"
         }
        },
        "yaxis": {
         "title": {
          "text": "Classification Rate"
         }
        }
       }
      }
     },
     "metadata": {},
     "output_type": "display_data"
    },
    {
     "data": {
      "application/vnd.plotly.v1+json": {
       "config": {
        "plotlyServerURL": "https://plot.ly"
       },
       "data": [
        {
         "boxpoints": "all",
         "jitter": 0.3,
         "name": "XGBClassifier (Median: 0.81)",
         "pointpos": -1.8,
         "type": "box",
         "y": [
          0.7142857142857143,
          0.8214285714285714,
          0.8148148148148148,
          0.6785714285714286,
          0.8214285714285714,
          0.8888888888888888,
          0.8214285714285714,
          0.7142857142857143,
          0.8148148148148148
         ]
        },
        {
         "line": {
          "color": "black",
          "dash": "dash"
         },
         "mode": "lines",
         "showlegend": false,
         "type": "scatter",
         "x": [
          "XGBClassifier (Median: 0.81)",
          "XGBClassifier (Median: 0.81)"
         ],
         "y": [
          0.7142857142857143,
          0.8214285714285714
         ]
        }
       ],
       "layout": {
        "template": {
         "data": {
          "bar": [
           {
            "error_x": {
             "color": "#2a3f5f"
            },
            "error_y": {
             "color": "#2a3f5f"
            },
            "marker": {
             "line": {
              "color": "white",
              "width": 0.5
             },
             "pattern": {
              "fillmode": "overlay",
              "size": 10,
              "solidity": 0.2
             }
            },
            "type": "bar"
           }
          ],
          "barpolar": [
           {
            "marker": {
             "line": {
              "color": "white",
              "width": 0.5
             },
             "pattern": {
              "fillmode": "overlay",
              "size": 10,
              "solidity": 0.2
             }
            },
            "type": "barpolar"
           }
          ],
          "carpet": [
           {
            "aaxis": {
             "endlinecolor": "#2a3f5f",
             "gridcolor": "#C8D4E3",
             "linecolor": "#C8D4E3",
             "minorgridcolor": "#C8D4E3",
             "startlinecolor": "#2a3f5f"
            },
            "baxis": {
             "endlinecolor": "#2a3f5f",
             "gridcolor": "#C8D4E3",
             "linecolor": "#C8D4E3",
             "minorgridcolor": "#C8D4E3",
             "startlinecolor": "#2a3f5f"
            },
            "type": "carpet"
           }
          ],
          "choropleth": [
           {
            "colorbar": {
             "outlinewidth": 0,
             "ticks": ""
            },
            "type": "choropleth"
           }
          ],
          "contour": [
           {
            "colorbar": {
             "outlinewidth": 0,
             "ticks": ""
            },
            "colorscale": [
             [
              0,
              "#0d0887"
             ],
             [
              0.1111111111111111,
              "#46039f"
             ],
             [
              0.2222222222222222,
              "#7201a8"
             ],
             [
              0.3333333333333333,
              "#9c179e"
             ],
             [
              0.4444444444444444,
              "#bd3786"
             ],
             [
              0.5555555555555556,
              "#d8576b"
             ],
             [
              0.6666666666666666,
              "#ed7953"
             ],
             [
              0.7777777777777778,
              "#fb9f3a"
             ],
             [
              0.8888888888888888,
              "#fdca26"
             ],
             [
              1,
              "#f0f921"
             ]
            ],
            "type": "contour"
           }
          ],
          "contourcarpet": [
           {
            "colorbar": {
             "outlinewidth": 0,
             "ticks": ""
            },
            "type": "contourcarpet"
           }
          ],
          "heatmap": [
           {
            "colorbar": {
             "outlinewidth": 0,
             "ticks": ""
            },
            "colorscale": [
             [
              0,
              "#0d0887"
             ],
             [
              0.1111111111111111,
              "#46039f"
             ],
             [
              0.2222222222222222,
              "#7201a8"
             ],
             [
              0.3333333333333333,
              "#9c179e"
             ],
             [
              0.4444444444444444,
              "#bd3786"
             ],
             [
              0.5555555555555556,
              "#d8576b"
             ],
             [
              0.6666666666666666,
              "#ed7953"
             ],
             [
              0.7777777777777778,
              "#fb9f3a"
             ],
             [
              0.8888888888888888,
              "#fdca26"
             ],
             [
              1,
              "#f0f921"
             ]
            ],
            "type": "heatmap"
           }
          ],
          "heatmapgl": [
           {
            "colorbar": {
             "outlinewidth": 0,
             "ticks": ""
            },
            "colorscale": [
             [
              0,
              "#0d0887"
             ],
             [
              0.1111111111111111,
              "#46039f"
             ],
             [
              0.2222222222222222,
              "#7201a8"
             ],
             [
              0.3333333333333333,
              "#9c179e"
             ],
             [
              0.4444444444444444,
              "#bd3786"
             ],
             [
              0.5555555555555556,
              "#d8576b"
             ],
             [
              0.6666666666666666,
              "#ed7953"
             ],
             [
              0.7777777777777778,
              "#fb9f3a"
             ],
             [
              0.8888888888888888,
              "#fdca26"
             ],
             [
              1,
              "#f0f921"
             ]
            ],
            "type": "heatmapgl"
           }
          ],
          "histogram": [
           {
            "marker": {
             "pattern": {
              "fillmode": "overlay",
              "size": 10,
              "solidity": 0.2
             }
            },
            "type": "histogram"
           }
          ],
          "histogram2d": [
           {
            "colorbar": {
             "outlinewidth": 0,
             "ticks": ""
            },
            "colorscale": [
             [
              0,
              "#0d0887"
             ],
             [
              0.1111111111111111,
              "#46039f"
             ],
             [
              0.2222222222222222,
              "#7201a8"
             ],
             [
              0.3333333333333333,
              "#9c179e"
             ],
             [
              0.4444444444444444,
              "#bd3786"
             ],
             [
              0.5555555555555556,
              "#d8576b"
             ],
             [
              0.6666666666666666,
              "#ed7953"
             ],
             [
              0.7777777777777778,
              "#fb9f3a"
             ],
             [
              0.8888888888888888,
              "#fdca26"
             ],
             [
              1,
              "#f0f921"
             ]
            ],
            "type": "histogram2d"
           }
          ],
          "histogram2dcontour": [
           {
            "colorbar": {
             "outlinewidth": 0,
             "ticks": ""
            },
            "colorscale": [
             [
              0,
              "#0d0887"
             ],
             [
              0.1111111111111111,
              "#46039f"
             ],
             [
              0.2222222222222222,
              "#7201a8"
             ],
             [
              0.3333333333333333,
              "#9c179e"
             ],
             [
              0.4444444444444444,
              "#bd3786"
             ],
             [
              0.5555555555555556,
              "#d8576b"
             ],
             [
              0.6666666666666666,
              "#ed7953"
             ],
             [
              0.7777777777777778,
              "#fb9f3a"
             ],
             [
              0.8888888888888888,
              "#fdca26"
             ],
             [
              1,
              "#f0f921"
             ]
            ],
            "type": "histogram2dcontour"
           }
          ],
          "mesh3d": [
           {
            "colorbar": {
             "outlinewidth": 0,
             "ticks": ""
            },
            "type": "mesh3d"
           }
          ],
          "parcoords": [
           {
            "line": {
             "colorbar": {
              "outlinewidth": 0,
              "ticks": ""
             }
            },
            "type": "parcoords"
           }
          ],
          "pie": [
           {
            "automargin": true,
            "type": "pie"
           }
          ],
          "scatter": [
           {
            "fillpattern": {
             "fillmode": "overlay",
             "size": 10,
             "solidity": 0.2
            },
            "type": "scatter"
           }
          ],
          "scatter3d": [
           {
            "line": {
             "colorbar": {
              "outlinewidth": 0,
              "ticks": ""
             }
            },
            "marker": {
             "colorbar": {
              "outlinewidth": 0,
              "ticks": ""
             }
            },
            "type": "scatter3d"
           }
          ],
          "scattercarpet": [
           {
            "marker": {
             "colorbar": {
              "outlinewidth": 0,
              "ticks": ""
             }
            },
            "type": "scattercarpet"
           }
          ],
          "scattergeo": [
           {
            "marker": {
             "colorbar": {
              "outlinewidth": 0,
              "ticks": ""
             }
            },
            "type": "scattergeo"
           }
          ],
          "scattergl": [
           {
            "marker": {
             "colorbar": {
              "outlinewidth": 0,
              "ticks": ""
             }
            },
            "type": "scattergl"
           }
          ],
          "scattermapbox": [
           {
            "marker": {
             "colorbar": {
              "outlinewidth": 0,
              "ticks": ""
             }
            },
            "type": "scattermapbox"
           }
          ],
          "scatterpolar": [
           {
            "marker": {
             "colorbar": {
              "outlinewidth": 0,
              "ticks": ""
             }
            },
            "type": "scatterpolar"
           }
          ],
          "scatterpolargl": [
           {
            "marker": {
             "colorbar": {
              "outlinewidth": 0,
              "ticks": ""
             }
            },
            "type": "scatterpolargl"
           }
          ],
          "scatterternary": [
           {
            "marker": {
             "colorbar": {
              "outlinewidth": 0,
              "ticks": ""
             }
            },
            "type": "scatterternary"
           }
          ],
          "surface": [
           {
            "colorbar": {
             "outlinewidth": 0,
             "ticks": ""
            },
            "colorscale": [
             [
              0,
              "#0d0887"
             ],
             [
              0.1111111111111111,
              "#46039f"
             ],
             [
              0.2222222222222222,
              "#7201a8"
             ],
             [
              0.3333333333333333,
              "#9c179e"
             ],
             [
              0.4444444444444444,
              "#bd3786"
             ],
             [
              0.5555555555555556,
              "#d8576b"
             ],
             [
              0.6666666666666666,
              "#ed7953"
             ],
             [
              0.7777777777777778,
              "#fb9f3a"
             ],
             [
              0.8888888888888888,
              "#fdca26"
             ],
             [
              1,
              "#f0f921"
             ]
            ],
            "type": "surface"
           }
          ],
          "table": [
           {
            "cells": {
             "fill": {
              "color": "#EBF0F8"
             },
             "line": {
              "color": "white"
             }
            },
            "header": {
             "fill": {
              "color": "#C8D4E3"
             },
             "line": {
              "color": "white"
             }
            },
            "type": "table"
           }
          ]
         },
         "layout": {
          "annotationdefaults": {
           "arrowcolor": "#2a3f5f",
           "arrowhead": 0,
           "arrowwidth": 1
          },
          "autotypenumbers": "strict",
          "coloraxis": {
           "colorbar": {
            "outlinewidth": 0,
            "ticks": ""
           }
          },
          "colorscale": {
           "diverging": [
            [
             0,
             "#8e0152"
            ],
            [
             0.1,
             "#c51b7d"
            ],
            [
             0.2,
             "#de77ae"
            ],
            [
             0.3,
             "#f1b6da"
            ],
            [
             0.4,
             "#fde0ef"
            ],
            [
             0.5,
             "#f7f7f7"
            ],
            [
             0.6,
             "#e6f5d0"
            ],
            [
             0.7,
             "#b8e186"
            ],
            [
             0.8,
             "#7fbc41"
            ],
            [
             0.9,
             "#4d9221"
            ],
            [
             1,
             "#276419"
            ]
           ],
           "sequential": [
            [
             0,
             "#0d0887"
            ],
            [
             0.1111111111111111,
             "#46039f"
            ],
            [
             0.2222222222222222,
             "#7201a8"
            ],
            [
             0.3333333333333333,
             "#9c179e"
            ],
            [
             0.4444444444444444,
             "#bd3786"
            ],
            [
             0.5555555555555556,
             "#d8576b"
            ],
            [
             0.6666666666666666,
             "#ed7953"
            ],
            [
             0.7777777777777778,
             "#fb9f3a"
            ],
            [
             0.8888888888888888,
             "#fdca26"
            ],
            [
             1,
             "#f0f921"
            ]
           ],
           "sequentialminus": [
            [
             0,
             "#0d0887"
            ],
            [
             0.1111111111111111,
             "#46039f"
            ],
            [
             0.2222222222222222,
             "#7201a8"
            ],
            [
             0.3333333333333333,
             "#9c179e"
            ],
            [
             0.4444444444444444,
             "#bd3786"
            ],
            [
             0.5555555555555556,
             "#d8576b"
            ],
            [
             0.6666666666666666,
             "#ed7953"
            ],
            [
             0.7777777777777778,
             "#fb9f3a"
            ],
            [
             0.8888888888888888,
             "#fdca26"
            ],
            [
             1,
             "#f0f921"
            ]
           ]
          },
          "colorway": [
           "#636efa",
           "#EF553B",
           "#00cc96",
           "#ab63fa",
           "#FFA15A",
           "#19d3f3",
           "#FF6692",
           "#B6E880",
           "#FF97FF",
           "#FECB52"
          ],
          "font": {
           "color": "#2a3f5f"
          },
          "geo": {
           "bgcolor": "white",
           "lakecolor": "white",
           "landcolor": "white",
           "showlakes": true,
           "showland": true,
           "subunitcolor": "#C8D4E3"
          },
          "hoverlabel": {
           "align": "left"
          },
          "hovermode": "closest",
          "mapbox": {
           "style": "light"
          },
          "paper_bgcolor": "white",
          "plot_bgcolor": "white",
          "polar": {
           "angularaxis": {
            "gridcolor": "#EBF0F8",
            "linecolor": "#EBF0F8",
            "ticks": ""
           },
           "bgcolor": "white",
           "radialaxis": {
            "gridcolor": "#EBF0F8",
            "linecolor": "#EBF0F8",
            "ticks": ""
           }
          },
          "scene": {
           "xaxis": {
            "backgroundcolor": "white",
            "gridcolor": "#DFE8F3",
            "gridwidth": 2,
            "linecolor": "#EBF0F8",
            "showbackground": true,
            "ticks": "",
            "zerolinecolor": "#EBF0F8"
           },
           "yaxis": {
            "backgroundcolor": "white",
            "gridcolor": "#DFE8F3",
            "gridwidth": 2,
            "linecolor": "#EBF0F8",
            "showbackground": true,
            "ticks": "",
            "zerolinecolor": "#EBF0F8"
           },
           "zaxis": {
            "backgroundcolor": "white",
            "gridcolor": "#DFE8F3",
            "gridwidth": 2,
            "linecolor": "#EBF0F8",
            "showbackground": true,
            "ticks": "",
            "zerolinecolor": "#EBF0F8"
           }
          },
          "shapedefaults": {
           "line": {
            "color": "#2a3f5f"
           }
          },
          "ternary": {
           "aaxis": {
            "gridcolor": "#DFE8F3",
            "linecolor": "#A2B1C6",
            "ticks": ""
           },
           "baxis": {
            "gridcolor": "#DFE8F3",
            "linecolor": "#A2B1C6",
            "ticks": ""
           },
           "bgcolor": "white",
           "caxis": {
            "gridcolor": "#DFE8F3",
            "linecolor": "#A2B1C6",
            "ticks": ""
           }
          },
          "title": {
           "x": 0.05
          },
          "xaxis": {
           "automargin": true,
           "gridcolor": "#EBF0F8",
           "linecolor": "#EBF0F8",
           "ticks": "",
           "title": {
            "standoff": 15
           },
           "zerolinecolor": "#EBF0F8",
           "zerolinewidth": 2
          },
          "yaxis": {
           "automargin": true,
           "gridcolor": "#EBF0F8",
           "linecolor": "#EBF0F8",
           "ticks": "",
           "title": {
            "standoff": 15
           },
           "zerolinecolor": "#EBF0F8",
           "zerolinewidth": 2
          }
         }
        },
        "title": {
         "text": "Model Selection Results"
        },
        "xaxis": {
         "tickangle": -45,
         "title": {
          "text": "Classifier"
         }
        },
        "yaxis": {
         "title": {
          "text": "Scores matthews_corrcoef"
         }
        }
       }
      }
     },
     "metadata": {},
     "output_type": "display_data"
    },
    {
     "name": "stdout",
     "output_type": "stream",
     "text": [
      "Results saved to Results/gastric_cancer_gso_1_all_features_outerloops_results.csv\n"
     ]
    }
   ],
   "source": [
    "df = mlpipe.nested_cv(plot='box',n_trials_ncv=100,rounds=3,outer_splits=3,inner_splits=3,inner_selection='gso_1',search_on=['XGBClassifier'],parallel='freely_parallel',return_csv=True,show_bad_samples=True)\n"
   ]
  },
  {
   "cell_type": "code",
   "execution_count": 8,
   "metadata": {},
   "outputs": [
    {
     "name": "stdout",
     "output_type": "stream",
     "text": [
      "Your Dataset contains NaN values. Some estimators does not work with NaN values.\n",
      "The median method will be used for the missing values manipulation.\n",
      "\n",
      "All the extra metrics are valid.\n"
     ]
    },
    {
     "name": "stderr",
     "output_type": "stream",
     "text": [
      "Outer fold of 3 round:  0% |             | Elapsed Time: 0:00:00 ETA:  --:--:--\n",
      "Outer fold of 1 round:  0% |             | Elapsed Time: 0:00:00 ETA:  --:--:--\n",
      "Outer fold of 2 round:  0% |             | Elapsed Time: 0:00:00 ETA:  --:--:--\n",
      "Outer fold of 3 round: 33% |████▎        | Elapsed Time: 0:01:01 ETA:   0:02:03\n",
      "Outer fold of 2 round: 33% |████▎        | Elapsed Time: 0:01:15 ETA:   0:02:30\n",
      "Outer fold of 1 round: 33% |████▎        | Elapsed Time: 0:01:43 ETA:   0:03:26\n",
      "Outer fold of 3 round: 66% |████████▋    | Elapsed Time: 0:02:43 ETA:   0:01:21\n",
      "Outer fold of 3 round:100% |█████████████| Elapsed Time: 0:02:44 Time:  0:02:44\n"
     ]
    },
    {
     "name": "stdout",
     "output_type": "stream",
     "text": [
      "Finished with 3 round after 0.06 hours.\n"
     ]
    },
    {
     "name": "stderr",
     "output_type": "stream",
     "text": [
      "Outer fold of 2 round: 66% |████████▋    | Elapsed Time: 0:03:27 ETA:   0:01:43\n",
      "Outer fold of 2 round:100% |█████████████| Elapsed Time: 0:03:28 Time:  0:03:28\n"
     ]
    },
    {
     "name": "stdout",
     "output_type": "stream",
     "text": [
      "Finished with 2 round after 0.09 hours.\n"
     ]
    },
    {
     "name": "stderr",
     "output_type": "stream",
     "text": [
      "Outer fold of 1 round: 66% |████████▋    | Elapsed Time: 0:03:40 ETA:   0:01:50\n"
     ]
    },
    {
     "name": "stdout",
     "output_type": "stream",
     "text": [
      "Finished with 1 round after 0.09 hours.\n",
      "Finished with 1 estimators\n"
     ]
    },
    {
     "name": "stderr",
     "output_type": "stream",
     "text": [
      "Outer fold of 1 round:100% |█████████████| Elapsed Time: 0:03:41 Time:  0:03:41\n"
     ]
    },
    {
     "data": {
      "application/vnd.plotly.v1+json": {
       "config": {
        "plotlyServerURL": "https://plot.ly"
       },
       "data": [
        {
         "name": "Bad Samples for XGBClassifier",
         "text": [
          "0.00",
          "0.00",
          "0.00",
          "0.33",
          "0.00",
          "0.33",
          "0.33",
          "0.00",
          "0.00",
          "0.00",
          "0.00",
          "0.33",
          "0.00",
          "0.33"
         ],
         "textposition": "auto",
         "type": "bar",
         "x": [
          12,
          36,
          38,
          41,
          45,
          51,
          52,
          58,
          65,
          66,
          68,
          69,
          76,
          79
         ],
         "y": [
          0,
          0,
          0,
          0.3333333333333333,
          0,
          0.3333333333333333,
          0.3333333333333333,
          0,
          0,
          0,
          0,
          0.3333333333333333,
          0,
          0.3333333333333333
         ]
        }
       ],
       "layout": {
        "barmode": "group",
        "height": 500,
        "legend": {
         "title": {
          "text": "Classifiers"
         }
        },
        "template": {
         "data": {
          "bar": [
           {
            "error_x": {
             "color": "#2a3f5f"
            },
            "error_y": {
             "color": "#2a3f5f"
            },
            "marker": {
             "line": {
              "color": "#E5ECF6",
              "width": 0.5
             },
             "pattern": {
              "fillmode": "overlay",
              "size": 10,
              "solidity": 0.2
             }
            },
            "type": "bar"
           }
          ],
          "barpolar": [
           {
            "marker": {
             "line": {
              "color": "#E5ECF6",
              "width": 0.5
             },
             "pattern": {
              "fillmode": "overlay",
              "size": 10,
              "solidity": 0.2
             }
            },
            "type": "barpolar"
           }
          ],
          "carpet": [
           {
            "aaxis": {
             "endlinecolor": "#2a3f5f",
             "gridcolor": "white",
             "linecolor": "white",
             "minorgridcolor": "white",
             "startlinecolor": "#2a3f5f"
            },
            "baxis": {
             "endlinecolor": "#2a3f5f",
             "gridcolor": "white",
             "linecolor": "white",
             "minorgridcolor": "white",
             "startlinecolor": "#2a3f5f"
            },
            "type": "carpet"
           }
          ],
          "choropleth": [
           {
            "colorbar": {
             "outlinewidth": 0,
             "ticks": ""
            },
            "type": "choropleth"
           }
          ],
          "contour": [
           {
            "colorbar": {
             "outlinewidth": 0,
             "ticks": ""
            },
            "colorscale": [
             [
              0,
              "#0d0887"
             ],
             [
              0.1111111111111111,
              "#46039f"
             ],
             [
              0.2222222222222222,
              "#7201a8"
             ],
             [
              0.3333333333333333,
              "#9c179e"
             ],
             [
              0.4444444444444444,
              "#bd3786"
             ],
             [
              0.5555555555555556,
              "#d8576b"
             ],
             [
              0.6666666666666666,
              "#ed7953"
             ],
             [
              0.7777777777777778,
              "#fb9f3a"
             ],
             [
              0.8888888888888888,
              "#fdca26"
             ],
             [
              1,
              "#f0f921"
             ]
            ],
            "type": "contour"
           }
          ],
          "contourcarpet": [
           {
            "colorbar": {
             "outlinewidth": 0,
             "ticks": ""
            },
            "type": "contourcarpet"
           }
          ],
          "heatmap": [
           {
            "colorbar": {
             "outlinewidth": 0,
             "ticks": ""
            },
            "colorscale": [
             [
              0,
              "#0d0887"
             ],
             [
              0.1111111111111111,
              "#46039f"
             ],
             [
              0.2222222222222222,
              "#7201a8"
             ],
             [
              0.3333333333333333,
              "#9c179e"
             ],
             [
              0.4444444444444444,
              "#bd3786"
             ],
             [
              0.5555555555555556,
              "#d8576b"
             ],
             [
              0.6666666666666666,
              "#ed7953"
             ],
             [
              0.7777777777777778,
              "#fb9f3a"
             ],
             [
              0.8888888888888888,
              "#fdca26"
             ],
             [
              1,
              "#f0f921"
             ]
            ],
            "type": "heatmap"
           }
          ],
          "heatmapgl": [
           {
            "colorbar": {
             "outlinewidth": 0,
             "ticks": ""
            },
            "colorscale": [
             [
              0,
              "#0d0887"
             ],
             [
              0.1111111111111111,
              "#46039f"
             ],
             [
              0.2222222222222222,
              "#7201a8"
             ],
             [
              0.3333333333333333,
              "#9c179e"
             ],
             [
              0.4444444444444444,
              "#bd3786"
             ],
             [
              0.5555555555555556,
              "#d8576b"
             ],
             [
              0.6666666666666666,
              "#ed7953"
             ],
             [
              0.7777777777777778,
              "#fb9f3a"
             ],
             [
              0.8888888888888888,
              "#fdca26"
             ],
             [
              1,
              "#f0f921"
             ]
            ],
            "type": "heatmapgl"
           }
          ],
          "histogram": [
           {
            "marker": {
             "pattern": {
              "fillmode": "overlay",
              "size": 10,
              "solidity": 0.2
             }
            },
            "type": "histogram"
           }
          ],
          "histogram2d": [
           {
            "colorbar": {
             "outlinewidth": 0,
             "ticks": ""
            },
            "colorscale": [
             [
              0,
              "#0d0887"
             ],
             [
              0.1111111111111111,
              "#46039f"
             ],
             [
              0.2222222222222222,
              "#7201a8"
             ],
             [
              0.3333333333333333,
              "#9c179e"
             ],
             [
              0.4444444444444444,
              "#bd3786"
             ],
             [
              0.5555555555555556,
              "#d8576b"
             ],
             [
              0.6666666666666666,
              "#ed7953"
             ],
             [
              0.7777777777777778,
              "#fb9f3a"
             ],
             [
              0.8888888888888888,
              "#fdca26"
             ],
             [
              1,
              "#f0f921"
             ]
            ],
            "type": "histogram2d"
           }
          ],
          "histogram2dcontour": [
           {
            "colorbar": {
             "outlinewidth": 0,
             "ticks": ""
            },
            "colorscale": [
             [
              0,
              "#0d0887"
             ],
             [
              0.1111111111111111,
              "#46039f"
             ],
             [
              0.2222222222222222,
              "#7201a8"
             ],
             [
              0.3333333333333333,
              "#9c179e"
             ],
             [
              0.4444444444444444,
              "#bd3786"
             ],
             [
              0.5555555555555556,
              "#d8576b"
             ],
             [
              0.6666666666666666,
              "#ed7953"
             ],
             [
              0.7777777777777778,
              "#fb9f3a"
             ],
             [
              0.8888888888888888,
              "#fdca26"
             ],
             [
              1,
              "#f0f921"
             ]
            ],
            "type": "histogram2dcontour"
           }
          ],
          "mesh3d": [
           {
            "colorbar": {
             "outlinewidth": 0,
             "ticks": ""
            },
            "type": "mesh3d"
           }
          ],
          "parcoords": [
           {
            "line": {
             "colorbar": {
              "outlinewidth": 0,
              "ticks": ""
             }
            },
            "type": "parcoords"
           }
          ],
          "pie": [
           {
            "automargin": true,
            "type": "pie"
           }
          ],
          "scatter": [
           {
            "fillpattern": {
             "fillmode": "overlay",
             "size": 10,
             "solidity": 0.2
            },
            "type": "scatter"
           }
          ],
          "scatter3d": [
           {
            "line": {
             "colorbar": {
              "outlinewidth": 0,
              "ticks": ""
             }
            },
            "marker": {
             "colorbar": {
              "outlinewidth": 0,
              "ticks": ""
             }
            },
            "type": "scatter3d"
           }
          ],
          "scattercarpet": [
           {
            "marker": {
             "colorbar": {
              "outlinewidth": 0,
              "ticks": ""
             }
            },
            "type": "scattercarpet"
           }
          ],
          "scattergeo": [
           {
            "marker": {
             "colorbar": {
              "outlinewidth": 0,
              "ticks": ""
             }
            },
            "type": "scattergeo"
           }
          ],
          "scattergl": [
           {
            "marker": {
             "colorbar": {
              "outlinewidth": 0,
              "ticks": ""
             }
            },
            "type": "scattergl"
           }
          ],
          "scattermapbox": [
           {
            "marker": {
             "colorbar": {
              "outlinewidth": 0,
              "ticks": ""
             }
            },
            "type": "scattermapbox"
           }
          ],
          "scatterpolar": [
           {
            "marker": {
             "colorbar": {
              "outlinewidth": 0,
              "ticks": ""
             }
            },
            "type": "scatterpolar"
           }
          ],
          "scatterpolargl": [
           {
            "marker": {
             "colorbar": {
              "outlinewidth": 0,
              "ticks": ""
             }
            },
            "type": "scatterpolargl"
           }
          ],
          "scatterternary": [
           {
            "marker": {
             "colorbar": {
              "outlinewidth": 0,
              "ticks": ""
             }
            },
            "type": "scatterternary"
           }
          ],
          "surface": [
           {
            "colorbar": {
             "outlinewidth": 0,
             "ticks": ""
            },
            "colorscale": [
             [
              0,
              "#0d0887"
             ],
             [
              0.1111111111111111,
              "#46039f"
             ],
             [
              0.2222222222222222,
              "#7201a8"
             ],
             [
              0.3333333333333333,
              "#9c179e"
             ],
             [
              0.4444444444444444,
              "#bd3786"
             ],
             [
              0.5555555555555556,
              "#d8576b"
             ],
             [
              0.6666666666666666,
              "#ed7953"
             ],
             [
              0.7777777777777778,
              "#fb9f3a"
             ],
             [
              0.8888888888888888,
              "#fdca26"
             ],
             [
              1,
              "#f0f921"
             ]
            ],
            "type": "surface"
           }
          ],
          "table": [
           {
            "cells": {
             "fill": {
              "color": "#EBF0F8"
             },
             "line": {
              "color": "white"
             }
            },
            "header": {
             "fill": {
              "color": "#C8D4E3"
             },
             "line": {
              "color": "white"
             }
            },
            "type": "table"
           }
          ]
         },
         "layout": {
          "annotationdefaults": {
           "arrowcolor": "#2a3f5f",
           "arrowhead": 0,
           "arrowwidth": 1
          },
          "autotypenumbers": "strict",
          "coloraxis": {
           "colorbar": {
            "outlinewidth": 0,
            "ticks": ""
           }
          },
          "colorscale": {
           "diverging": [
            [
             0,
             "#8e0152"
            ],
            [
             0.1,
             "#c51b7d"
            ],
            [
             0.2,
             "#de77ae"
            ],
            [
             0.3,
             "#f1b6da"
            ],
            [
             0.4,
             "#fde0ef"
            ],
            [
             0.5,
             "#f7f7f7"
            ],
            [
             0.6,
             "#e6f5d0"
            ],
            [
             0.7,
             "#b8e186"
            ],
            [
             0.8,
             "#7fbc41"
            ],
            [
             0.9,
             "#4d9221"
            ],
            [
             1,
             "#276419"
            ]
           ],
           "sequential": [
            [
             0,
             "#0d0887"
            ],
            [
             0.1111111111111111,
             "#46039f"
            ],
            [
             0.2222222222222222,
             "#7201a8"
            ],
            [
             0.3333333333333333,
             "#9c179e"
            ],
            [
             0.4444444444444444,
             "#bd3786"
            ],
            [
             0.5555555555555556,
             "#d8576b"
            ],
            [
             0.6666666666666666,
             "#ed7953"
            ],
            [
             0.7777777777777778,
             "#fb9f3a"
            ],
            [
             0.8888888888888888,
             "#fdca26"
            ],
            [
             1,
             "#f0f921"
            ]
           ],
           "sequentialminus": [
            [
             0,
             "#0d0887"
            ],
            [
             0.1111111111111111,
             "#46039f"
            ],
            [
             0.2222222222222222,
             "#7201a8"
            ],
            [
             0.3333333333333333,
             "#9c179e"
            ],
            [
             0.4444444444444444,
             "#bd3786"
            ],
            [
             0.5555555555555556,
             "#d8576b"
            ],
            [
             0.6666666666666666,
             "#ed7953"
            ],
            [
             0.7777777777777778,
             "#fb9f3a"
            ],
            [
             0.8888888888888888,
             "#fdca26"
            ],
            [
             1,
             "#f0f921"
            ]
           ]
          },
          "colorway": [
           "#636efa",
           "#EF553B",
           "#00cc96",
           "#ab63fa",
           "#FFA15A",
           "#19d3f3",
           "#FF6692",
           "#B6E880",
           "#FF97FF",
           "#FECB52"
          ],
          "font": {
           "color": "#2a3f5f"
          },
          "geo": {
           "bgcolor": "white",
           "lakecolor": "white",
           "landcolor": "#E5ECF6",
           "showlakes": true,
           "showland": true,
           "subunitcolor": "white"
          },
          "hoverlabel": {
           "align": "left"
          },
          "hovermode": "closest",
          "mapbox": {
           "style": "light"
          },
          "paper_bgcolor": "white",
          "plot_bgcolor": "#E5ECF6",
          "polar": {
           "angularaxis": {
            "gridcolor": "white",
            "linecolor": "white",
            "ticks": ""
           },
           "bgcolor": "#E5ECF6",
           "radialaxis": {
            "gridcolor": "white",
            "linecolor": "white",
            "ticks": ""
           }
          },
          "scene": {
           "xaxis": {
            "backgroundcolor": "#E5ECF6",
            "gridcolor": "white",
            "gridwidth": 2,
            "linecolor": "white",
            "showbackground": true,
            "ticks": "",
            "zerolinecolor": "white"
           },
           "yaxis": {
            "backgroundcolor": "#E5ECF6",
            "gridcolor": "white",
            "gridwidth": 2,
            "linecolor": "white",
            "showbackground": true,
            "ticks": "",
            "zerolinecolor": "white"
           },
           "zaxis": {
            "backgroundcolor": "#E5ECF6",
            "gridcolor": "white",
            "gridwidth": 2,
            "linecolor": "white",
            "showbackground": true,
            "ticks": "",
            "zerolinecolor": "white"
           }
          },
          "shapedefaults": {
           "line": {
            "color": "#2a3f5f"
           }
          },
          "ternary": {
           "aaxis": {
            "gridcolor": "white",
            "linecolor": "white",
            "ticks": ""
           },
           "baxis": {
            "gridcolor": "white",
            "linecolor": "white",
            "ticks": ""
           },
           "bgcolor": "#E5ECF6",
           "caxis": {
            "gridcolor": "white",
            "linecolor": "white",
            "ticks": ""
           }
          },
          "title": {
           "x": 0.05
          },
          "xaxis": {
           "automargin": true,
           "gridcolor": "white",
           "linecolor": "white",
           "ticks": "",
           "title": {
            "standoff": 15
           },
           "zerolinecolor": "white",
           "zerolinewidth": 2
          },
          "yaxis": {
           "automargin": true,
           "gridcolor": "white",
           "linecolor": "white",
           "ticks": "",
           "title": {
            "standoff": 15
           },
           "zerolinecolor": "white",
           "zerolinewidth": 2
          }
         }
        },
        "title": {
         "text": "Bad Samples Classification Rates for Each Classifier"
        },
        "width": 1245,
        "xaxis": {
         "title": {
          "text": "Sample Index"
         }
        },
        "yaxis": {
         "title": {
          "text": "Classification Rate"
         }
        }
       }
      }
     },
     "metadata": {},
     "output_type": "display_data"
    },
    {
     "data": {
      "application/vnd.plotly.v1+json": {
       "config": {
        "plotlyServerURL": "https://plot.ly"
       },
       "data": [
        {
         "boxpoints": "all",
         "jitter": 0.3,
         "name": "XGBClassifier (Median: 0.78)",
         "pointpos": -1.8,
         "type": "box",
         "y": [
          0.7142857142857143,
          0.8214285714285714,
          0.9259259259259259,
          0.7142857142857143,
          0.7857142857142857,
          0.7777777777777778,
          0.8928571428571429,
          0.6785714285714286,
          0.7037037037037037
         ]
        },
        {
         "line": {
          "color": "black",
          "dash": "dash"
         },
         "mode": "lines",
         "showlegend": false,
         "type": "scatter",
         "x": [
          "XGBClassifier (Median: 0.78)",
          "XGBClassifier (Median: 0.78)"
         ],
         "y": [
          0.7037037037037037,
          0.8928571428571429
         ]
        }
       ],
       "layout": {
        "template": {
         "data": {
          "bar": [
           {
            "error_x": {
             "color": "#2a3f5f"
            },
            "error_y": {
             "color": "#2a3f5f"
            },
            "marker": {
             "line": {
              "color": "white",
              "width": 0.5
             },
             "pattern": {
              "fillmode": "overlay",
              "size": 10,
              "solidity": 0.2
             }
            },
            "type": "bar"
           }
          ],
          "barpolar": [
           {
            "marker": {
             "line": {
              "color": "white",
              "width": 0.5
             },
             "pattern": {
              "fillmode": "overlay",
              "size": 10,
              "solidity": 0.2
             }
            },
            "type": "barpolar"
           }
          ],
          "carpet": [
           {
            "aaxis": {
             "endlinecolor": "#2a3f5f",
             "gridcolor": "#C8D4E3",
             "linecolor": "#C8D4E3",
             "minorgridcolor": "#C8D4E3",
             "startlinecolor": "#2a3f5f"
            },
            "baxis": {
             "endlinecolor": "#2a3f5f",
             "gridcolor": "#C8D4E3",
             "linecolor": "#C8D4E3",
             "minorgridcolor": "#C8D4E3",
             "startlinecolor": "#2a3f5f"
            },
            "type": "carpet"
           }
          ],
          "choropleth": [
           {
            "colorbar": {
             "outlinewidth": 0,
             "ticks": ""
            },
            "type": "choropleth"
           }
          ],
          "contour": [
           {
            "colorbar": {
             "outlinewidth": 0,
             "ticks": ""
            },
            "colorscale": [
             [
              0,
              "#0d0887"
             ],
             [
              0.1111111111111111,
              "#46039f"
             ],
             [
              0.2222222222222222,
              "#7201a8"
             ],
             [
              0.3333333333333333,
              "#9c179e"
             ],
             [
              0.4444444444444444,
              "#bd3786"
             ],
             [
              0.5555555555555556,
              "#d8576b"
             ],
             [
              0.6666666666666666,
              "#ed7953"
             ],
             [
              0.7777777777777778,
              "#fb9f3a"
             ],
             [
              0.8888888888888888,
              "#fdca26"
             ],
             [
              1,
              "#f0f921"
             ]
            ],
            "type": "contour"
           }
          ],
          "contourcarpet": [
           {
            "colorbar": {
             "outlinewidth": 0,
             "ticks": ""
            },
            "type": "contourcarpet"
           }
          ],
          "heatmap": [
           {
            "colorbar": {
             "outlinewidth": 0,
             "ticks": ""
            },
            "colorscale": [
             [
              0,
              "#0d0887"
             ],
             [
              0.1111111111111111,
              "#46039f"
             ],
             [
              0.2222222222222222,
              "#7201a8"
             ],
             [
              0.3333333333333333,
              "#9c179e"
             ],
             [
              0.4444444444444444,
              "#bd3786"
             ],
             [
              0.5555555555555556,
              "#d8576b"
             ],
             [
              0.6666666666666666,
              "#ed7953"
             ],
             [
              0.7777777777777778,
              "#fb9f3a"
             ],
             [
              0.8888888888888888,
              "#fdca26"
             ],
             [
              1,
              "#f0f921"
             ]
            ],
            "type": "heatmap"
           }
          ],
          "heatmapgl": [
           {
            "colorbar": {
             "outlinewidth": 0,
             "ticks": ""
            },
            "colorscale": [
             [
              0,
              "#0d0887"
             ],
             [
              0.1111111111111111,
              "#46039f"
             ],
             [
              0.2222222222222222,
              "#7201a8"
             ],
             [
              0.3333333333333333,
              "#9c179e"
             ],
             [
              0.4444444444444444,
              "#bd3786"
             ],
             [
              0.5555555555555556,
              "#d8576b"
             ],
             [
              0.6666666666666666,
              "#ed7953"
             ],
             [
              0.7777777777777778,
              "#fb9f3a"
             ],
             [
              0.8888888888888888,
              "#fdca26"
             ],
             [
              1,
              "#f0f921"
             ]
            ],
            "type": "heatmapgl"
           }
          ],
          "histogram": [
           {
            "marker": {
             "pattern": {
              "fillmode": "overlay",
              "size": 10,
              "solidity": 0.2
             }
            },
            "type": "histogram"
           }
          ],
          "histogram2d": [
           {
            "colorbar": {
             "outlinewidth": 0,
             "ticks": ""
            },
            "colorscale": [
             [
              0,
              "#0d0887"
             ],
             [
              0.1111111111111111,
              "#46039f"
             ],
             [
              0.2222222222222222,
              "#7201a8"
             ],
             [
              0.3333333333333333,
              "#9c179e"
             ],
             [
              0.4444444444444444,
              "#bd3786"
             ],
             [
              0.5555555555555556,
              "#d8576b"
             ],
             [
              0.6666666666666666,
              "#ed7953"
             ],
             [
              0.7777777777777778,
              "#fb9f3a"
             ],
             [
              0.8888888888888888,
              "#fdca26"
             ],
             [
              1,
              "#f0f921"
             ]
            ],
            "type": "histogram2d"
           }
          ],
          "histogram2dcontour": [
           {
            "colorbar": {
             "outlinewidth": 0,
             "ticks": ""
            },
            "colorscale": [
             [
              0,
              "#0d0887"
             ],
             [
              0.1111111111111111,
              "#46039f"
             ],
             [
              0.2222222222222222,
              "#7201a8"
             ],
             [
              0.3333333333333333,
              "#9c179e"
             ],
             [
              0.4444444444444444,
              "#bd3786"
             ],
             [
              0.5555555555555556,
              "#d8576b"
             ],
             [
              0.6666666666666666,
              "#ed7953"
             ],
             [
              0.7777777777777778,
              "#fb9f3a"
             ],
             [
              0.8888888888888888,
              "#fdca26"
             ],
             [
              1,
              "#f0f921"
             ]
            ],
            "type": "histogram2dcontour"
           }
          ],
          "mesh3d": [
           {
            "colorbar": {
             "outlinewidth": 0,
             "ticks": ""
            },
            "type": "mesh3d"
           }
          ],
          "parcoords": [
           {
            "line": {
             "colorbar": {
              "outlinewidth": 0,
              "ticks": ""
             }
            },
            "type": "parcoords"
           }
          ],
          "pie": [
           {
            "automargin": true,
            "type": "pie"
           }
          ],
          "scatter": [
           {
            "fillpattern": {
             "fillmode": "overlay",
             "size": 10,
             "solidity": 0.2
            },
            "type": "scatter"
           }
          ],
          "scatter3d": [
           {
            "line": {
             "colorbar": {
              "outlinewidth": 0,
              "ticks": ""
             }
            },
            "marker": {
             "colorbar": {
              "outlinewidth": 0,
              "ticks": ""
             }
            },
            "type": "scatter3d"
           }
          ],
          "scattercarpet": [
           {
            "marker": {
             "colorbar": {
              "outlinewidth": 0,
              "ticks": ""
             }
            },
            "type": "scattercarpet"
           }
          ],
          "scattergeo": [
           {
            "marker": {
             "colorbar": {
              "outlinewidth": 0,
              "ticks": ""
             }
            },
            "type": "scattergeo"
           }
          ],
          "scattergl": [
           {
            "marker": {
             "colorbar": {
              "outlinewidth": 0,
              "ticks": ""
             }
            },
            "type": "scattergl"
           }
          ],
          "scattermapbox": [
           {
            "marker": {
             "colorbar": {
              "outlinewidth": 0,
              "ticks": ""
             }
            },
            "type": "scattermapbox"
           }
          ],
          "scatterpolar": [
           {
            "marker": {
             "colorbar": {
              "outlinewidth": 0,
              "ticks": ""
             }
            },
            "type": "scatterpolar"
           }
          ],
          "scatterpolargl": [
           {
            "marker": {
             "colorbar": {
              "outlinewidth": 0,
              "ticks": ""
             }
            },
            "type": "scatterpolargl"
           }
          ],
          "scatterternary": [
           {
            "marker": {
             "colorbar": {
              "outlinewidth": 0,
              "ticks": ""
             }
            },
            "type": "scatterternary"
           }
          ],
          "surface": [
           {
            "colorbar": {
             "outlinewidth": 0,
             "ticks": ""
            },
            "colorscale": [
             [
              0,
              "#0d0887"
             ],
             [
              0.1111111111111111,
              "#46039f"
             ],
             [
              0.2222222222222222,
              "#7201a8"
             ],
             [
              0.3333333333333333,
              "#9c179e"
             ],
             [
              0.4444444444444444,
              "#bd3786"
             ],
             [
              0.5555555555555556,
              "#d8576b"
             ],
             [
              0.6666666666666666,
              "#ed7953"
             ],
             [
              0.7777777777777778,
              "#fb9f3a"
             ],
             [
              0.8888888888888888,
              "#fdca26"
             ],
             [
              1,
              "#f0f921"
             ]
            ],
            "type": "surface"
           }
          ],
          "table": [
           {
            "cells": {
             "fill": {
              "color": "#EBF0F8"
             },
             "line": {
              "color": "white"
             }
            },
            "header": {
             "fill": {
              "color": "#C8D4E3"
             },
             "line": {
              "color": "white"
             }
            },
            "type": "table"
           }
          ]
         },
         "layout": {
          "annotationdefaults": {
           "arrowcolor": "#2a3f5f",
           "arrowhead": 0,
           "arrowwidth": 1
          },
          "autotypenumbers": "strict",
          "coloraxis": {
           "colorbar": {
            "outlinewidth": 0,
            "ticks": ""
           }
          },
          "colorscale": {
           "diverging": [
            [
             0,
             "#8e0152"
            ],
            [
             0.1,
             "#c51b7d"
            ],
            [
             0.2,
             "#de77ae"
            ],
            [
             0.3,
             "#f1b6da"
            ],
            [
             0.4,
             "#fde0ef"
            ],
            [
             0.5,
             "#f7f7f7"
            ],
            [
             0.6,
             "#e6f5d0"
            ],
            [
             0.7,
             "#b8e186"
            ],
            [
             0.8,
             "#7fbc41"
            ],
            [
             0.9,
             "#4d9221"
            ],
            [
             1,
             "#276419"
            ]
           ],
           "sequential": [
            [
             0,
             "#0d0887"
            ],
            [
             0.1111111111111111,
             "#46039f"
            ],
            [
             0.2222222222222222,
             "#7201a8"
            ],
            [
             0.3333333333333333,
             "#9c179e"
            ],
            [
             0.4444444444444444,
             "#bd3786"
            ],
            [
             0.5555555555555556,
             "#d8576b"
            ],
            [
             0.6666666666666666,
             "#ed7953"
            ],
            [
             0.7777777777777778,
             "#fb9f3a"
            ],
            [
             0.8888888888888888,
             "#fdca26"
            ],
            [
             1,
             "#f0f921"
            ]
           ],
           "sequentialminus": [
            [
             0,
             "#0d0887"
            ],
            [
             0.1111111111111111,
             "#46039f"
            ],
            [
             0.2222222222222222,
             "#7201a8"
            ],
            [
             0.3333333333333333,
             "#9c179e"
            ],
            [
             0.4444444444444444,
             "#bd3786"
            ],
            [
             0.5555555555555556,
             "#d8576b"
            ],
            [
             0.6666666666666666,
             "#ed7953"
            ],
            [
             0.7777777777777778,
             "#fb9f3a"
            ],
            [
             0.8888888888888888,
             "#fdca26"
            ],
            [
             1,
             "#f0f921"
            ]
           ]
          },
          "colorway": [
           "#636efa",
           "#EF553B",
           "#00cc96",
           "#ab63fa",
           "#FFA15A",
           "#19d3f3",
           "#FF6692",
           "#B6E880",
           "#FF97FF",
           "#FECB52"
          ],
          "font": {
           "color": "#2a3f5f"
          },
          "geo": {
           "bgcolor": "white",
           "lakecolor": "white",
           "landcolor": "white",
           "showlakes": true,
           "showland": true,
           "subunitcolor": "#C8D4E3"
          },
          "hoverlabel": {
           "align": "left"
          },
          "hovermode": "closest",
          "mapbox": {
           "style": "light"
          },
          "paper_bgcolor": "white",
          "plot_bgcolor": "white",
          "polar": {
           "angularaxis": {
            "gridcolor": "#EBF0F8",
            "linecolor": "#EBF0F8",
            "ticks": ""
           },
           "bgcolor": "white",
           "radialaxis": {
            "gridcolor": "#EBF0F8",
            "linecolor": "#EBF0F8",
            "ticks": ""
           }
          },
          "scene": {
           "xaxis": {
            "backgroundcolor": "white",
            "gridcolor": "#DFE8F3",
            "gridwidth": 2,
            "linecolor": "#EBF0F8",
            "showbackground": true,
            "ticks": "",
            "zerolinecolor": "#EBF0F8"
           },
           "yaxis": {
            "backgroundcolor": "white",
            "gridcolor": "#DFE8F3",
            "gridwidth": 2,
            "linecolor": "#EBF0F8",
            "showbackground": true,
            "ticks": "",
            "zerolinecolor": "#EBF0F8"
           },
           "zaxis": {
            "backgroundcolor": "white",
            "gridcolor": "#DFE8F3",
            "gridwidth": 2,
            "linecolor": "#EBF0F8",
            "showbackground": true,
            "ticks": "",
            "zerolinecolor": "#EBF0F8"
           }
          },
          "shapedefaults": {
           "line": {
            "color": "#2a3f5f"
           }
          },
          "ternary": {
           "aaxis": {
            "gridcolor": "#DFE8F3",
            "linecolor": "#A2B1C6",
            "ticks": ""
           },
           "baxis": {
            "gridcolor": "#DFE8F3",
            "linecolor": "#A2B1C6",
            "ticks": ""
           },
           "bgcolor": "white",
           "caxis": {
            "gridcolor": "#DFE8F3",
            "linecolor": "#A2B1C6",
            "ticks": ""
           }
          },
          "title": {
           "x": 0.05
          },
          "xaxis": {
           "automargin": true,
           "gridcolor": "#EBF0F8",
           "linecolor": "#EBF0F8",
           "ticks": "",
           "title": {
            "standoff": 15
           },
           "zerolinecolor": "#EBF0F8",
           "zerolinewidth": 2
          },
          "yaxis": {
           "automargin": true,
           "gridcolor": "#EBF0F8",
           "linecolor": "#EBF0F8",
           "ticks": "",
           "title": {
            "standoff": 15
           },
           "zerolinecolor": "#EBF0F8",
           "zerolinewidth": 2
          }
         }
        },
        "title": {
         "text": "Model Selection Results"
        },
        "xaxis": {
         "tickangle": -45,
         "title": {
          "text": "Classifier"
         }
        },
        "yaxis": {
         "title": {
          "text": "Scores matthews_corrcoef"
         }
        }
       }
      }
     },
     "metadata": {},
     "output_type": "display_data"
    },
    {
     "name": "stdout",
     "output_type": "stream",
     "text": [
      "Results saved to Results/gastric_cancer_gso_2_all_features_outerloops_results.csv\n"
     ]
    }
   ],
   "source": [
    "df = mlpipe.nested_cv(plot='box',n_trials_ncv=100,rounds=3,outer_splits=3,inner_splits=3,inner_selection='gso_2',search_on=['XGBClassifier'],parallel='freely_parallel',return_csv=True,show_bad_samples=True)\n"
   ]
  },
  {
   "cell_type": "code",
   "execution_count": 26,
   "metadata": {},
   "outputs": [
    {
     "data": {
      "image/png": "[encoded data removed]",
      "text/plain": [
       "<Figure size 640x480 with 1 Axes>"
      ]
     },
     "metadata": {},
     "output_type": "display_data"
    }
   ],
   "source": [
    "import matplotlib.pyplot as plt\n",
    "plt.boxplot(df['roc_auc']) #df['roc_auc']\n",
    "plt.show()"
   ]
  },
  {
   "cell_type": "code",
   "execution_count": 4,
   "metadata": {},
   "outputs": [
    {
     "name": "stdout",
     "output_type": "stream",
     "text": [
      "Normalization completed.\n"
     ]
    },
    {
     "data": {
      "application/vnd.jupyter.widget-view+json": {
       "model_id": "f18764e3788b4586a62e806b937cb391",
       "version_major": 2,
       "version_minor": 0
      },
      "text/plain": [
       "  0%|          | 0/15 [00:00<?, ?it/s]"
      ]
     },
     "metadata": {},
     "output_type": "display_data"
    },
    {
     "name": "stdout",
     "output_type": "stream",
     "text": [
      "Estimator: CatBoostClassifier\n",
      "Best parameters: {'iterations': 90, 'learning_rate': 0.036321151563099195, 'depth': 8, 'l2_leaf_reg': 0.0004417808685331767, 'border_count': 184, 'bagging_temperature': 9.13670134930253, 'random_strength': 9.861153714073298, 'leaf_estimation_method': 'Newton', 'logging_level': 'Silent', 'model_size_reg': 0.31263563587520377, 'rsm': 0.9399807945401994, 'loss_function': None}\n",
      "Best matthews_corrcoef: 0.7871711623290895\n"
     ]
    },
    {
     "data": {
      "application/vnd.plotly.v1+json": {
       "config": {
        "plotlyServerURL": "https://plot.ly"
       },
       "data": [
        {
         "boxmean": true,
         "boxpoints": "all",
         "jitter": 0.3,
         "name": "All trials scores",
         "pointpos": -1.8,
         "type": "box",
         "y": [
          0.6963106238227914,
          0.6963106238227914,
          0.6963106238227914,
          0.6963106238227914,
          0.6963106238227914,
          0.6963106238227914,
          0.6963106238227914,
          0.6963106238227914,
          0.6963106238227914,
          0.6963106238227914,
          0.6963106238227914,
          0.6963106238227914,
          0.6963106238227914,
          0.6963106238227914,
          0.6963106238227914,
          0.6527777777777778,
          0.6527777777777778,
          0.6527777777777778,
          0.6527777777777778,
          0.6527777777777778,
          0.6527777777777778,
          0.6527777777777778,
          0.6527777777777778,
          0.6527777777777778,
          0.6527777777777778,
          0.6527777777777778,
          0.6527777777777778,
          0.6527777777777778,
          0.6527777777777778,
          0.6527777777777778,
          0.6479515952918626,
          0.6479515952918626,
          0.6479515952918626,
          0.6479515952918626,
          0.6479515952918626,
          0.6479515952918626,
          0.6479515952918626,
          0.6479515952918626,
          0.6479515952918626,
          0.6479515952918626,
          0.6479515952918626,
          0.6479515952918626,
          0.6479515952918626,
          0.6479515952918626,
          0.6479515952918626,
          1,
          1,
          1,
          1,
          1,
          1,
          1,
          1,
          1,
          1,
          1,
          1,
          1,
          1,
          1,
          0.75,
          0.75,
          0.75,
          0.75,
          0.75,
          0.75,
          0.75,
          0.75,
          0.75,
          0.75,
          0.75,
          0.75,
          0.75,
          0.75,
          0.75
         ]
        },
        {
         "boxmean": true,
         "boxpoints": "all",
         "jitter": 0.3,
         "name": "Best trial Scores",
         "pointpos": -1.8,
         "type": "box",
         "y": [
          0.6963106238227914,
          0.6527777777777778,
          0.6479515952918626,
          1,
          0.75
         ]
        }
       ],
       "layout": {
        "template": {
         "data": {
          "bar": [
           {
            "error_x": {
             "color": "#2a3f5f"
            },
            "error_y": {
             "color": "#2a3f5f"
            },
            "marker": {
             "line": {
              "color": "white",
              "width": 0.5
             },
             "pattern": {
              "fillmode": "overlay",
              "size": 10,
              "solidity": 0.2
             }
            },
            "type": "bar"
           }
          ],
          "barpolar": [
           {
            "marker": {
             "line": {
              "color": "white",
              "width": 0.5
             },
             "pattern": {
              "fillmode": "overlay",
              "size": 10,
              "solidity": 0.2
             }
            },
            "type": "barpolar"
           }
          ],
          "carpet": [
           {
            "aaxis": {
             "endlinecolor": "#2a3f5f",
             "gridcolor": "#C8D4E3",
             "linecolor": "#C8D4E3",
             "minorgridcolor": "#C8D4E3",
             "startlinecolor": "#2a3f5f"
            },
            "baxis": {
             "endlinecolor": "#2a3f5f",
             "gridcolor": "#C8D4E3",
             "linecolor": "#C8D4E3",
             "minorgridcolor": "#C8D4E3",
             "startlinecolor": "#2a3f5f"
            },
            "type": "carpet"
           }
          ],
          "choropleth": [
           {
            "colorbar": {
             "outlinewidth": 0,
             "ticks": ""
            },
            "type": "choropleth"
           }
          ],
          "contour": [
           {
            "colorbar": {
             "outlinewidth": 0,
             "ticks": ""
            },
            "colorscale": [
             [
              0,
              "#0d0887"
             ],
             [
              0.1111111111111111,
              "#46039f"
             ],
             [
              0.2222222222222222,
              "#7201a8"
             ],
             [
              0.3333333333333333,
              "#9c179e"
             ],
             [
              0.4444444444444444,
              "#bd3786"
             ],
             [
              0.5555555555555556,
              "#d8576b"
             ],
             [
              0.6666666666666666,
              "#ed7953"
             ],
             [
              0.7777777777777778,
              "#fb9f3a"
             ],
             [
              0.8888888888888888,
              "#fdca26"
             ],
             [
              1,
              "#f0f921"
             ]
            ],
            "type": "contour"
           }
          ],
          "contourcarpet": [
           {
            "colorbar": {
             "outlinewidth": 0,
             "ticks": ""
            },
            "type": "contourcarpet"
           }
          ],
          "heatmap": [
           {
            "colorbar": {
             "outlinewidth": 0,
             "ticks": ""
            },
            "colorscale": [
             [
              0,
              "#0d0887"
             ],
             [
              0.1111111111111111,
              "#46039f"
             ],
             [
              0.2222222222222222,
              "#7201a8"
             ],
             [
              0.3333333333333333,
              "#9c179e"
             ],
             [
              0.4444444444444444,
              "#bd3786"
             ],
             [
              0.5555555555555556,
              "#d8576b"
             ],
             [
              0.6666666666666666,
              "#ed7953"
             ],
             [
              0.7777777777777778,
              "#fb9f3a"
             ],
             [
              0.8888888888888888,
              "#fdca26"
             ],
             [
              1,
              "#f0f921"
             ]
            ],
            "type": "heatmap"
           }
          ],
          "heatmapgl": [
           {
            "colorbar": {
             "outlinewidth": 0,
             "ticks": ""
            },
            "colorscale": [
             [
              0,
              "#0d0887"
             ],
             [
              0.1111111111111111,
              "#46039f"
             ],
             [
              0.2222222222222222,
              "#7201a8"
             ],
             [
              0.3333333333333333,
              "#9c179e"
             ],
             [
              0.4444444444444444,
              "#bd3786"
             ],
             [
              0.5555555555555556,
              "#d8576b"
             ],
             [
              0.6666666666666666,
              "#ed7953"
             ],
             [
              0.7777777777777778,
              "#fb9f3a"
             ],
             [
              0.8888888888888888,
              "#fdca26"
             ],
             [
              1,
              "#f0f921"
             ]
            ],
            "type": "heatmapgl"
           }
          ],
          "histogram": [
           {
            "marker": {
             "pattern": {
              "fillmode": "overlay",
              "size": 10,
              "solidity": 0.2
             }
            },
            "type": "histogram"
           }
          ],
          "histogram2d": [
           {
            "colorbar": {
             "outlinewidth": 0,
             "ticks": ""
            },
            "colorscale": [
             [
              0,
              "#0d0887"
             ],
             [
              0.1111111111111111,
              "#46039f"
             ],
             [
              0.2222222222222222,
              "#7201a8"
             ],
             [
              0.3333333333333333,
              "#9c179e"
             ],
             [
              0.4444444444444444,
              "#bd3786"
             ],
             [
              0.5555555555555556,
              "#d8576b"
             ],
             [
              0.6666666666666666,
              "#ed7953"
             ],
             [
              0.7777777777777778,
              "#fb9f3a"
             ],
             [
              0.8888888888888888,
              "#fdca26"
             ],
             [
              1,
              "#f0f921"
             ]
            ],
            "type": "histogram2d"
           }
          ],
          "histogram2dcontour": [
           {
            "colorbar": {
             "outlinewidth": 0,
             "ticks": ""
            },
            "colorscale": [
             [
              0,
              "#0d0887"
             ],
             [
              0.1111111111111111,
              "#46039f"
             ],
             [
              0.2222222222222222,
              "#7201a8"
             ],
             [
              0.3333333333333333,
              "#9c179e"
             ],
             [
              0.4444444444444444,
              "#bd3786"
             ],
             [
              0.5555555555555556,
              "#d8576b"
             ],
             [
              0.6666666666666666,
              "#ed7953"
             ],
             [
              0.7777777777777778,
              "#fb9f3a"
             ],
             [
              0.8888888888888888,
              "#fdca26"
             ],
             [
              1,
              "#f0f921"
             ]
            ],
            "type": "histogram2dcontour"
           }
          ],
          "mesh3d": [
           {
            "colorbar": {
             "outlinewidth": 0,
             "ticks": ""
            },
            "type": "mesh3d"
           }
          ],
          "parcoords": [
           {
            "line": {
             "colorbar": {
              "outlinewidth": 0,
              "ticks": ""
             }
            },
            "type": "parcoords"
           }
          ],
          "pie": [
           {
            "automargin": true,
            "type": "pie"
           }
          ],
          "scatter": [
           {
            "fillpattern": {
             "fillmode": "overlay",
             "size": 10,
             "solidity": 0.2
            },
            "type": "scatter"
           }
          ],
          "scatter3d": [
           {
            "line": {
             "colorbar": {
              "outlinewidth": 0,
              "ticks": ""
             }
            },
            "marker": {
             "colorbar": {
              "outlinewidth": 0,
              "ticks": ""
             }
            },
            "type": "scatter3d"
           }
          ],
          "scattercarpet": [
           {
            "marker": {
             "colorbar": {
              "outlinewidth": 0,
              "ticks": ""
             }
            },
            "type": "scattercarpet"
           }
          ],
          "scattergeo": [
           {
            "marker": {
             "colorbar": {
              "outlinewidth": 0,
              "ticks": ""
             }
            },
            "type": "scattergeo"
           }
          ],
          "scattergl": [
           {
            "marker": {
             "colorbar": {
              "outlinewidth": 0,
              "ticks": ""
             }
            },
            "type": "scattergl"
           }
          ],
          "scattermapbox": [
           {
            "marker": {
             "colorbar": {
              "outlinewidth": 0,
              "ticks": ""
             }
            },
            "type": "scattermapbox"
           }
          ],
          "scatterpolar": [
           {
            "marker": {
             "colorbar": {
              "outlinewidth": 0,
              "ticks": ""
             }
            },
            "type": "scatterpolar"
           }
          ],
          "scatterpolargl": [
           {
            "marker": {
             "colorbar": {
              "outlinewidth": 0,
              "ticks": ""
             }
            },
            "type": "scatterpolargl"
           }
          ],
          "scatterternary": [
           {
            "marker": {
             "colorbar": {
              "outlinewidth": 0,
              "ticks": ""
             }
            },
            "type": "scatterternary"
           }
          ],
          "surface": [
           {
            "colorbar": {
             "outlinewidth": 0,
             "ticks": ""
            },
            "colorscale": [
             [
              0,
              "#0d0887"
             ],
             [
              0.1111111111111111,
              "#46039f"
             ],
             [
              0.2222222222222222,
              "#7201a8"
             ],
             [
              0.3333333333333333,
              "#9c179e"
             ],
             [
              0.4444444444444444,
              "#bd3786"
             ],
             [
              0.5555555555555556,
              "#d8576b"
             ],
             [
              0.6666666666666666,
              "#ed7953"
             ],
             [
              0.7777777777777778,
              "#fb9f3a"
             ],
             [
              0.8888888888888888,
              "#fdca26"
             ],
             [
              1,
              "#f0f921"
             ]
            ],
            "type": "surface"
           }
          ],
          "table": [
           {
            "cells": {
             "fill": {
              "color": "#EBF0F8"
             },
             "line": {
              "color": "white"
             }
            },
            "header": {
             "fill": {
              "color": "#C8D4E3"
             },
             "line": {
              "color": "white"
             }
            },
            "type": "table"
           }
          ]
         },
         "layout": {
          "annotationdefaults": {
           "arrowcolor": "#2a3f5f",
           "arrowhead": 0,
           "arrowwidth": 1
          },
          "autotypenumbers": "strict",
          "coloraxis": {
           "colorbar": {
            "outlinewidth": 0,
            "ticks": ""
           }
          },
          "colorscale": {
           "diverging": [
            [
             0,
             "#8e0152"
            ],
            [
             0.1,
             "#c51b7d"
            ],
            [
             0.2,
             "#de77ae"
            ],
            [
             0.3,
             "#f1b6da"
            ],
            [
             0.4,
             "#fde0ef"
            ],
            [
             0.5,
             "#f7f7f7"
            ],
            [
             0.6,
             "#e6f5d0"
            ],
            [
             0.7,
             "#b8e186"
            ],
            [
             0.8,
             "#7fbc41"
            ],
            [
             0.9,
             "#4d9221"
            ],
            [
             1,
             "#276419"
            ]
           ],
           "sequential": [
            [
             0,
             "#0d0887"
            ],
            [
             0.1111111111111111,
             "#46039f"
            ],
            [
             0.2222222222222222,
             "#7201a8"
            ],
            [
             0.3333333333333333,
             "#9c179e"
            ],
            [
             0.4444444444444444,
             "#bd3786"
            ],
            [
             0.5555555555555556,
             "#d8576b"
            ],
            [
             0.6666666666666666,
             "#ed7953"
            ],
            [
             0.7777777777777778,
             "#fb9f3a"
            ],
            [
             0.8888888888888888,
             "#fdca26"
            ],
            [
             1,
             "#f0f921"
            ]
           ],
           "sequentialminus": [
            [
             0,
             "#0d0887"
            ],
            [
             0.1111111111111111,
             "#46039f"
            ],
            [
             0.2222222222222222,
             "#7201a8"
            ],
            [
             0.3333333333333333,
             "#9c179e"
            ],
            [
             0.4444444444444444,
             "#bd3786"
            ],
            [
             0.5555555555555556,
             "#d8576b"
            ],
            [
             0.6666666666666666,
             "#ed7953"
            ],
            [
             0.7777777777777778,
             "#fb9f3a"
            ],
            [
             0.8888888888888888,
             "#fdca26"
            ],
            [
             1,
             "#f0f921"
            ]
           ]
          },
          "colorway": [
           "#636efa",
           "#EF553B",
           "#00cc96",
           "#ab63fa",
           "#FFA15A",
           "#19d3f3",
           "#FF6692",
           "#B6E880",
           "#FF97FF",
           "#FECB52"
          ],
          "font": {
           "color": "#2a3f5f"
          },
          "geo": {
           "bgcolor": "white",
           "lakecolor": "white",
           "landcolor": "white",
           "showlakes": true,
           "showland": true,
           "subunitcolor": "#C8D4E3"
          },
          "hoverlabel": {
           "align": "left"
          },
          "hovermode": "closest",
          "mapbox": {
           "style": "light"
          },
          "paper_bgcolor": "white",
          "plot_bgcolor": "white",
          "polar": {
           "angularaxis": {
            "gridcolor": "#EBF0F8",
            "linecolor": "#EBF0F8",
            "ticks": ""
           },
           "bgcolor": "white",
           "radialaxis": {
            "gridcolor": "#EBF0F8",
            "linecolor": "#EBF0F8",
            "ticks": ""
           }
          },
          "scene": {
           "xaxis": {
            "backgroundcolor": "white",
            "gridcolor": "#DFE8F3",
            "gridwidth": 2,
            "linecolor": "#EBF0F8",
            "showbackground": true,
            "ticks": "",
            "zerolinecolor": "#EBF0F8"
           },
           "yaxis": {
            "backgroundcolor": "white",
            "gridcolor": "#DFE8F3",
            "gridwidth": 2,
            "linecolor": "#EBF0F8",
            "showbackground": true,
            "ticks": "",
            "zerolinecolor": "#EBF0F8"
           },
           "zaxis": {
            "backgroundcolor": "white",
            "gridcolor": "#DFE8F3",
            "gridwidth": 2,
            "linecolor": "#EBF0F8",
            "showbackground": true,
            "ticks": "",
            "zerolinecolor": "#EBF0F8"
           }
          },
          "shapedefaults": {
           "line": {
            "color": "#2a3f5f"
           }
          },
          "ternary": {
           "aaxis": {
            "gridcolor": "#DFE8F3",
            "linecolor": "#A2B1C6",
            "ticks": ""
           },
           "baxis": {
            "gridcolor": "#DFE8F3",
            "linecolor": "#A2B1C6",
            "ticks": ""
           },
           "bgcolor": "white",
           "caxis": {
            "gridcolor": "#DFE8F3",
            "linecolor": "#A2B1C6",
            "ticks": ""
           }
          },
          "title": {
           "x": 0.05
          },
          "xaxis": {
           "automargin": true,
           "gridcolor": "#EBF0F8",
           "linecolor": "#EBF0F8",
           "ticks": "",
           "title": {
            "standoff": 15
           },
           "zerolinecolor": "#EBF0F8",
           "zerolinewidth": 2
          },
          "yaxis": {
           "automargin": true,
           "gridcolor": "#EBF0F8",
           "linecolor": "#EBF0F8",
           "ticks": "",
           "title": {
            "standoff": 15
           },
           "zerolinecolor": "#EBF0F8",
           "zerolinewidth": 2
          }
         }
        },
        "title": {
         "text": "Model Evaluation Results With cv_simple Method"
        },
        "yaxis": {
         "title": {
          "text": "Score"
         }
        }
       }
      }
     },
     "metadata": {},
     "output_type": "display_data"
    }
   ],
   "source": [
    "model ,df = mlpipe.bayesian_search(estimator_name='CatBoostClassifier',n_trials=15, missing_values='median')"
   ]
  },
  {
   "cell_type": "code",
   "execution_count": 46,
   "metadata": {},
   "outputs": [
    {
     "name": "stdout",
     "output_type": "stream",
     "text": [
      "Parameter 1: 0.76, Parameter 2: 0.845, Parameter Difference: -0.08499999999999996\n"
     ]
    }
   ],
   "source": [
    "import numpy as np\n",
    "from scipy.stats import f_oneway, ttest_ind\n",
    "\n",
    "# Example data: Mean complexity scores for different hyperparameters\n",
    "important_hyperparams_1 = {\n",
    "    'max_depth': [0.75],\n",
    "    'n_estimators': [0.77],\n",
    "    # 'learning_rate': [0.9]\n",
    "}\n",
    "\n",
    "important_hyperparams_2 = {\n",
    "    'max_depth': [0.85],\n",
    "    'n_estimators': [0.84],\n",
    "    # 'learning_rate': [0.8]\n",
    "}\n",
    "\n",
    "less_important_hyperparams = {\n",
    "    'min_samples_leaf': [0.75, 0.78],\n",
    "    'min_child_weight': [0.74, 0.77],\n",
    "    'gamma': [0.76, 0.79]\n",
    "}\n",
    "\n",
    "# Calculate means\n",
    "important_means_1 = np.mean([np.mean(scores) for scores in important_hyperparams_1.values()])\n",
    "important_means_2 = np.mean([np.mean(scores) for scores in important_hyperparams_2.values()])\n",
    "\n",
    "# less_important_means = [np.mean(scores) for scores in less_important_hyperparams.values()]\n",
    "\n",
    "print(f\"Parameter 1: {important_means_1}, Parameter 2: {important_means_2}, Parameter Difference: {important_means_1 - important_means_2}\")"
   ]
  },
  {
   "cell_type": "code",
   "execution_count": 13,
   "metadata": {},
   "outputs": [
    {
     "data": {
      "text/plain": [
       "array([0., 0., 0., 1., 0., 0., 0., 0., 0., 0.])"
      ]
     },
     "execution_count": 13,
     "metadata": {},
     "output_type": "execute_result"
    }
   ],
   "source": [
    "samples_counts = np.zeros(10)\n",
    "samples_counts[3] +=1\n",
    "samples_counts"
   ]
  },
  {
   "cell_type": "code",
   "execution_count": 9,
   "metadata": {},
   "outputs": [],
   "source": [
    "import numpy as np"
   ]
  },
  {
   "cell_type": "code",
   "execution_count": 14,
   "metadata": {},
   "outputs": [
    {
     "name": "stdout",
     "output_type": "stream",
     "text": [
      "0.0\n",
      "0.0\n",
      "0.0\n",
      "1.0\n",
      "0.0\n",
      "0.0\n",
      "0.0\n",
      "0.0\n",
      "0.0\n",
      "0.0\n"
     ]
    }
   ],
   "source": [
    "for i in samples_counts:\n",
    "    print(i)"
   ]
  },
  {
   "cell_type": "code",
   "execution_count": 5,
   "metadata": {},
   "outputs": [
    {
     "name": "stderr",
     "output_type": "stream",
     "text": [
      "[I 2024-07-05 21:51:04,057] A new study created in memory with name: no-name-f478a1a8-74bc-4773-a5dc-40e5b3723cf3\n",
      "[I 2024-07-05 21:51:04,149] Trial 1 finished with value: 0.9500000000000001 and parameters: {'C': 0.5295357139760623, 'kernel': 'rbf', 'gamma': 0.36190732697212463}. Best is trial 1 with value: 0.9500000000000001.\n",
      "[I 2024-07-05 21:51:04,172] Trial 4 finished with value: 0.9416666666666668 and parameters: {'C': 0.20592782276453386, 'kernel': 'poly', 'gamma': 0.9612114538483573}. Best is trial 1 with value: 0.9500000000000001.\n",
      "[I 2024-07-05 21:51:04,178] Trial 0 finished with value: 0.7333333333333334 and parameters: {'C': 0.2902145176469904, 'kernel': 'rbf', 'gamma': 0.013237285050805424}. Best is trial 1 with value: 0.9500000000000001.\n",
      "[I 2024-07-05 21:51:04,184] Trial 5 finished with value: 0.325 and parameters: {'C': 0.9336066846146562, 'kernel': 'sigmoid', 'gamma': 0.7082614051302398}. Best is trial 1 with value: 0.9500000000000001.\n",
      "[I 2024-07-05 21:51:04,193] Trial 6 finished with value: 0.9500000000000001 and parameters: {'C': 0.8381018049919132, 'kernel': 'rbf', 'gamma': 0.34133148908477967}. Best is trial 1 with value: 0.9500000000000001.\n",
      "[I 2024-07-05 21:51:04,212] Trial 3 finished with value: 0.2416666666666667 and parameters: {'C': 0.08216413423666045, 'kernel': 'sigmoid', 'gamma': 0.19967276180634083}. Best is trial 1 with value: 0.9500000000000001.\n",
      "[I 2024-07-05 21:51:04,232] Trial 2 finished with value: 0.9666666666666667 and parameters: {'C': 0.4747264902065602, 'kernel': 'linear', 'gamma': 0.6983833886917294}. Best is trial 2 with value: 0.9666666666666667.\n",
      "[I 2024-07-05 21:51:04,245] Trial 7 finished with value: 0.975 and parameters: {'C': 0.9349413205484218, 'kernel': 'linear', 'gamma': 0.11900378926516163}. Best is trial 7 with value: 0.975.\n",
      "[I 2024-07-05 21:51:04,257] Trial 9 finished with value: 0.3416666666666666 and parameters: {'C': 0.8248100888409801, 'kernel': 'sigmoid', 'gamma': 0.7359477661555631}. Best is trial 7 with value: 0.975.\n",
      "[I 2024-07-05 21:51:04,272] Trial 8 finished with value: 0.9500000000000001 and parameters: {'C': 0.14398498275157495, 'kernel': 'linear', 'gamma': 0.7501423525772609}. Best is trial 7 with value: 0.975.\n",
      "[I 2024-07-05 21:51:04,286] Trial 12 finished with value: 0.9416666666666668 and parameters: {'C': 0.7966043805768662, 'kernel': 'rbf', 'gamma': 0.02295671325242095}. Best is trial 7 with value: 0.975.\n",
      "[I 2024-07-05 21:51:04,300] Trial 10 finished with value: 0.9416666666666668 and parameters: {'C': 0.50193195380426, 'kernel': 'poly', 'gamma': 0.6666788450010056}. Best is trial 7 with value: 0.975.\n",
      "[I 2024-07-05 21:51:04,308] Trial 11 finished with value: 0.9500000000000001 and parameters: {'C': 0.8214812249804648, 'kernel': 'rbf', 'gamma': 0.4303908996252167}. Best is trial 7 with value: 0.975.\n",
      "[I 2024-07-05 21:51:04,328] Trial 13 finished with value: 0.9333333333333332 and parameters: {'C': 0.981371095362523, 'kernel': 'poly', 'gamma': 0.7898537670260812}. Best is trial 7 with value: 0.975.\n",
      "[I 2024-07-05 21:51:04,410] Trial 14 finished with value: 0.9499999999999998 and parameters: {'C': 0.1445232219227384, 'kernel': 'rbf', 'gamma': 0.31087873376120323}. Best is trial 7 with value: 0.975.\n",
      "[I 2024-07-05 21:51:04,465] Trial 15 finished with value: 0.9500000000000001 and parameters: {'C': 0.5580365780755701, 'kernel': 'linear', 'gamma': 0.5432799779076498}. Best is trial 7 with value: 0.975.\n",
      "[I 2024-07-05 21:51:04,472] Trial 16 finished with value: 0.9500000000000001 and parameters: {'C': 0.5585854898841616, 'kernel': 'linear', 'gamma': 0.5735741124755869}. Best is trial 7 with value: 0.975.\n",
      "[I 2024-07-05 21:51:04,489] Trial 17 finished with value: 0.9500000000000001 and parameters: {'C': 0.5835034791513082, 'kernel': 'linear', 'gamma': 0.5486024947116968}. Best is trial 7 with value: 0.975.\n",
      "[I 2024-07-05 21:51:04,516] Trial 18 finished with value: 0.9500000000000001 and parameters: {'C': 0.5786898840484651, 'kernel': 'linear', 'gamma': 0.5524176221809133}. Best is trial 7 with value: 0.975.\n",
      "[I 2024-07-05 21:51:04,554] Trial 19 finished with value: 0.9500000000000001 and parameters: {'C': 0.5779367984645982, 'kernel': 'linear', 'gamma': 0.5838042380058345}. Best is trial 7 with value: 0.975.\n",
      "[I 2024-07-05 21:51:04,588] Trial 21 finished with value: 0.9500000000000001 and parameters: {'C': 0.5257469325332131, 'kernel': 'linear', 'gamma': 0.5887265058725617}. Best is trial 7 with value: 0.975.\n",
      "[I 2024-07-05 21:51:04,643] Trial 20 finished with value: 0.9500000000000001 and parameters: {'C': 0.5857658740332206, 'kernel': 'linear', 'gamma': 0.5505912040974259}. Best is trial 7 with value: 0.975.\n",
      "[I 2024-07-05 21:51:04,670] Trial 23 finished with value: 0.9583333333333334 and parameters: {'C': 0.3673383817188218, 'kernel': 'linear', 'gamma': 0.9032202065701035}. Best is trial 7 with value: 0.975.\n",
      "[I 2024-07-05 21:51:04,712] Trial 24 finished with value: 0.9666666666666667 and parameters: {'C': 0.39936500944198494, 'kernel': 'linear', 'gamma': 0.18957773240166947}. Best is trial 7 with value: 0.975.\n",
      "[I 2024-07-05 21:51:04,715] Trial 22 finished with value: 0.9666666666666667 and parameters: {'C': 0.3984137595655707, 'kernel': 'linear', 'gamma': 0.5526978971760546}. Best is trial 7 with value: 0.975.\n",
      "[I 2024-07-05 21:51:04,719] Trial 25 finished with value: 0.9583333333333334 and parameters: {'C': 0.3913134535809085, 'kernel': 'linear', 'gamma': 0.17451632261838101}. Best is trial 7 with value: 0.975.\n",
      "[I 2024-07-05 21:51:04,761] Trial 26 finished with value: 0.9666666666666667 and parameters: {'C': 0.39688382424898383, 'kernel': 'linear', 'gamma': 0.12819552615400823}. Best is trial 7 with value: 0.975.\n",
      "[I 2024-07-05 21:51:04,793] Trial 28 finished with value: 0.9666666666666667 and parameters: {'C': 0.36651993425263996, 'kernel': 'rbf', 'gamma': 0.1328191536151617}. Best is trial 7 with value: 0.975.\n",
      "[I 2024-07-05 21:51:04,798] Trial 27 finished with value: 0.9666666666666667 and parameters: {'C': 0.4152401190406156, 'kernel': 'linear', 'gamma': 0.16020736302994984}. Best is trial 7 with value: 0.975.\n",
      "[I 2024-07-05 21:51:04,932] Trial 29 finished with value: 0.9583333333333334 and parameters: {'C': 0.3881914646368863, 'kernel': 'linear', 'gamma': 0.8995422184624302}. Best is trial 7 with value: 0.975.\n",
      "[I 2024-07-05 21:51:04,965] Trial 30 finished with value: 0.9500000000000001 and parameters: {'C': 0.7011650487575358, 'kernel': 'linear', 'gamma': 0.8389128032104278}. Best is trial 7 with value: 0.975.\n",
      "[I 2024-07-05 21:51:04,973] Trial 32 finished with value: 0.9500000000000001 and parameters: {'C': 0.7085961693981286, 'kernel': 'linear', 'gamma': 0.45421443881090046}. Best is trial 7 with value: 0.975.\n",
      "[I 2024-07-05 21:51:05,011] Trial 31 finished with value: 0.9500000000000001 and parameters: {'C': 0.6756000924023178, 'kernel': 'linear', 'gamma': 0.45248553494141913}. Best is trial 7 with value: 0.975.\n",
      "[I 2024-07-05 21:51:05,018] Trial 33 finished with value: 0.9500000000000001 and parameters: {'C': 0.7075627897653483, 'kernel': 'linear', 'gamma': 0.4444404340167504}. Best is trial 7 with value: 0.975.\n",
      "[I 2024-07-05 21:51:05,074] Trial 35 finished with value: 0.9500000000000001 and parameters: {'C': 0.6730846980279876, 'kernel': 'linear', 'gamma': 0.4674000102628059}. Best is trial 7 with value: 0.975.\n",
      "[I 2024-07-05 21:51:05,085] Trial 36 finished with value: 0.9500000000000001 and parameters: {'C': 0.2603820184826683, 'kernel': 'linear', 'gamma': 0.4380091355144638}. Best is trial 7 with value: 0.975.\n",
      "[I 2024-07-05 21:51:05,131] Trial 34 finished with value: 0.9500000000000001 and parameters: {'C': 0.6994857068787179, 'kernel': 'linear', 'gamma': 0.44967932576869907}. Best is trial 7 with value: 0.975.\n",
      "[I 2024-07-05 21:51:05,192] Trial 37 finished with value: 0.9583333333333334 and parameters: {'C': 0.6877627116916725, 'kernel': 'poly', 'gamma': 0.39254108559618056}. Best is trial 7 with value: 0.975.\n",
      "[I 2024-07-05 21:51:05,207] Trial 39 finished with value: 0.9583333333333334 and parameters: {'C': 0.2889415708828543, 'kernel': 'linear', 'gamma': 0.03964109705666018}. Best is trial 7 with value: 0.975.\n",
      "[I 2024-07-05 21:51:05,273] Trial 38 finished with value: 0.9583333333333334 and parameters: {'C': 0.28780216463985003, 'kernel': 'linear', 'gamma': 0.031051206864970204}. Best is trial 7 with value: 0.975.\n",
      "[I 2024-07-05 21:51:05,327] Trial 44 finished with value: 0.2333333333333333 and parameters: {'C': 0.45240503518734765, 'kernel': 'sigmoid', 'gamma': 0.23917792776998442}. Best is trial 7 with value: 0.975.\n",
      "[I 2024-07-05 21:51:05,329] Trial 40 finished with value: 0.2416666666666667 and parameters: {'C': 0.28951933686250075, 'kernel': 'sigmoid', 'gamma': 0.23319859010420185}. Best is trial 7 with value: 0.975.\n",
      "[I 2024-07-05 21:51:05,367] Trial 41 finished with value: 0.2416666666666667 and parameters: {'C': 0.25914647597507434, 'kernel': 'sigmoid', 'gamma': 0.23482800416708732}. Best is trial 7 with value: 0.975.\n",
      "[I 2024-07-05 21:51:05,404] Trial 42 finished with value: 0.225 and parameters: {'C': 0.46225814235320667, 'kernel': 'sigmoid', 'gamma': 0.2575339585501855}. Best is trial 7 with value: 0.975.\n",
      "[I 2024-07-05 21:51:05,449] Trial 43 finished with value: 0.2333333333333333 and parameters: {'C': 0.45743724999916796, 'kernel': 'sigmoid', 'gamma': 0.24808439696814705}. Best is trial 7 with value: 0.975.\n",
      "[I 2024-07-05 21:51:05,494] Trial 46 finished with value: 0.18333333333333335 and parameters: {'C': 0.4689798793467752, 'kernel': 'sigmoid', 'gamma': 0.2740720038214399}. Best is trial 7 with value: 0.975.\n",
      "[I 2024-07-05 21:51:05,498] Trial 48 finished with value: 0.19166666666666668 and parameters: {'C': 0.47469950488343554, 'kernel': 'sigmoid', 'gamma': 0.27815317692866887}. Best is trial 7 with value: 0.975.\n",
      "[I 2024-07-05 21:51:05,533] Trial 45 finished with value: 0.2333333333333333 and parameters: {'C': 0.4794170884614776, 'kernel': 'sigmoid', 'gamma': 0.23973481269710772}. Best is trial 7 with value: 0.975.\n",
      "[I 2024-07-05 21:51:05,537] Trial 47 finished with value: 0.2333333333333333 and parameters: {'C': 0.47148223942466105, 'kernel': 'sigmoid', 'gamma': 0.2516667674890988}. Best is trial 7 with value: 0.975.\n",
      "[I 2024-07-05 21:51:05,549] Trial 50 finished with value: 0.9500000000000001 and parameters: {'C': 0.46655990494106103, 'kernel': 'poly', 'gamma': 0.11453643613914077}. Best is trial 7 with value: 0.975.\n",
      "[I 2024-07-05 21:51:05,557] Trial 49 finished with value: 0.3416666666666666 and parameters: {'C': 0.47715157317990453, 'kernel': 'sigmoid', 'gamma': 0.29014264628306985}. Best is trial 7 with value: 0.975.\n",
      "[I 2024-07-05 21:51:05,623] Trial 51 finished with value: 0.9500000000000001 and parameters: {'C': 0.465357910895591, 'kernel': 'poly', 'gamma': 0.08368167886186155}. Best is trial 7 with value: 0.975.\n",
      "[I 2024-07-05 21:51:05,663] Trial 52 finished with value: 0.9583333333333334 and parameters: {'C': 0.33359925751873937, 'kernel': 'linear', 'gamma': 0.1032916834962454}. Best is trial 7 with value: 0.975.\n",
      "[I 2024-07-05 21:51:05,764] Trial 54 finished with value: 0.9500000000000001 and parameters: {'C': 0.3434056924802205, 'kernel': 'poly', 'gamma': 0.09622369410909681}. Best is trial 7 with value: 0.975.\n",
      "[I 2024-07-05 21:51:05,775] Trial 53 finished with value: 0.9500000000000001 and parameters: {'C': 0.3398217463020026, 'kernel': 'poly', 'gamma': 0.08137287527766127}. Best is trial 7 with value: 0.975.\n",
      "[I 2024-07-05 21:51:05,836] Trial 56 finished with value: 0.9666666666666667 and parameters: {'C': 0.41915795367154157, 'kernel': 'linear', 'gamma': 0.6572027508147602}. Best is trial 7 with value: 0.975.\n",
      "[I 2024-07-05 21:51:05,849] Trial 57 finished with value: 0.9666666666666667 and parameters: {'C': 0.415333289456051, 'kernel': 'linear', 'gamma': 0.6501438313720518}. Best is trial 7 with value: 0.975.\n",
      "[I 2024-07-05 21:51:05,882] Trial 58 finished with value: 0.9583333333333334 and parameters: {'C': 0.3396119844493323, 'kernel': 'linear', 'gamma': 0.6387638851665999}. Best is trial 7 with value: 0.975.\n",
      "[I 2024-07-05 21:51:05,886] Trial 55 finished with value: 0.9583333333333334 and parameters: {'C': 0.1715621224303641, 'kernel': 'linear', 'gamma': 0.65718877731529}. Best is trial 7 with value: 0.975.\n",
      "[I 2024-07-05 21:51:05,908] Trial 60 finished with value: 0.9666666666666667 and parameters: {'C': 0.4161645883211548, 'kernel': 'linear', 'gamma': 0.6484826970530544}. Best is trial 7 with value: 0.975.\n",
      "[I 2024-07-05 21:51:05,910] Trial 59 finished with value: 0.9666666666666667 and parameters: {'C': 0.4026823497326015, 'kernel': 'linear', 'gamma': 0.6509799663112563}. Best is trial 7 with value: 0.975.\n",
      "[I 2024-07-05 21:51:05,936] Trial 62 finished with value: 0.9666666666666667 and parameters: {'C': 0.4149607370567588, 'kernel': 'linear', 'gamma': 0.17912969528136347}. Best is trial 7 with value: 0.975.\n",
      "[I 2024-07-05 21:51:06,012] Trial 61 finished with value: 0.9666666666666667 and parameters: {'C': 0.41556094184445425, 'kernel': 'linear', 'gamma': 0.6728491566777431}. Best is trial 7 with value: 0.975.\n",
      "[I 2024-07-05 21:51:06,053] Trial 63 finished with value: 0.9666666666666667 and parameters: {'C': 0.4210397829868563, 'kernel': 'linear', 'gamma': 0.6329752749857822}. Best is trial 7 with value: 0.975.\n",
      "[I 2024-07-05 21:51:06,098] Trial 65 finished with value: 0.9416666666666668 and parameters: {'C': 0.17799593029185512, 'kernel': 'rbf', 'gamma': 0.1649245569838062}. Best is trial 7 with value: 0.975.\n",
      "[I 2024-07-05 21:51:06,164] Trial 67 finished with value: 0.9416666666666668 and parameters: {'C': 0.9057094045299389, 'kernel': 'rbf', 'gamma': 0.16285863814626683}. Best is trial 7 with value: 0.975.\n",
      "[I 2024-07-05 21:51:06,169] Trial 64 finished with value: 0.9666666666666667 and parameters: {'C': 0.42336267683590467, 'kernel': 'linear', 'gamma': 0.6538787273387011}. Best is trial 7 with value: 0.975.\n",
      "[I 2024-07-05 21:51:06,171] Trial 69 finished with value: 0.9416666666666668 and parameters: {'C': 0.9045318114209135, 'kernel': 'rbf', 'gamma': 0.1567577718148425}. Best is trial 7 with value: 0.975.\n",
      "[I 2024-07-05 21:51:06,177] Trial 66 finished with value: 0.6750000000000002 and parameters: {'C': 0.033028022377508126, 'kernel': 'rbf', 'gamma': 0.19462564074269395}. Best is trial 7 with value: 0.975.\n",
      "[I 2024-07-05 21:51:06,232] Trial 68 finished with value: 0.9500000000000001 and parameters: {'C': 0.6300605800057894, 'kernel': 'rbf', 'gamma': 0.14425292945133078}. Best is trial 7 with value: 0.975.\n",
      "[I 2024-07-05 21:51:06,235] Trial 70 finished with value: 0.6750000000000002 and parameters: {'C': 0.042439936562044256, 'kernel': 'rbf', 'gamma': 0.14469851894435534}. Best is trial 7 with value: 0.975.\n",
      "[I 2024-07-05 21:51:06,271] Trial 71 finished with value: 0.9583333333333334 and parameters: {'C': 0.3740777153713093, 'kernel': 'rbf', 'gamma': 0.15060061041523934}. Best is trial 7 with value: 0.975.\n",
      "[I 2024-07-05 21:51:06,335] Trial 72 finished with value: 0.9500000000000001 and parameters: {'C': 0.5193894656010546, 'kernel': 'rbf', 'gamma': 0.13407702996212056}. Best is trial 7 with value: 0.975.\n",
      "[I 2024-07-05 21:51:06,347] Trial 73 finished with value: 0.9500000000000001 and parameters: {'C': 0.5257270757669839, 'kernel': 'rbf', 'gamma': 0.33629722244663285}. Best is trial 7 with value: 0.975.\n",
      "[I 2024-07-05 21:51:06,418] Trial 75 finished with value: 0.9500000000000001 and parameters: {'C': 0.6222477076375472, 'kernel': 'rbf', 'gamma': 0.1322401962318375}. Best is trial 7 with value: 0.975.\n",
      "[I 2024-07-05 21:51:06,431] Trial 76 finished with value: 0.9500000000000001 and parameters: {'C': 0.5226873299013627, 'kernel': 'rbf', 'gamma': 0.3372992263329013}. Best is trial 7 with value: 0.975.\n",
      "[I 2024-07-05 21:51:06,485] Trial 77 finished with value: 0.9500000000000001 and parameters: {'C': 0.5172728840610464, 'kernel': 'linear', 'gamma': 0.7641297399250856}. Best is trial 7 with value: 0.975.\n",
      "[I 2024-07-05 21:51:06,506] Trial 78 finished with value: 0.9500000000000001 and parameters: {'C': 0.517618182744414, 'kernel': 'linear', 'gamma': 0.7350727203407676}. Best is trial 7 with value: 0.975.\n",
      "[I 2024-07-05 21:51:06,526] Trial 74 finished with value: 0.9500000000000001 and parameters: {'C': 0.5321532946519916, 'kernel': 'rbf', 'gamma': 0.511441464518497}. Best is trial 7 with value: 0.975.\n",
      "[I 2024-07-05 21:51:06,593] Trial 79 finished with value: 0.9500000000000001 and parameters: {'C': 0.5129972286190787, 'kernel': 'linear', 'gamma': 0.762099913437606}. Best is trial 7 with value: 0.975.\n",
      "[I 2024-07-05 21:51:06,673] Trial 81 finished with value: 0.9583333333333334 and parameters: {'C': 0.3169054638449668, 'kernel': 'linear', 'gamma': 0.7313665137110347}. Best is trial 7 with value: 0.975.\n",
      "[I 2024-07-05 21:51:06,693] Trial 80 finished with value: 0.9583333333333334 and parameters: {'C': 0.3147729340922557, 'kernel': 'linear', 'gamma': 0.7578044337069392}. Best is trial 7 with value: 0.975.\n",
      "[I 2024-07-05 21:51:06,713] Trial 82 finished with value: 0.9583333333333334 and parameters: {'C': 0.2350769585239589, 'kernel': 'linear', 'gamma': 0.7226384345228581}. Best is trial 7 with value: 0.975.\n",
      "[I 2024-07-05 21:51:06,742] Trial 83 finished with value: 0.9583333333333334 and parameters: {'C': 0.37071036029140714, 'kernel': 'linear', 'gamma': 0.7559976899186254}. Best is trial 7 with value: 0.975.\n",
      "[I 2024-07-05 21:51:06,873] Trial 86 finished with value: 0.9583333333333334 and parameters: {'C': 0.3673141572811234, 'kernel': 'linear', 'gamma': 0.5134908478829342}. Best is trial 7 with value: 0.975.\n",
      "[I 2024-07-05 21:51:06,910] Trial 84 finished with value: 0.9583333333333334 and parameters: {'C': 0.3122398409822909, 'kernel': 'linear', 'gamma': 0.5054151522065717}. Best is trial 7 with value: 0.975.\n",
      "[I 2024-07-05 21:51:06,956] Trial 88 finished with value: 0.9583333333333334 and parameters: {'C': 0.23633331763199963, 'kernel': 'linear', 'gamma': 0.04936857051999513}. Best is trial 7 with value: 0.975.\n",
      "[I 2024-07-05 21:51:06,968] Trial 89 finished with value: 0.9583333333333334 and parameters: {'C': 0.2423268874768905, 'kernel': 'linear', 'gamma': 0.06701305344808381}. Best is trial 7 with value: 0.975.\n",
      "[I 2024-07-05 21:51:06,993] Trial 91 finished with value: 0.9583333333333334 and parameters: {'C': 0.36859258179789023, 'kernel': 'linear', 'gamma': 0.05564276960431912}. Best is trial 7 with value: 0.975.\n",
      "[I 2024-07-05 21:51:07,002] Trial 87 finished with value: 0.9583333333333334 and parameters: {'C': 0.36644511047082595, 'kernel': 'linear', 'gamma': 0.5033162530716812}. Best is trial 7 with value: 0.975.\n",
      "[I 2024-07-05 21:51:07,022] Trial 85 finished with value: 0.975 and parameters: {'C': 0.7852958362945321, 'kernel': 'linear', 'gamma': 0.06351868259890743}. Best is trial 7 with value: 0.975.\n",
      "[I 2024-07-05 21:51:07,059] Trial 90 finished with value: 0.9583333333333334 and parameters: {'C': 0.23617516443985315, 'kernel': 'linear', 'gamma': 0.7009508811690532}. Best is trial 7 with value: 0.975.\n",
      "[I 2024-07-05 21:51:07,086] Trial 93 finished with value: 0.9583333333333334 and parameters: {'C': 0.3814980132600984, 'kernel': 'linear', 'gamma': 0.6115335272029975}. Best is trial 7 with value: 0.975.\n",
      "[I 2024-07-05 21:51:07,102] Trial 92 finished with value: 0.9583333333333334 and parameters: {'C': 0.37179791246868504, 'kernel': 'linear', 'gamma': 0.6934406873068507}. Best is trial 7 with value: 0.975.\n",
      "[I 2024-07-05 21:51:07,123] Trial 95 finished with value: 0.9583333333333334 and parameters: {'C': 0.36223404665689674, 'kernel': 'linear', 'gamma': 0.5992739103685527}. Best is trial 7 with value: 0.975.\n",
      "[I 2024-07-05 21:51:07,145] Trial 94 finished with value: 0.9666666666666667 and parameters: {'C': 0.4452728778651728, 'kernel': 'linear', 'gamma': 0.6032270212601432}. Best is trial 7 with value: 0.975.\n",
      "[I 2024-07-05 21:51:07,163] Trial 96 finished with value: 0.9583333333333334 and parameters: {'C': 0.36081354164643303, 'kernel': 'linear', 'gamma': 0.6904005362985546}. Best is trial 7 with value: 0.975.\n",
      "[I 2024-07-05 21:51:07,165] Trial 99 finished with value: 0.975 and parameters: {'C': 0.7850611250772358, 'kernel': 'linear', 'gamma': 0.6129172008748487}. Best is trial 7 with value: 0.975.\n",
      "[I 2024-07-05 21:51:07,169] Trial 98 finished with value: 0.975 and parameters: {'C': 0.7791378067494497, 'kernel': 'linear', 'gamma': 0.6958198786304804}. Best is trial 7 with value: 0.975.\n",
      "[I 2024-07-05 21:51:07,179] Trial 97 finished with value: 0.9666666666666667 and parameters: {'C': 0.4406755982579123, 'kernel': 'linear', 'gamma': 0.6104690890281559}. Best is trial 7 with value: 0.975.\n"
     ]
    },
    {
     "name": "stdout",
     "output_type": "stream",
     "text": [
      "Best parameters: {'C': 0.9349413205484218, 'kernel': 'linear', 'gamma': 0.11900378926516163}\n",
      "Accuracy: 1.0\n"
     ]
    }
   ],
   "source": [
    "import optuna\n",
    "from sklearn import datasets\n",
    "from sklearn.model_selection import train_test_split\n",
    "from sklearn.svm import SVC\n",
    "from optuna.integration import OptunaSearchCV\n",
    "from sklearn.metrics import accuracy_score\n",
    "\n",
    "# Load data\n",
    "iris = datasets.load_iris()\n",
    "X, y = iris.data, iris.target\n",
    "\n",
    "# Split data into training and test sets\n",
    "X_train, X_test, y_train, y_test = train_test_split(X, y, test_size=0.2, random_state=42)\n",
    "\n",
    "# Define a simple model\n",
    "model = SVC()\n",
    "\n",
    "# Create a parameter distribution dictionary\n",
    "param_distributions = {\n",
    "    'C': optuna.distributions.FloatDistribution(0.01, 1),\n",
    "    'kernel': optuna.distributions.CategoricalDistribution(['linear', 'poly', 'rbf', 'sigmoid']),\n",
    "    'gamma': optuna.distributions.FloatDistribution(0.01, 1)\n",
    "}\n",
    "\n",
    "# Setup OptunaSearchCV\n",
    "optuna_search = OptunaSearchCV(\n",
    "    model,\n",
    "    param_distributions,\n",
    "    cv=3,\n",
    "    return_train_score=True,\n",
    "    n_trials=100,  # Number of trials to conduct\n",
    "    timeout=600,   # Stop study after 600 seconds\n",
    "    n_jobs=-1      # Use all available CPUs\n",
    ")\n",
    "\n",
    "# Fit the OptunaSearchCV to find the best hyperparameters\n",
    "optuna_search.fit(X_train, y_train)\n",
    "\n",
    "# Best parameters found\n",
    "print(\"Best parameters:\", optuna_search.best_params_)\n",
    "\n",
    "# Predict using the best model\n",
    "predictions = optuna_search.predict(X_test)\n",
    "accuracy = accuracy_score(y_test, predictions)\n",
    "print(\"Accuracy:\", accuracy)\n"
   ]
  },
  {
   "cell_type": "code",
   "execution_count": 9,
   "metadata": {},
   "outputs": [
    {
     "data": {
      "text/plain": [
       "[FrozenTrial(number=0, state=1, values=[0.7333333333333334], datetime_start=datetime.datetime(2024, 7, 5, 21, 51, 4, 60412), datetime_complete=datetime.datetime(2024, 7, 5, 21, 51, 4, 178575), params={'C': 0.2902145176469904, 'kernel': 'rbf', 'gamma': 0.013237285050805424}, user_attrs={'mean_fit_time': 0.017210642496744793, 'std_fit_time': 0.008458070571432984, 'mean_score_time': 0.006486733754475911, 'std_score_time': 0.004938715149793585, 'split0_test_score': 0.775, 'split1_test_score': 0.7, 'split2_test_score': 0.725, 'mean_test_score': 0.7333333333333334, 'std_test_score': 0.031180478223116204, 'split0_train_score': 0.7, 'split1_train_score': 0.75, 'split2_train_score': 0.7375, 'mean_train_score': 0.7291666666666666, 'std_train_score': 0.021245914639969964}, system_attrs={'terminator:cv_scores': [0.775, 0.7, 0.725]}, intermediate_values={}, distributions={'C': FloatDistribution(high=1.0, log=False, low=0.01, step=None), 'kernel': CategoricalDistribution(choices=('linear', 'poly', 'rbf', 'sigmoid')), 'gamma': FloatDistribution(high=1.0, log=False, low=0.01, step=None)}, trial_id=0, value=None),\n",
       " FrozenTrial(number=1, state=1, values=[0.9500000000000001], datetime_start=datetime.datetime(2024, 7, 5, 21, 51, 4, 67747), datetime_complete=datetime.datetime(2024, 7, 5, 21, 51, 4, 148616), params={'C': 0.5295357139760623, 'kernel': 'rbf', 'gamma': 0.36190732697212463}, user_attrs={'mean_fit_time': 0.014078776041666666, 'std_fit_time': 0.008649751519216573, 'mean_score_time': 0.005309263865152995, 'std_score_time': 0.00300655629109779, 'split0_test_score': 0.975, 'split1_test_score': 0.9, 'split2_test_score': 0.975, 'mean_test_score': 0.9500000000000001, 'std_test_score': 0.035355339059327355, 'split0_train_score': 0.95, 'split1_train_score': 1.0, 'split2_train_score': 0.95, 'mean_train_score': 0.9666666666666667, 'std_train_score': 0.023570226039551608}, system_attrs={'terminator:cv_scores': [0.975, 0.9, 0.975]}, intermediate_values={}, distributions={'C': FloatDistribution(high=1.0, log=False, low=0.01, step=None), 'kernel': CategoricalDistribution(choices=('linear', 'poly', 'rbf', 'sigmoid')), 'gamma': FloatDistribution(high=1.0, log=False, low=0.01, step=None)}, trial_id=1, value=None),\n",
       " FrozenTrial(number=2, state=1, values=[0.9666666666666667], datetime_start=datetime.datetime(2024, 7, 5, 21, 51, 4, 74082), datetime_complete=datetime.datetime(2024, 7, 5, 21, 51, 4, 231918), params={'C': 0.4747264902065602, 'kernel': 'linear', 'gamma': 0.6983833886917294}, user_attrs={'mean_fit_time': 0.02094610532124837, 'std_fit_time': 0.012559302547139627, 'mean_score_time': 0.00865467389424642, 'std_score_time': 0.0046491259073534515, 'split0_test_score': 1.0, 'split1_test_score': 0.9, 'split2_test_score': 1.0, 'mean_test_score': 0.9666666666666667, 'std_test_score': 0.04714045207910316, 'split0_train_score': 0.9875, 'split1_train_score': 1.0, 'split2_train_score': 0.95, 'mean_train_score': 0.9791666666666666, 'std_train_score': 0.021245914639969964}, system_attrs={'terminator:cv_scores': [1.0, 0.9, 1.0]}, intermediate_values={}, distributions={'C': FloatDistribution(high=1.0, log=False, low=0.01, step=None), 'kernel': CategoricalDistribution(choices=('linear', 'poly', 'rbf', 'sigmoid')), 'gamma': FloatDistribution(high=1.0, log=False, low=0.01, step=None)}, trial_id=2, value=None),\n",
       " FrozenTrial(number=3, state=1, values=[0.2416666666666667], datetime_start=datetime.datetime(2024, 7, 5, 21, 51, 4, 80877), datetime_complete=datetime.datetime(2024, 7, 5, 21, 51, 4, 212119), params={'C': 0.08216413423666045, 'kernel': 'sigmoid', 'gamma': 0.19967276180634083}, user_attrs={'mean_fit_time': 0.018395344416300457, 'std_fit_time': 0.003632831054905349, 'mean_score_time': 0.008200248082478842, 'std_score_time': 0.003417524471018165, 'split0_test_score': 0.325, 'split1_test_score': 0.2, 'split2_test_score': 0.2, 'mean_test_score': 0.2416666666666667, 'std_test_score': 0.05892556509887896, 'split0_train_score': 0.35, 'split1_train_score': 0.2375, 'split2_train_score': 0.2375, 'mean_train_score': 0.27499999999999997, 'std_train_score': 0.05303300858899106}, system_attrs={'terminator:cv_scores': [0.325, 0.2, 0.2]}, intermediate_values={}, distributions={'C': FloatDistribution(high=1.0, log=False, low=0.01, step=None), 'kernel': CategoricalDistribution(choices=('linear', 'poly', 'rbf', 'sigmoid')), 'gamma': FloatDistribution(high=1.0, log=False, low=0.01, step=None)}, trial_id=3, value=None),\n",
       " FrozenTrial(number=4, state=1, values=[0.9416666666666668], datetime_start=datetime.datetime(2024, 7, 5, 21, 51, 4, 84172), datetime_complete=datetime.datetime(2024, 7, 5, 21, 51, 4, 172238), params={'C': 0.20592782276453386, 'kernel': 'poly', 'gamma': 0.9612114538483573}, user_attrs={'mean_fit_time': 0.009521881739298502, 'std_fit_time': 0.0032147481377670924, 'mean_score_time': 0.0050353209177653, 'std_score_time': 0.003012949843219676, 'split0_test_score': 0.95, 'split1_test_score': 0.9, 'split2_test_score': 0.975, 'mean_test_score': 0.9416666666666668, 'std_test_score': 0.03118047822311616, 'split0_train_score': 0.9875, 'split1_train_score': 1.0, 'split2_train_score': 0.975, 'mean_train_score': 0.9874999999999999, 'std_train_score': 0.010206207261596585}, system_attrs={'terminator:cv_scores': [0.95, 0.9, 0.975]}, intermediate_values={}, distributions={'C': FloatDistribution(high=1.0, log=False, low=0.01, step=None), 'kernel': CategoricalDistribution(choices=('linear', 'poly', 'rbf', 'sigmoid')), 'gamma': FloatDistribution(high=1.0, log=False, low=0.01, step=None)}, trial_id=4, value=None),\n",
       " FrozenTrial(number=5, state=1, values=[0.325], datetime_start=datetime.datetime(2024, 7, 5, 21, 51, 4, 88127), datetime_complete=datetime.datetime(2024, 7, 5, 21, 51, 4, 183766), params={'C': 0.9336066846146562, 'kernel': 'sigmoid', 'gamma': 0.7082614051302398}, user_attrs={'mean_fit_time': 0.0075072447458903, 'std_fit_time': 0.0036889896495498676, 'mean_score_time': 0.008132219314575195, 'std_score_time': 0.0009578715191403441, 'split0_test_score': 0.325, 'split1_test_score': 0.325, 'split2_test_score': 0.325, 'mean_test_score': 0.325, 'std_test_score': 0.0, 'split0_train_score': 0.35, 'split1_train_score': 0.3375, 'split2_train_score': 0.3375, 'mean_train_score': 0.3416666666666666, 'std_train_score': 0.005892556509887875}, system_attrs={'terminator:cv_scores': [0.325, 0.325, 0.325]}, intermediate_values={}, distributions={'C': FloatDistribution(high=1.0, log=False, low=0.01, step=None), 'kernel': CategoricalDistribution(choices=('linear', 'poly', 'rbf', 'sigmoid')), 'gamma': FloatDistribution(high=1.0, log=False, low=0.01, step=None)}, trial_id=5, value=None),\n",
       " FrozenTrial(number=6, state=1, values=[0.9500000000000001], datetime_start=datetime.datetime(2024, 7, 5, 21, 51, 4, 97810), datetime_complete=datetime.datetime(2024, 7, 5, 21, 51, 4, 193124), params={'C': 0.8381018049919132, 'kernel': 'rbf', 'gamma': 0.34133148908477967}, user_attrs={'mean_fit_time': 0.007735649744669597, 'std_fit_time': 0.006887200908241352, 'mean_score_time': 0.009674866994222006, 'std_score_time': 0.005386144655175152, 'split0_test_score': 0.975, 'split1_test_score': 0.9, 'split2_test_score': 0.975, 'mean_test_score': 0.9500000000000001, 'std_test_score': 0.035355339059327355, 'split0_train_score': 0.9625, 'split1_train_score': 1.0, 'split2_train_score': 0.9625, 'mean_train_score': 0.975, 'std_train_score': 0.017677669529663678}, system_attrs={'terminator:cv_scores': [0.975, 0.9, 0.975]}, intermediate_values={}, distributions={'C': FloatDistribution(high=1.0, log=False, low=0.01, step=None), 'kernel': CategoricalDistribution(choices=('linear', 'poly', 'rbf', 'sigmoid')), 'gamma': FloatDistribution(high=1.0, log=False, low=0.01, step=None)}, trial_id=6, value=None),\n",
       " FrozenTrial(number=7, state=1, values=[0.975], datetime_start=datetime.datetime(2024, 7, 5, 21, 51, 4, 105301), datetime_complete=datetime.datetime(2024, 7, 5, 21, 51, 4, 245639), params={'C': 0.9349413205484218, 'kernel': 'linear', 'gamma': 0.11900378926516163}, user_attrs={'mean_fit_time': 0.005092938741048177, 'std_fit_time': 0.0031788918911614694, 'mean_score_time': 0.002791245778401693, 'std_score_time': 0.0013386305678631174, 'split0_test_score': 1.0, 'split1_test_score': 0.925, 'split2_test_score': 1.0, 'mean_test_score': 0.975, 'std_test_score': 0.035355339059327355, 'split0_train_score': 0.9875, 'split1_train_score': 1.0, 'split2_train_score': 0.9625, 'mean_train_score': 0.9833333333333334, 'std_train_score': 0.015590239111558084}, system_attrs={'terminator:cv_scores': [1.0, 0.925, 1.0]}, intermediate_values={}, distributions={'C': FloatDistribution(high=1.0, log=False, low=0.01, step=None), 'kernel': CategoricalDistribution(choices=('linear', 'poly', 'rbf', 'sigmoid')), 'gamma': FloatDistribution(high=1.0, log=False, low=0.01, step=None)}, trial_id=7, value=None),\n",
       " FrozenTrial(number=8, state=1, values=[0.9500000000000001], datetime_start=datetime.datetime(2024, 7, 5, 21, 51, 4, 151794), datetime_complete=datetime.datetime(2024, 7, 5, 21, 51, 4, 271803), params={'C': 0.14398498275157495, 'kernel': 'linear', 'gamma': 0.7501423525772609}, user_attrs={'mean_fit_time': 0.014133850733439127, 'std_fit_time': 0.008238810220850438, 'mean_score_time': 0.005184650421142578, 'std_score_time': 0.0020776978651562274, 'split0_test_score': 0.975, 'split1_test_score': 0.9, 'split2_test_score': 0.975, 'mean_test_score': 0.9500000000000001, 'std_test_score': 0.035355339059327355, 'split0_train_score': 0.9625, 'split1_train_score': 1.0, 'split2_train_score': 0.9625, 'mean_train_score': 0.975, 'std_train_score': 0.017677669529663678}, system_attrs={'terminator:cv_scores': [0.975, 0.9, 0.975]}, intermediate_values={}, distributions={'C': FloatDistribution(high=1.0, log=False, low=0.01, step=None), 'kernel': CategoricalDistribution(choices=('linear', 'poly', 'rbf', 'sigmoid')), 'gamma': FloatDistribution(high=1.0, log=False, low=0.01, step=None)}, trial_id=8, value=None),\n",
       " FrozenTrial(number=9, state=1, values=[0.3416666666666666], datetime_start=datetime.datetime(2024, 7, 5, 21, 51, 4, 160247), datetime_complete=datetime.datetime(2024, 7, 5, 21, 51, 4, 257339), params={'C': 0.8248100888409801, 'kernel': 'sigmoid', 'gamma': 0.7359477661555631}, user_attrs={'mean_fit_time': 0.016209840774536133, 'std_fit_time': 0.0032215739563309534, 'mean_score_time': 0.00566562016805013, 'std_score_time': 0.00500908634852512, 'split0_test_score': 0.325, 'split1_test_score': 0.35, 'split2_test_score': 0.35, 'mean_test_score': 0.3416666666666666, 'std_test_score': 0.011785113019775776, 'split0_train_score': 0.35, 'split1_train_score': 0.3375, 'split2_train_score': 0.3375, 'mean_train_score': 0.3416666666666666, 'std_train_score': 0.005892556509887875}, system_attrs={'terminator:cv_scores': [0.325, 0.35, 0.35]}, intermediate_values={}, distributions={'C': FloatDistribution(high=1.0, log=False, low=0.01, step=None), 'kernel': CategoricalDistribution(choices=('linear', 'poly', 'rbf', 'sigmoid')), 'gamma': FloatDistribution(high=1.0, log=False, low=0.01, step=None)}, trial_id=9, value=None),\n",
       " FrozenTrial(number=10, state=1, values=[0.9416666666666668], datetime_start=datetime.datetime(2024, 7, 5, 21, 51, 4, 195694), datetime_complete=datetime.datetime(2024, 7, 5, 21, 51, 4, 299726), params={'C': 0.50193195380426, 'kernel': 'poly', 'gamma': 0.6666788450010056}, user_attrs={'mean_fit_time': 0.015269597371419271, 'std_fit_time': 0.0026462034475906934, 'mean_score_time': 0.005235354105631511, 'std_score_time': 0.005087463371376225, 'split0_test_score': 0.95, 'split1_test_score': 0.9, 'split2_test_score': 0.975, 'mean_test_score': 0.9416666666666668, 'std_test_score': 0.03118047822311616, 'split0_train_score': 0.9875, 'split1_train_score': 1.0, 'split2_train_score': 0.975, 'mean_train_score': 0.9874999999999999, 'std_train_score': 0.010206207261596585}, system_attrs={'terminator:cv_scores': [0.95, 0.9, 0.975]}, intermediate_values={}, distributions={'C': FloatDistribution(high=1.0, log=False, low=0.01, step=None), 'kernel': CategoricalDistribution(choices=('linear', 'poly', 'rbf', 'sigmoid')), 'gamma': FloatDistribution(high=1.0, log=False, low=0.01, step=None)}, trial_id=10, value=None),\n",
       " FrozenTrial(number=11, state=1, values=[0.9500000000000001], datetime_start=datetime.datetime(2024, 7, 5, 21, 51, 4, 198998), datetime_complete=datetime.datetime(2024, 7, 5, 21, 51, 4, 308079), params={'C': 0.8214812249804648, 'kernel': 'rbf', 'gamma': 0.4303908996252167}, user_attrs={'mean_fit_time': 0.01102598508199056, 'std_fit_time': 0.00486532813464453, 'mean_score_time': 0.013799746831258139, 'std_score_time': 0.005090231498390056, 'split0_test_score': 0.975, 'split1_test_score': 0.9, 'split2_test_score': 0.975, 'mean_test_score': 0.9500000000000001, 'std_test_score': 0.035355339059327355, 'split0_train_score': 0.9625, 'split1_train_score': 1.0, 'split2_train_score': 0.95, 'mean_train_score': 0.9708333333333332, 'std_train_score': 0.021245914639969946}, system_attrs={'terminator:cv_scores': [0.975, 0.9, 0.975]}, intermediate_values={}, distributions={'C': FloatDistribution(high=1.0, log=False, low=0.01, step=None), 'kernel': CategoricalDistribution(choices=('linear', 'poly', 'rbf', 'sigmoid')), 'gamma': FloatDistribution(high=1.0, log=False, low=0.01, step=None)}, trial_id=11, value=None),\n",
       " FrozenTrial(number=12, state=1, values=[0.9416666666666668], datetime_start=datetime.datetime(2024, 7, 5, 21, 51, 4, 213668), datetime_complete=datetime.datetime(2024, 7, 5, 21, 51, 4, 286262), params={'C': 0.7966043805768662, 'kernel': 'rbf', 'gamma': 0.02295671325242095}, user_attrs={'mean_fit_time': 0.012831608454386393, 'std_fit_time': 0.003654028584977205, 'mean_score_time': 0.0040289560953776045, 'std_score_time': 0.0021472523224140105, 'split0_test_score': 0.975, 'split1_test_score': 0.925, 'split2_test_score': 0.925, 'mean_test_score': 0.9416666666666668, 'std_test_score': 0.023570226039551553, 'split0_train_score': 0.9125, 'split1_train_score': 0.9375, 'split2_train_score': 0.9, 'mean_train_score': 0.9166666666666666, 'std_train_score': 0.015590239111558084}, system_attrs={'terminator:cv_scores': [0.975, 0.925, 0.925]}, intermediate_values={}, distributions={'C': FloatDistribution(high=1.0, log=False, low=0.01, step=None), 'kernel': CategoricalDistribution(choices=('linear', 'poly', 'rbf', 'sigmoid')), 'gamma': FloatDistribution(high=1.0, log=False, low=0.01, step=None)}, trial_id=12, value=None),\n",
       " FrozenTrial(number=13, state=1, values=[0.9333333333333332], datetime_start=datetime.datetime(2024, 7, 5, 21, 51, 4, 235192), datetime_complete=datetime.datetime(2024, 7, 5, 21, 51, 4, 327914), params={'C': 0.981371095362523, 'kernel': 'poly', 'gamma': 0.7898537670260812}, user_attrs={'mean_fit_time': 0.015190362930297852, 'std_fit_time': 0.0035712538439496887, 'mean_score_time': 0.001680453618367513, 'std_score_time': 0.0008599509576175039, 'split0_test_score': 0.95, 'split1_test_score': 0.9, 'split2_test_score': 0.95, 'mean_test_score': 0.9333333333333332, 'std_test_score': 0.023570226039551553, 'split0_train_score': 1.0, 'split1_train_score': 1.0, 'split2_train_score': 0.975, 'mean_train_score': 0.9916666666666667, 'std_train_score': 0.011785113019775802}, system_attrs={'terminator:cv_scores': [0.95, 0.9, 0.95]}, intermediate_values={}, distributions={'C': FloatDistribution(high=1.0, log=False, low=0.01, step=None), 'kernel': CategoricalDistribution(choices=('linear', 'poly', 'rbf', 'sigmoid')), 'gamma': FloatDistribution(high=1.0, log=False, low=0.01, step=None)}, trial_id=13, value=None),\n",
       " FrozenTrial(number=14, state=1, values=[0.9499999999999998], datetime_start=datetime.datetime(2024, 7, 5, 21, 51, 4, 262329), datetime_complete=datetime.datetime(2024, 7, 5, 21, 51, 4, 410055), params={'C': 0.1445232219227384, 'kernel': 'rbf', 'gamma': 0.31087873376120323}, user_attrs={'mean_fit_time': 0.020373106002807617, 'std_fit_time': 0.005083205509853291, 'mean_score_time': 0.015783945719401043, 'std_score_time': 0.01560271501921483, 'split0_test_score': 0.975, 'split1_test_score': 0.925, 'split2_test_score': 0.95, 'mean_test_score': 0.9499999999999998, 'std_test_score': 0.020412414523193124, 'split0_train_score': 0.9125, 'split1_train_score': 0.975, 'split2_train_score': 0.9375, 'mean_train_score': 0.9416666666666668, 'std_train_score': 0.02568505834570407}, system_attrs={'terminator:cv_scores': [0.975, 0.925, 0.95]}, intermediate_values={}, distributions={'C': FloatDistribution(high=1.0, log=False, low=0.01, step=None), 'kernel': CategoricalDistribution(choices=('linear', 'poly', 'rbf', 'sigmoid')), 'gamma': FloatDistribution(high=1.0, log=False, low=0.01, step=None)}, trial_id=14, value=None),\n",
       " FrozenTrial(number=15, state=1, values=[0.9500000000000001], datetime_start=datetime.datetime(2024, 7, 5, 21, 51, 4, 288904), datetime_complete=datetime.datetime(2024, 7, 5, 21, 51, 4, 465505), params={'C': 0.5580365780755701, 'kernel': 'linear', 'gamma': 0.5432799779076498}, user_attrs={'mean_fit_time': 0.005637248357137044, 'std_fit_time': 0.0029720237943591976, 'mean_score_time': 0.01084295908610026, 'std_score_time': 0.011861510651262648, 'split0_test_score': 0.975, 'split1_test_score': 0.9, 'split2_test_score': 0.975, 'mean_test_score': 0.9500000000000001, 'std_test_score': 0.035355339059327355, 'split0_train_score': 0.9875, 'split1_train_score': 1.0, 'split2_train_score': 0.95, 'mean_train_score': 0.9791666666666666, 'std_train_score': 0.021245914639969964}, system_attrs={'terminator:cv_scores': [0.975, 0.9, 0.975]}, intermediate_values={}, distributions={'C': FloatDistribution(high=1.0, log=False, low=0.01, step=None), 'kernel': CategoricalDistribution(choices=('linear', 'poly', 'rbf', 'sigmoid')), 'gamma': FloatDistribution(high=1.0, log=False, low=0.01, step=None)}, trial_id=15, value=None),\n",
       " FrozenTrial(number=16, state=1, values=[0.9500000000000001], datetime_start=datetime.datetime(2024, 7, 5, 21, 51, 4, 317974), datetime_complete=datetime.datetime(2024, 7, 5, 21, 51, 4, 472525), params={'C': 0.5585854898841616, 'kernel': 'linear', 'gamma': 0.5735741124755869}, user_attrs={'mean_fit_time': 0.023773908615112305, 'std_fit_time': 0.021506823307635668, 'mean_score_time': 0.004014174143473308, 'std_score_time': 0.0022618377615630553, 'split0_test_score': 0.975, 'split1_test_score': 0.9, 'split2_test_score': 0.975, 'mean_test_score': 0.9500000000000001, 'std_test_score': 0.035355339059327355, 'split0_train_score': 0.9875, 'split1_train_score': 1.0, 'split2_train_score': 0.95, 'mean_train_score': 0.9791666666666666, 'std_train_score': 0.021245914639969964}, system_attrs={'terminator:cv_scores': [0.975, 0.9, 0.975]}, intermediate_values={}, distributions={'C': FloatDistribution(high=1.0, log=False, low=0.01, step=None), 'kernel': CategoricalDistribution(choices=('linear', 'poly', 'rbf', 'sigmoid')), 'gamma': FloatDistribution(high=1.0, log=False, low=0.01, step=None)}, trial_id=16, value=None),\n",
       " FrozenTrial(number=17, state=1, values=[0.9500000000000001], datetime_start=datetime.datetime(2024, 7, 5, 21, 51, 4, 328698), datetime_complete=datetime.datetime(2024, 7, 5, 21, 51, 4, 489430), params={'C': 0.5835034791513082, 'kernel': 'linear', 'gamma': 0.5486024947116968}, user_attrs={'mean_fit_time': 0.016248067220052082, 'std_fit_time': 0.019217423234752923, 'mean_score_time': 0.003157933553059896, 'std_score_time': 0.0011625627677172214, 'split0_test_score': 0.975, 'split1_test_score': 0.9, 'split2_test_score': 0.975, 'mean_test_score': 0.9500000000000001, 'std_test_score': 0.035355339059327355, 'split0_train_score': 0.9625, 'split1_train_score': 1.0, 'split2_train_score': 0.95, 'mean_train_score': 0.9708333333333332, 'std_train_score': 0.021245914639969946}, system_attrs={'terminator:cv_scores': [0.975, 0.9, 0.975]}, intermediate_values={}, distributions={'C': FloatDistribution(high=1.0, log=False, low=0.01, step=None), 'kernel': CategoricalDistribution(choices=('linear', 'poly', 'rbf', 'sigmoid')), 'gamma': FloatDistribution(high=1.0, log=False, low=0.01, step=None)}, trial_id=17, value=None),\n",
       " FrozenTrial(number=18, state=1, values=[0.9500000000000001], datetime_start=datetime.datetime(2024, 7, 5, 21, 51, 4, 345048), datetime_complete=datetime.datetime(2024, 7, 5, 21, 51, 4, 516228), params={'C': 0.5786898840484651, 'kernel': 'linear', 'gamma': 0.5524176221809133}, user_attrs={'mean_fit_time': 0.014959335327148438, 'std_fit_time': 0.007059439532010264, 'mean_score_time': 0.009142398834228516, 'std_score_time': 0.007922070875101316, 'split0_test_score': 0.975, 'split1_test_score': 0.9, 'split2_test_score': 0.975, 'mean_test_score': 0.9500000000000001, 'std_test_score': 0.035355339059327355, 'split0_train_score': 0.9875, 'split1_train_score': 1.0, 'split2_train_score': 0.95, 'mean_train_score': 0.9791666666666666, 'std_train_score': 0.021245914639969964}, system_attrs={'terminator:cv_scores': [0.975, 0.9, 0.975]}, intermediate_values={}, distributions={'C': FloatDistribution(high=1.0, log=False, low=0.01, step=None), 'kernel': CategoricalDistribution(choices=('linear', 'poly', 'rbf', 'sigmoid')), 'gamma': FloatDistribution(high=1.0, log=False, low=0.01, step=None)}, trial_id=18, value=None),\n",
       " FrozenTrial(number=19, state=1, values=[0.9500000000000001], datetime_start=datetime.datetime(2024, 7, 5, 21, 51, 4, 382315), datetime_complete=datetime.datetime(2024, 7, 5, 21, 51, 4, 554155), params={'C': 0.5779367984645982, 'kernel': 'linear', 'gamma': 0.5838042380058345}, user_attrs={'mean_fit_time': 0.012748161951700846, 'std_fit_time': 0.008459417469928907, 'mean_score_time': 0.015189250310262045, 'std_score_time': 0.006286852733619127, 'split0_test_score': 0.975, 'split1_test_score': 0.9, 'split2_test_score': 0.975, 'mean_test_score': 0.9500000000000001, 'std_test_score': 0.035355339059327355, 'split0_train_score': 0.9875, 'split1_train_score': 1.0, 'split2_train_score': 0.95, 'mean_train_score': 0.9791666666666666, 'std_train_score': 0.021245914639969964}, system_attrs={'terminator:cv_scores': [0.975, 0.9, 0.975]}, intermediate_values={}, distributions={'C': FloatDistribution(high=1.0, log=False, low=0.01, step=None), 'kernel': CategoricalDistribution(choices=('linear', 'poly', 'rbf', 'sigmoid')), 'gamma': FloatDistribution(high=1.0, log=False, low=0.01, step=None)}, trial_id=19, value=None),\n",
       " FrozenTrial(number=20, state=1, values=[0.9500000000000001], datetime_start=datetime.datetime(2024, 7, 5, 21, 51, 4, 423156), datetime_complete=datetime.datetime(2024, 7, 5, 21, 51, 4, 642995), params={'C': 0.5857658740332206, 'kernel': 'linear', 'gamma': 0.5505912040974259}, user_attrs={'mean_fit_time': 0.011327505111694336, 'std_fit_time': 0.0056850792585477795, 'mean_score_time': 0.0135649045308431, 'std_score_time': 0.008748611711417633, 'split0_test_score': 0.975, 'split1_test_score': 0.9, 'split2_test_score': 0.975, 'mean_test_score': 0.9500000000000001, 'std_test_score': 0.035355339059327355, 'split0_train_score': 0.9625, 'split1_train_score': 1.0, 'split2_train_score': 0.95, 'mean_train_score': 0.9708333333333332, 'std_train_score': 0.021245914639969946}, system_attrs={'terminator:cv_scores': [0.975, 0.9, 0.975]}, intermediate_values={}, distributions={'C': FloatDistribution(high=1.0, log=False, low=0.01, step=None), 'kernel': CategoricalDistribution(choices=('linear', 'poly', 'rbf', 'sigmoid')), 'gamma': FloatDistribution(high=1.0, log=False, low=0.01, step=None)}, trial_id=20, value=None),\n",
       " FrozenTrial(number=21, state=1, values=[0.9500000000000001], datetime_start=datetime.datetime(2024, 7, 5, 21, 51, 4, 444015), datetime_complete=datetime.datetime(2024, 7, 5, 21, 51, 4, 587882), params={'C': 0.5257469325332131, 'kernel': 'linear', 'gamma': 0.5887265058725617}, user_attrs={'mean_fit_time': 0.005876700083414714, 'std_fit_time': 0.0022425409762009386, 'mean_score_time': 0.013344208399454752, 'std_score_time': 0.00418135525182673, 'split0_test_score': 0.975, 'split1_test_score': 0.9, 'split2_test_score': 0.975, 'mean_test_score': 0.9500000000000001, 'std_test_score': 0.035355339059327355, 'split0_train_score': 0.9875, 'split1_train_score': 1.0, 'split2_train_score': 0.95, 'mean_train_score': 0.9791666666666666, 'std_train_score': 0.021245914639969964}, system_attrs={'terminator:cv_scores': [0.975, 0.9, 0.975]}, intermediate_values={}, distributions={'C': FloatDistribution(high=1.0, log=False, low=0.01, step=None), 'kernel': CategoricalDistribution(choices=('linear', 'poly', 'rbf', 'sigmoid')), 'gamma': FloatDistribution(high=1.0, log=False, low=0.01, step=None)}, trial_id=21, value=None),\n",
       " FrozenTrial(number=22, state=1, values=[0.9666666666666667], datetime_start=datetime.datetime(2024, 7, 5, 21, 51, 4, 467430), datetime_complete=datetime.datetime(2024, 7, 5, 21, 51, 4, 715107), params={'C': 0.3984137595655707, 'kernel': 'linear', 'gamma': 0.5526978971760546}, user_attrs={'mean_fit_time': 0.015166997909545898, 'std_fit_time': 0.005869161598243598, 'mean_score_time': 0.004411141077677409, 'std_score_time': 0.003835329414525448, 'split0_test_score': 1.0, 'split1_test_score': 0.9, 'split2_test_score': 1.0, 'mean_test_score': 0.9666666666666667, 'std_test_score': 0.04714045207910316, 'split0_train_score': 0.975, 'split1_train_score': 1.0, 'split2_train_score': 0.9625, 'mean_train_score': 0.9791666666666666, 'std_train_score': 0.015590239111558084}, system_attrs={'terminator:cv_scores': [1.0, 0.9, 1.0]}, intermediate_values={}, distributions={'C': FloatDistribution(high=1.0, log=False, low=0.01, step=None), 'kernel': CategoricalDistribution(choices=('linear', 'poly', 'rbf', 'sigmoid')), 'gamma': FloatDistribution(high=1.0, log=False, low=0.01, step=None)}, trial_id=22, value=None),\n",
       " FrozenTrial(number=23, state=1, values=[0.9583333333333334], datetime_start=datetime.datetime(2024, 7, 5, 21, 51, 4, 476074), datetime_complete=datetime.datetime(2024, 7, 5, 21, 51, 4, 670505), params={'C': 0.3673383817188218, 'kernel': 'linear', 'gamma': 0.9032202065701035}, user_attrs={'mean_fit_time': 0.007789770762125651, 'std_fit_time': 0.0041467036175853985, 'mean_score_time': 0.005301952362060547, 'std_score_time': 0.003133740216210825, 'split0_test_score': 0.975, 'split1_test_score': 0.9, 'split2_test_score': 1.0, 'mean_test_score': 0.9583333333333334, 'std_test_score': 0.04249182927993986, 'split0_train_score': 0.9625, 'split1_train_score': 1.0, 'split2_train_score': 0.9625, 'mean_train_score': 0.975, 'std_train_score': 0.017677669529663678}, system_attrs={'terminator:cv_scores': [0.975, 0.9, 1.0]}, intermediate_values={}, distributions={'C': FloatDistribution(high=1.0, log=False, low=0.01, step=None), 'kernel': CategoricalDistribution(choices=('linear', 'poly', 'rbf', 'sigmoid')), 'gamma': FloatDistribution(high=1.0, log=False, low=0.01, step=None)}, trial_id=23, value=None),\n",
       " FrozenTrial(number=24, state=1, values=[0.9666666666666667], datetime_start=datetime.datetime(2024, 7, 5, 21, 51, 4, 526463), datetime_complete=datetime.datetime(2024, 7, 5, 21, 51, 4, 711714), params={'C': 0.39936500944198494, 'kernel': 'linear', 'gamma': 0.18957773240166947}, user_attrs={'mean_fit_time': 0.0063288211822509766, 'std_fit_time': 0.0025772711024986033, 'mean_score_time': 0.014207601547241211, 'std_score_time': 0.008070462915708499, 'split0_test_score': 1.0, 'split1_test_score': 0.9, 'split2_test_score': 1.0, 'mean_test_score': 0.9666666666666667, 'std_test_score': 0.04714045207910316, 'split0_train_score': 0.975, 'split1_train_score': 1.0, 'split2_train_score': 0.9625, 'mean_train_score': 0.9791666666666666, 'std_train_score': 0.015590239111558084}, system_attrs={'terminator:cv_scores': [1.0, 0.9, 1.0]}, intermediate_values={}, distributions={'C': FloatDistribution(high=1.0, log=False, low=0.01, step=None), 'kernel': CategoricalDistribution(choices=('linear', 'poly', 'rbf', 'sigmoid')), 'gamma': FloatDistribution(high=1.0, log=False, low=0.01, step=None)}, trial_id=24, value=None),\n",
       " FrozenTrial(number=25, state=1, values=[0.9583333333333334], datetime_start=datetime.datetime(2024, 7, 5, 21, 51, 4, 535159), datetime_complete=datetime.datetime(2024, 7, 5, 21, 51, 4, 719266), params={'C': 0.3913134535809085, 'kernel': 'linear', 'gamma': 0.17451632261838101}, user_attrs={'mean_fit_time': 0.013497432072957357, 'std_fit_time': 0.008644553417061286, 'mean_score_time': 0.01751232147216797, 'std_score_time': 0.012241320804629578, 'split0_test_score': 0.975, 'split1_test_score': 0.9, 'split2_test_score': 1.0, 'mean_test_score': 0.9583333333333334, 'std_test_score': 0.04249182927993986, 'split0_train_score': 0.975, 'split1_train_score': 1.0, 'split2_train_score': 0.9625, 'mean_train_score': 0.9791666666666666, 'std_train_score': 0.015590239111558084}, system_attrs={'terminator:cv_scores': [0.975, 0.9, 1.0]}, intermediate_values={}, distributions={'C': FloatDistribution(high=1.0, log=False, low=0.01, step=None), 'kernel': CategoricalDistribution(choices=('linear', 'poly', 'rbf', 'sigmoid')), 'gamma': FloatDistribution(high=1.0, log=False, low=0.01, step=None)}, trial_id=25, value=None),\n",
       " FrozenTrial(number=26, state=1, values=[0.9666666666666667], datetime_start=datetime.datetime(2024, 7, 5, 21, 51, 4, 623543), datetime_complete=datetime.datetime(2024, 7, 5, 21, 51, 4, 761370), params={'C': 0.39688382424898383, 'kernel': 'linear', 'gamma': 0.12819552615400823}, user_attrs={'mean_fit_time': 0.009764432907104492, 'std_fit_time': 0.006182334068702899, 'mean_score_time': 0.004949331283569336, 'std_score_time': 0.005566027939224758, 'split0_test_score': 1.0, 'split1_test_score': 0.9, 'split2_test_score': 1.0, 'mean_test_score': 0.9666666666666667, 'std_test_score': 0.04714045207910316, 'split0_train_score': 0.975, 'split1_train_score': 1.0, 'split2_train_score': 0.9625, 'mean_train_score': 0.9791666666666666, 'std_train_score': 0.015590239111558084}, system_attrs={'terminator:cv_scores': [1.0, 0.9, 1.0]}, intermediate_values={}, distributions={'C': FloatDistribution(high=1.0, log=False, low=0.01, step=None), 'kernel': CategoricalDistribution(choices=('linear', 'poly', 'rbf', 'sigmoid')), 'gamma': FloatDistribution(high=1.0, log=False, low=0.01, step=None)}, trial_id=26, value=None),\n",
       " FrozenTrial(number=27, state=1, values=[0.9666666666666667], datetime_start=datetime.datetime(2024, 7, 5, 21, 51, 4, 626462), datetime_complete=datetime.datetime(2024, 7, 5, 21, 51, 4, 797604), params={'C': 0.4152401190406156, 'kernel': 'linear', 'gamma': 0.16020736302994984}, user_attrs={'mean_fit_time': 0.007006247838338216, 'std_fit_time': 0.0042349086151565185, 'mean_score_time': 0.009352366129557291, 'std_score_time': 0.0029032580705267864, 'split0_test_score': 1.0, 'split1_test_score': 0.9, 'split2_test_score': 1.0, 'mean_test_score': 0.9666666666666667, 'std_test_score': 0.04714045207910316, 'split0_train_score': 0.9625, 'split1_train_score': 1.0, 'split2_train_score': 0.9625, 'mean_train_score': 0.975, 'std_train_score': 0.017677669529663678}, system_attrs={'terminator:cv_scores': [1.0, 0.9, 1.0]}, intermediate_values={}, distributions={'C': FloatDistribution(high=1.0, log=False, low=0.01, step=None), 'kernel': CategoricalDistribution(choices=('linear', 'poly', 'rbf', 'sigmoid')), 'gamma': FloatDistribution(high=1.0, log=False, low=0.01, step=None)}, trial_id=27, value=None),\n",
       " FrozenTrial(number=28, state=1, values=[0.9666666666666667], datetime_start=datetime.datetime(2024, 7, 5, 21, 51, 4, 656873), datetime_complete=datetime.datetime(2024, 7, 5, 21, 51, 4, 792709), params={'C': 0.36651993425263996, 'kernel': 'rbf', 'gamma': 0.1328191536151617}, user_attrs={'mean_fit_time': 0.002911647160847982, 'std_fit_time': 0.0005829056287004747, 'mean_score_time': 0.010100841522216797, 'std_score_time': 0.009472417389231562, 'split0_test_score': 0.975, 'split1_test_score': 0.95, 'split2_test_score': 0.975, 'mean_test_score': 0.9666666666666667, 'std_test_score': 0.011785113019775804, 'split0_train_score': 0.9375, 'split1_train_score': 0.975, 'split2_train_score': 0.9625, 'mean_train_score': 0.9583333333333334, 'std_train_score': 0.015590239111558084}, system_attrs={'terminator:cv_scores': [0.975, 0.95, 0.975]}, intermediate_values={}, distributions={'C': FloatDistribution(high=1.0, log=False, low=0.01, step=None), 'kernel': CategoricalDistribution(choices=('linear', 'poly', 'rbf', 'sigmoid')), 'gamma': FloatDistribution(high=1.0, log=False, low=0.01, step=None)}, trial_id=28, value=None),\n",
       " FrozenTrial(number=29, state=1, values=[0.9583333333333334], datetime_start=datetime.datetime(2024, 7, 5, 21, 51, 4, 687738), datetime_complete=datetime.datetime(2024, 7, 5, 21, 51, 4, 932131), params={'C': 0.3881914646368863, 'kernel': 'linear', 'gamma': 0.8995422184624302}, user_attrs={'mean_fit_time': 0.021002689997355144, 'std_fit_time': 0.009539205474340794, 'mean_score_time': 0.011656045913696289, 'std_score_time': 0.008922385278869984, 'split0_test_score': 0.975, 'split1_test_score': 0.9, 'split2_test_score': 1.0, 'mean_test_score': 0.9583333333333334, 'std_test_score': 0.04249182927993986, 'split0_train_score': 0.975, 'split1_train_score': 1.0, 'split2_train_score': 0.9625, 'mean_train_score': 0.9791666666666666, 'std_train_score': 0.015590239111558084}, system_attrs={'terminator:cv_scores': [0.975, 0.9, 1.0]}, intermediate_values={}, distributions={'C': FloatDistribution(high=1.0, log=False, low=0.01, step=None), 'kernel': CategoricalDistribution(choices=('linear', 'poly', 'rbf', 'sigmoid')), 'gamma': FloatDistribution(high=1.0, log=False, low=0.01, step=None)}, trial_id=29, value=None),\n",
       " FrozenTrial(number=30, state=1, values=[0.9500000000000001], datetime_start=datetime.datetime(2024, 7, 5, 21, 51, 4, 740805), datetime_complete=datetime.datetime(2024, 7, 5, 21, 51, 4, 964894), params={'C': 0.7011650487575358, 'kernel': 'linear', 'gamma': 0.8389128032104278}, user_attrs={'mean_fit_time': 0.009715954462687174, 'std_fit_time': 0.009278049839924226, 'mean_score_time': 0.009628057479858398, 'std_score_time': 0.006471891422785777, 'split0_test_score': 0.975, 'split1_test_score': 0.9, 'split2_test_score': 0.975, 'mean_test_score': 0.9500000000000001, 'std_test_score': 0.035355339059327355, 'split0_train_score': 0.975, 'split1_train_score': 1.0, 'split2_train_score': 0.95, 'mean_train_score': 0.975, 'std_train_score': 0.02041241452319317}, system_attrs={'terminator:cv_scores': [0.975, 0.9, 0.975]}, intermediate_values={}, distributions={'C': FloatDistribution(high=1.0, log=False, low=0.01, step=None), 'kernel': CategoricalDistribution(choices=('linear', 'poly', 'rbf', 'sigmoid')), 'gamma': FloatDistribution(high=1.0, log=False, low=0.01, step=None)}, trial_id=30, value=None),\n",
       " FrozenTrial(number=31, state=1, values=[0.9500000000000001], datetime_start=datetime.datetime(2024, 7, 5, 21, 51, 4, 780699), datetime_complete=datetime.datetime(2024, 7, 5, 21, 51, 5, 10709), params={'C': 0.6756000924023178, 'kernel': 'linear', 'gamma': 0.45248553494141913}, user_attrs={'mean_fit_time': 0.01098926862080892, 'std_fit_time': 0.0017768922518995552, 'mean_score_time': 0.010412375132242838, 'std_score_time': 0.005693749216463657, 'split0_test_score': 0.975, 'split1_test_score': 0.9, 'split2_test_score': 0.975, 'mean_test_score': 0.9500000000000001, 'std_test_score': 0.035355339059327355, 'split0_train_score': 0.975, 'split1_train_score': 1.0, 'split2_train_score': 0.95, 'mean_train_score': 0.975, 'std_train_score': 0.02041241452319317}, system_attrs={'terminator:cv_scores': [0.975, 0.9, 0.975]}, intermediate_values={}, distributions={'C': FloatDistribution(high=1.0, log=False, low=0.01, step=None), 'kernel': CategoricalDistribution(choices=('linear', 'poly', 'rbf', 'sigmoid')), 'gamma': FloatDistribution(high=1.0, log=False, low=0.01, step=None)}, trial_id=31, value=None),\n",
       " FrozenTrial(number=32, state=1, values=[0.9500000000000001], datetime_start=datetime.datetime(2024, 7, 5, 21, 51, 4, 823195), datetime_complete=datetime.datetime(2024, 7, 5, 21, 51, 4, 973581), params={'C': 0.7085961693981286, 'kernel': 'linear', 'gamma': 0.45421443881090046}, user_attrs={'mean_fit_time': 0.004695018132527669, 'std_fit_time': 0.002058605882949833, 'mean_score_time': 0.008027156194051107, 'std_score_time': 0.0031934094230127233, 'split0_test_score': 0.975, 'split1_test_score': 0.9, 'split2_test_score': 0.975, 'mean_test_score': 0.9500000000000001, 'std_test_score': 0.035355339059327355, 'split0_train_score': 0.975, 'split1_train_score': 1.0, 'split2_train_score': 0.95, 'mean_train_score': 0.975, 'std_train_score': 0.02041241452319317}, system_attrs={'terminator:cv_scores': [0.975, 0.9, 0.975]}, intermediate_values={}, distributions={'C': FloatDistribution(high=1.0, log=False, low=0.01, step=None), 'kernel': CategoricalDistribution(choices=('linear', 'poly', 'rbf', 'sigmoid')), 'gamma': FloatDistribution(high=1.0, log=False, low=0.01, step=None)}, trial_id=32, value=None),\n",
       " FrozenTrial(number=33, state=1, values=[0.9500000000000001], datetime_start=datetime.datetime(2024, 7, 5, 21, 51, 4, 844398), datetime_complete=datetime.datetime(2024, 7, 5, 21, 51, 5, 17895), params={'C': 0.7075627897653483, 'kernel': 'linear', 'gamma': 0.4444404340167504}, user_attrs={'mean_fit_time': 0.006231228510538737, 'std_fit_time': 0.002116522047031791, 'mean_score_time': 0.004244089126586914, 'std_score_time': 0.0022126461634763414, 'split0_test_score': 0.975, 'split1_test_score': 0.9, 'split2_test_score': 0.975, 'mean_test_score': 0.9500000000000001, 'std_test_score': 0.035355339059327355, 'split0_train_score': 0.975, 'split1_train_score': 1.0, 'split2_train_score': 0.95, 'mean_train_score': 0.975, 'std_train_score': 0.02041241452319317}, system_attrs={'terminator:cv_scores': [0.975, 0.9, 0.975]}, intermediate_values={}, distributions={'C': FloatDistribution(high=1.0, log=False, low=0.01, step=None), 'kernel': CategoricalDistribution(choices=('linear', 'poly', 'rbf', 'sigmoid')), 'gamma': FloatDistribution(high=1.0, log=False, low=0.01, step=None)}, trial_id=33, value=None),\n",
       " FrozenTrial(number=34, state=1, values=[0.9500000000000001], datetime_start=datetime.datetime(2024, 7, 5, 21, 51, 4, 853151), datetime_complete=datetime.datetime(2024, 7, 5, 21, 51, 5, 130685), params={'C': 0.6994857068787179, 'kernel': 'linear', 'gamma': 0.44967932576869907}, user_attrs={'mean_fit_time': 0.011684020360310873, 'std_fit_time': 0.009841466943311396, 'mean_score_time': 0.004095713297526042, 'std_score_time': 0.0011533284527587536, 'split0_test_score': 0.975, 'split1_test_score': 0.9, 'split2_test_score': 0.975, 'mean_test_score': 0.9500000000000001, 'std_test_score': 0.035355339059327355, 'split0_train_score': 0.975, 'split1_train_score': 1.0, 'split2_train_score': 0.95, 'mean_train_score': 0.975, 'std_train_score': 0.02041241452319317}, system_attrs={'terminator:cv_scores': [0.975, 0.9, 0.975]}, intermediate_values={}, distributions={'C': FloatDistribution(high=1.0, log=False, low=0.01, step=None), 'kernel': CategoricalDistribution(choices=('linear', 'poly', 'rbf', 'sigmoid')), 'gamma': FloatDistribution(high=1.0, log=False, low=0.01, step=None)}, trial_id=34, value=None),\n",
       " FrozenTrial(number=35, state=1, values=[0.9500000000000001], datetime_start=datetime.datetime(2024, 7, 5, 21, 51, 4, 872421), datetime_complete=datetime.datetime(2024, 7, 5, 21, 51, 5, 74398), params={'C': 0.6730846980279876, 'kernel': 'linear', 'gamma': 0.4674000102628059}, user_attrs={'mean_fit_time': 0.008585532506306967, 'std_fit_time': 0.0029464005196840324, 'mean_score_time': 0.00955351193745931, 'std_score_time': 0.0069391487508505805, 'split0_test_score': 0.975, 'split1_test_score': 0.9, 'split2_test_score': 0.975, 'mean_test_score': 0.9500000000000001, 'std_test_score': 0.035355339059327355, 'split0_train_score': 0.975, 'split1_train_score': 1.0, 'split2_train_score': 0.95, 'mean_train_score': 0.975, 'std_train_score': 0.02041241452319317}, system_attrs={'terminator:cv_scores': [0.975, 0.9, 0.975]}, intermediate_values={}, distributions={'C': FloatDistribution(high=1.0, log=False, low=0.01, step=None), 'kernel': CategoricalDistribution(choices=('linear', 'poly', 'rbf', 'sigmoid')), 'gamma': FloatDistribution(high=1.0, log=False, low=0.01, step=None)}, trial_id=35, value=None),\n",
       " FrozenTrial(number=36, state=1, values=[0.9500000000000001], datetime_start=datetime.datetime(2024, 7, 5, 21, 51, 4, 875939), datetime_complete=datetime.datetime(2024, 7, 5, 21, 51, 5, 84803), params={'C': 0.2603820184826683, 'kernel': 'linear', 'gamma': 0.4380091355144638}, user_attrs={'mean_fit_time': 0.014150063196818033, 'std_fit_time': 0.005221272843431932, 'mean_score_time': 0.011890888214111328, 'std_score_time': 0.00730832522116271, 'split0_test_score': 0.975, 'split1_test_score': 0.9, 'split2_test_score': 0.975, 'mean_test_score': 0.9500000000000001, 'std_test_score': 0.035355339059327355, 'split0_train_score': 0.9625, 'split1_train_score': 1.0, 'split2_train_score': 0.9625, 'mean_train_score': 0.975, 'std_train_score': 0.017677669529663678}, system_attrs={'terminator:cv_scores': [0.975, 0.9, 0.975]}, intermediate_values={}, distributions={'C': FloatDistribution(high=1.0, log=False, low=0.01, step=None), 'kernel': CategoricalDistribution(choices=('linear', 'poly', 'rbf', 'sigmoid')), 'gamma': FloatDistribution(high=1.0, log=False, low=0.01, step=None)}, trial_id=36, value=None),\n",
       " FrozenTrial(number=37, state=1, values=[0.9583333333333334], datetime_start=datetime.datetime(2024, 7, 5, 21, 51, 4, 954286), datetime_complete=datetime.datetime(2024, 7, 5, 21, 51, 5, 191829), params={'C': 0.6877627116916725, 'kernel': 'poly', 'gamma': 0.39254108559618056}, user_attrs={'mean_fit_time': 0.01906593640645345, 'std_fit_time': 0.006951996394155648, 'mean_score_time': 0.0011279582977294922, 'std_score_time': 0.0001380792852520471, 'split0_test_score': 0.975, 'split1_test_score': 0.9, 'split2_test_score': 1.0, 'mean_test_score': 0.9583333333333334, 'std_test_score': 0.04249182927993986, 'split0_train_score': 0.9875, 'split1_train_score': 1.0, 'split2_train_score': 0.975, 'mean_train_score': 0.9874999999999999, 'std_train_score': 0.010206207261596585}, system_attrs={'terminator:cv_scores': [0.975, 0.9, 1.0]}, intermediate_values={}, distributions={'C': FloatDistribution(high=1.0, log=False, low=0.01, step=None), 'kernel': CategoricalDistribution(choices=('linear', 'poly', 'rbf', 'sigmoid')), 'gamma': FloatDistribution(high=1.0, log=False, low=0.01, step=None)}, trial_id=37, value=None),\n",
       " FrozenTrial(number=38, state=1, values=[0.9583333333333334], datetime_start=datetime.datetime(2024, 7, 5, 21, 51, 4, 983007), datetime_complete=datetime.datetime(2024, 7, 5, 21, 51, 5, 272929), params={'C': 0.28780216463985003, 'kernel': 'linear', 'gamma': 0.031051206864970204}, user_attrs={'mean_fit_time': 0.013433138529459635, 'std_fit_time': 0.011629501747468986, 'mean_score_time': 0.017061551411946613, 'std_score_time': 0.00974891806407795, 'split0_test_score': 0.975, 'split1_test_score': 0.9, 'split2_test_score': 1.0, 'mean_test_score': 0.9583333333333334, 'std_test_score': 0.04249182927993986, 'split0_train_score': 0.9625, 'split1_train_score': 1.0, 'split2_train_score': 0.95, 'mean_train_score': 0.9708333333333332, 'std_train_score': 0.021245914639969946}, system_attrs={'terminator:cv_scores': [0.975, 0.9, 1.0]}, intermediate_values={}, distributions={'C': FloatDistribution(high=1.0, log=False, low=0.01, step=None), 'kernel': CategoricalDistribution(choices=('linear', 'poly', 'rbf', 'sigmoid')), 'gamma': FloatDistribution(high=1.0, log=False, low=0.01, step=None)}, trial_id=38, value=None),\n",
       " FrozenTrial(number=39, state=1, values=[0.9583333333333334], datetime_start=datetime.datetime(2024, 7, 5, 21, 51, 4, 991791), datetime_complete=datetime.datetime(2024, 7, 5, 21, 51, 5, 207345), params={'C': 0.2889415708828543, 'kernel': 'linear', 'gamma': 0.03964109705666018}, user_attrs={'mean_fit_time': 0.009828011194864908, 'std_fit_time': 0.008248302463324553, 'mean_score_time': 0.011965513229370117, 'std_score_time': 0.009382022374030173, 'split0_test_score': 0.975, 'split1_test_score': 0.9, 'split2_test_score': 1.0, 'mean_test_score': 0.9583333333333334, 'std_test_score': 0.04249182927993986, 'split0_train_score': 0.9625, 'split1_train_score': 1.0, 'split2_train_score': 0.95, 'mean_train_score': 0.9708333333333332, 'std_train_score': 0.021245914639969946}, system_attrs={'terminator:cv_scores': [0.975, 0.9, 1.0]}, intermediate_values={}, distributions={'C': FloatDistribution(high=1.0, log=False, low=0.01, step=None), 'kernel': CategoricalDistribution(choices=('linear', 'poly', 'rbf', 'sigmoid')), 'gamma': FloatDistribution(high=1.0, log=False, low=0.01, step=None)}, trial_id=39, value=None),\n",
       " FrozenTrial(number=40, state=1, values=[0.2416666666666667], datetime_start=datetime.datetime(2024, 7, 5, 21, 51, 5, 46288), datetime_complete=datetime.datetime(2024, 7, 5, 21, 51, 5, 329176), params={'C': 0.28951933686250075, 'kernel': 'sigmoid', 'gamma': 0.23319859010420185}, user_attrs={'mean_fit_time': 0.016849358876546223, 'std_fit_time': 0.010859556592264081, 'mean_score_time': 0.010294437408447266, 'std_score_time': 0.005717121830178492, 'split0_test_score': 0.325, 'split1_test_score': 0.2, 'split2_test_score': 0.2, 'mean_test_score': 0.2416666666666667, 'std_test_score': 0.05892556509887896, 'split0_train_score': 0.35, 'split1_train_score': 0.2375, 'split2_train_score': 0.25, 'mean_train_score': 0.2791666666666666, 'std_train_score': 0.05034602488997738}, system_attrs={'terminator:cv_scores': [0.325, 0.2, 0.2]}, intermediate_values={}, distributions={'C': FloatDistribution(high=1.0, log=False, low=0.01, step=None), 'kernel': CategoricalDistribution(choices=('linear', 'poly', 'rbf', 'sigmoid')), 'gamma': FloatDistribution(high=1.0, log=False, low=0.01, step=None)}, trial_id=40, value=None),\n",
       " FrozenTrial(number=41, state=1, values=[0.2416666666666667], datetime_start=datetime.datetime(2024, 7, 5, 21, 51, 5, 60994), datetime_complete=datetime.datetime(2024, 7, 5, 21, 51, 5, 366837), params={'C': 0.25914647597507434, 'kernel': 'sigmoid', 'gamma': 0.23482800416708732}, user_attrs={'mean_fit_time': 0.015848716100056965, 'std_fit_time': 0.009380990933326483, 'mean_score_time': 0.012025912602742514, 'std_score_time': 0.006129957185457594, 'split0_test_score': 0.325, 'split1_test_score': 0.2, 'split2_test_score': 0.2, 'mean_test_score': 0.2416666666666667, 'std_test_score': 0.05892556509887896, 'split0_train_score': 0.35, 'split1_train_score': 0.2375, 'split2_train_score': 0.25, 'mean_train_score': 0.2791666666666666, 'std_train_score': 0.05034602488997738}, system_attrs={'terminator:cv_scores': [0.325, 0.2, 0.2]}, intermediate_values={}, distributions={'C': FloatDistribution(high=1.0, log=False, low=0.01, step=None), 'kernel': CategoricalDistribution(choices=('linear', 'poly', 'rbf', 'sigmoid')), 'gamma': FloatDistribution(high=1.0, log=False, low=0.01, step=None)}, trial_id=41, value=None),\n",
       " FrozenTrial(number=42, state=1, values=[0.225], datetime_start=datetime.datetime(2024, 7, 5, 21, 51, 5, 87004), datetime_complete=datetime.datetime(2024, 7, 5, 21, 51, 5, 403934), params={'C': 0.46225814235320667, 'kernel': 'sigmoid', 'gamma': 0.2575339585501855}, user_attrs={'mean_fit_time': 0.02222291628519694, 'std_fit_time': 0.012668268247878254, 'mean_score_time': 0.011911471684773764, 'std_score_time': 0.00572405092004109, 'split0_test_score': 0.325, 'split1_test_score': 0.175, 'split2_test_score': 0.175, 'mean_test_score': 0.225, 'std_test_score': 0.07071067811865477, 'split0_train_score': 0.35, 'split1_train_score': 0.2125, 'split2_train_score': 0.2125, 'mean_train_score': 0.25833333333333336, 'std_train_score': 0.06481812160876685}, system_attrs={'terminator:cv_scores': [0.325, 0.175, 0.175]}, intermediate_values={}, distributions={'C': FloatDistribution(high=1.0, log=False, low=0.01, step=None), 'kernel': CategoricalDistribution(choices=('linear', 'poly', 'rbf', 'sigmoid')), 'gamma': FloatDistribution(high=1.0, log=False, low=0.01, step=None)}, trial_id=42, value=None),\n",
       " FrozenTrial(number=43, state=1, values=[0.2333333333333333], datetime_start=datetime.datetime(2024, 7, 5, 21, 51, 5, 144990), datetime_complete=datetime.datetime(2024, 7, 5, 21, 51, 5, 449377), params={'C': 0.45743724999916796, 'kernel': 'sigmoid', 'gamma': 0.24808439696814705}, user_attrs={'mean_fit_time': 0.01835799217224121, 'std_fit_time': 0.007250125615185307, 'mean_score_time': 0.011655410130818685, 'std_score_time': 0.0017411204850703375, 'split0_test_score': 0.325, 'split1_test_score': 0.175, 'split2_test_score': 0.2, 'mean_test_score': 0.2333333333333333, 'std_test_score': 0.06561673228343176, 'split0_train_score': 0.35, 'split1_train_score': 0.2125, 'split2_train_score': 0.2375, 'mean_train_score': 0.26666666666666666, 'std_train_score': 0.059802917060030505}, system_attrs={'terminator:cv_scores': [0.325, 0.175, 0.2]}, intermediate_values={}, distributions={'C': FloatDistribution(high=1.0, log=False, low=0.01, step=None), 'kernel': CategoricalDistribution(choices=('linear', 'poly', 'rbf', 'sigmoid')), 'gamma': FloatDistribution(high=1.0, log=False, low=0.01, step=None)}, trial_id=43, value=None),\n",
       " FrozenTrial(number=44, state=1, values=[0.2333333333333333], datetime_start=datetime.datetime(2024, 7, 5, 21, 51, 5, 155650), datetime_complete=datetime.datetime(2024, 7, 5, 21, 51, 5, 326930), params={'C': 0.45240503518734765, 'kernel': 'sigmoid', 'gamma': 0.23917792776998442}, user_attrs={'mean_fit_time': 0.006311734517415364, 'std_fit_time': 0.0023128884351453606, 'mean_score_time': 0.005565643310546875, 'std_score_time': 0.0036135911135342703, 'split0_test_score': 0.325, 'split1_test_score': 0.175, 'split2_test_score': 0.2, 'mean_test_score': 0.2333333333333333, 'std_test_score': 0.06561673228343176, 'split0_train_score': 0.35, 'split1_train_score': 0.225, 'split2_train_score': 0.2375, 'mean_train_score': 0.2708333333333333, 'std_train_score': 0.05621140651346683}, system_attrs={'terminator:cv_scores': [0.325, 0.175, 0.2]}, intermediate_values={}, distributions={'C': FloatDistribution(high=1.0, log=False, low=0.01, step=None), 'kernel': CategoricalDistribution(choices=('linear', 'poly', 'rbf', 'sigmoid')), 'gamma': FloatDistribution(high=1.0, log=False, low=0.01, step=None)}, trial_id=44, value=None),\n",
       " FrozenTrial(number=45, state=1, values=[0.2333333333333333], datetime_start=datetime.datetime(2024, 7, 5, 21, 51, 5, 189278), datetime_complete=datetime.datetime(2024, 7, 5, 21, 51, 5, 533274), params={'C': 0.4794170884614776, 'kernel': 'sigmoid', 'gamma': 0.23973481269710772}, user_attrs={'mean_fit_time': 0.013716697692871094, 'std_fit_time': 0.007610057980728075, 'mean_score_time': 0.011772235234578451, 'std_score_time': 0.0014092216447316606, 'split0_test_score': 0.325, 'split1_test_score': 0.175, 'split2_test_score': 0.2, 'mean_test_score': 0.2333333333333333, 'std_test_score': 0.06561673228343176, 'split0_train_score': 0.35, 'split1_train_score': 0.2125, 'split2_train_score': 0.2375, 'mean_train_score': 0.26666666666666666, 'std_train_score': 0.059802917060030505}, system_attrs={'terminator:cv_scores': [0.325, 0.175, 0.2]}, intermediate_values={}, distributions={'C': FloatDistribution(high=1.0, log=False, low=0.01, step=None), 'kernel': CategoricalDistribution(choices=('linear', 'poly', 'rbf', 'sigmoid')), 'gamma': FloatDistribution(high=1.0, log=False, low=0.01, step=None)}, trial_id=45, value=None),\n",
       " FrozenTrial(number=46, state=1, values=[0.18333333333333335], datetime_start=datetime.datetime(2024, 7, 5, 21, 51, 5, 208480), datetime_complete=datetime.datetime(2024, 7, 5, 21, 51, 5, 494268), params={'C': 0.4689798793467752, 'kernel': 'sigmoid', 'gamma': 0.2740720038214399}, user_attrs={'mean_fit_time': 0.026364723841349285, 'std_fit_time': 0.01836958207716555, 'mean_score_time': 0.010525782903035482, 'std_score_time': 0.00994456092914918, 'split0_test_score': 0.325, 'split1_test_score': 0.1, 'split2_test_score': 0.125, 'mean_test_score': 0.18333333333333335, 'std_test_score': 0.10069204977995476, 'split0_train_score': 0.35, 'split1_train_score': 0.175, 'split2_train_score': 0.125, 'mean_train_score': 0.21666666666666665, 'std_train_score': 0.09646530752325187}, system_attrs={'terminator:cv_scores': [0.325, 0.1, 0.125]}, intermediate_values={}, distributions={'C': FloatDistribution(high=1.0, log=False, low=0.01, step=None), 'kernel': CategoricalDistribution(choices=('linear', 'poly', 'rbf', 'sigmoid')), 'gamma': FloatDistribution(high=1.0, log=False, low=0.01, step=None)}, trial_id=46, value=None),\n",
       " FrozenTrial(number=47, state=1, values=[0.2333333333333333], datetime_start=datetime.datetime(2024, 7, 5, 21, 51, 5, 259671), datetime_complete=datetime.datetime(2024, 7, 5, 21, 51, 5, 537278), params={'C': 0.47148223942466105, 'kernel': 'sigmoid', 'gamma': 0.2516667674890988}, user_attrs={'mean_fit_time': 0.020870049794514973, 'std_fit_time': 0.013376471649240431, 'mean_score_time': 0.008666594823201498, 'std_score_time': 0.005446901766158426, 'split0_test_score': 0.325, 'split1_test_score': 0.175, 'split2_test_score': 0.2, 'mean_test_score': 0.2333333333333333, 'std_test_score': 0.06561673228343176, 'split0_train_score': 0.35, 'split1_train_score': 0.2125, 'split2_train_score': 0.225, 'mean_train_score': 0.2625, 'std_train_score': 0.06208193510729724}, system_attrs={'terminator:cv_scores': [0.325, 0.175, 0.2]}, intermediate_values={}, distributions={'C': FloatDistribution(high=1.0, log=False, low=0.01, step=None), 'kernel': CategoricalDistribution(choices=('linear', 'poly', 'rbf', 'sigmoid')), 'gamma': FloatDistribution(high=1.0, log=False, low=0.01, step=None)}, trial_id=47, value=None),\n",
       " FrozenTrial(number=48, state=1, values=[0.19166666666666668], datetime_start=datetime.datetime(2024, 7, 5, 21, 51, 5, 267149), datetime_complete=datetime.datetime(2024, 7, 5, 21, 51, 5, 498152), params={'C': 0.47469950488343554, 'kernel': 'sigmoid', 'gamma': 0.27815317692866887}, user_attrs={'mean_fit_time': 0.009164571762084961, 'std_fit_time': 0.00372569817153948, 'mean_score_time': 0.004850546518961589, 'std_score_time': 0.0018288374837980275, 'split0_test_score': 0.325, 'split1_test_score': 0.1, 'split2_test_score': 0.15, 'mean_test_score': 0.19166666666666668, 'std_test_score': 0.09646530752325189, 'split0_train_score': 0.35, 'split1_train_score': 0.1375, 'split2_train_score': 0.1375, 'mean_train_score': 0.20833333333333334, 'std_train_score': 0.10017346066809421}, system_attrs={'terminator:cv_scores': [0.325, 0.1, 0.15]}, intermediate_values={}, distributions={'C': FloatDistribution(high=1.0, log=False, low=0.01, step=None), 'kernel': CategoricalDistribution(choices=('linear', 'poly', 'rbf', 'sigmoid')), 'gamma': FloatDistribution(high=1.0, log=False, low=0.01, step=None)}, trial_id=48, value=None),\n",
       " FrozenTrial(number=49, state=1, values=[0.3416666666666666], datetime_start=datetime.datetime(2024, 7, 5, 21, 51, 5, 323585), datetime_complete=datetime.datetime(2024, 7, 5, 21, 51, 5, 557501), params={'C': 0.47715157317990453, 'kernel': 'sigmoid', 'gamma': 0.29014264628306985}, user_attrs={'mean_fit_time': 0.016942660013834637, 'std_fit_time': 0.007734326963292056, 'mean_score_time': 0.00948802630106608, 'std_score_time': 0.0032871597008361157, 'split0_test_score': 0.325, 'split1_test_score': 0.35, 'split2_test_score': 0.35, 'mean_test_score': 0.3416666666666666, 'std_test_score': 0.011785113019775776, 'split0_train_score': 0.35, 'split1_train_score': 0.3375, 'split2_train_score': 0.3375, 'mean_train_score': 0.3416666666666666, 'std_train_score': 0.005892556509887875}, system_attrs={'terminator:cv_scores': [0.325, 0.35, 0.35]}, intermediate_values={}, distributions={'C': FloatDistribution(high=1.0, log=False, low=0.01, step=None), 'kernel': CategoricalDistribution(choices=('linear', 'poly', 'rbf', 'sigmoid')), 'gamma': FloatDistribution(high=1.0, log=False, low=0.01, step=None)}, trial_id=49, value=None),\n",
       " FrozenTrial(number=50, state=1, values=[0.9500000000000001], datetime_start=datetime.datetime(2024, 7, 5, 21, 51, 5, 347871), datetime_complete=datetime.datetime(2024, 7, 5, 21, 51, 5, 549326), params={'C': 0.46655990494106103, 'kernel': 'poly', 'gamma': 0.11453643613914077}, user_attrs={'mean_fit_time': 0.009754498799641928, 'std_fit_time': 0.005319282787437494, 'mean_score_time': 0.004624287287394206, 'std_score_time': 0.005300505679783728, 'split0_test_score': 0.95, 'split1_test_score': 0.9, 'split2_test_score': 1.0, 'mean_test_score': 0.9500000000000001, 'std_test_score': 0.04082482904638629, 'split0_train_score': 0.975, 'split1_train_score': 1.0, 'split2_train_score': 0.9625, 'mean_train_score': 0.9791666666666666, 'std_train_score': 0.015590239111558084}, system_attrs={'terminator:cv_scores': [0.95, 0.9, 1.0]}, intermediate_values={}, distributions={'C': FloatDistribution(high=1.0, log=False, low=0.01, step=None), 'kernel': CategoricalDistribution(choices=('linear', 'poly', 'rbf', 'sigmoid')), 'gamma': FloatDistribution(high=1.0, log=False, low=0.01, step=None)}, trial_id=50, value=None),\n",
       " FrozenTrial(number=51, state=1, values=[0.9500000000000001], datetime_start=datetime.datetime(2024, 7, 5, 21, 51, 5, 378601), datetime_complete=datetime.datetime(2024, 7, 5, 21, 51, 5, 623038), params={'C': 0.465357910895591, 'kernel': 'poly', 'gamma': 0.08368167886186155}, user_attrs={'mean_fit_time': 0.016845305760701496, 'std_fit_time': 0.010409865070383663, 'mean_score_time': 0.00736085573832194, 'std_score_time': 0.008717500985469126, 'split0_test_score': 0.95, 'split1_test_score': 0.9, 'split2_test_score': 1.0, 'mean_test_score': 0.9500000000000001, 'std_test_score': 0.04082482904638629, 'split0_train_score': 0.975, 'split1_train_score': 1.0, 'split2_train_score': 0.9625, 'mean_train_score': 0.9791666666666666, 'std_train_score': 0.015590239111558084}, system_attrs={'terminator:cv_scores': [0.95, 0.9, 1.0]}, intermediate_values={}, distributions={'C': FloatDistribution(high=1.0, log=False, low=0.01, step=None), 'kernel': CategoricalDistribution(choices=('linear', 'poly', 'rbf', 'sigmoid')), 'gamma': FloatDistribution(high=1.0, log=False, low=0.01, step=None)}, trial_id=51, value=None),\n",
       " FrozenTrial(number=52, state=1, values=[0.9583333333333334], datetime_start=datetime.datetime(2024, 7, 5, 21, 51, 5, 407569), datetime_complete=datetime.datetime(2024, 7, 5, 21, 51, 5, 662897), params={'C': 0.33359925751873937, 'kernel': 'linear', 'gamma': 0.1032916834962454}, user_attrs={'mean_fit_time': 0.013994455337524414, 'std_fit_time': 0.006175981677666443, 'mean_score_time': 0.0019652843475341797, 'std_score_time': 0.0007663310433101495, 'split0_test_score': 0.975, 'split1_test_score': 0.9, 'split2_test_score': 1.0, 'mean_test_score': 0.9583333333333334, 'std_test_score': 0.04249182927993986, 'split0_train_score': 0.9625, 'split1_train_score': 1.0, 'split2_train_score': 0.95, 'mean_train_score': 0.9708333333333332, 'std_train_score': 0.021245914639969946}, system_attrs={'terminator:cv_scores': [0.975, 0.9, 1.0]}, intermediate_values={}, distributions={'C': FloatDistribution(high=1.0, log=False, low=0.01, step=None), 'kernel': CategoricalDistribution(choices=('linear', 'poly', 'rbf', 'sigmoid')), 'gamma': FloatDistribution(high=1.0, log=False, low=0.01, step=None)}, trial_id=52, value=None),\n",
       " FrozenTrial(number=53, state=1, values=[0.9500000000000001], datetime_start=datetime.datetime(2024, 7, 5, 21, 51, 5, 462949), datetime_complete=datetime.datetime(2024, 7, 5, 21, 51, 5, 774754), params={'C': 0.3398217463020026, 'kernel': 'poly', 'gamma': 0.08137287527766127}, user_attrs={'mean_fit_time': 0.024652481079101562, 'std_fit_time': 0.011859356723383582, 'mean_score_time': 0.0008369286855061849, 'std_score_time': 5.974128743237899e-05, 'split0_test_score': 0.975, 'split1_test_score': 0.9, 'split2_test_score': 0.975, 'mean_test_score': 0.9500000000000001, 'std_test_score': 0.035355339059327355, 'split0_train_score': 0.975, 'split1_train_score': 1.0, 'split2_train_score': 0.9625, 'mean_train_score': 0.9791666666666666, 'std_train_score': 0.015590239111558084}, system_attrs={'terminator:cv_scores': [0.975, 0.9, 0.975]}, intermediate_values={}, distributions={'C': FloatDistribution(high=1.0, log=False, low=0.01, step=None), 'kernel': CategoricalDistribution(choices=('linear', 'poly', 'rbf', 'sigmoid')), 'gamma': FloatDistribution(high=1.0, log=False, low=0.01, step=None)}, trial_id=53, value=None),\n",
       " FrozenTrial(number=54, state=1, values=[0.9500000000000001], datetime_start=datetime.datetime(2024, 7, 5, 21, 51, 5, 508263), datetime_complete=datetime.datetime(2024, 7, 5, 21, 51, 5, 764124), params={'C': 0.3434056924802205, 'kernel': 'poly', 'gamma': 0.09622369410909681}, user_attrs={'mean_fit_time': 0.016935030619303387, 'std_fit_time': 0.0035466919191463556, 'mean_score_time': 0.008056720097859701, 'std_score_time': 0.00789302661384369, 'split0_test_score': 0.95, 'split1_test_score': 0.9, 'split2_test_score': 1.0, 'mean_test_score': 0.9500000000000001, 'std_test_score': 0.04082482904638629, 'split0_train_score': 0.975, 'split1_train_score': 1.0, 'split2_train_score': 0.9625, 'mean_train_score': 0.9791666666666666, 'std_train_score': 0.015590239111558084}, system_attrs={'terminator:cv_scores': [0.95, 0.9, 1.0]}, intermediate_values={}, distributions={'C': FloatDistribution(high=1.0, log=False, low=0.01, step=None), 'kernel': CategoricalDistribution(choices=('linear', 'poly', 'rbf', 'sigmoid')), 'gamma': FloatDistribution(high=1.0, log=False, low=0.01, step=None)}, trial_id=54, value=None),\n",
       " FrozenTrial(number=55, state=1, values=[0.9583333333333334], datetime_start=datetime.datetime(2024, 7, 5, 21, 51, 5, 553042), datetime_complete=datetime.datetime(2024, 7, 5, 21, 51, 5, 885571), params={'C': 0.1715621224303641, 'kernel': 'linear', 'gamma': 0.65718877731529}, user_attrs={'mean_fit_time': 0.020689964294433594, 'std_fit_time': 0.016244786974419303, 'mean_score_time': 0.024848143259684246, 'std_score_time': 0.003633110846301947, 'split0_test_score': 1.0, 'split1_test_score': 0.9, 'split2_test_score': 0.975, 'mean_test_score': 0.9583333333333334, 'std_test_score': 0.04249182927993986, 'split0_train_score': 0.9625, 'split1_train_score': 1.0, 'split2_train_score': 0.9625, 'mean_train_score': 0.975, 'std_train_score': 0.017677669529663678}, system_attrs={'terminator:cv_scores': [1.0, 0.9, 0.975]}, intermediate_values={}, distributions={'C': FloatDistribution(high=1.0, log=False, low=0.01, step=None), 'kernel': CategoricalDistribution(choices=('linear', 'poly', 'rbf', 'sigmoid')), 'gamma': FloatDistribution(high=1.0, log=False, low=0.01, step=None)}, trial_id=55, value=None),\n",
       " FrozenTrial(number=56, state=1, values=[0.9666666666666667], datetime_start=datetime.datetime(2024, 7, 5, 21, 51, 5, 569041), datetime_complete=datetime.datetime(2024, 7, 5, 21, 51, 5, 836439), params={'C': 0.41915795367154157, 'kernel': 'linear', 'gamma': 0.6572027508147602}, user_attrs={'mean_fit_time': 0.033162434895833336, 'std_fit_time': 0.015170087746497718, 'mean_score_time': 0.009899059931437174, 'std_score_time': 0.002560734082589257, 'split0_test_score': 1.0, 'split1_test_score': 0.9, 'split2_test_score': 1.0, 'mean_test_score': 0.9666666666666667, 'std_test_score': 0.04714045207910316, 'split0_train_score': 0.9625, 'split1_train_score': 1.0, 'split2_train_score': 0.9625, 'mean_train_score': 0.975, 'std_train_score': 0.017677669529663678}, system_attrs={'terminator:cv_scores': [1.0, 0.9, 1.0]}, intermediate_values={}, distributions={'C': FloatDistribution(high=1.0, log=False, low=0.01, step=None), 'kernel': CategoricalDistribution(choices=('linear', 'poly', 'rbf', 'sigmoid')), 'gamma': FloatDistribution(high=1.0, log=False, low=0.01, step=None)}, trial_id=56, value=None),\n",
       " FrozenTrial(number=57, state=1, values=[0.9666666666666667], datetime_start=datetime.datetime(2024, 7, 5, 21, 51, 5, 587362), datetime_complete=datetime.datetime(2024, 7, 5, 21, 51, 5, 849615), params={'C': 0.415333289456051, 'kernel': 'linear', 'gamma': 0.6501438313720518}, user_attrs={'mean_fit_time': 0.014791568120320639, 'std_fit_time': 0.006981695413452206, 'mean_score_time': 0.0013301372528076172, 'std_score_time': 0.00045095213007314216, 'split0_test_score': 1.0, 'split1_test_score': 0.9, 'split2_test_score': 1.0, 'mean_test_score': 0.9666666666666667, 'std_test_score': 0.04714045207910316, 'split0_train_score': 0.9625, 'split1_train_score': 1.0, 'split2_train_score': 0.9625, 'mean_train_score': 0.975, 'std_train_score': 0.017677669529663678}, system_attrs={'terminator:cv_scores': [1.0, 0.9, 1.0]}, intermediate_values={}, distributions={'C': FloatDistribution(high=1.0, log=False, low=0.01, step=None), 'kernel': CategoricalDistribution(choices=('linear', 'poly', 'rbf', 'sigmoid')), 'gamma': FloatDistribution(high=1.0, log=False, low=0.01, step=None)}, trial_id=57, value=None),\n",
       " FrozenTrial(number=58, state=1, values=[0.9583333333333334], datetime_start=datetime.datetime(2024, 7, 5, 21, 51, 5, 629008), datetime_complete=datetime.datetime(2024, 7, 5, 21, 51, 5, 881777), params={'C': 0.3396119844493323, 'kernel': 'linear', 'gamma': 0.6387638851665999}, user_attrs={'mean_fit_time': 0.014317194620768229, 'std_fit_time': 0.010286669944567645, 'mean_score_time': 0.010979811350504557, 'std_score_time': 0.007611577708671523, 'split0_test_score': 0.975, 'split1_test_score': 0.9, 'split2_test_score': 1.0, 'mean_test_score': 0.9583333333333334, 'std_test_score': 0.04249182927993986, 'split0_train_score': 0.9625, 'split1_train_score': 1.0, 'split2_train_score': 0.95, 'mean_train_score': 0.9708333333333332, 'std_train_score': 0.021245914639969946}, system_attrs={'terminator:cv_scores': [0.975, 0.9, 1.0]}, intermediate_values={}, distributions={'C': FloatDistribution(high=1.0, log=False, low=0.01, step=None), 'kernel': CategoricalDistribution(choices=('linear', 'poly', 'rbf', 'sigmoid')), 'gamma': FloatDistribution(high=1.0, log=False, low=0.01, step=None)}, trial_id=58, value=None),\n",
       " FrozenTrial(number=59, state=1, values=[0.9666666666666667], datetime_start=datetime.datetime(2024, 7, 5, 21, 51, 5, 637604), datetime_complete=datetime.datetime(2024, 7, 5, 21, 51, 5, 910356), params={'C': 0.4026823497326015, 'kernel': 'linear', 'gamma': 0.6509799663112563}, user_attrs={'mean_fit_time': 0.019538402557373047, 'std_fit_time': 0.00682588886325711, 'mean_score_time': 0.018837610880533855, 'std_score_time': 0.002824227002877532, 'split0_test_score': 1.0, 'split1_test_score': 0.9, 'split2_test_score': 1.0, 'mean_test_score': 0.9666666666666667, 'std_test_score': 0.04714045207910316, 'split0_train_score': 0.975, 'split1_train_score': 1.0, 'split2_train_score': 0.9625, 'mean_train_score': 0.9791666666666666, 'std_train_score': 0.015590239111558084}, system_attrs={'terminator:cv_scores': [1.0, 0.9, 1.0]}, intermediate_values={}, distributions={'C': FloatDistribution(high=1.0, log=False, low=0.01, step=None), 'kernel': CategoricalDistribution(choices=('linear', 'poly', 'rbf', 'sigmoid')), 'gamma': FloatDistribution(high=1.0, log=False, low=0.01, step=None)}, trial_id=59, value=None),\n",
       " FrozenTrial(number=60, state=1, values=[0.9666666666666667], datetime_start=datetime.datetime(2024, 7, 5, 21, 51, 5, 644164), datetime_complete=datetime.datetime(2024, 7, 5, 21, 51, 5, 907956), params={'C': 0.4161645883211548, 'kernel': 'linear', 'gamma': 0.6484826970530544}, user_attrs={'mean_fit_time': 0.010421117146809896, 'std_fit_time': 0.006759405508463679, 'mean_score_time': 0.012213865915934244, 'std_score_time': 0.007025092062056692, 'split0_test_score': 1.0, 'split1_test_score': 0.9, 'split2_test_score': 1.0, 'mean_test_score': 0.9666666666666667, 'std_test_score': 0.04714045207910316, 'split0_train_score': 0.9625, 'split1_train_score': 1.0, 'split2_train_score': 0.9625, 'mean_train_score': 0.975, 'std_train_score': 0.017677669529663678}, system_attrs={'terminator:cv_scores': [1.0, 0.9, 1.0]}, intermediate_values={}, distributions={'C': FloatDistribution(high=1.0, log=False, low=0.01, step=None), 'kernel': CategoricalDistribution(choices=('linear', 'poly', 'rbf', 'sigmoid')), 'gamma': FloatDistribution(high=1.0, log=False, low=0.01, step=None)}, trial_id=60, value=None),\n",
       " FrozenTrial(number=61, state=1, values=[0.9666666666666667], datetime_start=datetime.datetime(2024, 7, 5, 21, 51, 5, 680339), datetime_complete=datetime.datetime(2024, 7, 5, 21, 51, 6, 12497), params={'C': 0.41556094184445425, 'kernel': 'linear', 'gamma': 0.6728491566777431}, user_attrs={'mean_fit_time': 0.007407585779825847, 'std_fit_time': 0.004289771575964192, 'mean_score_time': 0.016326745351155598, 'std_score_time': 0.00700338830928705, 'split0_test_score': 1.0, 'split1_test_score': 0.9, 'split2_test_score': 1.0, 'mean_test_score': 0.9666666666666667, 'std_test_score': 0.04714045207910316, 'split0_train_score': 0.9625, 'split1_train_score': 1.0, 'split2_train_score': 0.9625, 'mean_train_score': 0.975, 'std_train_score': 0.017677669529663678}, system_attrs={'terminator:cv_scores': [1.0, 0.9, 1.0]}, intermediate_values={}, distributions={'C': FloatDistribution(high=1.0, log=False, low=0.01, step=None), 'kernel': CategoricalDistribution(choices=('linear', 'poly', 'rbf', 'sigmoid')), 'gamma': FloatDistribution(high=1.0, log=False, low=0.01, step=None)}, trial_id=61, value=None),\n",
       " FrozenTrial(number=62, state=1, values=[0.9666666666666667], datetime_start=datetime.datetime(2024, 7, 5, 21, 51, 5, 706932), datetime_complete=datetime.datetime(2024, 7, 5, 21, 51, 5, 936229), params={'C': 0.4149607370567588, 'kernel': 'linear', 'gamma': 0.17912969528136347}, user_attrs={'mean_fit_time': 0.0068968931833903, 'std_fit_time': 0.002059515755682514, 'mean_score_time': 0.006019751230875651, 'std_score_time': 0.005597071421927786, 'split0_test_score': 1.0, 'split1_test_score': 0.9, 'split2_test_score': 1.0, 'mean_test_score': 0.9666666666666667, 'std_test_score': 0.04714045207910316, 'split0_train_score': 0.9625, 'split1_train_score': 1.0, 'split2_train_score': 0.9625, 'mean_train_score': 0.975, 'std_train_score': 0.017677669529663678}, system_attrs={'terminator:cv_scores': [1.0, 0.9, 1.0]}, intermediate_values={}, distributions={'C': FloatDistribution(high=1.0, log=False, low=0.01, step=None), 'kernel': CategoricalDistribution(choices=('linear', 'poly', 'rbf', 'sigmoid')), 'gamma': FloatDistribution(high=1.0, log=False, low=0.01, step=None)}, trial_id=62, value=None),\n",
       " FrozenTrial(number=63, state=1, values=[0.9666666666666667], datetime_start=datetime.datetime(2024, 7, 5, 21, 51, 5, 790293), datetime_complete=datetime.datetime(2024, 7, 5, 21, 51, 6, 52879), params={'C': 0.4210397829868563, 'kernel': 'linear', 'gamma': 0.6329752749857822}, user_attrs={'mean_fit_time': 0.02364373207092285, 'std_fit_time': 0.02799009526974377, 'mean_score_time': 0.006500244140625, 'std_score_time': 0.003760931778315249, 'split0_test_score': 1.0, 'split1_test_score': 0.9, 'split2_test_score': 1.0, 'mean_test_score': 0.9666666666666667, 'std_test_score': 0.04714045207910316, 'split0_train_score': 0.975, 'split1_train_score': 1.0, 'split2_train_score': 0.9625, 'mean_train_score': 0.9791666666666666, 'std_train_score': 0.015590239111558084}, system_attrs={'terminator:cv_scores': [1.0, 0.9, 1.0]}, intermediate_values={}, distributions={'C': FloatDistribution(high=1.0, log=False, low=0.01, step=None), 'kernel': CategoricalDistribution(choices=('linear', 'poly', 'rbf', 'sigmoid')), 'gamma': FloatDistribution(high=1.0, log=False, low=0.01, step=None)}, trial_id=63, value=None),\n",
       " FrozenTrial(number=64, state=1, values=[0.9666666666666667], datetime_start=datetime.datetime(2024, 7, 5, 21, 51, 5, 807037), datetime_complete=datetime.datetime(2024, 7, 5, 21, 51, 6, 169057), params={'C': 0.42336267683590467, 'kernel': 'linear', 'gamma': 0.6538787273387011}, user_attrs={'mean_fit_time': 0.008522510528564453, 'std_fit_time': 0.006114812695816506, 'mean_score_time': 0.0184938907623291, 'std_score_time': 0.014025993267494742, 'split0_test_score': 1.0, 'split1_test_score': 0.9, 'split2_test_score': 1.0, 'mean_test_score': 0.9666666666666667, 'std_test_score': 0.04714045207910316, 'split0_train_score': 0.975, 'split1_train_score': 1.0, 'split2_train_score': 0.9625, 'mean_train_score': 0.9791666666666666, 'std_train_score': 0.015590239111558084}, system_attrs={'terminator:cv_scores': [1.0, 0.9, 1.0]}, intermediate_values={}, distributions={'C': FloatDistribution(high=1.0, log=False, low=0.01, step=None), 'kernel': CategoricalDistribution(choices=('linear', 'poly', 'rbf', 'sigmoid')), 'gamma': FloatDistribution(high=1.0, log=False, low=0.01, step=None)}, trial_id=64, value=None),\n",
       " FrozenTrial(number=65, state=1, values=[0.9416666666666668], datetime_start=datetime.datetime(2024, 7, 5, 21, 51, 5, 873098), datetime_complete=datetime.datetime(2024, 7, 5, 21, 51, 6, 97867), params={'C': 0.17799593029185512, 'kernel': 'rbf', 'gamma': 0.1649245569838062}, user_attrs={'mean_fit_time': 0.022157589594523113, 'std_fit_time': 0.015795062377718824, 'mean_score_time': 0.007625659306844075, 'std_score_time': 0.0030932550943939974, 'split0_test_score': 0.975, 'split1_test_score': 0.9, 'split2_test_score': 0.95, 'mean_test_score': 0.9416666666666668, 'std_test_score': 0.03118047822311616, 'split0_train_score': 0.925, 'split1_train_score': 0.975, 'split2_train_score': 0.9375, 'mean_train_score': 0.9458333333333333, 'std_train_score': 0.021245914639969915}, system_attrs={'terminator:cv_scores': [0.975, 0.9, 0.95]}, intermediate_values={}, distributions={'C': FloatDistribution(high=1.0, log=False, low=0.01, step=None), 'kernel': CategoricalDistribution(choices=('linear', 'poly', 'rbf', 'sigmoid')), 'gamma': FloatDistribution(high=1.0, log=False, low=0.01, step=None)}, trial_id=65, value=None),\n",
       " FrozenTrial(number=66, state=1, values=[0.6750000000000002], datetime_start=datetime.datetime(2024, 7, 5, 21, 51, 5, 900876), datetime_complete=datetime.datetime(2024, 7, 5, 21, 51, 6, 177529), params={'C': 0.033028022377508126, 'kernel': 'rbf', 'gamma': 0.19462564074269395}, user_attrs={'mean_fit_time': 0.021506547927856445, 'std_fit_time': 0.009753834797292336, 'mean_score_time': 0.014573017756144205, 'std_score_time': 0.01018541671907747, 'split0_test_score': 0.675, 'split1_test_score': 0.675, 'split2_test_score': 0.675, 'mean_test_score': 0.6750000000000002, 'std_test_score': 1.1102230246251565e-16, 'split0_train_score': 0.675, 'split1_train_score': 0.675, 'split2_train_score': 0.675, 'mean_train_score': 0.6750000000000002, 'std_train_score': 1.1102230246251565e-16}, system_attrs={'terminator:cv_scores': [0.675, 0.675, 0.675]}, intermediate_values={}, distributions={'C': FloatDistribution(high=1.0, log=False, low=0.01, step=None), 'kernel': CategoricalDistribution(choices=('linear', 'poly', 'rbf', 'sigmoid')), 'gamma': FloatDistribution(high=1.0, log=False, low=0.01, step=None)}, trial_id=66, value=None),\n",
       " FrozenTrial(number=67, state=1, values=[0.9416666666666668], datetime_start=datetime.datetime(2024, 7, 5, 21, 51, 5, 928701), datetime_complete=datetime.datetime(2024, 7, 5, 21, 51, 6, 164304), params={'C': 0.9057094045299389, 'kernel': 'rbf', 'gamma': 0.16285863814626683}, user_attrs={'mean_fit_time': 0.01738262176513672, 'std_fit_time': 0.011052120209186913, 'mean_score_time': 0.007376511891682942, 'std_score_time': 0.004268476763719216, 'split0_test_score': 0.95, 'split1_test_score': 0.9, 'split2_test_score': 0.975, 'mean_test_score': 0.9416666666666668, 'std_test_score': 0.03118047822311616, 'split0_train_score': 0.9625, 'split1_train_score': 1.0, 'split2_train_score': 0.95, 'mean_train_score': 0.9708333333333332, 'std_train_score': 0.021245914639969946}, system_attrs={'terminator:cv_scores': [0.95, 0.9, 0.975]}, intermediate_values={}, distributions={'C': FloatDistribution(high=1.0, log=False, low=0.01, step=None), 'kernel': CategoricalDistribution(choices=('linear', 'poly', 'rbf', 'sigmoid')), 'gamma': FloatDistribution(high=1.0, log=False, low=0.01, step=None)}, trial_id=67, value=None),\n",
       " FrozenTrial(number=68, state=1, values=[0.9500000000000001], datetime_start=datetime.datetime(2024, 7, 5, 21, 51, 5, 958436), datetime_complete=datetime.datetime(2024, 7, 5, 21, 51, 6, 232192), params={'C': 0.6300605800057894, 'kernel': 'rbf', 'gamma': 0.14425292945133078}, user_attrs={'mean_fit_time': 0.014206965764363607, 'std_fit_time': 0.004830338643156676, 'mean_score_time': 0.01396028200785319, 'std_score_time': 0.008632341550213472, 'split0_test_score': 0.975, 'split1_test_score': 0.9, 'split2_test_score': 0.975, 'mean_test_score': 0.9500000000000001, 'std_test_score': 0.035355339059327355, 'split0_train_score': 0.95, 'split1_train_score': 1.0, 'split2_train_score': 0.9625, 'mean_train_score': 0.9708333333333333, 'std_train_score': 0.02124591463996995}, system_attrs={'terminator:cv_scores': [0.975, 0.9, 0.975]}, intermediate_values={}, distributions={'C': FloatDistribution(high=1.0, log=False, low=0.01, step=None), 'kernel': CategoricalDistribution(choices=('linear', 'poly', 'rbf', 'sigmoid')), 'gamma': FloatDistribution(high=1.0, log=False, low=0.01, step=None)}, trial_id=68, value=None),\n",
       " FrozenTrial(number=69, state=1, values=[0.9416666666666668], datetime_start=datetime.datetime(2024, 7, 5, 21, 51, 5, 974473), datetime_complete=datetime.datetime(2024, 7, 5, 21, 51, 6, 171417), params={'C': 0.9045318114209135, 'kernel': 'rbf', 'gamma': 0.1567577718148425}, user_attrs={'mean_fit_time': 0.00547035535176595, 'std_fit_time': 0.004005405454950475, 'mean_score_time': 0.010721604029337565, 'std_score_time': 0.005756813369813198, 'split0_test_score': 0.95, 'split1_test_score': 0.9, 'split2_test_score': 0.975, 'mean_test_score': 0.9416666666666668, 'std_test_score': 0.03118047822311616, 'split0_train_score': 0.9625, 'split1_train_score': 1.0, 'split2_train_score': 0.95, 'mean_train_score': 0.9708333333333332, 'std_train_score': 0.021245914639969946}, system_attrs={'terminator:cv_scores': [0.95, 0.9, 0.975]}, intermediate_values={}, distributions={'C': FloatDistribution(high=1.0, log=False, low=0.01, step=None), 'kernel': CategoricalDistribution(choices=('linear', 'poly', 'rbf', 'sigmoid')), 'gamma': FloatDistribution(high=1.0, log=False, low=0.01, step=None)}, trial_id=69, value=None),\n",
       " FrozenTrial(number=70, state=1, values=[0.6750000000000002], datetime_start=datetime.datetime(2024, 7, 5, 21, 51, 5, 996908), datetime_complete=datetime.datetime(2024, 7, 5, 21, 51, 6, 235062), params={'C': 0.042439936562044256, 'kernel': 'rbf', 'gamma': 0.14469851894435534}, user_attrs={'mean_fit_time': 0.006054878234863281, 'std_fit_time': 0.003682585840699799, 'mean_score_time': 0.006772597630818685, 'std_score_time': 0.001117598363324982, 'split0_test_score': 0.675, 'split1_test_score': 0.675, 'split2_test_score': 0.675, 'mean_test_score': 0.6750000000000002, 'std_test_score': 1.1102230246251565e-16, 'split0_train_score': 0.675, 'split1_train_score': 0.675, 'split2_train_score': 0.675, 'mean_train_score': 0.6750000000000002, 'std_train_score': 1.1102230246251565e-16}, system_attrs={'terminator:cv_scores': [0.675, 0.675, 0.675]}, intermediate_values={}, distributions={'C': FloatDistribution(high=1.0, log=False, low=0.01, step=None), 'kernel': CategoricalDistribution(choices=('linear', 'poly', 'rbf', 'sigmoid')), 'gamma': FloatDistribution(high=1.0, log=False, low=0.01, step=None)}, trial_id=70, value=None),\n",
       " FrozenTrial(number=71, state=1, values=[0.9583333333333334], datetime_start=datetime.datetime(2024, 7, 5, 21, 51, 6, 60908), datetime_complete=datetime.datetime(2024, 7, 5, 21, 51, 6, 271023), params={'C': 0.3740777153713093, 'kernel': 'rbf', 'gamma': 0.15060061041523934}, user_attrs={'mean_fit_time': 0.008209784825642904, 'std_fit_time': 0.0019218405522867092, 'mean_score_time': 0.01580969492594401, 'std_score_time': 0.007518245021248623, 'split0_test_score': 0.975, 'split1_test_score': 0.925, 'split2_test_score': 0.975, 'mean_test_score': 0.9583333333333334, 'std_test_score': 0.023570226039551553, 'split0_train_score': 0.9375, 'split1_train_score': 0.975, 'split2_train_score': 0.9625, 'mean_train_score': 0.9583333333333334, 'std_train_score': 0.015590239111558084}, system_attrs={'terminator:cv_scores': [0.975, 0.925, 0.975]}, intermediate_values={}, distributions={'C': FloatDistribution(high=1.0, log=False, low=0.01, step=None), 'kernel': CategoricalDistribution(choices=('linear', 'poly', 'rbf', 'sigmoid')), 'gamma': FloatDistribution(high=1.0, log=False, low=0.01, step=None)}, trial_id=71, value=None),\n",
       " FrozenTrial(number=72, state=1, values=[0.9500000000000001], datetime_start=datetime.datetime(2024, 7, 5, 21, 51, 6, 86373), datetime_complete=datetime.datetime(2024, 7, 5, 21, 51, 6, 335043), params={'C': 0.5193894656010546, 'kernel': 'rbf', 'gamma': 0.13407702996212056}, user_attrs={'mean_fit_time': 0.01013946533203125, 'std_fit_time': 0.004636484258377243, 'mean_score_time': 0.010808547337849935, 'std_score_time': 0.01102030913749856, 'split0_test_score': 0.95, 'split1_test_score': 0.925, 'split2_test_score': 0.975, 'mean_test_score': 0.9500000000000001, 'std_test_score': 0.020412414523193124, 'split0_train_score': 0.9375, 'split1_train_score': 0.9875, 'split2_train_score': 0.9625, 'mean_train_score': 0.9625, 'std_train_score': 0.02041241452319317}, system_attrs={'terminator:cv_scores': [0.95, 0.925, 0.975]}, intermediate_values={}, distributions={'C': FloatDistribution(high=1.0, log=False, low=0.01, step=None), 'kernel': CategoricalDistribution(choices=('linear', 'poly', 'rbf', 'sigmoid')), 'gamma': FloatDistribution(high=1.0, log=False, low=0.01, step=None)}, trial_id=72, value=None),\n",
       " FrozenTrial(number=73, state=1, values=[0.9500000000000001], datetime_start=datetime.datetime(2024, 7, 5, 21, 51, 6, 172607), datetime_complete=datetime.datetime(2024, 7, 5, 21, 51, 6, 347286), params={'C': 0.5257270757669839, 'kernel': 'rbf', 'gamma': 0.33629722244663285}, user_attrs={'mean_fit_time': 0.004884401957194011, 'std_fit_time': 0.002370480063559184, 'mean_score_time': 0.006931861241658528, 'std_score_time': 0.0004159923621046798, 'split0_test_score': 0.975, 'split1_test_score': 0.9, 'split2_test_score': 0.975, 'mean_test_score': 0.9500000000000001, 'std_test_score': 0.035355339059327355, 'split0_train_score': 0.95, 'split1_train_score': 1.0, 'split2_train_score': 0.95, 'mean_train_score': 0.9666666666666667, 'std_train_score': 0.023570226039551608}, system_attrs={'terminator:cv_scores': [0.975, 0.9, 0.975]}, intermediate_values={}, distributions={'C': FloatDistribution(high=1.0, log=False, low=0.01, step=None), 'kernel': CategoricalDistribution(choices=('linear', 'poly', 'rbf', 'sigmoid')), 'gamma': FloatDistribution(high=1.0, log=False, low=0.01, step=None)}, trial_id=73, value=None),\n",
       " FrozenTrial(number=74, state=1, values=[0.9500000000000001], datetime_start=datetime.datetime(2024, 7, 5, 21, 51, 6, 182439), datetime_complete=datetime.datetime(2024, 7, 5, 21, 51, 6, 526402), params={'C': 0.5321532946519916, 'kernel': 'rbf', 'gamma': 0.511441464518497}, user_attrs={'mean_fit_time': 0.03110051155090332, 'std_fit_time': 0.016356890589702543, 'mean_score_time': 0.010197003682454428, 'std_score_time': 0.006527794850135846, 'split0_test_score': 0.975, 'split1_test_score': 0.9, 'split2_test_score': 0.975, 'mean_test_score': 0.9500000000000001, 'std_test_score': 0.035355339059327355, 'split0_train_score': 0.9625, 'split1_train_score': 1.0, 'split2_train_score': 0.9625, 'mean_train_score': 0.975, 'std_train_score': 0.017677669529663678}, system_attrs={'terminator:cv_scores': [0.975, 0.9, 0.975]}, intermediate_values={}, distributions={'C': FloatDistribution(high=1.0, log=False, low=0.01, step=None), 'kernel': CategoricalDistribution(choices=('linear', 'poly', 'rbf', 'sigmoid')), 'gamma': FloatDistribution(high=1.0, log=False, low=0.01, step=None)}, trial_id=74, value=None),\n",
       " FrozenTrial(number=75, state=1, values=[0.9500000000000001], datetime_start=datetime.datetime(2024, 7, 5, 21, 51, 6, 186975), datetime_complete=datetime.datetime(2024, 7, 5, 21, 51, 6, 418400), params={'C': 0.6222477076375472, 'kernel': 'rbf', 'gamma': 0.1322401962318375}, user_attrs={'mean_fit_time': 0.014870166778564453, 'std_fit_time': 0.007637091943349508, 'mean_score_time': 0.006494204203287761, 'std_score_time': 0.0028574658794479763, 'split0_test_score': 0.975, 'split1_test_score': 0.9, 'split2_test_score': 0.975, 'mean_test_score': 0.9500000000000001, 'std_test_score': 0.035355339059327355, 'split0_train_score': 0.95, 'split1_train_score': 0.9875, 'split2_train_score': 0.9625, 'mean_train_score': 0.9666666666666667, 'std_train_score': 0.015590239111558123}, system_attrs={'terminator:cv_scores': [0.975, 0.9, 0.975]}, intermediate_values={}, distributions={'C': FloatDistribution(high=1.0, log=False, low=0.01, step=None), 'kernel': CategoricalDistribution(choices=('linear', 'poly', 'rbf', 'sigmoid')), 'gamma': FloatDistribution(high=1.0, log=False, low=0.01, step=None)}, trial_id=75, value=None),\n",
       " FrozenTrial(number=76, state=1, values=[0.9500000000000001], datetime_start=datetime.datetime(2024, 7, 5, 21, 51, 6, 193105), datetime_complete=datetime.datetime(2024, 7, 5, 21, 51, 6, 430856), params={'C': 0.5226873299013627, 'kernel': 'rbf', 'gamma': 0.3372992263329013}, user_attrs={'mean_fit_time': 0.007703304290771484, 'std_fit_time': 0.0043991912559968845, 'mean_score_time': 0.0030317306518554688, 'std_score_time': 0.001160007426992786, 'split0_test_score': 0.975, 'split1_test_score': 0.9, 'split2_test_score': 0.975, 'mean_test_score': 0.9500000000000001, 'std_test_score': 0.035355339059327355, 'split0_train_score': 0.95, 'split1_train_score': 1.0, 'split2_train_score': 0.95, 'mean_train_score': 0.9666666666666667, 'std_train_score': 0.023570226039551608}, system_attrs={'terminator:cv_scores': [0.975, 0.9, 0.975]}, intermediate_values={}, distributions={'C': FloatDistribution(high=1.0, log=False, low=0.01, step=None), 'kernel': CategoricalDistribution(choices=('linear', 'poly', 'rbf', 'sigmoid')), 'gamma': FloatDistribution(high=1.0, log=False, low=0.01, step=None)}, trial_id=76, value=None),\n",
       " FrozenTrial(number=77, state=1, values=[0.9500000000000001], datetime_start=datetime.datetime(2024, 7, 5, 21, 51, 6, 271899), datetime_complete=datetime.datetime(2024, 7, 5, 21, 51, 6, 484547), params={'C': 0.5172728840610464, 'kernel': 'linear', 'gamma': 0.7641297399250856}, user_attrs={'mean_fit_time': 0.007263739903767903, 'std_fit_time': 0.0006679504699343384, 'mean_score_time': 0.0035001436869303384, 'std_score_time': 0.002584821820324078, 'split0_test_score': 0.975, 'split1_test_score': 0.9, 'split2_test_score': 0.975, 'mean_test_score': 0.9500000000000001, 'std_test_score': 0.035355339059327355, 'split0_train_score': 0.9875, 'split1_train_score': 1.0, 'split2_train_score': 0.95, 'mean_train_score': 0.9791666666666666, 'std_train_score': 0.021245914639969964}, system_attrs={'terminator:cv_scores': [0.975, 0.9, 0.975]}, intermediate_values={}, distributions={'C': FloatDistribution(high=1.0, log=False, low=0.01, step=None), 'kernel': CategoricalDistribution(choices=('linear', 'poly', 'rbf', 'sigmoid')), 'gamma': FloatDistribution(high=1.0, log=False, low=0.01, step=None)}, trial_id=77, value=None),\n",
       " FrozenTrial(number=78, state=1, values=[0.9500000000000001], datetime_start=datetime.datetime(2024, 7, 5, 21, 51, 6, 277618), datetime_complete=datetime.datetime(2024, 7, 5, 21, 51, 6, 505969), params={'C': 0.517618182744414, 'kernel': 'linear', 'gamma': 0.7350727203407676}, user_attrs={'mean_fit_time': 0.006082375844319661, 'std_fit_time': 0.0021465949946107344, 'mean_score_time': 0.014044682184855143, 'std_score_time': 0.009590438848628119, 'split0_test_score': 0.975, 'split1_test_score': 0.9, 'split2_test_score': 0.975, 'mean_test_score': 0.9500000000000001, 'std_test_score': 0.035355339059327355, 'split0_train_score': 0.9875, 'split1_train_score': 1.0, 'split2_train_score': 0.95, 'mean_train_score': 0.9791666666666666, 'std_train_score': 0.021245914639969964}, system_attrs={'terminator:cv_scores': [0.975, 0.9, 0.975]}, intermediate_values={}, distributions={'C': FloatDistribution(high=1.0, log=False, low=0.01, step=None), 'kernel': CategoricalDistribution(choices=('linear', 'poly', 'rbf', 'sigmoid')), 'gamma': FloatDistribution(high=1.0, log=False, low=0.01, step=None)}, trial_id=78, value=None),\n",
       " FrozenTrial(number=79, state=1, values=[0.9500000000000001], datetime_start=datetime.datetime(2024, 7, 5, 21, 51, 6, 295705), datetime_complete=datetime.datetime(2024, 7, 5, 21, 51, 6, 593526), params={'C': 0.5129972286190787, 'kernel': 'linear', 'gamma': 0.762099913437606}, user_attrs={'mean_fit_time': 0.013792912165323893, 'std_fit_time': 0.010654654140410403, 'mean_score_time': 0.0019156932830810547, 'std_score_time': 0.0006175742913416512, 'split0_test_score': 0.975, 'split1_test_score': 0.9, 'split2_test_score': 0.975, 'mean_test_score': 0.9500000000000001, 'std_test_score': 0.035355339059327355, 'split0_train_score': 0.9875, 'split1_train_score': 1.0, 'split2_train_score': 0.95, 'mean_train_score': 0.9791666666666666, 'std_train_score': 0.021245914639969964}, system_attrs={'terminator:cv_scores': [0.975, 0.9, 0.975]}, intermediate_values={}, distributions={'C': FloatDistribution(high=1.0, log=False, low=0.01, step=None), 'kernel': CategoricalDistribution(choices=('linear', 'poly', 'rbf', 'sigmoid')), 'gamma': FloatDistribution(high=1.0, log=False, low=0.01, step=None)}, trial_id=79, value=None),\n",
       " FrozenTrial(number=80, state=1, values=[0.9583333333333334], datetime_start=datetime.datetime(2024, 7, 5, 21, 51, 6, 369044), datetime_complete=datetime.datetime(2024, 7, 5, 21, 51, 6, 692717), params={'C': 0.3147729340922557, 'kernel': 'linear', 'gamma': 0.7578044337069392}, user_attrs={'mean_fit_time': 0.012714227040608725, 'std_fit_time': 0.005697131143479408, 'mean_score_time': 0.00731356938680013, 'std_score_time': 0.0042919416425733275, 'split0_test_score': 0.975, 'split1_test_score': 0.9, 'split2_test_score': 1.0, 'mean_test_score': 0.9583333333333334, 'std_test_score': 0.04249182927993986, 'split0_train_score': 0.9625, 'split1_train_score': 1.0, 'split2_train_score': 0.95, 'mean_train_score': 0.9708333333333332, 'std_train_score': 0.021245914639969946}, system_attrs={'terminator:cv_scores': [0.975, 0.9, 1.0]}, intermediate_values={}, distributions={'C': FloatDistribution(high=1.0, log=False, low=0.01, step=None), 'kernel': CategoricalDistribution(choices=('linear', 'poly', 'rbf', 'sigmoid')), 'gamma': FloatDistribution(high=1.0, log=False, low=0.01, step=None)}, trial_id=80, value=None),\n",
       " FrozenTrial(number=81, state=1, values=[0.9583333333333334], datetime_start=datetime.datetime(2024, 7, 5, 21, 51, 6, 391361), datetime_complete=datetime.datetime(2024, 7, 5, 21, 51, 6, 673498), params={'C': 0.3169054638449668, 'kernel': 'linear', 'gamma': 0.7313665137110347}, user_attrs={'mean_fit_time': 0.01346882184346517, 'std_fit_time': 0.009668897909506098, 'mean_score_time': 0.007938067118326822, 'std_score_time': 0.001211384511021648, 'split0_test_score': 0.975, 'split1_test_score': 0.9, 'split2_test_score': 1.0, 'mean_test_score': 0.9583333333333334, 'std_test_score': 0.04249182927993986, 'split0_train_score': 0.9625, 'split1_train_score': 1.0, 'split2_train_score': 0.95, 'mean_train_score': 0.9708333333333332, 'std_train_score': 0.021245914639969946}, system_attrs={'terminator:cv_scores': [0.975, 0.9, 1.0]}, intermediate_values={}, distributions={'C': FloatDistribution(high=1.0, log=False, low=0.01, step=None), 'kernel': CategoricalDistribution(choices=('linear', 'poly', 'rbf', 'sigmoid')), 'gamma': FloatDistribution(high=1.0, log=False, low=0.01, step=None)}, trial_id=81, value=None),\n",
       " FrozenTrial(number=82, state=1, values=[0.9583333333333334], datetime_start=datetime.datetime(2024, 7, 5, 21, 51, 6, 394119), datetime_complete=datetime.datetime(2024, 7, 5, 21, 51, 6, 713076), params={'C': 0.2350769585239589, 'kernel': 'linear', 'gamma': 0.7226384345228581}, user_attrs={'mean_fit_time': 0.0037663777669270835, 'std_fit_time': 0.0021303219374706897, 'mean_score_time': 0.006604989369710286, 'std_score_time': 0.000960268870119134, 'split0_test_score': 0.975, 'split1_test_score': 0.9, 'split2_test_score': 1.0, 'mean_test_score': 0.9583333333333334, 'std_test_score': 0.04249182927993986, 'split0_train_score': 0.9625, 'split1_train_score': 1.0, 'split2_train_score': 0.9625, 'mean_train_score': 0.975, 'std_train_score': 0.017677669529663678}, system_attrs={'terminator:cv_scores': [0.975, 0.9, 1.0]}, intermediate_values={}, distributions={'C': FloatDistribution(high=1.0, log=False, low=0.01, step=None), 'kernel': CategoricalDistribution(choices=('linear', 'poly', 'rbf', 'sigmoid')), 'gamma': FloatDistribution(high=1.0, log=False, low=0.01, step=None)}, trial_id=82, value=None),\n",
       " FrozenTrial(number=83, state=1, values=[0.9583333333333334], datetime_start=datetime.datetime(2024, 7, 5, 21, 51, 6, 445152), datetime_complete=datetime.datetime(2024, 7, 5, 21, 51, 6, 742326), params={'C': 0.37071036029140714, 'kernel': 'linear', 'gamma': 0.7559976899186254}, user_attrs={'mean_fit_time': 0.012970924377441406, 'std_fit_time': 0.012593098510429357, 'mean_score_time': 0.003926753997802734, 'std_score_time': 0.0017381794625140586, 'split0_test_score': 0.975, 'split1_test_score': 0.9, 'split2_test_score': 1.0, 'mean_test_score': 0.9583333333333334, 'std_test_score': 0.04249182927993986, 'split0_train_score': 0.975, 'split1_train_score': 1.0, 'split2_train_score': 0.9625, 'mean_train_score': 0.9791666666666666, 'std_train_score': 0.015590239111558084}, system_attrs={'terminator:cv_scores': [0.975, 0.9, 1.0]}, intermediate_values={}, distributions={'C': FloatDistribution(high=1.0, log=False, low=0.01, step=None), 'kernel': CategoricalDistribution(choices=('linear', 'poly', 'rbf', 'sigmoid')), 'gamma': FloatDistribution(high=1.0, log=False, low=0.01, step=None)}, trial_id=83, value=None),\n",
       " FrozenTrial(number=84, state=1, values=[0.9583333333333334], datetime_start=datetime.datetime(2024, 7, 5, 21, 51, 6, 469191), datetime_complete=datetime.datetime(2024, 7, 5, 21, 51, 6, 910356), params={'C': 0.3122398409822909, 'kernel': 'linear', 'gamma': 0.5054151522065717}, user_attrs={'mean_fit_time': 0.01841560999552409, 'std_fit_time': 0.010612023403158805, 'mean_score_time': 0.00948476791381836, 'std_score_time': 0.005950405148720744, 'split0_test_score': 0.975, 'split1_test_score': 0.9, 'split2_test_score': 1.0, 'mean_test_score': 0.9583333333333334, 'std_test_score': 0.04249182927993986, 'split0_train_score': 0.9625, 'split1_train_score': 1.0, 'split2_train_score': 0.95, 'mean_train_score': 0.9708333333333332, 'std_train_score': 0.021245914639969946}, system_attrs={'terminator:cv_scores': [0.975, 0.9, 1.0]}, intermediate_values={}, distributions={'C': FloatDistribution(high=1.0, log=False, low=0.01, step=None), 'kernel': CategoricalDistribution(choices=('linear', 'poly', 'rbf', 'sigmoid')), 'gamma': FloatDistribution(high=1.0, log=False, low=0.01, step=None)}, trial_id=84, value=None),\n",
       " FrozenTrial(number=85, state=1, values=[0.975], datetime_start=datetime.datetime(2024, 7, 5, 21, 51, 6, 497930), datetime_complete=datetime.datetime(2024, 7, 5, 21, 51, 7, 22589), params={'C': 0.7852958362945321, 'kernel': 'linear', 'gamma': 0.06351868259890743}, user_attrs={'mean_fit_time': 0.026409467061360676, 'std_fit_time': 0.010941466338680771, 'mean_score_time': 0.015909671783447266, 'std_score_time': 0.015048065791553709, 'split0_test_score': 1.0, 'split1_test_score': 0.925, 'split2_test_score': 1.0, 'mean_test_score': 0.975, 'std_test_score': 0.035355339059327355, 'split0_train_score': 0.9875, 'split1_train_score': 1.0, 'split2_train_score': 0.95, 'mean_train_score': 0.9791666666666666, 'std_train_score': 0.021245914639969964}, system_attrs={'terminator:cv_scores': [1.0, 0.925, 1.0]}, intermediate_values={}, distributions={'C': FloatDistribution(high=1.0, log=False, low=0.01, step=None), 'kernel': CategoricalDistribution(choices=('linear', 'poly', 'rbf', 'sigmoid')), 'gamma': FloatDistribution(high=1.0, log=False, low=0.01, step=None)}, trial_id=85, value=None),\n",
       " FrozenTrial(number=86, state=1, values=[0.9583333333333334], datetime_start=datetime.datetime(2024, 7, 5, 21, 51, 6, 510020), datetime_complete=datetime.datetime(2024, 7, 5, 21, 51, 6, 872827), params={'C': 0.3673141572811234, 'kernel': 'linear', 'gamma': 0.5134908478829342}, user_attrs={'mean_fit_time': 0.022382020950317383, 'std_fit_time': 0.015708978523737902, 'mean_score_time': 0.009214162826538086, 'std_score_time': 0.003944734127042117, 'split0_test_score': 0.975, 'split1_test_score': 0.9, 'split2_test_score': 1.0, 'mean_test_score': 0.9583333333333334, 'std_test_score': 0.04249182927993986, 'split0_train_score': 0.9625, 'split1_train_score': 1.0, 'split2_train_score': 0.9625, 'mean_train_score': 0.975, 'std_train_score': 0.017677669529663678}, system_attrs={'terminator:cv_scores': [0.975, 0.9, 1.0]}, intermediate_values={}, distributions={'C': FloatDistribution(high=1.0, log=False, low=0.01, step=None), 'kernel': CategoricalDistribution(choices=('linear', 'poly', 'rbf', 'sigmoid')), 'gamma': FloatDistribution(high=1.0, log=False, low=0.01, step=None)}, trial_id=86, value=None),\n",
       " FrozenTrial(number=87, state=1, values=[0.9583333333333334], datetime_start=datetime.datetime(2024, 7, 5, 21, 51, 6, 523144), datetime_complete=datetime.datetime(2024, 7, 5, 21, 51, 7, 2135), params={'C': 0.36644511047082595, 'kernel': 'linear', 'gamma': 0.5033162530716812}, user_attrs={'mean_fit_time': 0.023186763127644856, 'std_fit_time': 0.021037939968104085, 'mean_score_time': 0.0054543813069661455, 'std_score_time': 0.0026911243643704657, 'split0_test_score': 0.975, 'split1_test_score': 0.9, 'split2_test_score': 1.0, 'mean_test_score': 0.9583333333333334, 'std_test_score': 0.04249182927993986, 'split0_train_score': 0.9625, 'split1_train_score': 1.0, 'split2_train_score': 0.95, 'mean_train_score': 0.9708333333333332, 'std_train_score': 0.021245914639969946}, system_attrs={'terminator:cv_scores': [0.975, 0.9, 1.0]}, intermediate_values={}, distributions={'C': FloatDistribution(high=1.0, log=False, low=0.01, step=None), 'kernel': CategoricalDistribution(choices=('linear', 'poly', 'rbf', 'sigmoid')), 'gamma': FloatDistribution(high=1.0, log=False, low=0.01, step=None)}, trial_id=87, value=None),\n",
       " FrozenTrial(number=88, state=1, values=[0.9583333333333334], datetime_start=datetime.datetime(2024, 7, 5, 21, 51, 6, 537414), datetime_complete=datetime.datetime(2024, 7, 5, 21, 51, 6, 955843), params={'C': 0.23633331763199963, 'kernel': 'linear', 'gamma': 0.04936857051999513}, user_attrs={'mean_fit_time': 0.025048176447550457, 'std_fit_time': 0.00942916112574541, 'mean_score_time': 0.006112893422444661, 'std_score_time': 0.0010052899400996857, 'split0_test_score': 0.975, 'split1_test_score': 0.9, 'split2_test_score': 1.0, 'mean_test_score': 0.9583333333333334, 'std_test_score': 0.04249182927993986, 'split0_train_score': 0.9625, 'split1_train_score': 1.0, 'split2_train_score': 0.9625, 'mean_train_score': 0.975, 'std_train_score': 0.017677669529663678}, system_attrs={'terminator:cv_scores': [0.975, 0.9, 1.0]}, intermediate_values={}, distributions={'C': FloatDistribution(high=1.0, log=False, low=0.01, step=None), 'kernel': CategoricalDistribution(choices=('linear', 'poly', 'rbf', 'sigmoid')), 'gamma': FloatDistribution(high=1.0, log=False, low=0.01, step=None)}, trial_id=88, value=None),\n",
       " FrozenTrial(number=89, state=1, values=[0.9583333333333334], datetime_start=datetime.datetime(2024, 7, 5, 21, 51, 6, 552550), datetime_complete=datetime.datetime(2024, 7, 5, 21, 51, 6, 967886), params={'C': 0.2423268874768905, 'kernel': 'linear', 'gamma': 0.06701305344808381}, user_attrs={'mean_fit_time': 0.024292469024658203, 'std_fit_time': 0.017186967831264124, 'mean_score_time': 0.009367863337198893, 'std_score_time': 0.008254324860403946, 'split0_test_score': 0.975, 'split1_test_score': 0.9, 'split2_test_score': 1.0, 'mean_test_score': 0.9583333333333334, 'std_test_score': 0.04249182927993986, 'split0_train_score': 0.9625, 'split1_train_score': 1.0, 'split2_train_score': 0.9625, 'mean_train_score': 0.975, 'std_train_score': 0.017677669529663678}, system_attrs={'terminator:cv_scores': [0.975, 0.9, 1.0]}, intermediate_values={}, distributions={'C': FloatDistribution(high=1.0, log=False, low=0.01, step=None), 'kernel': CategoricalDistribution(choices=('linear', 'poly', 'rbf', 'sigmoid')), 'gamma': FloatDistribution(high=1.0, log=False, low=0.01, step=None)}, trial_id=89, value=None),\n",
       " FrozenTrial(number=90, state=1, values=[0.9583333333333334], datetime_start=datetime.datetime(2024, 7, 5, 21, 51, 6, 627519), datetime_complete=datetime.datetime(2024, 7, 5, 21, 51, 7, 59063), params={'C': 0.23617516443985315, 'kernel': 'linear', 'gamma': 0.7009508811690532}, user_attrs={'mean_fit_time': 0.028515418370564777, 'std_fit_time': 0.0204038992790403, 'mean_score_time': 0.005615075429280599, 'std_score_time': 0.0021747671139729368, 'split0_test_score': 0.975, 'split1_test_score': 0.9, 'split2_test_score': 1.0, 'mean_test_score': 0.9583333333333334, 'std_test_score': 0.04249182927993986, 'split0_train_score': 0.9625, 'split1_train_score': 1.0, 'split2_train_score': 0.9625, 'mean_train_score': 0.975, 'std_train_score': 0.017677669529663678}, system_attrs={'terminator:cv_scores': [0.975, 0.9, 1.0]}, intermediate_values={}, distributions={'C': FloatDistribution(high=1.0, log=False, low=0.01, step=None), 'kernel': CategoricalDistribution(choices=('linear', 'poly', 'rbf', 'sigmoid')), 'gamma': FloatDistribution(high=1.0, log=False, low=0.01, step=None)}, trial_id=90, value=None),\n",
       " FrozenTrial(number=91, state=1, values=[0.9583333333333334], datetime_start=datetime.datetime(2024, 7, 5, 21, 51, 6, 644335), datetime_complete=datetime.datetime(2024, 7, 5, 21, 51, 6, 993465), params={'C': 0.36859258179789023, 'kernel': 'linear', 'gamma': 0.05564276960431912}, user_attrs={'mean_fit_time': 0.021176258722941082, 'std_fit_time': 0.010329055156878486, 'mean_score_time': 0.010479211807250977, 'std_score_time': 0.004319614222750951, 'split0_test_score': 0.975, 'split1_test_score': 0.9, 'split2_test_score': 1.0, 'mean_test_score': 0.9583333333333334, 'std_test_score': 0.04249182927993986, 'split0_train_score': 0.9625, 'split1_train_score': 1.0, 'split2_train_score': 0.9625, 'mean_train_score': 0.975, 'std_train_score': 0.017677669529663678}, system_attrs={'terminator:cv_scores': [0.975, 0.9, 1.0]}, intermediate_values={}, distributions={'C': FloatDistribution(high=1.0, log=False, low=0.01, step=None), 'kernel': CategoricalDistribution(choices=('linear', 'poly', 'rbf', 'sigmoid')), 'gamma': FloatDistribution(high=1.0, log=False, low=0.01, step=None)}, trial_id=91, value=None),\n",
       " FrozenTrial(number=92, state=1, values=[0.9583333333333334], datetime_start=datetime.datetime(2024, 7, 5, 21, 51, 6, 714290), datetime_complete=datetime.datetime(2024, 7, 5, 21, 51, 7, 102298), params={'C': 0.37179791246868504, 'kernel': 'linear', 'gamma': 0.6934406873068507}, user_attrs={'mean_fit_time': 0.018013954162597656, 'std_fit_time': 0.019389198414940866, 'mean_score_time': 0.009193102518717447, 'std_score_time': 0.0049855024703658385, 'split0_test_score': 0.975, 'split1_test_score': 0.9, 'split2_test_score': 1.0, 'mean_test_score': 0.9583333333333334, 'std_test_score': 0.04249182927993986, 'split0_train_score': 0.975, 'split1_train_score': 1.0, 'split2_train_score': 0.9625, 'mean_train_score': 0.9791666666666666, 'std_train_score': 0.015590239111558084}, system_attrs={'terminator:cv_scores': [0.975, 0.9, 1.0]}, intermediate_values={}, distributions={'C': FloatDistribution(high=1.0, log=False, low=0.01, step=None), 'kernel': CategoricalDistribution(choices=('linear', 'poly', 'rbf', 'sigmoid')), 'gamma': FloatDistribution(high=1.0, log=False, low=0.01, step=None)}, trial_id=92, value=None),\n",
       " FrozenTrial(number=93, state=1, values=[0.9583333333333334], datetime_start=datetime.datetime(2024, 7, 5, 21, 51, 6, 745880), datetime_complete=datetime.datetime(2024, 7, 5, 21, 51, 7, 86468), params={'C': 0.3814980132600984, 'kernel': 'linear', 'gamma': 0.6115335272029975}, user_attrs={'mean_fit_time': 0.027242263158162434, 'std_fit_time': 0.02700216441713569, 'mean_score_time': 0.004711310068766276, 'std_score_time': 0.003991680391432732, 'split0_test_score': 0.975, 'split1_test_score': 0.9, 'split2_test_score': 1.0, 'mean_test_score': 0.9583333333333334, 'std_test_score': 0.04249182927993986, 'split0_train_score': 0.975, 'split1_train_score': 1.0, 'split2_train_score': 0.9625, 'mean_train_score': 0.9791666666666666, 'std_train_score': 0.015590239111558084}, system_attrs={'terminator:cv_scores': [0.975, 0.9, 1.0]}, intermediate_values={}, distributions={'C': FloatDistribution(high=1.0, log=False, low=0.01, step=None), 'kernel': CategoricalDistribution(choices=('linear', 'poly', 'rbf', 'sigmoid')), 'gamma': FloatDistribution(high=1.0, log=False, low=0.01, step=None)}, trial_id=93, value=None),\n",
       " FrozenTrial(number=94, state=1, values=[0.9666666666666667], datetime_start=datetime.datetime(2024, 7, 5, 21, 51, 6, 749156), datetime_complete=datetime.datetime(2024, 7, 5, 21, 51, 7, 145336), params={'C': 0.4452728778651728, 'kernel': 'linear', 'gamma': 0.6032270212601432}, user_attrs={'mean_fit_time': 0.014157931009928385, 'std_fit_time': 0.00494582521486064, 'mean_score_time': 0.018091917037963867, 'std_score_time': 0.011909563088552167, 'split0_test_score': 1.0, 'split1_test_score': 0.9, 'split2_test_score': 1.0, 'mean_test_score': 0.9666666666666667, 'std_test_score': 0.04714045207910316, 'split0_train_score': 0.9875, 'split1_train_score': 1.0, 'split2_train_score': 0.9625, 'mean_train_score': 0.9833333333333334, 'std_train_score': 0.015590239111558084}, system_attrs={'terminator:cv_scores': [1.0, 0.9, 1.0]}, intermediate_values={}, distributions={'C': FloatDistribution(high=1.0, log=False, low=0.01, step=None), 'kernel': CategoricalDistribution(choices=('linear', 'poly', 'rbf', 'sigmoid')), 'gamma': FloatDistribution(high=1.0, log=False, low=0.01, step=None)}, trial_id=94, value=None),\n",
       " FrozenTrial(number=95, state=1, values=[0.9583333333333334], datetime_start=datetime.datetime(2024, 7, 5, 21, 51, 6, 781038), datetime_complete=datetime.datetime(2024, 7, 5, 21, 51, 7, 122885), params={'C': 0.36223404665689674, 'kernel': 'linear', 'gamma': 0.5992739103685527}, user_attrs={'mean_fit_time': 0.010689020156860352, 'std_fit_time': 0.008709183272234109, 'mean_score_time': 0.007625261942545573, 'std_score_time': 0.0027382108841335876, 'split0_test_score': 0.975, 'split1_test_score': 0.9, 'split2_test_score': 1.0, 'mean_test_score': 0.9583333333333334, 'std_test_score': 0.04249182927993986, 'split0_train_score': 0.9625, 'split1_train_score': 1.0, 'split2_train_score': 0.95, 'mean_train_score': 0.9708333333333332, 'std_train_score': 0.021245914639969946}, system_attrs={'terminator:cv_scores': [0.975, 0.9, 1.0]}, intermediate_values={}, distributions={'C': FloatDistribution(high=1.0, log=False, low=0.01, step=None), 'kernel': CategoricalDistribution(choices=('linear', 'poly', 'rbf', 'sigmoid')), 'gamma': FloatDistribution(high=1.0, log=False, low=0.01, step=None)}, trial_id=95, value=None),\n",
       " FrozenTrial(number=96, state=1, values=[0.9583333333333334], datetime_start=datetime.datetime(2024, 7, 5, 21, 51, 6, 920105), datetime_complete=datetime.datetime(2024, 7, 5, 21, 51, 7, 162800), params={'C': 0.36081354164643303, 'kernel': 'linear', 'gamma': 0.6904005362985546}, user_attrs={'mean_fit_time': 0.017414967219034832, 'std_fit_time': 0.010155315978739705, 'mean_score_time': 0.004964431126912435, 'std_score_time': 0.002041440260197841, 'split0_test_score': 0.975, 'split1_test_score': 0.9, 'split2_test_score': 1.0, 'mean_test_score': 0.9583333333333334, 'std_test_score': 0.04249182927993986, 'split0_train_score': 0.9625, 'split1_train_score': 1.0, 'split2_train_score': 0.95, 'mean_train_score': 0.9708333333333332, 'std_train_score': 0.021245914639969946}, system_attrs={'terminator:cv_scores': [0.975, 0.9, 1.0]}, intermediate_values={}, distributions={'C': FloatDistribution(high=1.0, log=False, low=0.01, step=None), 'kernel': CategoricalDistribution(choices=('linear', 'poly', 'rbf', 'sigmoid')), 'gamma': FloatDistribution(high=1.0, log=False, low=0.01, step=None)}, trial_id=96, value=None),\n",
       " FrozenTrial(number=97, state=1, values=[0.9666666666666667], datetime_start=datetime.datetime(2024, 7, 5, 21, 51, 6, 969318), datetime_complete=datetime.datetime(2024, 7, 5, 21, 51, 7, 178608), params={'C': 0.4406755982579123, 'kernel': 'linear', 'gamma': 0.6104690890281559}, user_attrs={'mean_fit_time': 0.005968888600667317, 'std_fit_time': 0.0026783929829391068, 'mean_score_time': 0.004338184992472331, 'std_score_time': 0.0027206668635266365, 'split0_test_score': 1.0, 'split1_test_score': 0.9, 'split2_test_score': 1.0, 'mean_test_score': 0.9666666666666667, 'std_test_score': 0.04714045207910316, 'split0_train_score': 0.9875, 'split1_train_score': 1.0, 'split2_train_score': 0.9625, 'mean_train_score': 0.9833333333333334, 'std_train_score': 0.015590239111558084}, system_attrs={'terminator:cv_scores': [1.0, 0.9, 1.0]}, intermediate_values={}, distributions={'C': FloatDistribution(high=1.0, log=False, low=0.01, step=None), 'kernel': CategoricalDistribution(choices=('linear', 'poly', 'rbf', 'sigmoid')), 'gamma': FloatDistribution(high=1.0, log=False, low=0.01, step=None)}, trial_id=97, value=None),\n",
       " FrozenTrial(number=98, state=1, values=[0.975], datetime_start=datetime.datetime(2024, 7, 5, 21, 51, 6, 977995), datetime_complete=datetime.datetime(2024, 7, 5, 21, 51, 7, 169222), params={'C': 0.7791378067494497, 'kernel': 'linear', 'gamma': 0.6958198786304804}, user_attrs={'mean_fit_time': 0.004279692967732747, 'std_fit_time': 0.0031640903479969924, 'mean_score_time': 0.002215226491292318, 'std_score_time': 0.0007894532353629821, 'split0_test_score': 1.0, 'split1_test_score': 0.925, 'split2_test_score': 1.0, 'mean_test_score': 0.975, 'std_test_score': 0.035355339059327355, 'split0_train_score': 0.9875, 'split1_train_score': 1.0, 'split2_train_score': 0.95, 'mean_train_score': 0.9791666666666666, 'std_train_score': 0.021245914639969964}, system_attrs={'terminator:cv_scores': [1.0, 0.925, 1.0]}, intermediate_values={}, distributions={'C': FloatDistribution(high=1.0, log=False, low=0.01, step=None), 'kernel': CategoricalDistribution(choices=('linear', 'poly', 'rbf', 'sigmoid')), 'gamma': FloatDistribution(high=1.0, log=False, low=0.01, step=None)}, trial_id=98, value=None),\n",
       " FrozenTrial(number=99, state=1, values=[0.975], datetime_start=datetime.datetime(2024, 7, 5, 21, 51, 6, 996491), datetime_complete=datetime.datetime(2024, 7, 5, 21, 51, 7, 165390), params={'C': 0.7850611250772358, 'kernel': 'linear', 'gamma': 0.6129172008748487}, user_attrs={'mean_fit_time': 0.008046150207519531, 'std_fit_time': 0.002119718218125207, 'mean_score_time': 0.005566517512003581, 'std_score_time': 0.005823537159288452, 'split0_test_score': 1.0, 'split1_test_score': 0.925, 'split2_test_score': 1.0, 'mean_test_score': 0.975, 'std_test_score': 0.035355339059327355, 'split0_train_score': 0.9875, 'split1_train_score': 1.0, 'split2_train_score': 0.95, 'mean_train_score': 0.9791666666666666, 'std_train_score': 0.021245914639969964}, system_attrs={'terminator:cv_scores': [1.0, 0.925, 1.0]}, intermediate_values={}, distributions={'C': FloatDistribution(high=1.0, log=False, low=0.01, step=None), 'kernel': CategoricalDistribution(choices=('linear', 'poly', 'rbf', 'sigmoid')), 'gamma': FloatDistribution(high=1.0, log=False, low=0.01, step=None)}, trial_id=99, value=None)]"
      ]
     },
     "execution_count": 9,
     "metadata": {},
     "output_type": "execute_result"
    }
   ],
   "source": [
    "optuna_search.trials_\n"
   ]
  },
  {
   "cell_type": "code",
   "execution_count": null,
   "metadata": {},
   "outputs": [],
   "source": []
  }
 ],
 "metadata": {
  "kernelspec": {
   "display_name": "ai4meta",
   "language": "python",
   "name": "python3"
  },
  "language_info": {
   "codemirror_mode": {
    "name": "ipython",
    "version": 3
   },
   "file_extension": ".py",
   "mimetype": "text/x-python",
   "name": "python",
   "nbconvert_exporter": "python",
   "pygments_lexer": "ipython3",
   "version": "3.11.8"
  }
 },
 "nbformat": 4,
 "nbformat_minor": 2
}
