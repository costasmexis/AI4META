{
 "cells": [
  {
   "cell_type": "code",
   "execution_count": 1,
   "metadata": {},
   "outputs": [
    {
     "name": "stderr",
     "output_type": "stream",
     "text": [
      "/home/costasmexis/pyenvs/main/lib/python3.10/site-packages/tqdm/auto.py:21: TqdmWarning: IProgress not found. Please update jupyter and ipywidgets. See https://ipywidgets.readthedocs.io/en/stable/user_install.html\n",
      "  from .autonotebook import tqdm as notebook_tqdm\n"
     ]
    }
   ],
   "source": [
    "from machinelearning.mlpipeline import MLPipelines\n",
    "\n",
    "from sklearn.linear_model import LogisticRegression\n",
    "from sklearn.ensemble import RandomForestClassifier\n",
    "from sklearn.svm import SVC\n",
    "\n",
    "model = LogisticRegression()\n",
    "param_grid = {\n",
    "    'C': [0.001, 0.01, 0.1, 1],\n",
    "    'penalty': ['l1', 'l2']\n",
    "}\n",
    "csv_dir = 'data/composite_dataset.csv'\n",
    "label = 'group'\n",
    "\n",
    "model = RandomForestClassifier()\n",
    "param_grid = {\n",
    "    'n_estimators': [10, 20, 50],\n",
    "    'max_depth': [None, 5, 10, 20],\n",
    "    'min_samples_split': [2, 5, 10],\n",
    "    'min_samples_leaf': [1, 2, 4]\n",
    "}\n",
    "\n",
    "mlpipe = MLPipelines(estimator=model, param_grid=param_grid, label=label, csv_dir=csv_dir)\n",
    "mlpipe.normalize()"
   ]
  },
  {
   "cell_type": "code",
   "execution_count": 2,
   "metadata": {},
   "outputs": [],
   "source": [
    "mlpipe.create_test_data()"
   ]
  },
  {
   "cell_type": "code",
   "execution_count": null,
   "metadata": {},
   "outputs": [],
   "source": [
    "eval = mlpipe.bootsrap(optimizer='random_search', \\\n",
    "    random_iter=3, n_iter=3)"
   ]
  },
  {
   "cell_type": "code",
   "execution_count": 3,
   "metadata": {},
   "outputs": [
    {
     "name": "stdout",
     "output_type": "stream",
     "text": [
      "Best parameters: {'n_estimators': 50, 'min_samples_split': 5, 'min_samples_leaf': 1, 'max_depth': 5}\n",
      "Best accuracy: 0.7742857142857142\n"
     ]
    }
   ],
   "source": [
    "mlpipe.random_search(n_iter=10)"
   ]
  },
  {
   "cell_type": "code",
   "execution_count": 4,
   "metadata": {},
   "outputs": [
    {
     "data": {
      "text/html": [
       "<style>#sk-container-id-1 {color: black;}#sk-container-id-1 pre{padding: 0;}#sk-container-id-1 div.sk-toggleable {background-color: white;}#sk-container-id-1 label.sk-toggleable__label {cursor: pointer;display: block;width: 100%;margin-bottom: 0;padding: 0.3em;box-sizing: border-box;text-align: center;}#sk-container-id-1 label.sk-toggleable__label-arrow:before {content: \"▸\";float: left;margin-right: 0.25em;color: #696969;}#sk-container-id-1 label.sk-toggleable__label-arrow:hover:before {color: black;}#sk-container-id-1 div.sk-estimator:hover label.sk-toggleable__label-arrow:before {color: black;}#sk-container-id-1 div.sk-toggleable__content {max-height: 0;max-width: 0;overflow: hidden;text-align: left;background-color: #f0f8ff;}#sk-container-id-1 div.sk-toggleable__content pre {margin: 0.2em;color: black;border-radius: 0.25em;background-color: #f0f8ff;}#sk-container-id-1 input.sk-toggleable__control:checked~div.sk-toggleable__content {max-height: 200px;max-width: 100%;overflow: auto;}#sk-container-id-1 input.sk-toggleable__control:checked~label.sk-toggleable__label-arrow:before {content: \"▾\";}#sk-container-id-1 div.sk-estimator input.sk-toggleable__control:checked~label.sk-toggleable__label {background-color: #d4ebff;}#sk-container-id-1 div.sk-label input.sk-toggleable__control:checked~label.sk-toggleable__label {background-color: #d4ebff;}#sk-container-id-1 input.sk-hidden--visually {border: 0;clip: rect(1px 1px 1px 1px);clip: rect(1px, 1px, 1px, 1px);height: 1px;margin: -1px;overflow: hidden;padding: 0;position: absolute;width: 1px;}#sk-container-id-1 div.sk-estimator {font-family: monospace;background-color: #f0f8ff;border: 1px dotted black;border-radius: 0.25em;box-sizing: border-box;margin-bottom: 0.5em;}#sk-container-id-1 div.sk-estimator:hover {background-color: #d4ebff;}#sk-container-id-1 div.sk-parallel-item::after {content: \"\";width: 100%;border-bottom: 1px solid gray;flex-grow: 1;}#sk-container-id-1 div.sk-label:hover label.sk-toggleable__label {background-color: #d4ebff;}#sk-container-id-1 div.sk-serial::before {content: \"\";position: absolute;border-left: 1px solid gray;box-sizing: border-box;top: 0;bottom: 0;left: 50%;z-index: 0;}#sk-container-id-1 div.sk-serial {display: flex;flex-direction: column;align-items: center;background-color: white;padding-right: 0.2em;padding-left: 0.2em;position: relative;}#sk-container-id-1 div.sk-item {position: relative;z-index: 1;}#sk-container-id-1 div.sk-parallel {display: flex;align-items: stretch;justify-content: center;background-color: white;position: relative;}#sk-container-id-1 div.sk-item::before, #sk-container-id-1 div.sk-parallel-item::before {content: \"\";position: absolute;border-left: 1px solid gray;box-sizing: border-box;top: 0;bottom: 0;left: 50%;z-index: -1;}#sk-container-id-1 div.sk-parallel-item {display: flex;flex-direction: column;z-index: 1;position: relative;background-color: white;}#sk-container-id-1 div.sk-parallel-item:first-child::after {align-self: flex-end;width: 50%;}#sk-container-id-1 div.sk-parallel-item:last-child::after {align-self: flex-start;width: 50%;}#sk-container-id-1 div.sk-parallel-item:only-child::after {width: 0;}#sk-container-id-1 div.sk-dashed-wrapped {border: 1px dashed gray;margin: 0 0.4em 0.5em 0.4em;box-sizing: border-box;padding-bottom: 0.4em;background-color: white;}#sk-container-id-1 div.sk-label label {font-family: monospace;font-weight: bold;display: inline-block;line-height: 1.2em;}#sk-container-id-1 div.sk-label-container {text-align: center;}#sk-container-id-1 div.sk-container {/* jupyter's `normalize.less` sets `[hidden] { display: none; }` but bootstrap.min.css set `[hidden] { display: none !important; }` so we also need the `!important` here to be able to override the default hidden behavior on the sphinx rendered scikit-learn.org. See: https://github.com/scikit-learn/scikit-learn/issues/21755 */display: inline-block !important;position: relative;}#sk-container-id-1 div.sk-text-repr-fallback {display: none;}</style><div id=\"sk-container-id-1\" class=\"sk-top-container\"><div class=\"sk-text-repr-fallback\"><pre>RandomForestClassifier(max_depth=5, min_samples_split=5, n_estimators=50)</pre><b>In a Jupyter environment, please rerun this cell to show the HTML representation or trust the notebook. <br />On GitHub, the HTML representation is unable to render, please try loading this page with nbviewer.org.</b></div><div class=\"sk-container\" hidden><div class=\"sk-item\"><div class=\"sk-estimator sk-toggleable\"><input class=\"sk-toggleable__control sk-hidden--visually\" id=\"sk-estimator-id-1\" type=\"checkbox\" checked><label for=\"sk-estimator-id-1\" class=\"sk-toggleable__label sk-toggleable__label-arrow\">RandomForestClassifier</label><div class=\"sk-toggleable__content\"><pre>RandomForestClassifier(max_depth=5, min_samples_split=5, n_estimators=50)</pre></div></div></div></div></div>"
      ],
      "text/plain": [
       "RandomForestClassifier(max_depth=5, min_samples_split=5, n_estimators=50)"
      ]
     },
     "execution_count": 4,
     "metadata": {},
     "output_type": "execute_result"
    }
   ],
   "source": [
    "mlpipe.best_estimator"
   ]
  },
  {
   "cell_type": "code",
   "execution_count": null,
   "metadata": {},
   "outputs": [],
   "source": [
    "class BayesianOptimization(MachineLearningEstimator):\n",
    "    \n",
    "    def __init__(self, X_train, y_train, X_test, y_test, \n",
    "                 estimator, param_grid, label, csv_dir,\n",
    "                 scoring='accuracy', direction='maximize'):\n",
    "        \n",
    "        super().__init__(estimator, param_grid, label, csv_dir)\n",
    "        self.X_train = X_train\n",
    "        self.y_train = y_train\n",
    "        self.X_test = X_test\n",
    "        self.y_test = y_test\n",
    "        \n",
    "        self.scoring = scoring\n",
    "        self.direction = direction\n",
    "\n",
    "        if self.scoring not in sklearn.metrics.SCORERS.keys():\n",
    "            raise ValueError(f'Invalid scoring metric: {self.scoring}. Select one of the following: {list(sklearn.metrics.SCORERS.keys())}')\n",
    "\n",
    "        self.available_clf = {\n",
    "            'RandomForestClassifier': RandomForestClassifier,\n",
    "            'KNeighborsClassifier': KNeighborsClassifier,\n",
    "            'DecisionTreeClassifier': DecisionTreeClassifier,\n",
    "            'SVC': SVC,\n",
    "            'GradientBoostingClassifier': GradientBoostingClassifier\n",
    "        }\n",
    "\n",
    "        if self.estimator in self.available_clf.values():\n",
    "            raise ValueError(f'Invalid estimator: {self.estimator}. Select one of the following: {list(self.available_clf.keys())}')\n",
    "        \n",
    "        self.bayesian_clfs = {\n",
    "            'RandomForestClassifier': lambda trial: RandomForestClassifier(\n",
    "                n_estimators=trial.suggest_int('n_estimators', 2, 200),\n",
    "                criterion='gini',  # or trial.suggest_categorical('criterion', ['gini', 'entropy'])\n",
    "                max_depth=trial.suggest_int('max_depth', 1, 50),\n",
    "                min_samples_leaf=trial.suggest_int('min_samples_leaf', 1, 10),\n",
    "                min_samples_split=trial.suggest_int('min_samples_split', 2, 10),\n",
    "                bootstrap=trial.suggest_categorical('bootstrap', [True, False]),\n",
    "                n_jobs=-1,\n",
    "            ),\n",
    "            'KNeighborsClassifier': lambda trial: KNeighborsClassifier(\n",
    "                n_neighbors=trial.suggest_int('n_neighbors', 2, 15),\n",
    "                weights=trial.suggest_categorical('weights', ['uniform', 'distance']),\n",
    "                algorithm=trial.suggest_categorical('algorithm', ['auto', 'ball_tree', 'kd_tree', 'brute']),\n",
    "                p=trial.suggest_int('p', 1, 2),\n",
    "                leaf_size=trial.suggest_int('leaf_size', 5, 50),\n",
    "                n_jobs=-1\n",
    "            ),\n",
    "            'DecisionTreeClassifier': lambda trial: DecisionTreeClassifier(\n",
    "                trial.suggest_categorical('criterion', ['gini', 'entropy']),\n",
    "                splitter=trial.suggest_categorical('splitter', ['best', 'random']),\n",
    "                max_depth=trial.suggest_int('max_depth', 1, 100),\n",
    "                min_samples_split=trial.suggest_int('min_samples_split', 2, 10),\n",
    "                min_weight_fraction_leaf=trial.suggest_float('min_weight_fraction_leaf', 0.0, 0.5),\n",
    "            ),\n",
    "            'SVC': lambda trial: SVC(\n",
    "                C=trial.suggest_int('C', 1, 10),\n",
    "                kernel=trial.suggest_categorical('kernel', ['linear', 'rbf', 'sigmoid']),\n",
    "                probability=trial.suggest_categorical('probability', [True, False]),\n",
    "                shrinking=trial.suggest_categorical('shrinking', [True, False]),\n",
    "                decision_function_shape=trial.suggest_categorical('decision_function_shape', ['ovo', 'ovr'])\n",
    "            ),\n",
    "            'GradientBoostingClassifier': lambda trial: GradientBoostingClassifier(\n",
    "                loss=trial.suggest_categorical('loss', ['log_loss', 'exponential']),\n",
    "                learning_rate=trial.suggest_float('learning_rate', 0.01, 0.5),\n",
    "                n_estimators=trial.suggest_int('n_estimators', 2, 200),\n",
    "                criterion=trial.suggest_categorical('criterion', ['friedman_mse', 'squared_error']),\n",
    "                max_depth=trial.suggest_int('max_depth', 1, 50),\n",
    "                min_samples_split=trial.suggest_int('min_samples_split', 2, 10),\n",
    "                min_samples_leaf=trial.suggest_int('min_samples_leaf', 1, 10),\n",
    "            )\n",
    "    }\n",
    "\n",
    "    def create_model(self, trial):\n",
    "        if self.estimator.__class__.__name__ in self.bayesian_clfs.keys():\n",
    "            model = self.bayesian_clfs[self.estimator](trial)\n",
    "        else:\n",
    "            raise ValueError('Classifier not supported')\n",
    "        return model\n",
    "    \n",
    "    def objective(self, trial):\n",
    "        model = self.create_model(trial=trial)\n",
    "        model.fit(self.X_train, self.y_train)\n",
    "        y_pred = model.predict(self.X_test)\n",
    "        eval_metric = get_scorer(self.scoring)._score_func(self.y_test, y_pred)\n",
    "        return eval_metric\n",
    "\n",
    "    def run_optimization(self, n_trials=10):\n",
    "        self.clf = self.available_clf[self.estimator.__class__.__name__]\n",
    "\n",
    "        study = optuna.create_study(direction=self.direction)\n",
    "        study.optimize(self.objective, n_trials=n_trials)\n",
    "\n",
    "        if self.estimator.__class__.__name__ in self.bayesian_clfs:\n",
    "            self.model = self.available_clf[self.estimator.__class__.__name__](**study.best_params)\n",
    "        else:\n",
    "            raise ValueError('Classifier not supported')\n",
    "\n",
    "        return study\n",
    "\n"
   ]
  },
  {
   "cell_type": "code",
   "execution_count": null,
   "metadata": {},
   "outputs": [
    {
     "ename": "ZeroDivisionError",
     "evalue": "division by zero",
     "output_type": "error",
     "traceback": [
      "\u001b[0;31m---------------------------------------------------------------------------\u001b[0m",
      "\u001b[0;31mZeroDivisionError\u001b[0m                         Traceback (most recent call last)",
      "\u001b[1;32m/home/comex/Desktop/AI4META/main.ipynb Cell 5\u001b[0m line \u001b[0;36m1\n\u001b[0;32m----> <a href='vscode-notebook-cell:/home/comex/Desktop/AI4META/main.ipynb#X13sZmlsZQ%3D%3D?line=0'>1</a>\u001b[0m \u001b[39m1\u001b[39;49m\u001b[39m/\u001b[39;49m\u001b[39m0\u001b[39;49m\n",
      "\u001b[0;31mZeroDivisionError\u001b[0m: division by zero"
     ]
    }
   ],
   "source": [
    "1/0"
   ]
  },
  {
   "cell_type": "code",
   "execution_count": null,
   "metadata": {},
   "outputs": [],
   "source": [
    "import pandas as pd\n",
    "import numpy as np\n",
    "from sklearn.linear_model  import LogisticRegression\n",
    "from validation import boostrap, nested_cv\n",
    "from validation.bayesian_opt import BayesianOptimization\n",
    "from sklearn.model_selection import train_test_split\n",
    "from dataloader import DataLoader"
   ]
  },
  {
   "cell_type": "code",
   "execution_count": null,
   "metadata": {},
   "outputs": [],
   "source": [
    "PATH = 'data/composite_dataset.csv'\n",
    "\n",
    "dataloader = DataLoader(label='group', csv_dir=PATH)\n",
    "dataloader.normalize(method='standard')\n",
    "dataloader.feature_selection(n_features=25)\n",
    "dataloader.encode_categorical()\n",
    "print(dataloader)"
   ]
  },
  {
   "cell_type": "code",
   "execution_count": null,
   "metadata": {},
   "outputs": [],
   "source": [
    "lr = LogisticRegression()\n",
    "param_grid = {'penalty': ['l1'], 'C': [1, 10, 100, 200, 500], \n",
    "            'solver': ['liblinear'], 'max_iter': [10000]}\n",
    "lr_scores = boostrap(estimator=lr, X=dataloader.X, param_grid=param_grid, y=dataloader.y, scoring='mcc', n_iterations=5) "
   ]
  },
  {
   "cell_type": "code",
   "execution_count": null,
   "metadata": {},
   "outputs": [],
   "source": [
    "clf, nested_scores = nested_cv(lr, param_grid=param_grid, inner_scoring='matthews_corrcoef', outer_scoring='matthews_corrcoef', \n",
    "                               X=dataloader.X, y=dataloader.y, num_trials=10)"
   ]
  },
  {
   "cell_type": "code",
   "execution_count": null,
   "metadata": {},
   "outputs": [],
   "source": [
    "import matplotlib.pyplot as plt\n",
    "\n",
    "plt.boxplot(nested_scores)\n",
    "plt.xlabel('Model')\n",
    "plt.ylabel('Scores')\n",
    "plt.title('Nested Cross Validation Scores')\n",
    "plt.show()\n",
    "\n"
   ]
  },
  {
   "cell_type": "code",
   "execution_count": null,
   "metadata": {},
   "outputs": [],
   "source": [
    "import sklearn\n",
    "# list(sklearn.metrics.SCORERS.keys())\n",
    "lr.fit(dataloader.X, dataloader.y)\n",
    "y_pred = lr.predict(dataloader.X)\n",
    "y_true = dataloader.y\n",
    "\n",
    "from sklearn.metrics import get_scorer\n",
    "\n",
    "# Suppose you have a scorer key, for example, 'matthews_corrcoef'\n",
    "scorer_key = 'matthews_corrcoef'\n",
    "\n",
    "# Get the scorer object using the key\n",
    "scorer = get_scorer(scorer_key)\n",
    "\n",
    "# Now, if you have true labels y_true and predicted labels y_pred\n",
    "score = scorer._score_func(y_true, y_pred)  # Replace y_true and y_pred with your actual data\n",
    "\n",
    "print(\"Score using the scorer object:\", score)\n"
   ]
  }
 ],
 "metadata": {
  "kernelspec": {
   "display_name": "Python 3 (ipykernel)",
   "language": "python",
   "name": "python3"
  },
  "language_info": {
   "codemirror_mode": {
    "name": "ipython",
    "version": 3
   },
   "file_extension": ".py",
   "mimetype": "text/x-python",
   "name": "python",
   "nbconvert_exporter": "python",
   "pygments_lexer": "ipython3",
   "version": "3.10.12"
  }
 },
 "nbformat": 4,
 "nbformat_minor": 4
}
