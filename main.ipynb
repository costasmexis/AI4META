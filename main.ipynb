{
 "cells": [
  {
   "cell_type": "code",
   "execution_count": 25,
   "metadata": {},
   "outputs": [
    {
     "name": "stdout",
     "output_type": "stream",
     "text": [
      "The autoreload extension is already loaded. To reload it, use:\n",
      "  %reload_ext autoreload\n"
     ]
    }
   ],
   "source": [
    "from machinelearning.mlpipeline import MLPipelines\n",
    "from machinelearning.featexpl import FeaturesExplanation\n",
    "\n",
    "from sklearn.linear_model import LogisticRegression\n",
    "from sklearn.discriminant_analysis import LinearDiscriminantAnalysis\n",
    "from sklearn.naive_bayes import GaussianNB\n",
    "from sklearn.ensemble import RandomForestClassifier, GradientBoostingClassifier\n",
    "from sklearn.neighbors import KNeighborsClassifier\n",
    "from sklearn.tree import DecisionTreeClassifier\n",
    "from sklearn.svm import SVC\n",
    "from xgboost import XGBClassifier\n",
    "import optuna\n",
    "import pandas as pd\n",
    "\n",
    "from lightgbm import LGBMClassifier\n",
    "from sklearn.gaussian_process import GaussianProcessClassifier\n",
    "from catboost import CatBoostClassifier\n",
    "# from sklearn.preprocessing import LabelEncoder ###\n",
    "# from sklearn.cross_decomposition import PLSRegression\n",
    "\n",
    "# model = LogisticRegression()\n",
    "# param_grid = {\n",
    "#     'C': [0.001, 0.01, 0.1, 1],\n",
    "#     'penalty': ['l1', 'l2']\n",
    "# }\n",
    "csv_dir = 'data/composite_dataset.csv'\n",
    "label = 'group'\n",
    "\n",
    "model = LogisticRegression()\n",
    "# model = RandomForestClassifier()\n",
    "# param_grid = {\n",
    "#     'n_estimators': [10, 20, 50],\n",
    "#     'max_depth': [None, 5, 10, 20],\n",
    "#     'min_samples_split': [2, 5, 10],\n",
    "#     'min_samples_leaf': [1, 2, 4]\n",
    "# }\n",
    "\n",
    "%load_ext autoreload\n",
    "%autoreload 2\n",
    "\n",
    "# mlpipe = MLPipelines(estimator=model, param_grid=param_grid, label=label, csv_dir=csv_dir)\n",
    "# mlpipe.normalize()"
   ]
  },
  {
   "cell_type": "code",
   "execution_count": 26,
   "metadata": {},
   "outputs": [
    {
     "name": "stdout",
     "output_type": "stream",
     "text": [
      "Label mapping: {0: 'Factor1:CASE', 1: 'Factor1:CONTROL'}\n"
     ]
    }
   ],
   "source": [
    "# dataloader\n",
    "mlpipe = MLPipelines(label=label, csv_dir=csv_dir, estimator=model)\n",
    "# mlpipe._encode_labels()\n",
    "mlpipe.normalize()\n",
    "# mlpipe.feature_selection(method='mrmr', n_features=10, inner_method='chi2')"
   ]
  },
  {
   "cell_type": "code",
   "execution_count": 30,
   "metadata": {},
   "outputs": [
    {
     "name": "stdout",
     "output_type": "stream",
     "text": [
      "Performing nested cross-validation for LogisticRegression...\n",
      "Trial 1 out of 2\n",
      "Outer fold 1 out of 5\n"
     ]
    },
    {
     "name": "stderr",
     "output_type": "stream",
     "text": [
      "100%|██████████| 10/10 [00:00<00:00, 12.68it/s]\n",
      "100%|██████████| 50/50 [00:04<00:00, 11.64it/s]\n"
     ]
    },
    {
     "name": "stdout",
     "output_type": "stream",
     "text": [
      "Outer fold 2 out of 5\n"
     ]
    },
    {
     "name": "stderr",
     "output_type": "stream",
     "text": [
      "100%|██████████| 10/10 [00:00<00:00, 11.84it/s]\n",
      "100%|██████████| 50/50 [00:04<00:00, 10.69it/s]\n"
     ]
    },
    {
     "name": "stdout",
     "output_type": "stream",
     "text": [
      "Outer fold 3 out of 5\n"
     ]
    },
    {
     "name": "stderr",
     "output_type": "stream",
     "text": [
      "100%|██████████| 10/10 [00:00<00:00, 12.08it/s]\n",
      "100%|██████████| 50/50 [00:04<00:00, 11.59it/s]\n"
     ]
    },
    {
     "name": "stdout",
     "output_type": "stream",
     "text": [
      "Outer fold 4 out of 5\n"
     ]
    },
    {
     "name": "stderr",
     "output_type": "stream",
     "text": [
      "100%|██████████| 10/10 [00:00<00:00, 10.94it/s]\n",
      "100%|██████████| 50/50 [00:04<00:00, 10.84it/s]\n"
     ]
    },
    {
     "name": "stdout",
     "output_type": "stream",
     "text": [
      "Outer fold 5 out of 5\n"
     ]
    },
    {
     "name": "stderr",
     "output_type": "stream",
     "text": [
      "100%|██████████| 10/10 [00:00<00:00, 10.83it/s]\n",
      "100%|██████████| 50/50 [00:04<00:00, 11.28it/s]\n"
     ]
    },
    {
     "name": "stdout",
     "output_type": "stream",
     "text": [
      "Trial 2 out of 2\n",
      "Outer fold 1 out of 5\n"
     ]
    },
    {
     "name": "stderr",
     "output_type": "stream",
     "text": [
      "100%|██████████| 10/10 [00:00<00:00, 11.78it/s]\n",
      "100%|██████████| 50/50 [00:04<00:00, 11.16it/s]\n"
     ]
    },
    {
     "name": "stdout",
     "output_type": "stream",
     "text": [
      "Outer fold 2 out of 5\n"
     ]
    },
    {
     "name": "stderr",
     "output_type": "stream",
     "text": [
      "100%|██████████| 10/10 [00:00<00:00, 11.94it/s]\n",
      "100%|██████████| 50/50 [00:04<00:00, 11.74it/s]\n"
     ]
    },
    {
     "name": "stdout",
     "output_type": "stream",
     "text": [
      "Outer fold 3 out of 5\n"
     ]
    },
    {
     "name": "stderr",
     "output_type": "stream",
     "text": [
      "100%|██████████| 10/10 [00:00<00:00, 12.62it/s]\n",
      "100%|██████████| 50/50 [00:04<00:00, 11.56it/s]\n"
     ]
    },
    {
     "name": "stdout",
     "output_type": "stream",
     "text": [
      "Outer fold 4 out of 5\n"
     ]
    },
    {
     "name": "stderr",
     "output_type": "stream",
     "text": [
      "100%|██████████| 10/10 [00:00<00:00, 12.73it/s]\n",
      "100%|██████████| 50/50 [00:04<00:00, 10.84it/s]\n"
     ]
    },
    {
     "name": "stdout",
     "output_type": "stream",
     "text": [
      "Outer fold 5 out of 5\n"
     ]
    },
    {
     "name": "stderr",
     "output_type": "stream",
     "text": [
      "100%|██████████| 10/10 [00:00<00:00, 11.47it/s]\n",
      "100%|██████████| 50/50 [00:04<00:00, 11.51it/s]\n"
     ]
    }
   ],
   "source": [
    "a=mlpipe.nested_cross_validation(optimizer='bayesian_search',n_trials=10,num_trials=2,num_features=[10,50])"
   ]
  },
  {
   "cell_type": "code",
   "execution_count": null,
   "metadata": {},
   "outputs": [],
   "source": [
    "# mlpipe.bayesian_search()\n",
    "# xg = [GradientBoostingClassifier(), LinearDiscriminantAnalysis(),  GaussianNB(), KNeighborsClassifier(), DecisionTreeClassifier(), SVC(),XGBClassifier()]\n",
    "# xg = [LinearDiscriminantAnalysis(), XGBClassifier(), GradientBoostingClassifier(), GaussianNB(), KNeighborsClassifier(), DecisionTreeClassifier(), SVC()]"
   ]
  },
  {
   "cell_type": "code",
   "execution_count": 35,
   "metadata": {},
   "outputs": [
    {
     "name": "stderr",
     "output_type": "stream",
     "text": [
      "  0%|          | 0/1 [00:00<?, ?it/s]"
     ]
    },
    {
     "name": "stdout",
     "output_type": "stream",
     "text": [
      "Starting XGBClassifier...\n",
      "Performing nested cross-validation for XGBClassifier...\n",
      "Trial 1 out of 2\n",
      "Outer fold 1 out of 5\n",
      "Outer fold 2 out of 5\n",
      "Outer fold 3 out of 5\n",
      "Outer fold 4 out of 5\n",
      "Outer fold 5 out of 5\n",
      "Trial 2 out of 2\n",
      "Outer fold 1 out of 5\n",
      "Outer fold 2 out of 5\n"
     ]
    }
   ],
   "source": [
    "fitted_mod, df = mlpipe.model_selection(optimizer='bayesian_search',n_trials=25,num_trials=2,score='matthews_corrcoef', train_best='bayesian_search',return_model=True,plot='box',scores_df=True,choose_model=True,num_features=[10,50,mlpipe.X.shape[1]],feature_selection_type='kbest',search_on=[XGBClassifier()])#, exclude=[XGBClassifier()],result=True)\n",
    "# dfa= mlpipe.model_selection(optimizer='bayesian_search',n_trials=10,num_trials=2,score='matthews_corrcoef', train_best='bayesian_search',return_model=True,plot='box',scores_df=True,search_on=[LogisticRegression()],num_features=[10,20])#, exclude=[XGBClassifier()],result=True)\n"
   ]
  },
  {
   "cell_type": "code",
   "execution_count": 34,
   "metadata": {},
   "outputs": [
    {
     "data": {
      "text/html": [
       "<style>#sk-container-id-1 {\n",
       "  /* Definition of color scheme common for light and dark mode */\n",
       "  --sklearn-color-text: black;\n",
       "  --sklearn-color-line: gray;\n",
       "  /* Definition of color scheme for unfitted estimators */\n",
       "  --sklearn-color-unfitted-level-0: #fff5e6;\n",
       "  --sklearn-color-unfitted-level-1: #f6e4d2;\n",
       "  --sklearn-color-unfitted-level-2: #ffe0b3;\n",
       "  --sklearn-color-unfitted-level-3: chocolate;\n",
       "  /* Definition of color scheme for fitted estimators */\n",
       "  --sklearn-color-fitted-level-0: #f0f8ff;\n",
       "  --sklearn-color-fitted-level-1: #d4ebff;\n",
       "  --sklearn-color-fitted-level-2: #b3dbfd;\n",
       "  --sklearn-color-fitted-level-3: cornflowerblue;\n",
       "\n",
       "  /* Specific color for light theme */\n",
       "  --sklearn-color-text-on-default-background: var(--sg-text-color, var(--theme-code-foreground, var(--jp-content-font-color1, black)));\n",
       "  --sklearn-color-background: var(--sg-background-color, var(--theme-background, var(--jp-layout-color0, white)));\n",
       "  --sklearn-color-border-box: var(--sg-text-color, var(--theme-code-foreground, var(--jp-content-font-color1, black)));\n",
       "  --sklearn-color-icon: #696969;\n",
       "\n",
       "  @media (prefers-color-scheme: dark) {\n",
       "    /* Redefinition of color scheme for dark theme */\n",
       "    --sklearn-color-text-on-default-background: var(--sg-text-color, var(--theme-code-foreground, var(--jp-content-font-color1, white)));\n",
       "    --sklearn-color-background: var(--sg-background-color, var(--theme-background, var(--jp-layout-color0, #111)));\n",
       "    --sklearn-color-border-box: var(--sg-text-color, var(--theme-code-foreground, var(--jp-content-font-color1, white)));\n",
       "    --sklearn-color-icon: #878787;\n",
       "  }\n",
       "}\n",
       "\n",
       "#sk-container-id-1 {\n",
       "  color: var(--sklearn-color-text);\n",
       "}\n",
       "\n",
       "#sk-container-id-1 pre {\n",
       "  padding: 0;\n",
       "}\n",
       "\n",
       "#sk-container-id-1 input.sk-hidden--visually {\n",
       "  border: 0;\n",
       "  clip: rect(1px 1px 1px 1px);\n",
       "  clip: rect(1px, 1px, 1px, 1px);\n",
       "  height: 1px;\n",
       "  margin: -1px;\n",
       "  overflow: hidden;\n",
       "  padding: 0;\n",
       "  position: absolute;\n",
       "  width: 1px;\n",
       "}\n",
       "\n",
       "#sk-container-id-1 div.sk-dashed-wrapped {\n",
       "  border: 1px dashed var(--sklearn-color-line);\n",
       "  margin: 0 0.4em 0.5em 0.4em;\n",
       "  box-sizing: border-box;\n",
       "  padding-bottom: 0.4em;\n",
       "  background-color: var(--sklearn-color-background);\n",
       "}\n",
       "\n",
       "#sk-container-id-1 div.sk-container {\n",
       "  /* jupyter's `normalize.less` sets `[hidden] { display: none; }`\n",
       "     but bootstrap.min.css set `[hidden] { display: none !important; }`\n",
       "     so we also need the `!important` here to be able to override the\n",
       "     default hidden behavior on the sphinx rendered scikit-learn.org.\n",
       "     See: https://github.com/scikit-learn/scikit-learn/issues/21755 */\n",
       "  display: inline-block !important;\n",
       "  position: relative;\n",
       "}\n",
       "\n",
       "#sk-container-id-1 div.sk-text-repr-fallback {\n",
       "  display: none;\n",
       "}\n",
       "\n",
       "div.sk-parallel-item,\n",
       "div.sk-serial,\n",
       "div.sk-item {\n",
       "  /* draw centered vertical line to link estimators */\n",
       "  background-image: linear-gradient(var(--sklearn-color-text-on-default-background), var(--sklearn-color-text-on-default-background));\n",
       "  background-size: 2px 100%;\n",
       "  background-repeat: no-repeat;\n",
       "  background-position: center center;\n",
       "}\n",
       "\n",
       "/* Parallel-specific style estimator block */\n",
       "\n",
       "#sk-container-id-1 div.sk-parallel-item::after {\n",
       "  content: \"\";\n",
       "  width: 100%;\n",
       "  border-bottom: 2px solid var(--sklearn-color-text-on-default-background);\n",
       "  flex-grow: 1;\n",
       "}\n",
       "\n",
       "#sk-container-id-1 div.sk-parallel {\n",
       "  display: flex;\n",
       "  align-items: stretch;\n",
       "  justify-content: center;\n",
       "  background-color: var(--sklearn-color-background);\n",
       "  position: relative;\n",
       "}\n",
       "\n",
       "#sk-container-id-1 div.sk-parallel-item {\n",
       "  display: flex;\n",
       "  flex-direction: column;\n",
       "}\n",
       "\n",
       "#sk-container-id-1 div.sk-parallel-item:first-child::after {\n",
       "  align-self: flex-end;\n",
       "  width: 50%;\n",
       "}\n",
       "\n",
       "#sk-container-id-1 div.sk-parallel-item:last-child::after {\n",
       "  align-self: flex-start;\n",
       "  width: 50%;\n",
       "}\n",
       "\n",
       "#sk-container-id-1 div.sk-parallel-item:only-child::after {\n",
       "  width: 0;\n",
       "}\n",
       "\n",
       "/* Serial-specific style estimator block */\n",
       "\n",
       "#sk-container-id-1 div.sk-serial {\n",
       "  display: flex;\n",
       "  flex-direction: column;\n",
       "  align-items: center;\n",
       "  background-color: var(--sklearn-color-background);\n",
       "  padding-right: 1em;\n",
       "  padding-left: 1em;\n",
       "}\n",
       "\n",
       "\n",
       "/* Toggleable style: style used for estimator/Pipeline/ColumnTransformer box that is\n",
       "clickable and can be expanded/collapsed.\n",
       "- Pipeline and ColumnTransformer use this feature and define the default style\n",
       "- Estimators will overwrite some part of the style using the `sk-estimator` class\n",
       "*/\n",
       "\n",
       "/* Pipeline and ColumnTransformer style (default) */\n",
       "\n",
       "#sk-container-id-1 div.sk-toggleable {\n",
       "  /* Default theme specific background. It is overwritten whether we have a\n",
       "  specific estimator or a Pipeline/ColumnTransformer */\n",
       "  background-color: var(--sklearn-color-background);\n",
       "}\n",
       "\n",
       "/* Toggleable label */\n",
       "#sk-container-id-1 label.sk-toggleable__label {\n",
       "  cursor: pointer;\n",
       "  display: block;\n",
       "  width: 100%;\n",
       "  margin-bottom: 0;\n",
       "  padding: 0.5em;\n",
       "  box-sizing: border-box;\n",
       "  text-align: center;\n",
       "}\n",
       "\n",
       "#sk-container-id-1 label.sk-toggleable__label-arrow:before {\n",
       "  /* Arrow on the left of the label */\n",
       "  content: \"▸\";\n",
       "  float: left;\n",
       "  margin-right: 0.25em;\n",
       "  color: var(--sklearn-color-icon);\n",
       "}\n",
       "\n",
       "#sk-container-id-1 label.sk-toggleable__label-arrow:hover:before {\n",
       "  color: var(--sklearn-color-text);\n",
       "}\n",
       "\n",
       "/* Toggleable content - dropdown */\n",
       "\n",
       "#sk-container-id-1 div.sk-toggleable__content {\n",
       "  max-height: 0;\n",
       "  max-width: 0;\n",
       "  overflow: hidden;\n",
       "  text-align: left;\n",
       "  /* unfitted */\n",
       "  background-color: var(--sklearn-color-unfitted-level-0);\n",
       "}\n",
       "\n",
       "#sk-container-id-1 div.sk-toggleable__content.fitted {\n",
       "  /* fitted */\n",
       "  background-color: var(--sklearn-color-fitted-level-0);\n",
       "}\n",
       "\n",
       "#sk-container-id-1 div.sk-toggleable__content pre {\n",
       "  margin: 0.2em;\n",
       "  border-radius: 0.25em;\n",
       "  color: var(--sklearn-color-text);\n",
       "  /* unfitted */\n",
       "  background-color: var(--sklearn-color-unfitted-level-0);\n",
       "}\n",
       "\n",
       "#sk-container-id-1 div.sk-toggleable__content.fitted pre {\n",
       "  /* unfitted */\n",
       "  background-color: var(--sklearn-color-fitted-level-0);\n",
       "}\n",
       "\n",
       "#sk-container-id-1 input.sk-toggleable__control:checked~div.sk-toggleable__content {\n",
       "  /* Expand drop-down */\n",
       "  max-height: 200px;\n",
       "  max-width: 100%;\n",
       "  overflow: auto;\n",
       "}\n",
       "\n",
       "#sk-container-id-1 input.sk-toggleable__control:checked~label.sk-toggleable__label-arrow:before {\n",
       "  content: \"▾\";\n",
       "}\n",
       "\n",
       "/* Pipeline/ColumnTransformer-specific style */\n",
       "\n",
       "#sk-container-id-1 div.sk-label input.sk-toggleable__control:checked~label.sk-toggleable__label {\n",
       "  color: var(--sklearn-color-text);\n",
       "  background-color: var(--sklearn-color-unfitted-level-2);\n",
       "}\n",
       "\n",
       "#sk-container-id-1 div.sk-label.fitted input.sk-toggleable__control:checked~label.sk-toggleable__label {\n",
       "  background-color: var(--sklearn-color-fitted-level-2);\n",
       "}\n",
       "\n",
       "/* Estimator-specific style */\n",
       "\n",
       "/* Colorize estimator box */\n",
       "#sk-container-id-1 div.sk-estimator input.sk-toggleable__control:checked~label.sk-toggleable__label {\n",
       "  /* unfitted */\n",
       "  background-color: var(--sklearn-color-unfitted-level-2);\n",
       "}\n",
       "\n",
       "#sk-container-id-1 div.sk-estimator.fitted input.sk-toggleable__control:checked~label.sk-toggleable__label {\n",
       "  /* fitted */\n",
       "  background-color: var(--sklearn-color-fitted-level-2);\n",
       "}\n",
       "\n",
       "#sk-container-id-1 div.sk-label label.sk-toggleable__label,\n",
       "#sk-container-id-1 div.sk-label label {\n",
       "  /* The background is the default theme color */\n",
       "  color: var(--sklearn-color-text-on-default-background);\n",
       "}\n",
       "\n",
       "/* On hover, darken the color of the background */\n",
       "#sk-container-id-1 div.sk-label:hover label.sk-toggleable__label {\n",
       "  color: var(--sklearn-color-text);\n",
       "  background-color: var(--sklearn-color-unfitted-level-2);\n",
       "}\n",
       "\n",
       "/* Label box, darken color on hover, fitted */\n",
       "#sk-container-id-1 div.sk-label.fitted:hover label.sk-toggleable__label.fitted {\n",
       "  color: var(--sklearn-color-text);\n",
       "  background-color: var(--sklearn-color-fitted-level-2);\n",
       "}\n",
       "\n",
       "/* Estimator label */\n",
       "\n",
       "#sk-container-id-1 div.sk-label label {\n",
       "  font-family: monospace;\n",
       "  font-weight: bold;\n",
       "  display: inline-block;\n",
       "  line-height: 1.2em;\n",
       "}\n",
       "\n",
       "#sk-container-id-1 div.sk-label-container {\n",
       "  text-align: center;\n",
       "}\n",
       "\n",
       "/* Estimator-specific */\n",
       "#sk-container-id-1 div.sk-estimator {\n",
       "  font-family: monospace;\n",
       "  border: 1px dotted var(--sklearn-color-border-box);\n",
       "  border-radius: 0.25em;\n",
       "  box-sizing: border-box;\n",
       "  margin-bottom: 0.5em;\n",
       "  /* unfitted */\n",
       "  background-color: var(--sklearn-color-unfitted-level-0);\n",
       "}\n",
       "\n",
       "#sk-container-id-1 div.sk-estimator.fitted {\n",
       "  /* fitted */\n",
       "  background-color: var(--sklearn-color-fitted-level-0);\n",
       "}\n",
       "\n",
       "/* on hover */\n",
       "#sk-container-id-1 div.sk-estimator:hover {\n",
       "  /* unfitted */\n",
       "  background-color: var(--sklearn-color-unfitted-level-2);\n",
       "}\n",
       "\n",
       "#sk-container-id-1 div.sk-estimator.fitted:hover {\n",
       "  /* fitted */\n",
       "  background-color: var(--sklearn-color-fitted-level-2);\n",
       "}\n",
       "\n",
       "/* Specification for estimator info (e.g. \"i\" and \"?\") */\n",
       "\n",
       "/* Common style for \"i\" and \"?\" */\n",
       "\n",
       ".sk-estimator-doc-link,\n",
       "a:link.sk-estimator-doc-link,\n",
       "a:visited.sk-estimator-doc-link {\n",
       "  float: right;\n",
       "  font-size: smaller;\n",
       "  line-height: 1em;\n",
       "  font-family: monospace;\n",
       "  background-color: var(--sklearn-color-background);\n",
       "  border-radius: 1em;\n",
       "  height: 1em;\n",
       "  width: 1em;\n",
       "  text-decoration: none !important;\n",
       "  margin-left: 1ex;\n",
       "  /* unfitted */\n",
       "  border: var(--sklearn-color-unfitted-level-1) 1pt solid;\n",
       "  color: var(--sklearn-color-unfitted-level-1);\n",
       "}\n",
       "\n",
       ".sk-estimator-doc-link.fitted,\n",
       "a:link.sk-estimator-doc-link.fitted,\n",
       "a:visited.sk-estimator-doc-link.fitted {\n",
       "  /* fitted */\n",
       "  border: var(--sklearn-color-fitted-level-1) 1pt solid;\n",
       "  color: var(--sklearn-color-fitted-level-1);\n",
       "}\n",
       "\n",
       "/* On hover */\n",
       "div.sk-estimator:hover .sk-estimator-doc-link:hover,\n",
       ".sk-estimator-doc-link:hover,\n",
       "div.sk-label-container:hover .sk-estimator-doc-link:hover,\n",
       ".sk-estimator-doc-link:hover {\n",
       "  /* unfitted */\n",
       "  background-color: var(--sklearn-color-unfitted-level-3);\n",
       "  color: var(--sklearn-color-background);\n",
       "  text-decoration: none;\n",
       "}\n",
       "\n",
       "div.sk-estimator.fitted:hover .sk-estimator-doc-link.fitted:hover,\n",
       ".sk-estimator-doc-link.fitted:hover,\n",
       "div.sk-label-container:hover .sk-estimator-doc-link.fitted:hover,\n",
       ".sk-estimator-doc-link.fitted:hover {\n",
       "  /* fitted */\n",
       "  background-color: var(--sklearn-color-fitted-level-3);\n",
       "  color: var(--sklearn-color-background);\n",
       "  text-decoration: none;\n",
       "}\n",
       "\n",
       "/* Span, style for the box shown on hovering the info icon */\n",
       ".sk-estimator-doc-link span {\n",
       "  display: none;\n",
       "  z-index: 9999;\n",
       "  position: relative;\n",
       "  font-weight: normal;\n",
       "  right: .2ex;\n",
       "  padding: .5ex;\n",
       "  margin: .5ex;\n",
       "  width: min-content;\n",
       "  min-width: 20ex;\n",
       "  max-width: 50ex;\n",
       "  color: var(--sklearn-color-text);\n",
       "  box-shadow: 2pt 2pt 4pt #999;\n",
       "  /* unfitted */\n",
       "  background: var(--sklearn-color-unfitted-level-0);\n",
       "  border: .5pt solid var(--sklearn-color-unfitted-level-3);\n",
       "}\n",
       "\n",
       ".sk-estimator-doc-link.fitted span {\n",
       "  /* fitted */\n",
       "  background: var(--sklearn-color-fitted-level-0);\n",
       "  border: var(--sklearn-color-fitted-level-3);\n",
       "}\n",
       "\n",
       ".sk-estimator-doc-link:hover span {\n",
       "  display: block;\n",
       "}\n",
       "\n",
       "/* \"?\"-specific style due to the `<a>` HTML tag */\n",
       "\n",
       "#sk-container-id-1 a.estimator_doc_link {\n",
       "  float: right;\n",
       "  font-size: 1rem;\n",
       "  line-height: 1em;\n",
       "  font-family: monospace;\n",
       "  background-color: var(--sklearn-color-background);\n",
       "  border-radius: 1rem;\n",
       "  height: 1rem;\n",
       "  width: 1rem;\n",
       "  text-decoration: none;\n",
       "  /* unfitted */\n",
       "  color: var(--sklearn-color-unfitted-level-1);\n",
       "  border: var(--sklearn-color-unfitted-level-1) 1pt solid;\n",
       "}\n",
       "\n",
       "#sk-container-id-1 a.estimator_doc_link.fitted {\n",
       "  /* fitted */\n",
       "  border: var(--sklearn-color-fitted-level-1) 1pt solid;\n",
       "  color: var(--sklearn-color-fitted-level-1);\n",
       "}\n",
       "\n",
       "/* On hover */\n",
       "#sk-container-id-1 a.estimator_doc_link:hover {\n",
       "  /* unfitted */\n",
       "  background-color: var(--sklearn-color-unfitted-level-3);\n",
       "  color: var(--sklearn-color-background);\n",
       "  text-decoration: none;\n",
       "}\n",
       "\n",
       "#sk-container-id-1 a.estimator_doc_link.fitted:hover {\n",
       "  /* fitted */\n",
       "  background-color: var(--sklearn-color-fitted-level-3);\n",
       "}\n",
       "</style><div id=\"sk-container-id-1\" class=\"sk-top-container\"><div class=\"sk-text-repr-fallback\"><pre>LogisticRegression()</pre><b>In a Jupyter environment, please rerun this cell to show the HTML representation or trust the notebook. <br />On GitHub, the HTML representation is unable to render, please try loading this page with nbviewer.org.</b></div><div class=\"sk-container\" hidden><div class=\"sk-item\"><div class=\"sk-estimator fitted sk-toggleable\"><input class=\"sk-toggleable__control sk-hidden--visually\" id=\"sk-estimator-id-1\" type=\"checkbox\" checked><label for=\"sk-estimator-id-1\" class=\"sk-toggleable__label fitted sk-toggleable__label-arrow fitted\">&nbsp;&nbsp;LogisticRegression<a class=\"sk-estimator-doc-link fitted\" rel=\"noreferrer\" target=\"_blank\" href=\"https://scikit-learn.org/1.4/modules/generated/sklearn.linear_model.LogisticRegression.html\">?<span>Documentation for LogisticRegression</span></a><span class=\"sk-estimator-doc-link fitted\">i<span>Fitted</span></span></label><div class=\"sk-toggleable__content fitted\"><pre>LogisticRegression()</pre></div> </div></div></div></div>"
      ],
      "text/plain": [
       "LogisticRegression()"
      ]
     },
     "execution_count": 34,
     "metadata": {},
     "output_type": "execute_result"
    }
   ],
   "source": [
    "fitted_mod"
   ]
  },
  {
   "cell_type": "code",
   "execution_count": 9,
   "metadata": {},
   "outputs": [
    {
     "name": "stdout",
     "output_type": "stream",
     "text": [
      "Performing nested cross-validation for LogisticRegression...\n",
      "Trial 1 out of 2\n",
      "Outer fold 1 out of 5\n",
      "Outer fold 2 out of 5\n",
      "Outer fold 3 out of 5\n",
      "Outer fold 4 out of 5\n",
      "Outer fold 5 out of 5\n",
      "Trial 2 out of 2\n",
      "Outer fold 1 out of 5\n",
      "Outer fold 2 out of 5\n",
      "Outer fold 3 out of 5\n",
      "Outer fold 4 out of 5\n",
      "Outer fold 5 out of 5\n",
      "Mon Feb 12 15:10:22 2024    profile_stats\n",
      "\n",
      "         308424 function calls (303678 primitive calls) in 36.307 seconds\n",
      "\n",
      "   Ordered by: cumulative time\n",
      "   List reduced from 970 to 10 due to restriction <10>\n",
      "\n",
      "   ncalls  tottime  percall  cumtime  percall filename:lineno(function)\n",
      "        1    0.000    0.000   36.307   36.307 {built-in method builtins.exec}\n",
      "        1    0.000    0.000   36.307   36.307 <string>:1(<module>)\n",
      "        1    0.001    0.001   36.307   36.307 /home/spyros/Desktop/AI4META/machinelearning/mlpipeline.py:143(nested_cross_validation)\n",
      "       10    0.002    0.000   36.295    3.630 /home/spyros/Desktop/AI4META/machinelearning/mlpipeline.py:115(inner_loop)\n",
      "       10    0.000    0.000   36.236    3.624 /home/spyros/.local/lib/python3.10/site-packages/optuna/integration/sklearn.py:817(fit)\n",
      "       10    0.001    0.000   36.153    3.615 /home/spyros/.local/lib/python3.10/site-packages/optuna/study/study.py:348(optimize)\n",
      "       10    0.015    0.002   36.151    3.615 /home/spyros/.local/lib/python3.10/site-packages/optuna/study/_optimize.py:37(_optimize)\n",
      "     4370   35.926    0.008   35.926    0.008 {method 'acquire' of '_thread.lock' objects}\n",
      "      840    0.005    0.000   30.048    0.036 /usr/lib/python3.10/threading.py:589(wait)\n",
      "     1040    0.010    0.000   30.042    0.029 /usr/lib/python3.10/threading.py:288(wait)\n",
      "\n",
      "\n"
     ]
    },
    {
     "data": {
      "text/plain": [
       "<pstats.Stats at 0x7f77851e6410>"
      ]
     },
     "execution_count": 9,
     "metadata": {},
     "output_type": "execute_result"
    }
   ],
   "source": [
    "import cProfile\n",
    "import pstats\n",
    "\n",
    "# Convert the function call into a string\n",
    "profile_command = \"mlpipe.nested_cross_validation(optimizer='bayesian_search')\"\n",
    "\n",
    "# Run the profiling\n",
    "cProfile.run(profile_command, 'profile_stats')\n",
    "\n",
    "# Load the stats\n",
    "p = pstats.Stats('profile_stats')\n",
    "\n",
    "# Sort and print the stats\n",
    "p.sort_stats('cumulative').print_stats(10)\n"
   ]
  },
  {
   "cell_type": "code",
   "execution_count": 7,
   "metadata": {},
   "outputs": [
    {
     "name": "stdout",
     "output_type": "stream",
     "text": [
      "[{'n_estimators': 120, 'criterion': 'entropy', 'max_depth': 2, 'min_samples_leaf': 5, 'min_samples_split': 2, 'bootstrap': True}\n",
      " {'n_estimators': 18, 'criterion': 'entropy', 'max_depth': 45, 'min_samples_leaf': 2, 'min_samples_split': 5, 'bootstrap': False}\n",
      " {'n_estimators': 134, 'criterion': 'entropy', 'max_depth': 50, 'min_samples_leaf': 3, 'min_samples_split': 6, 'bootstrap': False}\n",
      " {'n_estimators': 169, 'criterion': 'entropy', 'max_depth': 37, 'min_samples_leaf': 5, 'min_samples_split': 4, 'bootstrap': True}\n",
      " {'n_estimators': 82, 'criterion': 'entropy', 'max_depth': 15, 'min_samples_leaf': 3, 'min_samples_split': 10, 'bootstrap': True}\n",
      " {'n_estimators': 11, 'criterion': 'entropy', 'max_depth': 7, 'min_samples_leaf': 7, 'min_samples_split': 9, 'bootstrap': True}\n",
      " {'n_estimators': 41, 'criterion': 'entropy', 'max_depth': 36, 'min_samples_leaf': 2, 'min_samples_split': 2, 'bootstrap': True}\n",
      " {'n_estimators': 154, 'criterion': 'gini', 'max_depth': 4, 'min_samples_leaf': 2, 'min_samples_split': 3, 'bootstrap': True}\n",
      " {'n_estimators': 155, 'criterion': 'gini', 'max_depth': 44, 'min_samples_leaf': 3, 'min_samples_split': 10, 'bootstrap': True}\n",
      " {'n_estimators': 121, 'criterion': 'entropy', 'max_depth': 45, 'min_samples_leaf': 5, 'min_samples_split': 4, 'bootstrap': True}]\n",
      "[1.         1.         0.57735027 0.71428571 1.         0.87287156\n",
      " 0.8660254  1.         0.8660254  1.        ]\n"
     ]
    }
   ],
   "source": [
    "print(df.Best_Params[0])\n",
    "print(df.Scores[0])"
   ]
  },
  {
   "cell_type": "code",
   "execution_count": 8,
   "metadata": {},
   "outputs": [
    {
     "name": "stdout",
     "output_type": "stream",
     "text": [
      "Label mapping: {0: 'Factor1:CASE', 1: 'Factor1:CONTROL'}\n"
     ]
    },
    {
     "name": "stderr",
     "output_type": "stream",
     "text": [
      "100%|██████████| 10/10 [00:00<00:00, 19.15it/s]\n"
     ]
    }
   ],
   "source": [
    "# import pickle\n",
    "# filename = 'fitted_10.sav'\n",
    "# # # pickle.dump(fitted_mod, open(filename, 'wb'))\n",
    "# fitted_mod = pickle.load(open(filename, 'rb'))\n",
    "\n",
    "# dataloader\n",
    "mlpipe = MLPipelines(estimator=model, param_grid={}, label=label, csv_dir=csv_dir)\n",
    "# mlpipe._encode_labels()\n",
    "mlpipe.normalize()\n",
    "mlpipe.feature_selection(method='mrmr', n_features=10, inner_method='chi2')\n"
   ]
  },
  {
   "cell_type": "code",
   "execution_count": 9,
   "metadata": {},
   "outputs": [],
   "source": [
    "# fitted_mod = XGBClassifier(booster='gbtree').fit(mlpipe.X, mlpipe.y)\n",
    "# fitted_mod = RandomForestClassifier().fit(mlpipe.X, mlpipe.y)\n",
    "fitted_mod = LogisticRegression().fit(mlpipe.X, mlpipe.y)\n",
    "# fitted_mod = DecisionTreeClassifier().fit(mlpipe.X, mlpipe.y)\n",
    "# fitted_mod = GradientBoostingClassifier().fit(mlpipe.X, mlpipe.y)\n",
    "# fitted_mod = LinearDiscriminantAnalysis().fit(mlpipe.X, mlpipe.y)\n",
    "# fitted_mod = GaussianNB().fit(mlpipe.X, mlpipe.y)\n",
    "# fitted_mod = GaussianProcessClassifier().fit(mlpipe.X, mlpipe.y)\n",
    "# fitted_mod = SVC().fit(mlpipe.X, mlpipe.y)\n",
    "# fitted_mod = CatBoostClassifier(verbose=0).fit(mlpipe.X, mlpipe.y)"
   ]
  },
  {
   "cell_type": "code",
   "execution_count": 10,
   "metadata": {},
   "outputs": [],
   "source": [
    "fesel = FeaturesExplanation(best_estimator=fitted_mod, X=mlpipe.X, y=mlpipe.y, label_mapping=mlpipe.label_mapping)\n",
    "fesel.calculate_shap_values(explainer_type='linear')\n"
   ]
  },
  {
   "cell_type": "code",
   "execution_count": 11,
   "metadata": {},
   "outputs": [
    {
     "data": {
      "text/plain": [
       "(71, 10)"
      ]
     },
     "execution_count": 11,
     "metadata": {},
     "output_type": "execute_result"
    }
   ],
   "source": [
    "fesel.shap_values.shape"
   ]
  },
  {
   "cell_type": "code",
   "execution_count": 12,
   "metadata": {},
   "outputs": [
    {
     "name": "stdout",
     "output_type": "stream",
     "text": [
      "The shap values do not exist for the label 1. The following is the summary plot for all the labels.\n"
     ]
    },
    {
     "data": {
      "image/png": "[encoded data removed]",
      "text/plain": [
       "<Figure size 800x550 with 2 Axes>"
      ]
     },
     "metadata": {},
     "output_type": "display_data"
    }
   ],
   "source": [
    "fesel.plot_shap_values(plot_type='summary',label=1)"
   ]
  },
  {
   "cell_type": "code",
   "execution_count": 13,
   "metadata": {},
   "outputs": [],
   "source": [
    "import shap"
   ]
  },
  {
   "cell_type": "markdown",
   "metadata": {},
   "source": [
    "**χερατα**"
   ]
  },
  {
   "cell_type": "code",
   "execution_count": 14,
   "metadata": {},
   "outputs": [
    {
     "data": {
      "text/html": [
       "\n",
       "        <iframe\n",
       "            width=\"100%\"\n",
       "            height=\"650\"\n",
       "            src=\"http://127.0.0.1:8050/\"\n",
       "            frameborder=\"0\"\n",
       "            allowfullscreen\n",
       "            \n",
       "        ></iframe>\n",
       "        "
      ],
      "text/plain": [
       "<IPython.lib.display.IFrame at 0x7f1a4f239ff0>"
      ]
     },
     "metadata": {},
     "output_type": "display_data"
    }
   ],
   "source": [
    "from dash import Dash, dcc, html, Input, Output\n",
    "from sklearn.decomposition import PCA\n",
    "import plotly.express as px\n",
    "import plotly.graph_objects as go\n",
    "from plotly.subplots import make_subplots\n",
    "from IPython.display import display\n",
    "import ipywidgets as widgets\n",
    "\n",
    "app = Dash(__name__)\n",
    "\n",
    "app.layout = html.Div([\n",
    "    html.H4(\"Visualization of PCA's explained variance\"),\n",
    "    dcc.Graph(id=\"graph\"),\n",
    "    html.P(\"Number of components:\"),\n",
    "    dcc.Slider(\n",
    "        id='slider',\n",
    "        min=2, max=5, value=3, step=1)\n",
    "])\n",
    "\n",
    "@app.callback(\n",
    "    Output(\"graph\", \"figure\"), \n",
    "    Input(\"slider\", \"value\"))\n",
    "def run_and_plot(n_components):\n",
    "    try:\n",
    "        pca = PCA(n_components=n_components)\n",
    "        components = pca.fit_transform(fesel.X)\n",
    "\n",
    "        var = pca.explained_variance_ratio_.sum() * 100\n",
    "        labels = {i: f'PC{i+1}' for i in range(n_components)}\n",
    "\n",
    "        fig = px.scatter_matrix(\n",
    "            components,\n",
    "            color=fesel.y,\n",
    "            dimensions=range(n_components),\n",
    "            labels=labels,\n",
    "            title=f'Total Explained Variance: {var:.2f}%')\n",
    "        fig.update_traces(diagonal_visible=False)\n",
    "        return fig\n",
    "    except Exception as e:\n",
    "        return px.scatter_matrix(title=f'An error occurred: {e}')\n",
    "\n",
    "app.run_server(debug=True)"
   ]
  },
  {
   "cell_type": "code",
   "execution_count": 15,
   "metadata": {},
   "outputs": [],
   "source": [
    "def create_pca_dataframe(X, n_components):\n",
    "    \"\"\"\n",
    "    Performs PCA on the given dataset X and returns a DataFrame with the principal components.\n",
    "\n",
    "    Parameters:\n",
    "    - X: array-like, shape (n_samples, n_features)\n",
    "        The input data to perform PCA on.\n",
    "    - n_components: int\n",
    "        The number of principal components to compute.\n",
    "\n",
    "    Returns:\n",
    "    - df_pca: pandas.DataFrame\n",
    "        DataFrame containing the principal components.\n",
    "    \"\"\"\n",
    "    pca = PCA(n_components=n_components)\n",
    "    components = pca.fit_transform(X)\n",
    "    component_names = [f'PC{i+1}' for i in range(n_components)]\n",
    "    df_pca = pd.DataFrame(components, columns=component_names)\n",
    "    return df_pca\n",
    "\n",
    "df_pca = create_pca_dataframe(fesel.X, 2)\n",
    "\n",
    "# mean_shap_values = abs(fesel.shap_values.values).mean(axis=0)\n",
    "\n",
    "# fig = make_subplots(rows=1, cols=2, subplot_titles=('PCA Plot', 'SHAP Values'),\n",
    "#                     specs=[[{'type': 'scatter'}, {'type': 'bar'}]])\n",
    "\n",
    "# scatter = go.Scatter(x=df_pca['PC1'], y=df_pca['PC2'], mode='markers', name='Data Points',\n",
    "#                      marker=dict(color=fesel.y, colorscale='Viridis', showscale=True))\n",
    "\n",
    "# bar = go.Bar(x=[f'Feature {i}' for i in range(len(mean_shap_values))], y=mean_shap_values)\n",
    "\n",
    "# fig.add_trace(scatter, row=1, col=1)\n",
    "# fig.add_trace(bar, row=1, col=2)\n",
    "\n",
    "# fig.update_layout(showlegend=False, width=1000, height=500, clickmode='event+select')\n",
    "\n",
    "# fig_widget = go.FigureWidget(fig)\n",
    "\n",
    "# def update_shap_plot(trace, points, state):\n",
    "#     if points.point_inds:\n",
    "#         idx = points.point_inds[0]  \n",
    "#         shap_values_point = fesel.shap_values.values[idx]  \n",
    "#         with fig_widget.batch_update():\n",
    "#             fig_widget.data[1].y = shap_values_point\n",
    "\n",
    "# fig_widget.data[0].on_click(update_shap_plot)\n",
    "# display(fig_widget)\n"
   ]
  },
  {
   "cell_type": "code",
   "execution_count": 16,
   "metadata": {},
   "outputs": [],
   "source": [
    "def create_interactive_pca_shap_plot(df_pca, X, components, image_size=(1000, 500),top_n_features=20):\n",
    "    \"\"\"\n",
    "    Creates an interactive plot with PCA on one side and SHAP values on the other.\n",
    "\n",
    "    Parameters:\n",
    "    - df_pca: DataFrame containing PCA components.\n",
    "    - X: The original dataset used for PCA and SHAP value calculation.\n",
    "    - components: Tuple of indices for the PCA components to plot, e.g., (0, 1) for PC1 vs. PC2.\n",
    "    - image_size: Tuple for the image size, default to (1000, 500).\n",
    "\n",
    "    Returns:\n",
    "    - A Plotly FigureWidget with interactive capabilities in a Jupyter environment.\n",
    "    \"\"\"\n",
    "    pc_x, pc_y = f'PC{components[0]+1}', f'PC{components[1]+1}'\n",
    "    \n",
    "    mean_shap_values = abs(fesel.shap_values.values).mean(axis=0)\n",
    "    top_indices = mean_shap_values.argsort()[-top_n_features:][::-1]  # Indices of top features\n",
    "    top_mean_shap_values = mean_shap_values[top_indices]\n",
    "\n",
    "    fig = make_subplots(rows=1, cols=2, subplot_titles=('PCA Plot', 'SHAP Values'),\n",
    "                        specs=[[{'type': 'scatter'}, {'type': 'bar'}]],\n",
    "                        horizontal_spacing=0.1)\n",
    "    \n",
    "    scatter = go.Scatter(x=df_pca[pc_x], y=df_pca[pc_y], mode='markers', name='Data Points',\n",
    "                         marker=dict(color=fesel.y, colorscale='Viridis', showscale=True))\n",
    "    fig.add_trace(scatter, row=1, col=1)\n",
    "\n",
    "    bar = go.Bar(x=[f'Feature {i}' for i in top_indices], y=top_mean_shap_values)\n",
    "    fig.add_trace(bar, row=1, col=2)\n",
    "\n",
    "    fig.update_layout(showlegend=False, width=image_size[0], height=image_size[1], clickmode='event+select')\n",
    "\n",
    "    # Convert to FigureWidget for interactivity in Jupyter\n",
    "    fig_widget = go.FigureWidget(fig)\n",
    "\n",
    "    # Define callback function for updates\n",
    "    def update_shap_plot(trace, points, selector):\n",
    "        if points.point_inds:\n",
    "            idx = points.point_inds[0]  \n",
    "            shap_values_point = fesel.shap_values.values[idx][top_indices]  \n",
    "            with fig_widget.batch_update():\n",
    "                fig_widget.data[1].y = shap_values_point\n",
    "\n",
    "    fig_widget.data[0].on_click(update_shap_plot)\n",
    "\n",
    "    return fig_widget"
   ]
  },
  {
   "cell_type": "code",
   "execution_count": 17,
   "metadata": {},
   "outputs": [
    {
     "data": {
      "application/vnd.jupyter.widget-view+json": {
       "model_id": "81834efca3aa4845917a6f1b3dd26edc",
       "version_major": 2,
       "version_minor": 0
      },
      "text/plain": [
       "FigureWidget({\n",
       "    'data': [{'marker': {'color': array([0, 0, 0, 0, 0, 0, 0, 0, 0, 0, 0, 0, 0, 0, 0, 0, 0, 0, 0, 0, 0, 0, 0, 0,\n",
       "                                         0, 0, 0, 0, 0, 0, 0, 0, 0, 0, 0, 0, 1, 1, 1, 1, 1, 1, 1, 1, 1, 1, 1, 1,\n",
       "                                         1, 1, 1, 1, 1, 1, 1, 1, 1, 1, 1, 1, 1, 1, 1, 1, 1, 1, 1, 1, 1, 1, 1]),\n",
       "                         'colorscale': [[0.0, '#440154'], [0.1111111111111111,\n",
       "                                        '#482878'], [0.2222222222222222,\n",
       "                                        '#3e4989'], [0.3333333333333333,\n",
       "                                        '#31688e'], [0.4444444444444444,\n",
       "                                        '#26828e'], [0.5555555555555556,\n",
       "                                        '#1f9e89'], [0.6666666666666666,\n",
       "                                        '#35b779'], [0.7777777777777778,\n",
       "                                        '#6ece58'], [0.8888888888888888,\n",
       "                                        '#b5de2b'], [1.0, '#fde725']],\n",
       "                         'showscale': True},\n",
       "              'mode': 'markers',\n",
       "              'name': 'Data Points',\n",
       "              'type': 'scatter',\n",
       "              'uid': '13ff176d-4104-4b3f-a0e8-d3d8853cc9e0',\n",
       "              'x': array([-0.20742527, -0.13047098, -0.1399634 , -0.0797261 , -0.27378523,\n",
       "                          -0.07859417, -0.47190484, -0.61179269, -0.6709985 , -0.32998165,\n",
       "                          -0.29057425, -0.44248261, -0.72353984, -0.3267949 , -0.28473661,\n",
       "                          -0.2762715 , -0.36274715, -0.47701916, -0.2375834 , -0.64036884,\n",
       "                          -0.10179317, -0.50352468, -0.28848219, -0.2031922 , -0.28315036,\n",
       "                          -0.20601084, -0.23695325, -0.43896624, -0.59536534, -0.37545804,\n",
       "                          -0.38719978, -0.22111314, -0.37890569, -0.29980034, -0.40775918,\n",
       "                          -0.27911348,  0.27652111,  0.31588724,  0.4468153 ,  0.33194397,\n",
       "                           0.15759127,  0.46671712,  0.3166829 ,  0.1513525 ,  0.52042757,\n",
       "                           0.41247426,  0.33702736,  0.34168232,  0.49799844,  0.77878277,\n",
       "                           0.3387768 ,  0.36893671,  0.31184485,  0.57112887,  0.27128813,\n",
       "                           0.48096452,  0.26583499,  0.39795913,  0.07145233,  0.51466237,\n",
       "                           0.26879375,  0.20772248,  0.42778815,  0.37151565,  0.63154183,\n",
       "                           0.06287253,  0.2022225 ,  0.3880803 ,  0.42379251,  0.304468  ,\n",
       "                           0.02999847]),\n",
       "              'xaxis': 'x',\n",
       "              'y': array([-0.24401798,  0.38480715,  0.1206585 , -0.25776698, -0.56596079,\n",
       "                           0.2769635 ,  0.03791997, -0.2841047 , -0.34189335, -0.16889463,\n",
       "                           0.73865116,  0.03449765, -0.23106948, -0.05883673, -0.2617434 ,\n",
       "                           0.22773314,  0.37904398,  0.64929887, -0.197891  ,  0.56656564,\n",
       "                          -0.04487487,  0.13929504, -0.06676109, -0.2589907 ,  0.58632469,\n",
       "                           0.06760563,  0.1278585 ,  0.26727015,  0.07948056, -0.07935365,\n",
       "                          -0.28550607, -0.19753201, -0.08476301,  0.19879239, -0.18482673,\n",
       "                          -0.5056362 ,  0.24212849,  0.31780347, -0.17574633,  0.15992968,\n",
       "                          -0.17239231,  0.34737746,  0.2516879 , -0.09820632,  0.05092647,\n",
       "                          -0.05818188,  0.15792096, -0.49791781, -0.16428203, -0.00392811,\n",
       "                          -0.20944667, -0.02265248,  0.54306358, -0.03561472, -0.16025628,\n",
       "                           0.16382892,  0.50567374,  0.20920995,  0.06787734, -0.05189139,\n",
       "                          -0.27090713, -0.39590264, -0.16056159, -0.26863538,  0.23909632,\n",
       "                          -0.47386399, -0.03742954,  0.25239464,  0.00350065, -0.35043817,\n",
       "                          -0.46650792]),\n",
       "              'yaxis': 'y'},\n",
       "             {'type': 'bar',\n",
       "              'uid': '5f9b13df-d1ff-4e61-a588-ad30e2c16f87',\n",
       "              'x': [Feature 0, Feature 2, Feature 7, Feature 5, Feature 6, Feature\n",
       "                    4, Feature 8, Feature 9, Feature 3, Feature 1],\n",
       "              'xaxis': 'x2',\n",
       "              'y': array([0.38119156, 0.35325593, 0.23836753, 0.22850129, 0.22242792, 0.2135795 ,\n",
       "                          0.19223963, 0.16277289, 0.15170229, 0.07556514]),\n",
       "              'yaxis': 'y2'}],\n",
       "    'layout': {'annotations': [{'font': {'size': 16},\n",
       "                                'showarrow': False,\n",
       "                                'text': 'PCA Plot',\n",
       "                                'x': 0.225,\n",
       "                                'xanchor': 'center',\n",
       "                                'xref': 'paper',\n",
       "                                'y': 1.0,\n",
       "                                'yanchor': 'bottom',\n",
       "                                'yref': 'paper'},\n",
       "                               {'font': {'size': 16},\n",
       "                                'showarrow': False,\n",
       "                                'text': 'SHAP Values',\n",
       "                                'x': 0.775,\n",
       "                                'xanchor': 'center',\n",
       "                                'xref': 'paper',\n",
       "                                'y': 1.0,\n",
       "                                'yanchor': 'bottom',\n",
       "                                'yref': 'paper'}],\n",
       "               'clickmode': 'event+select',\n",
       "               'height': 800,\n",
       "               'showlegend': False,\n",
       "               'template': '...',\n",
       "               'width': 1200,\n",
       "               'xaxis': {'anchor': 'y', 'domain': [0.0, 0.45]},\n",
       "               'xaxis2': {'anchor': 'y2', 'domain': [0.55, 1.0]},\n",
       "               'yaxis': {'anchor': 'x', 'domain': [0.0, 1.0]},\n",
       "               'yaxis2': {'anchor': 'x2', 'domain': [0.0, 1.0]}}\n",
       "})"
      ]
     },
     "execution_count": 17,
     "metadata": {},
     "output_type": "execute_result"
    }
   ],
   "source": [
    "create_interactive_pca_shap_plot(df_pca, fesel.X, (0, 1), image_size=(1200, 800),top_n_features=30)"
   ]
  },
  {
   "cell_type": "code",
   "execution_count": null,
   "metadata": {},
   "outputs": [],
   "source": []
  }
 ],
 "metadata": {
  "kernelspec": {
   "display_name": "Python 3 (ipykernel)",
   "language": "python",
   "name": "python3"
  },
  "language_info": {
   "codemirror_mode": {
    "name": "ipython",
    "version": 3
   },
   "file_extension": ".py",
   "mimetype": "text/x-python",
   "name": "python",
   "nbconvert_exporter": "python",
   "pygments_lexer": "ipython3",
   "version": "3.10.12"
  }
 },
 "nbformat": 4,
 "nbformat_minor": 4
}
