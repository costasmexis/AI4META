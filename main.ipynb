{
 "cells": [
  {
   "cell_type": "code",
   "execution_count": 1,
   "metadata": {},
   "outputs": [],
   "source": [
    "from machinelearning.mlpipeline import MLPipelines\n",
    "\n",
    "from sklearn.linear_model import LogisticRegression\n",
    "from sklearn.ensemble import RandomForestClassifier\n",
    "from sklearn.svm import SVC\n",
    "\n",
    "model = LogisticRegression()\n",
    "param_grid = {\n",
    "    'C': [0.001, 0.01, 0.1, 1],\n",
    "    'penalty': ['l1', 'l2']\n",
    "}\n",
    "csv_dir = 'data/composite_dataset.csv'\n",
    "label = 'group'\n",
    "\n",
    "model = RandomForestClassifier()\n",
    "param_grid = {\n",
    "    'n_estimators': [10, 20, 50],\n",
    "    'max_depth': [None, 5, 10, 20],\n",
    "    'min_samples_split': [2, 5, 10],\n",
    "    'min_samples_leaf': [1, 2, 4]\n",
    "}\n",
    "\n",
    "mlpipe = MLPipelines(estimator=model, param_grid=param_grid, label=label, csv_dir=csv_dir)\n",
    "mlpipe.normalize()"
   ]
  },
  {
   "cell_type": "code",
   "execution_count": 2,
   "metadata": {},
   "outputs": [
    {
     "name": "stderr",
     "output_type": "stream",
     "text": [
      "\u001b[32m[I 2023-12-18 19:27:06,384]\u001b[0m A new study created in memory with name: no-name-5f1a8f1b-632b-4895-853a-53ae11d0d355\u001b[0m\n"
     ]
    },
    {
     "name": "stderr",
     "output_type": "stream",
     "text": [
      "\u001b[32m[I 2023-12-18 19:27:08,493]\u001b[0m Trial 0 finished with value: 0.8742857142857143 and parameters: {'n_estimators': 86, 'max_depth': 6, 'min_samples_leaf': 2, 'min_samples_split': 8, 'bootstrap': False}. Best is trial 0 with value: 0.8742857142857143.\u001b[0m\n",
      "\u001b[32m[I 2023-12-18 19:27:08,776]\u001b[0m Trial 1 finished with value: 0.7876190476190477 and parameters: {'n_estimators': 18, 'max_depth': 29, 'min_samples_leaf': 9, 'min_samples_split': 4, 'bootstrap': False}. Best is trial 0 with value: 0.8742857142857143.\u001b[0m\n",
      "\u001b[32m[I 2023-12-18 19:27:09,738]\u001b[0m Trial 2 finished with value: 0.8019047619047619 and parameters: {'n_estimators': 163, 'max_depth': 46, 'min_samples_leaf': 2, 'min_samples_split': 2, 'bootstrap': True}. Best is trial 0 with value: 0.8742857142857143.\u001b[0m\n",
      "\u001b[32m[I 2023-12-18 19:27:10,608]\u001b[0m Trial 3 finished with value: 0.7895238095238095 and parameters: {'n_estimators': 182, 'max_depth': 5, 'min_samples_leaf': 7, 'min_samples_split': 2, 'bootstrap': True}. Best is trial 0 with value: 0.8742857142857143.\u001b[0m\n",
      "\u001b[32m[I 2023-12-18 19:27:11,208]\u001b[0m Trial 4 finished with value: 0.8047619047619048 and parameters: {'n_estimators': 87, 'max_depth': 9, 'min_samples_leaf': 7, 'min_samples_split': 10, 'bootstrap': False}. Best is trial 0 with value: 0.8742857142857143.\u001b[0m\n",
      "\u001b[32m[I 2023-12-18 19:27:12,150]\u001b[0m Trial 5 finished with value: 0.7752380952380952 and parameters: {'n_estimators': 152, 'max_depth': 15, 'min_samples_leaf': 6, 'min_samples_split': 3, 'bootstrap': True}. Best is trial 0 with value: 0.8742857142857143.\u001b[0m\n",
      "\u001b[32m[I 2023-12-18 19:27:12,558]\u001b[0m Trial 6 finished with value: 0.9019047619047619 and parameters: {'n_estimators': 40, 'max_depth': 6, 'min_samples_leaf': 8, 'min_samples_split': 10, 'bootstrap': False}. Best is trial 6 with value: 0.9019047619047619.\u001b[0m\n",
      "\u001b[32m[I 2023-12-18 19:27:13,610]\u001b[0m Trial 7 finished with value: 0.8161904761904761 and parameters: {'n_estimators': 108, 'max_depth': 43, 'min_samples_leaf': 4, 'min_samples_split': 6, 'bootstrap': True}. Best is trial 6 with value: 0.9019047619047619.\u001b[0m\n",
      "\u001b[32m[I 2023-12-18 19:27:13,921]\u001b[0m Trial 8 finished with value: 0.6914285714285715 and parameters: {'n_estimators': 26, 'max_depth': 32, 'min_samples_leaf': 7, 'min_samples_split': 7, 'bootstrap': True}. Best is trial 6 with value: 0.9019047619047619.\u001b[0m\n",
      "\u001b[32m[I 2023-12-18 19:27:14,761]\u001b[0m Trial 9 finished with value: 0.8323809523809522 and parameters: {'n_estimators': 143, 'max_depth': 47, 'min_samples_leaf': 1, 'min_samples_split': 3, 'bootstrap': True}. Best is trial 6 with value: 0.9019047619047619.\u001b[0m\n"
     ]
    },
    {
     "name": "stdout",
     "output_type": "stream",
     "text": [
      "Best parameters: {'n_estimators': 40, 'max_depth': 6, 'min_samples_leaf': 8, 'min_samples_split': 10, 'bootstrap': False}\n",
      "Best accuracy: 0.9019047619047619\n"
     ]
    }
   ],
   "source": [
    "mlpipe.bayesian_search(n_trials=10)"
   ]
  },
  {
   "cell_type": "code",
   "execution_count": null,
   "metadata": {},
   "outputs": [],
   "source": []
  },
  {
   "cell_type": "code",
   "execution_count": null,
   "metadata": {},
   "outputs": [],
   "source": []
  },
  {
   "cell_type": "code",
   "execution_count": null,
   "metadata": {},
   "outputs": [],
   "source": []
  },
  {
   "cell_type": "code",
   "execution_count": null,
   "metadata": {},
   "outputs": [],
   "source": [
    "mlpipe.create_test_data()"
   ]
  },
  {
   "cell_type": "code",
   "execution_count": null,
   "metadata": {},
   "outputs": [],
   "source": [
    "eval = mlpipe.bootsrap(optimizer='random_search', \\\n",
    "    random_iter=3, n_iter=3)"
   ]
  },
  {
   "cell_type": "code",
   "execution_count": null,
   "metadata": {},
   "outputs": [],
   "source": [
    "mlpipe.random_search(n_iter=10)"
   ]
  },
  {
   "cell_type": "code",
   "execution_count": null,
   "metadata": {},
   "outputs": [],
   "source": [
    "mlpipe.best_estimator"
   ]
  },
  {
   "cell_type": "code",
   "execution_count": null,
   "metadata": {},
   "outputs": [],
   "source": [
    "class BayesianOptimization(MachineLearningEstimator):\n",
    "    \n",
    "    def __init__(self, X_train, y_train, X_test, y_test, \n",
    "                 estimator, param_grid, label, csv_dir,\n",
    "                 scoring='accuracy', direction='maximize'):\n",
    "        \n",
    "        super().__init__(estimator, param_grid, label, csv_dir)\n",
    "        self.X_train = X_train\n",
    "        self.y_train = y_train\n",
    "        self.X_test = X_test\n",
    "        self.y_test = y_test\n",
    "        \n",
    "        self.scoring = scoring\n",
    "        self.direction = direction\n",
    "\n",
    "        if self.scoring not in sklearn.metrics.SCORERS.keys():\n",
    "            raise ValueError(f'Invalid scoring metric: {self.scoring}. Select one of the following: {list(sklearn.metrics.SCORERS.keys())}')\n",
    "\n",
    "        self.available_clf = {\n",
    "            'RandomForestClassifier': RandomForestClassifier,\n",
    "            'KNeighborsClassifier': KNeighborsClassifier,\n",
    "            'DecisionTreeClassifier': DecisionTreeClassifier,\n",
    "            'SVC': SVC,\n",
    "            'GradientBoostingClassifier': GradientBoostingClassifier\n",
    "        }\n",
    "\n",
    "        if self.estimator in self.available_clf.values():\n",
    "            raise ValueError(f'Invalid estimator: {self.estimator}. Select one of the following: {list(self.available_clf.keys())}')\n",
    "        \n",
    "        self.bayesian_clfs = {\n",
    "            'RandomForestClassifier': lambda trial: RandomForestClassifier(\n",
    "                n_estimators=trial.suggest_int('n_estimators', 2, 200),\n",
    "                criterion='gini',  # or trial.suggest_categorical('criterion', ['gini', 'entropy'])\n",
    "                max_depth=trial.suggest_int('max_depth', 1, 50),\n",
    "                min_samples_leaf=trial.suggest_int('min_samples_leaf', 1, 10),\n",
    "                min_samples_split=trial.suggest_int('min_samples_split', 2, 10),\n",
    "                bootstrap=trial.suggest_categorical('bootstrap', [True, False]),\n",
    "                n_jobs=-1,\n",
    "            ),\n",
    "            'KNeighborsClassifier': lambda trial: KNeighborsClassifier(\n",
    "                n_neighbors=trial.suggest_int('n_neighbors', 2, 15),\n",
    "                weights=trial.suggest_categorical('weights', ['uniform', 'distance']),\n",
    "                algorithm=trial.suggest_categorical('algorithm', ['auto', 'ball_tree', 'kd_tree', 'brute']),\n",
    "                p=trial.suggest_int('p', 1, 2),\n",
    "                leaf_size=trial.suggest_int('leaf_size', 5, 50),\n",
    "                n_jobs=-1\n",
    "            ),\n",
    "            'DecisionTreeClassifier': lambda trial: DecisionTreeClassifier(\n",
    "                trial.suggest_categorical('criterion', ['gini', 'entropy']),\n",
    "                splitter=trial.suggest_categorical('splitter', ['best', 'random']),\n",
    "                max_depth=trial.suggest_int('max_depth', 1, 100),\n",
    "                min_samples_split=trial.suggest_int('min_samples_split', 2, 10),\n",
    "                min_weight_fraction_leaf=trial.suggest_float('min_weight_fraction_leaf', 0.0, 0.5),\n",
    "            ),\n",
    "            'SVC': lambda trial: SVC(\n",
    "                C=trial.suggest_int('C', 1, 10),\n",
    "                kernel=trial.suggest_categorical('kernel', ['linear', 'rbf', 'sigmoid']),\n",
    "                probability=trial.suggest_categorical('probability', [True, False]),\n",
    "                shrinking=trial.suggest_categorical('shrinking', [True, False]),\n",
    "                decision_function_shape=trial.suggest_categorical('decision_function_shape', ['ovo', 'ovr'])\n",
    "            ),\n",
    "            'GradientBoostingClassifier': lambda trial: GradientBoostingClassifier(\n",
    "                loss=trial.suggest_categorical('loss', ['log_loss', 'exponential']),\n",
    "                learning_rate=trial.suggest_float('learning_rate', 0.01, 0.5),\n",
    "                n_estimators=trial.suggest_int('n_estimators', 2, 200),\n",
    "                criterion=trial.suggest_categorical('criterion', ['friedman_mse', 'squared_error']),\n",
    "                max_depth=trial.suggest_int('max_depth', 1, 50),\n",
    "                min_samples_split=trial.suggest_int('min_samples_split', 2, 10),\n",
    "                min_samples_leaf=trial.suggest_int('min_samples_leaf', 1, 10),\n",
    "            )\n",
    "    }\n",
    "\n",
    "    def create_model(self, trial):\n",
    "        if self.estimator.__class__.__name__ in self.bayesian_clfs.keys():\n",
    "            model = self.bayesian_clfs[self.estimator](trial)\n",
    "        else:\n",
    "            raise ValueError('Classifier not supported')\n",
    "        return model\n",
    "    \n",
    "    def objective(self, trial):\n",
    "        model = self.create_model(trial=trial)\n",
    "        model.fit(self.X_train, self.y_train)\n",
    "        y_pred = model.predict(self.X_test)\n",
    "        eval_metric = get_scorer(self.scoring)._score_func(self.y_test, y_pred)\n",
    "        return eval_metric\n",
    "\n",
    "    def run_optimization(self, n_trials=10):\n",
    "        self.clf = self.available_clf[self.estimator.__class__.__name__]\n",
    "\n",
    "        study = optuna.create_study(direction=self.direction)\n",
    "        study.optimize(self.objective, n_trials=n_trials)\n",
    "\n",
    "        if self.estimator.__class__.__name__ in self.bayesian_clfs:\n",
    "            self.model = self.available_clf[self.estimator.__class__.__name__](**study.best_params)\n",
    "        else:\n",
    "            raise ValueError('Classifier not supported')\n",
    "\n",
    "        return study\n",
    "\n"
   ]
  },
  {
   "cell_type": "code",
   "execution_count": null,
   "metadata": {},
   "outputs": [],
   "source": [
    "1/0"
   ]
  },
  {
   "cell_type": "code",
   "execution_count": null,
   "metadata": {},
   "outputs": [],
   "source": [
    "import pandas as pd\n",
    "import numpy as np\n",
    "from sklearn.linear_model  import LogisticRegression\n",
    "from validation import boostrap, nested_cv\n",
    "from validation.bayesian_opt import BayesianOptimization\n",
    "from sklearn.model_selection import train_test_split\n",
    "from dataloader import DataLoader"
   ]
  },
  {
   "cell_type": "code",
   "execution_count": null,
   "metadata": {},
   "outputs": [],
   "source": [
    "PATH = 'data/composite_dataset.csv'\n",
    "\n",
    "dataloader = DataLoader(label='group', csv_dir=PATH)\n",
    "dataloader.normalize(method='standard')\n",
    "dataloader.feature_selection(n_features=25)\n",
    "dataloader.encode_categorical()\n",
    "print(dataloader)"
   ]
  },
  {
   "cell_type": "code",
   "execution_count": null,
   "metadata": {},
   "outputs": [],
   "source": [
    "lr = LogisticRegression()\n",
    "param_grid = {'penalty': ['l1'], 'C': [1, 10, 100, 200, 500], \n",
    "            'solver': ['liblinear'], 'max_iter': [10000]}\n",
    "lr_scores = boostrap(estimator=lr, X=dataloader.X, param_grid=param_grid, y=dataloader.y, scoring='mcc', n_iterations=5) "
   ]
  },
  {
   "cell_type": "code",
   "execution_count": null,
   "metadata": {},
   "outputs": [],
   "source": [
    "clf, nested_scores = nested_cv(lr, param_grid=param_grid, inner_scoring='matthews_corrcoef', outer_scoring='matthews_corrcoef', \n",
    "                               X=dataloader.X, y=dataloader.y, num_trials=10)"
   ]
  },
  {
   "cell_type": "code",
   "execution_count": null,
   "metadata": {},
   "outputs": [],
   "source": [
    "import matplotlib.pyplot as plt\n",
    "\n",
    "plt.boxplot(nested_scores)\n",
    "plt.xlabel('Model')\n",
    "plt.ylabel('Scores')\n",
    "plt.title('Nested Cross Validation Scores')\n",
    "plt.show()\n",
    "\n"
   ]
  },
  {
   "cell_type": "code",
   "execution_count": null,
   "metadata": {},
   "outputs": [],
   "source": [
    "import sklearn\n",
    "# list(sklearn.metrics.SCORERS.keys())\n",
    "lr.fit(dataloader.X, dataloader.y)\n",
    "y_pred = lr.predict(dataloader.X)\n",
    "y_true = dataloader.y\n",
    "\n",
    "from sklearn.metrics import get_scorer\n",
    "\n",
    "# Suppose you have a scorer key, for example, 'matthews_corrcoef'\n",
    "scorer_key = 'matthews_corrcoef'\n",
    "\n",
    "# Get the scorer object using the key\n",
    "scorer = get_scorer(scorer_key)\n",
    "\n",
    "# Now, if you have true labels y_true and predicted labels y_pred\n",
    "score = scorer._score_func(y_true, y_pred)  # Replace y_true and y_pred with your actual data\n",
    "\n",
    "print(\"Score using the scorer object:\", score)\n"
   ]
  }
 ],
 "metadata": {
  "kernelspec": {
   "display_name": "Python 3 (ipykernel)",
   "language": "python",
   "name": "python3"
  },
  "language_info": {
   "codemirror_mode": {
    "name": "ipython",
    "version": 3
   },
   "file_extension": ".py",
   "mimetype": "text/x-python",
   "name": "python",
   "nbconvert_exporter": "python",
   "pygments_lexer": "ipython3",
   "version": "3.9.10"
  }
 },
 "nbformat": 4,
 "nbformat_minor": 4
}
